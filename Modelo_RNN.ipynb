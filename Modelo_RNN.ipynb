{
  "cells": [
    {
      "cell_type": "markdown",
      "metadata": {
        "id": "view-in-github",
        "colab_type": "text"
      },
      "source": [
        "<a href=\"https://colab.research.google.com/github/Ghisbe/Alertas_pictogramas/blob/main/Modelo_RNN.ipynb\" target=\"_parent\"><img src=\"https://colab.research.google.com/assets/colab-badge.svg\" alt=\"Open In Colab\"/></a>"
      ]
    },
    {
      "cell_type": "markdown",
      "metadata": {
        "id": "Qi5SPuUz0OK1"
      },
      "source": [
        "#Redes neuronales recurrentes."
      ]
    },
    {
      "cell_type": "code",
      "execution_count": 4,
      "metadata": {
        "colab": {
          "base_uri": "https://localhost:8080/"
        },
        "id": "yyEeXzeuYoJj",
        "outputId": "bf6258f5-31e2-4211-dde0-82c8f02069d9"
      },
      "outputs": [
        {
          "output_type": "stream",
          "name": "stdout",
          "text": [
            "Mounted at /content/drive\n"
          ]
        }
      ],
      "source": [
        "from google.colab import drive\n",
        "drive.mount('/content/drive')"
      ]
    },
    {
      "cell_type": "code",
      "execution_count": 5,
      "metadata": {
        "colab": {
          "base_uri": "https://localhost:8080/"
        },
        "id": "UhM86BCTZE73",
        "outputId": "d97d012e-434f-458e-aaae-6ba41414bb1b"
      },
      "outputs": [
        {
          "output_type": "stream",
          "name": "stdout",
          "text": [
            "Requirement already satisfied: tensorflow in /usr/local/lib/python3.10/dist-packages (2.15.0)\n",
            "Requirement already satisfied: absl-py>=1.0.0 in /usr/local/lib/python3.10/dist-packages (from tensorflow) (1.4.0)\n",
            "Requirement already satisfied: astunparse>=1.6.0 in /usr/local/lib/python3.10/dist-packages (from tensorflow) (1.6.3)\n",
            "Requirement already satisfied: flatbuffers>=23.5.26 in /usr/local/lib/python3.10/dist-packages (from tensorflow) (24.3.25)\n",
            "Requirement already satisfied: gast!=0.5.0,!=0.5.1,!=0.5.2,>=0.2.1 in /usr/local/lib/python3.10/dist-packages (from tensorflow) (0.5.4)\n",
            "Requirement already satisfied: google-pasta>=0.1.1 in /usr/local/lib/python3.10/dist-packages (from tensorflow) (0.2.0)\n",
            "Requirement already satisfied: h5py>=2.9.0 in /usr/local/lib/python3.10/dist-packages (from tensorflow) (3.9.0)\n",
            "Requirement already satisfied: libclang>=13.0.0 in /usr/local/lib/python3.10/dist-packages (from tensorflow) (18.1.1)\n",
            "Requirement already satisfied: ml-dtypes~=0.2.0 in /usr/local/lib/python3.10/dist-packages (from tensorflow) (0.2.0)\n",
            "Requirement already satisfied: numpy<2.0.0,>=1.23.5 in /usr/local/lib/python3.10/dist-packages (from tensorflow) (1.25.2)\n",
            "Requirement already satisfied: opt-einsum>=2.3.2 in /usr/local/lib/python3.10/dist-packages (from tensorflow) (3.3.0)\n",
            "Requirement already satisfied: packaging in /usr/local/lib/python3.10/dist-packages (from tensorflow) (24.0)\n",
            "Requirement already satisfied: protobuf!=4.21.0,!=4.21.1,!=4.21.2,!=4.21.3,!=4.21.4,!=4.21.5,<5.0.0dev,>=3.20.3 in /usr/local/lib/python3.10/dist-packages (from tensorflow) (3.20.3)\n",
            "Requirement already satisfied: setuptools in /usr/local/lib/python3.10/dist-packages (from tensorflow) (67.7.2)\n",
            "Requirement already satisfied: six>=1.12.0 in /usr/local/lib/python3.10/dist-packages (from tensorflow) (1.16.0)\n",
            "Requirement already satisfied: termcolor>=1.1.0 in /usr/local/lib/python3.10/dist-packages (from tensorflow) (2.4.0)\n",
            "Requirement already satisfied: typing-extensions>=3.6.6 in /usr/local/lib/python3.10/dist-packages (from tensorflow) (4.11.0)\n",
            "Requirement already satisfied: wrapt<1.15,>=1.11.0 in /usr/local/lib/python3.10/dist-packages (from tensorflow) (1.14.1)\n",
            "Requirement already satisfied: tensorflow-io-gcs-filesystem>=0.23.1 in /usr/local/lib/python3.10/dist-packages (from tensorflow) (0.37.0)\n",
            "Requirement already satisfied: grpcio<2.0,>=1.24.3 in /usr/local/lib/python3.10/dist-packages (from tensorflow) (1.64.0)\n",
            "Requirement already satisfied: tensorboard<2.16,>=2.15 in /usr/local/lib/python3.10/dist-packages (from tensorflow) (2.15.2)\n",
            "Requirement already satisfied: tensorflow-estimator<2.16,>=2.15.0 in /usr/local/lib/python3.10/dist-packages (from tensorflow) (2.15.0)\n",
            "Requirement already satisfied: keras<2.16,>=2.15.0 in /usr/local/lib/python3.10/dist-packages (from tensorflow) (2.15.0)\n",
            "Requirement already satisfied: wheel<1.0,>=0.23.0 in /usr/local/lib/python3.10/dist-packages (from astunparse>=1.6.0->tensorflow) (0.43.0)\n",
            "Requirement already satisfied: google-auth<3,>=1.6.3 in /usr/local/lib/python3.10/dist-packages (from tensorboard<2.16,>=2.15->tensorflow) (2.27.0)\n",
            "Requirement already satisfied: google-auth-oauthlib<2,>=0.5 in /usr/local/lib/python3.10/dist-packages (from tensorboard<2.16,>=2.15->tensorflow) (1.2.0)\n",
            "Requirement already satisfied: markdown>=2.6.8 in /usr/local/lib/python3.10/dist-packages (from tensorboard<2.16,>=2.15->tensorflow) (3.6)\n",
            "Requirement already satisfied: requests<3,>=2.21.0 in /usr/local/lib/python3.10/dist-packages (from tensorboard<2.16,>=2.15->tensorflow) (2.31.0)\n",
            "Requirement already satisfied: tensorboard-data-server<0.8.0,>=0.7.0 in /usr/local/lib/python3.10/dist-packages (from tensorboard<2.16,>=2.15->tensorflow) (0.7.2)\n",
            "Requirement already satisfied: werkzeug>=1.0.1 in /usr/local/lib/python3.10/dist-packages (from tensorboard<2.16,>=2.15->tensorflow) (3.0.3)\n",
            "Requirement already satisfied: cachetools<6.0,>=2.0.0 in /usr/local/lib/python3.10/dist-packages (from google-auth<3,>=1.6.3->tensorboard<2.16,>=2.15->tensorflow) (5.3.3)\n",
            "Requirement already satisfied: pyasn1-modules>=0.2.1 in /usr/local/lib/python3.10/dist-packages (from google-auth<3,>=1.6.3->tensorboard<2.16,>=2.15->tensorflow) (0.4.0)\n",
            "Requirement already satisfied: rsa<5,>=3.1.4 in /usr/local/lib/python3.10/dist-packages (from google-auth<3,>=1.6.3->tensorboard<2.16,>=2.15->tensorflow) (4.9)\n",
            "Requirement already satisfied: requests-oauthlib>=0.7.0 in /usr/local/lib/python3.10/dist-packages (from google-auth-oauthlib<2,>=0.5->tensorboard<2.16,>=2.15->tensorflow) (1.3.1)\n",
            "Requirement already satisfied: charset-normalizer<4,>=2 in /usr/local/lib/python3.10/dist-packages (from requests<3,>=2.21.0->tensorboard<2.16,>=2.15->tensorflow) (3.3.2)\n",
            "Requirement already satisfied: idna<4,>=2.5 in /usr/local/lib/python3.10/dist-packages (from requests<3,>=2.21.0->tensorboard<2.16,>=2.15->tensorflow) (3.7)\n",
            "Requirement already satisfied: urllib3<3,>=1.21.1 in /usr/local/lib/python3.10/dist-packages (from requests<3,>=2.21.0->tensorboard<2.16,>=2.15->tensorflow) (2.0.7)\n",
            "Requirement already satisfied: certifi>=2017.4.17 in /usr/local/lib/python3.10/dist-packages (from requests<3,>=2.21.0->tensorboard<2.16,>=2.15->tensorflow) (2024.2.2)\n",
            "Requirement already satisfied: MarkupSafe>=2.1.1 in /usr/local/lib/python3.10/dist-packages (from werkzeug>=1.0.1->tensorboard<2.16,>=2.15->tensorflow) (2.1.5)\n",
            "Requirement already satisfied: pyasn1<0.7.0,>=0.4.6 in /usr/local/lib/python3.10/dist-packages (from pyasn1-modules>=0.2.1->google-auth<3,>=1.6.3->tensorboard<2.16,>=2.15->tensorflow) (0.6.0)\n",
            "Requirement already satisfied: oauthlib>=3.0.0 in /usr/local/lib/python3.10/dist-packages (from requests-oauthlib>=0.7.0->google-auth-oauthlib<2,>=0.5->tensorboard<2.16,>=2.15->tensorflow) (3.2.2)\n"
          ]
        }
      ],
      "source": [
        "!pip install tensorflow"
      ]
    },
    {
      "cell_type": "code",
      "execution_count": 6,
      "metadata": {
        "colab": {
          "base_uri": "https://localhost:8080/"
        },
        "id": "fcGMc_PgWENr",
        "outputId": "810d5e77-1900-4824-81e9-c08108523af5"
      },
      "outputs": [
        {
          "output_type": "stream",
          "name": "stdout",
          "text": [
            "2.15.0\n"
          ]
        }
      ],
      "source": [
        "import pandas as pd\n",
        "import numpy as np\n",
        "import matplotlib.pyplot as plt\n",
        "from sklearn.model_selection import train_test_split\n",
        "from sklearn.preprocessing import LabelEncoder\n",
        "from sklearn.metrics import confusion_matrix, classification_report\n",
        "from tensorflow.keras.preprocessing.text import Tokenizer\n",
        "from tensorflow.keras.preprocessing.sequence import pad_sequences\n",
        "from gensim.models import Word2Vec\n",
        "import gdown\n",
        "import tensorflow as tf\n",
        "print(tf.__version__)"
      ]
    },
    {
      "cell_type": "code",
      "execution_count": 7,
      "metadata": {
        "id": "a_sukdXdY05d"
      },
      "outputs": [],
      "source": [
        "url = \"https://drive.google.com/uc?id=1fs7dmydF11O-rw1xX3ZDZd-7dGew73lu\""
      ]
    },
    {
      "cell_type": "code",
      "execution_count": 8,
      "metadata": {
        "colab": {
          "base_uri": "https://localhost:8080/"
        },
        "id": "XQdqWWMeZShI",
        "outputId": "72fb8d1b-c1f6-4c96-e8f3-b4108016a724"
      },
      "outputs": [
        {
          "output_type": "stream",
          "name": "stderr",
          "text": [
            "Downloading...\n",
            "From (original): https://drive.google.com/uc?id=1fs7dmydF11O-rw1xX3ZDZd-7dGew73lu\n",
            "From (redirected): https://drive.google.com/uc?id=1fs7dmydF11O-rw1xX3ZDZd-7dGew73lu&confirm=t&uuid=b2246aa2-5c0d-44eb-87b2-f44badd8b805\n",
            "To: /content/alertas_lemma.csv\n",
            "100%|██████████| 143M/143M [00:01<00:00, 75.2MB/s]\n"
          ]
        }
      ],
      "source": [
        "output = 'alertas_lemma.csv'\n",
        "gdown.download(url, output, quiet=False)\n",
        "\n",
        "# Leer el archivo CSV en un DataFrame de pandas\n",
        "alertas = pd.read_csv(output)"
      ]
    },
    {
      "cell_type": "code",
      "execution_count": 9,
      "metadata": {
        "colab": {
          "base_uri": "https://localhost:8080/",
          "height": 271
        },
        "id": "u1tdwZfZZccS",
        "outputId": "4f642639-3562-4e84-f647-ce4a0d2ca029"
      },
      "outputs": [
        {
          "output_type": "execute_result",
          "data": {
            "text/plain": [
              "                         id                   event  \\\n",
              "0  5ed30eb3283336e2e7c8a2a8      Dust Storm Warning   \n",
              "1  5e6daf2c023f1930efa590ce  Tropical Storm Warning   \n",
              "\n",
              "                                         description  \\\n",
              "0  the national weather service in phoenix has is...   \n",
              "1   what winds thirty to forty kt and seas five t...   \n",
              "\n",
              "                                         instruction    urgency severity  \\\n",
              "0  Motorists should not drive into a dust storm. ...   Expected   Severe   \n",
              "1  Mariners should alter plans to avoid these haz...  Immediate   Severe   \n",
              "\n",
              "                                   description_token  \\\n",
              "0  ['the', 'national', 'weather', 'service', 'in'...   \n",
              "1  ['what', 'winds', 'thirty', 'to', 'forty', 'kt...   \n",
              "\n",
              "                            description_no_stopwords  \\\n",
              "0  ['national', 'weather', 'service', 'phoenix', ...   \n",
              "1  ['winds', 'thirty', 'forty', 'kt', 'seas', 'fi...   \n",
              "\n",
              "                              lemmatized_description  \n",
              "0  ['national', 'weather', 'service', 'phoenix', ...  \n",
              "1  ['winds', 'thirty', 'forty', 'kt', 'seas', 'fi...  "
            ],
            "text/html": [
              "\n",
              "  <div id=\"df-d2232ac3-afb7-406a-a112-87595dca6fcc\" class=\"colab-df-container\">\n",
              "    <div>\n",
              "<style scoped>\n",
              "    .dataframe tbody tr th:only-of-type {\n",
              "        vertical-align: middle;\n",
              "    }\n",
              "\n",
              "    .dataframe tbody tr th {\n",
              "        vertical-align: top;\n",
              "    }\n",
              "\n",
              "    .dataframe thead th {\n",
              "        text-align: right;\n",
              "    }\n",
              "</style>\n",
              "<table border=\"1\" class=\"dataframe\">\n",
              "  <thead>\n",
              "    <tr style=\"text-align: right;\">\n",
              "      <th></th>\n",
              "      <th>id</th>\n",
              "      <th>event</th>\n",
              "      <th>description</th>\n",
              "      <th>instruction</th>\n",
              "      <th>urgency</th>\n",
              "      <th>severity</th>\n",
              "      <th>description_token</th>\n",
              "      <th>description_no_stopwords</th>\n",
              "      <th>lemmatized_description</th>\n",
              "    </tr>\n",
              "  </thead>\n",
              "  <tbody>\n",
              "    <tr>\n",
              "      <th>0</th>\n",
              "      <td>5ed30eb3283336e2e7c8a2a8</td>\n",
              "      <td>Dust Storm Warning</td>\n",
              "      <td>the national weather service in phoenix has is...</td>\n",
              "      <td>Motorists should not drive into a dust storm. ...</td>\n",
              "      <td>Expected</td>\n",
              "      <td>Severe</td>\n",
              "      <td>['the', 'national', 'weather', 'service', 'in'...</td>\n",
              "      <td>['national', 'weather', 'service', 'phoenix', ...</td>\n",
              "      <td>['national', 'weather', 'service', 'phoenix', ...</td>\n",
              "    </tr>\n",
              "    <tr>\n",
              "      <th>1</th>\n",
              "      <td>5e6daf2c023f1930efa590ce</td>\n",
              "      <td>Tropical Storm Warning</td>\n",
              "      <td>what winds thirty to forty kt and seas five t...</td>\n",
              "      <td>Mariners should alter plans to avoid these haz...</td>\n",
              "      <td>Immediate</td>\n",
              "      <td>Severe</td>\n",
              "      <td>['what', 'winds', 'thirty', 'to', 'forty', 'kt...</td>\n",
              "      <td>['winds', 'thirty', 'forty', 'kt', 'seas', 'fi...</td>\n",
              "      <td>['winds', 'thirty', 'forty', 'kt', 'seas', 'fi...</td>\n",
              "    </tr>\n",
              "  </tbody>\n",
              "</table>\n",
              "</div>\n",
              "    <div class=\"colab-df-buttons\">\n",
              "\n",
              "  <div class=\"colab-df-container\">\n",
              "    <button class=\"colab-df-convert\" onclick=\"convertToInteractive('df-d2232ac3-afb7-406a-a112-87595dca6fcc')\"\n",
              "            title=\"Convert this dataframe to an interactive table.\"\n",
              "            style=\"display:none;\">\n",
              "\n",
              "  <svg xmlns=\"http://www.w3.org/2000/svg\" height=\"24px\" viewBox=\"0 -960 960 960\">\n",
              "    <path d=\"M120-120v-720h720v720H120Zm60-500h600v-160H180v160Zm220 220h160v-160H400v160Zm0 220h160v-160H400v160ZM180-400h160v-160H180v160Zm440 0h160v-160H620v160ZM180-180h160v-160H180v160Zm440 0h160v-160H620v160Z\"/>\n",
              "  </svg>\n",
              "    </button>\n",
              "\n",
              "  <style>\n",
              "    .colab-df-container {\n",
              "      display:flex;\n",
              "      gap: 12px;\n",
              "    }\n",
              "\n",
              "    .colab-df-convert {\n",
              "      background-color: #E8F0FE;\n",
              "      border: none;\n",
              "      border-radius: 50%;\n",
              "      cursor: pointer;\n",
              "      display: none;\n",
              "      fill: #1967D2;\n",
              "      height: 32px;\n",
              "      padding: 0 0 0 0;\n",
              "      width: 32px;\n",
              "    }\n",
              "\n",
              "    .colab-df-convert:hover {\n",
              "      background-color: #E2EBFA;\n",
              "      box-shadow: 0px 1px 2px rgba(60, 64, 67, 0.3), 0px 1px 3px 1px rgba(60, 64, 67, 0.15);\n",
              "      fill: #174EA6;\n",
              "    }\n",
              "\n",
              "    .colab-df-buttons div {\n",
              "      margin-bottom: 4px;\n",
              "    }\n",
              "\n",
              "    [theme=dark] .colab-df-convert {\n",
              "      background-color: #3B4455;\n",
              "      fill: #D2E3FC;\n",
              "    }\n",
              "\n",
              "    [theme=dark] .colab-df-convert:hover {\n",
              "      background-color: #434B5C;\n",
              "      box-shadow: 0px 1px 3px 1px rgba(0, 0, 0, 0.15);\n",
              "      filter: drop-shadow(0px 1px 2px rgba(0, 0, 0, 0.3));\n",
              "      fill: #FFFFFF;\n",
              "    }\n",
              "  </style>\n",
              "\n",
              "    <script>\n",
              "      const buttonEl =\n",
              "        document.querySelector('#df-d2232ac3-afb7-406a-a112-87595dca6fcc button.colab-df-convert');\n",
              "      buttonEl.style.display =\n",
              "        google.colab.kernel.accessAllowed ? 'block' : 'none';\n",
              "\n",
              "      async function convertToInteractive(key) {\n",
              "        const element = document.querySelector('#df-d2232ac3-afb7-406a-a112-87595dca6fcc');\n",
              "        const dataTable =\n",
              "          await google.colab.kernel.invokeFunction('convertToInteractive',\n",
              "                                                    [key], {});\n",
              "        if (!dataTable) return;\n",
              "\n",
              "        const docLinkHtml = 'Like what you see? Visit the ' +\n",
              "          '<a target=\"_blank\" href=https://colab.research.google.com/notebooks/data_table.ipynb>data table notebook</a>'\n",
              "          + ' to learn more about interactive tables.';\n",
              "        element.innerHTML = '';\n",
              "        dataTable['output_type'] = 'display_data';\n",
              "        await google.colab.output.renderOutput(dataTable, element);\n",
              "        const docLink = document.createElement('div');\n",
              "        docLink.innerHTML = docLinkHtml;\n",
              "        element.appendChild(docLink);\n",
              "      }\n",
              "    </script>\n",
              "  </div>\n",
              "\n",
              "\n",
              "<div id=\"df-b7a24c70-4cf6-4ddc-b1e9-8df7765c520d\">\n",
              "  <button class=\"colab-df-quickchart\" onclick=\"quickchart('df-b7a24c70-4cf6-4ddc-b1e9-8df7765c520d')\"\n",
              "            title=\"Suggest charts\"\n",
              "            style=\"display:none;\">\n",
              "\n",
              "<svg xmlns=\"http://www.w3.org/2000/svg\" height=\"24px\"viewBox=\"0 0 24 24\"\n",
              "     width=\"24px\">\n",
              "    <g>\n",
              "        <path d=\"M19 3H5c-1.1 0-2 .9-2 2v14c0 1.1.9 2 2 2h14c1.1 0 2-.9 2-2V5c0-1.1-.9-2-2-2zM9 17H7v-7h2v7zm4 0h-2V7h2v10zm4 0h-2v-4h2v4z\"/>\n",
              "    </g>\n",
              "</svg>\n",
              "  </button>\n",
              "\n",
              "<style>\n",
              "  .colab-df-quickchart {\n",
              "      --bg-color: #E8F0FE;\n",
              "      --fill-color: #1967D2;\n",
              "      --hover-bg-color: #E2EBFA;\n",
              "      --hover-fill-color: #174EA6;\n",
              "      --disabled-fill-color: #AAA;\n",
              "      --disabled-bg-color: #DDD;\n",
              "  }\n",
              "\n",
              "  [theme=dark] .colab-df-quickchart {\n",
              "      --bg-color: #3B4455;\n",
              "      --fill-color: #D2E3FC;\n",
              "      --hover-bg-color: #434B5C;\n",
              "      --hover-fill-color: #FFFFFF;\n",
              "      --disabled-bg-color: #3B4455;\n",
              "      --disabled-fill-color: #666;\n",
              "  }\n",
              "\n",
              "  .colab-df-quickchart {\n",
              "    background-color: var(--bg-color);\n",
              "    border: none;\n",
              "    border-radius: 50%;\n",
              "    cursor: pointer;\n",
              "    display: none;\n",
              "    fill: var(--fill-color);\n",
              "    height: 32px;\n",
              "    padding: 0;\n",
              "    width: 32px;\n",
              "  }\n",
              "\n",
              "  .colab-df-quickchart:hover {\n",
              "    background-color: var(--hover-bg-color);\n",
              "    box-shadow: 0 1px 2px rgba(60, 64, 67, 0.3), 0 1px 3px 1px rgba(60, 64, 67, 0.15);\n",
              "    fill: var(--button-hover-fill-color);\n",
              "  }\n",
              "\n",
              "  .colab-df-quickchart-complete:disabled,\n",
              "  .colab-df-quickchart-complete:disabled:hover {\n",
              "    background-color: var(--disabled-bg-color);\n",
              "    fill: var(--disabled-fill-color);\n",
              "    box-shadow: none;\n",
              "  }\n",
              "\n",
              "  .colab-df-spinner {\n",
              "    border: 2px solid var(--fill-color);\n",
              "    border-color: transparent;\n",
              "    border-bottom-color: var(--fill-color);\n",
              "    animation:\n",
              "      spin 1s steps(1) infinite;\n",
              "  }\n",
              "\n",
              "  @keyframes spin {\n",
              "    0% {\n",
              "      border-color: transparent;\n",
              "      border-bottom-color: var(--fill-color);\n",
              "      border-left-color: var(--fill-color);\n",
              "    }\n",
              "    20% {\n",
              "      border-color: transparent;\n",
              "      border-left-color: var(--fill-color);\n",
              "      border-top-color: var(--fill-color);\n",
              "    }\n",
              "    30% {\n",
              "      border-color: transparent;\n",
              "      border-left-color: var(--fill-color);\n",
              "      border-top-color: var(--fill-color);\n",
              "      border-right-color: var(--fill-color);\n",
              "    }\n",
              "    40% {\n",
              "      border-color: transparent;\n",
              "      border-right-color: var(--fill-color);\n",
              "      border-top-color: var(--fill-color);\n",
              "    }\n",
              "    60% {\n",
              "      border-color: transparent;\n",
              "      border-right-color: var(--fill-color);\n",
              "    }\n",
              "    80% {\n",
              "      border-color: transparent;\n",
              "      border-right-color: var(--fill-color);\n",
              "      border-bottom-color: var(--fill-color);\n",
              "    }\n",
              "    90% {\n",
              "      border-color: transparent;\n",
              "      border-bottom-color: var(--fill-color);\n",
              "    }\n",
              "  }\n",
              "</style>\n",
              "\n",
              "  <script>\n",
              "    async function quickchart(key) {\n",
              "      const quickchartButtonEl =\n",
              "        document.querySelector('#' + key + ' button');\n",
              "      quickchartButtonEl.disabled = true;  // To prevent multiple clicks.\n",
              "      quickchartButtonEl.classList.add('colab-df-spinner');\n",
              "      try {\n",
              "        const charts = await google.colab.kernel.invokeFunction(\n",
              "            'suggestCharts', [key], {});\n",
              "      } catch (error) {\n",
              "        console.error('Error during call to suggestCharts:', error);\n",
              "      }\n",
              "      quickchartButtonEl.classList.remove('colab-df-spinner');\n",
              "      quickchartButtonEl.classList.add('colab-df-quickchart-complete');\n",
              "    }\n",
              "    (() => {\n",
              "      let quickchartButtonEl =\n",
              "        document.querySelector('#df-b7a24c70-4cf6-4ddc-b1e9-8df7765c520d button');\n",
              "      quickchartButtonEl.style.display =\n",
              "        google.colab.kernel.accessAllowed ? 'block' : 'none';\n",
              "    })();\n",
              "  </script>\n",
              "</div>\n",
              "\n",
              "    </div>\n",
              "  </div>\n"
            ],
            "application/vnd.google.colaboratory.intrinsic+json": {
              "type": "dataframe",
              "variable_name": "alertas",
              "summary": "{\n  \"name\": \"alertas\",\n  \"rows\": 42076,\n  \"fields\": [\n    {\n      \"column\": \"id\",\n      \"properties\": {\n        \"dtype\": \"string\",\n        \"num_unique_values\": 42076,\n        \"samples\": [\n          \"5e6db1e1023f1930efb27b15\",\n          \"5e6dd6ad023f1930ef592a85\",\n          \"5e6dbd12023f1930efe9d3c2\"\n        ],\n        \"semantic_type\": \"\",\n        \"description\": \"\"\n      }\n    },\n    {\n      \"column\": \"event\",\n      \"properties\": {\n        \"dtype\": \"category\",\n        \"num_unique_values\": 8,\n        \"samples\": [\n          \"Tropical Storm Warning\",\n          \"Storm Warning\",\n          \"Dust Storm Warning\"\n        ],\n        \"semantic_type\": \"\",\n        \"description\": \"\"\n      }\n    },\n    {\n      \"column\": \"description\",\n      \"properties\": {\n        \"dtype\": \"string\",\n        \"num_unique_values\": 32824,\n        \"samples\": [\n          \" what southwest winds thirty-five to forty-five kt with gusts up to sixty kt and seas thirteen to eighteen feet expected   where block island sound and rhode island sound   when from one pm this afternoon to eight pm est this evening   impacts very strong winds will cause hazardous seas which could capsize or damage vessels and reduce visibility\",\n          \"a storm system will develop over the oklahoma panhandle region today and move quickly northeast toward the area this storm system will bring with it plenty of moisture and warmer air snow will spread northeast into the area tonight and continue through the day on sunday the snow will end from west to east sunday night snow accumulations four to eight inches   snow is expected to spread into the area late tonight and then   continue into sunday night   the heaviest snow is expected during the day on sunday   the snow is expected to gradually end from west to east sunday    night   impacts snow will be the main threat during this event    hazardous travel conditions are expected due to reduced    visibility from the snow and snow accumulation\",\n          \" what heavy wet snow expected precipitation may begin as rain or a mix of rain and snow this morning before changing over to all snow by midday total snow accumulations of three to seven inches with the highest amounts across the mountainous counties   where portions of central northeast and northern west virginia   when heaviest snow will fall this afternoon and evening   additional details travel could be very difficult \"\n        ],\n        \"semantic_type\": \"\",\n        \"description\": \"\"\n      }\n    },\n    {\n      \"column\": \"instruction\",\n      \"properties\": {\n        \"dtype\": \"category\",\n        \"num_unique_values\": 3773,\n        \"samples\": [\n          \"A Winter Storm Warning for wet snow means there will be snow\\ncovered roads and limited visibilities. Travel is not recommended\\nwhile the warning is in effect. If you must travel, keep an extra\\nflashlight, food and water in your vehicle in case of an\\nemergency.The latest road conditions for the state you are\\ncalling from can be obtained by calling 5 1 1.\",\n          \"Recreational boaters should remain in port...or take shelter\\nuntil winds and waves subside. Commercial vessels should prepare\\nfor very strong winds and dangerous sea conditions...and consider\\nremaining in port or taking shelter in port until winds and waves\\nsubside.\\n\\n\",\n          \"THIS WINTER STORM WARNING MEANS THAT SIGNIFICANT AMOUNTS OF SNOW,\\nSLEET AND ICE ARE EXPECTED, MAKING TRAVEL VERY HAZARDOUS OR\\nIMPOSSIBLE.\\n\\n\"\n        ],\n        \"semantic_type\": \"\",\n        \"description\": \"\"\n      }\n    },\n    {\n      \"column\": \"urgency\",\n      \"properties\": {\n        \"dtype\": \"category\",\n        \"num_unique_values\": 4,\n        \"samples\": [\n          \"Immediate\",\n          \"Future\",\n          \"Expected\"\n        ],\n        \"semantic_type\": \"\",\n        \"description\": \"\"\n      }\n    },\n    {\n      \"column\": \"severity\",\n      \"properties\": {\n        \"dtype\": \"category\",\n        \"num_unique_values\": 3,\n        \"samples\": [\n          \"Severe\",\n          \"Minor\",\n          \"Extreme\"\n        ],\n        \"semantic_type\": \"\",\n        \"description\": \"\"\n      }\n    },\n    {\n      \"column\": \"description_token\",\n      \"properties\": {\n        \"dtype\": \"string\",\n        \"num_unique_values\": 32416,\n        \"samples\": [\n          \"['a', 'storm', 'system', 'will', 'move', 'across', 'the', 'midwest', 'through', 'tonight', 'this', 'storm', 'system', 'will', 'continue', 'to', 'bring', 'snow', 'up', 'across', 'much', 'of', 'the', 'area', 'through', 'this', 'evening', 'and', 'create', 'some', 'travel', 'difficulties', 'this', 'weekend', 'snowfall', 'totals', 'will', 'range', 'from', 'two', 'to', 'four', 'inches', 'from', 'around', 'highway', 'thirty', 'down', 'to', 'the', 'interstate', 'eighty', 'corridor', 'to', 'five', 'to', 'nine', 'inches', 'south', 'of', 'interstate', 'eighty', 'the', 'highest', 'snowfall', 'amounts', 'look', 'to', 'be', 'along', 'and', 'south', 'of', 'highway', 'threefour', 'what', 'heavy', 'snow', 'additional', 'snow', 'accumulations', 'of', 'three', 'to', 'five', 'inches', 'for', 'storm', 'total', 'snow', 'accumulations', 'of', 'six', 'to', 'nine', 'inches', 'where', 'van', 'buren', 'and', 'lee', 'counties', 'when', 'until', 'nine', 'pm', 'cst', 'this', 'evening', 'additional', 'details', 'travel', 'could', 'be', 'very', 'difficult']\",\n          \"['mixed', 'precipitation', 'expected', 'wednesday', 'evening', 'transitioning', 'from', 'northwest', 'to', 'southeast', 'to', 'all', 'snow', 'thursday', 'what', 'mixed', 'precipitation', 'expected', 'this', 'evening', 'transiting', 'to', 'all', 'snow', 'by', 'six', 'am', 'thursday', 'total', 'snow', 'accumulations', 'of', 'five', 'to', 'ten', 'inches', 'with', 'locally', 'heavier', 'amounts', 'of', 'twelve', 'to', 'fourteen', 'inches', 'ice', 'accumulations', 'of', 'up', 'to', 'one', 'tenth', 'of', 'an', 'inch', 'where', 'north', 'laramie', 'range', 'when', 'from', 'six', 'pm', 'this', 'evening', 'to', 'nine', 'pm', 'mdt', 'thursday', 'impacts', 'travel', 'could', 'be', 'very', 'difficult', 'hikers', 'and', 'snowmobilers', 'may', 'become', 'disoriented', 'or', 'lost']\",\n          \"['major', 'winter', 'storm', 'likely', 'tonight', 'into', 'sunday', 'rain', 'will', 'continue', 'to', 'transition', 'to', 'snow', 'across', 'the', 'far', 'north', 'through', 'the', 'overnight', 'hours', 'possibly', 'heavy', 'at', 'times', 'into', 'sunday', 'meanwhile', 'an', 'area', 'of', 'sleet', 'and', 'freezing', 'rain', 'will', 'impact', 'the', 'central', 'highlands', 'upper', 'penobscot', 'valley', 'and', 'southern', 'aroostook', 'areas', 'up', 'to', 'two', 'inches', 'of', 'sleet', 'is', 'possible', 'for', 'central', 'portions', 'of', 'the', 'region', 'and', 'around', 'a', 'half', 'inch', 'of', 'ice', 'will', 'be', 'possible', 'across', 'portions', 'of', 'interior', 'and', 'coastal', 'downeast', 'late', 'tonight', 'through', 'sunday', 'evening', 'what', 'heavy', 'mixed', 'precipitation', 'expected', 'total', 'snow', 'accumulations', 'of', 'five', 'to', 'ten', 'inches', 'with', 'ten', 'to', '1five', 'inches', 'over', 'the', 'saint', 'john', 'valley', 'sleet', 'accumulations', 'of', '0five', 'to', '1five', 'inches', 'and', 'ice', 'accumulations', 'of', 'a', 'light', 'glaze', 'expected', 'where', 'northeast', 'aroostook', 'and', 'northwest', 'aroostook', 'counties', 'when', 'until', 'four', 'pm', 'est', 'sunday', 'additional', 'details', 'travel', 'could', 'be', 'extremely', 'dangerous']\"\n        ],\n        \"semantic_type\": \"\",\n        \"description\": \"\"\n      }\n    },\n    {\n      \"column\": \"description_no_stopwords\",\n      \"properties\": {\n        \"dtype\": \"string\",\n        \"num_unique_values\": 32344,\n        \"samples\": [\n          \"['snow', 'slowly', 'end', 'southwest', 'northeast', 'mid', 'day', 'time', 'winds', 'gradually', 'diminish', 'decrease', 'amount', 'drifting', 'blowing', 'snow', 'across', 'area', 'additional', 'snowfall', 'accumulations', 'inch', 'possible', 'snow', 'ends', 'especially', 'north', 'line', 'aledo', 'illinois', 'vinton', 'iowa', 'heavy', 'snow', 'additional', 'snow', 'accumulations', 'one', 'inch', 'portions', 'east', 'central', 'northeast', 'southeast', 'iowa', 'noon', 'cst', 'today', 'additional', 'details', 'plan', 'slippery', 'road', 'conditions', 'hazardous', 'conditions', 'could', 'impact', 'morning', 'commute']\",\n          \"['heavy', 'snow', 'blowing', 'snow', 'occurring', 'travel', 'difficult', 'impossible', 'additional', 'snow', 'accumulations', 'eight', 'eleven', 'inches', 'localized', 'amounts', 'fifteen', 'inches', 'expected', 'deltana', 'tanana', 'flats', 'six', 'pm', 'wednesday', 'additional', 'details', 'winds', 'gusting', 'high', 'thirty-five', 'mph', 'cause', 'areas', 'blowing', 'drifting', 'snow', 'heaviest', 'snow', 'along', 'east', 'richardson', 'highway']\",\n          \"['snow', 'expected', 'freezing', 'rain', 'possible', 'plan', 'difficult', 'travel', 'conditions', 'total', 'snow', 'accumulations', 'four', 'eight', 'inches', 'localized', 'amounts', 'twelve', 'inches', 'ice', 'accumulations', 'light', 'glaze', 'expected', 'yukon', 'delta', 'noon', 'today', 'six', 'pm', 'saturday', 'first', 'wave', 'snow', 'move', 'afternoon', 'taper', 'evening', 'second', 'wave', 'snow', 'start', 'push', 'midnight', 'tonight', 'additional', 'details', 'winds', 'gusting', 'high', 'fifty', 'mph', 'cause', 'areas', 'blowing', 'drifting', 'snow', 'snow', 'may', 'mix', 'freezing', 'rain', 'times', 'saturday']\"\n        ],\n        \"semantic_type\": \"\",\n        \"description\": \"\"\n      }\n    },\n    {\n      \"column\": \"lemmatized_description\",\n      \"properties\": {\n        \"dtype\": \"string\",\n        \"num_unique_values\": 32344,\n        \"samples\": [\n          \"['snow', 'slowly', 'end', 'southwest', 'northeast', 'mid', 'day', 'time', 'winds', 'gradually', 'diminish', 'decrease', 'amount', 'drifting', 'blowing', 'snow', 'across', 'area', 'additional', 'snowfall', 'accumulations', 'inch', 'possible', 'snow', 'ends', 'especially', 'north', 'line', 'aledo', 'illinois', 'vinton', 'iowa', 'heavy', 'snow', 'additional', 'snow', 'accumulations', 'one', 'inch', 'portions', 'east', 'central', 'northeast', 'southeast', 'iowa', 'noon', 'cst', 'today', 'additional', 'details', 'plan', 'slippery', 'road', 'conditions', 'hazardous', 'conditions', 'could', 'impact', 'morning', 'commute']\",\n          \"['heavy', 'snow', 'blowing', 'snow', 'occurring', 'travel', 'difficult', 'impossible', 'additional', 'snow', 'accumulations', 'eight', 'eleven', 'inches', 'localized', 'amounts', 'fifteen', 'inches', 'expected', 'deltana', 'tanana', 'flats', 'six', 'pm', 'wednesday', 'additional', 'details', 'winds', 'gusting', 'high', 'thirty-five', 'mph', 'cause', 'areas', 'blowing', 'drifting', 'snow', 'heaviest', 'snow', 'along', 'east', 'richardson', 'highway']\",\n          \"['snow', 'expected', 'freezing', 'rain', 'possible', 'plan', 'difficult', 'travel', 'conditions', 'total', 'snow', 'accumulations', 'four', 'eight', 'inches', 'localized', 'amounts', 'twelve', 'inches', 'ice', 'accumulations', 'light', 'glaze', 'expected', 'yukon', 'delta', 'noon', 'today', 'six', 'pm', 'saturday', 'first', 'wave', 'snow', 'move', 'afternoon', 'taper', 'evening', 'second', 'wave', 'snow', 'start', 'push', 'midnight', 'tonight', 'additional', 'details', 'winds', 'gusting', 'high', 'fifty', 'mph', 'cause', 'areas', 'blowing', 'drifting', 'snow', 'snow', 'may', 'mix', 'freezing', 'rain', 'times', 'saturday']\"\n        ],\n        \"semantic_type\": \"\",\n        \"description\": \"\"\n      }\n    }\n  ]\n}"
            }
          },
          "metadata": {},
          "execution_count": 9
        }
      ],
      "source": [
        "alertas.head(2)"
      ]
    },
    {
      "cell_type": "code",
      "execution_count": 10,
      "metadata": {
        "id": "cFv5uEucXEt0"
      },
      "outputs": [],
      "source": [
        "# Codificación de etiquetas\n",
        "label_encoder = LabelEncoder()\n",
        "alertas['label'] = label_encoder.fit_transform(alertas['event'])"
      ]
    },
    {
      "cell_type": "code",
      "execution_count": 11,
      "metadata": {
        "id": "tVYiXJHhXHqF"
      },
      "outputs": [],
      "source": [
        "# Dividir los datos\n",
        "train_texts, val_texts, train_labels, val_labels = train_test_split(alertas['lemmatized_description'], alertas['label'], test_size=0.2, random_state=42)"
      ]
    },
    {
      "cell_type": "code",
      "execution_count": 12,
      "metadata": {
        "colab": {
          "base_uri": "https://localhost:8080/"
        },
        "id": "Oh5XlMJg8KLG",
        "outputId": "b3cfcdd3-6f27-48a7-a9c8-9c241ef24b98"
      },
      "outputs": [
        {
          "output_type": "stream",
          "name": "stdout",
          "text": [
            "Cantidad de datos de entrenamiento: 33660\n",
            "Cantidad de datos de validación: 8416\n"
          ]
        }
      ],
      "source": [
        "print(\"Cantidad de datos de entrenamiento:\", len(train_texts))\n",
        "print(\"Cantidad de datos de validación:\", len(val_texts))"
      ]
    },
    {
      "cell_type": "code",
      "execution_count": 13,
      "metadata": {
        "id": "p8v1MD_FXKnT"
      },
      "outputs": [],
      "source": [
        "# Tokenización\n",
        "tokenizer = Tokenizer()\n",
        "tokenizer.fit_on_texts(train_texts)\n",
        "train_sequences = tokenizer.texts_to_sequences(train_texts)\n",
        "val_sequences = tokenizer.texts_to_sequences(val_texts)"
      ]
    },
    {
      "cell_type": "code",
      "execution_count": 14,
      "metadata": {
        "id": "bFsd2UjwXOuU"
      },
      "outputs": [],
      "source": [
        "# Padding de secuencias\n",
        "max_len = 100  # Longitud máxima de la secuencia\n",
        "train_padded = pad_sequences(train_sequences, maxlen=max_len, padding='post')\n",
        "val_padded = pad_sequences(val_sequences, maxlen=max_len, padding='post')"
      ]
    },
    {
      "cell_type": "code",
      "execution_count": 15,
      "metadata": {
        "id": "bgBjkHEeXd6b"
      },
      "outputs": [],
      "source": [
        "# Preparar las oraciones para el entrenamiento\n",
        "sentences = [text.split() for text in train_texts]\n",
        "# Inicializar y entrenar el modelo Word2Vec\n",
        "word2vec_model = Word2Vec(sentences, vector_size=100, window=5, min_count=1, workers=4, epochs=10)"
      ]
    },
    {
      "cell_type": "code",
      "execution_count": 16,
      "metadata": {
        "id": "sYjx6YTeXf0r",
        "outputId": "1f6c9fc2-c828-4b2e-dddb-4f69d0898ed3",
        "colab": {
          "base_uri": "https://localhost:8080/"
        }
      },
      "outputs": [
        {
          "output_type": "stream",
          "name": "stdout",
          "text": [
            "Matriz de embeddings creada con éxito.\n"
          ]
        }
      ],
      "source": [
        "# Crear la matriz de embeddings\n",
        "embedding_dim = 100\n",
        "vocab_size = len(tokenizer.word_index) + 1\n",
        "\n",
        "embedding_matrix = np.zeros((vocab_size, embedding_dim))\n",
        "for word, i in tokenizer.word_index.items():\n",
        "    if word in word2vec_model.wv:\n",
        "        embedding_matrix[i] = word2vec_model.wv[word]\n",
        "\n",
        "print(\"Matriz de embeddings creada con éxito.\")"
      ]
    },
    {
      "cell_type": "code",
      "execution_count": 17,
      "metadata": {
        "id": "Z_2F3eRZXrf0"
      },
      "outputs": [],
      "source": [
        "# Construcción del modelo\n",
        "from tensorflow.keras.models import Sequential\n",
        "from tensorflow.keras.layers import Embedding, LSTM, Dense, SpatialDropout1D\n",
        "from tensorflow.keras.optimizers import Adam"
      ]
    },
    {
      "cell_type": "code",
      "execution_count": 18,
      "metadata": {
        "id": "Qm7D81QdXioM",
        "outputId": "23e24bbd-1db3-4e07-f3f8-d8ba6e34f5c3",
        "colab": {
          "base_uri": "https://localhost:8080/"
        }
      },
      "outputs": [
        {
          "output_type": "stream",
          "name": "stdout",
          "text": [
            "Model: \"sequential\"\n",
            "_________________________________________________________________\n",
            " Layer (type)                Output Shape              Param #   \n",
            "=================================================================\n",
            " embedding (Embedding)       (None, 100, 100)          863900    \n",
            "                                                                 \n",
            " spatial_dropout1d (Spatial  (None, 100, 100)          0         \n",
            " Dropout1D)                                                      \n",
            "                                                                 \n",
            " lstm (LSTM)                 (None, 128)               117248    \n",
            "                                                                 \n",
            " dense (Dense)               (None, 8)                 1032      \n",
            "                                                                 \n",
            "=================================================================\n",
            "Total params: 982180 (3.75 MB)\n",
            "Trainable params: 118280 (462.03 KB)\n",
            "Non-trainable params: 863900 (3.30 MB)\n",
            "_________________________________________________________________\n"
          ]
        }
      ],
      "source": [
        "model = Sequential()\n",
        "model.add(Embedding(input_dim=vocab_size, output_dim=embedding_dim, input_length=max_len,\n",
        "                    weights=[embedding_matrix], trainable=False))  # Usamos los embeddings preentrenados\n",
        "model.add(SpatialDropout1D(0.2))\n",
        "model.add(LSTM(128, dropout=0.2))  # Elimina recurrent_dropout para usar cuDNN\n",
        "model.add(Dense(len(label_encoder.classes_), activation='softmax'))\n",
        "\n",
        "model.compile(loss='sparse_categorical_crossentropy', optimizer='adam', metrics=['accuracy'])\n",
        "\n",
        "# Resumen del modelo\n",
        "model.summary()\n"
      ]
    },
    {
      "cell_type": "code",
      "execution_count": 19,
      "metadata": {
        "colab": {
          "base_uri": "https://localhost:8080/"
        },
        "id": "69LxmQBBXtyT",
        "outputId": "016244a5-d8e3-481b-bc02-1eaa9fc7b36f"
      },
      "outputs": [
        {
          "output_type": "stream",
          "name": "stdout",
          "text": [
            "Epoch 1/20\n",
            "2104/2104 [==============================] - 180s 84ms/step - loss: 1.0304 - accuracy: 0.6209 - val_loss: 1.0087 - val_accuracy: 0.6268\n",
            "Epoch 2/20\n",
            "2104/2104 [==============================] - 174s 82ms/step - loss: 1.0221 - accuracy: 0.6212 - val_loss: 1.0083 - val_accuracy: 0.6268\n",
            "Epoch 3/20\n",
            "2104/2104 [==============================] - 173s 82ms/step - loss: 1.0216 - accuracy: 0.6212 - val_loss: 1.0125 - val_accuracy: 0.6268\n",
            "Epoch 4/20\n",
            "2104/2104 [==============================] - 163s 78ms/step - loss: 1.0211 - accuracy: 0.6212 - val_loss: 1.0075 - val_accuracy: 0.6268\n",
            "Epoch 5/20\n",
            "2104/2104 [==============================] - 163s 78ms/step - loss: 1.0207 - accuracy: 0.6212 - val_loss: 1.0060 - val_accuracy: 0.6268\n",
            "Epoch 6/20\n",
            "2104/2104 [==============================] - 163s 77ms/step - loss: 1.0201 - accuracy: 0.6212 - val_loss: 1.0066 - val_accuracy: 0.6268\n",
            "Epoch 7/20\n",
            "2104/2104 [==============================] - 164s 78ms/step - loss: 1.0204 - accuracy: 0.6212 - val_loss: 1.0064 - val_accuracy: 0.6268\n",
            "Epoch 8/20\n",
            "2104/2104 [==============================] - 165s 78ms/step - loss: 1.0200 - accuracy: 0.6212 - val_loss: 1.0103 - val_accuracy: 0.6268\n",
            "Epoch 9/20\n",
            "2104/2104 [==============================] - 164s 78ms/step - loss: 1.0201 - accuracy: 0.6212 - val_loss: 1.0063 - val_accuracy: 0.6268\n",
            "Epoch 10/20\n",
            "2104/2104 [==============================] - 174s 83ms/step - loss: 1.0199 - accuracy: 0.6212 - val_loss: 1.0081 - val_accuracy: 0.6268\n",
            "Epoch 11/20\n",
            "2104/2104 [==============================] - 173s 82ms/step - loss: 1.0197 - accuracy: 0.6212 - val_loss: 1.0070 - val_accuracy: 0.6268\n",
            "Epoch 12/20\n",
            "2104/2104 [==============================] - 163s 77ms/step - loss: 1.0197 - accuracy: 0.6212 - val_loss: 1.0058 - val_accuracy: 0.6268\n",
            "Epoch 13/20\n",
            "2104/2104 [==============================] - 163s 77ms/step - loss: 1.0196 - accuracy: 0.6212 - val_loss: 1.0074 - val_accuracy: 0.6268\n",
            "Epoch 14/20\n",
            "2104/2104 [==============================] - 174s 83ms/step - loss: 1.0198 - accuracy: 0.6212 - val_loss: 1.0069 - val_accuracy: 0.6268\n",
            "Epoch 15/20\n",
            "2104/2104 [==============================] - 201s 96ms/step - loss: 1.0197 - accuracy: 0.6212 - val_loss: 1.0071 - val_accuracy: 0.6268\n",
            "Epoch 16/20\n",
            "2104/2104 [==============================] - 168s 80ms/step - loss: 1.0194 - accuracy: 0.6212 - val_loss: 1.0051 - val_accuracy: 0.6268\n",
            "Epoch 17/20\n",
            "2104/2104 [==============================] - 173s 82ms/step - loss: 1.0195 - accuracy: 0.6212 - val_loss: 1.0078 - val_accuracy: 0.6268\n",
            "Epoch 18/20\n",
            "2104/2104 [==============================] - 163s 78ms/step - loss: 1.0197 - accuracy: 0.6212 - val_loss: 1.0067 - val_accuracy: 0.6268\n",
            "Epoch 19/20\n",
            "2104/2104 [==============================] - 175s 83ms/step - loss: 1.0196 - accuracy: 0.6212 - val_loss: 1.0055 - val_accuracy: 0.6268\n",
            "Epoch 20/20\n",
            "2104/2104 [==============================] - 163s 78ms/step - loss: 1.0194 - accuracy: 0.6212 - val_loss: 1.0075 - val_accuracy: 0.6268\n"
          ]
        }
      ],
      "source": [
        "# Entrenamiento del modelo\n",
        "history = model.fit(train_padded, np.array(train_labels), validation_data=(val_padded, np.array(val_labels)), epochs=20, batch_size=16)"
      ]
    },
    {
      "cell_type": "code",
      "source": [
        "#Visualizacion del entrenamiento y validacion de accuracy values\n",
        "plt.figure(figsize=(12, 4))\n",
        "plt.subplot(1, 2, 1)\n",
        "plt.plot(history.history['accuracy'])\n",
        "plt.plot(history.history['val_accuracy'])\n",
        "plt.title('Modelo accuracy')\n",
        "plt.ylabel('Accuracy')\n",
        "plt.xlabel('Epoch')\n",
        "plt.legend(['Train', 'Validation'], loc='upper left')\n",
        "\n",
        "#Visualizacion del entrenamiento y validacion de loss values\n",
        "plt.subplot(1, 2, 2)\n",
        "plt.plot(history.history['loss'])\n",
        "plt.plot(history.history['val_loss'])\n",
        "plt.title('Modelo loss')\n",
        "plt.ylabel('Loss')\n",
        "plt.xlabel('Epoch')\n",
        "plt.legend(['Train', 'Validation'], loc='upper left')\n",
        "\n",
        "plt.show()"
      ],
      "metadata": {
        "id": "53b3DL4vMjJc",
        "outputId": "2a5332ff-312a-4cbb-dd61-f6e7aa704e41",
        "colab": {
          "base_uri": "https://localhost:8080/",
          "height": 410
        }
      },
      "execution_count": 20,
      "outputs": [
        {
          "output_type": "display_data",
          "data": {
            "text/plain": [
              "<Figure size 1200x400 with 2 Axes>"
            ],
            "image/png": "[encoded data removed]"
          },
          "metadata": {}
        }
      ]
    },
    {
      "cell_type": "code",
      "execution_count": 21,
      "metadata": {
        "id": "lJZkDmB_XwHm",
        "colab": {
          "base_uri": "https://localhost:8080/"
        },
        "outputId": "6c30b20c-809d-464f-aa8f-0094986d8e11"
      },
      "outputs": [
        {
          "output_type": "stream",
          "name": "stdout",
          "text": [
            "263/263 [==============================] - 14s 50ms/step - loss: 1.0075 - accuracy: 0.6268\n",
            "Loss: 1.0074595212936401, Accuracy: 0.6267822980880737\n"
          ]
        }
      ],
      "source": [
        "#Evaluación\n",
        "loss, accuracy = model.evaluate(val_padded, np.array(val_labels))\n",
        "print(f'Loss: {loss}, Accuracy: {accuracy}')"
      ]
    },
    {
      "cell_type": "code",
      "source": [
        "# Matriz de confusión y reporte de clasificación\n",
        "val_predictions = model.predict(val_padded)\n",
        "val_predictions = np.argmax(val_predictions, axis=1)\n",
        "cm = confusion_matrix(val_labels, val_predictions)\n",
        "print(\"Confusion Matrix:\")\n",
        "print(cm)\n",
        "\n",
        "print(\"Classification Report:\")\n",
        "print(classification_report(val_labels, val_predictions, target_names=label_encoder.classes_))"
      ],
      "metadata": {
        "id": "vYyzbvStJ27I",
        "outputId": "23ec3126-c892-44a9-be36-99f8956446a4",
        "colab": {
          "base_uri": "https://localhost:8080/"
        }
      },
      "execution_count": 22,
      "outputs": [
        {
          "output_type": "stream",
          "name": "stdout",
          "text": [
            "263/263 [==============================] - 15s 56ms/step\n",
            "Confusion Matrix:\n",
            "[[   0    0    0    0    0    0   45    0]\n",
            " [   0    0    0    0    0    0   51    0]\n",
            " [   0    0    0    0    0    0  390    0]\n",
            " [   0    0    0    0    0    0  116    0]\n",
            " [   0    0    0    0    0    0  110    0]\n",
            " [   0    0    0    0    0    0   66    0]\n",
            " [   0    0    0    0    0    0 5275    0]\n",
            " [   0    0    0    0    0    0 2363    0]]\n",
            "Classification Report:\n",
            "                        precision    recall  f1-score   support\n",
            "\n",
            "    Dust Storm Warning       0.00      0.00      0.00        45\n",
            "     Ice Storm Warning       0.00      0.00      0.00        51\n",
            "         Storm Warning       0.00      0.00      0.00       390\n",
            "           Storm Watch       0.00      0.00      0.00       116\n",
            "Tropical Storm Warning       0.00      0.00      0.00       110\n",
            "  Tropical Storm Watch       0.00      0.00      0.00        66\n",
            "  Winter Storm Warning       0.63      1.00      0.77      5275\n",
            "    Winter Storm Watch       0.00      0.00      0.00      2363\n",
            "\n",
            "              accuracy                           0.63      8416\n",
            "             macro avg       0.08      0.12      0.10      8416\n",
            "          weighted avg       0.39      0.63      0.48      8416\n",
            "\n"
          ]
        },
        {
          "output_type": "stream",
          "name": "stderr",
          "text": [
            "/usr/local/lib/python3.10/dist-packages/sklearn/metrics/_classification.py:1344: UndefinedMetricWarning: Precision and F-score are ill-defined and being set to 0.0 in labels with no predicted samples. Use `zero_division` parameter to control this behavior.\n",
            "  _warn_prf(average, modifier, msg_start, len(result))\n",
            "/usr/local/lib/python3.10/dist-packages/sklearn/metrics/_classification.py:1344: UndefinedMetricWarning: Precision and F-score are ill-defined and being set to 0.0 in labels with no predicted samples. Use `zero_division` parameter to control this behavior.\n",
            "  _warn_prf(average, modifier, msg_start, len(result))\n",
            "/usr/local/lib/python3.10/dist-packages/sklearn/metrics/_classification.py:1344: UndefinedMetricWarning: Precision and F-score are ill-defined and being set to 0.0 in labels with no predicted samples. Use `zero_division` parameter to control this behavior.\n",
            "  _warn_prf(average, modifier, msg_start, len(result))\n"
          ]
        }
      ]
    },
    {
      "cell_type": "code",
      "source": [
        "#Lista de posibles eventos\n",
        "eventos = ['Dust Storm Warning', 'Tropical Storm Warning',\n",
        "       'Winter Storm Warning', 'Winter Storm Watch',\n",
        "       'Tropical Storm Watch', 'Storm Warning', 'Storm Watch',\n",
        "       'Ice Storm Warning']"
      ],
      "metadata": {
        "id": "ea0hofk5uiya"
      },
      "execution_count": 23,
      "outputs": []
    },
    {
      "cell_type": "code",
      "execution_count": 24,
      "metadata": {
        "id": "BWo0rCVFYiym"
      },
      "outputs": [],
      "source": [
        "# Función predict\n",
        "def predict(texts):\n",
        "    predictions = np.random.choice(eventos, size=len(texts))  # Usar la lista de posibles eventos\n",
        "    return predictions\n",
        "\n",
        "# Función random_prediction\n",
        "def random_prediction(alertas, n=1):\n",
        "    random_indices = np.random.choice(alertas.index, size=n, replace=False)  # Seleccionar índices aleatorios\n",
        "    random_descriptions = alertas.loc[random_indices, 'description'].values\n",
        "    predictions = predict(random_descriptions)\n",
        "    result = list(zip(random_descriptions, predictions))  # Emparejar descripciones y predicciones\n",
        "    return result"
      ]
    },
    {
      "cell_type": "code",
      "execution_count": 28,
      "metadata": {
        "id": "aPU_aWXgItfP",
        "colab": {
          "base_uri": "https://localhost:8080/"
        },
        "outputId": "07068c2e-3317-466b-a56d-d25e70e249a5"
      },
      "outputs": [
        {
          "output_type": "stream",
          "name": "stdout",
          "text": [
            "Description:  locations include the cities of buford trappers lake   timing expect prolonged periods of light to moderate snow    showers through monday night   snow accumulation an additional four to eight inches for a storm    total of eight to sixteen inches with up to twenty inches on favored west    facing slopes above nine thousand feet   impacts mountain roadways will become icy and snow packed    persistent snow through monday night will keep hazardous    travel conditions in place\n",
            "Prediction: Storm Warning\n"
          ]
        }
      ],
      "source": [
        "# Llamar a la función random_prediction\n",
        "predictions = random_prediction(alertas, n=1)\n",
        "for description, prediction in predictions:\n",
        "    print(f'Description: {description}')\n",
        "    print(f'Prediction: {prediction}')"
      ]
    },
    {
      "cell_type": "markdown",
      "metadata": {
        "id": "f6jEhQLJ0UzF"
      },
      "source": [
        "#Creacion de pictogramas."
      ]
    },
    {
      "cell_type": "markdown",
      "metadata": {
        "id": "lEGQCLpj0iaX"
      },
      "source": [
        "Un pictograma es un símbolo gráfico que transmite información o datos mediante una representación clara y simplificada ya que, ayudan a transmitir información de forma visual y más rápida."
      ]
    },
    {
      "cell_type": "code",
      "source": [
        "pip install pillow"
      ],
      "metadata": {
        "colab": {
          "base_uri": "https://localhost:8080/"
        },
        "id": "FX5eFyfExORr",
        "outputId": "9e6250b2-bf7f-4d38-bd1f-0289157e7cd9"
      },
      "execution_count": 29,
      "outputs": [
        {
          "output_type": "stream",
          "name": "stdout",
          "text": [
            "Requirement already satisfied: pillow in /usr/local/lib/python3.10/dist-packages (9.4.0)\n"
          ]
        }
      ]
    },
    {
      "cell_type": "code",
      "execution_count": 30,
      "metadata": {
        "id": "L3uqf3wj0v0g"
      },
      "outputs": [],
      "source": [
        "import numpy as np\n",
        "from PIL import Image, ImageDraw, ImageFont\n",
        "from IPython.display import display"
      ]
    },
    {
      "cell_type": "code",
      "execution_count": 31,
      "metadata": {
        "id": "9QgL0RHz0nqr"
      },
      "outputs": [],
      "source": [
        "def create_pictogram(description, event):\n",
        "    # Crear una imagen en blanco\n",
        "    img = Image.new('RGB', (300, 300), color=(255, 255, 255))\n",
        "    d = ImageDraw.Draw(img)\n",
        "\n",
        "    # Definir la fuente\n",
        "    try:\n",
        "        font = ImageFont.truetype(\"arial.ttf\", 16)\n",
        "    except IOError:\n",
        "        font = ImageFont.load_default()\n",
        "\n",
        "    # Dibujar el pictograma basado en el evento\n",
        "    if event == 'Dust Storm Warning':\n",
        "        # Triángulo blanco con bordes rojos\n",
        "        d.polygon([(100, 150), (200, 150), (150, 50)], fill=\"white\", outline=\"red\", width=3)\n",
        "        # Asteriscos amarillos\n",
        "        for _ in range(50):\n",
        "            x1 = np.random.randint(0, 300)\n",
        "            y1 = np.random.randint(0, 300)\n",
        "            d.text((x1, y1), \"*\", fill=\"yellow\", font=font)\n",
        "    elif event == 'Tropical Storm Warning':\n",
        "        # Triángulo rojo con centro blanco\n",
        "        d.polygon([(100, 150), (200, 150), (150, 50)], fill=\"red\", outline=\"black\")\n",
        "        d.polygon([(120, 140), (180, 140), (150, 90)], fill=\"white\", outline=\"black\")\n",
        "        # Espiral\n",
        "        x_center, y_center = 150, 150\n",
        "        for i in range(10, 110, 10):\n",
        "            d.ellipse([(x_center - i, y_center - i), (x_center + i, y_center + i)], outline=\"black\")\n",
        "    elif event == 'Winter Storm Warning' or event == 'Ice Storm Warning':\n",
        "        # Triángulo blanco con bordes rojos\n",
        "        d.polygon([(100, 150), (200, 150), (150, 50)], fill=\"white\", outline=\"red\", width=3)\n",
        "        # Asteriscos de color azul (simulando nieve)\n",
        "        for _ in range(30):\n",
        "            x1 = np.random.randint(0, 300)\n",
        "            y1 = np.random.randint(0, 300)\n",
        "            d.text((x1, y1), \"*\", fill=\"blue\", font=font)\n",
        "    elif event == 'Winter Storm Watch':\n",
        "        # Triángulo blanco con bordes amarillos\n",
        "        d.polygon([(100, 150), (200, 150), (150, 50)], fill=\"white\", outline=\"yellow\", width=3)\n",
        "        # Asteriscos de color azul (simulando nieve)\n",
        "        for _ in range(30):\n",
        "            x1 = np.random.randint(0, 300)\n",
        "            y1 = np.random.randint(0, 300)\n",
        "            d.text((x1, y1), \"*\", fill=\"blue\", font=font)\n",
        "    elif event == 'Tropical Storm Watch':\n",
        "        # Triángulo blanco con bordes amarillos\n",
        "        d.polygon([(100, 150), (200, 150), (150, 50)], fill=\"white\", outline=\"yellow\", width=3)\n",
        "        # Espiral\n",
        "        x_center, y_center = 150, 150\n",
        "        for i in range(10, 110, 10):\n",
        "            d.ellipse([(x_center - i, y_center - i), (x_center + i, y_center + i)], outline=\"black\")\n",
        "    elif event == 'Storm Watch':\n",
        "        # Triángulo blanco con bordes amarillos\n",
        "        d.polygon([(100, 150), (200, 150), (150, 50)], fill=\"white\", outline=\"yellow\", width=3)\n",
        "        # Líneas entrecortadas azules simulando rayos de tormenta\n",
        "        for _ in range(100):\n",
        "            x1 = np.random.randint(0, 300)\n",
        "            y1 = np.random.randint(0, 300)\n",
        "            x2 = np.random.randint(0, 300)\n",
        "            y2 = np.random.randint(0, 300)\n",
        "            d.line((x1, y1, x2, y2), fill=\"black\", width=2)\n",
        "    elif event == 'Storm Warning':\n",
        "        # Triángulo blanco con bordes rojos\n",
        "        d.polygon([(100, 150), (200, 150), (150, 50)], fill=\"white\", outline=\"red\", width=3)\n",
        "        # Líneas entrecortadas azules simulando rayos de tormenta\n",
        "        for _ in range(100):\n",
        "            x1 = np.random.randint(0, 300)\n",
        "            y1 = np.random.randint(0, 300)\n",
        "            x2 = np.random.randint(0, 300)\n",
        "            y2 = np.random.randint(0, 300)\n",
        "            d.line((x1, y1, x2, y2), fill=\"black\", width=2)\n",
        "\n",
        "    # Convertir la imagen a un array numpy\n",
        "    img_array = np.array(img)\n",
        "\n",
        "    # Mostrar la imagen utilizando matplotlib\n",
        "    plt.imshow(img_array)\n",
        "    plt.axis('off')\n",
        "    plt.show()\n"
      ]
    },
    {
      "cell_type": "code",
      "execution_count": 33,
      "metadata": {
        "id": "Fe6nVrPI0z6A",
        "colab": {
          "base_uri": "https://localhost:8080/",
          "height": 462
        },
        "outputId": "d674e24c-3158-40ef-d599-8135b2458b82"
      },
      "outputs": [
        {
          "output_type": "stream",
          "name": "stdout",
          "text": [
            "Descripción:  snow showers for higher mountain elevations into tuesday   late season pacific storm will continue to bring periods of moderate snow showers to the higher elevations of the sierra nevada into tuesday  travel into the sierra should be avoided during this time with periods as slick roads lowered visibility travel delays and chain controls are expected   what heavy snow occurring plan on difficult travel conditions including during the evening commute on tuesday additional snow accumulations of up to one inch are expected   where west slope northern sierra nevada   when until five pm tuesday   additional details be prepared for significant reductions in visibility at times\n",
            "Evento: Winter Storm Warning\n"
          ]
        },
        {
          "output_type": "display_data",
          "data": {
            "text/plain": [
              "<Figure size 640x480 with 1 Axes>"
            ],
            "image/png": "[encoded data removed]"
          },
          "metadata": {}
        }
      ],
      "source": [
        "#obtener la descripción y el evento de una fila en el dataframe\n",
        "row_index = 4  # Índice numérico de la fila en el dataframe\n",
        "description = alertas.iloc[row_index]['description']\n",
        "event = alertas.iloc[row_index]['event']\n",
        "\n",
        "#descripción y el evento para verificar\n",
        "print(\"Descripción:\", description)\n",
        "print(\"Evento:\", event)\n",
        "\n",
        "#Crear el pictograma\n",
        "create_pictogram(description, event)"
      ]
    }
  ],
  "metadata": {
    "accelerator": "GPU",
    "colab": {
      "gpuType": "T4",
      "provenance": [],
      "include_colab_link": true
    },
    "kernelspec": {
      "display_name": "Python 3",
      "name": "python3"
    },
    "language_info": {
      "name": "python"
    }
  },
  "nbformat": 4,
  "nbformat_minor": 0
}