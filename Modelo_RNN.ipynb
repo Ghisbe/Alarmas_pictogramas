{
  "cells": [
    {
      "cell_type": "markdown",
      "metadata": {
        "id": "view-in-github",
        "colab_type": "text"
      },
      "source": [
        "<a href=\"https://colab.research.google.com/github/Ghisbe/Alertas_pictogramas/blob/main/Modelo_RNN.ipynb\" target=\"_parent\"><img src=\"https://colab.research.google.com/assets/colab-badge.svg\" alt=\"Open In Colab\"/></a>"
      ]
    },
    {
      "cell_type": "markdown",
      "metadata": {
        "id": "Qi5SPuUz0OK1"
      },
      "source": [
        "#Redes neuronales recurrentes."
      ]
    },
    {
      "cell_type": "code",
      "execution_count": 1,
      "metadata": {
        "colab": {
          "base_uri": "https://localhost:8080/"
        },
        "id": "yyEeXzeuYoJj",
        "outputId": "17563e98-1e08-4af4-ecf8-9203b0d5965e"
      },
      "outputs": [
        {
          "output_type": "stream",
          "name": "stdout",
          "text": [
            "Mounted at /content/drive\n"
          ]
        }
      ],
      "source": [
        "from google.colab import drive\n",
        "drive.mount('/content/drive')"
      ]
    },
    {
      "cell_type": "code",
      "execution_count": 2,
      "metadata": {
        "colab": {
          "base_uri": "https://localhost:8080/"
        },
        "id": "UhM86BCTZE73",
        "outputId": "5adc8b62-f9dc-46ff-817e-e1e016d7cdf9"
      },
      "outputs": [
        {
          "output_type": "stream",
          "name": "stdout",
          "text": [
            "Requirement already satisfied: tensorflow in /usr/local/lib/python3.10/dist-packages (2.15.0)\n",
            "Requirement already satisfied: absl-py>=1.0.0 in /usr/local/lib/python3.10/dist-packages (from tensorflow) (1.4.0)\n",
            "Requirement already satisfied: astunparse>=1.6.0 in /usr/local/lib/python3.10/dist-packages (from tensorflow) (1.6.3)\n",
            "Requirement already satisfied: flatbuffers>=23.5.26 in /usr/local/lib/python3.10/dist-packages (from tensorflow) (24.3.25)\n",
            "Requirement already satisfied: gast!=0.5.0,!=0.5.1,!=0.5.2,>=0.2.1 in /usr/local/lib/python3.10/dist-packages (from tensorflow) (0.5.4)\n",
            "Requirement already satisfied: google-pasta>=0.1.1 in /usr/local/lib/python3.10/dist-packages (from tensorflow) (0.2.0)\n",
            "Requirement already satisfied: h5py>=2.9.0 in /usr/local/lib/python3.10/dist-packages (from tensorflow) (3.9.0)\n",
            "Requirement already satisfied: libclang>=13.0.0 in /usr/local/lib/python3.10/dist-packages (from tensorflow) (18.1.1)\n",
            "Requirement already satisfied: ml-dtypes~=0.2.0 in /usr/local/lib/python3.10/dist-packages (from tensorflow) (0.2.0)\n",
            "Requirement already satisfied: numpy<2.0.0,>=1.23.5 in /usr/local/lib/python3.10/dist-packages (from tensorflow) (1.25.2)\n",
            "Requirement already satisfied: opt-einsum>=2.3.2 in /usr/local/lib/python3.10/dist-packages (from tensorflow) (3.3.0)\n",
            "Requirement already satisfied: packaging in /usr/local/lib/python3.10/dist-packages (from tensorflow) (24.0)\n",
            "Requirement already satisfied: protobuf!=4.21.0,!=4.21.1,!=4.21.2,!=4.21.3,!=4.21.4,!=4.21.5,<5.0.0dev,>=3.20.3 in /usr/local/lib/python3.10/dist-packages (from tensorflow) (3.20.3)\n",
            "Requirement already satisfied: setuptools in /usr/local/lib/python3.10/dist-packages (from tensorflow) (67.7.2)\n",
            "Requirement already satisfied: six>=1.12.0 in /usr/local/lib/python3.10/dist-packages (from tensorflow) (1.16.0)\n",
            "Requirement already satisfied: termcolor>=1.1.0 in /usr/local/lib/python3.10/dist-packages (from tensorflow) (2.4.0)\n",
            "Requirement already satisfied: typing-extensions>=3.6.6 in /usr/local/lib/python3.10/dist-packages (from tensorflow) (4.12.0)\n",
            "Requirement already satisfied: wrapt<1.15,>=1.11.0 in /usr/local/lib/python3.10/dist-packages (from tensorflow) (1.14.1)\n",
            "Requirement already satisfied: tensorflow-io-gcs-filesystem>=0.23.1 in /usr/local/lib/python3.10/dist-packages (from tensorflow) (0.37.0)\n",
            "Requirement already satisfied: grpcio<2.0,>=1.24.3 in /usr/local/lib/python3.10/dist-packages (from tensorflow) (1.64.0)\n",
            "Requirement already satisfied: tensorboard<2.16,>=2.15 in /usr/local/lib/python3.10/dist-packages (from tensorflow) (2.15.2)\n",
            "Requirement already satisfied: tensorflow-estimator<2.16,>=2.15.0 in /usr/local/lib/python3.10/dist-packages (from tensorflow) (2.15.0)\n",
            "Requirement already satisfied: keras<2.16,>=2.15.0 in /usr/local/lib/python3.10/dist-packages (from tensorflow) (2.15.0)\n",
            "Requirement already satisfied: wheel<1.0,>=0.23.0 in /usr/local/lib/python3.10/dist-packages (from astunparse>=1.6.0->tensorflow) (0.43.0)\n",
            "Requirement already satisfied: google-auth<3,>=1.6.3 in /usr/local/lib/python3.10/dist-packages (from tensorboard<2.16,>=2.15->tensorflow) (2.27.0)\n",
            "Requirement already satisfied: google-auth-oauthlib<2,>=0.5 in /usr/local/lib/python3.10/dist-packages (from tensorboard<2.16,>=2.15->tensorflow) (1.2.0)\n",
            "Requirement already satisfied: markdown>=2.6.8 in /usr/local/lib/python3.10/dist-packages (from tensorboard<2.16,>=2.15->tensorflow) (3.6)\n",
            "Requirement already satisfied: requests<3,>=2.21.0 in /usr/local/lib/python3.10/dist-packages (from tensorboard<2.16,>=2.15->tensorflow) (2.31.0)\n",
            "Requirement already satisfied: tensorboard-data-server<0.8.0,>=0.7.0 in /usr/local/lib/python3.10/dist-packages (from tensorboard<2.16,>=2.15->tensorflow) (0.7.2)\n",
            "Requirement already satisfied: werkzeug>=1.0.1 in /usr/local/lib/python3.10/dist-packages (from tensorboard<2.16,>=2.15->tensorflow) (3.0.3)\n",
            "Requirement already satisfied: cachetools<6.0,>=2.0.0 in /usr/local/lib/python3.10/dist-packages (from google-auth<3,>=1.6.3->tensorboard<2.16,>=2.15->tensorflow) (5.3.3)\n",
            "Requirement already satisfied: pyasn1-modules>=0.2.1 in /usr/local/lib/python3.10/dist-packages (from google-auth<3,>=1.6.3->tensorboard<2.16,>=2.15->tensorflow) (0.4.0)\n",
            "Requirement already satisfied: rsa<5,>=3.1.4 in /usr/local/lib/python3.10/dist-packages (from google-auth<3,>=1.6.3->tensorboard<2.16,>=2.15->tensorflow) (4.9)\n",
            "Requirement already satisfied: requests-oauthlib>=0.7.0 in /usr/local/lib/python3.10/dist-packages (from google-auth-oauthlib<2,>=0.5->tensorboard<2.16,>=2.15->tensorflow) (1.3.1)\n",
            "Requirement already satisfied: charset-normalizer<4,>=2 in /usr/local/lib/python3.10/dist-packages (from requests<3,>=2.21.0->tensorboard<2.16,>=2.15->tensorflow) (3.3.2)\n",
            "Requirement already satisfied: idna<4,>=2.5 in /usr/local/lib/python3.10/dist-packages (from requests<3,>=2.21.0->tensorboard<2.16,>=2.15->tensorflow) (3.7)\n",
            "Requirement already satisfied: urllib3<3,>=1.21.1 in /usr/local/lib/python3.10/dist-packages (from requests<3,>=2.21.0->tensorboard<2.16,>=2.15->tensorflow) (2.0.7)\n",
            "Requirement already satisfied: certifi>=2017.4.17 in /usr/local/lib/python3.10/dist-packages (from requests<3,>=2.21.0->tensorboard<2.16,>=2.15->tensorflow) (2024.2.2)\n",
            "Requirement already satisfied: MarkupSafe>=2.1.1 in /usr/local/lib/python3.10/dist-packages (from werkzeug>=1.0.1->tensorboard<2.16,>=2.15->tensorflow) (2.1.5)\n",
            "Requirement already satisfied: pyasn1<0.7.0,>=0.4.6 in /usr/local/lib/python3.10/dist-packages (from pyasn1-modules>=0.2.1->google-auth<3,>=1.6.3->tensorboard<2.16,>=2.15->tensorflow) (0.6.0)\n",
            "Requirement already satisfied: oauthlib>=3.0.0 in /usr/local/lib/python3.10/dist-packages (from requests-oauthlib>=0.7.0->google-auth-oauthlib<2,>=0.5->tensorboard<2.16,>=2.15->tensorflow) (3.2.2)\n"
          ]
        }
      ],
      "source": [
        "!pip install tensorflow"
      ]
    },
    {
      "cell_type": "code",
      "execution_count": 3,
      "metadata": {
        "id": "fcGMc_PgWENr"
      },
      "outputs": [],
      "source": [
        "import pandas as pd\n",
        "import numpy as np\n",
        "import matplotlib.pyplot as plt\n",
        "from sklearn.model_selection import train_test_split\n",
        "from sklearn.preprocessing import LabelEncoder\n",
        "from tensorflow.keras.preprocessing.text import Tokenizer\n",
        "from tensorflow.keras.preprocessing.sequence import pad_sequences\n",
        "from tensorflow.keras.models import Sequential\n",
        "from tensorflow.keras.layers import Embedding, LSTM, Dense, SpatialDropout1D, Bidirectional\n",
        "from tensorflow.keras.optimizers import Adam\n",
        "from tensorflow.keras.callbacks import EarlyStopping, ModelCheckpoint\n",
        "from sklearn.metrics import confusion_matrix, classification_report\n",
        "from gensim.models import Word2Vec\n",
        "import gdown\n"
      ]
    },
    {
      "cell_type": "markdown",
      "source": [
        "Utilizamos dos csv de el pre procesamiento de la columna 'description' e 'instruction' para combinar ambas columnas."
      ],
      "metadata": {
        "id": "dYjfQoapB_Hw"
      }
    },
    {
      "cell_type": "code",
      "execution_count": 4,
      "metadata": {
        "id": "a_sukdXdY05d"
      },
      "outputs": [],
      "source": [
        "url = \"https://drive.google.com/uc?id=1fs7dmydF11O-rw1xX3ZDZd-7dGew73lu\""
      ]
    },
    {
      "cell_type": "code",
      "execution_count": 5,
      "metadata": {
        "colab": {
          "base_uri": "https://localhost:8080/"
        },
        "id": "XQdqWWMeZShI",
        "outputId": "c74ca45c-809c-4c8a-ff47-ff74812f6aa0"
      },
      "outputs": [
        {
          "output_type": "stream",
          "name": "stderr",
          "text": [
            "Downloading...\n",
            "From (original): https://drive.google.com/uc?id=1fs7dmydF11O-rw1xX3ZDZd-7dGew73lu\n",
            "From (redirected): https://drive.google.com/uc?id=1fs7dmydF11O-rw1xX3ZDZd-7dGew73lu&confirm=t&uuid=fc58204a-9c83-491d-bb34-715a259870f7\n",
            "To: /content/alertas_lemma.csv\n",
            "100%|██████████| 143M/143M [00:01<00:00, 78.9MB/s]\n"
          ]
        }
      ],
      "source": [
        "output = 'alertas_lemma.csv'\n",
        "gdown.download(url, output, quiet=False)\n",
        "\n",
        "# Leer el archivo CSV en un DataFrame de pandas\n",
        "alertas_description = pd.read_csv(output)"
      ]
    },
    {
      "cell_type": "code",
      "execution_count": 6,
      "metadata": {
        "colab": {
          "base_uri": "https://localhost:8080/",
          "height": 271
        },
        "id": "u1tdwZfZZccS",
        "outputId": "6a8d0381-90ea-4d30-f1d8-2bcce83f1fc3"
      },
      "outputs": [
        {
          "output_type": "execute_result",
          "data": {
            "text/plain": [
              "                         id                   event  \\\n",
              "0  5ed30eb3283336e2e7c8a2a8      Dust Storm Warning   \n",
              "1  5e6daf2c023f1930efa590ce  Tropical Storm Warning   \n",
              "\n",
              "                                         description  \\\n",
              "0  the national weather service in phoenix has is...   \n",
              "1   what winds thirty to forty kt and seas five t...   \n",
              "\n",
              "                                         instruction    urgency severity  \\\n",
              "0  Motorists should not drive into a dust storm. ...   Expected   Severe   \n",
              "1  Mariners should alter plans to avoid these haz...  Immediate   Severe   \n",
              "\n",
              "                                   description_token  \\\n",
              "0  ['the', 'national', 'weather', 'service', 'in'...   \n",
              "1  ['what', 'winds', 'thirty', 'to', 'forty', 'kt...   \n",
              "\n",
              "                            description_no_stopwords  \\\n",
              "0  ['national', 'weather', 'service', 'phoenix', ...   \n",
              "1  ['winds', 'thirty', 'forty', 'kt', 'seas', 'fi...   \n",
              "\n",
              "                              lemmatized_description  \n",
              "0  ['national', 'weather', 'service', 'phoenix', ...  \n",
              "1  ['winds', 'thirty', 'forty', 'kt', 'seas', 'fi...  "
            ],
            "text/html": [
              "\n",
              "  <div id=\"df-69b5e053-628f-4375-8aca-79dead3f9043\" class=\"colab-df-container\">\n",
              "    <div>\n",
              "<style scoped>\n",
              "    .dataframe tbody tr th:only-of-type {\n",
              "        vertical-align: middle;\n",
              "    }\n",
              "\n",
              "    .dataframe tbody tr th {\n",
              "        vertical-align: top;\n",
              "    }\n",
              "\n",
              "    .dataframe thead th {\n",
              "        text-align: right;\n",
              "    }\n",
              "</style>\n",
              "<table border=\"1\" class=\"dataframe\">\n",
              "  <thead>\n",
              "    <tr style=\"text-align: right;\">\n",
              "      <th></th>\n",
              "      <th>id</th>\n",
              "      <th>event</th>\n",
              "      <th>description</th>\n",
              "      <th>instruction</th>\n",
              "      <th>urgency</th>\n",
              "      <th>severity</th>\n",
              "      <th>description_token</th>\n",
              "      <th>description_no_stopwords</th>\n",
              "      <th>lemmatized_description</th>\n",
              "    </tr>\n",
              "  </thead>\n",
              "  <tbody>\n",
              "    <tr>\n",
              "      <th>0</th>\n",
              "      <td>5ed30eb3283336e2e7c8a2a8</td>\n",
              "      <td>Dust Storm Warning</td>\n",
              "      <td>the national weather service in phoenix has is...</td>\n",
              "      <td>Motorists should not drive into a dust storm. ...</td>\n",
              "      <td>Expected</td>\n",
              "      <td>Severe</td>\n",
              "      <td>['the', 'national', 'weather', 'service', 'in'...</td>\n",
              "      <td>['national', 'weather', 'service', 'phoenix', ...</td>\n",
              "      <td>['national', 'weather', 'service', 'phoenix', ...</td>\n",
              "    </tr>\n",
              "    <tr>\n",
              "      <th>1</th>\n",
              "      <td>5e6daf2c023f1930efa590ce</td>\n",
              "      <td>Tropical Storm Warning</td>\n",
              "      <td>what winds thirty to forty kt and seas five t...</td>\n",
              "      <td>Mariners should alter plans to avoid these haz...</td>\n",
              "      <td>Immediate</td>\n",
              "      <td>Severe</td>\n",
              "      <td>['what', 'winds', 'thirty', 'to', 'forty', 'kt...</td>\n",
              "      <td>['winds', 'thirty', 'forty', 'kt', 'seas', 'fi...</td>\n",
              "      <td>['winds', 'thirty', 'forty', 'kt', 'seas', 'fi...</td>\n",
              "    </tr>\n",
              "  </tbody>\n",
              "</table>\n",
              "</div>\n",
              "    <div class=\"colab-df-buttons\">\n",
              "\n",
              "  <div class=\"colab-df-container\">\n",
              "    <button class=\"colab-df-convert\" onclick=\"convertToInteractive('df-69b5e053-628f-4375-8aca-79dead3f9043')\"\n",
              "            title=\"Convert this dataframe to an interactive table.\"\n",
              "            style=\"display:none;\">\n",
              "\n",
              "  <svg xmlns=\"http://www.w3.org/2000/svg\" height=\"24px\" viewBox=\"0 -960 960 960\">\n",
              "    <path d=\"M120-120v-720h720v720H120Zm60-500h600v-160H180v160Zm220 220h160v-160H400v160Zm0 220h160v-160H400v160ZM180-400h160v-160H180v160Zm440 0h160v-160H620v160ZM180-180h160v-160H180v160Zm440 0h160v-160H620v160Z\"/>\n",
              "  </svg>\n",
              "    </button>\n",
              "\n",
              "  <style>\n",
              "    .colab-df-container {\n",
              "      display:flex;\n",
              "      gap: 12px;\n",
              "    }\n",
              "\n",
              "    .colab-df-convert {\n",
              "      background-color: #E8F0FE;\n",
              "      border: none;\n",
              "      border-radius: 50%;\n",
              "      cursor: pointer;\n",
              "      display: none;\n",
              "      fill: #1967D2;\n",
              "      height: 32px;\n",
              "      padding: 0 0 0 0;\n",
              "      width: 32px;\n",
              "    }\n",
              "\n",
              "    .colab-df-convert:hover {\n",
              "      background-color: #E2EBFA;\n",
              "      box-shadow: 0px 1px 2px rgba(60, 64, 67, 0.3), 0px 1px 3px 1px rgba(60, 64, 67, 0.15);\n",
              "      fill: #174EA6;\n",
              "    }\n",
              "\n",
              "    .colab-df-buttons div {\n",
              "      margin-bottom: 4px;\n",
              "    }\n",
              "\n",
              "    [theme=dark] .colab-df-convert {\n",
              "      background-color: #3B4455;\n",
              "      fill: #D2E3FC;\n",
              "    }\n",
              "\n",
              "    [theme=dark] .colab-df-convert:hover {\n",
              "      background-color: #434B5C;\n",
              "      box-shadow: 0px 1px 3px 1px rgba(0, 0, 0, 0.15);\n",
              "      filter: drop-shadow(0px 1px 2px rgba(0, 0, 0, 0.3));\n",
              "      fill: #FFFFFF;\n",
              "    }\n",
              "  </style>\n",
              "\n",
              "    <script>\n",
              "      const buttonEl =\n",
              "        document.querySelector('#df-69b5e053-628f-4375-8aca-79dead3f9043 button.colab-df-convert');\n",
              "      buttonEl.style.display =\n",
              "        google.colab.kernel.accessAllowed ? 'block' : 'none';\n",
              "\n",
              "      async function convertToInteractive(key) {\n",
              "        const element = document.querySelector('#df-69b5e053-628f-4375-8aca-79dead3f9043');\n",
              "        const dataTable =\n",
              "          await google.colab.kernel.invokeFunction('convertToInteractive',\n",
              "                                                    [key], {});\n",
              "        if (!dataTable) return;\n",
              "\n",
              "        const docLinkHtml = 'Like what you see? Visit the ' +\n",
              "          '<a target=\"_blank\" href=https://colab.research.google.com/notebooks/data_table.ipynb>data table notebook</a>'\n",
              "          + ' to learn more about interactive tables.';\n",
              "        element.innerHTML = '';\n",
              "        dataTable['output_type'] = 'display_data';\n",
              "        await google.colab.output.renderOutput(dataTable, element);\n",
              "        const docLink = document.createElement('div');\n",
              "        docLink.innerHTML = docLinkHtml;\n",
              "        element.appendChild(docLink);\n",
              "      }\n",
              "    </script>\n",
              "  </div>\n",
              "\n",
              "\n",
              "<div id=\"df-5ccc1111-e8ba-41f5-ba59-f6fcf4de6476\">\n",
              "  <button class=\"colab-df-quickchart\" onclick=\"quickchart('df-5ccc1111-e8ba-41f5-ba59-f6fcf4de6476')\"\n",
              "            title=\"Suggest charts\"\n",
              "            style=\"display:none;\">\n",
              "\n",
              "<svg xmlns=\"http://www.w3.org/2000/svg\" height=\"24px\"viewBox=\"0 0 24 24\"\n",
              "     width=\"24px\">\n",
              "    <g>\n",
              "        <path d=\"M19 3H5c-1.1 0-2 .9-2 2v14c0 1.1.9 2 2 2h14c1.1 0 2-.9 2-2V5c0-1.1-.9-2-2-2zM9 17H7v-7h2v7zm4 0h-2V7h2v10zm4 0h-2v-4h2v4z\"/>\n",
              "    </g>\n",
              "</svg>\n",
              "  </button>\n",
              "\n",
              "<style>\n",
              "  .colab-df-quickchart {\n",
              "      --bg-color: #E8F0FE;\n",
              "      --fill-color: #1967D2;\n",
              "      --hover-bg-color: #E2EBFA;\n",
              "      --hover-fill-color: #174EA6;\n",
              "      --disabled-fill-color: #AAA;\n",
              "      --disabled-bg-color: #DDD;\n",
              "  }\n",
              "\n",
              "  [theme=dark] .colab-df-quickchart {\n",
              "      --bg-color: #3B4455;\n",
              "      --fill-color: #D2E3FC;\n",
              "      --hover-bg-color: #434B5C;\n",
              "      --hover-fill-color: #FFFFFF;\n",
              "      --disabled-bg-color: #3B4455;\n",
              "      --disabled-fill-color: #666;\n",
              "  }\n",
              "\n",
              "  .colab-df-quickchart {\n",
              "    background-color: var(--bg-color);\n",
              "    border: none;\n",
              "    border-radius: 50%;\n",
              "    cursor: pointer;\n",
              "    display: none;\n",
              "    fill: var(--fill-color);\n",
              "    height: 32px;\n",
              "    padding: 0;\n",
              "    width: 32px;\n",
              "  }\n",
              "\n",
              "  .colab-df-quickchart:hover {\n",
              "    background-color: var(--hover-bg-color);\n",
              "    box-shadow: 0 1px 2px rgba(60, 64, 67, 0.3), 0 1px 3px 1px rgba(60, 64, 67, 0.15);\n",
              "    fill: var(--button-hover-fill-color);\n",
              "  }\n",
              "\n",
              "  .colab-df-quickchart-complete:disabled,\n",
              "  .colab-df-quickchart-complete:disabled:hover {\n",
              "    background-color: var(--disabled-bg-color);\n",
              "    fill: var(--disabled-fill-color);\n",
              "    box-shadow: none;\n",
              "  }\n",
              "\n",
              "  .colab-df-spinner {\n",
              "    border: 2px solid var(--fill-color);\n",
              "    border-color: transparent;\n",
              "    border-bottom-color: var(--fill-color);\n",
              "    animation:\n",
              "      spin 1s steps(1) infinite;\n",
              "  }\n",
              "\n",
              "  @keyframes spin {\n",
              "    0% {\n",
              "      border-color: transparent;\n",
              "      border-bottom-color: var(--fill-color);\n",
              "      border-left-color: var(--fill-color);\n",
              "    }\n",
              "    20% {\n",
              "      border-color: transparent;\n",
              "      border-left-color: var(--fill-color);\n",
              "      border-top-color: var(--fill-color);\n",
              "    }\n",
              "    30% {\n",
              "      border-color: transparent;\n",
              "      border-left-color: var(--fill-color);\n",
              "      border-top-color: var(--fill-color);\n",
              "      border-right-color: var(--fill-color);\n",
              "    }\n",
              "    40% {\n",
              "      border-color: transparent;\n",
              "      border-right-color: var(--fill-color);\n",
              "      border-top-color: var(--fill-color);\n",
              "    }\n",
              "    60% {\n",
              "      border-color: transparent;\n",
              "      border-right-color: var(--fill-color);\n",
              "    }\n",
              "    80% {\n",
              "      border-color: transparent;\n",
              "      border-right-color: var(--fill-color);\n",
              "      border-bottom-color: var(--fill-color);\n",
              "    }\n",
              "    90% {\n",
              "      border-color: transparent;\n",
              "      border-bottom-color: var(--fill-color);\n",
              "    }\n",
              "  }\n",
              "</style>\n",
              "\n",
              "  <script>\n",
              "    async function quickchart(key) {\n",
              "      const quickchartButtonEl =\n",
              "        document.querySelector('#' + key + ' button');\n",
              "      quickchartButtonEl.disabled = true;  // To prevent multiple clicks.\n",
              "      quickchartButtonEl.classList.add('colab-df-spinner');\n",
              "      try {\n",
              "        const charts = await google.colab.kernel.invokeFunction(\n",
              "            'suggestCharts', [key], {});\n",
              "      } catch (error) {\n",
              "        console.error('Error during call to suggestCharts:', error);\n",
              "      }\n",
              "      quickchartButtonEl.classList.remove('colab-df-spinner');\n",
              "      quickchartButtonEl.classList.add('colab-df-quickchart-complete');\n",
              "    }\n",
              "    (() => {\n",
              "      let quickchartButtonEl =\n",
              "        document.querySelector('#df-5ccc1111-e8ba-41f5-ba59-f6fcf4de6476 button');\n",
              "      quickchartButtonEl.style.display =\n",
              "        google.colab.kernel.accessAllowed ? 'block' : 'none';\n",
              "    })();\n",
              "  </script>\n",
              "</div>\n",
              "\n",
              "    </div>\n",
              "  </div>\n"
            ],
            "application/vnd.google.colaboratory.intrinsic+json": {
              "type": "dataframe",
              "variable_name": "alertas_description",
              "summary": "{\n  \"name\": \"alertas_description\",\n  \"rows\": 42076,\n  \"fields\": [\n    {\n      \"column\": \"id\",\n      \"properties\": {\n        \"dtype\": \"string\",\n        \"num_unique_values\": 42076,\n        \"samples\": [\n          \"5e6db1e1023f1930efb27b15\",\n          \"5e6dd6ad023f1930ef592a85\",\n          \"5e6dbd12023f1930efe9d3c2\"\n        ],\n        \"semantic_type\": \"\",\n        \"description\": \"\"\n      }\n    },\n    {\n      \"column\": \"event\",\n      \"properties\": {\n        \"dtype\": \"category\",\n        \"num_unique_values\": 8,\n        \"samples\": [\n          \"Tropical Storm Warning\",\n          \"Storm Warning\",\n          \"Dust Storm Warning\"\n        ],\n        \"semantic_type\": \"\",\n        \"description\": \"\"\n      }\n    },\n    {\n      \"column\": \"description\",\n      \"properties\": {\n        \"dtype\": \"string\",\n        \"num_unique_values\": 32824,\n        \"samples\": [\n          \" what southwest winds thirty-five to forty-five kt with gusts up to sixty kt and seas thirteen to eighteen feet expected   where block island sound and rhode island sound   when from one pm this afternoon to eight pm est this evening   impacts very strong winds will cause hazardous seas which could capsize or damage vessels and reduce visibility\",\n          \"a storm system will develop over the oklahoma panhandle region today and move quickly northeast toward the area this storm system will bring with it plenty of moisture and warmer air snow will spread northeast into the area tonight and continue through the day on sunday the snow will end from west to east sunday night snow accumulations four to eight inches   snow is expected to spread into the area late tonight and then   continue into sunday night   the heaviest snow is expected during the day on sunday   the snow is expected to gradually end from west to east sunday    night   impacts snow will be the main threat during this event    hazardous travel conditions are expected due to reduced    visibility from the snow and snow accumulation\",\n          \" what heavy wet snow expected precipitation may begin as rain or a mix of rain and snow this morning before changing over to all snow by midday total snow accumulations of three to seven inches with the highest amounts across the mountainous counties   where portions of central northeast and northern west virginia   when heaviest snow will fall this afternoon and evening   additional details travel could be very difficult \"\n        ],\n        \"semantic_type\": \"\",\n        \"description\": \"\"\n      }\n    },\n    {\n      \"column\": \"instruction\",\n      \"properties\": {\n        \"dtype\": \"category\",\n        \"num_unique_values\": 3773,\n        \"samples\": [\n          \"A Winter Storm Warning for wet snow means there will be snow\\ncovered roads and limited visibilities. Travel is not recommended\\nwhile the warning is in effect. If you must travel, keep an extra\\nflashlight, food and water in your vehicle in case of an\\nemergency.The latest road conditions for the state you are\\ncalling from can be obtained by calling 5 1 1.\",\n          \"Recreational boaters should remain in port...or take shelter\\nuntil winds and waves subside. Commercial vessels should prepare\\nfor very strong winds and dangerous sea conditions...and consider\\nremaining in port or taking shelter in port until winds and waves\\nsubside.\\n\\n\",\n          \"THIS WINTER STORM WARNING MEANS THAT SIGNIFICANT AMOUNTS OF SNOW,\\nSLEET AND ICE ARE EXPECTED, MAKING TRAVEL VERY HAZARDOUS OR\\nIMPOSSIBLE.\\n\\n\"\n        ],\n        \"semantic_type\": \"\",\n        \"description\": \"\"\n      }\n    },\n    {\n      \"column\": \"urgency\",\n      \"properties\": {\n        \"dtype\": \"category\",\n        \"num_unique_values\": 4,\n        \"samples\": [\n          \"Immediate\",\n          \"Future\",\n          \"Expected\"\n        ],\n        \"semantic_type\": \"\",\n        \"description\": \"\"\n      }\n    },\n    {\n      \"column\": \"severity\",\n      \"properties\": {\n        \"dtype\": \"category\",\n        \"num_unique_values\": 3,\n        \"samples\": [\n          \"Severe\",\n          \"Minor\",\n          \"Extreme\"\n        ],\n        \"semantic_type\": \"\",\n        \"description\": \"\"\n      }\n    },\n    {\n      \"column\": \"description_token\",\n      \"properties\": {\n        \"dtype\": \"string\",\n        \"num_unique_values\": 32416,\n        \"samples\": [\n          \"['a', 'storm', 'system', 'will', 'move', 'across', 'the', 'midwest', 'through', 'tonight', 'this', 'storm', 'system', 'will', 'continue', 'to', 'bring', 'snow', 'up', 'across', 'much', 'of', 'the', 'area', 'through', 'this', 'evening', 'and', 'create', 'some', 'travel', 'difficulties', 'this', 'weekend', 'snowfall', 'totals', 'will', 'range', 'from', 'two', 'to', 'four', 'inches', 'from', 'around', 'highway', 'thirty', 'down', 'to', 'the', 'interstate', 'eighty', 'corridor', 'to', 'five', 'to', 'nine', 'inches', 'south', 'of', 'interstate', 'eighty', 'the', 'highest', 'snowfall', 'amounts', 'look', 'to', 'be', 'along', 'and', 'south', 'of', 'highway', 'threefour', 'what', 'heavy', 'snow', 'additional', 'snow', 'accumulations', 'of', 'three', 'to', 'five', 'inches', 'for', 'storm', 'total', 'snow', 'accumulations', 'of', 'six', 'to', 'nine', 'inches', 'where', 'van', 'buren', 'and', 'lee', 'counties', 'when', 'until', 'nine', 'pm', 'cst', 'this', 'evening', 'additional', 'details', 'travel', 'could', 'be', 'very', 'difficult']\",\n          \"['mixed', 'precipitation', 'expected', 'wednesday', 'evening', 'transitioning', 'from', 'northwest', 'to', 'southeast', 'to', 'all', 'snow', 'thursday', 'what', 'mixed', 'precipitation', 'expected', 'this', 'evening', 'transiting', 'to', 'all', 'snow', 'by', 'six', 'am', 'thursday', 'total', 'snow', 'accumulations', 'of', 'five', 'to', 'ten', 'inches', 'with', 'locally', 'heavier', 'amounts', 'of', 'twelve', 'to', 'fourteen', 'inches', 'ice', 'accumulations', 'of', 'up', 'to', 'one', 'tenth', 'of', 'an', 'inch', 'where', 'north', 'laramie', 'range', 'when', 'from', 'six', 'pm', 'this', 'evening', 'to', 'nine', 'pm', 'mdt', 'thursday', 'impacts', 'travel', 'could', 'be', 'very', 'difficult', 'hikers', 'and', 'snowmobilers', 'may', 'become', 'disoriented', 'or', 'lost']\",\n          \"['major', 'winter', 'storm', 'likely', 'tonight', 'into', 'sunday', 'rain', 'will', 'continue', 'to', 'transition', 'to', 'snow', 'across', 'the', 'far', 'north', 'through', 'the', 'overnight', 'hours', 'possibly', 'heavy', 'at', 'times', 'into', 'sunday', 'meanwhile', 'an', 'area', 'of', 'sleet', 'and', 'freezing', 'rain', 'will', 'impact', 'the', 'central', 'highlands', 'upper', 'penobscot', 'valley', 'and', 'southern', 'aroostook', 'areas', 'up', 'to', 'two', 'inches', 'of', 'sleet', 'is', 'possible', 'for', 'central', 'portions', 'of', 'the', 'region', 'and', 'around', 'a', 'half', 'inch', 'of', 'ice', 'will', 'be', 'possible', 'across', 'portions', 'of', 'interior', 'and', 'coastal', 'downeast', 'late', 'tonight', 'through', 'sunday', 'evening', 'what', 'heavy', 'mixed', 'precipitation', 'expected', 'total', 'snow', 'accumulations', 'of', 'five', 'to', 'ten', 'inches', 'with', 'ten', 'to', '1five', 'inches', 'over', 'the', 'saint', 'john', 'valley', 'sleet', 'accumulations', 'of', '0five', 'to', '1five', 'inches', 'and', 'ice', 'accumulations', 'of', 'a', 'light', 'glaze', 'expected', 'where', 'northeast', 'aroostook', 'and', 'northwest', 'aroostook', 'counties', 'when', 'until', 'four', 'pm', 'est', 'sunday', 'additional', 'details', 'travel', 'could', 'be', 'extremely', 'dangerous']\"\n        ],\n        \"semantic_type\": \"\",\n        \"description\": \"\"\n      }\n    },\n    {\n      \"column\": \"description_no_stopwords\",\n      \"properties\": {\n        \"dtype\": \"string\",\n        \"num_unique_values\": 32344,\n        \"samples\": [\n          \"['snow', 'slowly', 'end', 'southwest', 'northeast', 'mid', 'day', 'time', 'winds', 'gradually', 'diminish', 'decrease', 'amount', 'drifting', 'blowing', 'snow', 'across', 'area', 'additional', 'snowfall', 'accumulations', 'inch', 'possible', 'snow', 'ends', 'especially', 'north', 'line', 'aledo', 'illinois', 'vinton', 'iowa', 'heavy', 'snow', 'additional', 'snow', 'accumulations', 'one', 'inch', 'portions', 'east', 'central', 'northeast', 'southeast', 'iowa', 'noon', 'cst', 'today', 'additional', 'details', 'plan', 'slippery', 'road', 'conditions', 'hazardous', 'conditions', 'could', 'impact', 'morning', 'commute']\",\n          \"['heavy', 'snow', 'blowing', 'snow', 'occurring', 'travel', 'difficult', 'impossible', 'additional', 'snow', 'accumulations', 'eight', 'eleven', 'inches', 'localized', 'amounts', 'fifteen', 'inches', 'expected', 'deltana', 'tanana', 'flats', 'six', 'pm', 'wednesday', 'additional', 'details', 'winds', 'gusting', 'high', 'thirty-five', 'mph', 'cause', 'areas', 'blowing', 'drifting', 'snow', 'heaviest', 'snow', 'along', 'east', 'richardson', 'highway']\",\n          \"['snow', 'expected', 'freezing', 'rain', 'possible', 'plan', 'difficult', 'travel', 'conditions', 'total', 'snow', 'accumulations', 'four', 'eight', 'inches', 'localized', 'amounts', 'twelve', 'inches', 'ice', 'accumulations', 'light', 'glaze', 'expected', 'yukon', 'delta', 'noon', 'today', 'six', 'pm', 'saturday', 'first', 'wave', 'snow', 'move', 'afternoon', 'taper', 'evening', 'second', 'wave', 'snow', 'start', 'push', 'midnight', 'tonight', 'additional', 'details', 'winds', 'gusting', 'high', 'fifty', 'mph', 'cause', 'areas', 'blowing', 'drifting', 'snow', 'snow', 'may', 'mix', 'freezing', 'rain', 'times', 'saturday']\"\n        ],\n        \"semantic_type\": \"\",\n        \"description\": \"\"\n      }\n    },\n    {\n      \"column\": \"lemmatized_description\",\n      \"properties\": {\n        \"dtype\": \"string\",\n        \"num_unique_values\": 32344,\n        \"samples\": [\n          \"['snow', 'slowly', 'end', 'southwest', 'northeast', 'mid', 'day', 'time', 'winds', 'gradually', 'diminish', 'decrease', 'amount', 'drifting', 'blowing', 'snow', 'across', 'area', 'additional', 'snowfall', 'accumulations', 'inch', 'possible', 'snow', 'ends', 'especially', 'north', 'line', 'aledo', 'illinois', 'vinton', 'iowa', 'heavy', 'snow', 'additional', 'snow', 'accumulations', 'one', 'inch', 'portions', 'east', 'central', 'northeast', 'southeast', 'iowa', 'noon', 'cst', 'today', 'additional', 'details', 'plan', 'slippery', 'road', 'conditions', 'hazardous', 'conditions', 'could', 'impact', 'morning', 'commute']\",\n          \"['heavy', 'snow', 'blowing', 'snow', 'occurring', 'travel', 'difficult', 'impossible', 'additional', 'snow', 'accumulations', 'eight', 'eleven', 'inches', 'localized', 'amounts', 'fifteen', 'inches', 'expected', 'deltana', 'tanana', 'flats', 'six', 'pm', 'wednesday', 'additional', 'details', 'winds', 'gusting', 'high', 'thirty-five', 'mph', 'cause', 'areas', 'blowing', 'drifting', 'snow', 'heaviest', 'snow', 'along', 'east', 'richardson', 'highway']\",\n          \"['snow', 'expected', 'freezing', 'rain', 'possible', 'plan', 'difficult', 'travel', 'conditions', 'total', 'snow', 'accumulations', 'four', 'eight', 'inches', 'localized', 'amounts', 'twelve', 'inches', 'ice', 'accumulations', 'light', 'glaze', 'expected', 'yukon', 'delta', 'noon', 'today', 'six', 'pm', 'saturday', 'first', 'wave', 'snow', 'move', 'afternoon', 'taper', 'evening', 'second', 'wave', 'snow', 'start', 'push', 'midnight', 'tonight', 'additional', 'details', 'winds', 'gusting', 'high', 'fifty', 'mph', 'cause', 'areas', 'blowing', 'drifting', 'snow', 'snow', 'may', 'mix', 'freezing', 'rain', 'times', 'saturday']\"\n        ],\n        \"semantic_type\": \"\",\n        \"description\": \"\"\n      }\n    }\n  ]\n}"
            }
          },
          "metadata": {},
          "execution_count": 6
        }
      ],
      "source": [
        "alertas_description.head(2)"
      ]
    },
    {
      "cell_type": "code",
      "source": [
        "# descargamos el otro dataset con el procesamiento de 'instruction'\n",
        "url_instruction = \"https://drive.google.com/uc?id=1E2QjfTk4Ke6u1ZEnmsqWHETproJE5zVK\"\n",
        "output_instruction = 'archivo_instruction.csv'\n",
        "gdown.download(url_instruction, output_instruction, quiet=False)\n",
        "\n",
        "# Leer el archivo CSV de instruction\n",
        "instructions = pd.read_csv(output_instruction)"
      ],
      "metadata": {
        "id": "eOR7flJUCJXQ",
        "outputId": "453c4da8-93fa-4d75-8f4e-f44e81f9415a",
        "colab": {
          "base_uri": "https://localhost:8080/"
        }
      },
      "execution_count": 7,
      "outputs": [
        {
          "output_type": "stream",
          "name": "stderr",
          "text": [
            "Downloading...\n",
            "From: https://drive.google.com/uc?id=1E2QjfTk4Ke6u1ZEnmsqWHETproJE5zVK\n",
            "To: /content/archivo_instruction.csv\n",
            "100%|██████████| 13.9M/13.9M [00:00<00:00, 246MB/s]\n"
          ]
        }
      ]
    },
    {
      "cell_type": "code",
      "source": [
        "instructions.head(2)"
      ],
      "metadata": {
        "id": "yDWZkG_YCRWx",
        "outputId": "5b6aa56d-ca14-40fd-e901-9b6f3f3aee48",
        "colab": {
          "base_uri": "https://localhost:8080/",
          "height": 112
        }
      },
      "execution_count": 8,
      "outputs": [
        {
          "output_type": "execute_result",
          "data": {
            "text/plain": [
              "                         id                   event  \\\n",
              "0  5ed30eb3283336e2e7c8a2a8      Dust Storm Warning   \n",
              "1  5e6daf2c023f1930efa590ce  Tropical Storm Warning   \n",
              "\n",
              "                                  instruction_token2  \n",
              "0  ['motorist', 'drive', 'dust', 'storm', 'pull',...  \n",
              "1  ['mariner', 'alter', 'plan', 'avoid', 'hazardo...  "
            ],
            "text/html": [
              "\n",
              "  <div id=\"df-449f5d94-37f5-4b30-afa8-7cbdc67114fb\" class=\"colab-df-container\">\n",
              "    <div>\n",
              "<style scoped>\n",
              "    .dataframe tbody tr th:only-of-type {\n",
              "        vertical-align: middle;\n",
              "    }\n",
              "\n",
              "    .dataframe tbody tr th {\n",
              "        vertical-align: top;\n",
              "    }\n",
              "\n",
              "    .dataframe thead th {\n",
              "        text-align: right;\n",
              "    }\n",
              "</style>\n",
              "<table border=\"1\" class=\"dataframe\">\n",
              "  <thead>\n",
              "    <tr style=\"text-align: right;\">\n",
              "      <th></th>\n",
              "      <th>id</th>\n",
              "      <th>event</th>\n",
              "      <th>instruction_token2</th>\n",
              "    </tr>\n",
              "  </thead>\n",
              "  <tbody>\n",
              "    <tr>\n",
              "      <th>0</th>\n",
              "      <td>5ed30eb3283336e2e7c8a2a8</td>\n",
              "      <td>Dust Storm Warning</td>\n",
              "      <td>['motorist', 'drive', 'dust', 'storm', 'pull',...</td>\n",
              "    </tr>\n",
              "    <tr>\n",
              "      <th>1</th>\n",
              "      <td>5e6daf2c023f1930efa590ce</td>\n",
              "      <td>Tropical Storm Warning</td>\n",
              "      <td>['mariner', 'alter', 'plan', 'avoid', 'hazardo...</td>\n",
              "    </tr>\n",
              "  </tbody>\n",
              "</table>\n",
              "</div>\n",
              "    <div class=\"colab-df-buttons\">\n",
              "\n",
              "  <div class=\"colab-df-container\">\n",
              "    <button class=\"colab-df-convert\" onclick=\"convertToInteractive('df-449f5d94-37f5-4b30-afa8-7cbdc67114fb')\"\n",
              "            title=\"Convert this dataframe to an interactive table.\"\n",
              "            style=\"display:none;\">\n",
              "\n",
              "  <svg xmlns=\"http://www.w3.org/2000/svg\" height=\"24px\" viewBox=\"0 -960 960 960\">\n",
              "    <path d=\"M120-120v-720h720v720H120Zm60-500h600v-160H180v160Zm220 220h160v-160H400v160Zm0 220h160v-160H400v160ZM180-400h160v-160H180v160Zm440 0h160v-160H620v160ZM180-180h160v-160H180v160Zm440 0h160v-160H620v160Z\"/>\n",
              "  </svg>\n",
              "    </button>\n",
              "\n",
              "  <style>\n",
              "    .colab-df-container {\n",
              "      display:flex;\n",
              "      gap: 12px;\n",
              "    }\n",
              "\n",
              "    .colab-df-convert {\n",
              "      background-color: #E8F0FE;\n",
              "      border: none;\n",
              "      border-radius: 50%;\n",
              "      cursor: pointer;\n",
              "      display: none;\n",
              "      fill: #1967D2;\n",
              "      height: 32px;\n",
              "      padding: 0 0 0 0;\n",
              "      width: 32px;\n",
              "    }\n",
              "\n",
              "    .colab-df-convert:hover {\n",
              "      background-color: #E2EBFA;\n",
              "      box-shadow: 0px 1px 2px rgba(60, 64, 67, 0.3), 0px 1px 3px 1px rgba(60, 64, 67, 0.15);\n",
              "      fill: #174EA6;\n",
              "    }\n",
              "\n",
              "    .colab-df-buttons div {\n",
              "      margin-bottom: 4px;\n",
              "    }\n",
              "\n",
              "    [theme=dark] .colab-df-convert {\n",
              "      background-color: #3B4455;\n",
              "      fill: #D2E3FC;\n",
              "    }\n",
              "\n",
              "    [theme=dark] .colab-df-convert:hover {\n",
              "      background-color: #434B5C;\n",
              "      box-shadow: 0px 1px 3px 1px rgba(0, 0, 0, 0.15);\n",
              "      filter: drop-shadow(0px 1px 2px rgba(0, 0, 0, 0.3));\n",
              "      fill: #FFFFFF;\n",
              "    }\n",
              "  </style>\n",
              "\n",
              "    <script>\n",
              "      const buttonEl =\n",
              "        document.querySelector('#df-449f5d94-37f5-4b30-afa8-7cbdc67114fb button.colab-df-convert');\n",
              "      buttonEl.style.display =\n",
              "        google.colab.kernel.accessAllowed ? 'block' : 'none';\n",
              "\n",
              "      async function convertToInteractive(key) {\n",
              "        const element = document.querySelector('#df-449f5d94-37f5-4b30-afa8-7cbdc67114fb');\n",
              "        const dataTable =\n",
              "          await google.colab.kernel.invokeFunction('convertToInteractive',\n",
              "                                                    [key], {});\n",
              "        if (!dataTable) return;\n",
              "\n",
              "        const docLinkHtml = 'Like what you see? Visit the ' +\n",
              "          '<a target=\"_blank\" href=https://colab.research.google.com/notebooks/data_table.ipynb>data table notebook</a>'\n",
              "          + ' to learn more about interactive tables.';\n",
              "        element.innerHTML = '';\n",
              "        dataTable['output_type'] = 'display_data';\n",
              "        await google.colab.output.renderOutput(dataTable, element);\n",
              "        const docLink = document.createElement('div');\n",
              "        docLink.innerHTML = docLinkHtml;\n",
              "        element.appendChild(docLink);\n",
              "      }\n",
              "    </script>\n",
              "  </div>\n",
              "\n",
              "\n",
              "<div id=\"df-9614755a-6832-4c7e-b3a3-47f4554d3032\">\n",
              "  <button class=\"colab-df-quickchart\" onclick=\"quickchart('df-9614755a-6832-4c7e-b3a3-47f4554d3032')\"\n",
              "            title=\"Suggest charts\"\n",
              "            style=\"display:none;\">\n",
              "\n",
              "<svg xmlns=\"http://www.w3.org/2000/svg\" height=\"24px\"viewBox=\"0 0 24 24\"\n",
              "     width=\"24px\">\n",
              "    <g>\n",
              "        <path d=\"M19 3H5c-1.1 0-2 .9-2 2v14c0 1.1.9 2 2 2h14c1.1 0 2-.9 2-2V5c0-1.1-.9-2-2-2zM9 17H7v-7h2v7zm4 0h-2V7h2v10zm4 0h-2v-4h2v4z\"/>\n",
              "    </g>\n",
              "</svg>\n",
              "  </button>\n",
              "\n",
              "<style>\n",
              "  .colab-df-quickchart {\n",
              "      --bg-color: #E8F0FE;\n",
              "      --fill-color: #1967D2;\n",
              "      --hover-bg-color: #E2EBFA;\n",
              "      --hover-fill-color: #174EA6;\n",
              "      --disabled-fill-color: #AAA;\n",
              "      --disabled-bg-color: #DDD;\n",
              "  }\n",
              "\n",
              "  [theme=dark] .colab-df-quickchart {\n",
              "      --bg-color: #3B4455;\n",
              "      --fill-color: #D2E3FC;\n",
              "      --hover-bg-color: #434B5C;\n",
              "      --hover-fill-color: #FFFFFF;\n",
              "      --disabled-bg-color: #3B4455;\n",
              "      --disabled-fill-color: #666;\n",
              "  }\n",
              "\n",
              "  .colab-df-quickchart {\n",
              "    background-color: var(--bg-color);\n",
              "    border: none;\n",
              "    border-radius: 50%;\n",
              "    cursor: pointer;\n",
              "    display: none;\n",
              "    fill: var(--fill-color);\n",
              "    height: 32px;\n",
              "    padding: 0;\n",
              "    width: 32px;\n",
              "  }\n",
              "\n",
              "  .colab-df-quickchart:hover {\n",
              "    background-color: var(--hover-bg-color);\n",
              "    box-shadow: 0 1px 2px rgba(60, 64, 67, 0.3), 0 1px 3px 1px rgba(60, 64, 67, 0.15);\n",
              "    fill: var(--button-hover-fill-color);\n",
              "  }\n",
              "\n",
              "  .colab-df-quickchart-complete:disabled,\n",
              "  .colab-df-quickchart-complete:disabled:hover {\n",
              "    background-color: var(--disabled-bg-color);\n",
              "    fill: var(--disabled-fill-color);\n",
              "    box-shadow: none;\n",
              "  }\n",
              "\n",
              "  .colab-df-spinner {\n",
              "    border: 2px solid var(--fill-color);\n",
              "    border-color: transparent;\n",
              "    border-bottom-color: var(--fill-color);\n",
              "    animation:\n",
              "      spin 1s steps(1) infinite;\n",
              "  }\n",
              "\n",
              "  @keyframes spin {\n",
              "    0% {\n",
              "      border-color: transparent;\n",
              "      border-bottom-color: var(--fill-color);\n",
              "      border-left-color: var(--fill-color);\n",
              "    }\n",
              "    20% {\n",
              "      border-color: transparent;\n",
              "      border-left-color: var(--fill-color);\n",
              "      border-top-color: var(--fill-color);\n",
              "    }\n",
              "    30% {\n",
              "      border-color: transparent;\n",
              "      border-left-color: var(--fill-color);\n",
              "      border-top-color: var(--fill-color);\n",
              "      border-right-color: var(--fill-color);\n",
              "    }\n",
              "    40% {\n",
              "      border-color: transparent;\n",
              "      border-right-color: var(--fill-color);\n",
              "      border-top-color: var(--fill-color);\n",
              "    }\n",
              "    60% {\n",
              "      border-color: transparent;\n",
              "      border-right-color: var(--fill-color);\n",
              "    }\n",
              "    80% {\n",
              "      border-color: transparent;\n",
              "      border-right-color: var(--fill-color);\n",
              "      border-bottom-color: var(--fill-color);\n",
              "    }\n",
              "    90% {\n",
              "      border-color: transparent;\n",
              "      border-bottom-color: var(--fill-color);\n",
              "    }\n",
              "  }\n",
              "</style>\n",
              "\n",
              "  <script>\n",
              "    async function quickchart(key) {\n",
              "      const quickchartButtonEl =\n",
              "        document.querySelector('#' + key + ' button');\n",
              "      quickchartButtonEl.disabled = true;  // To prevent multiple clicks.\n",
              "      quickchartButtonEl.classList.add('colab-df-spinner');\n",
              "      try {\n",
              "        const charts = await google.colab.kernel.invokeFunction(\n",
              "            'suggestCharts', [key], {});\n",
              "      } catch (error) {\n",
              "        console.error('Error during call to suggestCharts:', error);\n",
              "      }\n",
              "      quickchartButtonEl.classList.remove('colab-df-spinner');\n",
              "      quickchartButtonEl.classList.add('colab-df-quickchart-complete');\n",
              "    }\n",
              "    (() => {\n",
              "      let quickchartButtonEl =\n",
              "        document.querySelector('#df-9614755a-6832-4c7e-b3a3-47f4554d3032 button');\n",
              "      quickchartButtonEl.style.display =\n",
              "        google.colab.kernel.accessAllowed ? 'block' : 'none';\n",
              "    })();\n",
              "  </script>\n",
              "</div>\n",
              "\n",
              "    </div>\n",
              "  </div>\n"
            ],
            "application/vnd.google.colaboratory.intrinsic+json": {
              "type": "dataframe",
              "variable_name": "instructions",
              "summary": "{\n  \"name\": \"instructions\",\n  \"rows\": 42076,\n  \"fields\": [\n    {\n      \"column\": \"id\",\n      \"properties\": {\n        \"dtype\": \"string\",\n        \"num_unique_values\": 42076,\n        \"samples\": [\n          \"5e6db1e1023f1930efb27b15\",\n          \"5e6dd6ad023f1930ef592a85\",\n          \"5e6dbd12023f1930efe9d3c2\"\n        ],\n        \"semantic_type\": \"\",\n        \"description\": \"\"\n      }\n    },\n    {\n      \"column\": \"event\",\n      \"properties\": {\n        \"dtype\": \"category\",\n        \"num_unique_values\": 8,\n        \"samples\": [\n          \"Tropical Storm Warning\",\n          \"Storm Warning\",\n          \"Dust Storm Warning\"\n        ],\n        \"semantic_type\": \"\",\n        \"description\": \"\"\n      }\n    },\n    {\n      \"column\": \"instruction_token2\",\n      \"properties\": {\n        \"dtype\": \"category\",\n        \"num_unique_values\": 2968,\n        \"samples\": [\n          \"['winter', 'weather', 'advisory', 'snow', 'mean', 'period', 'snow', 'cause', 'primarily', 'travel', 'difficulty', 'expect', 'snow', 'cover', 'road', 'limited', 'visibility', 'use', 'caution', 'drive', 'late', 'road', 'condition', 'state', 'call', 'obtain', 'call', 'five', 'one', 'one', 'winter', 'weather', 'advisory', 'snow', 'blow', 'snow', 'mean', 'snow', 'strong', 'wind', 'create', 'restrict', 'visibility', 'drift', 'snow', 'along', 'area', 'roadway', 'use', 'caution', 'travel', 'especially', 'open', 'area']\",\n          \"['small', 'craft', 'advisory', 'mean', 'wind', 'speed', 'eighteen', 'thirty', '-', 'three', 'knot', 'andor', 'wave', 'average', 'four', 'foot', 'expect', 'produce', 'hazardous', 'wave', 'condition', 'small', 'craft', 'inexperienced', 'mariner', 'especially', 'operate', 'small', 'vessel', 'avoid', 'navigate', 'condition', 'storm', 'watch', 'issue', 'risk', 'storm', 'force', 'wind', 'four8', 'sixty', '-', 'three', 'knot', 'significantly', 'increase', 'specific', 'timing', 'andor', 'location', 'still', 'uncertain', 'intend', 'provide', 'additional', 'lead', 'time', 'mariner', 'may', 'wish', 'consider', 'alter', 'plan']\",\n          \"['winter', 'storm', 'watch', 'mean', 'potential', 'significant', 'snow', 'accumulation', 'may', 'impact', 'travel', 'continue', 'monitor', 'late', 'forecast', 'wind', 'chill', 'advisory', 'mean', 'cold', 'air', 'brisk', 'wind', 'combine', 'generate', 'low', 'wind', 'chill', 'value', 'frostbite', 'hypothermia', 'may', 'occur', 'precaution', 'take', 'must', 'venture', 'outdoors', 'make', 'sure', 'dress', 'layer', 'cover', 'expose', 'skin']\"\n        ],\n        \"semantic_type\": \"\",\n        \"description\": \"\"\n      }\n    }\n  ]\n}"
            }
          },
          "metadata": {},
          "execution_count": 8
        }
      ]
    },
    {
      "cell_type": "markdown",
      "source": [
        "Unimos los dataframe teniendo en cuanta el ID."
      ],
      "metadata": {
        "id": "K5fAg9WXCVrC"
      }
    },
    {
      "cell_type": "code",
      "source": [
        "alertas = pd.merge(alertas_description, instructions, on='id')"
      ],
      "metadata": {
        "id": "CfLErOLnCUx5"
      },
      "execution_count": 9,
      "outputs": []
    },
    {
      "cell_type": "code",
      "source": [
        "# Combinar las columnas lematizadas y de instrucciones en una única columna\n",
        "alertas['combined_text'] = alertas['lemmatized_description'].apply(lambda x: ' '.join(eval(x))) + ' ' + alertas['instruction']"
      ],
      "metadata": {
        "id": "tq-pCMGcCro9"
      },
      "execution_count": 10,
      "outputs": []
    },
    {
      "cell_type": "code",
      "source": [
        "alertas.head(2)"
      ],
      "metadata": {
        "id": "ulG4ZqIVS-_1",
        "outputId": "dd9cb508-d26f-4504-8538-149986b64fe1",
        "colab": {
          "base_uri": "https://localhost:8080/",
          "height": 271
        }
      },
      "execution_count": 11,
      "outputs": [
        {
          "output_type": "execute_result",
          "data": {
            "text/plain": [
              "                         id                 event_x  \\\n",
              "0  5ed30eb3283336e2e7c8a2a8      Dust Storm Warning   \n",
              "1  5e6daf2c023f1930efa590ce  Tropical Storm Warning   \n",
              "\n",
              "                                         description  \\\n",
              "0  the national weather service in phoenix has is...   \n",
              "1   what winds thirty to forty kt and seas five t...   \n",
              "\n",
              "                                         instruction    urgency severity  \\\n",
              "0  Motorists should not drive into a dust storm. ...   Expected   Severe   \n",
              "1  Mariners should alter plans to avoid these haz...  Immediate   Severe   \n",
              "\n",
              "                                   description_token  \\\n",
              "0  ['the', 'national', 'weather', 'service', 'in'...   \n",
              "1  ['what', 'winds', 'thirty', 'to', 'forty', 'kt...   \n",
              "\n",
              "                            description_no_stopwords  \\\n",
              "0  ['national', 'weather', 'service', 'phoenix', ...   \n",
              "1  ['winds', 'thirty', 'forty', 'kt', 'seas', 'fi...   \n",
              "\n",
              "                              lemmatized_description                 event_y  \\\n",
              "0  ['national', 'weather', 'service', 'phoenix', ...      Dust Storm Warning   \n",
              "1  ['winds', 'thirty', 'forty', 'kt', 'seas', 'fi...  Tropical Storm Warning   \n",
              "\n",
              "                                  instruction_token2  \\\n",
              "0  ['motorist', 'drive', 'dust', 'storm', 'pull',...   \n",
              "1  ['mariner', 'alter', 'plan', 'avoid', 'hazardo...   \n",
              "\n",
              "                                       combined_text  \n",
              "0  national weather service phoenix issued dust s...  \n",
              "1  winds thirty forty kt seas five eight ft south...  "
            ],
            "text/html": [
              "\n",
              "  <div id=\"df-17b8d3c9-972c-4ab2-9af1-4d89770c99db\" class=\"colab-df-container\">\n",
              "    <div>\n",
              "<style scoped>\n",
              "    .dataframe tbody tr th:only-of-type {\n",
              "        vertical-align: middle;\n",
              "    }\n",
              "\n",
              "    .dataframe tbody tr th {\n",
              "        vertical-align: top;\n",
              "    }\n",
              "\n",
              "    .dataframe thead th {\n",
              "        text-align: right;\n",
              "    }\n",
              "</style>\n",
              "<table border=\"1\" class=\"dataframe\">\n",
              "  <thead>\n",
              "    <tr style=\"text-align: right;\">\n",
              "      <th></th>\n",
              "      <th>id</th>\n",
              "      <th>event_x</th>\n",
              "      <th>description</th>\n",
              "      <th>instruction</th>\n",
              "      <th>urgency</th>\n",
              "      <th>severity</th>\n",
              "      <th>description_token</th>\n",
              "      <th>description_no_stopwords</th>\n",
              "      <th>lemmatized_description</th>\n",
              "      <th>event_y</th>\n",
              "      <th>instruction_token2</th>\n",
              "      <th>combined_text</th>\n",
              "    </tr>\n",
              "  </thead>\n",
              "  <tbody>\n",
              "    <tr>\n",
              "      <th>0</th>\n",
              "      <td>5ed30eb3283336e2e7c8a2a8</td>\n",
              "      <td>Dust Storm Warning</td>\n",
              "      <td>the national weather service in phoenix has is...</td>\n",
              "      <td>Motorists should not drive into a dust storm. ...</td>\n",
              "      <td>Expected</td>\n",
              "      <td>Severe</td>\n",
              "      <td>['the', 'national', 'weather', 'service', 'in'...</td>\n",
              "      <td>['national', 'weather', 'service', 'phoenix', ...</td>\n",
              "      <td>['national', 'weather', 'service', 'phoenix', ...</td>\n",
              "      <td>Dust Storm Warning</td>\n",
              "      <td>['motorist', 'drive', 'dust', 'storm', 'pull',...</td>\n",
              "      <td>national weather service phoenix issued dust s...</td>\n",
              "    </tr>\n",
              "    <tr>\n",
              "      <th>1</th>\n",
              "      <td>5e6daf2c023f1930efa590ce</td>\n",
              "      <td>Tropical Storm Warning</td>\n",
              "      <td>what winds thirty to forty kt and seas five t...</td>\n",
              "      <td>Mariners should alter plans to avoid these haz...</td>\n",
              "      <td>Immediate</td>\n",
              "      <td>Severe</td>\n",
              "      <td>['what', 'winds', 'thirty', 'to', 'forty', 'kt...</td>\n",
              "      <td>['winds', 'thirty', 'forty', 'kt', 'seas', 'fi...</td>\n",
              "      <td>['winds', 'thirty', 'forty', 'kt', 'seas', 'fi...</td>\n",
              "      <td>Tropical Storm Warning</td>\n",
              "      <td>['mariner', 'alter', 'plan', 'avoid', 'hazardo...</td>\n",
              "      <td>winds thirty forty kt seas five eight ft south...</td>\n",
              "    </tr>\n",
              "  </tbody>\n",
              "</table>\n",
              "</div>\n",
              "    <div class=\"colab-df-buttons\">\n",
              "\n",
              "  <div class=\"colab-df-container\">\n",
              "    <button class=\"colab-df-convert\" onclick=\"convertToInteractive('df-17b8d3c9-972c-4ab2-9af1-4d89770c99db')\"\n",
              "            title=\"Convert this dataframe to an interactive table.\"\n",
              "            style=\"display:none;\">\n",
              "\n",
              "  <svg xmlns=\"http://www.w3.org/2000/svg\" height=\"24px\" viewBox=\"0 -960 960 960\">\n",
              "    <path d=\"M120-120v-720h720v720H120Zm60-500h600v-160H180v160Zm220 220h160v-160H400v160Zm0 220h160v-160H400v160ZM180-400h160v-160H180v160Zm440 0h160v-160H620v160ZM180-180h160v-160H180v160Zm440 0h160v-160H620v160Z\"/>\n",
              "  </svg>\n",
              "    </button>\n",
              "\n",
              "  <style>\n",
              "    .colab-df-container {\n",
              "      display:flex;\n",
              "      gap: 12px;\n",
              "    }\n",
              "\n",
              "    .colab-df-convert {\n",
              "      background-color: #E8F0FE;\n",
              "      border: none;\n",
              "      border-radius: 50%;\n",
              "      cursor: pointer;\n",
              "      display: none;\n",
              "      fill: #1967D2;\n",
              "      height: 32px;\n",
              "      padding: 0 0 0 0;\n",
              "      width: 32px;\n",
              "    }\n",
              "\n",
              "    .colab-df-convert:hover {\n",
              "      background-color: #E2EBFA;\n",
              "      box-shadow: 0px 1px 2px rgba(60, 64, 67, 0.3), 0px 1px 3px 1px rgba(60, 64, 67, 0.15);\n",
              "      fill: #174EA6;\n",
              "    }\n",
              "\n",
              "    .colab-df-buttons div {\n",
              "      margin-bottom: 4px;\n",
              "    }\n",
              "\n",
              "    [theme=dark] .colab-df-convert {\n",
              "      background-color: #3B4455;\n",
              "      fill: #D2E3FC;\n",
              "    }\n",
              "\n",
              "    [theme=dark] .colab-df-convert:hover {\n",
              "      background-color: #434B5C;\n",
              "      box-shadow: 0px 1px 3px 1px rgba(0, 0, 0, 0.15);\n",
              "      filter: drop-shadow(0px 1px 2px rgba(0, 0, 0, 0.3));\n",
              "      fill: #FFFFFF;\n",
              "    }\n",
              "  </style>\n",
              "\n",
              "    <script>\n",
              "      const buttonEl =\n",
              "        document.querySelector('#df-17b8d3c9-972c-4ab2-9af1-4d89770c99db button.colab-df-convert');\n",
              "      buttonEl.style.display =\n",
              "        google.colab.kernel.accessAllowed ? 'block' : 'none';\n",
              "\n",
              "      async function convertToInteractive(key) {\n",
              "        const element = document.querySelector('#df-17b8d3c9-972c-4ab2-9af1-4d89770c99db');\n",
              "        const dataTable =\n",
              "          await google.colab.kernel.invokeFunction('convertToInteractive',\n",
              "                                                    [key], {});\n",
              "        if (!dataTable) return;\n",
              "\n",
              "        const docLinkHtml = 'Like what you see? Visit the ' +\n",
              "          '<a target=\"_blank\" href=https://colab.research.google.com/notebooks/data_table.ipynb>data table notebook</a>'\n",
              "          + ' to learn more about interactive tables.';\n",
              "        element.innerHTML = '';\n",
              "        dataTable['output_type'] = 'display_data';\n",
              "        await google.colab.output.renderOutput(dataTable, element);\n",
              "        const docLink = document.createElement('div');\n",
              "        docLink.innerHTML = docLinkHtml;\n",
              "        element.appendChild(docLink);\n",
              "      }\n",
              "    </script>\n",
              "  </div>\n",
              "\n",
              "\n",
              "<div id=\"df-a78828af-b319-48f3-8a3f-1f2f8decd7d0\">\n",
              "  <button class=\"colab-df-quickchart\" onclick=\"quickchart('df-a78828af-b319-48f3-8a3f-1f2f8decd7d0')\"\n",
              "            title=\"Suggest charts\"\n",
              "            style=\"display:none;\">\n",
              "\n",
              "<svg xmlns=\"http://www.w3.org/2000/svg\" height=\"24px\"viewBox=\"0 0 24 24\"\n",
              "     width=\"24px\">\n",
              "    <g>\n",
              "        <path d=\"M19 3H5c-1.1 0-2 .9-2 2v14c0 1.1.9 2 2 2h14c1.1 0 2-.9 2-2V5c0-1.1-.9-2-2-2zM9 17H7v-7h2v7zm4 0h-2V7h2v10zm4 0h-2v-4h2v4z\"/>\n",
              "    </g>\n",
              "</svg>\n",
              "  </button>\n",
              "\n",
              "<style>\n",
              "  .colab-df-quickchart {\n",
              "      --bg-color: #E8F0FE;\n",
              "      --fill-color: #1967D2;\n",
              "      --hover-bg-color: #E2EBFA;\n",
              "      --hover-fill-color: #174EA6;\n",
              "      --disabled-fill-color: #AAA;\n",
              "      --disabled-bg-color: #DDD;\n",
              "  }\n",
              "\n",
              "  [theme=dark] .colab-df-quickchart {\n",
              "      --bg-color: #3B4455;\n",
              "      --fill-color: #D2E3FC;\n",
              "      --hover-bg-color: #434B5C;\n",
              "      --hover-fill-color: #FFFFFF;\n",
              "      --disabled-bg-color: #3B4455;\n",
              "      --disabled-fill-color: #666;\n",
              "  }\n",
              "\n",
              "  .colab-df-quickchart {\n",
              "    background-color: var(--bg-color);\n",
              "    border: none;\n",
              "    border-radius: 50%;\n",
              "    cursor: pointer;\n",
              "    display: none;\n",
              "    fill: var(--fill-color);\n",
              "    height: 32px;\n",
              "    padding: 0;\n",
              "    width: 32px;\n",
              "  }\n",
              "\n",
              "  .colab-df-quickchart:hover {\n",
              "    background-color: var(--hover-bg-color);\n",
              "    box-shadow: 0 1px 2px rgba(60, 64, 67, 0.3), 0 1px 3px 1px rgba(60, 64, 67, 0.15);\n",
              "    fill: var(--button-hover-fill-color);\n",
              "  }\n",
              "\n",
              "  .colab-df-quickchart-complete:disabled,\n",
              "  .colab-df-quickchart-complete:disabled:hover {\n",
              "    background-color: var(--disabled-bg-color);\n",
              "    fill: var(--disabled-fill-color);\n",
              "    box-shadow: none;\n",
              "  }\n",
              "\n",
              "  .colab-df-spinner {\n",
              "    border: 2px solid var(--fill-color);\n",
              "    border-color: transparent;\n",
              "    border-bottom-color: var(--fill-color);\n",
              "    animation:\n",
              "      spin 1s steps(1) infinite;\n",
              "  }\n",
              "\n",
              "  @keyframes spin {\n",
              "    0% {\n",
              "      border-color: transparent;\n",
              "      border-bottom-color: var(--fill-color);\n",
              "      border-left-color: var(--fill-color);\n",
              "    }\n",
              "    20% {\n",
              "      border-color: transparent;\n",
              "      border-left-color: var(--fill-color);\n",
              "      border-top-color: var(--fill-color);\n",
              "    }\n",
              "    30% {\n",
              "      border-color: transparent;\n",
              "      border-left-color: var(--fill-color);\n",
              "      border-top-color: var(--fill-color);\n",
              "      border-right-color: var(--fill-color);\n",
              "    }\n",
              "    40% {\n",
              "      border-color: transparent;\n",
              "      border-right-color: var(--fill-color);\n",
              "      border-top-color: var(--fill-color);\n",
              "    }\n",
              "    60% {\n",
              "      border-color: transparent;\n",
              "      border-right-color: var(--fill-color);\n",
              "    }\n",
              "    80% {\n",
              "      border-color: transparent;\n",
              "      border-right-color: var(--fill-color);\n",
              "      border-bottom-color: var(--fill-color);\n",
              "    }\n",
              "    90% {\n",
              "      border-color: transparent;\n",
              "      border-bottom-color: var(--fill-color);\n",
              "    }\n",
              "  }\n",
              "</style>\n",
              "\n",
              "  <script>\n",
              "    async function quickchart(key) {\n",
              "      const quickchartButtonEl =\n",
              "        document.querySelector('#' + key + ' button');\n",
              "      quickchartButtonEl.disabled = true;  // To prevent multiple clicks.\n",
              "      quickchartButtonEl.classList.add('colab-df-spinner');\n",
              "      try {\n",
              "        const charts = await google.colab.kernel.invokeFunction(\n",
              "            'suggestCharts', [key], {});\n",
              "      } catch (error) {\n",
              "        console.error('Error during call to suggestCharts:', error);\n",
              "      }\n",
              "      quickchartButtonEl.classList.remove('colab-df-spinner');\n",
              "      quickchartButtonEl.classList.add('colab-df-quickchart-complete');\n",
              "    }\n",
              "    (() => {\n",
              "      let quickchartButtonEl =\n",
              "        document.querySelector('#df-a78828af-b319-48f3-8a3f-1f2f8decd7d0 button');\n",
              "      quickchartButtonEl.style.display =\n",
              "        google.colab.kernel.accessAllowed ? 'block' : 'none';\n",
              "    })();\n",
              "  </script>\n",
              "</div>\n",
              "\n",
              "    </div>\n",
              "  </div>\n"
            ],
            "application/vnd.google.colaboratory.intrinsic+json": {
              "type": "dataframe",
              "variable_name": "alertas",
              "summary": "{\n  \"name\": \"alertas\",\n  \"rows\": 42076,\n  \"fields\": [\n    {\n      \"column\": \"id\",\n      \"properties\": {\n        \"dtype\": \"string\",\n        \"num_unique_values\": 42076,\n        \"samples\": [\n          \"5e6db1e1023f1930efb27b15\",\n          \"5e6dd6ad023f1930ef592a85\",\n          \"5e6dbd12023f1930efe9d3c2\"\n        ],\n        \"semantic_type\": \"\",\n        \"description\": \"\"\n      }\n    },\n    {\n      \"column\": \"event_x\",\n      \"properties\": {\n        \"dtype\": \"category\",\n        \"num_unique_values\": 8,\n        \"samples\": [\n          \"Tropical Storm Warning\",\n          \"Storm Warning\",\n          \"Dust Storm Warning\"\n        ],\n        \"semantic_type\": \"\",\n        \"description\": \"\"\n      }\n    },\n    {\n      \"column\": \"description\",\n      \"properties\": {\n        \"dtype\": \"string\",\n        \"num_unique_values\": 32824,\n        \"samples\": [\n          \" what southwest winds thirty-five to forty-five kt with gusts up to sixty kt and seas thirteen to eighteen feet expected   where block island sound and rhode island sound   when from one pm this afternoon to eight pm est this evening   impacts very strong winds will cause hazardous seas which could capsize or damage vessels and reduce visibility\",\n          \"a storm system will develop over the oklahoma panhandle region today and move quickly northeast toward the area this storm system will bring with it plenty of moisture and warmer air snow will spread northeast into the area tonight and continue through the day on sunday the snow will end from west to east sunday night snow accumulations four to eight inches   snow is expected to spread into the area late tonight and then   continue into sunday night   the heaviest snow is expected during the day on sunday   the snow is expected to gradually end from west to east sunday    night   impacts snow will be the main threat during this event    hazardous travel conditions are expected due to reduced    visibility from the snow and snow accumulation\",\n          \" what heavy wet snow expected precipitation may begin as rain or a mix of rain and snow this morning before changing over to all snow by midday total snow accumulations of three to seven inches with the highest amounts across the mountainous counties   where portions of central northeast and northern west virginia   when heaviest snow will fall this afternoon and evening   additional details travel could be very difficult \"\n        ],\n        \"semantic_type\": \"\",\n        \"description\": \"\"\n      }\n    },\n    {\n      \"column\": \"instruction\",\n      \"properties\": {\n        \"dtype\": \"category\",\n        \"num_unique_values\": 3773,\n        \"samples\": [\n          \"A Winter Storm Warning for wet snow means there will be snow\\ncovered roads and limited visibilities. Travel is not recommended\\nwhile the warning is in effect. If you must travel, keep an extra\\nflashlight, food and water in your vehicle in case of an\\nemergency.The latest road conditions for the state you are\\ncalling from can be obtained by calling 5 1 1.\",\n          \"Recreational boaters should remain in port...or take shelter\\nuntil winds and waves subside. Commercial vessels should prepare\\nfor very strong winds and dangerous sea conditions...and consider\\nremaining in port or taking shelter in port until winds and waves\\nsubside.\\n\\n\",\n          \"THIS WINTER STORM WARNING MEANS THAT SIGNIFICANT AMOUNTS OF SNOW,\\nSLEET AND ICE ARE EXPECTED, MAKING TRAVEL VERY HAZARDOUS OR\\nIMPOSSIBLE.\\n\\n\"\n        ],\n        \"semantic_type\": \"\",\n        \"description\": \"\"\n      }\n    },\n    {\n      \"column\": \"urgency\",\n      \"properties\": {\n        \"dtype\": \"category\",\n        \"num_unique_values\": 4,\n        \"samples\": [\n          \"Immediate\",\n          \"Future\",\n          \"Expected\"\n        ],\n        \"semantic_type\": \"\",\n        \"description\": \"\"\n      }\n    },\n    {\n      \"column\": \"severity\",\n      \"properties\": {\n        \"dtype\": \"category\",\n        \"num_unique_values\": 3,\n        \"samples\": [\n          \"Severe\",\n          \"Minor\",\n          \"Extreme\"\n        ],\n        \"semantic_type\": \"\",\n        \"description\": \"\"\n      }\n    },\n    {\n      \"column\": \"description_token\",\n      \"properties\": {\n        \"dtype\": \"string\",\n        \"num_unique_values\": 32416,\n        \"samples\": [\n          \"['a', 'storm', 'system', 'will', 'move', 'across', 'the', 'midwest', 'through', 'tonight', 'this', 'storm', 'system', 'will', 'continue', 'to', 'bring', 'snow', 'up', 'across', 'much', 'of', 'the', 'area', 'through', 'this', 'evening', 'and', 'create', 'some', 'travel', 'difficulties', 'this', 'weekend', 'snowfall', 'totals', 'will', 'range', 'from', 'two', 'to', 'four', 'inches', 'from', 'around', 'highway', 'thirty', 'down', 'to', 'the', 'interstate', 'eighty', 'corridor', 'to', 'five', 'to', 'nine', 'inches', 'south', 'of', 'interstate', 'eighty', 'the', 'highest', 'snowfall', 'amounts', 'look', 'to', 'be', 'along', 'and', 'south', 'of', 'highway', 'threefour', 'what', 'heavy', 'snow', 'additional', 'snow', 'accumulations', 'of', 'three', 'to', 'five', 'inches', 'for', 'storm', 'total', 'snow', 'accumulations', 'of', 'six', 'to', 'nine', 'inches', 'where', 'van', 'buren', 'and', 'lee', 'counties', 'when', 'until', 'nine', 'pm', 'cst', 'this', 'evening', 'additional', 'details', 'travel', 'could', 'be', 'very', 'difficult']\",\n          \"['mixed', 'precipitation', 'expected', 'wednesday', 'evening', 'transitioning', 'from', 'northwest', 'to', 'southeast', 'to', 'all', 'snow', 'thursday', 'what', 'mixed', 'precipitation', 'expected', 'this', 'evening', 'transiting', 'to', 'all', 'snow', 'by', 'six', 'am', 'thursday', 'total', 'snow', 'accumulations', 'of', 'five', 'to', 'ten', 'inches', 'with', 'locally', 'heavier', 'amounts', 'of', 'twelve', 'to', 'fourteen', 'inches', 'ice', 'accumulations', 'of', 'up', 'to', 'one', 'tenth', 'of', 'an', 'inch', 'where', 'north', 'laramie', 'range', 'when', 'from', 'six', 'pm', 'this', 'evening', 'to', 'nine', 'pm', 'mdt', 'thursday', 'impacts', 'travel', 'could', 'be', 'very', 'difficult', 'hikers', 'and', 'snowmobilers', 'may', 'become', 'disoriented', 'or', 'lost']\",\n          \"['major', 'winter', 'storm', 'likely', 'tonight', 'into', 'sunday', 'rain', 'will', 'continue', 'to', 'transition', 'to', 'snow', 'across', 'the', 'far', 'north', 'through', 'the', 'overnight', 'hours', 'possibly', 'heavy', 'at', 'times', 'into', 'sunday', 'meanwhile', 'an', 'area', 'of', 'sleet', 'and', 'freezing', 'rain', 'will', 'impact', 'the', 'central', 'highlands', 'upper', 'penobscot', 'valley', 'and', 'southern', 'aroostook', 'areas', 'up', 'to', 'two', 'inches', 'of', 'sleet', 'is', 'possible', 'for', 'central', 'portions', 'of', 'the', 'region', 'and', 'around', 'a', 'half', 'inch', 'of', 'ice', 'will', 'be', 'possible', 'across', 'portions', 'of', 'interior', 'and', 'coastal', 'downeast', 'late', 'tonight', 'through', 'sunday', 'evening', 'what', 'heavy', 'mixed', 'precipitation', 'expected', 'total', 'snow', 'accumulations', 'of', 'five', 'to', 'ten', 'inches', 'with', 'ten', 'to', '1five', 'inches', 'over', 'the', 'saint', 'john', 'valley', 'sleet', 'accumulations', 'of', '0five', 'to', '1five', 'inches', 'and', 'ice', 'accumulations', 'of', 'a', 'light', 'glaze', 'expected', 'where', 'northeast', 'aroostook', 'and', 'northwest', 'aroostook', 'counties', 'when', 'until', 'four', 'pm', 'est', 'sunday', 'additional', 'details', 'travel', 'could', 'be', 'extremely', 'dangerous']\"\n        ],\n        \"semantic_type\": \"\",\n        \"description\": \"\"\n      }\n    },\n    {\n      \"column\": \"description_no_stopwords\",\n      \"properties\": {\n        \"dtype\": \"string\",\n        \"num_unique_values\": 32344,\n        \"samples\": [\n          \"['snow', 'slowly', 'end', 'southwest', 'northeast', 'mid', 'day', 'time', 'winds', 'gradually', 'diminish', 'decrease', 'amount', 'drifting', 'blowing', 'snow', 'across', 'area', 'additional', 'snowfall', 'accumulations', 'inch', 'possible', 'snow', 'ends', 'especially', 'north', 'line', 'aledo', 'illinois', 'vinton', 'iowa', 'heavy', 'snow', 'additional', 'snow', 'accumulations', 'one', 'inch', 'portions', 'east', 'central', 'northeast', 'southeast', 'iowa', 'noon', 'cst', 'today', 'additional', 'details', 'plan', 'slippery', 'road', 'conditions', 'hazardous', 'conditions', 'could', 'impact', 'morning', 'commute']\",\n          \"['heavy', 'snow', 'blowing', 'snow', 'occurring', 'travel', 'difficult', 'impossible', 'additional', 'snow', 'accumulations', 'eight', 'eleven', 'inches', 'localized', 'amounts', 'fifteen', 'inches', 'expected', 'deltana', 'tanana', 'flats', 'six', 'pm', 'wednesday', 'additional', 'details', 'winds', 'gusting', 'high', 'thirty-five', 'mph', 'cause', 'areas', 'blowing', 'drifting', 'snow', 'heaviest', 'snow', 'along', 'east', 'richardson', 'highway']\",\n          \"['snow', 'expected', 'freezing', 'rain', 'possible', 'plan', 'difficult', 'travel', 'conditions', 'total', 'snow', 'accumulations', 'four', 'eight', 'inches', 'localized', 'amounts', 'twelve', 'inches', 'ice', 'accumulations', 'light', 'glaze', 'expected', 'yukon', 'delta', 'noon', 'today', 'six', 'pm', 'saturday', 'first', 'wave', 'snow', 'move', 'afternoon', 'taper', 'evening', 'second', 'wave', 'snow', 'start', 'push', 'midnight', 'tonight', 'additional', 'details', 'winds', 'gusting', 'high', 'fifty', 'mph', 'cause', 'areas', 'blowing', 'drifting', 'snow', 'snow', 'may', 'mix', 'freezing', 'rain', 'times', 'saturday']\"\n        ],\n        \"semantic_type\": \"\",\n        \"description\": \"\"\n      }\n    },\n    {\n      \"column\": \"lemmatized_description\",\n      \"properties\": {\n        \"dtype\": \"string\",\n        \"num_unique_values\": 32344,\n        \"samples\": [\n          \"['snow', 'slowly', 'end', 'southwest', 'northeast', 'mid', 'day', 'time', 'winds', 'gradually', 'diminish', 'decrease', 'amount', 'drifting', 'blowing', 'snow', 'across', 'area', 'additional', 'snowfall', 'accumulations', 'inch', 'possible', 'snow', 'ends', 'especially', 'north', 'line', 'aledo', 'illinois', 'vinton', 'iowa', 'heavy', 'snow', 'additional', 'snow', 'accumulations', 'one', 'inch', 'portions', 'east', 'central', 'northeast', 'southeast', 'iowa', 'noon', 'cst', 'today', 'additional', 'details', 'plan', 'slippery', 'road', 'conditions', 'hazardous', 'conditions', 'could', 'impact', 'morning', 'commute']\",\n          \"['heavy', 'snow', 'blowing', 'snow', 'occurring', 'travel', 'difficult', 'impossible', 'additional', 'snow', 'accumulations', 'eight', 'eleven', 'inches', 'localized', 'amounts', 'fifteen', 'inches', 'expected', 'deltana', 'tanana', 'flats', 'six', 'pm', 'wednesday', 'additional', 'details', 'winds', 'gusting', 'high', 'thirty-five', 'mph', 'cause', 'areas', 'blowing', 'drifting', 'snow', 'heaviest', 'snow', 'along', 'east', 'richardson', 'highway']\",\n          \"['snow', 'expected', 'freezing', 'rain', 'possible', 'plan', 'difficult', 'travel', 'conditions', 'total', 'snow', 'accumulations', 'four', 'eight', 'inches', 'localized', 'amounts', 'twelve', 'inches', 'ice', 'accumulations', 'light', 'glaze', 'expected', 'yukon', 'delta', 'noon', 'today', 'six', 'pm', 'saturday', 'first', 'wave', 'snow', 'move', 'afternoon', 'taper', 'evening', 'second', 'wave', 'snow', 'start', 'push', 'midnight', 'tonight', 'additional', 'details', 'winds', 'gusting', 'high', 'fifty', 'mph', 'cause', 'areas', 'blowing', 'drifting', 'snow', 'snow', 'may', 'mix', 'freezing', 'rain', 'times', 'saturday']\"\n        ],\n        \"semantic_type\": \"\",\n        \"description\": \"\"\n      }\n    },\n    {\n      \"column\": \"event_y\",\n      \"properties\": {\n        \"dtype\": \"category\",\n        \"num_unique_values\": 8,\n        \"samples\": [\n          \"Tropical Storm Warning\",\n          \"Storm Warning\",\n          \"Dust Storm Warning\"\n        ],\n        \"semantic_type\": \"\",\n        \"description\": \"\"\n      }\n    },\n    {\n      \"column\": \"instruction_token2\",\n      \"properties\": {\n        \"dtype\": \"category\",\n        \"num_unique_values\": 2968,\n        \"samples\": [\n          \"['winter', 'weather', 'advisory', 'snow', 'mean', 'period', 'snow', 'cause', 'primarily', 'travel', 'difficulty', 'expect', 'snow', 'cover', 'road', 'limited', 'visibility', 'use', 'caution', 'drive', 'late', 'road', 'condition', 'state', 'call', 'obtain', 'call', 'five', 'one', 'one', 'winter', 'weather', 'advisory', 'snow', 'blow', 'snow', 'mean', 'snow', 'strong', 'wind', 'create', 'restrict', 'visibility', 'drift', 'snow', 'along', 'area', 'roadway', 'use', 'caution', 'travel', 'especially', 'open', 'area']\",\n          \"['small', 'craft', 'advisory', 'mean', 'wind', 'speed', 'eighteen', 'thirty', '-', 'three', 'knot', 'andor', 'wave', 'average', 'four', 'foot', 'expect', 'produce', 'hazardous', 'wave', 'condition', 'small', 'craft', 'inexperienced', 'mariner', 'especially', 'operate', 'small', 'vessel', 'avoid', 'navigate', 'condition', 'storm', 'watch', 'issue', 'risk', 'storm', 'force', 'wind', 'four8', 'sixty', '-', 'three', 'knot', 'significantly', 'increase', 'specific', 'timing', 'andor', 'location', 'still', 'uncertain', 'intend', 'provide', 'additional', 'lead', 'time', 'mariner', 'may', 'wish', 'consider', 'alter', 'plan']\",\n          \"['winter', 'storm', 'watch', 'mean', 'potential', 'significant', 'snow', 'accumulation', 'may', 'impact', 'travel', 'continue', 'monitor', 'late', 'forecast', 'wind', 'chill', 'advisory', 'mean', 'cold', 'air', 'brisk', 'wind', 'combine', 'generate', 'low', 'wind', 'chill', 'value', 'frostbite', 'hypothermia', 'may', 'occur', 'precaution', 'take', 'must', 'venture', 'outdoors', 'make', 'sure', 'dress', 'layer', 'cover', 'expose', 'skin']\"\n        ],\n        \"semantic_type\": \"\",\n        \"description\": \"\"\n      }\n    },\n    {\n      \"column\": \"combined_text\",\n      \"properties\": {\n        \"dtype\": \"string\",\n        \"num_unique_values\": 33883,\n        \"samples\": [\n          \"strong cold wet system bring snow much southwest oregon northern california weekend heaviest snow biggest impacts felt mountains including lower passes valley locations perhaps even coast eventually see snow snow levels plummet cold pattern expected continue next week another major storm possible sunday night tuesday heavy snow expected total snow accumulations ten eighteen inches local amounts two feet expected south central oregon cascades including crater lake diamond lake highways affected include 6two two30 one hundred thirty-eight ten pm pst saturday snow increase intensity overnight continue saturday additional details travel could difficult impossible hazardous conditions could impact evening commute sunday night tuesday another storm bring heavy snow area sunday night tuesday view hazard area detail httpswwwwrhnoaagovmfrhazard * Travel is strongly discouraged because of dangerous conditions.\\n\\n* If you must travel, keep tire chains, a flashlight, blankets,\\nfood, water, medications, and a fully charged phone with you.\\n\\n* The safest place during a winter storm is indoors.\\n\\n* A Winter Storm Warning means that severe winter weather is\\nimminent and poses a threat to life and property. Take\\nprotective action now.\\n\\n\",\n          \"lakeeffect snow today widespread possibly heavy snow thursday friday additional snow accumulations one three inches today perhaps bringing lakeeffect storm totals much four seven inches late afternoon total snow accumulations thursday morning early friday afternoon much seven eight inches possible southern cayuga onondaga counties particularly higher terrain south auburn syracuse winter weather advisory seven pm est evening winter storm watch thursday morning friday afternoon lakeeffect snow diminish late afternoon steady snow redevelops thursday afternoon another round possibly heavy snow later thursday night friday additional details travel could difficult hazardous conditions could impact morning evening commute A Winter Weather Advisory for snow means periods of snow will\\ncause primarily travel difficulties. Expect snow covered roads\\nand limited visibilities, and use caution while driving.\\n\\nA Winter Storm Watch means there is potential for significant\\nsnow, sleet or ice accumulations that may impact travel. Continue\\nto monitor the latest forecasts.\\n\\nThe latest road conditions for the state you are calling from can\\nbe obtained by calling 5 1 1.\\n\\n\",\n          \"low pressure along north carolina coast move away area overnight cold high pressure covering ohio northern midatlantic region linger steady heavier snow gradually diminish periods light snow freezing drizzle continue overnight light additional accumulations heaviest lingering precipitation overnight across southside virginia heavy snow ended periods light snow freezing drizzle may linger additional snow accumulations expected less inch virginia bath county west virginia eastern greenbrier county eleven est monday additional details plan slippery road conditions hazardous conditions could impact morning commute A Winter Storm Warning for snow means severe winter weather\\nconditions will make travel very hazardous or impossible. If you\\nmust travel, keep an extra flashlight, food and water in your\\nvehicle in case of an emergency.\\n\\nThe latest road conditions for the state you are calling from can\\nbe obtained by calling 5 1 1.\\n\\n\"\n        ],\n        \"semantic_type\": \"\",\n        \"description\": \"\"\n      }\n    }\n  ]\n}"
            }
          },
          "metadata": {},
          "execution_count": 11
        }
      ]
    },
    {
      "cell_type": "code",
      "source": [
        "# Tokenización y padding\n",
        "tokenizer = Tokenizer()\n",
        "tokenizer.fit_on_texts(alertas['combined_text'])\n",
        "sequences = tokenizer.texts_to_sequences(alertas['combined_text'])\n",
        "max_len = 200\n",
        "padded_sequences = pad_sequences(sequences, maxlen=max_len, padding='post')"
      ],
      "metadata": {
        "id": "moVTqyeNCzSm"
      },
      "execution_count": 12,
      "outputs": []
    },
    {
      "cell_type": "code",
      "source": [
        "# Word Embeddings\n",
        "sentences = [text.split() for text in alertas['combined_text']]\n",
        "word2vec_model = Word2Vec(sentences, vector_size=100, window=5, min_count=1, workers=4, epochs=10)"
      ],
      "metadata": {
        "id": "fr83hBDKC2hn"
      },
      "execution_count": 13,
      "outputs": []
    },
    {
      "cell_type": "markdown",
      "source": [
        "Visualizar la distribucion de etiquetas."
      ],
      "metadata": {
        "id": "SeAb-VTePx8O"
      }
    },
    {
      "cell_type": "code",
      "source": [
        "plt.figure(figsize=(10, 4))\n",
        "alertas['event_x'].value_counts().plot(kind='bar')\n",
        "plt.title('Distribución de etiquetas')\n",
        "plt.xlabel('Tipo de evento')\n",
        "plt.ylabel('Frecuencia')\n",
        "plt.show()"
      ],
      "metadata": {
        "id": "7Vf275WDPtE9",
        "outputId": "c6dd2ab8-cd5e-4fd5-c683-ca2b189179f6",
        "colab": {
          "base_uri": "https://localhost:8080/",
          "height": 558
        }
      },
      "execution_count": 14,
      "outputs": [
        {
          "output_type": "display_data",
          "data": {
            "text/plain": [
              "<Figure size 1000x400 with 1 Axes>"
            ],
            "image/png": "[encoded data removed]"
          },
          "metadata": {}
        }
      ]
    },
    {
      "cell_type": "code",
      "source": [
        "# Revisión de la consistencia de etiquetas\n",
        "grupo_evento = alertas.groupby('event_x')\n",
        "for event, group in grupo_evento:\n",
        "    print(f\"Evento: {event}\")\n",
        "    print(group['combined_text'].head(5))\n",
        "    print(\"\\n\")"
      ],
      "metadata": {
        "id": "Dqys0D0kP1ne",
        "outputId": "10e29769-cdd5-4e0e-a3f9-04b5af2e26f9",
        "colab": {
          "base_uri": "https://localhost:8080/"
        }
      },
      "execution_count": 15,
      "outputs": [
        {
          "output_type": "stream",
          "name": "stdout",
          "text": [
            "Evento: Dust Storm Warning\n",
            "0     national weather service phoenix issued dust s...\n",
            "52    national weather service el paso issued dust s...\n",
            "62    national weather service spokane issued dust s...\n",
            "63    national weather service spokane issued dust s...\n",
            "64    national weather service spokane issued dust s...\n",
            "Name: combined_text, dtype: object\n",
            "\n",
            "\n",
            "Evento: Ice Storm Warning\n",
            "5150    significant icing expected total snow accumula...\n",
            "6093    ice storm warning cancelled longer effect A Wi...\n",
            "6107    ice storm warning cancelled longer effect A Wi...\n",
            "6109    significant icing expected total snow accumula...\n",
            "6153    significant icing expected total snow accumula...\n",
            "Name: combined_text, dtype: object\n",
            "\n",
            "\n",
            "Evento: Storm Warning\n",
            "76     southwest winds fifteen twenty-five kt gusts t...\n",
            "77     storm warning south winds fifty kts gusts seve...\n",
            "252    storm warning cancelled longer effect Mariners...\n",
            "253    storm warning cancelled longer effect Mariners...\n",
            "255    storm warning cancelled longer effect Mariners...\n",
            "Name: combined_text, dtype: object\n",
            "\n",
            "\n",
            "Evento: Storm Watch\n",
            "412    storm watch replaced please see latest informa...\n",
            "413    storm watch replaced please see latest informa...\n",
            "414    storm watch replaced please see latest informa...\n",
            "416    storm watch replaced please see latest informa...\n",
            "420    storm watch replaced please see latest informa...\n",
            "Name: combined_text, dtype: object\n",
            "\n",
            "\n",
            "Evento: Tropical Storm Warning\n",
            "1     winds thirty forty kt seas five eight ft south...\n",
            "2     northeast winds twenty-five thirty-five kt wav...\n",
            "8     tropical storm warning cancelled longer effect...\n",
            "9     tropical storm warning cancelled longer effect...\n",
            "10    tropical storm warning cancelled longer effect...\n",
            "Name: combined_text, dtype: object\n",
            "\n",
            "\n",
            "Evento: Tropical Storm Watch\n",
            "37       south winds twenty-five thirty-five kt gusts f...\n",
            "38       southeast winds twenty-five thirty-five kt gus...\n",
            "39       south winds thirty-five forty-five kt gusts fi...\n",
            "40       south winds twenty thirty kt gusts fifty kt ro...\n",
            "12745    tropical storm watch cancelled longer effect F...\n",
            "Name: combined_text, dtype: object\n",
            "\n",
            "\n",
            "Evento: Winter Storm Warning\n",
            "3    winter storm warning cancelled longer effect A...\n",
            "4    snow showers higher mountain elevations tuesda...\n",
            "5    heavy snow seven thousand feet additional snow...\n",
            "6    snow showers higher mountain elevations tuesda...\n",
            "7    snow showers higher mountain elevations tuesda...\n",
            "Name: combined_text, dtype: object\n",
            "\n",
            "\n",
            "Evento: Winter Storm Watch\n",
            "33    winter storm watch replaced please see latest ...\n",
            "34    winter storm watch replaced please see latest ...\n",
            "41    snow strong wind higher mountain elevations la...\n",
            "42    snow strong wind higher mountain elevations la...\n",
            "45    heavy snow possible seven thousand feet total ...\n",
            "Name: combined_text, dtype: object\n",
            "\n",
            "\n"
          ]
        }
      ]
    },
    {
      "cell_type": "markdown",
      "source": [
        "Detectar anomalias."
      ],
      "metadata": {
        "id": "Rl4pm3VlQXo7"
      }
    },
    {
      "cell_type": "code",
      "source": [
        "from sklearn.feature_extraction.text import TfidfVectorizer\n",
        "from sklearn.ensemble import IsolationForest"
      ],
      "metadata": {
        "id": "uhy9xjiVP5zj"
      },
      "execution_count": 16,
      "outputs": []
    },
    {
      "cell_type": "code",
      "source": [
        "# Convertir descripciones a representaciones numéricas usando TF-IDF\n",
        "vectorizer = TfidfVectorizer()\n",
        "X = vectorizer.fit_transform(alertas['combined_text'])\n",
        "\n",
        "# Aplicar Isolation Forest para detectar anomalías\n",
        "clf = IsolationForest(contamination=0.01, random_state=42)\n",
        "alertas['anomaly'] = clf.fit_predict(X)\n",
        "\n",
        "# Revisar las anomalías detectadas\n",
        "anomalies = alertas[alertas['anomaly'] == -1]\n",
        "print(\"Anomalías detectadas:\")\n",
        "print(anomalies[['combined_text', 'event_x']])"
      ],
      "metadata": {
        "id": "qfpsI6BJQA40",
        "outputId": "df27208b-48c6-459e-acfe-f6eca3550dbf",
        "colab": {
          "base_uri": "https://localhost:8080/"
        }
      },
      "execution_count": 17,
      "outputs": [
        {
          "output_type": "stream",
          "name": "stdout",
          "text": [
            "Anomalías detectadas:\n",
            "                                           combined_text               event_x\n",
            "1787   heavy snow strong winds impact northcentral no...  Winter Storm Warning\n",
            "4367   winter weather warnings advisories extended tu...  Winter Storm Warning\n",
            "5077   winter weather advisory snow sleet expected to...    Winter Storm Watch\n",
            "8111   moderate heavy snow expected saturday evening ...    Winter Storm Watch\n",
            "8582   light moderate snow falling currently colorado...    Winter Storm Watch\n",
            "...                                                  ...                   ...\n",
            "41367  strong shear exacting toll guillermo new infor...  Tropical Storm Watch\n",
            "41372  hilda gradually weakening drawing closer hawai...  Tropical Storm Watch\n",
            "41494  ignacio rapidly intensifies major hurricane ne...  Tropical Storm Watch\n",
            "41633  tropical storm niala moving northwestward new ...  Tropical Storm Watch\n",
            "42050  strong northeasterly gradient place across gre...         Storm Warning\n",
            "\n",
            "[421 rows x 2 columns]\n"
          ]
        }
      ]
    },
    {
      "cell_type": "markdown",
      "source": [
        "Eliminar las anomalias."
      ],
      "metadata": {
        "id": "2fXtPpETVceN"
      }
    },
    {
      "cell_type": "code",
      "source": [
        "# Eliminar las filas con anomalías del DataFrame\n",
        "alertas_cleaned = alertas[alertas['anomaly'] != -1]\n",
        "\n",
        "print(f\"Total de filas después de eliminar anomalías: {len(alertas_cleaned)}\")"
      ],
      "metadata": {
        "id": "twik_S-eVf-N",
        "outputId": "bd8202f9-8822-4241-cf8b-fedc8e36bdbc",
        "colab": {
          "base_uri": "https://localhost:8080/"
        }
      },
      "execution_count": 18,
      "outputs": [
        {
          "output_type": "stream",
          "name": "stdout",
          "text": [
            "Total de filas después de eliminar anomalías: 41655\n"
          ]
        }
      ]
    },
    {
      "cell_type": "markdown",
      "source": [
        "Division de datos para el entrenamiento y validacion."
      ],
      "metadata": {
        "id": "_l-1v2d6Qdtc"
      }
    },
    {
      "cell_type": "code",
      "source": [
        "# Dividir los datos en entrenamiento y validación\n",
        "train_features, val_features, train_labels, val_labels = train_test_split(\n",
        "    padded_sequences, alertas['event_x'], test_size=0.2, random_state=42\n",
        ")"
      ],
      "metadata": {
        "id": "b47OV5KRVm48"
      },
      "execution_count": 19,
      "outputs": []
    },
    {
      "cell_type": "code",
      "execution_count": 20,
      "metadata": {
        "colab": {
          "base_uri": "https://localhost:8080/"
        },
        "id": "Oh5XlMJg8KLG",
        "outputId": "a2901aa2-ebea-48a9-816b-398270bacacf"
      },
      "outputs": [
        {
          "output_type": "stream",
          "name": "stdout",
          "text": [
            "Cantidad de datos de entrenamiento: 33660\n",
            "Cantidad de datos de validación: 8416\n"
          ]
        }
      ],
      "source": [
        "print(\"Cantidad de datos de entrenamiento:\", len(train_features))\n",
        "print(\"Cantidad de datos de validación:\", len(val_features))"
      ]
    },
    {
      "cell_type": "code",
      "source": [
        "# Codificar las etiquetas\n",
        "label_encoder_event = LabelEncoder()\n",
        "train_labels = label_encoder_event.fit_transform(train_labels)\n",
        "val_labels = label_encoder_event.transform(val_labels)"
      ],
      "metadata": {
        "id": "aHXSxxLgDYTM"
      },
      "execution_count": 21,
      "outputs": []
    },
    {
      "cell_type": "code",
      "source": [
        "# Construcción del modelo\n",
        "vocab_size = len(tokenizer.word_index) + 1\n",
        "embedding_dim = 100\n",
        "embedding_matrix = np.zeros((vocab_size, embedding_dim))\n",
        "for word, i in tokenizer.word_index.items():\n",
        "    if word in word2vec_model.wv:\n",
        "        embedding_matrix[i] = word2vec_model.wv[word]\n",
        "\n",
        "model = Sequential()\n",
        "model.add(Embedding(input_dim=vocab_size, output_dim=embedding_dim, input_length=max_len,\n",
        "                    weights=[embedding_matrix], trainable=False))\n",
        "model.add(SpatialDropout1D(0.3))\n",
        "model.add(LSTM(128, dropout=0.3, return_sequences=False))\n",
        "model.add(Dense(64, activation='relu'))\n",
        "model.add(Dense(len(alertas['event_x'].unique()), activation='softmax'))\n"
      ],
      "metadata": {
        "id": "b4V0uGOrDnvd"
      },
      "execution_count": 22,
      "outputs": []
    },
    {
      "cell_type": "code",
      "source": [
        "model.compile(loss='sparse_categorical_crossentropy', optimizer='adam', metrics=['accuracy'])"
      ],
      "metadata": {
        "id": "-3O0012wXTYe"
      },
      "execution_count": 23,
      "outputs": []
    },
    {
      "cell_type": "code",
      "source": [
        "# Resumen del modelo\n",
        "model.summary()"
      ],
      "metadata": {
        "id": "CUS3njmyDtsn",
        "outputId": "437ba559-2294-4ee6-9731-4a67e962e743",
        "colab": {
          "base_uri": "https://localhost:8080/"
        }
      },
      "execution_count": 24,
      "outputs": [
        {
          "output_type": "stream",
          "name": "stdout",
          "text": [
            "Model: \"sequential\"\n",
            "_________________________________________________________________\n",
            " Layer (type)                Output Shape              Param #   \n",
            "=================================================================\n",
            " embedding (Embedding)       (None, 200, 100)          957800    \n",
            "                                                                 \n",
            " spatial_dropout1d (Spatial  (None, 200, 100)          0         \n",
            " Dropout1D)                                                      \n",
            "                                                                 \n",
            " lstm (LSTM)                 (None, 128)               117248    \n",
            "                                                                 \n",
            " dense (Dense)               (None, 64)                8256      \n",
            "                                                                 \n",
            " dense_1 (Dense)             (None, 8)                 520       \n",
            "                                                                 \n",
            "=================================================================\n",
            "Total params: 1083824 (4.13 MB)\n",
            "Trainable params: 126024 (492.28 KB)\n",
            "Non-trainable params: 957800 (3.65 MB)\n",
            "_________________________________________________________________\n"
          ]
        }
      ]
    },
    {
      "cell_type": "code",
      "source": [
        "# Entrenamiento del modelo\n",
        "history = model.fit(train_features, np.array(train_labels),\n",
        "                    validation_data=(val_features, np.array(val_labels)),\n",
        "                    epochs=20, batch_size=16)"
      ],
      "metadata": {
        "id": "PTOofuLHDw_-",
        "outputId": "2ae8c453-a066-4799-a37a-6520daa727dd",
        "colab": {
          "base_uri": "https://localhost:8080/"
        }
      },
      "execution_count": 25,
      "outputs": [
        {
          "output_type": "stream",
          "name": "stdout",
          "text": [
            "Epoch 1/20\n",
            "2104/2104 [==============================] - 29s 11ms/step - loss: 0.6667 - accuracy: 0.7753 - val_loss: 0.3986 - val_accuracy: 0.8939\n",
            "Epoch 2/20\n",
            "2104/2104 [==============================] - 26s 12ms/step - loss: 0.3381 - accuracy: 0.8963 - val_loss: 0.2295 - val_accuracy: 0.9308\n",
            "Epoch 3/20\n",
            "2104/2104 [==============================] - 23s 11ms/step - loss: 0.2338 - accuracy: 0.9258 - val_loss: 0.1865 - val_accuracy: 0.9457\n",
            "Epoch 4/20\n",
            "2104/2104 [==============================] - 23s 11ms/step - loss: 0.1867 - accuracy: 0.9443 - val_loss: 0.1492 - val_accuracy: 0.9573\n",
            "Epoch 5/20\n",
            "2104/2104 [==============================] - 26s 13ms/step - loss: 0.1568 - accuracy: 0.9539 - val_loss: 0.1262 - val_accuracy: 0.9620\n",
            "Epoch 6/20\n",
            "2104/2104 [==============================] - 23s 11ms/step - loss: 0.1215 - accuracy: 0.9622 - val_loss: 0.0876 - val_accuracy: 0.9724\n",
            "Epoch 7/20\n",
            "2104/2104 [==============================] - 24s 11ms/step - loss: 0.1004 - accuracy: 0.9650 - val_loss: 0.0774 - val_accuracy: 0.9723\n",
            "Epoch 8/20\n",
            "2104/2104 [==============================] - 23s 11ms/step - loss: 0.0880 - accuracy: 0.9685 - val_loss: 0.0714 - val_accuracy: 0.9739\n",
            "Epoch 9/20\n",
            "2104/2104 [==============================] - 25s 12ms/step - loss: 0.0823 - accuracy: 0.9715 - val_loss: 0.0697 - val_accuracy: 0.9759\n",
            "Epoch 10/20\n",
            "2104/2104 [==============================] - 24s 11ms/step - loss: 0.0864 - accuracy: 0.9684 - val_loss: 0.0751 - val_accuracy: 0.9727\n",
            "Epoch 11/20\n",
            "2104/2104 [==============================] - 25s 12ms/step - loss: 0.0803 - accuracy: 0.9691 - val_loss: 0.0610 - val_accuracy: 0.9752\n",
            "Epoch 12/20\n",
            "2104/2104 [==============================] - 26s 12ms/step - loss: 0.0723 - accuracy: 0.9736 - val_loss: 0.0595 - val_accuracy: 0.9764\n",
            "Epoch 13/20\n",
            "2104/2104 [==============================] - 23s 11ms/step - loss: 0.0709 - accuracy: 0.9734 - val_loss: 0.0585 - val_accuracy: 0.9767\n",
            "Epoch 14/20\n",
            "2104/2104 [==============================] - 25s 12ms/step - loss: 0.0702 - accuracy: 0.9735 - val_loss: 0.0545 - val_accuracy: 0.9777\n",
            "Epoch 15/20\n",
            "2104/2104 [==============================] - 31s 15ms/step - loss: 0.0665 - accuracy: 0.9742 - val_loss: 0.0616 - val_accuracy: 0.9761\n",
            "Epoch 16/20\n",
            "2104/2104 [==============================] - 25s 12ms/step - loss: 0.0677 - accuracy: 0.9739 - val_loss: 0.0563 - val_accuracy: 0.9779\n",
            "Epoch 17/20\n",
            "2104/2104 [==============================] - 35s 17ms/step - loss: 0.0639 - accuracy: 0.9751 - val_loss: 0.0599 - val_accuracy: 0.9760\n",
            "Epoch 18/20\n",
            "2104/2104 [==============================] - 25s 12ms/step - loss: 0.0635 - accuracy: 0.9741 - val_loss: 0.0590 - val_accuracy: 0.9766\n",
            "Epoch 19/20\n",
            "2104/2104 [==============================] - 33s 16ms/step - loss: 0.0627 - accuracy: 0.9758 - val_loss: 0.0609 - val_accuracy: 0.9769\n",
            "Epoch 20/20\n",
            "2104/2104 [==============================] - 29s 14ms/step - loss: 0.0591 - accuracy: 0.9766 - val_loss: 0.0546 - val_accuracy: 0.9766\n"
          ]
        }
      ]
    },
    {
      "cell_type": "code",
      "source": [
        "# Visualización del entrenamiento\n",
        "plt.figure(figsize=(12, 4))\n",
        "plt.subplot(1, 2, 1)\n",
        "plt.plot(history.history['accuracy'])\n",
        "plt.plot(history.history['val_accuracy'])\n",
        "plt.title('Modelo accuracy')\n",
        "plt.ylabel('Accuracy')\n",
        "plt.xlabel('Epoch')\n",
        "plt.legend(['Train', 'Validation'], loc='upper left')\n",
        "\n",
        "plt.subplot(1, 2, 2)\n",
        "plt.plot(history.history['loss'])\n",
        "plt.plot(history.history['val_loss'])\n",
        "plt.title('Modelo loss')\n",
        "plt.ylabel('Loss')\n",
        "plt.xlabel('Epoch')\n",
        "plt.legend(['Train', 'Validation'], loc='upper left')\n",
        "plt.show()"
      ],
      "metadata": {
        "id": "53b3DL4vMjJc",
        "outputId": "e39a8aec-1dab-4732-a588-edf110278b52",
        "colab": {
          "base_uri": "https://localhost:8080/",
          "height": 410
        }
      },
      "execution_count": 26,
      "outputs": [
        {
          "output_type": "display_data",
          "data": {
            "text/plain": [
              "<Figure size 1200x400 with 2 Axes>"
            ],
            "image/png": "[encoded data removed]"
          },
          "metadata": {}
        }
      ]
    },
    {
      "cell_type": "code",
      "execution_count": 27,
      "metadata": {
        "id": "lJZkDmB_XwHm",
        "colab": {
          "base_uri": "https://localhost:8080/"
        },
        "outputId": "4b5cb67f-4d0e-49a6-bf96-a7095cd1984e"
      },
      "outputs": [
        {
          "output_type": "stream",
          "name": "stdout",
          "text": [
            "263/263 [==============================] - 2s 5ms/step - loss: 0.0546 - accuracy: 0.9766\n",
            "Loss: 0.05455052852630615, Accuracy: 0.9765921831130981\n"
          ]
        }
      ],
      "source": [
        "# Evaluación del modelo\n",
        "loss, accuracy = model.evaluate(val_features, np.array(val_labels))\n",
        "print(f'Loss: {loss}, Accuracy: {accuracy}')\n"
      ]
    },
    {
      "cell_type": "code",
      "source": [
        "# Matriz de confusión y reporte de clasificación\n",
        "val_predictions = model.predict(val_features)\n",
        "val_predictions = np.argmax(val_predictions, axis=1)\n",
        "cm = confusion_matrix(val_labels, val_predictions)\n",
        "print(\"Confusion Matrix:\")\n",
        "print(cm)\n"
      ],
      "metadata": {
        "id": "vYyzbvStJ27I",
        "outputId": "52122a54-1aae-4026-c32b-3b1d1d83a5b7",
        "colab": {
          "base_uri": "https://localhost:8080/"
        }
      },
      "execution_count": 28,
      "outputs": [
        {
          "output_type": "stream",
          "name": "stdout",
          "text": [
            "263/263 [==============================] - 1s 4ms/step\n",
            "Confusion Matrix:\n",
            "[[  44    0    0    0    0    1    0    0]\n",
            " [   0   48    0    0    0    0    3    0]\n",
            " [   1    0  382    2    5    0    0    0]\n",
            " [   0    0    2  114    0    0    0    0]\n",
            " [   0    0    5    0  102    2    1    0]\n",
            " [   0    0    0    1    3   62    0    0]\n",
            " [   0    2    0    0    0    0 5147  126]\n",
            " [   0    0    0    0    0    0   43 2320]]\n"
          ]
        }
      ]
    },
    {
      "cell_type": "code",
      "source": [
        "print(\"Classification Report:\")\n",
        "print(classification_report(val_labels, val_predictions, target_names=label_encoder_event.classes_))"
      ],
      "metadata": {
        "id": "OQSQkHR7SmeG",
        "outputId": "67f83a75-b39a-4aee-cecb-35d4e15bd003",
        "colab": {
          "base_uri": "https://localhost:8080/"
        }
      },
      "execution_count": 29,
      "outputs": [
        {
          "output_type": "stream",
          "name": "stdout",
          "text": [
            "Classification Report:\n",
            "                        precision    recall  f1-score   support\n",
            "\n",
            "    Dust Storm Warning       0.98      0.98      0.98        45\n",
            "     Ice Storm Warning       0.96      0.94      0.95        51\n",
            "         Storm Warning       0.98      0.98      0.98       390\n",
            "           Storm Watch       0.97      0.98      0.98       116\n",
            "Tropical Storm Warning       0.93      0.93      0.93       110\n",
            "  Tropical Storm Watch       0.95      0.94      0.95        66\n",
            "  Winter Storm Warning       0.99      0.98      0.98      5275\n",
            "    Winter Storm Watch       0.95      0.98      0.96      2363\n",
            "\n",
            "              accuracy                           0.98      8416\n",
            "             macro avg       0.96      0.96      0.96      8416\n",
            "          weighted avg       0.98      0.98      0.98      8416\n",
            "\n"
          ]
        }
      ]
    },
    {
      "cell_type": "markdown",
      "source": [
        "Prediccion con en relacion a la descripcion y el evento."
      ],
      "metadata": {
        "id": "J_u0kU9wJ53g"
      }
    },
    {
      "cell_type": "code",
      "source": [
        "# Función predict\n",
        "def predict(texts, tokenizer, model, max_len, eventos):\n",
        "    sequences = tokenizer.texts_to_sequences(texts)\n",
        "    padded_sequences = pad_sequences(sequences, maxlen=max_len, padding='post')\n",
        "    predictions = model.predict(padded_sequences)\n",
        "    predicted_events = [eventos[np.argmax(prediction)] for prediction in predictions]\n",
        "    return predicted_events\n"
      ],
      "metadata": {
        "id": "G68OWe7UIQx5"
      },
      "execution_count": 30,
      "outputs": []
    },
    {
      "cell_type": "code",
      "source": [
        "# Función random_prediction\n",
        "def random_prediction(alertas, n=1, tokenizer=None, model=None, max_len=None):\n",
        "    # Extraer eventos únicos directamente del DataFrame\n",
        "    eventos = alertas['event_x'].unique()\n",
        "\n",
        "    random_indices = np.random.choice(alertas.index, size=n, replace=False)  # Seleccionar índices aleatorios\n",
        "    random_descriptions = alertas.loc[random_indices, 'combined_text'].values  # Usar la columna combined_text\n",
        "    predictions = predict(random_descriptions, tokenizer, model, max_len, eventos)\n",
        "    result = list(zip(random_descriptions, predictions))  # Emparejar descripciones y predicciones\n",
        "    return result"
      ],
      "metadata": {
        "id": "h2cD70PuLSTe"
      },
      "execution_count": 31,
      "outputs": []
    },
    {
      "cell_type": "code",
      "source": [
        "# Llamar a la función random_prediction\n",
        "predictions = random_prediction(alertas, n=1, tokenizer=tokenizer, model=model, max_len=max_len)\n",
        "for combined_text, prediction in predictions:\n",
        "    print(f'Description: {combined_text}')\n",
        "    print(f'Prediction: {prediction}')"
      ],
      "metadata": {
        "id": "bkVDWavELUsm",
        "outputId": "f5721444-e85c-4e6c-95ca-cb8006072555",
        "colab": {
          "base_uri": "https://localhost:8080/"
        }
      },
      "execution_count": 32,
      "outputs": [
        {
          "output_type": "stream",
          "name": "stdout",
          "text": [
            "1/1 [==============================] - 0s 360ms/step\n",
            "Description: heavy snow blowing snow occurring visibility less one half mile times plan difficult travel conditions additional snow accumulations one inch expected lower yukon valley noon today additional details winds gusting high forty mph cause areas blowing drifting snow A Winter Storm Warning for blowing snow means severe winter\n",
            "weather conditions are occurring. This will make travel very\n",
            "difficult or impossible.\n",
            "\n",
            "\n",
            "Prediction: Storm Watch\n"
          ]
        }
      ]
    },
    {
      "cell_type": "markdown",
      "metadata": {
        "id": "f6jEhQLJ0UzF"
      },
      "source": [
        "#Creacion de pictogramas."
      ]
    },
    {
      "cell_type": "markdown",
      "metadata": {
        "id": "lEGQCLpj0iaX"
      },
      "source": [
        "Un pictograma es un símbolo gráfico que transmite información o datos mediante una representación clara y simplificada ya que, ayudan a transmitir información de forma visual y más rápida."
      ]
    },
    {
      "cell_type": "markdown",
      "source": [
        "Se utiliza OpenCV. Ademas, se cargan imagenes relacionadas con eventos meteorologicos, y se les hace un preproceso para ajustar la imagen, ademas se le agregan elementos como el triangulo de las advertencias para indicar la vigilancia o adverencia del evento."
      ],
      "metadata": {
        "id": "oASJJBJOVrTB"
      }
    },
    {
      "cell_type": "code",
      "source": [
        "import cv2\n",
        "from google.colab.patches import cv2_imshow"
      ],
      "metadata": {
        "id": "vM6B-URunlgE"
      },
      "execution_count": 53,
      "outputs": []
    },
    {
      "cell_type": "code",
      "source": [
        "def crear_pictograma(description, event):\n",
        "    # Determinar la ruta de la imagen según el tipo de alerta\n",
        "    if 'Dust Storm Warning' in event:\n",
        "        ruta_imagen = '/content/drive/MyDrive/Iconos/dust storm.png'\n",
        "        triangulo_color = (0, 0, 255, 255)  # Rojo con alfa completo\n",
        "    elif 'Tropical Storm Warning' in event:\n",
        "        ruta_imagen = '/content/drive/MyDrive/Iconos/tormenta-tropical.png'\n",
        "        triangulo_color = (0, 0, 255, 255)  # Rojo con alfa completo\n",
        "    elif 'Winter Storm Warning' in event:\n",
        "        ruta_imagen = '/content/drive/MyDrive/Iconos/winter storm.png'\n",
        "        triangulo_color = (0, 0, 255, 255)  # Rojo con alfa completo\n",
        "    elif 'Storm Warning' in event:\n",
        "        ruta_imagen = '/content/drive/MyDrive/Iconos/storm.png'\n",
        "        triangulo_color = (0, 0, 255, 255)  # Rojo con alfa completo\n",
        "    elif 'Ice Storm Warning' in event:\n",
        "        ruta_imagen = '/content/drive/MyDrive/Iconos/ice storm.png'\n",
        "        triangulo_color = (0, 0, 255, 255)  # Rojo con alfa completo\n",
        "    elif 'Tropical Storm Watch' in event:\n",
        "        ruta_imagen = '/content/drive/MyDrive/Iconos/tormenta-tropical.png'\n",
        "        triangulo_color = (0, 255, 255, 255)  # Amarillo con alfa completo\n",
        "    elif 'Winter Storm Watch' in event:\n",
        "        ruta_imagen = '/content/drive/MyDrive/Iconos/winter storm.png'\n",
        "        triangulo_color = (0, 255, 255, 255)  # Amarillo con alfa completo\n",
        "    elif 'Storm Watch' in event:\n",
        "        ruta_imagen = '/content/drive/MyDrive/Iconos/storm.png'\n",
        "        triangulo_color = (0, 255, 255, 255)  # Amarillo con alfa completo\n",
        "\n",
        "\n",
        "    # Cargar la imagen base del pictograma\n",
        "    imagen = cv2.imread(ruta_imagen, cv2.IMREAD_UNCHANGED)\n",
        "     # Verificar si la imagen se cargó correctamente\n",
        "    if imagen is None:\n",
        "        print(\"Error: No se pudo cargar la imagen desde la ruta:\", ruta_imagen)\n",
        "        return None\n",
        "\n",
        "    # Crear una máscara del mismo tamaño que la imagen y rellenarla con blanco\n",
        "    mascara_blanca = np.ones_like(imagen) * 255\n",
        "\n",
        "    # Convertir la imagen a escala de grises\n",
        "    gris = cv2.cvtColor(imagen, cv2.COLOR_BGR2GRAY)\n",
        "\n",
        "    # Aplicar umbralización para obtener una máscara\n",
        "    _, mascara = cv2.threshold(gris, 200, 255, cv2.THRESH_BINARY)\n",
        "\n",
        "    # Encontrar contornos en la máscara\n",
        "    contornos, _ = cv2.findContours(mascara, cv2.RETR_EXTERNAL, cv2.CHAIN_APPROX_SIMPLE)\n",
        "\n",
        "    # Dibujar los contornos en la máscara blanca\n",
        "    cv2.drawContours(mascara_blanca, contornos, -1, (0, 0, 0), -1)\n",
        "\n",
        "    # Pintar las regiones de interés de color celeste en la imagen original\n",
        "    for cnt in contornos:\n",
        "        cv2.fillPoly(imagen, [cnt], (173, 216, 230))\n",
        "\n",
        "    # Coordenadas del triángulo (ajústalas según sea necesario)\n",
        "    p1 = (90, 50)\n",
        "    p2 = (200, 150)\n",
        "    p3 = (0, 150)\n",
        "\n",
        "    # Dibujar el triángulo en la imagen del icono\n",
        "    cv2.drawContours(imagen, [np.array([p1, p2, p3])], 0, triangulo_color, -1)\n",
        "\n",
        "    # Coordenadas para colocar el símbolo de exclamación (ajústalas según sea necesario)\n",
        "    posicion_exclamacion = (75, 140)  # Posición del centro del símbolo de exclamación\n",
        "\n",
        "    # Tamaño de la fuente para el símbolo de exclamación\n",
        "    tamano_fuente = 3\n",
        "\n",
        "    # Dibujar el símbolo de exclamación en color negro con un tamaño de fuente más grande\n",
        "    cv2.putText(imagen, '!', posicion_exclamacion, cv2.FONT_HERSHEY_SIMPLEX, tamano_fuente, (0, 0, 0), 5, cv2.LINE_AA)\n",
        "\n",
        "    # Devolver la imagen generada\n",
        "    return imagen"
      ],
      "metadata": {
        "id": "ZH4NXzN08WrT"
      },
      "execution_count": 60,
      "outputs": []
    },
    {
      "cell_type": "code",
      "source": [
        "def generar_pictograma_desde_indice(indice):\n",
        "    # Obtener la descripción y el evento para el índice proporcionado\n",
        "    description = alertas.iloc[indice]['combined_text']\n",
        "    event = alertas.iloc[indice]['event_x']\n",
        "\n",
        "    # Imprimir la descripción y el evento para verificar\n",
        "    print(\"Descripción:\", description)\n",
        "    print(\"Evento:\", event)\n",
        "\n",
        "    # Generar el pictograma para el evento y la descripción\n",
        "    pictograma = crear_pictograma(description, event)\n",
        "    return pictograma\n",
        "\n",
        "# Índice del evento que deseas visualizar\n",
        "indice_evento = 1984\n",
        "\n",
        "# Generar el pictograma para el índice dado\n",
        "pictograma = generar_pictograma_desde_indice(indice_evento)\n",
        "\n",
        "# Mostrar el pictograma\n",
        "cv2_imshow(pictograma)"
      ],
      "metadata": {
        "id": "zvBO8rdWM0qV",
        "outputId": "71d9495e-7a53-4b8c-f9c8-a2965b514046",
        "colab": {
          "base_uri": "https://localhost:8080/",
          "height": 622
        }
      },
      "execution_count": 108,
      "outputs": [
        {
          "output_type": "stream",
          "name": "stdout",
          "text": [
            "Descripción: heavy snow possible plan difficult travel conditions total snow accumulations four inches amounts thirteen inches seven thousand feet possible san bernardino riverside san diego county mountains five thousand feet monday evening tuesday morning snow levels start five thousand , five hundred feet monday evening lower around three thousand , five hundred feet tuesday morning additional details significant reductions visibility possible A Winter Storm Watch means there is potential for significant\n",
            "snow, sleet or ice accumulations that may impact travel. Continue\n",
            "to monitor the latest forecasts.\n",
            "Evento: Winter Storm Watch\n"
          ]
        },
        {
          "output_type": "display_data",
          "data": {
            "text/plain": [
              "<PIL.Image.Image image mode=RGBA size=512x512>"
            ],
            "image/png": "[encoded data removed]"
          },
          "metadata": {}
        }
      ]
    }
  ],
  "metadata": {
    "accelerator": "GPU",
    "colab": {
      "gpuType": "T4",
      "provenance": [],
      "include_colab_link": true
    },
    "kernelspec": {
      "display_name": "Python 3",
      "name": "python3"
    },
    "language_info": {
      "name": "python"
    }
  },
  "nbformat": 4,
  "nbformat_minor": 0
}