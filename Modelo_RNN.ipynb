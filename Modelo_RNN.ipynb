{
  "cells": [
    {
      "cell_type": "markdown",
      "metadata": {
        "id": "view-in-github",
        "colab_type": "text"
      },
      "source": [
        "<a href=\"https://colab.research.google.com/github/Ghisbe/Alertas_pictogramas/blob/main/Modelo_RNN.ipynb\" target=\"_parent\"><img src=\"https://colab.research.google.com/assets/colab-badge.svg\" alt=\"Open In Colab\"/></a>"
      ]
    },
    {
      "cell_type": "markdown",
      "metadata": {
        "id": "Qi5SPuUz0OK1"
      },
      "source": [
        "#Redes neuronales recurrentes."
      ]
    },
    {
      "cell_type": "code",
      "execution_count": 1,
      "metadata": {
        "colab": {
          "base_uri": "https://localhost:8080/"
        },
        "id": "yyEeXzeuYoJj",
        "outputId": "4c3fdace-7bd5-4a27-b9f7-47e9fe8d50b4"
      },
      "outputs": [
        {
          "output_type": "stream",
          "name": "stdout",
          "text": [
            "Mounted at /content/drive\n"
          ]
        }
      ],
      "source": [
        "from google.colab import drive\n",
        "drive.mount('/content/drive')"
      ]
    },
    {
      "cell_type": "code",
      "execution_count": 2,
      "metadata": {
        "colab": {
          "base_uri": "https://localhost:8080/"
        },
        "id": "UhM86BCTZE73",
        "outputId": "714a9b87-94b0-4256-f1f2-08a37af73fc0"
      },
      "outputs": [
        {
          "output_type": "stream",
          "name": "stdout",
          "text": [
            "Requirement already satisfied: tensorflow in /usr/local/lib/python3.10/dist-packages (2.15.0)\n",
            "Requirement already satisfied: absl-py>=1.0.0 in /usr/local/lib/python3.10/dist-packages (from tensorflow) (1.4.0)\n",
            "Requirement already satisfied: astunparse>=1.6.0 in /usr/local/lib/python3.10/dist-packages (from tensorflow) (1.6.3)\n",
            "Requirement already satisfied: flatbuffers>=23.5.26 in /usr/local/lib/python3.10/dist-packages (from tensorflow) (24.3.25)\n",
            "Requirement already satisfied: gast!=0.5.0,!=0.5.1,!=0.5.2,>=0.2.1 in /usr/local/lib/python3.10/dist-packages (from tensorflow) (0.5.4)\n",
            "Requirement already satisfied: google-pasta>=0.1.1 in /usr/local/lib/python3.10/dist-packages (from tensorflow) (0.2.0)\n",
            "Requirement already satisfied: h5py>=2.9.0 in /usr/local/lib/python3.10/dist-packages (from tensorflow) (3.9.0)\n",
            "Requirement already satisfied: libclang>=13.0.0 in /usr/local/lib/python3.10/dist-packages (from tensorflow) (18.1.1)\n",
            "Requirement already satisfied: ml-dtypes~=0.2.0 in /usr/local/lib/python3.10/dist-packages (from tensorflow) (0.2.0)\n",
            "Requirement already satisfied: numpy<2.0.0,>=1.23.5 in /usr/local/lib/python3.10/dist-packages (from tensorflow) (1.25.2)\n",
            "Requirement already satisfied: opt-einsum>=2.3.2 in /usr/local/lib/python3.10/dist-packages (from tensorflow) (3.3.0)\n",
            "Requirement already satisfied: packaging in /usr/local/lib/python3.10/dist-packages (from tensorflow) (24.0)\n",
            "Requirement already satisfied: protobuf!=4.21.0,!=4.21.1,!=4.21.2,!=4.21.3,!=4.21.4,!=4.21.5,<5.0.0dev,>=3.20.3 in /usr/local/lib/python3.10/dist-packages (from tensorflow) (3.20.3)\n",
            "Requirement already satisfied: setuptools in /usr/local/lib/python3.10/dist-packages (from tensorflow) (67.7.2)\n",
            "Requirement already satisfied: six>=1.12.0 in /usr/local/lib/python3.10/dist-packages (from tensorflow) (1.16.0)\n",
            "Requirement already satisfied: termcolor>=1.1.0 in /usr/local/lib/python3.10/dist-packages (from tensorflow) (2.4.0)\n",
            "Requirement already satisfied: typing-extensions>=3.6.6 in /usr/local/lib/python3.10/dist-packages (from tensorflow) (4.12.0)\n",
            "Requirement already satisfied: wrapt<1.15,>=1.11.0 in /usr/local/lib/python3.10/dist-packages (from tensorflow) (1.14.1)\n",
            "Requirement already satisfied: tensorflow-io-gcs-filesystem>=0.23.1 in /usr/local/lib/python3.10/dist-packages (from tensorflow) (0.37.0)\n",
            "Requirement already satisfied: grpcio<2.0,>=1.24.3 in /usr/local/lib/python3.10/dist-packages (from tensorflow) (1.64.0)\n",
            "Requirement already satisfied: tensorboard<2.16,>=2.15 in /usr/local/lib/python3.10/dist-packages (from tensorflow) (2.15.2)\n",
            "Requirement already satisfied: tensorflow-estimator<2.16,>=2.15.0 in /usr/local/lib/python3.10/dist-packages (from tensorflow) (2.15.0)\n",
            "Requirement already satisfied: keras<2.16,>=2.15.0 in /usr/local/lib/python3.10/dist-packages (from tensorflow) (2.15.0)\n",
            "Requirement already satisfied: wheel<1.0,>=0.23.0 in /usr/local/lib/python3.10/dist-packages (from astunparse>=1.6.0->tensorflow) (0.43.0)\n",
            "Requirement already satisfied: google-auth<3,>=1.6.3 in /usr/local/lib/python3.10/dist-packages (from tensorboard<2.16,>=2.15->tensorflow) (2.27.0)\n",
            "Requirement already satisfied: google-auth-oauthlib<2,>=0.5 in /usr/local/lib/python3.10/dist-packages (from tensorboard<2.16,>=2.15->tensorflow) (1.2.0)\n",
            "Requirement already satisfied: markdown>=2.6.8 in /usr/local/lib/python3.10/dist-packages (from tensorboard<2.16,>=2.15->tensorflow) (3.6)\n",
            "Requirement already satisfied: requests<3,>=2.21.0 in /usr/local/lib/python3.10/dist-packages (from tensorboard<2.16,>=2.15->tensorflow) (2.31.0)\n",
            "Requirement already satisfied: tensorboard-data-server<0.8.0,>=0.7.0 in /usr/local/lib/python3.10/dist-packages (from tensorboard<2.16,>=2.15->tensorflow) (0.7.2)\n",
            "Requirement already satisfied: werkzeug>=1.0.1 in /usr/local/lib/python3.10/dist-packages (from tensorboard<2.16,>=2.15->tensorflow) (3.0.3)\n",
            "Requirement already satisfied: cachetools<6.0,>=2.0.0 in /usr/local/lib/python3.10/dist-packages (from google-auth<3,>=1.6.3->tensorboard<2.16,>=2.15->tensorflow) (5.3.3)\n",
            "Requirement already satisfied: pyasn1-modules>=0.2.1 in /usr/local/lib/python3.10/dist-packages (from google-auth<3,>=1.6.3->tensorboard<2.16,>=2.15->tensorflow) (0.4.0)\n",
            "Requirement already satisfied: rsa<5,>=3.1.4 in /usr/local/lib/python3.10/dist-packages (from google-auth<3,>=1.6.3->tensorboard<2.16,>=2.15->tensorflow) (4.9)\n",
            "Requirement already satisfied: requests-oauthlib>=0.7.0 in /usr/local/lib/python3.10/dist-packages (from google-auth-oauthlib<2,>=0.5->tensorboard<2.16,>=2.15->tensorflow) (1.3.1)\n",
            "Requirement already satisfied: charset-normalizer<4,>=2 in /usr/local/lib/python3.10/dist-packages (from requests<3,>=2.21.0->tensorboard<2.16,>=2.15->tensorflow) (3.3.2)\n",
            "Requirement already satisfied: idna<4,>=2.5 in /usr/local/lib/python3.10/dist-packages (from requests<3,>=2.21.0->tensorboard<2.16,>=2.15->tensorflow) (3.7)\n",
            "Requirement already satisfied: urllib3<3,>=1.21.1 in /usr/local/lib/python3.10/dist-packages (from requests<3,>=2.21.0->tensorboard<2.16,>=2.15->tensorflow) (2.0.7)\n",
            "Requirement already satisfied: certifi>=2017.4.17 in /usr/local/lib/python3.10/dist-packages (from requests<3,>=2.21.0->tensorboard<2.16,>=2.15->tensorflow) (2024.2.2)\n",
            "Requirement already satisfied: MarkupSafe>=2.1.1 in /usr/local/lib/python3.10/dist-packages (from werkzeug>=1.0.1->tensorboard<2.16,>=2.15->tensorflow) (2.1.5)\n",
            "Requirement already satisfied: pyasn1<0.7.0,>=0.4.6 in /usr/local/lib/python3.10/dist-packages (from pyasn1-modules>=0.2.1->google-auth<3,>=1.6.3->tensorboard<2.16,>=2.15->tensorflow) (0.6.0)\n",
            "Requirement already satisfied: oauthlib>=3.0.0 in /usr/local/lib/python3.10/dist-packages (from requests-oauthlib>=0.7.0->google-auth-oauthlib<2,>=0.5->tensorboard<2.16,>=2.15->tensorflow) (3.2.2)\n"
          ]
        }
      ],
      "source": [
        "!pip install tensorflow"
      ]
    },
    {
      "cell_type": "code",
      "execution_count": 3,
      "metadata": {
        "id": "fcGMc_PgWENr"
      },
      "outputs": [],
      "source": [
        "import pandas as pd\n",
        "import numpy as np\n",
        "import matplotlib.pyplot as plt\n",
        "from sklearn.model_selection import train_test_split\n",
        "from sklearn.preprocessing import LabelEncoder\n",
        "from tensorflow.keras.preprocessing.text import Tokenizer\n",
        "from tensorflow.keras.preprocessing.sequence import pad_sequences\n",
        "from tensorflow.keras.models import Sequential\n",
        "from tensorflow.keras.layers import Embedding, LSTM, Dense, SpatialDropout1D, Bidirectional\n",
        "from tensorflow.keras.optimizers import Adam\n",
        "from tensorflow.keras.callbacks import EarlyStopping, ModelCheckpoint\n",
        "from sklearn.metrics import confusion_matrix, classification_report\n",
        "from gensim.models import Word2Vec\n",
        "import gdown\n"
      ]
    },
    {
      "cell_type": "markdown",
      "source": [
        "Utilizamos dos csv de el pre procesamiento de la columna 'description' e 'instruction' para combinar ambas columnas."
      ],
      "metadata": {
        "id": "dYjfQoapB_Hw"
      }
    },
    {
      "cell_type": "code",
      "execution_count": 4,
      "metadata": {
        "id": "a_sukdXdY05d"
      },
      "outputs": [],
      "source": [
        "url = \"https://drive.google.com/uc?id=1fs7dmydF11O-rw1xX3ZDZd-7dGew73lu\""
      ]
    },
    {
      "cell_type": "code",
      "execution_count": 5,
      "metadata": {
        "colab": {
          "base_uri": "https://localhost:8080/"
        },
        "id": "XQdqWWMeZShI",
        "outputId": "8fba0adb-1254-42b8-c70c-620892ea99ba"
      },
      "outputs": [
        {
          "output_type": "stream",
          "name": "stderr",
          "text": [
            "Downloading...\n",
            "From (original): https://drive.google.com/uc?id=1fs7dmydF11O-rw1xX3ZDZd-7dGew73lu\n",
            "From (redirected): https://drive.google.com/uc?id=1fs7dmydF11O-rw1xX3ZDZd-7dGew73lu&confirm=t&uuid=a9c8cc3d-5b59-48c3-89e7-7ea2490684bf\n",
            "To: /content/alertas_lemma.csv\n",
            "100%|██████████| 143M/143M [00:03<00:00, 44.9MB/s]\n"
          ]
        }
      ],
      "source": [
        "output = 'alertas_lemma.csv'\n",
        "gdown.download(url, output, quiet=False)\n",
        "\n",
        "# Leer el archivo CSV en un DataFrame de pandas\n",
        "alertas_description = pd.read_csv(output)"
      ]
    },
    {
      "cell_type": "code",
      "execution_count": 6,
      "metadata": {
        "colab": {
          "base_uri": "https://localhost:8080/",
          "height": 271
        },
        "id": "u1tdwZfZZccS",
        "outputId": "10e8510b-fdae-459c-8854-0373a13ad720"
      },
      "outputs": [
        {
          "output_type": "execute_result",
          "data": {
            "text/plain": [
              "                         id                   event  \\\n",
              "0  5ed30eb3283336e2e7c8a2a8      Dust Storm Warning   \n",
              "1  5e6daf2c023f1930efa590ce  Tropical Storm Warning   \n",
              "\n",
              "                                         description  \\\n",
              "0  the national weather service in phoenix has is...   \n",
              "1   what winds thirty to forty kt and seas five t...   \n",
              "\n",
              "                                         instruction    urgency severity  \\\n",
              "0  Motorists should not drive into a dust storm. ...   Expected   Severe   \n",
              "1  Mariners should alter plans to avoid these haz...  Immediate   Severe   \n",
              "\n",
              "                                   description_token  \\\n",
              "0  ['the', 'national', 'weather', 'service', 'in'...   \n",
              "1  ['what', 'winds', 'thirty', 'to', 'forty', 'kt...   \n",
              "\n",
              "                            description_no_stopwords  \\\n",
              "0  ['national', 'weather', 'service', 'phoenix', ...   \n",
              "1  ['winds', 'thirty', 'forty', 'kt', 'seas', 'fi...   \n",
              "\n",
              "                              lemmatized_description  \n",
              "0  ['national', 'weather', 'service', 'phoenix', ...  \n",
              "1  ['winds', 'thirty', 'forty', 'kt', 'seas', 'fi...  "
            ],
            "text/html": [
              "\n",
              "  <div id=\"df-fa416a45-de99-43aa-80e1-480d7357ab6b\" class=\"colab-df-container\">\n",
              "    <div>\n",
              "<style scoped>\n",
              "    .dataframe tbody tr th:only-of-type {\n",
              "        vertical-align: middle;\n",
              "    }\n",
              "\n",
              "    .dataframe tbody tr th {\n",
              "        vertical-align: top;\n",
              "    }\n",
              "\n",
              "    .dataframe thead th {\n",
              "        text-align: right;\n",
              "    }\n",
              "</style>\n",
              "<table border=\"1\" class=\"dataframe\">\n",
              "  <thead>\n",
              "    <tr style=\"text-align: right;\">\n",
              "      <th></th>\n",
              "      <th>id</th>\n",
              "      <th>event</th>\n",
              "      <th>description</th>\n",
              "      <th>instruction</th>\n",
              "      <th>urgency</th>\n",
              "      <th>severity</th>\n",
              "      <th>description_token</th>\n",
              "      <th>description_no_stopwords</th>\n",
              "      <th>lemmatized_description</th>\n",
              "    </tr>\n",
              "  </thead>\n",
              "  <tbody>\n",
              "    <tr>\n",
              "      <th>0</th>\n",
              "      <td>5ed30eb3283336e2e7c8a2a8</td>\n",
              "      <td>Dust Storm Warning</td>\n",
              "      <td>the national weather service in phoenix has is...</td>\n",
              "      <td>Motorists should not drive into a dust storm. ...</td>\n",
              "      <td>Expected</td>\n",
              "      <td>Severe</td>\n",
              "      <td>['the', 'national', 'weather', 'service', 'in'...</td>\n",
              "      <td>['national', 'weather', 'service', 'phoenix', ...</td>\n",
              "      <td>['national', 'weather', 'service', 'phoenix', ...</td>\n",
              "    </tr>\n",
              "    <tr>\n",
              "      <th>1</th>\n",
              "      <td>5e6daf2c023f1930efa590ce</td>\n",
              "      <td>Tropical Storm Warning</td>\n",
              "      <td>what winds thirty to forty kt and seas five t...</td>\n",
              "      <td>Mariners should alter plans to avoid these haz...</td>\n",
              "      <td>Immediate</td>\n",
              "      <td>Severe</td>\n",
              "      <td>['what', 'winds', 'thirty', 'to', 'forty', 'kt...</td>\n",
              "      <td>['winds', 'thirty', 'forty', 'kt', 'seas', 'fi...</td>\n",
              "      <td>['winds', 'thirty', 'forty', 'kt', 'seas', 'fi...</td>\n",
              "    </tr>\n",
              "  </tbody>\n",
              "</table>\n",
              "</div>\n",
              "    <div class=\"colab-df-buttons\">\n",
              "\n",
              "  <div class=\"colab-df-container\">\n",
              "    <button class=\"colab-df-convert\" onclick=\"convertToInteractive('df-fa416a45-de99-43aa-80e1-480d7357ab6b')\"\n",
              "            title=\"Convert this dataframe to an interactive table.\"\n",
              "            style=\"display:none;\">\n",
              "\n",
              "  <svg xmlns=\"http://www.w3.org/2000/svg\" height=\"24px\" viewBox=\"0 -960 960 960\">\n",
              "    <path d=\"M120-120v-720h720v720H120Zm60-500h600v-160H180v160Zm220 220h160v-160H400v160Zm0 220h160v-160H400v160ZM180-400h160v-160H180v160Zm440 0h160v-160H620v160ZM180-180h160v-160H180v160Zm440 0h160v-160H620v160Z\"/>\n",
              "  </svg>\n",
              "    </button>\n",
              "\n",
              "  <style>\n",
              "    .colab-df-container {\n",
              "      display:flex;\n",
              "      gap: 12px;\n",
              "    }\n",
              "\n",
              "    .colab-df-convert {\n",
              "      background-color: #E8F0FE;\n",
              "      border: none;\n",
              "      border-radius: 50%;\n",
              "      cursor: pointer;\n",
              "      display: none;\n",
              "      fill: #1967D2;\n",
              "      height: 32px;\n",
              "      padding: 0 0 0 0;\n",
              "      width: 32px;\n",
              "    }\n",
              "\n",
              "    .colab-df-convert:hover {\n",
              "      background-color: #E2EBFA;\n",
              "      box-shadow: 0px 1px 2px rgba(60, 64, 67, 0.3), 0px 1px 3px 1px rgba(60, 64, 67, 0.15);\n",
              "      fill: #174EA6;\n",
              "    }\n",
              "\n",
              "    .colab-df-buttons div {\n",
              "      margin-bottom: 4px;\n",
              "    }\n",
              "\n",
              "    [theme=dark] .colab-df-convert {\n",
              "      background-color: #3B4455;\n",
              "      fill: #D2E3FC;\n",
              "    }\n",
              "\n",
              "    [theme=dark] .colab-df-convert:hover {\n",
              "      background-color: #434B5C;\n",
              "      box-shadow: 0px 1px 3px 1px rgba(0, 0, 0, 0.15);\n",
              "      filter: drop-shadow(0px 1px 2px rgba(0, 0, 0, 0.3));\n",
              "      fill: #FFFFFF;\n",
              "    }\n",
              "  </style>\n",
              "\n",
              "    <script>\n",
              "      const buttonEl =\n",
              "        document.querySelector('#df-fa416a45-de99-43aa-80e1-480d7357ab6b button.colab-df-convert');\n",
              "      buttonEl.style.display =\n",
              "        google.colab.kernel.accessAllowed ? 'block' : 'none';\n",
              "\n",
              "      async function convertToInteractive(key) {\n",
              "        const element = document.querySelector('#df-fa416a45-de99-43aa-80e1-480d7357ab6b');\n",
              "        const dataTable =\n",
              "          await google.colab.kernel.invokeFunction('convertToInteractive',\n",
              "                                                    [key], {});\n",
              "        if (!dataTable) return;\n",
              "\n",
              "        const docLinkHtml = 'Like what you see? Visit the ' +\n",
              "          '<a target=\"_blank\" href=https://colab.research.google.com/notebooks/data_table.ipynb>data table notebook</a>'\n",
              "          + ' to learn more about interactive tables.';\n",
              "        element.innerHTML = '';\n",
              "        dataTable['output_type'] = 'display_data';\n",
              "        await google.colab.output.renderOutput(dataTable, element);\n",
              "        const docLink = document.createElement('div');\n",
              "        docLink.innerHTML = docLinkHtml;\n",
              "        element.appendChild(docLink);\n",
              "      }\n",
              "    </script>\n",
              "  </div>\n",
              "\n",
              "\n",
              "<div id=\"df-43f1cc4a-5d9c-44bb-a1fb-e5b5212120b6\">\n",
              "  <button class=\"colab-df-quickchart\" onclick=\"quickchart('df-43f1cc4a-5d9c-44bb-a1fb-e5b5212120b6')\"\n",
              "            title=\"Suggest charts\"\n",
              "            style=\"display:none;\">\n",
              "\n",
              "<svg xmlns=\"http://www.w3.org/2000/svg\" height=\"24px\"viewBox=\"0 0 24 24\"\n",
              "     width=\"24px\">\n",
              "    <g>\n",
              "        <path d=\"M19 3H5c-1.1 0-2 .9-2 2v14c0 1.1.9 2 2 2h14c1.1 0 2-.9 2-2V5c0-1.1-.9-2-2-2zM9 17H7v-7h2v7zm4 0h-2V7h2v10zm4 0h-2v-4h2v4z\"/>\n",
              "    </g>\n",
              "</svg>\n",
              "  </button>\n",
              "\n",
              "<style>\n",
              "  .colab-df-quickchart {\n",
              "      --bg-color: #E8F0FE;\n",
              "      --fill-color: #1967D2;\n",
              "      --hover-bg-color: #E2EBFA;\n",
              "      --hover-fill-color: #174EA6;\n",
              "      --disabled-fill-color: #AAA;\n",
              "      --disabled-bg-color: #DDD;\n",
              "  }\n",
              "\n",
              "  [theme=dark] .colab-df-quickchart {\n",
              "      --bg-color: #3B4455;\n",
              "      --fill-color: #D2E3FC;\n",
              "      --hover-bg-color: #434B5C;\n",
              "      --hover-fill-color: #FFFFFF;\n",
              "      --disabled-bg-color: #3B4455;\n",
              "      --disabled-fill-color: #666;\n",
              "  }\n",
              "\n",
              "  .colab-df-quickchart {\n",
              "    background-color: var(--bg-color);\n",
              "    border: none;\n",
              "    border-radius: 50%;\n",
              "    cursor: pointer;\n",
              "    display: none;\n",
              "    fill: var(--fill-color);\n",
              "    height: 32px;\n",
              "    padding: 0;\n",
              "    width: 32px;\n",
              "  }\n",
              "\n",
              "  .colab-df-quickchart:hover {\n",
              "    background-color: var(--hover-bg-color);\n",
              "    box-shadow: 0 1px 2px rgba(60, 64, 67, 0.3), 0 1px 3px 1px rgba(60, 64, 67, 0.15);\n",
              "    fill: var(--button-hover-fill-color);\n",
              "  }\n",
              "\n",
              "  .colab-df-quickchart-complete:disabled,\n",
              "  .colab-df-quickchart-complete:disabled:hover {\n",
              "    background-color: var(--disabled-bg-color);\n",
              "    fill: var(--disabled-fill-color);\n",
              "    box-shadow: none;\n",
              "  }\n",
              "\n",
              "  .colab-df-spinner {\n",
              "    border: 2px solid var(--fill-color);\n",
              "    border-color: transparent;\n",
              "    border-bottom-color: var(--fill-color);\n",
              "    animation:\n",
              "      spin 1s steps(1) infinite;\n",
              "  }\n",
              "\n",
              "  @keyframes spin {\n",
              "    0% {\n",
              "      border-color: transparent;\n",
              "      border-bottom-color: var(--fill-color);\n",
              "      border-left-color: var(--fill-color);\n",
              "    }\n",
              "    20% {\n",
              "      border-color: transparent;\n",
              "      border-left-color: var(--fill-color);\n",
              "      border-top-color: var(--fill-color);\n",
              "    }\n",
              "    30% {\n",
              "      border-color: transparent;\n",
              "      border-left-color: var(--fill-color);\n",
              "      border-top-color: var(--fill-color);\n",
              "      border-right-color: var(--fill-color);\n",
              "    }\n",
              "    40% {\n",
              "      border-color: transparent;\n",
              "      border-right-color: var(--fill-color);\n",
              "      border-top-color: var(--fill-color);\n",
              "    }\n",
              "    60% {\n",
              "      border-color: transparent;\n",
              "      border-right-color: var(--fill-color);\n",
              "    }\n",
              "    80% {\n",
              "      border-color: transparent;\n",
              "      border-right-color: var(--fill-color);\n",
              "      border-bottom-color: var(--fill-color);\n",
              "    }\n",
              "    90% {\n",
              "      border-color: transparent;\n",
              "      border-bottom-color: var(--fill-color);\n",
              "    }\n",
              "  }\n",
              "</style>\n",
              "\n",
              "  <script>\n",
              "    async function quickchart(key) {\n",
              "      const quickchartButtonEl =\n",
              "        document.querySelector('#' + key + ' button');\n",
              "      quickchartButtonEl.disabled = true;  // To prevent multiple clicks.\n",
              "      quickchartButtonEl.classList.add('colab-df-spinner');\n",
              "      try {\n",
              "        const charts = await google.colab.kernel.invokeFunction(\n",
              "            'suggestCharts', [key], {});\n",
              "      } catch (error) {\n",
              "        console.error('Error during call to suggestCharts:', error);\n",
              "      }\n",
              "      quickchartButtonEl.classList.remove('colab-df-spinner');\n",
              "      quickchartButtonEl.classList.add('colab-df-quickchart-complete');\n",
              "    }\n",
              "    (() => {\n",
              "      let quickchartButtonEl =\n",
              "        document.querySelector('#df-43f1cc4a-5d9c-44bb-a1fb-e5b5212120b6 button');\n",
              "      quickchartButtonEl.style.display =\n",
              "        google.colab.kernel.accessAllowed ? 'block' : 'none';\n",
              "    })();\n",
              "  </script>\n",
              "</div>\n",
              "\n",
              "    </div>\n",
              "  </div>\n"
            ],
            "application/vnd.google.colaboratory.intrinsic+json": {
              "type": "dataframe",
              "variable_name": "alertas_description",
              "summary": "{\n  \"name\": \"alertas_description\",\n  \"rows\": 42076,\n  \"fields\": [\n    {\n      \"column\": \"id\",\n      \"properties\": {\n        \"dtype\": \"string\",\n        \"num_unique_values\": 42076,\n        \"samples\": [\n          \"5e6db1e1023f1930efb27b15\",\n          \"5e6dd6ad023f1930ef592a85\",\n          \"5e6dbd12023f1930efe9d3c2\"\n        ],\n        \"semantic_type\": \"\",\n        \"description\": \"\"\n      }\n    },\n    {\n      \"column\": \"event\",\n      \"properties\": {\n        \"dtype\": \"category\",\n        \"num_unique_values\": 8,\n        \"samples\": [\n          \"Tropical Storm Warning\",\n          \"Storm Warning\",\n          \"Dust Storm Warning\"\n        ],\n        \"semantic_type\": \"\",\n        \"description\": \"\"\n      }\n    },\n    {\n      \"column\": \"description\",\n      \"properties\": {\n        \"dtype\": \"string\",\n        \"num_unique_values\": 32824,\n        \"samples\": [\n          \" what southwest winds thirty-five to forty-five kt with gusts up to sixty kt and seas thirteen to eighteen feet expected   where block island sound and rhode island sound   when from one pm this afternoon to eight pm est this evening   impacts very strong winds will cause hazardous seas which could capsize or damage vessels and reduce visibility\",\n          \"a storm system will develop over the oklahoma panhandle region today and move quickly northeast toward the area this storm system will bring with it plenty of moisture and warmer air snow will spread northeast into the area tonight and continue through the day on sunday the snow will end from west to east sunday night snow accumulations four to eight inches   snow is expected to spread into the area late tonight and then   continue into sunday night   the heaviest snow is expected during the day on sunday   the snow is expected to gradually end from west to east sunday    night   impacts snow will be the main threat during this event    hazardous travel conditions are expected due to reduced    visibility from the snow and snow accumulation\",\n          \" what heavy wet snow expected precipitation may begin as rain or a mix of rain and snow this morning before changing over to all snow by midday total snow accumulations of three to seven inches with the highest amounts across the mountainous counties   where portions of central northeast and northern west virginia   when heaviest snow will fall this afternoon and evening   additional details travel could be very difficult \"\n        ],\n        \"semantic_type\": \"\",\n        \"description\": \"\"\n      }\n    },\n    {\n      \"column\": \"instruction\",\n      \"properties\": {\n        \"dtype\": \"category\",\n        \"num_unique_values\": 3773,\n        \"samples\": [\n          \"A Winter Storm Warning for wet snow means there will be snow\\ncovered roads and limited visibilities. Travel is not recommended\\nwhile the warning is in effect. If you must travel, keep an extra\\nflashlight, food and water in your vehicle in case of an\\nemergency.The latest road conditions for the state you are\\ncalling from can be obtained by calling 5 1 1.\",\n          \"Recreational boaters should remain in port...or take shelter\\nuntil winds and waves subside. Commercial vessels should prepare\\nfor very strong winds and dangerous sea conditions...and consider\\nremaining in port or taking shelter in port until winds and waves\\nsubside.\\n\\n\",\n          \"THIS WINTER STORM WARNING MEANS THAT SIGNIFICANT AMOUNTS OF SNOW,\\nSLEET AND ICE ARE EXPECTED, MAKING TRAVEL VERY HAZARDOUS OR\\nIMPOSSIBLE.\\n\\n\"\n        ],\n        \"semantic_type\": \"\",\n        \"description\": \"\"\n      }\n    },\n    {\n      \"column\": \"urgency\",\n      \"properties\": {\n        \"dtype\": \"category\",\n        \"num_unique_values\": 4,\n        \"samples\": [\n          \"Immediate\",\n          \"Future\",\n          \"Expected\"\n        ],\n        \"semantic_type\": \"\",\n        \"description\": \"\"\n      }\n    },\n    {\n      \"column\": \"severity\",\n      \"properties\": {\n        \"dtype\": \"category\",\n        \"num_unique_values\": 3,\n        \"samples\": [\n          \"Severe\",\n          \"Minor\",\n          \"Extreme\"\n        ],\n        \"semantic_type\": \"\",\n        \"description\": \"\"\n      }\n    },\n    {\n      \"column\": \"description_token\",\n      \"properties\": {\n        \"dtype\": \"string\",\n        \"num_unique_values\": 32416,\n        \"samples\": [\n          \"['a', 'storm', 'system', 'will', 'move', 'across', 'the', 'midwest', 'through', 'tonight', 'this', 'storm', 'system', 'will', 'continue', 'to', 'bring', 'snow', 'up', 'across', 'much', 'of', 'the', 'area', 'through', 'this', 'evening', 'and', 'create', 'some', 'travel', 'difficulties', 'this', 'weekend', 'snowfall', 'totals', 'will', 'range', 'from', 'two', 'to', 'four', 'inches', 'from', 'around', 'highway', 'thirty', 'down', 'to', 'the', 'interstate', 'eighty', 'corridor', 'to', 'five', 'to', 'nine', 'inches', 'south', 'of', 'interstate', 'eighty', 'the', 'highest', 'snowfall', 'amounts', 'look', 'to', 'be', 'along', 'and', 'south', 'of', 'highway', 'threefour', 'what', 'heavy', 'snow', 'additional', 'snow', 'accumulations', 'of', 'three', 'to', 'five', 'inches', 'for', 'storm', 'total', 'snow', 'accumulations', 'of', 'six', 'to', 'nine', 'inches', 'where', 'van', 'buren', 'and', 'lee', 'counties', 'when', 'until', 'nine', 'pm', 'cst', 'this', 'evening', 'additional', 'details', 'travel', 'could', 'be', 'very', 'difficult']\",\n          \"['mixed', 'precipitation', 'expected', 'wednesday', 'evening', 'transitioning', 'from', 'northwest', 'to', 'southeast', 'to', 'all', 'snow', 'thursday', 'what', 'mixed', 'precipitation', 'expected', 'this', 'evening', 'transiting', 'to', 'all', 'snow', 'by', 'six', 'am', 'thursday', 'total', 'snow', 'accumulations', 'of', 'five', 'to', 'ten', 'inches', 'with', 'locally', 'heavier', 'amounts', 'of', 'twelve', 'to', 'fourteen', 'inches', 'ice', 'accumulations', 'of', 'up', 'to', 'one', 'tenth', 'of', 'an', 'inch', 'where', 'north', 'laramie', 'range', 'when', 'from', 'six', 'pm', 'this', 'evening', 'to', 'nine', 'pm', 'mdt', 'thursday', 'impacts', 'travel', 'could', 'be', 'very', 'difficult', 'hikers', 'and', 'snowmobilers', 'may', 'become', 'disoriented', 'or', 'lost']\",\n          \"['major', 'winter', 'storm', 'likely', 'tonight', 'into', 'sunday', 'rain', 'will', 'continue', 'to', 'transition', 'to', 'snow', 'across', 'the', 'far', 'north', 'through', 'the', 'overnight', 'hours', 'possibly', 'heavy', 'at', 'times', 'into', 'sunday', 'meanwhile', 'an', 'area', 'of', 'sleet', 'and', 'freezing', 'rain', 'will', 'impact', 'the', 'central', 'highlands', 'upper', 'penobscot', 'valley', 'and', 'southern', 'aroostook', 'areas', 'up', 'to', 'two', 'inches', 'of', 'sleet', 'is', 'possible', 'for', 'central', 'portions', 'of', 'the', 'region', 'and', 'around', 'a', 'half', 'inch', 'of', 'ice', 'will', 'be', 'possible', 'across', 'portions', 'of', 'interior', 'and', 'coastal', 'downeast', 'late', 'tonight', 'through', 'sunday', 'evening', 'what', 'heavy', 'mixed', 'precipitation', 'expected', 'total', 'snow', 'accumulations', 'of', 'five', 'to', 'ten', 'inches', 'with', 'ten', 'to', '1five', 'inches', 'over', 'the', 'saint', 'john', 'valley', 'sleet', 'accumulations', 'of', '0five', 'to', '1five', 'inches', 'and', 'ice', 'accumulations', 'of', 'a', 'light', 'glaze', 'expected', 'where', 'northeast', 'aroostook', 'and', 'northwest', 'aroostook', 'counties', 'when', 'until', 'four', 'pm', 'est', 'sunday', 'additional', 'details', 'travel', 'could', 'be', 'extremely', 'dangerous']\"\n        ],\n        \"semantic_type\": \"\",\n        \"description\": \"\"\n      }\n    },\n    {\n      \"column\": \"description_no_stopwords\",\n      \"properties\": {\n        \"dtype\": \"string\",\n        \"num_unique_values\": 32344,\n        \"samples\": [\n          \"['snow', 'slowly', 'end', 'southwest', 'northeast', 'mid', 'day', 'time', 'winds', 'gradually', 'diminish', 'decrease', 'amount', 'drifting', 'blowing', 'snow', 'across', 'area', 'additional', 'snowfall', 'accumulations', 'inch', 'possible', 'snow', 'ends', 'especially', 'north', 'line', 'aledo', 'illinois', 'vinton', 'iowa', 'heavy', 'snow', 'additional', 'snow', 'accumulations', 'one', 'inch', 'portions', 'east', 'central', 'northeast', 'southeast', 'iowa', 'noon', 'cst', 'today', 'additional', 'details', 'plan', 'slippery', 'road', 'conditions', 'hazardous', 'conditions', 'could', 'impact', 'morning', 'commute']\",\n          \"['heavy', 'snow', 'blowing', 'snow', 'occurring', 'travel', 'difficult', 'impossible', 'additional', 'snow', 'accumulations', 'eight', 'eleven', 'inches', 'localized', 'amounts', 'fifteen', 'inches', 'expected', 'deltana', 'tanana', 'flats', 'six', 'pm', 'wednesday', 'additional', 'details', 'winds', 'gusting', 'high', 'thirty-five', 'mph', 'cause', 'areas', 'blowing', 'drifting', 'snow', 'heaviest', 'snow', 'along', 'east', 'richardson', 'highway']\",\n          \"['snow', 'expected', 'freezing', 'rain', 'possible', 'plan', 'difficult', 'travel', 'conditions', 'total', 'snow', 'accumulations', 'four', 'eight', 'inches', 'localized', 'amounts', 'twelve', 'inches', 'ice', 'accumulations', 'light', 'glaze', 'expected', 'yukon', 'delta', 'noon', 'today', 'six', 'pm', 'saturday', 'first', 'wave', 'snow', 'move', 'afternoon', 'taper', 'evening', 'second', 'wave', 'snow', 'start', 'push', 'midnight', 'tonight', 'additional', 'details', 'winds', 'gusting', 'high', 'fifty', 'mph', 'cause', 'areas', 'blowing', 'drifting', 'snow', 'snow', 'may', 'mix', 'freezing', 'rain', 'times', 'saturday']\"\n        ],\n        \"semantic_type\": \"\",\n        \"description\": \"\"\n      }\n    },\n    {\n      \"column\": \"lemmatized_description\",\n      \"properties\": {\n        \"dtype\": \"string\",\n        \"num_unique_values\": 32344,\n        \"samples\": [\n          \"['snow', 'slowly', 'end', 'southwest', 'northeast', 'mid', 'day', 'time', 'winds', 'gradually', 'diminish', 'decrease', 'amount', 'drifting', 'blowing', 'snow', 'across', 'area', 'additional', 'snowfall', 'accumulations', 'inch', 'possible', 'snow', 'ends', 'especially', 'north', 'line', 'aledo', 'illinois', 'vinton', 'iowa', 'heavy', 'snow', 'additional', 'snow', 'accumulations', 'one', 'inch', 'portions', 'east', 'central', 'northeast', 'southeast', 'iowa', 'noon', 'cst', 'today', 'additional', 'details', 'plan', 'slippery', 'road', 'conditions', 'hazardous', 'conditions', 'could', 'impact', 'morning', 'commute']\",\n          \"['heavy', 'snow', 'blowing', 'snow', 'occurring', 'travel', 'difficult', 'impossible', 'additional', 'snow', 'accumulations', 'eight', 'eleven', 'inches', 'localized', 'amounts', 'fifteen', 'inches', 'expected', 'deltana', 'tanana', 'flats', 'six', 'pm', 'wednesday', 'additional', 'details', 'winds', 'gusting', 'high', 'thirty-five', 'mph', 'cause', 'areas', 'blowing', 'drifting', 'snow', 'heaviest', 'snow', 'along', 'east', 'richardson', 'highway']\",\n          \"['snow', 'expected', 'freezing', 'rain', 'possible', 'plan', 'difficult', 'travel', 'conditions', 'total', 'snow', 'accumulations', 'four', 'eight', 'inches', 'localized', 'amounts', 'twelve', 'inches', 'ice', 'accumulations', 'light', 'glaze', 'expected', 'yukon', 'delta', 'noon', 'today', 'six', 'pm', 'saturday', 'first', 'wave', 'snow', 'move', 'afternoon', 'taper', 'evening', 'second', 'wave', 'snow', 'start', 'push', 'midnight', 'tonight', 'additional', 'details', 'winds', 'gusting', 'high', 'fifty', 'mph', 'cause', 'areas', 'blowing', 'drifting', 'snow', 'snow', 'may', 'mix', 'freezing', 'rain', 'times', 'saturday']\"\n        ],\n        \"semantic_type\": \"\",\n        \"description\": \"\"\n      }\n    }\n  ]\n}"
            }
          },
          "metadata": {},
          "execution_count": 6
        }
      ],
      "source": [
        "alertas_description.head(2)"
      ]
    },
    {
      "cell_type": "code",
      "source": [
        "# descargamos el otro dataset con el procesamiento de 'instruction'\n",
        "url_instruction = \"https://drive.google.com/uc?id=1E2QjfTk4Ke6u1ZEnmsqWHETproJE5zVK\"\n",
        "output_instruction = 'archivo_instruction.csv'\n",
        "gdown.download(url_instruction, output_instruction, quiet=False)\n",
        "\n",
        "# Leer el archivo CSV de instruction\n",
        "instructions = pd.read_csv(output_instruction)"
      ],
      "metadata": {
        "id": "eOR7flJUCJXQ",
        "outputId": "367dbe12-dc0d-474f-ed8b-c5ffb3666cbf",
        "colab": {
          "base_uri": "https://localhost:8080/"
        }
      },
      "execution_count": 7,
      "outputs": [
        {
          "output_type": "stream",
          "name": "stderr",
          "text": [
            "Downloading...\n",
            "From: https://drive.google.com/uc?id=1E2QjfTk4Ke6u1ZEnmsqWHETproJE5zVK\n",
            "To: /content/archivo_instruction.csv\n",
            "100%|██████████| 13.9M/13.9M [00:00<00:00, 60.3MB/s]\n"
          ]
        }
      ]
    },
    {
      "cell_type": "code",
      "source": [
        "instructions.head(2)"
      ],
      "metadata": {
        "id": "yDWZkG_YCRWx",
        "outputId": "7bcc97e4-a5f4-4787-c65d-cab85a683487",
        "colab": {
          "base_uri": "https://localhost:8080/",
          "height": 112
        }
      },
      "execution_count": 8,
      "outputs": [
        {
          "output_type": "execute_result",
          "data": {
            "text/plain": [
              "                         id                   event  \\\n",
              "0  5ed30eb3283336e2e7c8a2a8      Dust Storm Warning   \n",
              "1  5e6daf2c023f1930efa590ce  Tropical Storm Warning   \n",
              "\n",
              "                                  instruction_token2  \n",
              "0  ['motorist', 'drive', 'dust', 'storm', 'pull',...  \n",
              "1  ['mariner', 'alter', 'plan', 'avoid', 'hazardo...  "
            ],
            "text/html": [
              "\n",
              "  <div id=\"df-a442c47d-f11a-48b1-958e-ae6207646887\" class=\"colab-df-container\">\n",
              "    <div>\n",
              "<style scoped>\n",
              "    .dataframe tbody tr th:only-of-type {\n",
              "        vertical-align: middle;\n",
              "    }\n",
              "\n",
              "    .dataframe tbody tr th {\n",
              "        vertical-align: top;\n",
              "    }\n",
              "\n",
              "    .dataframe thead th {\n",
              "        text-align: right;\n",
              "    }\n",
              "</style>\n",
              "<table border=\"1\" class=\"dataframe\">\n",
              "  <thead>\n",
              "    <tr style=\"text-align: right;\">\n",
              "      <th></th>\n",
              "      <th>id</th>\n",
              "      <th>event</th>\n",
              "      <th>instruction_token2</th>\n",
              "    </tr>\n",
              "  </thead>\n",
              "  <tbody>\n",
              "    <tr>\n",
              "      <th>0</th>\n",
              "      <td>5ed30eb3283336e2e7c8a2a8</td>\n",
              "      <td>Dust Storm Warning</td>\n",
              "      <td>['motorist', 'drive', 'dust', 'storm', 'pull',...</td>\n",
              "    </tr>\n",
              "    <tr>\n",
              "      <th>1</th>\n",
              "      <td>5e6daf2c023f1930efa590ce</td>\n",
              "      <td>Tropical Storm Warning</td>\n",
              "      <td>['mariner', 'alter', 'plan', 'avoid', 'hazardo...</td>\n",
              "    </tr>\n",
              "  </tbody>\n",
              "</table>\n",
              "</div>\n",
              "    <div class=\"colab-df-buttons\">\n",
              "\n",
              "  <div class=\"colab-df-container\">\n",
              "    <button class=\"colab-df-convert\" onclick=\"convertToInteractive('df-a442c47d-f11a-48b1-958e-ae6207646887')\"\n",
              "            title=\"Convert this dataframe to an interactive table.\"\n",
              "            style=\"display:none;\">\n",
              "\n",
              "  <svg xmlns=\"http://www.w3.org/2000/svg\" height=\"24px\" viewBox=\"0 -960 960 960\">\n",
              "    <path d=\"M120-120v-720h720v720H120Zm60-500h600v-160H180v160Zm220 220h160v-160H400v160Zm0 220h160v-160H400v160ZM180-400h160v-160H180v160Zm440 0h160v-160H620v160ZM180-180h160v-160H180v160Zm440 0h160v-160H620v160Z\"/>\n",
              "  </svg>\n",
              "    </button>\n",
              "\n",
              "  <style>\n",
              "    .colab-df-container {\n",
              "      display:flex;\n",
              "      gap: 12px;\n",
              "    }\n",
              "\n",
              "    .colab-df-convert {\n",
              "      background-color: #E8F0FE;\n",
              "      border: none;\n",
              "      border-radius: 50%;\n",
              "      cursor: pointer;\n",
              "      display: none;\n",
              "      fill: #1967D2;\n",
              "      height: 32px;\n",
              "      padding: 0 0 0 0;\n",
              "      width: 32px;\n",
              "    }\n",
              "\n",
              "    .colab-df-convert:hover {\n",
              "      background-color: #E2EBFA;\n",
              "      box-shadow: 0px 1px 2px rgba(60, 64, 67, 0.3), 0px 1px 3px 1px rgba(60, 64, 67, 0.15);\n",
              "      fill: #174EA6;\n",
              "    }\n",
              "\n",
              "    .colab-df-buttons div {\n",
              "      margin-bottom: 4px;\n",
              "    }\n",
              "\n",
              "    [theme=dark] .colab-df-convert {\n",
              "      background-color: #3B4455;\n",
              "      fill: #D2E3FC;\n",
              "    }\n",
              "\n",
              "    [theme=dark] .colab-df-convert:hover {\n",
              "      background-color: #434B5C;\n",
              "      box-shadow: 0px 1px 3px 1px rgba(0, 0, 0, 0.15);\n",
              "      filter: drop-shadow(0px 1px 2px rgba(0, 0, 0, 0.3));\n",
              "      fill: #FFFFFF;\n",
              "    }\n",
              "  </style>\n",
              "\n",
              "    <script>\n",
              "      const buttonEl =\n",
              "        document.querySelector('#df-a442c47d-f11a-48b1-958e-ae6207646887 button.colab-df-convert');\n",
              "      buttonEl.style.display =\n",
              "        google.colab.kernel.accessAllowed ? 'block' : 'none';\n",
              "\n",
              "      async function convertToInteractive(key) {\n",
              "        const element = document.querySelector('#df-a442c47d-f11a-48b1-958e-ae6207646887');\n",
              "        const dataTable =\n",
              "          await google.colab.kernel.invokeFunction('convertToInteractive',\n",
              "                                                    [key], {});\n",
              "        if (!dataTable) return;\n",
              "\n",
              "        const docLinkHtml = 'Like what you see? Visit the ' +\n",
              "          '<a target=\"_blank\" href=https://colab.research.google.com/notebooks/data_table.ipynb>data table notebook</a>'\n",
              "          + ' to learn more about interactive tables.';\n",
              "        element.innerHTML = '';\n",
              "        dataTable['output_type'] = 'display_data';\n",
              "        await google.colab.output.renderOutput(dataTable, element);\n",
              "        const docLink = document.createElement('div');\n",
              "        docLink.innerHTML = docLinkHtml;\n",
              "        element.appendChild(docLink);\n",
              "      }\n",
              "    </script>\n",
              "  </div>\n",
              "\n",
              "\n",
              "<div id=\"df-f9038b84-a4ce-4185-8d2a-0cb2240c9e87\">\n",
              "  <button class=\"colab-df-quickchart\" onclick=\"quickchart('df-f9038b84-a4ce-4185-8d2a-0cb2240c9e87')\"\n",
              "            title=\"Suggest charts\"\n",
              "            style=\"display:none;\">\n",
              "\n",
              "<svg xmlns=\"http://www.w3.org/2000/svg\" height=\"24px\"viewBox=\"0 0 24 24\"\n",
              "     width=\"24px\">\n",
              "    <g>\n",
              "        <path d=\"M19 3H5c-1.1 0-2 .9-2 2v14c0 1.1.9 2 2 2h14c1.1 0 2-.9 2-2V5c0-1.1-.9-2-2-2zM9 17H7v-7h2v7zm4 0h-2V7h2v10zm4 0h-2v-4h2v4z\"/>\n",
              "    </g>\n",
              "</svg>\n",
              "  </button>\n",
              "\n",
              "<style>\n",
              "  .colab-df-quickchart {\n",
              "      --bg-color: #E8F0FE;\n",
              "      --fill-color: #1967D2;\n",
              "      --hover-bg-color: #E2EBFA;\n",
              "      --hover-fill-color: #174EA6;\n",
              "      --disabled-fill-color: #AAA;\n",
              "      --disabled-bg-color: #DDD;\n",
              "  }\n",
              "\n",
              "  [theme=dark] .colab-df-quickchart {\n",
              "      --bg-color: #3B4455;\n",
              "      --fill-color: #D2E3FC;\n",
              "      --hover-bg-color: #434B5C;\n",
              "      --hover-fill-color: #FFFFFF;\n",
              "      --disabled-bg-color: #3B4455;\n",
              "      --disabled-fill-color: #666;\n",
              "  }\n",
              "\n",
              "  .colab-df-quickchart {\n",
              "    background-color: var(--bg-color);\n",
              "    border: none;\n",
              "    border-radius: 50%;\n",
              "    cursor: pointer;\n",
              "    display: none;\n",
              "    fill: var(--fill-color);\n",
              "    height: 32px;\n",
              "    padding: 0;\n",
              "    width: 32px;\n",
              "  }\n",
              "\n",
              "  .colab-df-quickchart:hover {\n",
              "    background-color: var(--hover-bg-color);\n",
              "    box-shadow: 0 1px 2px rgba(60, 64, 67, 0.3), 0 1px 3px 1px rgba(60, 64, 67, 0.15);\n",
              "    fill: var(--button-hover-fill-color);\n",
              "  }\n",
              "\n",
              "  .colab-df-quickchart-complete:disabled,\n",
              "  .colab-df-quickchart-complete:disabled:hover {\n",
              "    background-color: var(--disabled-bg-color);\n",
              "    fill: var(--disabled-fill-color);\n",
              "    box-shadow: none;\n",
              "  }\n",
              "\n",
              "  .colab-df-spinner {\n",
              "    border: 2px solid var(--fill-color);\n",
              "    border-color: transparent;\n",
              "    border-bottom-color: var(--fill-color);\n",
              "    animation:\n",
              "      spin 1s steps(1) infinite;\n",
              "  }\n",
              "\n",
              "  @keyframes spin {\n",
              "    0% {\n",
              "      border-color: transparent;\n",
              "      border-bottom-color: var(--fill-color);\n",
              "      border-left-color: var(--fill-color);\n",
              "    }\n",
              "    20% {\n",
              "      border-color: transparent;\n",
              "      border-left-color: var(--fill-color);\n",
              "      border-top-color: var(--fill-color);\n",
              "    }\n",
              "    30% {\n",
              "      border-color: transparent;\n",
              "      border-left-color: var(--fill-color);\n",
              "      border-top-color: var(--fill-color);\n",
              "      border-right-color: var(--fill-color);\n",
              "    }\n",
              "    40% {\n",
              "      border-color: transparent;\n",
              "      border-right-color: var(--fill-color);\n",
              "      border-top-color: var(--fill-color);\n",
              "    }\n",
              "    60% {\n",
              "      border-color: transparent;\n",
              "      border-right-color: var(--fill-color);\n",
              "    }\n",
              "    80% {\n",
              "      border-color: transparent;\n",
              "      border-right-color: var(--fill-color);\n",
              "      border-bottom-color: var(--fill-color);\n",
              "    }\n",
              "    90% {\n",
              "      border-color: transparent;\n",
              "      border-bottom-color: var(--fill-color);\n",
              "    }\n",
              "  }\n",
              "</style>\n",
              "\n",
              "  <script>\n",
              "    async function quickchart(key) {\n",
              "      const quickchartButtonEl =\n",
              "        document.querySelector('#' + key + ' button');\n",
              "      quickchartButtonEl.disabled = true;  // To prevent multiple clicks.\n",
              "      quickchartButtonEl.classList.add('colab-df-spinner');\n",
              "      try {\n",
              "        const charts = await google.colab.kernel.invokeFunction(\n",
              "            'suggestCharts', [key], {});\n",
              "      } catch (error) {\n",
              "        console.error('Error during call to suggestCharts:', error);\n",
              "      }\n",
              "      quickchartButtonEl.classList.remove('colab-df-spinner');\n",
              "      quickchartButtonEl.classList.add('colab-df-quickchart-complete');\n",
              "    }\n",
              "    (() => {\n",
              "      let quickchartButtonEl =\n",
              "        document.querySelector('#df-f9038b84-a4ce-4185-8d2a-0cb2240c9e87 button');\n",
              "      quickchartButtonEl.style.display =\n",
              "        google.colab.kernel.accessAllowed ? 'block' : 'none';\n",
              "    })();\n",
              "  </script>\n",
              "</div>\n",
              "\n",
              "    </div>\n",
              "  </div>\n"
            ],
            "application/vnd.google.colaboratory.intrinsic+json": {
              "type": "dataframe",
              "variable_name": "instructions",
              "summary": "{\n  \"name\": \"instructions\",\n  \"rows\": 42076,\n  \"fields\": [\n    {\n      \"column\": \"id\",\n      \"properties\": {\n        \"dtype\": \"string\",\n        \"num_unique_values\": 42076,\n        \"samples\": [\n          \"5e6db1e1023f1930efb27b15\",\n          \"5e6dd6ad023f1930ef592a85\",\n          \"5e6dbd12023f1930efe9d3c2\"\n        ],\n        \"semantic_type\": \"\",\n        \"description\": \"\"\n      }\n    },\n    {\n      \"column\": \"event\",\n      \"properties\": {\n        \"dtype\": \"category\",\n        \"num_unique_values\": 8,\n        \"samples\": [\n          \"Tropical Storm Warning\",\n          \"Storm Warning\",\n          \"Dust Storm Warning\"\n        ],\n        \"semantic_type\": \"\",\n        \"description\": \"\"\n      }\n    },\n    {\n      \"column\": \"instruction_token2\",\n      \"properties\": {\n        \"dtype\": \"category\",\n        \"num_unique_values\": 2968,\n        \"samples\": [\n          \"['winter', 'weather', 'advisory', 'snow', 'mean', 'period', 'snow', 'cause', 'primarily', 'travel', 'difficulty', 'expect', 'snow', 'cover', 'road', 'limited', 'visibility', 'use', 'caution', 'drive', 'late', 'road', 'condition', 'state', 'call', 'obtain', 'call', 'five', 'one', 'one', 'winter', 'weather', 'advisory', 'snow', 'blow', 'snow', 'mean', 'snow', 'strong', 'wind', 'create', 'restrict', 'visibility', 'drift', 'snow', 'along', 'area', 'roadway', 'use', 'caution', 'travel', 'especially', 'open', 'area']\",\n          \"['small', 'craft', 'advisory', 'mean', 'wind', 'speed', 'eighteen', 'thirty', '-', 'three', 'knot', 'andor', 'wave', 'average', 'four', 'foot', 'expect', 'produce', 'hazardous', 'wave', 'condition', 'small', 'craft', 'inexperienced', 'mariner', 'especially', 'operate', 'small', 'vessel', 'avoid', 'navigate', 'condition', 'storm', 'watch', 'issue', 'risk', 'storm', 'force', 'wind', 'four8', 'sixty', '-', 'three', 'knot', 'significantly', 'increase', 'specific', 'timing', 'andor', 'location', 'still', 'uncertain', 'intend', 'provide', 'additional', 'lead', 'time', 'mariner', 'may', 'wish', 'consider', 'alter', 'plan']\",\n          \"['winter', 'storm', 'watch', 'mean', 'potential', 'significant', 'snow', 'accumulation', 'may', 'impact', 'travel', 'continue', 'monitor', 'late', 'forecast', 'wind', 'chill', 'advisory', 'mean', 'cold', 'air', 'brisk', 'wind', 'combine', 'generate', 'low', 'wind', 'chill', 'value', 'frostbite', 'hypothermia', 'may', 'occur', 'precaution', 'take', 'must', 'venture', 'outdoors', 'make', 'sure', 'dress', 'layer', 'cover', 'expose', 'skin']\"\n        ],\n        \"semantic_type\": \"\",\n        \"description\": \"\"\n      }\n    }\n  ]\n}"
            }
          },
          "metadata": {},
          "execution_count": 8
        }
      ]
    },
    {
      "cell_type": "markdown",
      "source": [
        "Unimos los dataframe teniendo en cuanta el ID."
      ],
      "metadata": {
        "id": "K5fAg9WXCVrC"
      }
    },
    {
      "cell_type": "code",
      "source": [
        "alertas = pd.merge(alertas_description, instructions, on='id')"
      ],
      "metadata": {
        "id": "CfLErOLnCUx5"
      },
      "execution_count": 9,
      "outputs": []
    },
    {
      "cell_type": "code",
      "source": [
        "# Combinar las columnas lematizadas y de instrucciones en una única columna\n",
        "alertas['combined_text'] = alertas['lemmatized_description'].apply(lambda x: ' '.join(eval(x))) + ' ' + alertas['instruction']"
      ],
      "metadata": {
        "id": "tq-pCMGcCro9"
      },
      "execution_count": 10,
      "outputs": []
    },
    {
      "cell_type": "code",
      "source": [
        "alertas.head(2)"
      ],
      "metadata": {
        "id": "ulG4ZqIVS-_1",
        "outputId": "911f6c56-ffb5-4077-c4b9-0240b6d76986",
        "colab": {
          "base_uri": "https://localhost:8080/",
          "height": 271
        }
      },
      "execution_count": 11,
      "outputs": [
        {
          "output_type": "execute_result",
          "data": {
            "text/plain": [
              "                         id                 event_x  \\\n",
              "0  5ed30eb3283336e2e7c8a2a8      Dust Storm Warning   \n",
              "1  5e6daf2c023f1930efa590ce  Tropical Storm Warning   \n",
              "\n",
              "                                         description  \\\n",
              "0  the national weather service in phoenix has is...   \n",
              "1   what winds thirty to forty kt and seas five t...   \n",
              "\n",
              "                                         instruction    urgency severity  \\\n",
              "0  Motorists should not drive into a dust storm. ...   Expected   Severe   \n",
              "1  Mariners should alter plans to avoid these haz...  Immediate   Severe   \n",
              "\n",
              "                                   description_token  \\\n",
              "0  ['the', 'national', 'weather', 'service', 'in'...   \n",
              "1  ['what', 'winds', 'thirty', 'to', 'forty', 'kt...   \n",
              "\n",
              "                            description_no_stopwords  \\\n",
              "0  ['national', 'weather', 'service', 'phoenix', ...   \n",
              "1  ['winds', 'thirty', 'forty', 'kt', 'seas', 'fi...   \n",
              "\n",
              "                              lemmatized_description                 event_y  \\\n",
              "0  ['national', 'weather', 'service', 'phoenix', ...      Dust Storm Warning   \n",
              "1  ['winds', 'thirty', 'forty', 'kt', 'seas', 'fi...  Tropical Storm Warning   \n",
              "\n",
              "                                  instruction_token2  \\\n",
              "0  ['motorist', 'drive', 'dust', 'storm', 'pull',...   \n",
              "1  ['mariner', 'alter', 'plan', 'avoid', 'hazardo...   \n",
              "\n",
              "                                       combined_text  \n",
              "0  national weather service phoenix issued dust s...  \n",
              "1  winds thirty forty kt seas five eight ft south...  "
            ],
            "text/html": [
              "\n",
              "  <div id=\"df-78c1e73b-285f-4c10-b443-cffcdc1f8dc3\" class=\"colab-df-container\">\n",
              "    <div>\n",
              "<style scoped>\n",
              "    .dataframe tbody tr th:only-of-type {\n",
              "        vertical-align: middle;\n",
              "    }\n",
              "\n",
              "    .dataframe tbody tr th {\n",
              "        vertical-align: top;\n",
              "    }\n",
              "\n",
              "    .dataframe thead th {\n",
              "        text-align: right;\n",
              "    }\n",
              "</style>\n",
              "<table border=\"1\" class=\"dataframe\">\n",
              "  <thead>\n",
              "    <tr style=\"text-align: right;\">\n",
              "      <th></th>\n",
              "      <th>id</th>\n",
              "      <th>event_x</th>\n",
              "      <th>description</th>\n",
              "      <th>instruction</th>\n",
              "      <th>urgency</th>\n",
              "      <th>severity</th>\n",
              "      <th>description_token</th>\n",
              "      <th>description_no_stopwords</th>\n",
              "      <th>lemmatized_description</th>\n",
              "      <th>event_y</th>\n",
              "      <th>instruction_token2</th>\n",
              "      <th>combined_text</th>\n",
              "    </tr>\n",
              "  </thead>\n",
              "  <tbody>\n",
              "    <tr>\n",
              "      <th>0</th>\n",
              "      <td>5ed30eb3283336e2e7c8a2a8</td>\n",
              "      <td>Dust Storm Warning</td>\n",
              "      <td>the national weather service in phoenix has is...</td>\n",
              "      <td>Motorists should not drive into a dust storm. ...</td>\n",
              "      <td>Expected</td>\n",
              "      <td>Severe</td>\n",
              "      <td>['the', 'national', 'weather', 'service', 'in'...</td>\n",
              "      <td>['national', 'weather', 'service', 'phoenix', ...</td>\n",
              "      <td>['national', 'weather', 'service', 'phoenix', ...</td>\n",
              "      <td>Dust Storm Warning</td>\n",
              "      <td>['motorist', 'drive', 'dust', 'storm', 'pull',...</td>\n",
              "      <td>national weather service phoenix issued dust s...</td>\n",
              "    </tr>\n",
              "    <tr>\n",
              "      <th>1</th>\n",
              "      <td>5e6daf2c023f1930efa590ce</td>\n",
              "      <td>Tropical Storm Warning</td>\n",
              "      <td>what winds thirty to forty kt and seas five t...</td>\n",
              "      <td>Mariners should alter plans to avoid these haz...</td>\n",
              "      <td>Immediate</td>\n",
              "      <td>Severe</td>\n",
              "      <td>['what', 'winds', 'thirty', 'to', 'forty', 'kt...</td>\n",
              "      <td>['winds', 'thirty', 'forty', 'kt', 'seas', 'fi...</td>\n",
              "      <td>['winds', 'thirty', 'forty', 'kt', 'seas', 'fi...</td>\n",
              "      <td>Tropical Storm Warning</td>\n",
              "      <td>['mariner', 'alter', 'plan', 'avoid', 'hazardo...</td>\n",
              "      <td>winds thirty forty kt seas five eight ft south...</td>\n",
              "    </tr>\n",
              "  </tbody>\n",
              "</table>\n",
              "</div>\n",
              "    <div class=\"colab-df-buttons\">\n",
              "\n",
              "  <div class=\"colab-df-container\">\n",
              "    <button class=\"colab-df-convert\" onclick=\"convertToInteractive('df-78c1e73b-285f-4c10-b443-cffcdc1f8dc3')\"\n",
              "            title=\"Convert this dataframe to an interactive table.\"\n",
              "            style=\"display:none;\">\n",
              "\n",
              "  <svg xmlns=\"http://www.w3.org/2000/svg\" height=\"24px\" viewBox=\"0 -960 960 960\">\n",
              "    <path d=\"M120-120v-720h720v720H120Zm60-500h600v-160H180v160Zm220 220h160v-160H400v160Zm0 220h160v-160H400v160ZM180-400h160v-160H180v160Zm440 0h160v-160H620v160ZM180-180h160v-160H180v160Zm440 0h160v-160H620v160Z\"/>\n",
              "  </svg>\n",
              "    </button>\n",
              "\n",
              "  <style>\n",
              "    .colab-df-container {\n",
              "      display:flex;\n",
              "      gap: 12px;\n",
              "    }\n",
              "\n",
              "    .colab-df-convert {\n",
              "      background-color: #E8F0FE;\n",
              "      border: none;\n",
              "      border-radius: 50%;\n",
              "      cursor: pointer;\n",
              "      display: none;\n",
              "      fill: #1967D2;\n",
              "      height: 32px;\n",
              "      padding: 0 0 0 0;\n",
              "      width: 32px;\n",
              "    }\n",
              "\n",
              "    .colab-df-convert:hover {\n",
              "      background-color: #E2EBFA;\n",
              "      box-shadow: 0px 1px 2px rgba(60, 64, 67, 0.3), 0px 1px 3px 1px rgba(60, 64, 67, 0.15);\n",
              "      fill: #174EA6;\n",
              "    }\n",
              "\n",
              "    .colab-df-buttons div {\n",
              "      margin-bottom: 4px;\n",
              "    }\n",
              "\n",
              "    [theme=dark] .colab-df-convert {\n",
              "      background-color: #3B4455;\n",
              "      fill: #D2E3FC;\n",
              "    }\n",
              "\n",
              "    [theme=dark] .colab-df-convert:hover {\n",
              "      background-color: #434B5C;\n",
              "      box-shadow: 0px 1px 3px 1px rgba(0, 0, 0, 0.15);\n",
              "      filter: drop-shadow(0px 1px 2px rgba(0, 0, 0, 0.3));\n",
              "      fill: #FFFFFF;\n",
              "    }\n",
              "  </style>\n",
              "\n",
              "    <script>\n",
              "      const buttonEl =\n",
              "        document.querySelector('#df-78c1e73b-285f-4c10-b443-cffcdc1f8dc3 button.colab-df-convert');\n",
              "      buttonEl.style.display =\n",
              "        google.colab.kernel.accessAllowed ? 'block' : 'none';\n",
              "\n",
              "      async function convertToInteractive(key) {\n",
              "        const element = document.querySelector('#df-78c1e73b-285f-4c10-b443-cffcdc1f8dc3');\n",
              "        const dataTable =\n",
              "          await google.colab.kernel.invokeFunction('convertToInteractive',\n",
              "                                                    [key], {});\n",
              "        if (!dataTable) return;\n",
              "\n",
              "        const docLinkHtml = 'Like what you see? Visit the ' +\n",
              "          '<a target=\"_blank\" href=https://colab.research.google.com/notebooks/data_table.ipynb>data table notebook</a>'\n",
              "          + ' to learn more about interactive tables.';\n",
              "        element.innerHTML = '';\n",
              "        dataTable['output_type'] = 'display_data';\n",
              "        await google.colab.output.renderOutput(dataTable, element);\n",
              "        const docLink = document.createElement('div');\n",
              "        docLink.innerHTML = docLinkHtml;\n",
              "        element.appendChild(docLink);\n",
              "      }\n",
              "    </script>\n",
              "  </div>\n",
              "\n",
              "\n",
              "<div id=\"df-42623329-91ac-4ead-b117-77d69a992e90\">\n",
              "  <button class=\"colab-df-quickchart\" onclick=\"quickchart('df-42623329-91ac-4ead-b117-77d69a992e90')\"\n",
              "            title=\"Suggest charts\"\n",
              "            style=\"display:none;\">\n",
              "\n",
              "<svg xmlns=\"http://www.w3.org/2000/svg\" height=\"24px\"viewBox=\"0 0 24 24\"\n",
              "     width=\"24px\">\n",
              "    <g>\n",
              "        <path d=\"M19 3H5c-1.1 0-2 .9-2 2v14c0 1.1.9 2 2 2h14c1.1 0 2-.9 2-2V5c0-1.1-.9-2-2-2zM9 17H7v-7h2v7zm4 0h-2V7h2v10zm4 0h-2v-4h2v4z\"/>\n",
              "    </g>\n",
              "</svg>\n",
              "  </button>\n",
              "\n",
              "<style>\n",
              "  .colab-df-quickchart {\n",
              "      --bg-color: #E8F0FE;\n",
              "      --fill-color: #1967D2;\n",
              "      --hover-bg-color: #E2EBFA;\n",
              "      --hover-fill-color: #174EA6;\n",
              "      --disabled-fill-color: #AAA;\n",
              "      --disabled-bg-color: #DDD;\n",
              "  }\n",
              "\n",
              "  [theme=dark] .colab-df-quickchart {\n",
              "      --bg-color: #3B4455;\n",
              "      --fill-color: #D2E3FC;\n",
              "      --hover-bg-color: #434B5C;\n",
              "      --hover-fill-color: #FFFFFF;\n",
              "      --disabled-bg-color: #3B4455;\n",
              "      --disabled-fill-color: #666;\n",
              "  }\n",
              "\n",
              "  .colab-df-quickchart {\n",
              "    background-color: var(--bg-color);\n",
              "    border: none;\n",
              "    border-radius: 50%;\n",
              "    cursor: pointer;\n",
              "    display: none;\n",
              "    fill: var(--fill-color);\n",
              "    height: 32px;\n",
              "    padding: 0;\n",
              "    width: 32px;\n",
              "  }\n",
              "\n",
              "  .colab-df-quickchart:hover {\n",
              "    background-color: var(--hover-bg-color);\n",
              "    box-shadow: 0 1px 2px rgba(60, 64, 67, 0.3), 0 1px 3px 1px rgba(60, 64, 67, 0.15);\n",
              "    fill: var(--button-hover-fill-color);\n",
              "  }\n",
              "\n",
              "  .colab-df-quickchart-complete:disabled,\n",
              "  .colab-df-quickchart-complete:disabled:hover {\n",
              "    background-color: var(--disabled-bg-color);\n",
              "    fill: var(--disabled-fill-color);\n",
              "    box-shadow: none;\n",
              "  }\n",
              "\n",
              "  .colab-df-spinner {\n",
              "    border: 2px solid var(--fill-color);\n",
              "    border-color: transparent;\n",
              "    border-bottom-color: var(--fill-color);\n",
              "    animation:\n",
              "      spin 1s steps(1) infinite;\n",
              "  }\n",
              "\n",
              "  @keyframes spin {\n",
              "    0% {\n",
              "      border-color: transparent;\n",
              "      border-bottom-color: var(--fill-color);\n",
              "      border-left-color: var(--fill-color);\n",
              "    }\n",
              "    20% {\n",
              "      border-color: transparent;\n",
              "      border-left-color: var(--fill-color);\n",
              "      border-top-color: var(--fill-color);\n",
              "    }\n",
              "    30% {\n",
              "      border-color: transparent;\n",
              "      border-left-color: var(--fill-color);\n",
              "      border-top-color: var(--fill-color);\n",
              "      border-right-color: var(--fill-color);\n",
              "    }\n",
              "    40% {\n",
              "      border-color: transparent;\n",
              "      border-right-color: var(--fill-color);\n",
              "      border-top-color: var(--fill-color);\n",
              "    }\n",
              "    60% {\n",
              "      border-color: transparent;\n",
              "      border-right-color: var(--fill-color);\n",
              "    }\n",
              "    80% {\n",
              "      border-color: transparent;\n",
              "      border-right-color: var(--fill-color);\n",
              "      border-bottom-color: var(--fill-color);\n",
              "    }\n",
              "    90% {\n",
              "      border-color: transparent;\n",
              "      border-bottom-color: var(--fill-color);\n",
              "    }\n",
              "  }\n",
              "</style>\n",
              "\n",
              "  <script>\n",
              "    async function quickchart(key) {\n",
              "      const quickchartButtonEl =\n",
              "        document.querySelector('#' + key + ' button');\n",
              "      quickchartButtonEl.disabled = true;  // To prevent multiple clicks.\n",
              "      quickchartButtonEl.classList.add('colab-df-spinner');\n",
              "      try {\n",
              "        const charts = await google.colab.kernel.invokeFunction(\n",
              "            'suggestCharts', [key], {});\n",
              "      } catch (error) {\n",
              "        console.error('Error during call to suggestCharts:', error);\n",
              "      }\n",
              "      quickchartButtonEl.classList.remove('colab-df-spinner');\n",
              "      quickchartButtonEl.classList.add('colab-df-quickchart-complete');\n",
              "    }\n",
              "    (() => {\n",
              "      let quickchartButtonEl =\n",
              "        document.querySelector('#df-42623329-91ac-4ead-b117-77d69a992e90 button');\n",
              "      quickchartButtonEl.style.display =\n",
              "        google.colab.kernel.accessAllowed ? 'block' : 'none';\n",
              "    })();\n",
              "  </script>\n",
              "</div>\n",
              "\n",
              "    </div>\n",
              "  </div>\n"
            ],
            "application/vnd.google.colaboratory.intrinsic+json": {
              "type": "dataframe",
              "variable_name": "alertas",
              "summary": "{\n  \"name\": \"alertas\",\n  \"rows\": 42076,\n  \"fields\": [\n    {\n      \"column\": \"id\",\n      \"properties\": {\n        \"dtype\": \"string\",\n        \"num_unique_values\": 42076,\n        \"samples\": [\n          \"5e6db1e1023f1930efb27b15\",\n          \"5e6dd6ad023f1930ef592a85\",\n          \"5e6dbd12023f1930efe9d3c2\"\n        ],\n        \"semantic_type\": \"\",\n        \"description\": \"\"\n      }\n    },\n    {\n      \"column\": \"event_x\",\n      \"properties\": {\n        \"dtype\": \"category\",\n        \"num_unique_values\": 8,\n        \"samples\": [\n          \"Tropical Storm Warning\",\n          \"Storm Warning\",\n          \"Dust Storm Warning\"\n        ],\n        \"semantic_type\": \"\",\n        \"description\": \"\"\n      }\n    },\n    {\n      \"column\": \"description\",\n      \"properties\": {\n        \"dtype\": \"string\",\n        \"num_unique_values\": 32824,\n        \"samples\": [\n          \" what southwest winds thirty-five to forty-five kt with gusts up to sixty kt and seas thirteen to eighteen feet expected   where block island sound and rhode island sound   when from one pm this afternoon to eight pm est this evening   impacts very strong winds will cause hazardous seas which could capsize or damage vessels and reduce visibility\",\n          \"a storm system will develop over the oklahoma panhandle region today and move quickly northeast toward the area this storm system will bring with it plenty of moisture and warmer air snow will spread northeast into the area tonight and continue through the day on sunday the snow will end from west to east sunday night snow accumulations four to eight inches   snow is expected to spread into the area late tonight and then   continue into sunday night   the heaviest snow is expected during the day on sunday   the snow is expected to gradually end from west to east sunday    night   impacts snow will be the main threat during this event    hazardous travel conditions are expected due to reduced    visibility from the snow and snow accumulation\",\n          \" what heavy wet snow expected precipitation may begin as rain or a mix of rain and snow this morning before changing over to all snow by midday total snow accumulations of three to seven inches with the highest amounts across the mountainous counties   where portions of central northeast and northern west virginia   when heaviest snow will fall this afternoon and evening   additional details travel could be very difficult \"\n        ],\n        \"semantic_type\": \"\",\n        \"description\": \"\"\n      }\n    },\n    {\n      \"column\": \"instruction\",\n      \"properties\": {\n        \"dtype\": \"category\",\n        \"num_unique_values\": 3773,\n        \"samples\": [\n          \"A Winter Storm Warning for wet snow means there will be snow\\ncovered roads and limited visibilities. Travel is not recommended\\nwhile the warning is in effect. If you must travel, keep an extra\\nflashlight, food and water in your vehicle in case of an\\nemergency.The latest road conditions for the state you are\\ncalling from can be obtained by calling 5 1 1.\",\n          \"Recreational boaters should remain in port...or take shelter\\nuntil winds and waves subside. Commercial vessels should prepare\\nfor very strong winds and dangerous sea conditions...and consider\\nremaining in port or taking shelter in port until winds and waves\\nsubside.\\n\\n\",\n          \"THIS WINTER STORM WARNING MEANS THAT SIGNIFICANT AMOUNTS OF SNOW,\\nSLEET AND ICE ARE EXPECTED, MAKING TRAVEL VERY HAZARDOUS OR\\nIMPOSSIBLE.\\n\\n\"\n        ],\n        \"semantic_type\": \"\",\n        \"description\": \"\"\n      }\n    },\n    {\n      \"column\": \"urgency\",\n      \"properties\": {\n        \"dtype\": \"category\",\n        \"num_unique_values\": 4,\n        \"samples\": [\n          \"Immediate\",\n          \"Future\",\n          \"Expected\"\n        ],\n        \"semantic_type\": \"\",\n        \"description\": \"\"\n      }\n    },\n    {\n      \"column\": \"severity\",\n      \"properties\": {\n        \"dtype\": \"category\",\n        \"num_unique_values\": 3,\n        \"samples\": [\n          \"Severe\",\n          \"Minor\",\n          \"Extreme\"\n        ],\n        \"semantic_type\": \"\",\n        \"description\": \"\"\n      }\n    },\n    {\n      \"column\": \"description_token\",\n      \"properties\": {\n        \"dtype\": \"string\",\n        \"num_unique_values\": 32416,\n        \"samples\": [\n          \"['a', 'storm', 'system', 'will', 'move', 'across', 'the', 'midwest', 'through', 'tonight', 'this', 'storm', 'system', 'will', 'continue', 'to', 'bring', 'snow', 'up', 'across', 'much', 'of', 'the', 'area', 'through', 'this', 'evening', 'and', 'create', 'some', 'travel', 'difficulties', 'this', 'weekend', 'snowfall', 'totals', 'will', 'range', 'from', 'two', 'to', 'four', 'inches', 'from', 'around', 'highway', 'thirty', 'down', 'to', 'the', 'interstate', 'eighty', 'corridor', 'to', 'five', 'to', 'nine', 'inches', 'south', 'of', 'interstate', 'eighty', 'the', 'highest', 'snowfall', 'amounts', 'look', 'to', 'be', 'along', 'and', 'south', 'of', 'highway', 'threefour', 'what', 'heavy', 'snow', 'additional', 'snow', 'accumulations', 'of', 'three', 'to', 'five', 'inches', 'for', 'storm', 'total', 'snow', 'accumulations', 'of', 'six', 'to', 'nine', 'inches', 'where', 'van', 'buren', 'and', 'lee', 'counties', 'when', 'until', 'nine', 'pm', 'cst', 'this', 'evening', 'additional', 'details', 'travel', 'could', 'be', 'very', 'difficult']\",\n          \"['mixed', 'precipitation', 'expected', 'wednesday', 'evening', 'transitioning', 'from', 'northwest', 'to', 'southeast', 'to', 'all', 'snow', 'thursday', 'what', 'mixed', 'precipitation', 'expected', 'this', 'evening', 'transiting', 'to', 'all', 'snow', 'by', 'six', 'am', 'thursday', 'total', 'snow', 'accumulations', 'of', 'five', 'to', 'ten', 'inches', 'with', 'locally', 'heavier', 'amounts', 'of', 'twelve', 'to', 'fourteen', 'inches', 'ice', 'accumulations', 'of', 'up', 'to', 'one', 'tenth', 'of', 'an', 'inch', 'where', 'north', 'laramie', 'range', 'when', 'from', 'six', 'pm', 'this', 'evening', 'to', 'nine', 'pm', 'mdt', 'thursday', 'impacts', 'travel', 'could', 'be', 'very', 'difficult', 'hikers', 'and', 'snowmobilers', 'may', 'become', 'disoriented', 'or', 'lost']\",\n          \"['major', 'winter', 'storm', 'likely', 'tonight', 'into', 'sunday', 'rain', 'will', 'continue', 'to', 'transition', 'to', 'snow', 'across', 'the', 'far', 'north', 'through', 'the', 'overnight', 'hours', 'possibly', 'heavy', 'at', 'times', 'into', 'sunday', 'meanwhile', 'an', 'area', 'of', 'sleet', 'and', 'freezing', 'rain', 'will', 'impact', 'the', 'central', 'highlands', 'upper', 'penobscot', 'valley', 'and', 'southern', 'aroostook', 'areas', 'up', 'to', 'two', 'inches', 'of', 'sleet', 'is', 'possible', 'for', 'central', 'portions', 'of', 'the', 'region', 'and', 'around', 'a', 'half', 'inch', 'of', 'ice', 'will', 'be', 'possible', 'across', 'portions', 'of', 'interior', 'and', 'coastal', 'downeast', 'late', 'tonight', 'through', 'sunday', 'evening', 'what', 'heavy', 'mixed', 'precipitation', 'expected', 'total', 'snow', 'accumulations', 'of', 'five', 'to', 'ten', 'inches', 'with', 'ten', 'to', '1five', 'inches', 'over', 'the', 'saint', 'john', 'valley', 'sleet', 'accumulations', 'of', '0five', 'to', '1five', 'inches', 'and', 'ice', 'accumulations', 'of', 'a', 'light', 'glaze', 'expected', 'where', 'northeast', 'aroostook', 'and', 'northwest', 'aroostook', 'counties', 'when', 'until', 'four', 'pm', 'est', 'sunday', 'additional', 'details', 'travel', 'could', 'be', 'extremely', 'dangerous']\"\n        ],\n        \"semantic_type\": \"\",\n        \"description\": \"\"\n      }\n    },\n    {\n      \"column\": \"description_no_stopwords\",\n      \"properties\": {\n        \"dtype\": \"string\",\n        \"num_unique_values\": 32344,\n        \"samples\": [\n          \"['snow', 'slowly', 'end', 'southwest', 'northeast', 'mid', 'day', 'time', 'winds', 'gradually', 'diminish', 'decrease', 'amount', 'drifting', 'blowing', 'snow', 'across', 'area', 'additional', 'snowfall', 'accumulations', 'inch', 'possible', 'snow', 'ends', 'especially', 'north', 'line', 'aledo', 'illinois', 'vinton', 'iowa', 'heavy', 'snow', 'additional', 'snow', 'accumulations', 'one', 'inch', 'portions', 'east', 'central', 'northeast', 'southeast', 'iowa', 'noon', 'cst', 'today', 'additional', 'details', 'plan', 'slippery', 'road', 'conditions', 'hazardous', 'conditions', 'could', 'impact', 'morning', 'commute']\",\n          \"['heavy', 'snow', 'blowing', 'snow', 'occurring', 'travel', 'difficult', 'impossible', 'additional', 'snow', 'accumulations', 'eight', 'eleven', 'inches', 'localized', 'amounts', 'fifteen', 'inches', 'expected', 'deltana', 'tanana', 'flats', 'six', 'pm', 'wednesday', 'additional', 'details', 'winds', 'gusting', 'high', 'thirty-five', 'mph', 'cause', 'areas', 'blowing', 'drifting', 'snow', 'heaviest', 'snow', 'along', 'east', 'richardson', 'highway']\",\n          \"['snow', 'expected', 'freezing', 'rain', 'possible', 'plan', 'difficult', 'travel', 'conditions', 'total', 'snow', 'accumulations', 'four', 'eight', 'inches', 'localized', 'amounts', 'twelve', 'inches', 'ice', 'accumulations', 'light', 'glaze', 'expected', 'yukon', 'delta', 'noon', 'today', 'six', 'pm', 'saturday', 'first', 'wave', 'snow', 'move', 'afternoon', 'taper', 'evening', 'second', 'wave', 'snow', 'start', 'push', 'midnight', 'tonight', 'additional', 'details', 'winds', 'gusting', 'high', 'fifty', 'mph', 'cause', 'areas', 'blowing', 'drifting', 'snow', 'snow', 'may', 'mix', 'freezing', 'rain', 'times', 'saturday']\"\n        ],\n        \"semantic_type\": \"\",\n        \"description\": \"\"\n      }\n    },\n    {\n      \"column\": \"lemmatized_description\",\n      \"properties\": {\n        \"dtype\": \"string\",\n        \"num_unique_values\": 32344,\n        \"samples\": [\n          \"['snow', 'slowly', 'end', 'southwest', 'northeast', 'mid', 'day', 'time', 'winds', 'gradually', 'diminish', 'decrease', 'amount', 'drifting', 'blowing', 'snow', 'across', 'area', 'additional', 'snowfall', 'accumulations', 'inch', 'possible', 'snow', 'ends', 'especially', 'north', 'line', 'aledo', 'illinois', 'vinton', 'iowa', 'heavy', 'snow', 'additional', 'snow', 'accumulations', 'one', 'inch', 'portions', 'east', 'central', 'northeast', 'southeast', 'iowa', 'noon', 'cst', 'today', 'additional', 'details', 'plan', 'slippery', 'road', 'conditions', 'hazardous', 'conditions', 'could', 'impact', 'morning', 'commute']\",\n          \"['heavy', 'snow', 'blowing', 'snow', 'occurring', 'travel', 'difficult', 'impossible', 'additional', 'snow', 'accumulations', 'eight', 'eleven', 'inches', 'localized', 'amounts', 'fifteen', 'inches', 'expected', 'deltana', 'tanana', 'flats', 'six', 'pm', 'wednesday', 'additional', 'details', 'winds', 'gusting', 'high', 'thirty-five', 'mph', 'cause', 'areas', 'blowing', 'drifting', 'snow', 'heaviest', 'snow', 'along', 'east', 'richardson', 'highway']\",\n          \"['snow', 'expected', 'freezing', 'rain', 'possible', 'plan', 'difficult', 'travel', 'conditions', 'total', 'snow', 'accumulations', 'four', 'eight', 'inches', 'localized', 'amounts', 'twelve', 'inches', 'ice', 'accumulations', 'light', 'glaze', 'expected', 'yukon', 'delta', 'noon', 'today', 'six', 'pm', 'saturday', 'first', 'wave', 'snow', 'move', 'afternoon', 'taper', 'evening', 'second', 'wave', 'snow', 'start', 'push', 'midnight', 'tonight', 'additional', 'details', 'winds', 'gusting', 'high', 'fifty', 'mph', 'cause', 'areas', 'blowing', 'drifting', 'snow', 'snow', 'may', 'mix', 'freezing', 'rain', 'times', 'saturday']\"\n        ],\n        \"semantic_type\": \"\",\n        \"description\": \"\"\n      }\n    },\n    {\n      \"column\": \"event_y\",\n      \"properties\": {\n        \"dtype\": \"category\",\n        \"num_unique_values\": 8,\n        \"samples\": [\n          \"Tropical Storm Warning\",\n          \"Storm Warning\",\n          \"Dust Storm Warning\"\n        ],\n        \"semantic_type\": \"\",\n        \"description\": \"\"\n      }\n    },\n    {\n      \"column\": \"instruction_token2\",\n      \"properties\": {\n        \"dtype\": \"category\",\n        \"num_unique_values\": 2968,\n        \"samples\": [\n          \"['winter', 'weather', 'advisory', 'snow', 'mean', 'period', 'snow', 'cause', 'primarily', 'travel', 'difficulty', 'expect', 'snow', 'cover', 'road', 'limited', 'visibility', 'use', 'caution', 'drive', 'late', 'road', 'condition', 'state', 'call', 'obtain', 'call', 'five', 'one', 'one', 'winter', 'weather', 'advisory', 'snow', 'blow', 'snow', 'mean', 'snow', 'strong', 'wind', 'create', 'restrict', 'visibility', 'drift', 'snow', 'along', 'area', 'roadway', 'use', 'caution', 'travel', 'especially', 'open', 'area']\",\n          \"['small', 'craft', 'advisory', 'mean', 'wind', 'speed', 'eighteen', 'thirty', '-', 'three', 'knot', 'andor', 'wave', 'average', 'four', 'foot', 'expect', 'produce', 'hazardous', 'wave', 'condition', 'small', 'craft', 'inexperienced', 'mariner', 'especially', 'operate', 'small', 'vessel', 'avoid', 'navigate', 'condition', 'storm', 'watch', 'issue', 'risk', 'storm', 'force', 'wind', 'four8', 'sixty', '-', 'three', 'knot', 'significantly', 'increase', 'specific', 'timing', 'andor', 'location', 'still', 'uncertain', 'intend', 'provide', 'additional', 'lead', 'time', 'mariner', 'may', 'wish', 'consider', 'alter', 'plan']\",\n          \"['winter', 'storm', 'watch', 'mean', 'potential', 'significant', 'snow', 'accumulation', 'may', 'impact', 'travel', 'continue', 'monitor', 'late', 'forecast', 'wind', 'chill', 'advisory', 'mean', 'cold', 'air', 'brisk', 'wind', 'combine', 'generate', 'low', 'wind', 'chill', 'value', 'frostbite', 'hypothermia', 'may', 'occur', 'precaution', 'take', 'must', 'venture', 'outdoors', 'make', 'sure', 'dress', 'layer', 'cover', 'expose', 'skin']\"\n        ],\n        \"semantic_type\": \"\",\n        \"description\": \"\"\n      }\n    },\n    {\n      \"column\": \"combined_text\",\n      \"properties\": {\n        \"dtype\": \"string\",\n        \"num_unique_values\": 33883,\n        \"samples\": [\n          \"strong cold wet system bring snow much southwest oregon northern california weekend heaviest snow biggest impacts felt mountains including lower passes valley locations perhaps even coast eventually see snow snow levels plummet cold pattern expected continue next week another major storm possible sunday night tuesday heavy snow expected total snow accumulations ten eighteen inches local amounts two feet expected south central oregon cascades including crater lake diamond lake highways affected include 6two two30 one hundred thirty-eight ten pm pst saturday snow increase intensity overnight continue saturday additional details travel could difficult impossible hazardous conditions could impact evening commute sunday night tuesday another storm bring heavy snow area sunday night tuesday view hazard area detail httpswwwwrhnoaagovmfrhazard * Travel is strongly discouraged because of dangerous conditions.\\n\\n* If you must travel, keep tire chains, a flashlight, blankets,\\nfood, water, medications, and a fully charged phone with you.\\n\\n* The safest place during a winter storm is indoors.\\n\\n* A Winter Storm Warning means that severe winter weather is\\nimminent and poses a threat to life and property. Take\\nprotective action now.\\n\\n\",\n          \"lakeeffect snow today widespread possibly heavy snow thursday friday additional snow accumulations one three inches today perhaps bringing lakeeffect storm totals much four seven inches late afternoon total snow accumulations thursday morning early friday afternoon much seven eight inches possible southern cayuga onondaga counties particularly higher terrain south auburn syracuse winter weather advisory seven pm est evening winter storm watch thursday morning friday afternoon lakeeffect snow diminish late afternoon steady snow redevelops thursday afternoon another round possibly heavy snow later thursday night friday additional details travel could difficult hazardous conditions could impact morning evening commute A Winter Weather Advisory for snow means periods of snow will\\ncause primarily travel difficulties. Expect snow covered roads\\nand limited visibilities, and use caution while driving.\\n\\nA Winter Storm Watch means there is potential for significant\\nsnow, sleet or ice accumulations that may impact travel. Continue\\nto monitor the latest forecasts.\\n\\nThe latest road conditions for the state you are calling from can\\nbe obtained by calling 5 1 1.\\n\\n\",\n          \"low pressure along north carolina coast move away area overnight cold high pressure covering ohio northern midatlantic region linger steady heavier snow gradually diminish periods light snow freezing drizzle continue overnight light additional accumulations heaviest lingering precipitation overnight across southside virginia heavy snow ended periods light snow freezing drizzle may linger additional snow accumulations expected less inch virginia bath county west virginia eastern greenbrier county eleven est monday additional details plan slippery road conditions hazardous conditions could impact morning commute A Winter Storm Warning for snow means severe winter weather\\nconditions will make travel very hazardous or impossible. If you\\nmust travel, keep an extra flashlight, food and water in your\\nvehicle in case of an emergency.\\n\\nThe latest road conditions for the state you are calling from can\\nbe obtained by calling 5 1 1.\\n\\n\"\n        ],\n        \"semantic_type\": \"\",\n        \"description\": \"\"\n      }\n    }\n  ]\n}"
            }
          },
          "metadata": {},
          "execution_count": 11
        }
      ]
    },
    {
      "cell_type": "code",
      "source": [
        "# Tokenización y padding\n",
        "tokenizer = Tokenizer()\n",
        "tokenizer.fit_on_texts(alertas['combined_text'])\n",
        "sequences = tokenizer.texts_to_sequences(alertas['combined_text'])\n",
        "max_len = 200\n",
        "padded_sequences = pad_sequences(sequences, maxlen=max_len, padding='post')"
      ],
      "metadata": {
        "id": "moVTqyeNCzSm"
      },
      "execution_count": 12,
      "outputs": []
    },
    {
      "cell_type": "code",
      "source": [
        "# Word Embeddings\n",
        "sentences = [text.split() for text in alertas['combined_text']]\n",
        "word2vec_model = Word2Vec(sentences, vector_size=100, window=5, min_count=1, workers=4, epochs=10)"
      ],
      "metadata": {
        "id": "fr83hBDKC2hn"
      },
      "execution_count": 13,
      "outputs": []
    },
    {
      "cell_type": "markdown",
      "source": [
        "Visualizar la distribucion de etiquetas."
      ],
      "metadata": {
        "id": "SeAb-VTePx8O"
      }
    },
    {
      "cell_type": "code",
      "source": [
        "plt.figure(figsize=(10, 4))\n",
        "alertas['event_x'].value_counts().plot(kind='bar')\n",
        "plt.title('Distribución de etiquetas')\n",
        "plt.xlabel('Tipo de evento')\n",
        "plt.ylabel('Frecuencia')\n",
        "plt.show()"
      ],
      "metadata": {
        "id": "7Vf275WDPtE9",
        "outputId": "f4426516-80ac-4511-ce17-24f6a3281a7a",
        "colab": {
          "base_uri": "https://localhost:8080/",
          "height": 558
        }
      },
      "execution_count": 14,
      "outputs": [
        {
          "output_type": "display_data",
          "data": {
            "text/plain": [
              "<Figure size 1000x400 with 1 Axes>"
            ],
            "image/png": "[encoded data removed]"
          },
          "metadata": {}
        }
      ]
    },
    {
      "cell_type": "code",
      "source": [
        "# Revisión de la consistencia de etiquetas\n",
        "grupo_evento = alertas.groupby('event_x')\n",
        "for event, group in grupo_evento:\n",
        "    print(f\"Evento: {event}\")\n",
        "    print(group['combined_text'].head(5))\n",
        "    print(\"\\n\")"
      ],
      "metadata": {
        "id": "Dqys0D0kP1ne",
        "outputId": "12c7e667-4571-4782-b5d8-67cf8b538c81",
        "colab": {
          "base_uri": "https://localhost:8080/"
        }
      },
      "execution_count": 15,
      "outputs": [
        {
          "output_type": "stream",
          "name": "stdout",
          "text": [
            "Evento: Dust Storm Warning\n",
            "0     national weather service phoenix issued dust s...\n",
            "52    national weather service el paso issued dust s...\n",
            "62    national weather service spokane issued dust s...\n",
            "63    national weather service spokane issued dust s...\n",
            "64    national weather service spokane issued dust s...\n",
            "Name: combined_text, dtype: object\n",
            "\n",
            "\n",
            "Evento: Ice Storm Warning\n",
            "5150    significant icing expected total snow accumula...\n",
            "6093    ice storm warning cancelled longer effect A Wi...\n",
            "6107    ice storm warning cancelled longer effect A Wi...\n",
            "6109    significant icing expected total snow accumula...\n",
            "6153    significant icing expected total snow accumula...\n",
            "Name: combined_text, dtype: object\n",
            "\n",
            "\n",
            "Evento: Storm Warning\n",
            "76     southwest winds fifteen twenty-five kt gusts t...\n",
            "77     storm warning south winds fifty kts gusts seve...\n",
            "252    storm warning cancelled longer effect Mariners...\n",
            "253    storm warning cancelled longer effect Mariners...\n",
            "255    storm warning cancelled longer effect Mariners...\n",
            "Name: combined_text, dtype: object\n",
            "\n",
            "\n",
            "Evento: Storm Watch\n",
            "412    storm watch replaced please see latest informa...\n",
            "413    storm watch replaced please see latest informa...\n",
            "414    storm watch replaced please see latest informa...\n",
            "416    storm watch replaced please see latest informa...\n",
            "420    storm watch replaced please see latest informa...\n",
            "Name: combined_text, dtype: object\n",
            "\n",
            "\n",
            "Evento: Tropical Storm Warning\n",
            "1     winds thirty forty kt seas five eight ft south...\n",
            "2     northeast winds twenty-five thirty-five kt wav...\n",
            "8     tropical storm warning cancelled longer effect...\n",
            "9     tropical storm warning cancelled longer effect...\n",
            "10    tropical storm warning cancelled longer effect...\n",
            "Name: combined_text, dtype: object\n",
            "\n",
            "\n",
            "Evento: Tropical Storm Watch\n",
            "37       south winds twenty-five thirty-five kt gusts f...\n",
            "38       southeast winds twenty-five thirty-five kt gus...\n",
            "39       south winds thirty-five forty-five kt gusts fi...\n",
            "40       south winds twenty thirty kt gusts fifty kt ro...\n",
            "12745    tropical storm watch cancelled longer effect F...\n",
            "Name: combined_text, dtype: object\n",
            "\n",
            "\n",
            "Evento: Winter Storm Warning\n",
            "3    winter storm warning cancelled longer effect A...\n",
            "4    snow showers higher mountain elevations tuesda...\n",
            "5    heavy snow seven thousand feet additional snow...\n",
            "6    snow showers higher mountain elevations tuesda...\n",
            "7    snow showers higher mountain elevations tuesda...\n",
            "Name: combined_text, dtype: object\n",
            "\n",
            "\n",
            "Evento: Winter Storm Watch\n",
            "33    winter storm watch replaced please see latest ...\n",
            "34    winter storm watch replaced please see latest ...\n",
            "41    snow strong wind higher mountain elevations la...\n",
            "42    snow strong wind higher mountain elevations la...\n",
            "45    heavy snow possible seven thousand feet total ...\n",
            "Name: combined_text, dtype: object\n",
            "\n",
            "\n"
          ]
        }
      ]
    },
    {
      "cell_type": "markdown",
      "source": [
        "Detectar anomalias."
      ],
      "metadata": {
        "id": "Rl4pm3VlQXo7"
      }
    },
    {
      "cell_type": "code",
      "source": [
        "from sklearn.feature_extraction.text import TfidfVectorizer\n",
        "from sklearn.ensemble import IsolationForest"
      ],
      "metadata": {
        "id": "uhy9xjiVP5zj"
      },
      "execution_count": 16,
      "outputs": []
    },
    {
      "cell_type": "code",
      "source": [
        "# Convertir descripciones a representaciones numéricas usando TF-IDF\n",
        "vectorizer = TfidfVectorizer()\n",
        "X = vectorizer.fit_transform(alertas['combined_text'])\n",
        "\n",
        "# Aplicar Isolation Forest para detectar anomalías\n",
        "clf = IsolationForest(contamination=0.01, random_state=42)\n",
        "alertas['anomaly'] = clf.fit_predict(X)\n",
        "\n",
        "# Revisar las anomalías detectadas\n",
        "anomalies = alertas[alertas['anomaly'] == -1]\n",
        "print(\"Anomalías detectadas:\")\n",
        "print(anomalies[['combined_text', 'event_x']])"
      ],
      "metadata": {
        "id": "qfpsI6BJQA40",
        "outputId": "3f0a7a2a-2744-4b35-87de-beb30fe4dfca",
        "colab": {
          "base_uri": "https://localhost:8080/"
        }
      },
      "execution_count": 17,
      "outputs": [
        {
          "output_type": "stream",
          "name": "stdout",
          "text": [
            "Anomalías detectadas:\n",
            "                                           combined_text               event_x\n",
            "1787   heavy snow strong winds impact northcentral no...  Winter Storm Warning\n",
            "4367   winter weather warnings advisories extended tu...  Winter Storm Warning\n",
            "5077   winter weather advisory snow sleet expected to...    Winter Storm Watch\n",
            "8111   moderate heavy snow expected saturday evening ...    Winter Storm Watch\n",
            "8582   light moderate snow falling currently colorado...    Winter Storm Watch\n",
            "...                                                  ...                   ...\n",
            "41367  strong shear exacting toll guillermo new infor...  Tropical Storm Watch\n",
            "41372  hilda gradually weakening drawing closer hawai...  Tropical Storm Watch\n",
            "41494  ignacio rapidly intensifies major hurricane ne...  Tropical Storm Watch\n",
            "41633  tropical storm niala moving northwestward new ...  Tropical Storm Watch\n",
            "42050  strong northeasterly gradient place across gre...         Storm Warning\n",
            "\n",
            "[421 rows x 2 columns]\n"
          ]
        }
      ]
    },
    {
      "cell_type": "markdown",
      "source": [
        "Eliminar las anomalias."
      ],
      "metadata": {
        "id": "2fXtPpETVceN"
      }
    },
    {
      "cell_type": "code",
      "source": [
        "# Eliminar las filas con anomalías del DataFrame\n",
        "alertas_cleaned = alertas[alertas['anomaly'] != -1]\n",
        "\n",
        "print(f\"Total de filas después de eliminar anomalías: {len(alertas_cleaned)}\")"
      ],
      "metadata": {
        "id": "twik_S-eVf-N",
        "outputId": "a30bf093-625c-4a12-d4af-d8960ac435d6",
        "colab": {
          "base_uri": "https://localhost:8080/"
        }
      },
      "execution_count": 18,
      "outputs": [
        {
          "output_type": "stream",
          "name": "stdout",
          "text": [
            "Total de filas después de eliminar anomalías: 41655\n"
          ]
        }
      ]
    },
    {
      "cell_type": "markdown",
      "source": [
        "Division de datos para el entrenamiento y validacion."
      ],
      "metadata": {
        "id": "_l-1v2d6Qdtc"
      }
    },
    {
      "cell_type": "code",
      "source": [
        "# Dividir los datos en entrenamiento y validación\n",
        "train_features, val_features, train_labels, val_labels = train_test_split(\n",
        "    padded_sequences, alertas['event_x'], test_size=0.2, random_state=42\n",
        ")"
      ],
      "metadata": {
        "id": "b47OV5KRVm48"
      },
      "execution_count": 19,
      "outputs": []
    },
    {
      "cell_type": "code",
      "execution_count": 20,
      "metadata": {
        "colab": {
          "base_uri": "https://localhost:8080/"
        },
        "id": "Oh5XlMJg8KLG",
        "outputId": "9e4ad410-5617-4647-ec1a-e38ef97fe7f3"
      },
      "outputs": [
        {
          "output_type": "stream",
          "name": "stdout",
          "text": [
            "Cantidad de datos de entrenamiento: 33660\n",
            "Cantidad de datos de validación: 8416\n"
          ]
        }
      ],
      "source": [
        "print(\"Cantidad de datos de entrenamiento:\", len(train_features))\n",
        "print(\"Cantidad de datos de validación:\", len(val_features))"
      ]
    },
    {
      "cell_type": "code",
      "source": [
        "# Codificar las etiquetas\n",
        "label_encoder_event = LabelEncoder()\n",
        "train_labels = label_encoder_event.fit_transform(train_labels)\n",
        "val_labels = label_encoder_event.transform(val_labels)"
      ],
      "metadata": {
        "id": "aHXSxxLgDYTM"
      },
      "execution_count": 21,
      "outputs": []
    },
    {
      "cell_type": "code",
      "source": [
        "# Construcción del modelo\n",
        "vocab_size = len(tokenizer.word_index) + 1\n",
        "embedding_dim = 100\n",
        "embedding_matrix = np.zeros((vocab_size, embedding_dim))\n",
        "for word, i in tokenizer.word_index.items():\n",
        "    if word in word2vec_model.wv:\n",
        "        embedding_matrix[i] = word2vec_model.wv[word]\n",
        "\n",
        "model = Sequential()\n",
        "model.add(Embedding(input_dim=vocab_size, output_dim=embedding_dim, input_length=max_len,\n",
        "                    weights=[embedding_matrix], trainable=False))\n",
        "model.add(SpatialDropout1D(0.3))\n",
        "model.add(LSTM(128, dropout=0.3, return_sequences=False))\n",
        "model.add(Dense(64, activation='relu'))\n",
        "model.add(Dense(len(alertas['event_x'].unique()), activation='softmax'))\n"
      ],
      "metadata": {
        "id": "b4V0uGOrDnvd"
      },
      "execution_count": 22,
      "outputs": []
    },
    {
      "cell_type": "code",
      "source": [
        "model.compile(loss='sparse_categorical_crossentropy', optimizer='adam', metrics=['accuracy'])"
      ],
      "metadata": {
        "id": "-3O0012wXTYe"
      },
      "execution_count": 23,
      "outputs": []
    },
    {
      "cell_type": "code",
      "source": [
        "# Resumen del modelo\n",
        "model.summary()"
      ],
      "metadata": {
        "id": "CUS3njmyDtsn",
        "outputId": "bd2a153f-742f-4dae-e6f9-b5dc41f510c5",
        "colab": {
          "base_uri": "https://localhost:8080/"
        }
      },
      "execution_count": 24,
      "outputs": [
        {
          "output_type": "stream",
          "name": "stdout",
          "text": [
            "Model: \"sequential\"\n",
            "_________________________________________________________________\n",
            " Layer (type)                Output Shape              Param #   \n",
            "=================================================================\n",
            " embedding (Embedding)       (None, 200, 100)          957800    \n",
            "                                                                 \n",
            " spatial_dropout1d (Spatial  (None, 200, 100)          0         \n",
            " Dropout1D)                                                      \n",
            "                                                                 \n",
            " lstm (LSTM)                 (None, 128)               117248    \n",
            "                                                                 \n",
            " dense (Dense)               (None, 64)                8256      \n",
            "                                                                 \n",
            " dense_1 (Dense)             (None, 8)                 520       \n",
            "                                                                 \n",
            "=================================================================\n",
            "Total params: 1083824 (4.13 MB)\n",
            "Trainable params: 126024 (492.28 KB)\n",
            "Non-trainable params: 957800 (3.65 MB)\n",
            "_________________________________________________________________\n"
          ]
        }
      ]
    },
    {
      "cell_type": "code",
      "source": [
        "# Entrenamiento del modelo\n",
        "history = model.fit(train_features, np.array(train_labels),\n",
        "                    validation_data=(val_features, np.array(val_labels)),\n",
        "                    epochs=20, batch_size=16)"
      ],
      "metadata": {
        "id": "PTOofuLHDw_-",
        "outputId": "2b805af4-08c5-4e29-cc8d-f6274992c16b",
        "colab": {
          "base_uri": "https://localhost:8080/"
        }
      },
      "execution_count": 25,
      "outputs": [
        {
          "output_type": "stream",
          "name": "stdout",
          "text": [
            "Epoch 1/20\n",
            "2104/2104 [==============================] - 331s 156ms/step - loss: 0.6236 - accuracy: 0.7942 - val_loss: 0.2801 - val_accuracy: 0.9193\n",
            "Epoch 2/20\n",
            "2104/2104 [==============================] - 316s 150ms/step - loss: 0.2453 - accuracy: 0.9239 - val_loss: 0.1908 - val_accuracy: 0.9457\n",
            "Epoch 3/20\n",
            "2104/2104 [==============================] - 315s 150ms/step - loss: 0.1918 - accuracy: 0.9425 - val_loss: 0.1501 - val_accuracy: 0.9575\n",
            "Epoch 4/20\n",
            "2104/2104 [==============================] - 320s 152ms/step - loss: 0.1565 - accuracy: 0.9527 - val_loss: 0.1058 - val_accuracy: 0.9661\n",
            "Epoch 5/20\n",
            "2104/2104 [==============================] - 347s 165ms/step - loss: 0.1144 - accuracy: 0.9629 - val_loss: 0.0833 - val_accuracy: 0.9696\n",
            "Epoch 6/20\n",
            "2104/2104 [==============================] - 341s 162ms/step - loss: 0.0939 - accuracy: 0.9691 - val_loss: 0.0776 - val_accuracy: 0.9729\n",
            "Epoch 7/20\n",
            "2104/2104 [==============================] - 311s 148ms/step - loss: 0.0865 - accuracy: 0.9705 - val_loss: 0.0731 - val_accuracy: 0.9729\n",
            "Epoch 8/20\n",
            "2104/2104 [==============================] - 307s 146ms/step - loss: 0.0766 - accuracy: 0.9721 - val_loss: 0.0683 - val_accuracy: 0.9731\n",
            "Epoch 9/20\n",
            "2104/2104 [==============================] - 311s 148ms/step - loss: 0.0729 - accuracy: 0.9725 - val_loss: 0.0642 - val_accuracy: 0.9759\n",
            "Epoch 10/20\n",
            "2104/2104 [==============================] - 330s 157ms/step - loss: 0.0697 - accuracy: 0.9740 - val_loss: 0.0595 - val_accuracy: 0.9755\n",
            "Epoch 11/20\n",
            "2104/2104 [==============================] - 334s 159ms/step - loss: 0.0656 - accuracy: 0.9756 - val_loss: 0.0610 - val_accuracy: 0.9740\n",
            "Epoch 12/20\n",
            "2104/2104 [==============================] - 317s 151ms/step - loss: 0.0643 - accuracy: 0.9750 - val_loss: 0.0582 - val_accuracy: 0.9766\n",
            "Epoch 13/20\n",
            "2104/2104 [==============================] - 343s 163ms/step - loss: 0.0623 - accuracy: 0.9746 - val_loss: 0.0541 - val_accuracy: 0.9769\n",
            "Epoch 14/20\n",
            "2104/2104 [==============================] - 366s 174ms/step - loss: 0.0584 - accuracy: 0.9764 - val_loss: 0.0514 - val_accuracy: 0.9773\n",
            "Epoch 15/20\n",
            "2104/2104 [==============================] - 369s 176ms/step - loss: 0.0595 - accuracy: 0.9756 - val_loss: 0.0517 - val_accuracy: 0.9780\n",
            "Epoch 16/20\n",
            "2104/2104 [==============================] - 366s 174ms/step - loss: 0.0586 - accuracy: 0.9762 - val_loss: 0.0481 - val_accuracy: 0.9787\n",
            "Epoch 17/20\n",
            "2104/2104 [==============================] - 353s 168ms/step - loss: 0.0535 - accuracy: 0.9767 - val_loss: 0.0506 - val_accuracy: 0.9787\n",
            "Epoch 18/20\n",
            "2104/2104 [==============================] - 331s 157ms/step - loss: 0.0582 - accuracy: 0.9767 - val_loss: 0.0533 - val_accuracy: 0.9777\n",
            "Epoch 19/20\n",
            "2104/2104 [==============================] - 318s 151ms/step - loss: 0.0552 - accuracy: 0.9772 - val_loss: 0.0519 - val_accuracy: 0.9777\n",
            "Epoch 20/20\n",
            "2104/2104 [==============================] - 321s 153ms/step - loss: 0.0557 - accuracy: 0.9761 - val_loss: 0.0559 - val_accuracy: 0.9780\n"
          ]
        }
      ]
    },
    {
      "cell_type": "code",
      "source": [
        "# Visualización del entrenamiento\n",
        "plt.figure(figsize=(12, 4))\n",
        "plt.subplot(1, 2, 1)\n",
        "plt.plot(history.history['accuracy'])\n",
        "plt.plot(history.history['val_accuracy'])\n",
        "plt.title('Modelo accuracy')\n",
        "plt.ylabel('Accuracy')\n",
        "plt.xlabel('Epoch')\n",
        "plt.legend(['Train', 'Validation'], loc='upper left')\n",
        "\n",
        "plt.subplot(1, 2, 2)\n",
        "plt.plot(history.history['loss'])\n",
        "plt.plot(history.history['val_loss'])\n",
        "plt.title('Modelo loss')\n",
        "plt.ylabel('Loss')\n",
        "plt.xlabel('Epoch')\n",
        "plt.legend(['Train', 'Validation'], loc='upper left')\n",
        "plt.show()"
      ],
      "metadata": {
        "id": "53b3DL4vMjJc",
        "outputId": "402157ab-adeb-43d7-a309-fa5fd64c0787",
        "colab": {
          "base_uri": "https://localhost:8080/",
          "height": 410
        }
      },
      "execution_count": 26,
      "outputs": [
        {
          "output_type": "display_data",
          "data": {
            "text/plain": [
              "<Figure size 1200x400 with 2 Axes>"
            ],
            "image/png": "[encoded data removed]"
          },
          "metadata": {}
        }
      ]
    },
    {
      "cell_type": "code",
      "execution_count": 27,
      "metadata": {
        "id": "lJZkDmB_XwHm",
        "colab": {
          "base_uri": "https://localhost:8080/"
        },
        "outputId": "afcb57d5-9d4a-4164-f3e6-dfaf68d2b725"
      },
      "outputs": [
        {
          "output_type": "stream",
          "name": "stdout",
          "text": [
            "263/263 [==============================] - 31s 116ms/step - loss: 0.0559 - accuracy: 0.9780\n",
            "Loss: 0.05587208271026611, Accuracy: 0.978018045425415\n"
          ]
        }
      ],
      "source": [
        "# Evaluación del modelo\n",
        "loss, accuracy = model.evaluate(val_features, np.array(val_labels))\n",
        "print(f'Loss: {loss}, Accuracy: {accuracy}')\n"
      ]
    },
    {
      "cell_type": "code",
      "source": [
        "# Matriz de confusión y reporte de clasificación\n",
        "val_predictions = model.predict(val_features)\n",
        "val_predictions = np.argmax(val_predictions, axis=1)\n",
        "cm = confusion_matrix(val_labels, val_predictions)\n",
        "print(\"Confusion Matrix:\")\n",
        "print(cm)\n"
      ],
      "metadata": {
        "id": "vYyzbvStJ27I",
        "outputId": "84e742b7-4457-4bfb-f62d-d0ab24d31607",
        "colab": {
          "base_uri": "https://localhost:8080/"
        }
      },
      "execution_count": 28,
      "outputs": [
        {
          "output_type": "stream",
          "name": "stdout",
          "text": [
            "263/263 [==============================] - 29s 108ms/step\n",
            "Confusion Matrix:\n",
            "[[  45    0    0    0    0    0    0    0]\n",
            " [   0   47    0    0    0    0    4    0]\n",
            " [   0    0  387    0    3    0    0    0]\n",
            " [   0    0    3  112    0    1    0    0]\n",
            " [   0    0    2    0  107    1    0    0]\n",
            " [   0    0    0    1    2   62    0    1]\n",
            " [   0    1    0    0    0    0 5212   62]\n",
            " [   0    0    0    0    0    0  104 2259]]\n"
          ]
        }
      ]
    },
    {
      "cell_type": "code",
      "source": [
        "print(\"Classification Report:\")\n",
        "print(classification_report(val_labels, val_predictions, target_names=label_encoder_event.classes_))"
      ],
      "metadata": {
        "id": "OQSQkHR7SmeG",
        "outputId": "ff57fd3b-9a4a-45ca-e90c-f696af78c97e",
        "colab": {
          "base_uri": "https://localhost:8080/"
        }
      },
      "execution_count": 29,
      "outputs": [
        {
          "output_type": "stream",
          "name": "stdout",
          "text": [
            "Classification Report:\n",
            "                        precision    recall  f1-score   support\n",
            "\n",
            "    Dust Storm Warning       1.00      1.00      1.00        45\n",
            "     Ice Storm Warning       0.98      0.92      0.95        51\n",
            "         Storm Warning       0.99      0.99      0.99       390\n",
            "           Storm Watch       0.99      0.97      0.98       116\n",
            "Tropical Storm Warning       0.96      0.97      0.96       110\n",
            "  Tropical Storm Watch       0.97      0.94      0.95        66\n",
            "  Winter Storm Warning       0.98      0.99      0.98      5275\n",
            "    Winter Storm Watch       0.97      0.96      0.96      2363\n",
            "\n",
            "              accuracy                           0.98      8416\n",
            "             macro avg       0.98      0.97      0.97      8416\n",
            "          weighted avg       0.98      0.98      0.98      8416\n",
            "\n"
          ]
        }
      ]
    },
    {
      "cell_type": "markdown",
      "source": [
        "Prediccion con en relacion a la descripcion y el evento."
      ],
      "metadata": {
        "id": "J_u0kU9wJ53g"
      }
    },
    {
      "cell_type": "code",
      "source": [
        "# Función predict\n",
        "def predict(texts, tokenizer, model, max_len, eventos):\n",
        "    sequences = tokenizer.texts_to_sequences(texts)\n",
        "    padded_sequences = pad_sequences(sequences, maxlen=max_len, padding='post')\n",
        "    predictions = model.predict(padded_sequences)\n",
        "    predicted_events = [eventos[np.argmax(prediction)] for prediction in predictions]\n",
        "    return predicted_events\n"
      ],
      "metadata": {
        "id": "G68OWe7UIQx5"
      },
      "execution_count": 30,
      "outputs": []
    },
    {
      "cell_type": "code",
      "source": [
        "# Función random_prediction\n",
        "def random_prediction(alertas, n=1, tokenizer=None, model=None, max_len=None):\n",
        "    # Extraer eventos únicos directamente del DataFrame\n",
        "    eventos = alertas['event_x'].unique()\n",
        "\n",
        "    random_indices = np.random.choice(alertas.index, size=n, replace=False)  # Seleccionar índices aleatorios\n",
        "    random_descriptions = alertas.loc[random_indices, 'combined_text'].values  # Usar la columna combined_text\n",
        "    predictions = predict(random_descriptions, tokenizer, model, max_len, eventos)\n",
        "    result = list(zip(random_descriptions, predictions))  # Emparejar descripciones y predicciones\n",
        "    return result"
      ],
      "metadata": {
        "id": "h2cD70PuLSTe"
      },
      "execution_count": 31,
      "outputs": []
    },
    {
      "cell_type": "code",
      "source": [
        "# Llamar a la función random_prediction\n",
        "predictions = random_prediction(alertas, n=1, tokenizer=tokenizer, model=model, max_len=max_len)\n",
        "for combined_text, prediction in predictions:\n",
        "    print(f'Description: {combined_text}')\n",
        "    print(f'Prediction: {prediction}')"
      ],
      "metadata": {
        "id": "bkVDWavELUsm",
        "outputId": "ae3e56d2-dc9d-4764-f5d6-ef9b244c2e95",
        "colab": {
          "base_uri": "https://localhost:8080/"
        }
      },
      "execution_count": 34,
      "outputs": [
        {
          "output_type": "stream",
          "name": "stdout",
          "text": [
            "1/1 [==============================] - 0s 105ms/step\n",
            "Description: heavy snow expected travel difficult impossible total snow accumulations six inches expected chukchi sea coast midnight six monday additional details snow expected develop become heavy midnight tonight continue monday morning A Winter Storm Warning for snow and blowing snow means severe\n",
            "winter weather conditions are expected. This will make travel\n",
            "very difficult or impossible.\n",
            "Prediction: Storm Watch\n"
          ]
        }
      ]
    },
    {
      "cell_type": "markdown",
      "metadata": {
        "id": "f6jEhQLJ0UzF"
      },
      "source": [
        "#Creacion de pictogramas."
      ]
    },
    {
      "cell_type": "markdown",
      "metadata": {
        "id": "lEGQCLpj0iaX"
      },
      "source": [
        "Un pictograma es un símbolo gráfico que transmite información o datos mediante una representación clara y simplificada ya que, ayudan a transmitir información de forma visual y más rápida."
      ]
    },
    {
      "cell_type": "code",
      "source": [
        "!pip install pillow"
      ],
      "metadata": {
        "colab": {
          "base_uri": "https://localhost:8080/"
        },
        "id": "FX5eFyfExORr",
        "outputId": "6e3049b9-9beb-4ef7-e029-bd469126ab35"
      },
      "execution_count": null,
      "outputs": [
        {
          "output_type": "stream",
          "name": "stdout",
          "text": [
            "Requirement already satisfied: pillow in /usr/local/lib/python3.10/dist-packages (9.4.0)\n"
          ]
        }
      ]
    },
    {
      "cell_type": "code",
      "source": [
        "import cv2"
      ],
      "metadata": {
        "id": "vM6B-URunlgE"
      },
      "execution_count": 63,
      "outputs": []
    },
    {
      "cell_type": "code",
      "source": [
        "def create_pictogram(description, event):\n",
        "    # Crear una imagen en blanco\n",
        "    img = np.ones((500, 500, 3), dtype=np.uint8) * 255\n",
        "\n",
        "    # Definir colores\n",
        "    color_nube = (192, 192, 192)\n",
        "    color_rayo = (255, 255, 0)  # Amarillo\n",
        "\n",
        "    # Dibujar el pictograma basado en el evento\n",
        "    if event == 'Dust Storm Warning':\n",
        "        # Triángulo blanco con bordes rojos\n",
        "        points = np.array([[150, 400], [350, 400], [250, 150]], np.int32)\n",
        "        points = points.reshape((-1, 1, 2))\n",
        "        cv2.fillPoly(img, [points], (255, 255, 255))\n",
        "        cv2.polylines(img, [points], True, (0, 0, 255), 5)\n",
        "        # Nube gris en el centro\n",
        "        cv2.circle(img, (250, 275), 80, color_nube, -1)\n",
        "        cv2.circle(img, (350, 200), 60, color_nube, -1)\n",
        "        cv2.circle(img, (450, 350), 70, color_nube, -1)\n",
        "        # Asteriscos marrones dentro del triángulo\n",
        "        for _ in range(100):\n",
        "            x1 = np.random.randint(150, 350)\n",
        "            y1 = np.random.randint(150, 400)\n",
        "            if cv2.pointPolygonTest(points, (x1, y1), False) >= 0:\n",
        "                cv2.putText(img, \"*\", (x1, y1), cv2.FONT_HERSHEY_SIMPLEX, 0.5, (165, 42, 42), 1, cv2.LINE_AA)\n",
        "    elif event == 'Tropical Storm Warning':\n",
        "        # Triángulo rojo con centro blanco\n",
        "        points = np.array([[100, 400], [400, 400], [250, 100]], np.int32)\n",
        "        points = points.reshape((-1, 1, 2))\n",
        "        cv2.fillPoly(img, [points], (0, 0, 255))\n",
        "        cv2.polylines(img, [points], True, (0, 0, 0), 5)\n",
        "        # Espiral negra en el centro\n",
        "        x_center, y_center = 250, 250\n",
        "        for i in range(20, 220, 20):\n",
        "            cv2.ellipse(img, (x_center, y_center), (i, i), 0, 0, 360, (0, 0, 0), 2)\n",
        "        # Rayos azules\n",
        "        cv2.line(img, (200, 200), (100, 400), color_rayo, 5)\n",
        "        cv2.line(img, (300, 300), (400, 400), color_rayo, 5)\n",
        "    elif event in ['Winter Storm Warning', 'Ice Storm Warning']:\n",
        "        # Triángulo blanco con bordes rojos\n",
        "        points = np.array([[100, 400], [400, 400], [250, 100]], np.int32)\n",
        "        points = points.reshape((-1, 1, 2))\n",
        "        cv2.fillPoly(img, [points], (255, 255, 255))\n",
        "        cv2.polylines(img, [points], True, (0, 0, 255), 5)\n",
        "        # Nube blanca con bordes negros en el centro\n",
        "        cv2.circle(img, (250, 275), 80, (255, 255, 255), -1)\n",
        "        cv2.circle(img, (350, 200), 60, (0, 0, 0), 4)\n",
        "        cv2.circle(img, (450, 350), 70, (0, 0, 0), 4)\n",
        "        # Asteriscos azules dentro del triángulo\n",
        "        for _ in range(50):\n",
        "            x1 = np.random.randint(100, 400)\n",
        "            y1 = np.random.randint(100, 400)\n",
        "            if cv2.pointPolygonTest(points, (x1, y1), False) >= 0:\n",
        "                cv2.putText(img, \"*\", (x1, y1), cv2.FONT_HERSHEY_SIMPLEX, 0.5, (255, 0, 0), 1, cv2.LINE_AA)\n",
        "    elif event == 'Winter Storm Watch':\n",
        "        # Triángulo blanco con bordes amarillos\n",
        "        points = np.array([[100, 400], [400, 400], [250, 100]], np.int32)\n",
        "        points = points.reshape((-1, 1, 2))\n",
        "        cv2.fillPoly(img, [points], (255, 255, 255))\n",
        "        cv2.polylines(img, [points], True, (0, 255, 255), 5)\n",
        "        # Nube blanca con bordes negros en el centro\n",
        "        cv2.circle(img, (250, 275), 80, (255, 255, 255), -1)\n",
        "        cv2.circle(img, (350, 200), 60, (0, 0, 0), 4)\n",
        "        cv2.circle(img, (450, 350), 70, (0, 0, 0), 4)\n",
        "        # Asteriscos azules dentro del triángulo\n",
        "        for _ in range(50):\n",
        "            x1 = np.random.randint(100, 400)\n",
        "            y1 = np.random.randint(100, 400)\n",
        "            if cv2.pointPolygonTest(points, (x1, y1), False) >= 0:\n",
        "                cv2.putText(img, \"*\", (x1, y1), cv2.FONT_HERSHEY_SIMPLEX, 0.5, (255, 0, 0), 1, cv2.LINE_AA)\n",
        "    elif event == 'Tropical Storm Watch':\n",
        "        # Triángulo blanco con bordes amarillos\n",
        "        points = np.array([[100, 400], [400, 400], [250, 100]], np.int32)\n",
        "        points = points.reshape((-1, 1, 2))\n",
        "        cv2.fillPoly(img, [points], (255, 255, 255))\n",
        "        cv2.polylines(img, [points], True, (0, 255, 255), 5)\n",
        "        # Espiral negra en el centro\n",
        "        x_center, y_center = 250, 250\n",
        "        for i in range(20, 220, 20):\n",
        "            cv2.ellipse(img, (x_center, y_center), (i, i), 0, 0, 360, (0, 0, 0), 2)\n",
        "    elif event == 'Storm Watch':\n",
        "        # Triángulo blanco con bordes amarillos\n",
        "        points = np.array([[100, 400], [400, 400], [250, 100]], np.int32)\n",
        "        points = points.reshape((-1, 1, 2))\n",
        "        cv2.fillPoly(img, [points], (255, 255, 255))\n",
        "        cv2.polylines(img, [points], True, (0, 255, 255), 5)\n",
        "\n",
        "\n",
        "    # Mostrar la imagen utilizando matplotlib\n",
        "    plt.imshow(cv2.cvtColor(img, cv2.COLOR_BGR2RGB))\n",
        "    plt.axis('off')\n",
        "    plt.show()"
      ],
      "metadata": {
        "id": "vu1sf8awnpeG"
      },
      "execution_count": 64,
      "outputs": []
    },
    {
      "cell_type": "code",
      "source": [
        "# Obtener la descripción y el evento de una fila en el dataframe\n",
        "row_index = 750 # Índice numérico de la fila en el dataframe\n",
        "description = alertas.iloc[row_index]['combined_text']\n",
        "event = alertas.iloc[row_index]['event_x']\n",
        "\n",
        "# Descripción y el evento para verificar\n",
        "print(\"Descripción:\", description)\n",
        "print(\"Evento:\", event)\n",
        "\n",
        "# Crear el pictograma\n",
        "create_pictogram(description, event)\n"
      ],
      "metadata": {
        "id": "kZmVwE7snsx9",
        "outputId": "57e81ef0-c95f-4fc6-9949-c942c428190e",
        "colab": {
          "base_uri": "https://localhost:8080/",
          "height": 462
        }
      },
      "execution_count": 65,
      "outputs": [
        {
          "output_type": "stream",
          "name": "stdout",
          "text": [
            "Descripción: heavy snow likely total snow accumulations greater six inches across watch area snow accumulations greater twelve inches possible much western upper michigan especially higher terrain winds could gust high forty-five mph especially near lake superior shoreline portions central upper western upper michigan sunday afternoon tuesday morning impacts travel could difficult patchy blowing snow could significantly reduce visibility hazardous conditions could impact morning evening commute monday wet slushy snow along strong winds could lead scattered power outages monday Monitor the latest forecasts for updates on this situation.\n",
            "Evento: Winter Storm Watch\n"
          ]
        },
        {
          "output_type": "display_data",
          "data": {
            "text/plain": [
              "<Figure size 640x480 with 1 Axes>"
            ],
            "image/png": "[encoded data removed]"
          },
          "metadata": {}
        }
      ]
    },
    {
      "cell_type": "code",
      "execution_count": null,
      "metadata": {
        "id": "L3uqf3wj0v0g"
      },
      "outputs": [],
      "source": [
        "import numpy as np\n",
        "from PIL import Image, ImageDraw, ImageFont\n",
        "from IPython.display import display"
      ]
    },
    {
      "cell_type": "code",
      "execution_count": null,
      "metadata": {
        "id": "9QgL0RHz0nqr"
      },
      "outputs": [],
      "source": [
        "def create_pictogram(description, event):\n",
        "    # Crear una imagen en blanco\n",
        "    img = Image.new('RGB', (300, 300), color=(255, 255, 255))\n",
        "    d = ImageDraw.Draw(img)\n",
        "\n",
        "    # Definir la fuente\n",
        "    try:\n",
        "        font = ImageFont.truetype(\"arial.ttf\", 16)\n",
        "    except IOError:\n",
        "        font = ImageFont.load_default()\n",
        "\n",
        "    # Dibujar el pictograma basado en el evento\n",
        "    if event == 'Dust Storm Warning':\n",
        "        # Triángulo blanco con bordes rojos\n",
        "        d.polygon([(100, 150), (200, 150), (150, 50)], fill=\"white\", outline=\"red\", width=3)\n",
        "        # Asteriscos amarillos\n",
        "        for _ in range(50):\n",
        "            x1 = np.random.randint(0, 300)\n",
        "            y1 = np.random.randint(0, 300)\n",
        "            d.text((x1, y1), \"*\", fill=\"yellow\", font=font)\n",
        "    elif event == 'Tropical Storm Warning':\n",
        "        # Triángulo rojo con centro blanco\n",
        "        d.polygon([(100, 150), (200, 150), (150, 50)], fill=\"red\", outline=\"black\")\n",
        "        d.polygon([(120, 140), (180, 140), (150, 90)], fill=\"white\", outline=\"black\")\n",
        "        # Espiral\n",
        "        x_center, y_center = 150, 150\n",
        "        for i in range(10, 110, 10):\n",
        "            d.ellipse([(x_center - i, y_center - i), (x_center + i, y_center + i)], outline=\"black\")\n",
        "    elif event == 'Winter Storm Warning' or event == 'Ice Storm Warning':\n",
        "        # Triángulo blanco con bordes rojos\n",
        "        d.polygon([(100, 150), (200, 150), (150, 50)], fill=\"white\", outline=\"red\", width=3)\n",
        "        # Asteriscos de color azul (simulando nieve)\n",
        "        for _ in range(30):\n",
        "            x1 = np.random.randint(0, 300)\n",
        "            y1 = np.random.randint(0, 300)\n",
        "            d.text((x1, y1), \"*\", fill=\"blue\", font=font)\n",
        "    elif event == 'Winter Storm Watch':\n",
        "        # Triángulo blanco con bordes amarillos\n",
        "        d.polygon([(100, 150), (200, 150), (150, 50)], fill=\"white\", outline=\"yellow\", width=3)\n",
        "        # Asteriscos de color azul (simulando nieve)\n",
        "        for _ in range(30):\n",
        "            x1 = np.random.randint(0, 300)\n",
        "            y1 = np.random.randint(0, 300)\n",
        "            d.text((x1, y1), \"*\", fill=\"blue\", font=font)\n",
        "    elif event == 'Tropical Storm Watch':\n",
        "        # Triángulo blanco con bordes amarillos\n",
        "        d.polygon([(100, 150), (200, 150), (150, 50)], fill=\"white\", outline=\"yellow\", width=3)\n",
        "        # Espiral\n",
        "        x_center, y_center = 150, 150\n",
        "        for i in range(10, 110, 10):\n",
        "            d.ellipse([(x_center - i, y_center - i), (x_center + i, y_center + i)], outline=\"black\")\n",
        "    elif event == 'Storm Watch':\n",
        "        # Triángulo blanco con bordes amarillos\n",
        "        d.polygon([(100, 150), (200, 150), (150, 50)], fill=\"white\", outline=\"yellow\", width=3)\n",
        "        # Líneas entrecortadas azules simulando rayos de tormenta\n",
        "        for _ in range(100):\n",
        "            x1 = np.random.randint(0, 300)\n",
        "            y1 = np.random.randint(0, 300)\n",
        "            x2 = np.random.randint(0, 300)\n",
        "            y2 = np.random.randint(0, 300)\n",
        "            d.line((x1, y1, x2, y2), fill=\"black\", width=2)\n",
        "    elif event == 'Storm Warning':\n",
        "        # Triángulo blanco con bordes rojos\n",
        "        d.polygon([(100, 150), (200, 150), (150, 50)], fill=\"white\", outline=\"red\", width=3)\n",
        "        # Líneas entrecortadas azules simulando rayos de tormenta\n",
        "        for _ in range(100):\n",
        "            x1 = np.random.randint(0, 300)\n",
        "            y1 = np.random.randint(0, 300)\n",
        "            x2 = np.random.randint(0, 300)\n",
        "            y2 = np.random.randint(0, 300)\n",
        "            d.line((x1, y1, x2, y2), fill=\"black\", width=2)\n",
        "\n",
        "    # Convertir la imagen a un array numpy\n",
        "    img_array = np.array(img)\n",
        "\n",
        "    # Mostrar la imagen utilizando matplotlib\n",
        "    plt.imshow(img_array)\n",
        "    plt.axis('off')\n",
        "    plt.show()\n"
      ]
    },
    {
      "cell_type": "code",
      "execution_count": null,
      "metadata": {
        "id": "Fe6nVrPI0z6A",
        "colab": {
          "base_uri": "https://localhost:8080/",
          "height": 462
        },
        "outputId": "d674e24c-3158-40ef-d599-8135b2458b82"
      },
      "outputs": [
        {
          "output_type": "stream",
          "name": "stdout",
          "text": [
            "Descripción:  snow showers for higher mountain elevations into tuesday   late season pacific storm will continue to bring periods of moderate snow showers to the higher elevations of the sierra nevada into tuesday  travel into the sierra should be avoided during this time with periods as slick roads lowered visibility travel delays and chain controls are expected   what heavy snow occurring plan on difficult travel conditions including during the evening commute on tuesday additional snow accumulations of up to one inch are expected   where west slope northern sierra nevada   when until five pm tuesday   additional details be prepared for significant reductions in visibility at times\n",
            "Evento: Winter Storm Warning\n"
          ]
        },
        {
          "output_type": "display_data",
          "data": {
            "text/plain": [
              "<Figure size 640x480 with 1 Axes>"
            ],
            "image/png": "[encoded data removed]"
          },
          "metadata": {}
        }
      ],
      "source": [
        "#obtener la descripción y el evento de una fila en el dataframe\n",
        "row_index = 4  # Índice numérico de la fila en el dataframe\n",
        "description = alertas.iloc[row_index]['description']\n",
        "event = alertas.iloc[row_index]['event']\n",
        "\n",
        "#descripción y el evento para verificar\n",
        "print(\"Descripción:\", description)\n",
        "print(\"Evento:\", event)\n",
        "\n",
        "#Crear el pictograma\n",
        "create_pictogram(description, event)"
      ]
    }
  ],
  "metadata": {
    "accelerator": "GPU",
    "colab": {
      "gpuType": "T4",
      "provenance": [],
      "include_colab_link": true
    },
    "kernelspec": {
      "display_name": "Python 3",
      "name": "python3"
    },
    "language_info": {
      "name": "python"
    }
  },
  "nbformat": 4,
  "nbformat_minor": 0
}