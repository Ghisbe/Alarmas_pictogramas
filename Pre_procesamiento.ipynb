{
  "nbformat": 4,
  "nbformat_minor": 0,
  "metadata": {
    "colab": {
      "provenance": [],
      "include_colab_link": true
    },
    "kernelspec": {
      "name": "python3",
      "display_name": "Python 3"
    },
    "language_info": {
      "name": "python"
    }
  },
  "cells": [
    {
      "cell_type": "markdown",
      "metadata": {
        "id": "view-in-github",
        "colab_type": "text"
      },
      "source": [
        "<a href=\"https://colab.research.google.com/github/Ghisbe/Alarmas_pictogramas/blob/main/Pre_procesamiento.ipynb\" target=\"_parent\"><img src=\"https://colab.research.google.com/assets/colab-badge.svg\" alt=\"Open In Colab\"/></a>"
      ]
    },
    {
      "cell_type": "markdown",
      "source": [
        "#Pre procesamiento columna 'instruction'."
      ],
      "metadata": {
        "id": "yFxI19ZnK_aK"
      }
    },
    {
      "cell_type": "code",
      "execution_count": 1,
      "metadata": {
        "colab": {
          "base_uri": "https://localhost:8080/"
        },
        "id": "lsM3_lEM5KQX",
        "outputId": "888f34f8-ab24-4388-ff4c-bee1feb4ba05"
      },
      "outputs": [
        {
          "output_type": "stream",
          "name": "stdout",
          "text": [
            "Mounted at /content/drive\n"
          ]
        }
      ],
      "source": [
        "from google.colab import drive\n",
        "drive.mount('/content/drive')\n",
        "import pandas as pd\n",
        "import gdown"
      ]
    },
    {
      "cell_type": "code",
      "source": [
        "url = \"https://drive.google.com/uc?id=16poQbHBP284_SqLjI694NaH8K7sr5cA1\""
      ],
      "metadata": {
        "id": "mCA0Odfv5W_k"
      },
      "execution_count": 2,
      "outputs": []
    },
    {
      "cell_type": "code",
      "source": [
        "output = 'alertas.csv'\n",
        "gdown.download(url, output, quiet=False)\n",
        "\n",
        "# Leemos el archivo CSV en un DataFrame de pandas\n",
        "df_alertas = pd.read_csv(output)"
      ],
      "metadata": {
        "colab": {
          "base_uri": "https://localhost:8080/"
        },
        "id": "_FbsbqX15lL1",
        "outputId": "4c3e8deb-446c-44b5-c4b0-8e9041a2abc7"
      },
      "execution_count": 3,
      "outputs": [
        {
          "output_type": "stream",
          "name": "stderr",
          "text": [
            "Downloading...\n",
            "From (original): https://drive.google.com/uc?id=16poQbHBP284_SqLjI694NaH8K7sr5cA1\n",
            "From (redirected): https://drive.google.com/uc?id=16poQbHBP284_SqLjI694NaH8K7sr5cA1&confirm=t&uuid=bd1641ae-a64d-4a16-bad0-7b76aca62da5\n",
            "To: /content/alertas.csv\n",
            "100%|██████████| 754M/754M [00:09<00:00, 76.4MB/s]\n"
          ]
        }
      ]
    },
    {
      "cell_type": "code",
      "source": [
        "df_alertas"
      ],
      "metadata": {
        "colab": {
          "base_uri": "https://localhost:8080/",
          "height": 615
        },
        "id": "_GqoSpDv5sw_",
        "outputId": "0c3a4bb9-0dd4-4561-a9d6-1d131c946bde"
      },
      "execution_count": 4,
      "outputs": [
        {
          "output_type": "execute_result",
          "data": {
            "text/plain": [
              "                              id                        event  \\\n",
              "0       5ed3a4b2283336e2e7db3a1c    Special Weather Statement   \n",
              "1       5ed3a07c283336e2e7d2bfa4                Flood Warning   \n",
              "2       5ed39e54283336e2e7d22306               Flood Advisory   \n",
              "3       5ed39e11283336e2e7d15e23                  Flood Watch   \n",
              "4       5ed3962c283336e2e7c1d935                Flood Warning   \n",
              "...                          ...                          ...   \n",
              "748625  5e6dc0ad023f1930effa5093      Winter Weather Advisory   \n",
              "748626  5e6dc0ad023f1930effa509d      Winter Weather Advisory   \n",
              "748627  5e6dd185023f1930ef44b316                Flood Warning   \n",
              "748628  5e6dc0ad023f1930effa50aa      Winter Weather Advisory   \n",
              "748629  5e6dc0cd023f1930effae612  Severe Thunderstorm Warning   \n",
              "\n",
              "                                              description  \\\n",
              "0       At 630 AM MDT/530 AM PDT/, Doppler radar was t...   \n",
              "1        The National Weather Service in Billings MT h...   \n",
              "2       At 502 AM PDT, Gauge reports continue to indic...   \n",
              "3       The National Weather Service in Spokane has is...   \n",
              "4       The Flood Warning has been cancelled and is no...   \n",
              "...                                                   ...   \n",
              "748625  A powerful winter storm will continue to impac...   \n",
              "748626  A powerful winter storm will continue to impac...   \n",
              "748627  Black River near Annapolis\\n\\n.This Flood Warn...   \n",
              "748628  * WHAT A period of freezing rain expected. Tot...   \n",
              "748629  The National Weather Service in Mobile has iss...   \n",
              "\n",
              "                                              instruction    urgency  severity  \n",
              "0       Frequent cloud to ground lightning is occurrin...   Expected  Moderate  \n",
              "1       Safety message...A river Flood Warning means r...   Expected    Severe  \n",
              "2       A Flood Advisory means river or stream flows a...   Expected     Minor  \n",
              "3       A Flood Watch means there is a potential for f...     Future    Severe  \n",
              "4       Safety message...Motorists should not attempt ...       Past     Minor  \n",
              "...                                                   ...        ...       ...  \n",
              "748625  A Winter Weather Advisory means that periods o...   Expected  Moderate  \n",
              "748626  A Blizzard Warning means severe winter weather...   Expected  Moderate  \n",
              "748627  PRECAUTIONARY/PREPAREDNESS ACTIONS...\\n\\nSafet...  Immediate    Severe  \n",
              "748628  A Winter Weather Advisory means that periods o...   Expected  Moderate  \n",
              "748629  For your protection move to an interior room o...  Immediate    Severe  \n",
              "\n",
              "[748630 rows x 6 columns]"
            ],
            "text/html": [
              "\n",
              "  <div id=\"df-43cfcc0b-ea2b-47d1-bc40-c81faf2866a2\" class=\"colab-df-container\">\n",
              "    <div>\n",
              "<style scoped>\n",
              "    .dataframe tbody tr th:only-of-type {\n",
              "        vertical-align: middle;\n",
              "    }\n",
              "\n",
              "    .dataframe tbody tr th {\n",
              "        vertical-align: top;\n",
              "    }\n",
              "\n",
              "    .dataframe thead th {\n",
              "        text-align: right;\n",
              "    }\n",
              "</style>\n",
              "<table border=\"1\" class=\"dataframe\">\n",
              "  <thead>\n",
              "    <tr style=\"text-align: right;\">\n",
              "      <th></th>\n",
              "      <th>id</th>\n",
              "      <th>event</th>\n",
              "      <th>description</th>\n",
              "      <th>instruction</th>\n",
              "      <th>urgency</th>\n",
              "      <th>severity</th>\n",
              "    </tr>\n",
              "  </thead>\n",
              "  <tbody>\n",
              "    <tr>\n",
              "      <th>0</th>\n",
              "      <td>5ed3a4b2283336e2e7db3a1c</td>\n",
              "      <td>Special Weather Statement</td>\n",
              "      <td>At 630 AM MDT/530 AM PDT/, Doppler radar was t...</td>\n",
              "      <td>Frequent cloud to ground lightning is occurrin...</td>\n",
              "      <td>Expected</td>\n",
              "      <td>Moderate</td>\n",
              "    </tr>\n",
              "    <tr>\n",
              "      <th>1</th>\n",
              "      <td>5ed3a07c283336e2e7d2bfa4</td>\n",
              "      <td>Flood Warning</td>\n",
              "      <td>The National Weather Service in Billings MT h...</td>\n",
              "      <td>Safety message...A river Flood Warning means r...</td>\n",
              "      <td>Expected</td>\n",
              "      <td>Severe</td>\n",
              "    </tr>\n",
              "    <tr>\n",
              "      <th>2</th>\n",
              "      <td>5ed39e54283336e2e7d22306</td>\n",
              "      <td>Flood Advisory</td>\n",
              "      <td>At 502 AM PDT, Gauge reports continue to indic...</td>\n",
              "      <td>A Flood Advisory means river or stream flows a...</td>\n",
              "      <td>Expected</td>\n",
              "      <td>Minor</td>\n",
              "    </tr>\n",
              "    <tr>\n",
              "      <th>3</th>\n",
              "      <td>5ed39e11283336e2e7d15e23</td>\n",
              "      <td>Flood Watch</td>\n",
              "      <td>The National Weather Service in Spokane has is...</td>\n",
              "      <td>A Flood Watch means there is a potential for f...</td>\n",
              "      <td>Future</td>\n",
              "      <td>Severe</td>\n",
              "    </tr>\n",
              "    <tr>\n",
              "      <th>4</th>\n",
              "      <td>5ed3962c283336e2e7c1d935</td>\n",
              "      <td>Flood Warning</td>\n",
              "      <td>The Flood Warning has been cancelled and is no...</td>\n",
              "      <td>Safety message...Motorists should not attempt ...</td>\n",
              "      <td>Past</td>\n",
              "      <td>Minor</td>\n",
              "    </tr>\n",
              "    <tr>\n",
              "      <th>...</th>\n",
              "      <td>...</td>\n",
              "      <td>...</td>\n",
              "      <td>...</td>\n",
              "      <td>...</td>\n",
              "      <td>...</td>\n",
              "      <td>...</td>\n",
              "    </tr>\n",
              "    <tr>\n",
              "      <th>748625</th>\n",
              "      <td>5e6dc0ad023f1930effa5093</td>\n",
              "      <td>Winter Weather Advisory</td>\n",
              "      <td>A powerful winter storm will continue to impac...</td>\n",
              "      <td>A Winter Weather Advisory means that periods o...</td>\n",
              "      <td>Expected</td>\n",
              "      <td>Moderate</td>\n",
              "    </tr>\n",
              "    <tr>\n",
              "      <th>748626</th>\n",
              "      <td>5e6dc0ad023f1930effa509d</td>\n",
              "      <td>Winter Weather Advisory</td>\n",
              "      <td>A powerful winter storm will continue to impac...</td>\n",
              "      <td>A Blizzard Warning means severe winter weather...</td>\n",
              "      <td>Expected</td>\n",
              "      <td>Moderate</td>\n",
              "    </tr>\n",
              "    <tr>\n",
              "      <th>748627</th>\n",
              "      <td>5e6dd185023f1930ef44b316</td>\n",
              "      <td>Flood Warning</td>\n",
              "      <td>Black River near Annapolis\\n\\n.This Flood Warn...</td>\n",
              "      <td>PRECAUTIONARY/PREPAREDNESS ACTIONS...\\n\\nSafet...</td>\n",
              "      <td>Immediate</td>\n",
              "      <td>Severe</td>\n",
              "    </tr>\n",
              "    <tr>\n",
              "      <th>748628</th>\n",
              "      <td>5e6dc0ad023f1930effa50aa</td>\n",
              "      <td>Winter Weather Advisory</td>\n",
              "      <td>* WHAT A period of freezing rain expected. Tot...</td>\n",
              "      <td>A Winter Weather Advisory means that periods o...</td>\n",
              "      <td>Expected</td>\n",
              "      <td>Moderate</td>\n",
              "    </tr>\n",
              "    <tr>\n",
              "      <th>748629</th>\n",
              "      <td>5e6dc0cd023f1930effae612</td>\n",
              "      <td>Severe Thunderstorm Warning</td>\n",
              "      <td>The National Weather Service in Mobile has iss...</td>\n",
              "      <td>For your protection move to an interior room o...</td>\n",
              "      <td>Immediate</td>\n",
              "      <td>Severe</td>\n",
              "    </tr>\n",
              "  </tbody>\n",
              "</table>\n",
              "<p>748630 rows × 6 columns</p>\n",
              "</div>\n",
              "    <div class=\"colab-df-buttons\">\n",
              "\n",
              "  <div class=\"colab-df-container\">\n",
              "    <button class=\"colab-df-convert\" onclick=\"convertToInteractive('df-43cfcc0b-ea2b-47d1-bc40-c81faf2866a2')\"\n",
              "            title=\"Convert this dataframe to an interactive table.\"\n",
              "            style=\"display:none;\">\n",
              "\n",
              "  <svg xmlns=\"http://www.w3.org/2000/svg\" height=\"24px\" viewBox=\"0 -960 960 960\">\n",
              "    <path d=\"M120-120v-720h720v720H120Zm60-500h600v-160H180v160Zm220 220h160v-160H400v160Zm0 220h160v-160H400v160ZM180-400h160v-160H180v160Zm440 0h160v-160H620v160ZM180-180h160v-160H180v160Zm440 0h160v-160H620v160Z\"/>\n",
              "  </svg>\n",
              "    </button>\n",
              "\n",
              "  <style>\n",
              "    .colab-df-container {\n",
              "      display:flex;\n",
              "      gap: 12px;\n",
              "    }\n",
              "\n",
              "    .colab-df-convert {\n",
              "      background-color: #E8F0FE;\n",
              "      border: none;\n",
              "      border-radius: 50%;\n",
              "      cursor: pointer;\n",
              "      display: none;\n",
              "      fill: #1967D2;\n",
              "      height: 32px;\n",
              "      padding: 0 0 0 0;\n",
              "      width: 32px;\n",
              "    }\n",
              "\n",
              "    .colab-df-convert:hover {\n",
              "      background-color: #E2EBFA;\n",
              "      box-shadow: 0px 1px 2px rgba(60, 64, 67, 0.3), 0px 1px 3px 1px rgba(60, 64, 67, 0.15);\n",
              "      fill: #174EA6;\n",
              "    }\n",
              "\n",
              "    .colab-df-buttons div {\n",
              "      margin-bottom: 4px;\n",
              "    }\n",
              "\n",
              "    [theme=dark] .colab-df-convert {\n",
              "      background-color: #3B4455;\n",
              "      fill: #D2E3FC;\n",
              "    }\n",
              "\n",
              "    [theme=dark] .colab-df-convert:hover {\n",
              "      background-color: #434B5C;\n",
              "      box-shadow: 0px 1px 3px 1px rgba(0, 0, 0, 0.15);\n",
              "      filter: drop-shadow(0px 1px 2px rgba(0, 0, 0, 0.3));\n",
              "      fill: #FFFFFF;\n",
              "    }\n",
              "  </style>\n",
              "\n",
              "    <script>\n",
              "      const buttonEl =\n",
              "        document.querySelector('#df-43cfcc0b-ea2b-47d1-bc40-c81faf2866a2 button.colab-df-convert');\n",
              "      buttonEl.style.display =\n",
              "        google.colab.kernel.accessAllowed ? 'block' : 'none';\n",
              "\n",
              "      async function convertToInteractive(key) {\n",
              "        const element = document.querySelector('#df-43cfcc0b-ea2b-47d1-bc40-c81faf2866a2');\n",
              "        const dataTable =\n",
              "          await google.colab.kernel.invokeFunction('convertToInteractive',\n",
              "                                                    [key], {});\n",
              "        if (!dataTable) return;\n",
              "\n",
              "        const docLinkHtml = 'Like what you see? Visit the ' +\n",
              "          '<a target=\"_blank\" href=https://colab.research.google.com/notebooks/data_table.ipynb>data table notebook</a>'\n",
              "          + ' to learn more about interactive tables.';\n",
              "        element.innerHTML = '';\n",
              "        dataTable['output_type'] = 'display_data';\n",
              "        await google.colab.output.renderOutput(dataTable, element);\n",
              "        const docLink = document.createElement('div');\n",
              "        docLink.innerHTML = docLinkHtml;\n",
              "        element.appendChild(docLink);\n",
              "      }\n",
              "    </script>\n",
              "  </div>\n",
              "\n",
              "\n",
              "<div id=\"df-a1066da4-facc-45e4-b81e-d4e64aa45ca3\">\n",
              "  <button class=\"colab-df-quickchart\" onclick=\"quickchart('df-a1066da4-facc-45e4-b81e-d4e64aa45ca3')\"\n",
              "            title=\"Suggest charts\"\n",
              "            style=\"display:none;\">\n",
              "\n",
              "<svg xmlns=\"http://www.w3.org/2000/svg\" height=\"24px\"viewBox=\"0 0 24 24\"\n",
              "     width=\"24px\">\n",
              "    <g>\n",
              "        <path d=\"M19 3H5c-1.1 0-2 .9-2 2v14c0 1.1.9 2 2 2h14c1.1 0 2-.9 2-2V5c0-1.1-.9-2-2-2zM9 17H7v-7h2v7zm4 0h-2V7h2v10zm4 0h-2v-4h2v4z\"/>\n",
              "    </g>\n",
              "</svg>\n",
              "  </button>\n",
              "\n",
              "<style>\n",
              "  .colab-df-quickchart {\n",
              "      --bg-color: #E8F0FE;\n",
              "      --fill-color: #1967D2;\n",
              "      --hover-bg-color: #E2EBFA;\n",
              "      --hover-fill-color: #174EA6;\n",
              "      --disabled-fill-color: #AAA;\n",
              "      --disabled-bg-color: #DDD;\n",
              "  }\n",
              "\n",
              "  [theme=dark] .colab-df-quickchart {\n",
              "      --bg-color: #3B4455;\n",
              "      --fill-color: #D2E3FC;\n",
              "      --hover-bg-color: #434B5C;\n",
              "      --hover-fill-color: #FFFFFF;\n",
              "      --disabled-bg-color: #3B4455;\n",
              "      --disabled-fill-color: #666;\n",
              "  }\n",
              "\n",
              "  .colab-df-quickchart {\n",
              "    background-color: var(--bg-color);\n",
              "    border: none;\n",
              "    border-radius: 50%;\n",
              "    cursor: pointer;\n",
              "    display: none;\n",
              "    fill: var(--fill-color);\n",
              "    height: 32px;\n",
              "    padding: 0;\n",
              "    width: 32px;\n",
              "  }\n",
              "\n",
              "  .colab-df-quickchart:hover {\n",
              "    background-color: var(--hover-bg-color);\n",
              "    box-shadow: 0 1px 2px rgba(60, 64, 67, 0.3), 0 1px 3px 1px rgba(60, 64, 67, 0.15);\n",
              "    fill: var(--button-hover-fill-color);\n",
              "  }\n",
              "\n",
              "  .colab-df-quickchart-complete:disabled,\n",
              "  .colab-df-quickchart-complete:disabled:hover {\n",
              "    background-color: var(--disabled-bg-color);\n",
              "    fill: var(--disabled-fill-color);\n",
              "    box-shadow: none;\n",
              "  }\n",
              "\n",
              "  .colab-df-spinner {\n",
              "    border: 2px solid var(--fill-color);\n",
              "    border-color: transparent;\n",
              "    border-bottom-color: var(--fill-color);\n",
              "    animation:\n",
              "      spin 1s steps(1) infinite;\n",
              "  }\n",
              "\n",
              "  @keyframes spin {\n",
              "    0% {\n",
              "      border-color: transparent;\n",
              "      border-bottom-color: var(--fill-color);\n",
              "      border-left-color: var(--fill-color);\n",
              "    }\n",
              "    20% {\n",
              "      border-color: transparent;\n",
              "      border-left-color: var(--fill-color);\n",
              "      border-top-color: var(--fill-color);\n",
              "    }\n",
              "    30% {\n",
              "      border-color: transparent;\n",
              "      border-left-color: var(--fill-color);\n",
              "      border-top-color: var(--fill-color);\n",
              "      border-right-color: var(--fill-color);\n",
              "    }\n",
              "    40% {\n",
              "      border-color: transparent;\n",
              "      border-right-color: var(--fill-color);\n",
              "      border-top-color: var(--fill-color);\n",
              "    }\n",
              "    60% {\n",
              "      border-color: transparent;\n",
              "      border-right-color: var(--fill-color);\n",
              "    }\n",
              "    80% {\n",
              "      border-color: transparent;\n",
              "      border-right-color: var(--fill-color);\n",
              "      border-bottom-color: var(--fill-color);\n",
              "    }\n",
              "    90% {\n",
              "      border-color: transparent;\n",
              "      border-bottom-color: var(--fill-color);\n",
              "    }\n",
              "  }\n",
              "</style>\n",
              "\n",
              "  <script>\n",
              "    async function quickchart(key) {\n",
              "      const quickchartButtonEl =\n",
              "        document.querySelector('#' + key + ' button');\n",
              "      quickchartButtonEl.disabled = true;  // To prevent multiple clicks.\n",
              "      quickchartButtonEl.classList.add('colab-df-spinner');\n",
              "      try {\n",
              "        const charts = await google.colab.kernel.invokeFunction(\n",
              "            'suggestCharts', [key], {});\n",
              "      } catch (error) {\n",
              "        console.error('Error during call to suggestCharts:', error);\n",
              "      }\n",
              "      quickchartButtonEl.classList.remove('colab-df-spinner');\n",
              "      quickchartButtonEl.classList.add('colab-df-quickchart-complete');\n",
              "    }\n",
              "    (() => {\n",
              "      let quickchartButtonEl =\n",
              "        document.querySelector('#df-a1066da4-facc-45e4-b81e-d4e64aa45ca3 button');\n",
              "      quickchartButtonEl.style.display =\n",
              "        google.colab.kernel.accessAllowed ? 'block' : 'none';\n",
              "    })();\n",
              "  </script>\n",
              "</div>\n",
              "\n",
              "  <div id=\"id_f7a432cd-5c85-4731-9d50-a2ff1f021fec\">\n",
              "    <style>\n",
              "      .colab-df-generate {\n",
              "        background-color: #E8F0FE;\n",
              "        border: none;\n",
              "        border-radius: 50%;\n",
              "        cursor: pointer;\n",
              "        display: none;\n",
              "        fill: #1967D2;\n",
              "        height: 32px;\n",
              "        padding: 0 0 0 0;\n",
              "        width: 32px;\n",
              "      }\n",
              "\n",
              "      .colab-df-generate:hover {\n",
              "        background-color: #E2EBFA;\n",
              "        box-shadow: 0px 1px 2px rgba(60, 64, 67, 0.3), 0px 1px 3px 1px rgba(60, 64, 67, 0.15);\n",
              "        fill: #174EA6;\n",
              "      }\n",
              "\n",
              "      [theme=dark] .colab-df-generate {\n",
              "        background-color: #3B4455;\n",
              "        fill: #D2E3FC;\n",
              "      }\n",
              "\n",
              "      [theme=dark] .colab-df-generate:hover {\n",
              "        background-color: #434B5C;\n",
              "        box-shadow: 0px 1px 3px 1px rgba(0, 0, 0, 0.15);\n",
              "        filter: drop-shadow(0px 1px 2px rgba(0, 0, 0, 0.3));\n",
              "        fill: #FFFFFF;\n",
              "      }\n",
              "    </style>\n",
              "    <button class=\"colab-df-generate\" onclick=\"generateWithVariable('df_alertas')\"\n",
              "            title=\"Generate code using this dataframe.\"\n",
              "            style=\"display:none;\">\n",
              "\n",
              "  <svg xmlns=\"http://www.w3.org/2000/svg\" height=\"24px\"viewBox=\"0 0 24 24\"\n",
              "       width=\"24px\">\n",
              "    <path d=\"M7,19H8.4L18.45,9,17,7.55,7,17.6ZM5,21V16.75L18.45,3.32a2,2,0,0,1,2.83,0l1.4,1.43a1.91,1.91,0,0,1,.58,1.4,1.91,1.91,0,0,1-.58,1.4L9.25,21ZM18.45,9,17,7.55Zm-12,3A5.31,5.31,0,0,0,4.9,8.1,5.31,5.31,0,0,0,1,6.5,5.31,5.31,0,0,0,4.9,4.9,5.31,5.31,0,0,0,6.5,1,5.31,5.31,0,0,0,8.1,4.9,5.31,5.31,0,0,0,12,6.5,5.46,5.46,0,0,0,6.5,12Z\"/>\n",
              "  </svg>\n",
              "    </button>\n",
              "    <script>\n",
              "      (() => {\n",
              "      const buttonEl =\n",
              "        document.querySelector('#id_f7a432cd-5c85-4731-9d50-a2ff1f021fec button.colab-df-generate');\n",
              "      buttonEl.style.display =\n",
              "        google.colab.kernel.accessAllowed ? 'block' : 'none';\n",
              "\n",
              "      buttonEl.onclick = () => {\n",
              "        google.colab.notebook.generateWithVariable('df_alertas');\n",
              "      }\n",
              "      })();\n",
              "    </script>\n",
              "  </div>\n",
              "\n",
              "    </div>\n",
              "  </div>\n"
            ],
            "application/vnd.google.colaboratory.intrinsic+json": {
              "type": "dataframe",
              "variable_name": "df_alertas"
            }
          },
          "metadata": {},
          "execution_count": 4
        }
      ]
    },
    {
      "cell_type": "markdown",
      "source": [
        "Observamos que en campo \"instruction\" no tenemos nulos"
      ],
      "metadata": {
        "id": "sRciP2F1xULF"
      }
    },
    {
      "cell_type": "code",
      "source": [
        "df_alertas.info()"
      ],
      "metadata": {
        "id": "t65dZLVWxRxV",
        "outputId": "57a22483-3596-41b9-c19f-4fe518f124bd",
        "colab": {
          "base_uri": "https://localhost:8080/"
        }
      },
      "execution_count": 5,
      "outputs": [
        {
          "output_type": "stream",
          "name": "stdout",
          "text": [
            "<class 'pandas.core.frame.DataFrame'>\n",
            "RangeIndex: 748630 entries, 0 to 748629\n",
            "Data columns (total 6 columns):\n",
            " #   Column       Non-Null Count   Dtype \n",
            "---  ------       --------------   ----- \n",
            " 0   id           748630 non-null  object\n",
            " 1   event        748630 non-null  object\n",
            " 2   description  748630 non-null  object\n",
            " 3   instruction  748630 non-null  object\n",
            " 4   urgency      748630 non-null  object\n",
            " 5   severity     748630 non-null  object\n",
            "dtypes: object(6)\n",
            "memory usage: 34.3+ MB\n"
          ]
        }
      ]
    },
    {
      "cell_type": "markdown",
      "source": [
        "Filtramos los registros donde la columna 'instruction' contiene '...'"
      ],
      "metadata": {
        "id": "R9CG3YZRRR_3"
      }
    },
    {
      "cell_type": "code",
      "source": [
        "filtered_instructions = df_alertas[df_alertas['instruction'].str.contains('...', na=False)]"
      ],
      "metadata": {
        "id": "NPuh7QFKAtQj"
      },
      "execution_count": 6,
      "outputs": []
    },
    {
      "cell_type": "markdown",
      "source": [
        "Contamos la cantidad de registros filtrados."
      ],
      "metadata": {
        "id": "sUuVfGd8Rafr"
      }
    },
    {
      "cell_type": "code",
      "source": [
        "count_filtered = filtered_instructions.shape[0]\n",
        "print(f'Cantidad de registros con ...: {count_filtered}')"
      ],
      "metadata": {
        "id": "4C7hbQWpRirG",
        "outputId": "3046a9ac-b38e-4e0d-8c1a-bc2ca4932b18",
        "colab": {
          "base_uri": "https://localhost:8080/"
        }
      },
      "execution_count": 7,
      "outputs": [
        {
          "output_type": "stream",
          "name": "stdout",
          "text": [
            "Cantidad de registros con ...: 748630\n"
          ]
        }
      ]
    },
    {
      "cell_type": "markdown",
      "source": [
        "Filtramos los registros donde la columna 'instruction' contiene '\\n'."
      ],
      "metadata": {
        "id": "cZmZMzZwRquN"
      }
    },
    {
      "cell_type": "code",
      "source": [
        "filtered_instructions = df_alertas[df_alertas['instruction'].str.contains('\\n', na=False)]"
      ],
      "metadata": {
        "id": "ACFCANqEIvwp"
      },
      "execution_count": 8,
      "outputs": []
    },
    {
      "cell_type": "markdown",
      "source": [
        "Contamos la cantidad de registros filtrados."
      ],
      "metadata": {
        "id": "AB8n1vS7R3l6"
      }
    },
    {
      "cell_type": "code",
      "source": [
        "count_filtered = filtered_instructions.shape[0]\n",
        "print(f'Cantidad de registros con \\n: {count_filtered}')"
      ],
      "metadata": {
        "id": "t7wpfwUKRzxE",
        "outputId": "65eca0e5-472b-454f-a976-d899116310f0",
        "colab": {
          "base_uri": "https://localhost:8080/"
        }
      },
      "execution_count": 9,
      "outputs": [
        {
          "output_type": "stream",
          "name": "stdout",
          "text": [
            "Cantidad de registros con \n",
            ": 743741\n"
          ]
        }
      ]
    },
    {
      "cell_type": "markdown",
      "source": [
        "Reemplazamos valores atipicos con espacio."
      ],
      "metadata": {
        "id": "xiiiJpiER_fU"
      }
    },
    {
      "cell_type": "code",
      "source": [
        "df_alertas['instruction'] = df_alertas['instruction'].str.replace('...', ' ', regex=False)"
      ],
      "metadata": {
        "id": "L9y9tvKGBlbn"
      },
      "execution_count": 10,
      "outputs": []
    },
    {
      "cell_type": "code",
      "source": [
        "df_alertas['instruction'] = df_alertas['instruction'].str.replace('\\n', ' ', regex=False)"
      ],
      "metadata": {
        "id": "CIy0Ksh5u9HV"
      },
      "execution_count": 11,
      "outputs": []
    },
    {
      "cell_type": "markdown",
      "source": [
        "Observamos una muestra de 30 filas para comprobar estos cambios:"
      ],
      "metadata": {
        "id": "T_KVmYhYvm-f"
      }
    },
    {
      "cell_type": "code",
      "source": [
        "df_alertas.sample(30)"
      ],
      "metadata": {
        "id": "SEWiRof2vwE4",
        "outputId": "969f81cd-c7ea-40d4-d825-bae2a7e04e0b",
        "colab": {
          "base_uri": "https://localhost:8080/",
          "height": 1000
        }
      },
      "execution_count": 12,
      "outputs": [
        {
          "output_type": "execute_result",
          "data": {
            "text/plain": [
              "                              id                        event  \\\n",
              "530555  5e6dd674023f1930ef584f6e                Flood Warning   \n",
              "429327  5e6dd73a023f1930ef5b6a2e                Flood Warning   \n",
              "333065  5e6ddabc023f1930ef6892f0                Flood Warning   \n",
              "708673  5e6dc065023f1930eff90156  Severe Thunderstorm Warning   \n",
              "146125  5e6db338023f1930efb96785                Flood Warning   \n",
              "252024  5e6db777023f1930efcf2988                Flood Warning   \n",
              "359177  5e6dd9a4023f1930ef64721e          Wind Chill Advisory   \n",
              "32739   5e6dafc7023f1930efa87c42                Flood Warning   \n",
              "338208  5e6dda49023f1930ef66e40d                Flood Warning   \n",
              "316615  5e6dd9b6023f1930ef64b2d4                Flood Warning   \n",
              "587743  5e6dd4c3023f1930ef519b13  Severe Thunderstorm Warning   \n",
              "275608  5e6ddcf4023f1930ef70c81e                Flood Warning   \n",
              "157895  5e6de003023f1930ef7bb7cb    Special Weather Statement   \n",
              "738016  5e6dd268023f1930ef48536d           Lake Wind Advisory   \n",
              "97687   5e7e11f5023f1930efd75ee8      Winter Weather Advisory   \n",
              "515346  5e6dbd60023f1930efeb3e45              High Wind Watch   \n",
              "285146  5e6db876023f1930efd3ea60                Flood Warning   \n",
              "403059  5e6dd84a023f1930ef5f81a2            High Wind Warning   \n",
              "162897  5e6ddf1e023f1930ef7884ac  Severe Thunderstorm Warning   \n",
              "464921  5e6dd6d2023f1930ef59bd2d                Flood Warning   \n",
              "614157  5e6dbf24023f1930eff3747a                Flood Warning   \n",
              "278103  5e6ddcdc023f1930ef707026                Flood Warning   \n",
              "713268  5e6dd1d4023f1930ef45f23c                Flood Warning   \n",
              "112753  5e7e11b7023f1930efd672a6         Winter Storm Warning   \n",
              "459536  5e6dbc8c023f1930efe74ef3                Flood Warning   \n",
              "480031  5e6dbcb8023f1930efe82688           Wind Chill Warning   \n",
              "413307  5e6dd8ec023f1930ef61d6a9      Winter Weather Advisory   \n",
              "317275  5e6dd9f8023f1930ef65adf3                Flood Warning   \n",
              "495599  5e6dbd23023f1930efea2352      Winter Weather Advisory   \n",
              "489101  5e6dbce4023f1930efe8f845                Flood Warning   \n",
              "\n",
              "                                              description  \\\n",
              "530555  The National Weather Service in Newport has ex...   \n",
              "429327  Ocheyedan River Near Spencer\\nLittle Sioux Riv...   \n",
              "333065  Here is a morning update for tributary river f...   \n",
              "708673  THE NATIONAL WEATHER SERVICE IN SIOUX FALLS HA...   \n",
              "146125  Updated flood information for the Mississippi ...   \n",
              "252024  Lake Francis Case At Chamberlain\\nMissouri Riv...   \n",
              "359177  Low pressure in the Great Lakes region will se...   \n",
              "32739    The flood warning continues for the following...   \n",
              "338208  Big Sioux River near Estelline\\nBig Sioux Rive...   \n",
              "316615  at Canton Lock and Dam 20\\n\\nat LaGrange\\n\\nat...   \n",
              "587743  At 537 PM EDT, a severe thunderstorm was locat...   \n",
              "275608  Here is an evening update for flooding on the ...   \n",
              "157895  At 658 PM CDT, Doppler radar was tracking a st...   \n",
              "738016  * WINDS Southeast 15 to 20 knots with gusts up...   \n",
              "97687    Winter Storm To Impact The Area Friday throug...   \n",
              "515346  THE NATIONAL WEATHER SERVICE IN GREAT FALLS HA...   \n",
              "285146  Neosho River Near Neosho Rapids affecting Lyon...   \n",
              "403059  * WINDS Northwest 30 to 40 mph with gusts up t...   \n",
              "162897  The National Weather Service in Des Moines  ha...   \n",
              "464921  Pearl River Near Bogalusa affecting St. Tamman...   \n",
              "614157   Forecast flooding Changed from Major to Near ...   \n",
              "278103  The National Weather Service in Tulsa has issu...   \n",
              "713268  Updated flood information for the Mississippi ...   \n",
              "112753   A ROUND OF SNOW AND HAZARDOUS WINTER TRAVEL C...   \n",
              "459536  Neuse River At Smithfield affecting Johnston C...   \n",
              "480031  .WHILE BLOWING SNOW WINDS DOWN THIS EVENING  V...   \n",
              "413307  * WHAT Snow. Additional snow accumulations of ...   \n",
              "317275  * Hickson on the Red River in Cass County\\n\\n ...   \n",
              "495599  A WINTER WEATHER ADVISORY FOR SNOW REMAINS IN ...   \n",
              "489101  The Flood Warning has been cancelled and is no...   \n",
              "\n",
              "                                              instruction    urgency  severity  \n",
              "530555  Turn around, don't drown when encountering flo...   Expected    Severe  \n",
              "429327  PRECAUTIONARY/PREPAREDNESS ACTIONS   Safety me...   Expected    Severe  \n",
              "333065  PRECAUTIONARY/PREPAREDNESS ACTIONS   If you en...  Immediate    Severe  \n",
              "708673  THIS STORM IS PRODUCING LARGE HAIL. SEEK SHELT...  Immediate    Severe  \n",
              "146125  If you encounter a flooded roadway, turn aroun...  Immediate    Severe  \n",
              "252024  PRECAUTIONARY/PREPAREDNESS ACTIONS   Safety me...  Immediate    Severe  \n",
              "359177  A Wind Chill Advisory means that cold air and ...   Expected  Moderate  \n",
              "32739   Forecast crests are based upon rainfall that h...  Immediate    Severe  \n",
              "338208  PRECAUTIONARY/PREPAREDNESS ACTIONS   Safety me...  Immediate    Severe  \n",
              "316615  PRECAUTIONARY/PREPAREDNESS ACTIONS   The Natio...  Immediate    Severe  \n",
              "587743  For your protection move to an interior room o...  Immediate    Severe  \n",
              "275608  PRECAUTIONARY/PREPAREDNESS ACTIONS   If you en...  Immediate    Severe  \n",
              "157895  Torrential rainfall is also occurring with thi...   Expected  Moderate  \n",
              "738016  Mariners on Lake Moultrie should use extra cau...   Expected  Moderate  \n",
              "97687   Slow down and use caution while traveling.  Go...   Expected  Moderate  \n",
              "515346  A HIGH WIND WATCH MEANS THERE IS THE POTENTIAL...     Future    Severe  \n",
              "285146  PRECAUTIONARY/PREPAREDNESS ACTIONS   Safety Me...  Immediate    Severe  \n",
              "403059  A High Wind Warning means a hazardous high win...   Expected    Severe  \n",
              "162897  A Tornado Watch remains in effect until midnig...  Immediate    Severe  \n",
              "464921  PRECAUTIONARY/PREPAREDNESS ACTIONS   Forecast ...  Immediate    Severe  \n",
              "614157  Safety message If you encounter a flooded road...   Expected    Severe  \n",
              "278103  Turn around, don't drown when encountering flo...   Expected    Severe  \n",
              "713268  PRECAUTIONARY/PREPAREDNESS ACTIONS   If you en...  Immediate    Severe  \n",
              "112753  If you must travel, keep an extra flashlight, ...   Expected    Severe  \n",
              "459536  PRECAUTIONARY/PREPAREDNESS ACTIONS   Safety me...  Immediate    Severe  \n",
              "480031  A WIND CHILL WARNING MEANS THE COMBINATION OF ...   Expected    Severe  \n",
              "413307  A Winter Weather Advisory for snow means perio...   Expected  Moderate  \n",
              "317275  PRECAUTIONARY/PREPAREDNESS ACTIONS   Safety me...  Immediate    Severe  \n",
              "495599  SNOW IS EXPECTED TO POSE AN INCONVENIENCE TO T...   Expected  Moderate  \n",
              "489101  PRECAUTIONARY/PREPAREDNESS ACTIONS   If you en...       Past     Minor  "
            ],
            "text/html": [
              "\n",
              "  <div id=\"df-c430bb15-5e0a-48b7-a201-064480bec368\" class=\"colab-df-container\">\n",
              "    <div>\n",
              "<style scoped>\n",
              "    .dataframe tbody tr th:only-of-type {\n",
              "        vertical-align: middle;\n",
              "    }\n",
              "\n",
              "    .dataframe tbody tr th {\n",
              "        vertical-align: top;\n",
              "    }\n",
              "\n",
              "    .dataframe thead th {\n",
              "        text-align: right;\n",
              "    }\n",
              "</style>\n",
              "<table border=\"1\" class=\"dataframe\">\n",
              "  <thead>\n",
              "    <tr style=\"text-align: right;\">\n",
              "      <th></th>\n",
              "      <th>id</th>\n",
              "      <th>event</th>\n",
              "      <th>description</th>\n",
              "      <th>instruction</th>\n",
              "      <th>urgency</th>\n",
              "      <th>severity</th>\n",
              "    </tr>\n",
              "  </thead>\n",
              "  <tbody>\n",
              "    <tr>\n",
              "      <th>530555</th>\n",
              "      <td>5e6dd674023f1930ef584f6e</td>\n",
              "      <td>Flood Warning</td>\n",
              "      <td>The National Weather Service in Newport has ex...</td>\n",
              "      <td>Turn around, don't drown when encountering flo...</td>\n",
              "      <td>Expected</td>\n",
              "      <td>Severe</td>\n",
              "    </tr>\n",
              "    <tr>\n",
              "      <th>429327</th>\n",
              "      <td>5e6dd73a023f1930ef5b6a2e</td>\n",
              "      <td>Flood Warning</td>\n",
              "      <td>Ocheyedan River Near Spencer\\nLittle Sioux Riv...</td>\n",
              "      <td>PRECAUTIONARY/PREPAREDNESS ACTIONS   Safety me...</td>\n",
              "      <td>Expected</td>\n",
              "      <td>Severe</td>\n",
              "    </tr>\n",
              "    <tr>\n",
              "      <th>333065</th>\n",
              "      <td>5e6ddabc023f1930ef6892f0</td>\n",
              "      <td>Flood Warning</td>\n",
              "      <td>Here is a morning update for tributary river f...</td>\n",
              "      <td>PRECAUTIONARY/PREPAREDNESS ACTIONS   If you en...</td>\n",
              "      <td>Immediate</td>\n",
              "      <td>Severe</td>\n",
              "    </tr>\n",
              "    <tr>\n",
              "      <th>708673</th>\n",
              "      <td>5e6dc065023f1930eff90156</td>\n",
              "      <td>Severe Thunderstorm Warning</td>\n",
              "      <td>THE NATIONAL WEATHER SERVICE IN SIOUX FALLS HA...</td>\n",
              "      <td>THIS STORM IS PRODUCING LARGE HAIL. SEEK SHELT...</td>\n",
              "      <td>Immediate</td>\n",
              "      <td>Severe</td>\n",
              "    </tr>\n",
              "    <tr>\n",
              "      <th>146125</th>\n",
              "      <td>5e6db338023f1930efb96785</td>\n",
              "      <td>Flood Warning</td>\n",
              "      <td>Updated flood information for the Mississippi ...</td>\n",
              "      <td>If you encounter a flooded roadway, turn aroun...</td>\n",
              "      <td>Immediate</td>\n",
              "      <td>Severe</td>\n",
              "    </tr>\n",
              "    <tr>\n",
              "      <th>252024</th>\n",
              "      <td>5e6db777023f1930efcf2988</td>\n",
              "      <td>Flood Warning</td>\n",
              "      <td>Lake Francis Case At Chamberlain\\nMissouri Riv...</td>\n",
              "      <td>PRECAUTIONARY/PREPAREDNESS ACTIONS   Safety me...</td>\n",
              "      <td>Immediate</td>\n",
              "      <td>Severe</td>\n",
              "    </tr>\n",
              "    <tr>\n",
              "      <th>359177</th>\n",
              "      <td>5e6dd9a4023f1930ef64721e</td>\n",
              "      <td>Wind Chill Advisory</td>\n",
              "      <td>Low pressure in the Great Lakes region will se...</td>\n",
              "      <td>A Wind Chill Advisory means that cold air and ...</td>\n",
              "      <td>Expected</td>\n",
              "      <td>Moderate</td>\n",
              "    </tr>\n",
              "    <tr>\n",
              "      <th>32739</th>\n",
              "      <td>5e6dafc7023f1930efa87c42</td>\n",
              "      <td>Flood Warning</td>\n",
              "      <td>The flood warning continues for the following...</td>\n",
              "      <td>Forecast crests are based upon rainfall that h...</td>\n",
              "      <td>Immediate</td>\n",
              "      <td>Severe</td>\n",
              "    </tr>\n",
              "    <tr>\n",
              "      <th>338208</th>\n",
              "      <td>5e6dda49023f1930ef66e40d</td>\n",
              "      <td>Flood Warning</td>\n",
              "      <td>Big Sioux River near Estelline\\nBig Sioux Rive...</td>\n",
              "      <td>PRECAUTIONARY/PREPAREDNESS ACTIONS   Safety me...</td>\n",
              "      <td>Immediate</td>\n",
              "      <td>Severe</td>\n",
              "    </tr>\n",
              "    <tr>\n",
              "      <th>316615</th>\n",
              "      <td>5e6dd9b6023f1930ef64b2d4</td>\n",
              "      <td>Flood Warning</td>\n",
              "      <td>at Canton Lock and Dam 20\\n\\nat LaGrange\\n\\nat...</td>\n",
              "      <td>PRECAUTIONARY/PREPAREDNESS ACTIONS   The Natio...</td>\n",
              "      <td>Immediate</td>\n",
              "      <td>Severe</td>\n",
              "    </tr>\n",
              "    <tr>\n",
              "      <th>587743</th>\n",
              "      <td>5e6dd4c3023f1930ef519b13</td>\n",
              "      <td>Severe Thunderstorm Warning</td>\n",
              "      <td>At 537 PM EDT, a severe thunderstorm was locat...</td>\n",
              "      <td>For your protection move to an interior room o...</td>\n",
              "      <td>Immediate</td>\n",
              "      <td>Severe</td>\n",
              "    </tr>\n",
              "    <tr>\n",
              "      <th>275608</th>\n",
              "      <td>5e6ddcf4023f1930ef70c81e</td>\n",
              "      <td>Flood Warning</td>\n",
              "      <td>Here is an evening update for flooding on the ...</td>\n",
              "      <td>PRECAUTIONARY/PREPAREDNESS ACTIONS   If you en...</td>\n",
              "      <td>Immediate</td>\n",
              "      <td>Severe</td>\n",
              "    </tr>\n",
              "    <tr>\n",
              "      <th>157895</th>\n",
              "      <td>5e6de003023f1930ef7bb7cb</td>\n",
              "      <td>Special Weather Statement</td>\n",
              "      <td>At 658 PM CDT, Doppler radar was tracking a st...</td>\n",
              "      <td>Torrential rainfall is also occurring with thi...</td>\n",
              "      <td>Expected</td>\n",
              "      <td>Moderate</td>\n",
              "    </tr>\n",
              "    <tr>\n",
              "      <th>738016</th>\n",
              "      <td>5e6dd268023f1930ef48536d</td>\n",
              "      <td>Lake Wind Advisory</td>\n",
              "      <td>* WINDS Southeast 15 to 20 knots with gusts up...</td>\n",
              "      <td>Mariners on Lake Moultrie should use extra cau...</td>\n",
              "      <td>Expected</td>\n",
              "      <td>Moderate</td>\n",
              "    </tr>\n",
              "    <tr>\n",
              "      <th>97687</th>\n",
              "      <td>5e7e11f5023f1930efd75ee8</td>\n",
              "      <td>Winter Weather Advisory</td>\n",
              "      <td>Winter Storm To Impact The Area Friday throug...</td>\n",
              "      <td>Slow down and use caution while traveling.  Go...</td>\n",
              "      <td>Expected</td>\n",
              "      <td>Moderate</td>\n",
              "    </tr>\n",
              "    <tr>\n",
              "      <th>515346</th>\n",
              "      <td>5e6dbd60023f1930efeb3e45</td>\n",
              "      <td>High Wind Watch</td>\n",
              "      <td>THE NATIONAL WEATHER SERVICE IN GREAT FALLS HA...</td>\n",
              "      <td>A HIGH WIND WATCH MEANS THERE IS THE POTENTIAL...</td>\n",
              "      <td>Future</td>\n",
              "      <td>Severe</td>\n",
              "    </tr>\n",
              "    <tr>\n",
              "      <th>285146</th>\n",
              "      <td>5e6db876023f1930efd3ea60</td>\n",
              "      <td>Flood Warning</td>\n",
              "      <td>Neosho River Near Neosho Rapids affecting Lyon...</td>\n",
              "      <td>PRECAUTIONARY/PREPAREDNESS ACTIONS   Safety Me...</td>\n",
              "      <td>Immediate</td>\n",
              "      <td>Severe</td>\n",
              "    </tr>\n",
              "    <tr>\n",
              "      <th>403059</th>\n",
              "      <td>5e6dd84a023f1930ef5f81a2</td>\n",
              "      <td>High Wind Warning</td>\n",
              "      <td>* WINDS Northwest 30 to 40 mph with gusts up t...</td>\n",
              "      <td>A High Wind Warning means a hazardous high win...</td>\n",
              "      <td>Expected</td>\n",
              "      <td>Severe</td>\n",
              "    </tr>\n",
              "    <tr>\n",
              "      <th>162897</th>\n",
              "      <td>5e6ddf1e023f1930ef7884ac</td>\n",
              "      <td>Severe Thunderstorm Warning</td>\n",
              "      <td>The National Weather Service in Des Moines  ha...</td>\n",
              "      <td>A Tornado Watch remains in effect until midnig...</td>\n",
              "      <td>Immediate</td>\n",
              "      <td>Severe</td>\n",
              "    </tr>\n",
              "    <tr>\n",
              "      <th>464921</th>\n",
              "      <td>5e6dd6d2023f1930ef59bd2d</td>\n",
              "      <td>Flood Warning</td>\n",
              "      <td>Pearl River Near Bogalusa affecting St. Tamman...</td>\n",
              "      <td>PRECAUTIONARY/PREPAREDNESS ACTIONS   Forecast ...</td>\n",
              "      <td>Immediate</td>\n",
              "      <td>Severe</td>\n",
              "    </tr>\n",
              "    <tr>\n",
              "      <th>614157</th>\n",
              "      <td>5e6dbf24023f1930eff3747a</td>\n",
              "      <td>Flood Warning</td>\n",
              "      <td>Forecast flooding Changed from Major to Near ...</td>\n",
              "      <td>Safety message If you encounter a flooded road...</td>\n",
              "      <td>Expected</td>\n",
              "      <td>Severe</td>\n",
              "    </tr>\n",
              "    <tr>\n",
              "      <th>278103</th>\n",
              "      <td>5e6ddcdc023f1930ef707026</td>\n",
              "      <td>Flood Warning</td>\n",
              "      <td>The National Weather Service in Tulsa has issu...</td>\n",
              "      <td>Turn around, don't drown when encountering flo...</td>\n",
              "      <td>Expected</td>\n",
              "      <td>Severe</td>\n",
              "    </tr>\n",
              "    <tr>\n",
              "      <th>713268</th>\n",
              "      <td>5e6dd1d4023f1930ef45f23c</td>\n",
              "      <td>Flood Warning</td>\n",
              "      <td>Updated flood information for the Mississippi ...</td>\n",
              "      <td>PRECAUTIONARY/PREPAREDNESS ACTIONS   If you en...</td>\n",
              "      <td>Immediate</td>\n",
              "      <td>Severe</td>\n",
              "    </tr>\n",
              "    <tr>\n",
              "      <th>112753</th>\n",
              "      <td>5e7e11b7023f1930efd672a6</td>\n",
              "      <td>Winter Storm Warning</td>\n",
              "      <td>A ROUND OF SNOW AND HAZARDOUS WINTER TRAVEL C...</td>\n",
              "      <td>If you must travel, keep an extra flashlight, ...</td>\n",
              "      <td>Expected</td>\n",
              "      <td>Severe</td>\n",
              "    </tr>\n",
              "    <tr>\n",
              "      <th>459536</th>\n",
              "      <td>5e6dbc8c023f1930efe74ef3</td>\n",
              "      <td>Flood Warning</td>\n",
              "      <td>Neuse River At Smithfield affecting Johnston C...</td>\n",
              "      <td>PRECAUTIONARY/PREPAREDNESS ACTIONS   Safety me...</td>\n",
              "      <td>Immediate</td>\n",
              "      <td>Severe</td>\n",
              "    </tr>\n",
              "    <tr>\n",
              "      <th>480031</th>\n",
              "      <td>5e6dbcb8023f1930efe82688</td>\n",
              "      <td>Wind Chill Warning</td>\n",
              "      <td>.WHILE BLOWING SNOW WINDS DOWN THIS EVENING  V...</td>\n",
              "      <td>A WIND CHILL WARNING MEANS THE COMBINATION OF ...</td>\n",
              "      <td>Expected</td>\n",
              "      <td>Severe</td>\n",
              "    </tr>\n",
              "    <tr>\n",
              "      <th>413307</th>\n",
              "      <td>5e6dd8ec023f1930ef61d6a9</td>\n",
              "      <td>Winter Weather Advisory</td>\n",
              "      <td>* WHAT Snow. Additional snow accumulations of ...</td>\n",
              "      <td>A Winter Weather Advisory for snow means perio...</td>\n",
              "      <td>Expected</td>\n",
              "      <td>Moderate</td>\n",
              "    </tr>\n",
              "    <tr>\n",
              "      <th>317275</th>\n",
              "      <td>5e6dd9f8023f1930ef65adf3</td>\n",
              "      <td>Flood Warning</td>\n",
              "      <td>* Hickson on the Red River in Cass County\\n\\n ...</td>\n",
              "      <td>PRECAUTIONARY/PREPAREDNESS ACTIONS   Safety me...</td>\n",
              "      <td>Immediate</td>\n",
              "      <td>Severe</td>\n",
              "    </tr>\n",
              "    <tr>\n",
              "      <th>495599</th>\n",
              "      <td>5e6dbd23023f1930efea2352</td>\n",
              "      <td>Winter Weather Advisory</td>\n",
              "      <td>A WINTER WEATHER ADVISORY FOR SNOW REMAINS IN ...</td>\n",
              "      <td>SNOW IS EXPECTED TO POSE AN INCONVENIENCE TO T...</td>\n",
              "      <td>Expected</td>\n",
              "      <td>Moderate</td>\n",
              "    </tr>\n",
              "    <tr>\n",
              "      <th>489101</th>\n",
              "      <td>5e6dbce4023f1930efe8f845</td>\n",
              "      <td>Flood Warning</td>\n",
              "      <td>The Flood Warning has been cancelled and is no...</td>\n",
              "      <td>PRECAUTIONARY/PREPAREDNESS ACTIONS   If you en...</td>\n",
              "      <td>Past</td>\n",
              "      <td>Minor</td>\n",
              "    </tr>\n",
              "  </tbody>\n",
              "</table>\n",
              "</div>\n",
              "    <div class=\"colab-df-buttons\">\n",
              "\n",
              "  <div class=\"colab-df-container\">\n",
              "    <button class=\"colab-df-convert\" onclick=\"convertToInteractive('df-c430bb15-5e0a-48b7-a201-064480bec368')\"\n",
              "            title=\"Convert this dataframe to an interactive table.\"\n",
              "            style=\"display:none;\">\n",
              "\n",
              "  <svg xmlns=\"http://www.w3.org/2000/svg\" height=\"24px\" viewBox=\"0 -960 960 960\">\n",
              "    <path d=\"M120-120v-720h720v720H120Zm60-500h600v-160H180v160Zm220 220h160v-160H400v160Zm0 220h160v-160H400v160ZM180-400h160v-160H180v160Zm440 0h160v-160H620v160ZM180-180h160v-160H180v160Zm440 0h160v-160H620v160Z\"/>\n",
              "  </svg>\n",
              "    </button>\n",
              "\n",
              "  <style>\n",
              "    .colab-df-container {\n",
              "      display:flex;\n",
              "      gap: 12px;\n",
              "    }\n",
              "\n",
              "    .colab-df-convert {\n",
              "      background-color: #E8F0FE;\n",
              "      border: none;\n",
              "      border-radius: 50%;\n",
              "      cursor: pointer;\n",
              "      display: none;\n",
              "      fill: #1967D2;\n",
              "      height: 32px;\n",
              "      padding: 0 0 0 0;\n",
              "      width: 32px;\n",
              "    }\n",
              "\n",
              "    .colab-df-convert:hover {\n",
              "      background-color: #E2EBFA;\n",
              "      box-shadow: 0px 1px 2px rgba(60, 64, 67, 0.3), 0px 1px 3px 1px rgba(60, 64, 67, 0.15);\n",
              "      fill: #174EA6;\n",
              "    }\n",
              "\n",
              "    .colab-df-buttons div {\n",
              "      margin-bottom: 4px;\n",
              "    }\n",
              "\n",
              "    [theme=dark] .colab-df-convert {\n",
              "      background-color: #3B4455;\n",
              "      fill: #D2E3FC;\n",
              "    }\n",
              "\n",
              "    [theme=dark] .colab-df-convert:hover {\n",
              "      background-color: #434B5C;\n",
              "      box-shadow: 0px 1px 3px 1px rgba(0, 0, 0, 0.15);\n",
              "      filter: drop-shadow(0px 1px 2px rgba(0, 0, 0, 0.3));\n",
              "      fill: #FFFFFF;\n",
              "    }\n",
              "  </style>\n",
              "\n",
              "    <script>\n",
              "      const buttonEl =\n",
              "        document.querySelector('#df-c430bb15-5e0a-48b7-a201-064480bec368 button.colab-df-convert');\n",
              "      buttonEl.style.display =\n",
              "        google.colab.kernel.accessAllowed ? 'block' : 'none';\n",
              "\n",
              "      async function convertToInteractive(key) {\n",
              "        const element = document.querySelector('#df-c430bb15-5e0a-48b7-a201-064480bec368');\n",
              "        const dataTable =\n",
              "          await google.colab.kernel.invokeFunction('convertToInteractive',\n",
              "                                                    [key], {});\n",
              "        if (!dataTable) return;\n",
              "\n",
              "        const docLinkHtml = 'Like what you see? Visit the ' +\n",
              "          '<a target=\"_blank\" href=https://colab.research.google.com/notebooks/data_table.ipynb>data table notebook</a>'\n",
              "          + ' to learn more about interactive tables.';\n",
              "        element.innerHTML = '';\n",
              "        dataTable['output_type'] = 'display_data';\n",
              "        await google.colab.output.renderOutput(dataTable, element);\n",
              "        const docLink = document.createElement('div');\n",
              "        docLink.innerHTML = docLinkHtml;\n",
              "        element.appendChild(docLink);\n",
              "      }\n",
              "    </script>\n",
              "  </div>\n",
              "\n",
              "\n",
              "<div id=\"df-6a86d398-7f53-41a7-bbae-3285264542dd\">\n",
              "  <button class=\"colab-df-quickchart\" onclick=\"quickchart('df-6a86d398-7f53-41a7-bbae-3285264542dd')\"\n",
              "            title=\"Suggest charts\"\n",
              "            style=\"display:none;\">\n",
              "\n",
              "<svg xmlns=\"http://www.w3.org/2000/svg\" height=\"24px\"viewBox=\"0 0 24 24\"\n",
              "     width=\"24px\">\n",
              "    <g>\n",
              "        <path d=\"M19 3H5c-1.1 0-2 .9-2 2v14c0 1.1.9 2 2 2h14c1.1 0 2-.9 2-2V5c0-1.1-.9-2-2-2zM9 17H7v-7h2v7zm4 0h-2V7h2v10zm4 0h-2v-4h2v4z\"/>\n",
              "    </g>\n",
              "</svg>\n",
              "  </button>\n",
              "\n",
              "<style>\n",
              "  .colab-df-quickchart {\n",
              "      --bg-color: #E8F0FE;\n",
              "      --fill-color: #1967D2;\n",
              "      --hover-bg-color: #E2EBFA;\n",
              "      --hover-fill-color: #174EA6;\n",
              "      --disabled-fill-color: #AAA;\n",
              "      --disabled-bg-color: #DDD;\n",
              "  }\n",
              "\n",
              "  [theme=dark] .colab-df-quickchart {\n",
              "      --bg-color: #3B4455;\n",
              "      --fill-color: #D2E3FC;\n",
              "      --hover-bg-color: #434B5C;\n",
              "      --hover-fill-color: #FFFFFF;\n",
              "      --disabled-bg-color: #3B4455;\n",
              "      --disabled-fill-color: #666;\n",
              "  }\n",
              "\n",
              "  .colab-df-quickchart {\n",
              "    background-color: var(--bg-color);\n",
              "    border: none;\n",
              "    border-radius: 50%;\n",
              "    cursor: pointer;\n",
              "    display: none;\n",
              "    fill: var(--fill-color);\n",
              "    height: 32px;\n",
              "    padding: 0;\n",
              "    width: 32px;\n",
              "  }\n",
              "\n",
              "  .colab-df-quickchart:hover {\n",
              "    background-color: var(--hover-bg-color);\n",
              "    box-shadow: 0 1px 2px rgba(60, 64, 67, 0.3), 0 1px 3px 1px rgba(60, 64, 67, 0.15);\n",
              "    fill: var(--button-hover-fill-color);\n",
              "  }\n",
              "\n",
              "  .colab-df-quickchart-complete:disabled,\n",
              "  .colab-df-quickchart-complete:disabled:hover {\n",
              "    background-color: var(--disabled-bg-color);\n",
              "    fill: var(--disabled-fill-color);\n",
              "    box-shadow: none;\n",
              "  }\n",
              "\n",
              "  .colab-df-spinner {\n",
              "    border: 2px solid var(--fill-color);\n",
              "    border-color: transparent;\n",
              "    border-bottom-color: var(--fill-color);\n",
              "    animation:\n",
              "      spin 1s steps(1) infinite;\n",
              "  }\n",
              "\n",
              "  @keyframes spin {\n",
              "    0% {\n",
              "      border-color: transparent;\n",
              "      border-bottom-color: var(--fill-color);\n",
              "      border-left-color: var(--fill-color);\n",
              "    }\n",
              "    20% {\n",
              "      border-color: transparent;\n",
              "      border-left-color: var(--fill-color);\n",
              "      border-top-color: var(--fill-color);\n",
              "    }\n",
              "    30% {\n",
              "      border-color: transparent;\n",
              "      border-left-color: var(--fill-color);\n",
              "      border-top-color: var(--fill-color);\n",
              "      border-right-color: var(--fill-color);\n",
              "    }\n",
              "    40% {\n",
              "      border-color: transparent;\n",
              "      border-right-color: var(--fill-color);\n",
              "      border-top-color: var(--fill-color);\n",
              "    }\n",
              "    60% {\n",
              "      border-color: transparent;\n",
              "      border-right-color: var(--fill-color);\n",
              "    }\n",
              "    80% {\n",
              "      border-color: transparent;\n",
              "      border-right-color: var(--fill-color);\n",
              "      border-bottom-color: var(--fill-color);\n",
              "    }\n",
              "    90% {\n",
              "      border-color: transparent;\n",
              "      border-bottom-color: var(--fill-color);\n",
              "    }\n",
              "  }\n",
              "</style>\n",
              "\n",
              "  <script>\n",
              "    async function quickchart(key) {\n",
              "      const quickchartButtonEl =\n",
              "        document.querySelector('#' + key + ' button');\n",
              "      quickchartButtonEl.disabled = true;  // To prevent multiple clicks.\n",
              "      quickchartButtonEl.classList.add('colab-df-spinner');\n",
              "      try {\n",
              "        const charts = await google.colab.kernel.invokeFunction(\n",
              "            'suggestCharts', [key], {});\n",
              "      } catch (error) {\n",
              "        console.error('Error during call to suggestCharts:', error);\n",
              "      }\n",
              "      quickchartButtonEl.classList.remove('colab-df-spinner');\n",
              "      quickchartButtonEl.classList.add('colab-df-quickchart-complete');\n",
              "    }\n",
              "    (() => {\n",
              "      let quickchartButtonEl =\n",
              "        document.querySelector('#df-6a86d398-7f53-41a7-bbae-3285264542dd button');\n",
              "      quickchartButtonEl.style.display =\n",
              "        google.colab.kernel.accessAllowed ? 'block' : 'none';\n",
              "    })();\n",
              "  </script>\n",
              "</div>\n",
              "\n",
              "    </div>\n",
              "  </div>\n"
            ],
            "application/vnd.google.colaboratory.intrinsic+json": {
              "type": "dataframe",
              "summary": "{\n  \"name\": \"df_alertas\",\n  \"rows\": 30,\n  \"fields\": [\n    {\n      \"column\": \"id\",\n      \"properties\": {\n        \"dtype\": \"string\",\n        \"num_unique_values\": 30,\n        \"samples\": [\n          \"5e6dd9f8023f1930ef65adf3\",\n          \"5e6dbd60023f1930efeb3e45\",\n          \"5e7e11b7023f1930efd672a6\"\n        ],\n        \"semantic_type\": \"\",\n        \"description\": \"\"\n      }\n    },\n    {\n      \"column\": \"event\",\n      \"properties\": {\n        \"dtype\": \"category\",\n        \"num_unique_values\": 10,\n        \"samples\": [\n          \"Winter Storm Warning\",\n          \"Severe Thunderstorm Warning\",\n          \"Winter Weather Advisory\"\n        ],\n        \"semantic_type\": \"\",\n        \"description\": \"\"\n      }\n    },\n    {\n      \"column\": \"description\",\n      \"properties\": {\n        \"dtype\": \"string\",\n        \"num_unique_values\": 30,\n        \"samples\": [\n          \"* Hickson on the Red River in Cass County\\n\\n The flood warning continues for these river locations in\\nMinnesota North Dakota \\n\\n* Wahpeton on the Red River  in Wilkin and Richland Counties\\n* Fargo on the Red River  in Clay and Cass Counties\\n* Halstad on the Red River  in Norman and Traill Counties\\n* East Grand Forks on the Red River  in Polk and Grand Forks\\nCounties\\n* Oslo on the Red River  in Marshall Polk Grand Forks and\\nWalsh Counties\\n* Drayton on the Red River  in Kittson Marshall Pembina and\\nWalsh Counties\\n* Pembina on the Red River  in Kittson and Pembina Counties\\n* Abercrombie on the Wild Rice River (ND)  in Richland County\\n\\n\\n.Runoff from snowmelt is expected to wrap up today as any remaining\\nsnow will be melted by warm temperatures today. However, rain is\\nexpected across the region late tonight and through the day\\nWednesday. The combination of the remainder of the snowmelt and\\nupcoming rainfall is driving a secondary rise and/or slow decline in\\nwater levels in regional rivers. This current forecast\\nincorporates the rainfall forecast for the next 48 hours.\\n\\n\\nThis forecast is for a 7-day period the highest stage\\nindicated may not reflect the crest for this event.\\n\\nForecasts are updated daily and stage values will change\\nas new weather and river information is used.\\n\\nRiver forecasts use 24 hours of forecast precipitation\\nbetween April 1st and October 1st, and 48 hours otherwise.\\nHowever, depending on the situation, they may include\\nprecipitation expected through the next 72 hours.\\nThe Flood Warning continues for \\n*  Wahpeton on the Red River.\\n* until further notice or until the warning is cancelled.\\n* At  9:30 AM Tuesday the stage was 12.6 feet.\\n* Minor flooding is occurring and during the next 7 days Moderate\\nflooding is forecast.\\n* Moderate Flood Stage is 13.0 feet.\\n* Forecast the river will rise to a crest near 14.5 feet sometime\\nearly Friday morning then begin falling.\\n* Impact Statement(s) - At 15.0 feet, MAJOR FLOOD. Wahpeton storm\\nsewer outlets and Main Sreet closed.\\n\",\n          \"THE NATIONAL WEATHER SERVICE IN GREAT FALLS HAS ISSUED A HIGH\\nWIND WATCH WHICH IS IN EFFECT FROM SATURDAY MORNING THROUGH\\nSATURDAY EVENING. \\n\\n* TIMING AND MAIN IMPACT: WEST WINDS WILL INCREASE SATURDAY\\n  MORNING ASSOCIATED WITH THE PASSAGE OF A COLD FRONT. BEHIND THE\\n  COLD FRONT WINDS WILL LIKELY INCREASE FURTHER AND COULD BECOME\\n  STRONG BY LATE MORNING. WINDS WILL DIMINISH EARLY SATURDAY\\n  EVENING. TRAVEL COULD BECOME HAZARDOUS FOR THOSE DRIVING HIGH\\n  PROFILE VEHICLES.\\n\\n* WINDS: WESTERLY WINDS 30 TO 40 MPH WITH GUSTS TO 60 MPH ARE\\n  POSSIBLE.\\n\\n* LOCATIONS AFFECTED INCLUDE: FAIRFIELD WHITE SULPHUR \\n  SPRINGS CONRAD GREAT FALLS  KINGS HILL PASS FLESHER \\n  PASS HELENA LINCOLN  MACDONALD PASS ROGERS PASS. \\n\\n* TO SEE A GRAPHICAL REPRESENTATION OF THIS HAZARD PLEASE VISIT \\n  OUR WEB PAGE AND CLICK ON THE DETAILED HAZARDS TAB:\",\n          \" A ROUND OF SNOW AND HAZARDOUS WINTER TRAVEL CONDITIONS FOR THE\\nNORTHERN MOUNTAINS \\n\\n.Snow will develop in the northern mountains of Colorado\\nthis morning and become widespread and heavier by early\\nafternoon. Another increase in snowfall rates will occur this\\nevening before tapering off overnight. Light snow will continue\\nthrough Thursday. Gusty winds of 40 to 55 mph will also produce\\nblowing and drifting snow and reduced visibilities, in exposed\\nareas, and over the higher mountain passes. The heaviest totals\\ncan be expected in the mountains north of Rabbit Ears Pass, with\\nmoderate snowfall totals, in the Front Range Mountains and Summit\\nCounty.\\n\\n* WHAT Heavy snow expected. Total snow accumulations of 8 to\\n20 inches. Winds gusting as high as 45 mph.\\n\\n* WHERE Rabbit Ears Pass.\\n\\n* WHEN Until midnight MST Thursday night.\\n\\n* IMPACTS Travel could be very difficult to impossible. Patchy\\nblowing snow could significantly reduce visibility. The\\nhazardous conditions could impact the morning or evening\\ncommute.\"\n        ],\n        \"semantic_type\": \"\",\n        \"description\": \"\"\n      }\n    },\n    {\n      \"column\": \"instruction\",\n      \"properties\": {\n        \"dtype\": \"string\",\n        \"num_unique_values\": 25,\n        \"samples\": [\n          \"For your protection move to an interior room on the lowest floor of a building.  \",\n          \"PRECAUTIONARY/PREPAREDNESS ACTIONS   Forecast crests are based upon rainfall that has occurred along with anticipated rain for the next 24 hours. Adjustments to the forecasts will be made if additional heavy rainfall occurs.  Do not drive cars through flooded areas. Remember, two feet of rushing water can carry away most vehicles including pickups.  Turn around and don't drown!  A followup product will be issued later. Stay tuned to NOAA Weather Radio, local tv and radio stations or your cable provider, for the latest information. The latest graphical hydrologic information can also be found at Weather.Gov.  \",\n          \"Turn around, don't drown when encountering flooded roads. Most flood deaths occur in vehicles.  A Flood Warning means that flooding is imminent or occurring. All interested parties should take necessary precautions immediately.  \"\n        ],\n        \"semantic_type\": \"\",\n        \"description\": \"\"\n      }\n    },\n    {\n      \"column\": \"urgency\",\n      \"properties\": {\n        \"dtype\": \"category\",\n        \"num_unique_values\": 4,\n        \"samples\": [\n          \"Immediate\",\n          \"Past\",\n          \"Expected\"\n        ],\n        \"semantic_type\": \"\",\n        \"description\": \"\"\n      }\n    },\n    {\n      \"column\": \"severity\",\n      \"properties\": {\n        \"dtype\": \"category\",\n        \"num_unique_values\": 3,\n        \"samples\": [\n          \"Severe\",\n          \"Moderate\",\n          \"Minor\"\n        ],\n        \"semantic_type\": \"\",\n        \"description\": \"\"\n      }\n    }\n  ]\n}"
            }
          },
          "metadata": {},
          "execution_count": 12
        }
      ]
    },
    {
      "cell_type": "markdown",
      "source": [
        "Formateamos la columna Instruction a Minúsculas."
      ],
      "metadata": {
        "id": "-4kK4jgSSJKk"
      }
    },
    {
      "cell_type": "code",
      "source": [
        "df_alertas['instruction'] = df_alertas['instruction'].str.lower()"
      ],
      "metadata": {
        "id": "ezR7n_KfySqg"
      },
      "execution_count": 13,
      "outputs": []
    },
    {
      "cell_type": "markdown",
      "source": [
        "Eliminamos puntos, comas, comillas, etc. Importamos módulo para trabajar con expresiones regulares y eliminamos puntuación usando expresiones regulares"
      ],
      "metadata": {
        "id": "ECBOWHPI_CLu"
      }
    },
    {
      "cell_type": "code",
      "source": [
        "import re\n",
        "\n",
        "df_alertas['instruction'] = df_alertas['instruction'].str.replace(r'[^\\w\\s]', '', regex=True)"
      ],
      "metadata": {
        "id": "rhIESzhm-mfD"
      },
      "execution_count": 14,
      "outputs": []
    },
    {
      "cell_type": "markdown",
      "source": [
        "Pasando numeros a letras. Usamos la libreria num2words"
      ],
      "metadata": {
        "id": "CK7KzPLz_nwh"
      }
    },
    {
      "cell_type": "code",
      "source": [
        "!pip install num2words"
      ],
      "metadata": {
        "id": "KrLCs5HZ_F-3",
        "outputId": "fe52cbfc-4a8a-4c31-da85-9de688c7fcdc",
        "colab": {
          "base_uri": "https://localhost:8080/"
        }
      },
      "execution_count": 15,
      "outputs": [
        {
          "output_type": "stream",
          "name": "stdout",
          "text": [
            "Collecting num2words\n",
            "  Downloading num2words-0.5.13-py3-none-any.whl (143 kB)\n",
            "\u001b[?25l     \u001b[90m━━━━━━━━━━━━━━━━━━━━━━━━━━━━━━━━━━━━━━━━\u001b[0m \u001b[32m0.0/143.3 kB\u001b[0m \u001b[31m?\u001b[0m eta \u001b[36m-:--:--\u001b[0m\r\u001b[2K     \u001b[91m━━━━━━━━━━━━━━━━━━━━━━━━━━━━━━━━━━━━━\u001b[0m\u001b[90m╺\u001b[0m\u001b[90m━━\u001b[0m \u001b[32m133.1/143.3 kB\u001b[0m \u001b[31m4.5 MB/s\u001b[0m eta \u001b[36m0:00:01\u001b[0m\r\u001b[2K     \u001b[90m━━━━━━━━━━━━━━━━━━━━━━━━━━━━━━━━━━━━━━━━\u001b[0m \u001b[32m143.3/143.3 kB\u001b[0m \u001b[31m3.7 MB/s\u001b[0m eta \u001b[36m0:00:00\u001b[0m\n",
            "\u001b[?25hCollecting docopt>=0.6.2 (from num2words)\n",
            "  Downloading docopt-0.6.2.tar.gz (25 kB)\n",
            "  Preparing metadata (setup.py) ... \u001b[?25l\u001b[?25hdone\n",
            "Building wheels for collected packages: docopt\n",
            "  Building wheel for docopt (setup.py) ... \u001b[?25l\u001b[?25hdone\n",
            "  Created wheel for docopt: filename=docopt-0.6.2-py2.py3-none-any.whl size=13706 sha256=e1a12d2a9e8407a24787e7eaf1c7e139aeb254c44215068b65516b9f6855c2a5\n",
            "  Stored in directory: /root/.cache/pip/wheels/fc/ab/d4/5da2067ac95b36618c629a5f93f809425700506f72c9732fac\n",
            "Successfully built docopt\n",
            "Installing collected packages: docopt, num2words\n",
            "Successfully installed docopt-0.6.2 num2words-0.5.13\n"
          ]
        }
      ]
    },
    {
      "cell_type": "code",
      "source": [
        "from num2words import num2words\n",
        "\n",
        "# Función para extraer números de una cadena de texto y convertirlos en palabras\n",
        "def convert_numbers_to_words(text):\n",
        "    numbers = re.findall(r'\\d+', text) #Busca numeros\n",
        "    for number in numbers:\n",
        "        text = text.replace(number, num2words(int(number)))\n",
        "    return text\n",
        "\n",
        "df_alertas['instruction'] = df_alertas['instruction'].apply(convert_numbers_to_words)"
      ],
      "metadata": {
        "id": "a8ftK2P8_acF"
      },
      "execution_count": 16,
      "outputs": []
    },
    {
      "cell_type": "code",
      "source": [
        "df_alertas.sample(30)"
      ],
      "metadata": {
        "id": "ECFu9Oh-__RK",
        "outputId": "120b22c0-d988-4d8c-da81-36df7c33e322",
        "colab": {
          "base_uri": "https://localhost:8080/",
          "height": 1000
        }
      },
      "execution_count": 17,
      "outputs": [
        {
          "output_type": "execute_result",
          "data": {
            "text/plain": [
              "                              id                        event  \\\n",
              "125815  5e6db2b3023f1930efb6b84a               Flood Advisory   \n",
              "571262  5e6dd4d2023f1930ef51d659  Severe Thunderstorm Warning   \n",
              "253328  5e6ddbc1023f1930ef6c624f                Flood Warning   \n",
              "122525  5e6db2c5023f1930efb70ff5           Dense Fog Advisory   \n",
              "660266  5e6dbfad023f1930eff5dd56               Flood Advisory   \n",
              "172307  5e6db01c023f1930efa9fb1a    Special Weather Statement   \n",
              "510642  5e6dd54c023f1930ef53b473       Coastal Flood Advisory   \n",
              "72430   5e7e10c9023f1930efd32284          Wind Chill Advisory   \n",
              "152220  5e6ddfd5023f1930ef7b108f       Coastal Flood Advisory   \n",
              "51665   5e7d61a2023f1930ef9816de  Severe Thunderstorm Warning   \n",
              "423831  5e6dd6f6023f1930ef5a5d4b                Flood Warning   \n",
              "145658  5e6ddff4023f1930ef7b8287            Flash Flood Watch   \n",
              "355348  5e6dda4f023f1930ef66fb9b    Special Weather Statement   \n",
              "485679  5e6dd608023f1930ef56a5bc                  Flood Watch   \n",
              "80830   5e7e109f023f1930efd2806c            Flash Flood Watch   \n",
              "706787  5e6dc05a023f1930eff8d3c2    Special Weather Statement   \n",
              "175666  5e6dafb3023f1930efa82402               Flood Advisory   \n",
              "306391  5e6dda8e023f1930ef67e852                Flood Warning   \n",
              "297446  5e6db8ad023f1930efd4ee39    Special Weather Statement   \n",
              "244527  5e6db734023f1930efcddee4    Special Weather Statement   \n",
              "253890  5e6db79f023f1930efcfecb3    Special Weather Statement   \n",
              "266550  5e6ddba5023f1930ef6bfc6a  Severe Thunderstorm Warning   \n",
              "120910  5e6db2ce023f1930efb73eab              Tornado Warning   \n",
              "647663  5e6dbf72023f1930eff4d27e  Severe Thunderstorm Warning   \n",
              "319746  5e6dda22023f1930ef664e2f                Flood Warning   \n",
              "482378  5e6dd56f023f1930ef5440e2     Marine Weather Statement   \n",
              "392652  5e6dbac6023f1930efdec120                  Flood Watch   \n",
              "675577  5e6dd398023f1930ef4cf2ea    Special Weather Statement   \n",
              "46878   5e6db0a7023f1930efac6ccc     Marine Weather Statement   \n",
              "354482  5e6ddb23023f1930ef6a0fef  Severe Thunderstorm Warning   \n",
              "\n",
              "                                              description  \\\n",
              "125815   The Flood Advisory continues for the Mississi...   \n",
              "571262  At 616 PM CDT, a severe thunderstorm was locat...   \n",
              "253328  Mississippi River Near Arkansas City affecting...   \n",
              "122525  * WHAT Visibility one quarter mile or less in ...   \n",
              "660266  THE NATIONAL WEATHER SERVICE IN JACKSON KY HAS...   \n",
              "172307  At 548 PM MDT/448 PM PDT/, Doppler radar was t...   \n",
              "510642  * COASTAL FLOODING Hurricane Michael will brin...   \n",
              "72430    Bitter Wind Chills Continue This Morning \\n\\n...   \n",
              "152220   RESIDUAL COASTAL FLOODING TO CONTINUE INTO SA...   \n",
              "51665   The National Weather Service in Topeka has iss...   \n",
              "423831  The Flood Warning continues for\\nThe Wateree R...   \n",
              "145658  The Flash Flood Watch continues for\\n\\n* Porti...   \n",
              "355348  The National Weather Service in Wichita has is...   \n",
              "485679  A cold front will move slowly across the Mid-S...   \n",
              "80830    Heavy rainfall Expected Today into Tuesday ac...   \n",
              "706787  At 552 PM CDT, Doppler radar was tracking a st...   \n",
              "175666  The National Weather Service in Midland has is...   \n",
              "306391  Michigamme River near Republic affecting Marqu...   \n",
              "297446  At 223 PM EDT, Doppler radar was tracking a st...   \n",
              "244527  At 416 AM CDT, Doppler radar was tracking stro...   \n",
              "253890  At 819 PM CDT, Doppler radar was tracking a st...   \n",
              "266550  The National Weather Service in Denver Colorad...   \n",
              "120910  At 503 PM CST, a severe thunderstorm capable o...   \n",
              "647663  At 216 PM EDT/116 PM CDT/, severe thunderstorm...   \n",
              "319746  * Enderlin on the Maple River in Cass and Rans...   \n",
              "482378  A Marine Weather Statement has been issued for...   \n",
              "392652  Several disturbances will move over a surface ...   \n",
              "675577  AT 316 PM MDT DOPPLER RADAR WAS TRACKING A STR...   \n",
              "46878   The areas affected include \\nCoastal waters fr...   \n",
              "354482  At 403 PM CST, severe thunderstorms were locat...   \n",
              "\n",
              "                                              instruction    urgency  severity  \n",
              "125815  the next river statement will be issued wednes...   Expected     Minor  \n",
              "571262  for your protection move to an interior room o...  Immediate    Severe  \n",
              "253328  precautionarypreparedness actions   do not dri...  Immediate    Severe  \n",
              "122525  if driving slow down use your headlights and l...   Expected  Moderate  \n",
              "660266  in hilly terrain there are hundreds of low wat...   Expected     Minor  \n",
              "172307  when safe to do so please relay storm reports ...   Expected  Moderate  \n",
              "510642  a high surf advisory means that high surf will...   Expected     Minor  \n",
              "72430   use caution while traveling outside wear appro...   Expected  Moderate  \n",
              "152220  a coastal flood advisory means that minor tida...   Expected     Minor  \n",
              "51665   for your protection move to an interior room o...  Immediate    Severe  \n",
              "423831  precautionarypreparedness actions   safety mes...  Immediate    Severe  \n",
              "145658  a flash flood watch means that conditions may ...     Future    Severe  \n",
              "355348  be prepared to take shelter in the event the s...   Expected  Moderate  \n",
              "485679  a flood watch means there is a potential for f...     Future    Severe  \n",
              "80830   a flash flood watch means that conditions may ...     Future    Severe  \n",
              "706787  torrential rainfall is also occurring with thi...   Expected  Moderate  \n",
              "175666  turn around dont drown when encountering flood...   Expected     Minor  \n",
              "306391  precautionarypreparedness actions   safety mes...  Immediate    Severe  \n",
              "297446  dime to nickel size hail can cause considerabl...   Expected  Moderate  \n",
              "244527  frequent cloud to ground lightning is occurrin...   Expected  Moderate  \n",
              "253890  to report severe weather contact your nearest ...   Expected  Moderate  \n",
              "266550  a tornado watch remains in effect until nine h...  Immediate    Severe  \n",
              "120910  take cover now move to an interior room on the...  Immediate   Extreme  \n",
              "647663  for your protection move to an interior room o...  Immediate    Severe  \n",
              "319746  precautionarypreparedness actions   safety mes...  Immediate    Severe  \n",
              "482378  mariners can expect gusty winds to around thir...   Expected     Minor  \n",
              "392652  a flood watch means there is a potential for f...     Future    Severe  \n",
              "675577  frequent cloud to ground lightning is occurrin...   Expected  Moderate  \n",
              "46878   mariners can expect gusty winds to around thir...   Expected     Minor  \n",
              "354482  for your protection move to an interior room o...  Immediate    Severe  "
            ],
            "text/html": [
              "\n",
              "  <div id=\"df-079e7f72-dedb-4e44-adc7-b6946d15daf3\" class=\"colab-df-container\">\n",
              "    <div>\n",
              "<style scoped>\n",
              "    .dataframe tbody tr th:only-of-type {\n",
              "        vertical-align: middle;\n",
              "    }\n",
              "\n",
              "    .dataframe tbody tr th {\n",
              "        vertical-align: top;\n",
              "    }\n",
              "\n",
              "    .dataframe thead th {\n",
              "        text-align: right;\n",
              "    }\n",
              "</style>\n",
              "<table border=\"1\" class=\"dataframe\">\n",
              "  <thead>\n",
              "    <tr style=\"text-align: right;\">\n",
              "      <th></th>\n",
              "      <th>id</th>\n",
              "      <th>event</th>\n",
              "      <th>description</th>\n",
              "      <th>instruction</th>\n",
              "      <th>urgency</th>\n",
              "      <th>severity</th>\n",
              "    </tr>\n",
              "  </thead>\n",
              "  <tbody>\n",
              "    <tr>\n",
              "      <th>125815</th>\n",
              "      <td>5e6db2b3023f1930efb6b84a</td>\n",
              "      <td>Flood Advisory</td>\n",
              "      <td>The Flood Advisory continues for the Mississi...</td>\n",
              "      <td>the next river statement will be issued wednes...</td>\n",
              "      <td>Expected</td>\n",
              "      <td>Minor</td>\n",
              "    </tr>\n",
              "    <tr>\n",
              "      <th>571262</th>\n",
              "      <td>5e6dd4d2023f1930ef51d659</td>\n",
              "      <td>Severe Thunderstorm Warning</td>\n",
              "      <td>At 616 PM CDT, a severe thunderstorm was locat...</td>\n",
              "      <td>for your protection move to an interior room o...</td>\n",
              "      <td>Immediate</td>\n",
              "      <td>Severe</td>\n",
              "    </tr>\n",
              "    <tr>\n",
              "      <th>253328</th>\n",
              "      <td>5e6ddbc1023f1930ef6c624f</td>\n",
              "      <td>Flood Warning</td>\n",
              "      <td>Mississippi River Near Arkansas City affecting...</td>\n",
              "      <td>precautionarypreparedness actions   do not dri...</td>\n",
              "      <td>Immediate</td>\n",
              "      <td>Severe</td>\n",
              "    </tr>\n",
              "    <tr>\n",
              "      <th>122525</th>\n",
              "      <td>5e6db2c5023f1930efb70ff5</td>\n",
              "      <td>Dense Fog Advisory</td>\n",
              "      <td>* WHAT Visibility one quarter mile or less in ...</td>\n",
              "      <td>if driving slow down use your headlights and l...</td>\n",
              "      <td>Expected</td>\n",
              "      <td>Moderate</td>\n",
              "    </tr>\n",
              "    <tr>\n",
              "      <th>660266</th>\n",
              "      <td>5e6dbfad023f1930eff5dd56</td>\n",
              "      <td>Flood Advisory</td>\n",
              "      <td>THE NATIONAL WEATHER SERVICE IN JACKSON KY HAS...</td>\n",
              "      <td>in hilly terrain there are hundreds of low wat...</td>\n",
              "      <td>Expected</td>\n",
              "      <td>Minor</td>\n",
              "    </tr>\n",
              "    <tr>\n",
              "      <th>172307</th>\n",
              "      <td>5e6db01c023f1930efa9fb1a</td>\n",
              "      <td>Special Weather Statement</td>\n",
              "      <td>At 548 PM MDT/448 PM PDT/, Doppler radar was t...</td>\n",
              "      <td>when safe to do so please relay storm reports ...</td>\n",
              "      <td>Expected</td>\n",
              "      <td>Moderate</td>\n",
              "    </tr>\n",
              "    <tr>\n",
              "      <th>510642</th>\n",
              "      <td>5e6dd54c023f1930ef53b473</td>\n",
              "      <td>Coastal Flood Advisory</td>\n",
              "      <td>* COASTAL FLOODING Hurricane Michael will brin...</td>\n",
              "      <td>a high surf advisory means that high surf will...</td>\n",
              "      <td>Expected</td>\n",
              "      <td>Minor</td>\n",
              "    </tr>\n",
              "    <tr>\n",
              "      <th>72430</th>\n",
              "      <td>5e7e10c9023f1930efd32284</td>\n",
              "      <td>Wind Chill Advisory</td>\n",
              "      <td>Bitter Wind Chills Continue This Morning \\n\\n...</td>\n",
              "      <td>use caution while traveling outside wear appro...</td>\n",
              "      <td>Expected</td>\n",
              "      <td>Moderate</td>\n",
              "    </tr>\n",
              "    <tr>\n",
              "      <th>152220</th>\n",
              "      <td>5e6ddfd5023f1930ef7b108f</td>\n",
              "      <td>Coastal Flood Advisory</td>\n",
              "      <td>RESIDUAL COASTAL FLOODING TO CONTINUE INTO SA...</td>\n",
              "      <td>a coastal flood advisory means that minor tida...</td>\n",
              "      <td>Expected</td>\n",
              "      <td>Minor</td>\n",
              "    </tr>\n",
              "    <tr>\n",
              "      <th>51665</th>\n",
              "      <td>5e7d61a2023f1930ef9816de</td>\n",
              "      <td>Severe Thunderstorm Warning</td>\n",
              "      <td>The National Weather Service in Topeka has iss...</td>\n",
              "      <td>for your protection move to an interior room o...</td>\n",
              "      <td>Immediate</td>\n",
              "      <td>Severe</td>\n",
              "    </tr>\n",
              "    <tr>\n",
              "      <th>423831</th>\n",
              "      <td>5e6dd6f6023f1930ef5a5d4b</td>\n",
              "      <td>Flood Warning</td>\n",
              "      <td>The Flood Warning continues for\\nThe Wateree R...</td>\n",
              "      <td>precautionarypreparedness actions   safety mes...</td>\n",
              "      <td>Immediate</td>\n",
              "      <td>Severe</td>\n",
              "    </tr>\n",
              "    <tr>\n",
              "      <th>145658</th>\n",
              "      <td>5e6ddff4023f1930ef7b8287</td>\n",
              "      <td>Flash Flood Watch</td>\n",
              "      <td>The Flash Flood Watch continues for\\n\\n* Porti...</td>\n",
              "      <td>a flash flood watch means that conditions may ...</td>\n",
              "      <td>Future</td>\n",
              "      <td>Severe</td>\n",
              "    </tr>\n",
              "    <tr>\n",
              "      <th>355348</th>\n",
              "      <td>5e6dda4f023f1930ef66fb9b</td>\n",
              "      <td>Special Weather Statement</td>\n",
              "      <td>The National Weather Service in Wichita has is...</td>\n",
              "      <td>be prepared to take shelter in the event the s...</td>\n",
              "      <td>Expected</td>\n",
              "      <td>Moderate</td>\n",
              "    </tr>\n",
              "    <tr>\n",
              "      <th>485679</th>\n",
              "      <td>5e6dd608023f1930ef56a5bc</td>\n",
              "      <td>Flood Watch</td>\n",
              "      <td>A cold front will move slowly across the Mid-S...</td>\n",
              "      <td>a flood watch means there is a potential for f...</td>\n",
              "      <td>Future</td>\n",
              "      <td>Severe</td>\n",
              "    </tr>\n",
              "    <tr>\n",
              "      <th>80830</th>\n",
              "      <td>5e7e109f023f1930efd2806c</td>\n",
              "      <td>Flash Flood Watch</td>\n",
              "      <td>Heavy rainfall Expected Today into Tuesday ac...</td>\n",
              "      <td>a flash flood watch means that conditions may ...</td>\n",
              "      <td>Future</td>\n",
              "      <td>Severe</td>\n",
              "    </tr>\n",
              "    <tr>\n",
              "      <th>706787</th>\n",
              "      <td>5e6dc05a023f1930eff8d3c2</td>\n",
              "      <td>Special Weather Statement</td>\n",
              "      <td>At 552 PM CDT, Doppler radar was tracking a st...</td>\n",
              "      <td>torrential rainfall is also occurring with thi...</td>\n",
              "      <td>Expected</td>\n",
              "      <td>Moderate</td>\n",
              "    </tr>\n",
              "    <tr>\n",
              "      <th>175666</th>\n",
              "      <td>5e6dafb3023f1930efa82402</td>\n",
              "      <td>Flood Advisory</td>\n",
              "      <td>The National Weather Service in Midland has is...</td>\n",
              "      <td>turn around dont drown when encountering flood...</td>\n",
              "      <td>Expected</td>\n",
              "      <td>Minor</td>\n",
              "    </tr>\n",
              "    <tr>\n",
              "      <th>306391</th>\n",
              "      <td>5e6dda8e023f1930ef67e852</td>\n",
              "      <td>Flood Warning</td>\n",
              "      <td>Michigamme River near Republic affecting Marqu...</td>\n",
              "      <td>precautionarypreparedness actions   safety mes...</td>\n",
              "      <td>Immediate</td>\n",
              "      <td>Severe</td>\n",
              "    </tr>\n",
              "    <tr>\n",
              "      <th>297446</th>\n",
              "      <td>5e6db8ad023f1930efd4ee39</td>\n",
              "      <td>Special Weather Statement</td>\n",
              "      <td>At 223 PM EDT, Doppler radar was tracking a st...</td>\n",
              "      <td>dime to nickel size hail can cause considerabl...</td>\n",
              "      <td>Expected</td>\n",
              "      <td>Moderate</td>\n",
              "    </tr>\n",
              "    <tr>\n",
              "      <th>244527</th>\n",
              "      <td>5e6db734023f1930efcddee4</td>\n",
              "      <td>Special Weather Statement</td>\n",
              "      <td>At 416 AM CDT, Doppler radar was tracking stro...</td>\n",
              "      <td>frequent cloud to ground lightning is occurrin...</td>\n",
              "      <td>Expected</td>\n",
              "      <td>Moderate</td>\n",
              "    </tr>\n",
              "    <tr>\n",
              "      <th>253890</th>\n",
              "      <td>5e6db79f023f1930efcfecb3</td>\n",
              "      <td>Special Weather Statement</td>\n",
              "      <td>At 819 PM CDT, Doppler radar was tracking a st...</td>\n",
              "      <td>to report severe weather contact your nearest ...</td>\n",
              "      <td>Expected</td>\n",
              "      <td>Moderate</td>\n",
              "    </tr>\n",
              "    <tr>\n",
              "      <th>266550</th>\n",
              "      <td>5e6ddba5023f1930ef6bfc6a</td>\n",
              "      <td>Severe Thunderstorm Warning</td>\n",
              "      <td>The National Weather Service in Denver Colorad...</td>\n",
              "      <td>a tornado watch remains in effect until nine h...</td>\n",
              "      <td>Immediate</td>\n",
              "      <td>Severe</td>\n",
              "    </tr>\n",
              "    <tr>\n",
              "      <th>120910</th>\n",
              "      <td>5e6db2ce023f1930efb73eab</td>\n",
              "      <td>Tornado Warning</td>\n",
              "      <td>At 503 PM CST, a severe thunderstorm capable o...</td>\n",
              "      <td>take cover now move to an interior room on the...</td>\n",
              "      <td>Immediate</td>\n",
              "      <td>Extreme</td>\n",
              "    </tr>\n",
              "    <tr>\n",
              "      <th>647663</th>\n",
              "      <td>5e6dbf72023f1930eff4d27e</td>\n",
              "      <td>Severe Thunderstorm Warning</td>\n",
              "      <td>At 216 PM EDT/116 PM CDT/, severe thunderstorm...</td>\n",
              "      <td>for your protection move to an interior room o...</td>\n",
              "      <td>Immediate</td>\n",
              "      <td>Severe</td>\n",
              "    </tr>\n",
              "    <tr>\n",
              "      <th>319746</th>\n",
              "      <td>5e6dda22023f1930ef664e2f</td>\n",
              "      <td>Flood Warning</td>\n",
              "      <td>* Enderlin on the Maple River in Cass and Rans...</td>\n",
              "      <td>precautionarypreparedness actions   safety mes...</td>\n",
              "      <td>Immediate</td>\n",
              "      <td>Severe</td>\n",
              "    </tr>\n",
              "    <tr>\n",
              "      <th>482378</th>\n",
              "      <td>5e6dd56f023f1930ef5440e2</td>\n",
              "      <td>Marine Weather Statement</td>\n",
              "      <td>A Marine Weather Statement has been issued for...</td>\n",
              "      <td>mariners can expect gusty winds to around thir...</td>\n",
              "      <td>Expected</td>\n",
              "      <td>Minor</td>\n",
              "    </tr>\n",
              "    <tr>\n",
              "      <th>392652</th>\n",
              "      <td>5e6dbac6023f1930efdec120</td>\n",
              "      <td>Flood Watch</td>\n",
              "      <td>Several disturbances will move over a surface ...</td>\n",
              "      <td>a flood watch means there is a potential for f...</td>\n",
              "      <td>Future</td>\n",
              "      <td>Severe</td>\n",
              "    </tr>\n",
              "    <tr>\n",
              "      <th>675577</th>\n",
              "      <td>5e6dd398023f1930ef4cf2ea</td>\n",
              "      <td>Special Weather Statement</td>\n",
              "      <td>AT 316 PM MDT DOPPLER RADAR WAS TRACKING A STR...</td>\n",
              "      <td>frequent cloud to ground lightning is occurrin...</td>\n",
              "      <td>Expected</td>\n",
              "      <td>Moderate</td>\n",
              "    </tr>\n",
              "    <tr>\n",
              "      <th>46878</th>\n",
              "      <td>5e6db0a7023f1930efac6ccc</td>\n",
              "      <td>Marine Weather Statement</td>\n",
              "      <td>The areas affected include \\nCoastal waters fr...</td>\n",
              "      <td>mariners can expect gusty winds to around thir...</td>\n",
              "      <td>Expected</td>\n",
              "      <td>Minor</td>\n",
              "    </tr>\n",
              "    <tr>\n",
              "      <th>354482</th>\n",
              "      <td>5e6ddb23023f1930ef6a0fef</td>\n",
              "      <td>Severe Thunderstorm Warning</td>\n",
              "      <td>At 403 PM CST, severe thunderstorms were locat...</td>\n",
              "      <td>for your protection move to an interior room o...</td>\n",
              "      <td>Immediate</td>\n",
              "      <td>Severe</td>\n",
              "    </tr>\n",
              "  </tbody>\n",
              "</table>\n",
              "</div>\n",
              "    <div class=\"colab-df-buttons\">\n",
              "\n",
              "  <div class=\"colab-df-container\">\n",
              "    <button class=\"colab-df-convert\" onclick=\"convertToInteractive('df-079e7f72-dedb-4e44-adc7-b6946d15daf3')\"\n",
              "            title=\"Convert this dataframe to an interactive table.\"\n",
              "            style=\"display:none;\">\n",
              "\n",
              "  <svg xmlns=\"http://www.w3.org/2000/svg\" height=\"24px\" viewBox=\"0 -960 960 960\">\n",
              "    <path d=\"M120-120v-720h720v720H120Zm60-500h600v-160H180v160Zm220 220h160v-160H400v160Zm0 220h160v-160H400v160ZM180-400h160v-160H180v160Zm440 0h160v-160H620v160ZM180-180h160v-160H180v160Zm440 0h160v-160H620v160Z\"/>\n",
              "  </svg>\n",
              "    </button>\n",
              "\n",
              "  <style>\n",
              "    .colab-df-container {\n",
              "      display:flex;\n",
              "      gap: 12px;\n",
              "    }\n",
              "\n",
              "    .colab-df-convert {\n",
              "      background-color: #E8F0FE;\n",
              "      border: none;\n",
              "      border-radius: 50%;\n",
              "      cursor: pointer;\n",
              "      display: none;\n",
              "      fill: #1967D2;\n",
              "      height: 32px;\n",
              "      padding: 0 0 0 0;\n",
              "      width: 32px;\n",
              "    }\n",
              "\n",
              "    .colab-df-convert:hover {\n",
              "      background-color: #E2EBFA;\n",
              "      box-shadow: 0px 1px 2px rgba(60, 64, 67, 0.3), 0px 1px 3px 1px rgba(60, 64, 67, 0.15);\n",
              "      fill: #174EA6;\n",
              "    }\n",
              "\n",
              "    .colab-df-buttons div {\n",
              "      margin-bottom: 4px;\n",
              "    }\n",
              "\n",
              "    [theme=dark] .colab-df-convert {\n",
              "      background-color: #3B4455;\n",
              "      fill: #D2E3FC;\n",
              "    }\n",
              "\n",
              "    [theme=dark] .colab-df-convert:hover {\n",
              "      background-color: #434B5C;\n",
              "      box-shadow: 0px 1px 3px 1px rgba(0, 0, 0, 0.15);\n",
              "      filter: drop-shadow(0px 1px 2px rgba(0, 0, 0, 0.3));\n",
              "      fill: #FFFFFF;\n",
              "    }\n",
              "  </style>\n",
              "\n",
              "    <script>\n",
              "      const buttonEl =\n",
              "        document.querySelector('#df-079e7f72-dedb-4e44-adc7-b6946d15daf3 button.colab-df-convert');\n",
              "      buttonEl.style.display =\n",
              "        google.colab.kernel.accessAllowed ? 'block' : 'none';\n",
              "\n",
              "      async function convertToInteractive(key) {\n",
              "        const element = document.querySelector('#df-079e7f72-dedb-4e44-adc7-b6946d15daf3');\n",
              "        const dataTable =\n",
              "          await google.colab.kernel.invokeFunction('convertToInteractive',\n",
              "                                                    [key], {});\n",
              "        if (!dataTable) return;\n",
              "\n",
              "        const docLinkHtml = 'Like what you see? Visit the ' +\n",
              "          '<a target=\"_blank\" href=https://colab.research.google.com/notebooks/data_table.ipynb>data table notebook</a>'\n",
              "          + ' to learn more about interactive tables.';\n",
              "        element.innerHTML = '';\n",
              "        dataTable['output_type'] = 'display_data';\n",
              "        await google.colab.output.renderOutput(dataTable, element);\n",
              "        const docLink = document.createElement('div');\n",
              "        docLink.innerHTML = docLinkHtml;\n",
              "        element.appendChild(docLink);\n",
              "      }\n",
              "    </script>\n",
              "  </div>\n",
              "\n",
              "\n",
              "<div id=\"df-f0ce1caf-c0cb-49c3-9ade-c6334bce1074\">\n",
              "  <button class=\"colab-df-quickchart\" onclick=\"quickchart('df-f0ce1caf-c0cb-49c3-9ade-c6334bce1074')\"\n",
              "            title=\"Suggest charts\"\n",
              "            style=\"display:none;\">\n",
              "\n",
              "<svg xmlns=\"http://www.w3.org/2000/svg\" height=\"24px\"viewBox=\"0 0 24 24\"\n",
              "     width=\"24px\">\n",
              "    <g>\n",
              "        <path d=\"M19 3H5c-1.1 0-2 .9-2 2v14c0 1.1.9 2 2 2h14c1.1 0 2-.9 2-2V5c0-1.1-.9-2-2-2zM9 17H7v-7h2v7zm4 0h-2V7h2v10zm4 0h-2v-4h2v4z\"/>\n",
              "    </g>\n",
              "</svg>\n",
              "  </button>\n",
              "\n",
              "<style>\n",
              "  .colab-df-quickchart {\n",
              "      --bg-color: #E8F0FE;\n",
              "      --fill-color: #1967D2;\n",
              "      --hover-bg-color: #E2EBFA;\n",
              "      --hover-fill-color: #174EA6;\n",
              "      --disabled-fill-color: #AAA;\n",
              "      --disabled-bg-color: #DDD;\n",
              "  }\n",
              "\n",
              "  [theme=dark] .colab-df-quickchart {\n",
              "      --bg-color: #3B4455;\n",
              "      --fill-color: #D2E3FC;\n",
              "      --hover-bg-color: #434B5C;\n",
              "      --hover-fill-color: #FFFFFF;\n",
              "      --disabled-bg-color: #3B4455;\n",
              "      --disabled-fill-color: #666;\n",
              "  }\n",
              "\n",
              "  .colab-df-quickchart {\n",
              "    background-color: var(--bg-color);\n",
              "    border: none;\n",
              "    border-radius: 50%;\n",
              "    cursor: pointer;\n",
              "    display: none;\n",
              "    fill: var(--fill-color);\n",
              "    height: 32px;\n",
              "    padding: 0;\n",
              "    width: 32px;\n",
              "  }\n",
              "\n",
              "  .colab-df-quickchart:hover {\n",
              "    background-color: var(--hover-bg-color);\n",
              "    box-shadow: 0 1px 2px rgba(60, 64, 67, 0.3), 0 1px 3px 1px rgba(60, 64, 67, 0.15);\n",
              "    fill: var(--button-hover-fill-color);\n",
              "  }\n",
              "\n",
              "  .colab-df-quickchart-complete:disabled,\n",
              "  .colab-df-quickchart-complete:disabled:hover {\n",
              "    background-color: var(--disabled-bg-color);\n",
              "    fill: var(--disabled-fill-color);\n",
              "    box-shadow: none;\n",
              "  }\n",
              "\n",
              "  .colab-df-spinner {\n",
              "    border: 2px solid var(--fill-color);\n",
              "    border-color: transparent;\n",
              "    border-bottom-color: var(--fill-color);\n",
              "    animation:\n",
              "      spin 1s steps(1) infinite;\n",
              "  }\n",
              "\n",
              "  @keyframes spin {\n",
              "    0% {\n",
              "      border-color: transparent;\n",
              "      border-bottom-color: var(--fill-color);\n",
              "      border-left-color: var(--fill-color);\n",
              "    }\n",
              "    20% {\n",
              "      border-color: transparent;\n",
              "      border-left-color: var(--fill-color);\n",
              "      border-top-color: var(--fill-color);\n",
              "    }\n",
              "    30% {\n",
              "      border-color: transparent;\n",
              "      border-left-color: var(--fill-color);\n",
              "      border-top-color: var(--fill-color);\n",
              "      border-right-color: var(--fill-color);\n",
              "    }\n",
              "    40% {\n",
              "      border-color: transparent;\n",
              "      border-right-color: var(--fill-color);\n",
              "      border-top-color: var(--fill-color);\n",
              "    }\n",
              "    60% {\n",
              "      border-color: transparent;\n",
              "      border-right-color: var(--fill-color);\n",
              "    }\n",
              "    80% {\n",
              "      border-color: transparent;\n",
              "      border-right-color: var(--fill-color);\n",
              "      border-bottom-color: var(--fill-color);\n",
              "    }\n",
              "    90% {\n",
              "      border-color: transparent;\n",
              "      border-bottom-color: var(--fill-color);\n",
              "    }\n",
              "  }\n",
              "</style>\n",
              "\n",
              "  <script>\n",
              "    async function quickchart(key) {\n",
              "      const quickchartButtonEl =\n",
              "        document.querySelector('#' + key + ' button');\n",
              "      quickchartButtonEl.disabled = true;  // To prevent multiple clicks.\n",
              "      quickchartButtonEl.classList.add('colab-df-spinner');\n",
              "      try {\n",
              "        const charts = await google.colab.kernel.invokeFunction(\n",
              "            'suggestCharts', [key], {});\n",
              "      } catch (error) {\n",
              "        console.error('Error during call to suggestCharts:', error);\n",
              "      }\n",
              "      quickchartButtonEl.classList.remove('colab-df-spinner');\n",
              "      quickchartButtonEl.classList.add('colab-df-quickchart-complete');\n",
              "    }\n",
              "    (() => {\n",
              "      let quickchartButtonEl =\n",
              "        document.querySelector('#df-f0ce1caf-c0cb-49c3-9ade-c6334bce1074 button');\n",
              "      quickchartButtonEl.style.display =\n",
              "        google.colab.kernel.accessAllowed ? 'block' : 'none';\n",
              "    })();\n",
              "  </script>\n",
              "</div>\n",
              "\n",
              "    </div>\n",
              "  </div>\n"
            ],
            "application/vnd.google.colaboratory.intrinsic+json": {
              "type": "dataframe",
              "summary": "{\n  \"name\": \"df_alertas\",\n  \"rows\": 30,\n  \"fields\": [\n    {\n      \"column\": \"id\",\n      \"properties\": {\n        \"dtype\": \"string\",\n        \"num_unique_values\": 30,\n        \"samples\": [\n          \"5e6dd398023f1930ef4cf2ea\",\n          \"5e6dc05a023f1930eff8d3c2\",\n          \"5e6dbf72023f1930eff4d27e\"\n        ],\n        \"semantic_type\": \"\",\n        \"description\": \"\"\n      }\n    },\n    {\n      \"column\": \"event\",\n      \"properties\": {\n        \"dtype\": \"category\",\n        \"num_unique_values\": 11,\n        \"samples\": [\n          \"Coastal Flood Advisory\",\n          \"Flood Advisory\",\n          \"Tornado Warning\"\n        ],\n        \"semantic_type\": \"\",\n        \"description\": \"\"\n      }\n    },\n    {\n      \"column\": \"description\",\n      \"properties\": {\n        \"dtype\": \"string\",\n        \"num_unique_values\": 30,\n        \"samples\": [\n          \"AT 316 PM MDT DOPPLER RADAR WAS TRACKING A STRONG THUNDERSTORM 23\\nMILES WEST OF BROADUS MOVING NORTHEAST AT 15 MPH.\\n\\nNICKEL SIZE HAIL AND WINDS IN EXCESS OF 30 MPH WILL BE POSSIBLE WITH\\nTHIS STORM.\\n\\nLOCATIONS IMPACTED INCLUDE \\nBROADUS SONNETTE AND OLIVE.\",\n          \"At 552 PM CDT, Doppler radar was tracking a strong thunderstorm over\\nShenandoah, or over The Woodlands, moving northeast at 25 mph.\\n\\nHalf inch hail and winds in excess of 40 mph will be possible with\\nthis storm.\\n\\nLocations impacted include \\nSoutheastern Conroe, Cleveland, The Woodlands, Spring, Oak Ridge\\nNorth, Shenandoah, Splendora, Patton Village, Woodbranch, Cut And\\nShoot, North Cleveland, Woodloch, The Woodlands Pavillion, Chateau\\nWoods, Splashtown, Porter Heights and Tarkington Prairie.\\n\",\n          \"At 216 PM EDT/116 PM CDT/, severe thunderstorms were located along a\\nline extending from 11 miles southwest of Greensburg to 6 miles\\nnortheast of Columbia, moving east at 20 mph.\\n\\nHAZARD 60 mph wind gusts.\\n\\nSOURCE Radar indicated.\\n\\nIMPACT Expect damage to roofs, siding, and trees.\\n\\nLocations impacted include \\nCampbellsville, Greensburg, Absher, Arista, Fry, South\\nCampbellsville, Romine, Exie, Pierce and Mannsville.\\n\"\n        ],\n        \"semantic_type\": \"\",\n        \"description\": \"\"\n      }\n    },\n    {\n      \"column\": \"instruction\",\n      \"properties\": {\n        \"dtype\": \"string\",\n        \"num_unique_values\": 28,\n        \"samples\": [\n          \"for your protection move to an interior room on the lowest floor of a building\",\n          \"mariners can expect gusty winds to around thirty knots locally higher waves and lightning strikes boaters should seek safe harbor immediately until this storm passes  \",\n          \"a coastal flood advisory means that minor tidal flooding is expected minor tidal flooding often results in some road closures usually the most vulnerable roadways will flood  do not leave your vehicle at a location that is prone to tidal flooding do not drive your vehicle through flood waters the water may be deeper than you think it is you will be putting yourself in danger and your vehicle may be damaged leading to costly repairs  visit the advanced hydrologic prediction service at waterweathergovahps for additional water level and flood impact information for your local tide gauge\"\n        ],\n        \"semantic_type\": \"\",\n        \"description\": \"\"\n      }\n    },\n    {\n      \"column\": \"urgency\",\n      \"properties\": {\n        \"dtype\": \"category\",\n        \"num_unique_values\": 3,\n        \"samples\": [\n          \"Expected\",\n          \"Immediate\",\n          \"Future\"\n        ],\n        \"semantic_type\": \"\",\n        \"description\": \"\"\n      }\n    },\n    {\n      \"column\": \"severity\",\n      \"properties\": {\n        \"dtype\": \"category\",\n        \"num_unique_values\": 4,\n        \"samples\": [\n          \"Severe\",\n          \"Extreme\",\n          \"Minor\"\n        ],\n        \"semantic_type\": \"\",\n        \"description\": \"\"\n      }\n    }\n  ]\n}"
            }
          },
          "metadata": {},
          "execution_count": 17
        }
      ]
    },
    {
      "cell_type": "markdown",
      "source": [
        "Instalamos paquete para tareas de tokenización."
      ],
      "metadata": {
        "id": "uRCMy5Q7S2oM"
      }
    },
    {
      "cell_type": "code",
      "source": [
        "!pip install nltk"
      ],
      "metadata": {
        "id": "v39yBTxiHvF8",
        "outputId": "5b9e3c36-e16e-416c-8d53-aeabc30ac73a",
        "colab": {
          "base_uri": "https://localhost:8080/"
        }
      },
      "execution_count": 18,
      "outputs": [
        {
          "output_type": "stream",
          "name": "stdout",
          "text": [
            "Requirement already satisfied: nltk in /usr/local/lib/python3.10/dist-packages (3.8.1)\n",
            "Requirement already satisfied: click in /usr/local/lib/python3.10/dist-packages (from nltk) (8.1.7)\n",
            "Requirement already satisfied: joblib in /usr/local/lib/python3.10/dist-packages (from nltk) (1.4.2)\n",
            "Requirement already satisfied: regex>=2021.8.3 in /usr/local/lib/python3.10/dist-packages (from nltk) (2024.5.15)\n",
            "Requirement already satisfied: tqdm in /usr/local/lib/python3.10/dist-packages (from nltk) (4.66.4)\n"
          ]
        }
      ]
    },
    {
      "cell_type": "code",
      "source": [
        "import nltk"
      ],
      "metadata": {
        "id": "HilMBEhcH8tJ"
      },
      "execution_count": 19,
      "outputs": []
    },
    {
      "cell_type": "code",
      "source": [
        "nltk.download('punkt')"
      ],
      "metadata": {
        "id": "QEZBuNiYIEaN",
        "outputId": "385d6368-992b-448b-c1fa-41941ebae2fa",
        "colab": {
          "base_uri": "https://localhost:8080/"
        }
      },
      "execution_count": 20,
      "outputs": [
        {
          "output_type": "stream",
          "name": "stderr",
          "text": [
            "[nltk_data] Downloading package punkt to /root/nltk_data...\n",
            "[nltk_data]   Unzipping tokenizers/punkt.zip.\n"
          ]
        },
        {
          "output_type": "execute_result",
          "data": {
            "text/plain": [
              "True"
            ]
          },
          "metadata": {},
          "execution_count": 20
        }
      ]
    },
    {
      "cell_type": "markdown",
      "source": [
        "Se hace este proceso en lotes ya que es un extenso el dataset\n"
      ],
      "metadata": {
        "id": "10l_Yj59IIcF"
      }
    },
    {
      "cell_type": "code",
      "source": [
        "def tokenizador(texts, batch_size=100):\n",
        "    tokenized_texts = []\n",
        "    for i in range(0, len(texts), batch_size):\n",
        "        batch = texts[i:i+batch_size]\n",
        "        tokenized_batch = [nltk.word_tokenize(str(text)) for text in batch]\n",
        "        tokenized_texts.extend(tokenized_batch)\n",
        "    return tokenized_texts"
      ],
      "metadata": {
        "id": "LLH-crOvILFB"
      },
      "execution_count": 21,
      "outputs": []
    },
    {
      "cell_type": "markdown",
      "source": [
        "Tomamos una lista de texto de la columna \"instruction\" y los dividimos en lotes para procesarlos mediante tokenización (división en palabras).\n"
      ],
      "metadata": {
        "id": "pKoL5248IhZ2"
      }
    },
    {
      "cell_type": "code",
      "source": [
        "batch_size = 1000\n",
        "df_alertas['instruction_token'] = tokenizador(df_alertas['instruction'], batch_size)"
      ],
      "metadata": {
        "id": "f6He6bDxIkqH"
      },
      "execution_count": 22,
      "outputs": []
    },
    {
      "cell_type": "markdown",
      "source": [
        "Tomamos un texto ejemplo sin tokenizar."
      ],
      "metadata": {
        "id": "KgWLAbAkaz_M"
      }
    },
    {
      "cell_type": "code",
      "source": [
        "df_alertas['instruction'].iloc[142406] # Probamos esa fila"
      ],
      "metadata": {
        "id": "cWUSEdjXZ-Wg",
        "outputId": "c64fb5db-1fad-4650-a39a-87ddec6a6282",
        "colab": {
          "base_uri": "https://localhost:8080/",
          "height": 35
        }
      },
      "execution_count": 23,
      "outputs": [
        {
          "output_type": "execute_result",
          "data": {
            "text/plain": [
              "'use extra caution when driving especially if operating a high profile vehicle secure outdoor objects'"
            ],
            "application/vnd.google.colaboratory.intrinsic+json": {
              "type": "string"
            }
          },
          "metadata": {},
          "execution_count": 23
        }
      ]
    },
    {
      "cell_type": "markdown",
      "source": [
        "Tomamos el mismo texto tokenizado."
      ],
      "metadata": {
        "id": "bQqh3NJRbAjX"
      }
    },
    {
      "cell_type": "code",
      "source": [
        "df_alertas['instruction_token'].iloc[142406]"
      ],
      "metadata": {
        "id": "iiNkSbINaMmW",
        "outputId": "3be4a5ac-ceb8-449f-b898-7d83746805fa",
        "colab": {
          "base_uri": "https://localhost:8080/"
        }
      },
      "execution_count": 24,
      "outputs": [
        {
          "output_type": "execute_result",
          "data": {
            "text/plain": [
              "['use',\n",
              " 'extra',\n",
              " 'caution',\n",
              " 'when',\n",
              " 'driving',\n",
              " 'especially',\n",
              " 'if',\n",
              " 'operating',\n",
              " 'a',\n",
              " 'high',\n",
              " 'profile',\n",
              " 'vehicle',\n",
              " 'secure',\n",
              " 'outdoor',\n",
              " 'objects']"
            ]
          },
          "metadata": {},
          "execution_count": 24
        }
      ]
    },
    {
      "cell_type": "markdown",
      "source": [
        "Ahora las se elimina las stop words (palabras que no aportan mucho significado semántico."
      ],
      "metadata": {
        "id": "lMK9ifOPA3hR"
      }
    },
    {
      "cell_type": "code",
      "source": [
        "# Instalamos modelo para el procesamiento de texto en inglés.\n",
        "!pip install spacy\n",
        "!python -m spacy download en_core_web_sm"
      ],
      "metadata": {
        "id": "1fTRDhpgA5SU",
        "outputId": "cdc5270d-e0cf-41a3-eff7-f4c9d53d32ff",
        "colab": {
          "base_uri": "https://localhost:8080/"
        }
      },
      "execution_count": 25,
      "outputs": [
        {
          "output_type": "stream",
          "name": "stdout",
          "text": [
            "Requirement already satisfied: spacy in /usr/local/lib/python3.10/dist-packages (3.7.4)\n",
            "Requirement already satisfied: spacy-legacy<3.1.0,>=3.0.11 in /usr/local/lib/python3.10/dist-packages (from spacy) (3.0.12)\n",
            "Requirement already satisfied: spacy-loggers<2.0.0,>=1.0.0 in /usr/local/lib/python3.10/dist-packages (from spacy) (1.0.5)\n",
            "Requirement already satisfied: murmurhash<1.1.0,>=0.28.0 in /usr/local/lib/python3.10/dist-packages (from spacy) (1.0.10)\n",
            "Requirement already satisfied: cymem<2.1.0,>=2.0.2 in /usr/local/lib/python3.10/dist-packages (from spacy) (2.0.8)\n",
            "Requirement already satisfied: preshed<3.1.0,>=3.0.2 in /usr/local/lib/python3.10/dist-packages (from spacy) (3.0.9)\n",
            "Requirement already satisfied: thinc<8.3.0,>=8.2.2 in /usr/local/lib/python3.10/dist-packages (from spacy) (8.2.3)\n",
            "Requirement already satisfied: wasabi<1.2.0,>=0.9.1 in /usr/local/lib/python3.10/dist-packages (from spacy) (1.1.2)\n",
            "Requirement already satisfied: srsly<3.0.0,>=2.4.3 in /usr/local/lib/python3.10/dist-packages (from spacy) (2.4.8)\n",
            "Requirement already satisfied: catalogue<2.1.0,>=2.0.6 in /usr/local/lib/python3.10/dist-packages (from spacy) (2.0.10)\n",
            "Requirement already satisfied: weasel<0.4.0,>=0.1.0 in /usr/local/lib/python3.10/dist-packages (from spacy) (0.3.4)\n",
            "Requirement already satisfied: typer<0.10.0,>=0.3.0 in /usr/local/lib/python3.10/dist-packages (from spacy) (0.9.4)\n",
            "Requirement already satisfied: smart-open<7.0.0,>=5.2.1 in /usr/local/lib/python3.10/dist-packages (from spacy) (6.4.0)\n",
            "Requirement already satisfied: tqdm<5.0.0,>=4.38.0 in /usr/local/lib/python3.10/dist-packages (from spacy) (4.66.4)\n",
            "Requirement already satisfied: requests<3.0.0,>=2.13.0 in /usr/local/lib/python3.10/dist-packages (from spacy) (2.31.0)\n",
            "Requirement already satisfied: pydantic!=1.8,!=1.8.1,<3.0.0,>=1.7.4 in /usr/local/lib/python3.10/dist-packages (from spacy) (2.7.1)\n",
            "Requirement already satisfied: jinja2 in /usr/local/lib/python3.10/dist-packages (from spacy) (3.1.4)\n",
            "Requirement already satisfied: setuptools in /usr/local/lib/python3.10/dist-packages (from spacy) (67.7.2)\n",
            "Requirement already satisfied: packaging>=20.0 in /usr/local/lib/python3.10/dist-packages (from spacy) (24.0)\n",
            "Requirement already satisfied: langcodes<4.0.0,>=3.2.0 in /usr/local/lib/python3.10/dist-packages (from spacy) (3.4.0)\n",
            "Requirement already satisfied: numpy>=1.19.0 in /usr/local/lib/python3.10/dist-packages (from spacy) (1.25.2)\n",
            "Requirement already satisfied: language-data>=1.2 in /usr/local/lib/python3.10/dist-packages (from langcodes<4.0.0,>=3.2.0->spacy) (1.2.0)\n",
            "Requirement already satisfied: annotated-types>=0.4.0 in /usr/local/lib/python3.10/dist-packages (from pydantic!=1.8,!=1.8.1,<3.0.0,>=1.7.4->spacy) (0.7.0)\n",
            "Requirement already satisfied: pydantic-core==2.18.2 in /usr/local/lib/python3.10/dist-packages (from pydantic!=1.8,!=1.8.1,<3.0.0,>=1.7.4->spacy) (2.18.2)\n",
            "Requirement already satisfied: typing-extensions>=4.6.1 in /usr/local/lib/python3.10/dist-packages (from pydantic!=1.8,!=1.8.1,<3.0.0,>=1.7.4->spacy) (4.11.0)\n",
            "Requirement already satisfied: charset-normalizer<4,>=2 in /usr/local/lib/python3.10/dist-packages (from requests<3.0.0,>=2.13.0->spacy) (3.3.2)\n",
            "Requirement already satisfied: idna<4,>=2.5 in /usr/local/lib/python3.10/dist-packages (from requests<3.0.0,>=2.13.0->spacy) (3.7)\n",
            "Requirement already satisfied: urllib3<3,>=1.21.1 in /usr/local/lib/python3.10/dist-packages (from requests<3.0.0,>=2.13.0->spacy) (2.0.7)\n",
            "Requirement already satisfied: certifi>=2017.4.17 in /usr/local/lib/python3.10/dist-packages (from requests<3.0.0,>=2.13.0->spacy) (2024.2.2)\n",
            "Requirement already satisfied: blis<0.8.0,>=0.7.8 in /usr/local/lib/python3.10/dist-packages (from thinc<8.3.0,>=8.2.2->spacy) (0.7.11)\n",
            "Requirement already satisfied: confection<1.0.0,>=0.0.1 in /usr/local/lib/python3.10/dist-packages (from thinc<8.3.0,>=8.2.2->spacy) (0.1.4)\n",
            "Requirement already satisfied: click<9.0.0,>=7.1.1 in /usr/local/lib/python3.10/dist-packages (from typer<0.10.0,>=0.3.0->spacy) (8.1.7)\n",
            "Requirement already satisfied: cloudpathlib<0.17.0,>=0.7.0 in /usr/local/lib/python3.10/dist-packages (from weasel<0.4.0,>=0.1.0->spacy) (0.16.0)\n",
            "Requirement already satisfied: MarkupSafe>=2.0 in /usr/local/lib/python3.10/dist-packages (from jinja2->spacy) (2.1.5)\n",
            "Requirement already satisfied: marisa-trie>=0.7.7 in /usr/local/lib/python3.10/dist-packages (from language-data>=1.2->langcodes<4.0.0,>=3.2.0->spacy) (1.1.1)\n",
            "Collecting en-core-web-sm==3.7.1\n",
            "  Downloading https://github.com/explosion/spacy-models/releases/download/en_core_web_sm-3.7.1/en_core_web_sm-3.7.1-py3-none-any.whl (12.8 MB)\n",
            "\u001b[2K     \u001b[90m━━━━━━━━━━━━━━━━━━━━━━━━━━━━━━━━━━━━━━━━\u001b[0m \u001b[32m12.8/12.8 MB\u001b[0m \u001b[31m46.7 MB/s\u001b[0m eta \u001b[36m0:00:00\u001b[0m\n",
            "\u001b[?25hRequirement already satisfied: spacy<3.8.0,>=3.7.2 in /usr/local/lib/python3.10/dist-packages (from en-core-web-sm==3.7.1) (3.7.4)\n",
            "Requirement already satisfied: spacy-legacy<3.1.0,>=3.0.11 in /usr/local/lib/python3.10/dist-packages (from spacy<3.8.0,>=3.7.2->en-core-web-sm==3.7.1) (3.0.12)\n",
            "Requirement already satisfied: spacy-loggers<2.0.0,>=1.0.0 in /usr/local/lib/python3.10/dist-packages (from spacy<3.8.0,>=3.7.2->en-core-web-sm==3.7.1) (1.0.5)\n",
            "Requirement already satisfied: murmurhash<1.1.0,>=0.28.0 in /usr/local/lib/python3.10/dist-packages (from spacy<3.8.0,>=3.7.2->en-core-web-sm==3.7.1) (1.0.10)\n",
            "Requirement already satisfied: cymem<2.1.0,>=2.0.2 in /usr/local/lib/python3.10/dist-packages (from spacy<3.8.0,>=3.7.2->en-core-web-sm==3.7.1) (2.0.8)\n",
            "Requirement already satisfied: preshed<3.1.0,>=3.0.2 in /usr/local/lib/python3.10/dist-packages (from spacy<3.8.0,>=3.7.2->en-core-web-sm==3.7.1) (3.0.9)\n",
            "Requirement already satisfied: thinc<8.3.0,>=8.2.2 in /usr/local/lib/python3.10/dist-packages (from spacy<3.8.0,>=3.7.2->en-core-web-sm==3.7.1) (8.2.3)\n",
            "Requirement already satisfied: wasabi<1.2.0,>=0.9.1 in /usr/local/lib/python3.10/dist-packages (from spacy<3.8.0,>=3.7.2->en-core-web-sm==3.7.1) (1.1.2)\n",
            "Requirement already satisfied: srsly<3.0.0,>=2.4.3 in /usr/local/lib/python3.10/dist-packages (from spacy<3.8.0,>=3.7.2->en-core-web-sm==3.7.1) (2.4.8)\n",
            "Requirement already satisfied: catalogue<2.1.0,>=2.0.6 in /usr/local/lib/python3.10/dist-packages (from spacy<3.8.0,>=3.7.2->en-core-web-sm==3.7.1) (2.0.10)\n",
            "Requirement already satisfied: weasel<0.4.0,>=0.1.0 in /usr/local/lib/python3.10/dist-packages (from spacy<3.8.0,>=3.7.2->en-core-web-sm==3.7.1) (0.3.4)\n",
            "Requirement already satisfied: typer<0.10.0,>=0.3.0 in /usr/local/lib/python3.10/dist-packages (from spacy<3.8.0,>=3.7.2->en-core-web-sm==3.7.1) (0.9.4)\n",
            "Requirement already satisfied: smart-open<7.0.0,>=5.2.1 in /usr/local/lib/python3.10/dist-packages (from spacy<3.8.0,>=3.7.2->en-core-web-sm==3.7.1) (6.4.0)\n",
            "Requirement already satisfied: tqdm<5.0.0,>=4.38.0 in /usr/local/lib/python3.10/dist-packages (from spacy<3.8.0,>=3.7.2->en-core-web-sm==3.7.1) (4.66.4)\n",
            "Requirement already satisfied: requests<3.0.0,>=2.13.0 in /usr/local/lib/python3.10/dist-packages (from spacy<3.8.0,>=3.7.2->en-core-web-sm==3.7.1) (2.31.0)\n",
            "Requirement already satisfied: pydantic!=1.8,!=1.8.1,<3.0.0,>=1.7.4 in /usr/local/lib/python3.10/dist-packages (from spacy<3.8.0,>=3.7.2->en-core-web-sm==3.7.1) (2.7.1)\n",
            "Requirement already satisfied: jinja2 in /usr/local/lib/python3.10/dist-packages (from spacy<3.8.0,>=3.7.2->en-core-web-sm==3.7.1) (3.1.4)\n",
            "Requirement already satisfied: setuptools in /usr/local/lib/python3.10/dist-packages (from spacy<3.8.0,>=3.7.2->en-core-web-sm==3.7.1) (67.7.2)\n",
            "Requirement already satisfied: packaging>=20.0 in /usr/local/lib/python3.10/dist-packages (from spacy<3.8.0,>=3.7.2->en-core-web-sm==3.7.1) (24.0)\n",
            "Requirement already satisfied: langcodes<4.0.0,>=3.2.0 in /usr/local/lib/python3.10/dist-packages (from spacy<3.8.0,>=3.7.2->en-core-web-sm==3.7.1) (3.4.0)\n",
            "Requirement already satisfied: numpy>=1.19.0 in /usr/local/lib/python3.10/dist-packages (from spacy<3.8.0,>=3.7.2->en-core-web-sm==3.7.1) (1.25.2)\n",
            "Requirement already satisfied: language-data>=1.2 in /usr/local/lib/python3.10/dist-packages (from langcodes<4.0.0,>=3.2.0->spacy<3.8.0,>=3.7.2->en-core-web-sm==3.7.1) (1.2.0)\n",
            "Requirement already satisfied: annotated-types>=0.4.0 in /usr/local/lib/python3.10/dist-packages (from pydantic!=1.8,!=1.8.1,<3.0.0,>=1.7.4->spacy<3.8.0,>=3.7.2->en-core-web-sm==3.7.1) (0.7.0)\n",
            "Requirement already satisfied: pydantic-core==2.18.2 in /usr/local/lib/python3.10/dist-packages (from pydantic!=1.8,!=1.8.1,<3.0.0,>=1.7.4->spacy<3.8.0,>=3.7.2->en-core-web-sm==3.7.1) (2.18.2)\n",
            "Requirement already satisfied: typing-extensions>=4.6.1 in /usr/local/lib/python3.10/dist-packages (from pydantic!=1.8,!=1.8.1,<3.0.0,>=1.7.4->spacy<3.8.0,>=3.7.2->en-core-web-sm==3.7.1) (4.11.0)\n",
            "Requirement already satisfied: charset-normalizer<4,>=2 in /usr/local/lib/python3.10/dist-packages (from requests<3.0.0,>=2.13.0->spacy<3.8.0,>=3.7.2->en-core-web-sm==3.7.1) (3.3.2)\n",
            "Requirement already satisfied: idna<4,>=2.5 in /usr/local/lib/python3.10/dist-packages (from requests<3.0.0,>=2.13.0->spacy<3.8.0,>=3.7.2->en-core-web-sm==3.7.1) (3.7)\n",
            "Requirement already satisfied: urllib3<3,>=1.21.1 in /usr/local/lib/python3.10/dist-packages (from requests<3.0.0,>=2.13.0->spacy<3.8.0,>=3.7.2->en-core-web-sm==3.7.1) (2.0.7)\n",
            "Requirement already satisfied: certifi>=2017.4.17 in /usr/local/lib/python3.10/dist-packages (from requests<3.0.0,>=2.13.0->spacy<3.8.0,>=3.7.2->en-core-web-sm==3.7.1) (2024.2.2)\n",
            "Requirement already satisfied: blis<0.8.0,>=0.7.8 in /usr/local/lib/python3.10/dist-packages (from thinc<8.3.0,>=8.2.2->spacy<3.8.0,>=3.7.2->en-core-web-sm==3.7.1) (0.7.11)\n",
            "Requirement already satisfied: confection<1.0.0,>=0.0.1 in /usr/local/lib/python3.10/dist-packages (from thinc<8.3.0,>=8.2.2->spacy<3.8.0,>=3.7.2->en-core-web-sm==3.7.1) (0.1.4)\n",
            "Requirement already satisfied: click<9.0.0,>=7.1.1 in /usr/local/lib/python3.10/dist-packages (from typer<0.10.0,>=0.3.0->spacy<3.8.0,>=3.7.2->en-core-web-sm==3.7.1) (8.1.7)\n",
            "Requirement already satisfied: cloudpathlib<0.17.0,>=0.7.0 in /usr/local/lib/python3.10/dist-packages (from weasel<0.4.0,>=0.1.0->spacy<3.8.0,>=3.7.2->en-core-web-sm==3.7.1) (0.16.0)\n",
            "Requirement already satisfied: MarkupSafe>=2.0 in /usr/local/lib/python3.10/dist-packages (from jinja2->spacy<3.8.0,>=3.7.2->en-core-web-sm==3.7.1) (2.1.5)\n",
            "Requirement already satisfied: marisa-trie>=0.7.7 in /usr/local/lib/python3.10/dist-packages (from language-data>=1.2->langcodes<4.0.0,>=3.2.0->spacy<3.8.0,>=3.7.2->en-core-web-sm==3.7.1) (1.1.1)\n",
            "\u001b[38;5;2m✔ Download and installation successful\u001b[0m\n",
            "You can now load the package via spacy.load('en_core_web_sm')\n",
            "\u001b[38;5;3m⚠ Restart to reload dependencies\u001b[0m\n",
            "If you are in a Jupyter or Colab notebook, you may need to restart Python in\n",
            "order to load all the package's dependencies. You can do this by selecting the\n",
            "'Restart kernel' or 'Restart runtime' option.\n"
          ]
        }
      ]
    },
    {
      "cell_type": "code",
      "source": [
        "from nltk.corpus import stopwords\n",
        "import spacy"
      ],
      "metadata": {
        "id": "6FSQVRUxebHr"
      },
      "execution_count": 26,
      "outputs": []
    },
    {
      "cell_type": "code",
      "source": [
        "nltk.download('stopwords')"
      ],
      "metadata": {
        "id": "ucs4iD2gelBJ",
        "outputId": "28e0fe39-c209-4df2-c8a2-aa48078885fb",
        "colab": {
          "base_uri": "https://localhost:8080/"
        }
      },
      "execution_count": 27,
      "outputs": [
        {
          "output_type": "stream",
          "name": "stderr",
          "text": [
            "[nltk_data] Downloading package stopwords to /root/nltk_data...\n",
            "[nltk_data]   Unzipping corpora/stopwords.zip.\n"
          ]
        },
        {
          "output_type": "execute_result",
          "data": {
            "text/plain": [
              "True"
            ]
          },
          "metadata": {},
          "execution_count": 27
        }
      ]
    },
    {
      "cell_type": "code",
      "source": [
        "nlp = spacy.load('en_core_web_sm')\n",
        "# Configura stop words en inglés\n",
        "stop_words = set(stopwords.words('english'))\n",
        "# Función para eliminar stop words de una lista de tokens\n",
        "def remove_stop_words(tokens):\n",
        "    return [word for word in tokens if word.lower() not in stop_words]"
      ],
      "metadata": {
        "id": "Oi8E0MjveuwR"
      },
      "execution_count": 28,
      "outputs": []
    },
    {
      "cell_type": "code",
      "source": [
        "df_alertas['instruction_no_stopwords'] = df_alertas['instruction_token'].apply(lambda x: remove_stop_words(x))"
      ],
      "metadata": {
        "id": "Mex_5uc7fHRj"
      },
      "execution_count": 29,
      "outputs": []
    },
    {
      "cell_type": "markdown",
      "source": [
        "Verificamos la eliminación de las stopword de una línea ejemplo."
      ],
      "metadata": {
        "id": "lKZVnLBchzXz"
      }
    },
    {
      "cell_type": "code",
      "source": [
        "df_alertas['instruction_token'].iloc[142406]"
      ],
      "metadata": {
        "id": "ya3BfsVIhQ-4",
        "outputId": "34987969-8607-4276-b772-4d8d72990922",
        "colab": {
          "base_uri": "https://localhost:8080/"
        }
      },
      "execution_count": 30,
      "outputs": [
        {
          "output_type": "execute_result",
          "data": {
            "text/plain": [
              "['use',\n",
              " 'extra',\n",
              " 'caution',\n",
              " 'when',\n",
              " 'driving',\n",
              " 'especially',\n",
              " 'if',\n",
              " 'operating',\n",
              " 'a',\n",
              " 'high',\n",
              " 'profile',\n",
              " 'vehicle',\n",
              " 'secure',\n",
              " 'outdoor',\n",
              " 'objects']"
            ]
          },
          "metadata": {},
          "execution_count": 30
        }
      ]
    },
    {
      "cell_type": "markdown",
      "source": [
        "Linea con la eliminación de las stopwords en la linea ejemplo."
      ],
      "metadata": {
        "id": "rOVufZmdiJFe"
      }
    },
    {
      "cell_type": "code",
      "source": [
        "df_alertas['instruction_no_stopwords'].iloc[142406]"
      ],
      "metadata": {
        "id": "U5tMcOXmhbMT",
        "outputId": "400f5fab-6c5d-46d6-c6fa-0c2a618ee5f5",
        "colab": {
          "base_uri": "https://localhost:8080/"
        }
      },
      "execution_count": 31,
      "outputs": [
        {
          "output_type": "execute_result",
          "data": {
            "text/plain": [
              "['use',\n",
              " 'extra',\n",
              " 'caution',\n",
              " 'driving',\n",
              " 'especially',\n",
              " 'operating',\n",
              " 'high',\n",
              " 'profile',\n",
              " 'vehicle',\n",
              " 'secure',\n",
              " 'outdoor',\n",
              " 'objects']"
            ]
          },
          "metadata": {},
          "execution_count": 31
        }
      ]
    },
    {
      "cell_type": "markdown",
      "source": [
        "Aplicamos la Lemantizacion que permite transformar palabras a su forma base, por volumen de datos lo hacemos por lotes."
      ],
      "metadata": {
        "id": "17aZTvcrjPeM"
      }
    },
    {
      "cell_type": "code",
      "source": [
        "# Definir función para lematizar una lista de listas de tokens\n",
        "def lemmatize_batch(tokens_list, batch_size=1000):\n",
        "    # Procesar los textos en lotes utilizando SpaCy\n",
        "    for i in range(0, len(tokens_list), batch_size):\n",
        "        batch_tokens = tokens_list[i:i+batch_size]\n",
        "        processed_texts = nlp.pipe([' '.join(tokens) for tokens in batch_tokens], disable=[\"parser\", \"ner\"])\n",
        "        # Extraer lemas de cada documento procesado\n",
        "        lemmatized_texts = [[' '.join(token.lemma_ for token in doc)] for doc in processed_texts]\n",
        "        yield from lemmatized_texts"
      ],
      "metadata": {
        "id": "hHejO9WsCUMb"
      },
      "execution_count": 32,
      "outputs": []
    },
    {
      "cell_type": "markdown",
      "source": [
        "Obtenemos la columna 'instruction_no_stopwords' como una lista de listas de tokens."
      ],
      "metadata": {
        "id": "soS5CKN6TY-m"
      }
    },
    {
      "cell_type": "code",
      "source": [
        "tokens_list = df_alertas['instruction_no_stopwords'].tolist()"
      ],
      "metadata": {
        "id": "VtwAYBFRCfpo"
      },
      "execution_count": 33,
      "outputs": []
    },
    {
      "cell_type": "markdown",
      "source": [
        "Obtenemos todos los resultados de lematización en una lista."
      ],
      "metadata": {
        "id": "72VmU4FETjzd"
      }
    },
    {
      "cell_type": "code",
      "source": [
        "all_lemmatized_texts = [text for sublist in lemmatize_batch(tokens_list) for text in sublist]"
      ],
      "metadata": {
        "id": "X5XkADkJCk0D"
      },
      "execution_count": 34,
      "outputs": []
    },
    {
      "cell_type": "markdown",
      "source": [
        "Imprimimos algunos resultados lematizados para verificar."
      ],
      "metadata": {
        "id": "mDIQt9wjTr4V"
      }
    },
    {
      "cell_type": "code",
      "source": [
        "print(all_lemmatized_texts[:10])  # Mostrar los primeros 10 elementos para verificar"
      ],
      "metadata": {
        "id": "gGayOrz9Cnql",
        "outputId": "6c329aaa-b20d-4cf1-e357-26febd175c58",
        "colab": {
          "base_uri": "https://localhost:8080/"
        }
      },
      "execution_count": 35,
      "outputs": [
        {
          "output_type": "stream",
          "name": "stdout",
          "text": [
            "['frequent cloud ground lightning occur storm lightning strike ten mile away thunderstorm seek safe shelter inside building vehicle', 'safety message river flood warning mean river flooding expect impact people property warn area prepare flooding impact associate forecast river level location caution urge walk near riverbank late stage forecast river stream find web page httpswaterweathergov', 'flood advisory mean river stream flow elevated ponde water urban area occur imminent please report flood local law enforcement agency safely', 'flood watch mean potential flooding base current forecast monitor later forecast alert possible flood warning living area prone flooding prepared take action flooding develop', 'safety message motorist attempt drive around barricade drive car flood area stay tune development listen local radio television noaa weather radio station information additional weather river information find homepage wwwweathergovgrr', 'torrential rainfall also occur storm may lead localize flooding drive vehicle flood roadway', 'safety message never drive vehicle flood area water may deep allow safe passage never allow child play near flood water stay tune noaa weather radio local medium internet statement update forecast', 'safety message never drive vehicle flood area water may deep allow safe passage never allow child play near flood water stay tune noaa weather radio local medium internet statement update forecast', 'safety message never drive vehicle flood area water may deep allow safe passage never allow child play near flood water stay tune noaa weather radio local medium internet statement update forecast', 'safety message never drive vehicle flood area water may deep allow safe passage never allow child play near flood water stay tune noaa weather radio local medium internet statement update forecast']\n"
          ]
        }
      ]
    },
    {
      "cell_type": "markdown",
      "source": [
        "Guardamos en dataframe."
      ],
      "metadata": {
        "id": "DvoV3bCWT3Tl"
      }
    },
    {
      "cell_type": "code",
      "source": [
        "df_alertas['instruction_lemmatized'] = all_lemmatized_texts"
      ],
      "metadata": {
        "id": "JYOXkh-xNVfI"
      },
      "execution_count": 36,
      "outputs": []
    },
    {
      "cell_type": "markdown",
      "source": [
        "Mostramos algunas filas del DataFrame procesado."
      ],
      "metadata": {
        "id": "7sUbzUHaT-p6"
      }
    },
    {
      "cell_type": "code",
      "source": [
        "print(df_alertas[['instruction', 'instruction_no_stopwords', 'instruction_lemmatized']].head())\n"
      ],
      "metadata": {
        "id": "uZpgh-WqM3M9",
        "outputId": "16720756-30f7-4980-cdc3-693f2f276364",
        "colab": {
          "base_uri": "https://localhost:8080/"
        }
      },
      "execution_count": 37,
      "outputs": [
        {
          "output_type": "stream",
          "name": "stdout",
          "text": [
            "                                         instruction  \\\n",
            "0  frequent cloud to ground lightning is occurrin...   \n",
            "1  safety message a river flood warning means riv...   \n",
            "2  a flood advisory means river or stream flows a...   \n",
            "3  a flood watch means there is a potential for f...   \n",
            "4  safety message motorists should not attempt to...   \n",
            "\n",
            "                            instruction_no_stopwords  \\\n",
            "0  [frequent, cloud, ground, lightning, occurring...   \n",
            "1  [safety, message, river, flood, warning, means...   \n",
            "2  [flood, advisory, means, river, stream, flows,...   \n",
            "3  [flood, watch, means, potential, flooding, bas...   \n",
            "4  [safety, message, motorists, attempt, drive, a...   \n",
            "\n",
            "                              instruction_lemmatized  \n",
            "0  frequent cloud ground lightning occur storm li...  \n",
            "1  safety message river flood warning mean river ...  \n",
            "2  flood advisory mean river stream flow elevated...  \n",
            "3  flood watch mean potential flooding base curre...  \n",
            "4  safety message motorist attempt drive around b...  \n"
          ]
        }
      ]
    },
    {
      "cell_type": "markdown",
      "source": [
        "Volvemos a tokenizar para poder vectorizar."
      ],
      "metadata": {
        "id": "g8puKiVzgm_P"
      }
    },
    {
      "cell_type": "code",
      "source": [
        "batch_size = 1000\n",
        "df_alertas['instruction_token2'] = tokenizador(df_alertas['instruction_lemmatized'], batch_size)"
      ],
      "metadata": {
        "id": "iQWfv5spdeEs"
      },
      "execution_count": 38,
      "outputs": []
    },
    {
      "cell_type": "code",
      "source": [
        "df_alertas['instruction_token2']"
      ],
      "metadata": {
        "id": "k1tjhQKeeyyA",
        "outputId": "70d7a6eb-cfe7-4269-e057-9da863225761",
        "colab": {
          "base_uri": "https://localhost:8080/"
        }
      },
      "execution_count": 39,
      "outputs": [
        {
          "output_type": "execute_result",
          "data": {
            "text/plain": [
              "0         [frequent, cloud, ground, lightning, occur, st...\n",
              "1         [safety, message, river, flood, warning, mean,...\n",
              "2         [flood, advisory, mean, river, stream, flow, e...\n",
              "3         [flood, watch, mean, potential, flooding, base...\n",
              "4         [safety, message, motorist, attempt, drive, ar...\n",
              "                                ...                        \n",
              "748625    [winter, weather, advisory, mean, period, snow...\n",
              "748626    [blizzard, warning, mean, severe, winter, weat...\n",
              "748627    [precautionarypreparedness, action, safety, me...\n",
              "748628    [winter, weather, advisory, mean, period, free...\n",
              "748629    [protection, move, interior, room, low, floor,...\n",
              "Name: instruction_token2, Length: 748630, dtype: object"
            ]
          },
          "metadata": {},
          "execution_count": 39
        }
      ]
    },
    {
      "cell_type": "markdown",
      "source": [
        "Importamos librería para aplicar el modelo Word2Vec de Gensim."
      ],
      "metadata": {
        "id": "LXvBwPW4g2E4"
      }
    },
    {
      "cell_type": "code",
      "source": [
        "import string\n",
        "from gensim.models import Word2Vec"
      ],
      "metadata": {
        "id": "NgGqjYGLXQJ0"
      },
      "execution_count": 40,
      "outputs": []
    },
    {
      "cell_type": "markdown",
      "source": [
        "Entrenamiento del modelo Word2Vec"
      ],
      "metadata": {
        "id": "FmuFWe7pXdwi"
      }
    },
    {
      "cell_type": "code",
      "source": [
        "model = Word2Vec(sentences=df_alertas['instruction_token2'], vector_size=100, window=5, min_count=1, workers=2)"
      ],
      "metadata": {
        "id": "J7q5kW_SXao9"
      },
      "execution_count": 41,
      "outputs": []
    },
    {
      "cell_type": "markdown",
      "source": [
        "Tomamos el vector de una palabra al azar."
      ],
      "metadata": {
        "id": "j0x13WrzhOsU"
      }
    },
    {
      "cell_type": "code",
      "source": [
        "vector = model.wv['cloud']"
      ],
      "metadata": {
        "id": "B0aWuZO_bnke"
      },
      "execution_count": 42,
      "outputs": []
    },
    {
      "cell_type": "markdown",
      "source": [
        "Visualizamos vector."
      ],
      "metadata": {
        "id": "1RS6csfChfDz"
      }
    },
    {
      "cell_type": "code",
      "source": [
        "vector"
      ],
      "metadata": {
        "id": "xtgNIMDagapS",
        "outputId": "c51c6686-4fc8-4223-dd10-dd51dc5fe151",
        "colab": {
          "base_uri": "https://localhost:8080/"
        }
      },
      "execution_count": 43,
      "outputs": [
        {
          "output_type": "execute_result",
          "data": {
            "text/plain": [
              "array([  5.361329  ,  -0.68410575,  -0.41426176,   0.7016316 ,\n",
              "        -5.5581303 ,  10.414391  ,   1.9509616 ,   5.5309763 ,\n",
              "        -6.3583217 ,   2.032645  ,   6.891788  ,  -1.6200286 ,\n",
              "        -1.8458151 ,  -2.043091  ,   3.328212  ,   2.701217  ,\n",
              "         1.776736  ,  -1.8771578 ,   3.8584166 ,   2.6354268 ,\n",
              "         2.6335986 ,   0.6746153 ,  -9.567423  ,   2.2469084 ,\n",
              "         5.3882313 ,   4.330748  ,  -1.5196055 ,  -0.5969245 ,\n",
              "         1.9864186 ,   7.658934  ,  -8.501581  ,   2.0525446 ,\n",
              "        -2.9081116 ,   5.9549727 ,   5.100427  ,  -3.2121723 ,\n",
              "        -2.6846488 ,  -3.0076604 ,  -1.3708556 ,  -3.9357207 ,\n",
              "         2.5080235 ,   9.395777  ,   1.5883026 , -12.617155  ,\n",
              "        -7.403059  ,   8.584631  ,  -0.0996723 ,   5.188797  ,\n",
              "        -1.6467664 ,  -6.2753572 ,   1.4882269 ,  -4.4304023 ,\n",
              "        -6.0061893 ,   8.130167  ,  -2.8136213 ,  -0.8993868 ,\n",
              "         3.7200453 ,  -7.8029466 ,   7.6599355 ,  -4.1500525 ,\n",
              "         4.201148  ,   4.453507  ,  -3.6347024 ,   5.6694355 ,\n",
              "        -4.1201515 ,  -8.398317  ,  -0.10958928,   6.736364  ,\n",
              "         7.4411526 ,   5.198124  ,   1.2769464 ,   4.81937   ,\n",
              "         5.6634727 ,  -0.6947276 ,   0.11353853,   5.7868605 ,\n",
              "         2.5387053 ,   4.1383185 ,  -3.2363563 ,  -1.7926615 ,\n",
              "        -0.2501202 ,   1.9032173 ,   5.532414  ,   2.168966  ,\n",
              "         1.5157458 ,  -0.27789077,  -1.5378605 ,  -0.95303655,\n",
              "        -2.778743  ,  -8.5158825 ,   0.6716754 ,  -0.92656904,\n",
              "        -0.7727176 ,   2.0858953 ,   4.356682  ,  -9.0498705 ,\n",
              "        10.111428  ,   4.038742  ,   5.12129   ,   3.238199  ],\n",
              "      dtype=float32)"
            ]
          },
          "metadata": {},
          "execution_count": 43
        }
      ]
    },
    {
      "cell_type": "markdown",
      "source": [
        "Vectorizamos todas las instrucciones."
      ],
      "metadata": {
        "id": "C7bjYnM8Bcv3"
      }
    },
    {
      "cell_type": "code",
      "source": [
        "import numpy as np"
      ],
      "metadata": {
        "id": "hdTQhyL_54Ae"
      },
      "execution_count": 44,
      "outputs": []
    },
    {
      "cell_type": "code",
      "source": [
        "def vectorize_instruction(tokens, model):\n",
        "    valid_tokens = [token for token in tokens if token in model.wv]\n",
        "    if not valid_tokens:\n",
        "        return np.zeros(model.vector_size)\n",
        "    return np.mean([model.wv[token] for token in valid_tokens], axis=0)"
      ],
      "metadata": {
        "id": "AKWhKY0e6qnY"
      },
      "execution_count": 57,
      "outputs": []
    },
    {
      "cell_type": "code",
      "source": [
        "df_alertas['vectorized_instruction'] = df_alertas['instruction_token2'].apply(lambda tokens: vectorize_instruction(tokens, model))"
      ],
      "metadata": {
        "id": "xRSCv30T6zPI"
      },
      "execution_count": 58,
      "outputs": []
    },
    {
      "cell_type": "markdown",
      "source": [
        "Convertimos el vector numpy a una lista para que sea serializable en CSV."
      ],
      "metadata": {
        "id": "Eg7wpc-LCmDD"
      }
    },
    {
      "cell_type": "code",
      "source": [
        "df_alertas['vectorized_instruction'] = df_alertas['vectorized_instruction'].apply(lambda vec: vec.tolist())"
      ],
      "metadata": {
        "id": "48IEf1Dz7sny"
      },
      "execution_count": 59,
      "outputs": []
    },
    {
      "cell_type": "markdown",
      "source": [
        "Especificamos una ruta en Google Drive para guardar el archivo CSV."
      ],
      "metadata": {
        "id": "9vYgj87HC2sy"
      }
    },
    {
      "cell_type": "code",
      "source": [
        "output_file_path = '/content/drive/My Drive/instrucciones_vectorizadas.csv'"
      ],
      "metadata": {
        "id": "XPISWDHr9IB1"
      },
      "execution_count": 60,
      "outputs": []
    },
    {
      "cell_type": "markdown",
      "source": [
        "Guardamos el DataFrame en un archivo CSV en la ruta especificada."
      ],
      "metadata": {
        "id": "lHQe8INYDAcm"
      }
    },
    {
      "cell_type": "code",
      "source": [
        "df_alertas.to_csv(output_file_path, index=False)"
      ],
      "metadata": {
        "id": "jAMSECCS9dDm"
      },
      "execution_count": 61,
      "outputs": []
    },
    {
      "cell_type": "code",
      "source": [
        "print(f\"Archivo guardado en: {output_file_path}\")"
      ],
      "metadata": {
        "id": "aIm63Sat9hdP",
        "outputId": "91d99130-4f77-4357-98df-74fe37ec26f0",
        "colab": {
          "base_uri": "https://localhost:8080/"
        }
      },
      "execution_count": 62,
      "outputs": [
        {
          "output_type": "stream",
          "name": "stdout",
          "text": [
            "Archivo guardado en: /content/drive/My Drive/instrucciones_vectorizadas.csv\n"
          ]
        }
      ]
    },
    {
      "cell_type": "markdown",
      "source": [
        "Cargamos el archivo CSV en un DataFrame."
      ],
      "metadata": {
        "id": "xIXpATl6DULH"
      }
    },
    {
      "cell_type": "code",
      "source": [
        "df_loaded = pd.read_csv(output_file_path)"
      ],
      "metadata": {
        "id": "_qTgAKKB-s5Q"
      },
      "execution_count": 63,
      "outputs": []
    },
    {
      "cell_type": "markdown",
      "source": [
        "Mostramos las primeras filas del DataFrame para verificar el contenido."
      ],
      "metadata": {
        "id": "5fVmDd0tDd1u"
      }
    },
    {
      "cell_type": "code",
      "source": [
        "print(df_loaded.head())"
      ],
      "metadata": {
        "id": "2rmhBSQc_zjc",
        "outputId": "09b9e3f4-c33e-4d6d-f006-8b41b26c4c62",
        "colab": {
          "base_uri": "https://localhost:8080/"
        }
      },
      "execution_count": 64,
      "outputs": [
        {
          "output_type": "stream",
          "name": "stdout",
          "text": [
            "                         id                      event  \\\n",
            "0  5ed3a4b2283336e2e7db3a1c  Special Weather Statement   \n",
            "1  5ed3a07c283336e2e7d2bfa4              Flood Warning   \n",
            "2  5ed39e54283336e2e7d22306             Flood Advisory   \n",
            "3  5ed39e11283336e2e7d15e23                Flood Watch   \n",
            "4  5ed3962c283336e2e7c1d935              Flood Warning   \n",
            "\n",
            "                                         description  \\\n",
            "0  At 630 AM MDT/530 AM PDT/, Doppler radar was t...   \n",
            "1   The National Weather Service in Billings MT h...   \n",
            "2  At 502 AM PDT, Gauge reports continue to indic...   \n",
            "3  The National Weather Service in Spokane has is...   \n",
            "4  The Flood Warning has been cancelled and is no...   \n",
            "\n",
            "                                         instruction   urgency  severity  \\\n",
            "0  frequent cloud to ground lightning is occurrin...  Expected  Moderate   \n",
            "1  safety message a river flood warning means riv...  Expected    Severe   \n",
            "2  a flood advisory means river or stream flows a...  Expected     Minor   \n",
            "3  a flood watch means there is a potential for f...    Future    Severe   \n",
            "4  safety message motorists should not attempt to...      Past     Minor   \n",
            "\n",
            "                                   instruction_token  \\\n",
            "0  ['frequent', 'cloud', 'to', 'ground', 'lightni...   \n",
            "1  ['safety', 'message', 'a', 'river', 'flood', '...   \n",
            "2  ['a', 'flood', 'advisory', 'means', 'river', '...   \n",
            "3  ['a', 'flood', 'watch', 'means', 'there', 'is'...   \n",
            "4  ['safety', 'message', 'motorists', 'should', '...   \n",
            "\n",
            "                            instruction_no_stopwords  \\\n",
            "0  ['frequent', 'cloud', 'ground', 'lightning', '...   \n",
            "1  ['safety', 'message', 'river', 'flood', 'warni...   \n",
            "2  ['flood', 'advisory', 'means', 'river', 'strea...   \n",
            "3  ['flood', 'watch', 'means', 'potential', 'floo...   \n",
            "4  ['safety', 'message', 'motorists', 'attempt', ...   \n",
            "\n",
            "                              instruction_lemmatized  \\\n",
            "0  frequent cloud ground lightning occur storm li...   \n",
            "1  safety message river flood warning mean river ...   \n",
            "2  flood advisory mean river stream flow elevated...   \n",
            "3  flood watch mean potential flooding base curre...   \n",
            "4  safety message motorist attempt drive around b...   \n",
            "\n",
            "                                  instruction_token2  \\\n",
            "0  ['frequent', 'cloud', 'ground', 'lightning', '...   \n",
            "1  ['safety', 'message', 'river', 'flood', 'warni...   \n",
            "2  ['flood', 'advisory', 'mean', 'river', 'stream...   \n",
            "3  ['flood', 'watch', 'mean', 'potential', 'flood...   \n",
            "4  ['safety', 'message', 'motorist', 'attempt', '...   \n",
            "\n",
            "                              vectorized_instruction  \n",
            "0  [-1.2650165557861328, -0.7954631447792053, 0.7...  \n",
            "1  [0.4372621178627014, -1.2084189653396606, 0.24...  \n",
            "2  [1.9844954013824463, -0.32872480154037476, 0.2...  \n",
            "3  [-0.9388578534126282, -0.7667456269264221, 0.5...  \n",
            "4  [-0.3280416429042816, 1.4778294563293457, -0.5...  \n"
          ]
        }
      ]
    },
    {
      "cell_type": "markdown",
      "source": [
        "Cargamos solo vectorized_instruction el archivo CSV en un DataFrame."
      ],
      "metadata": {
        "id": "9ULwn-jXDmgk"
      }
    },
    {
      "cell_type": "code",
      "source": [
        "df_vectorized_instruction = df_loaded['vectorized_instruction']"
      ],
      "metadata": {
        "id": "GEKHZyfqAc7D"
      },
      "execution_count": 65,
      "outputs": []
    },
    {
      "cell_type": "markdown",
      "source": [
        "Mostramos las primeras filas del DataFrame para verificar el contenido."
      ],
      "metadata": {
        "id": "kdp-7jxXDtsD"
      }
    },
    {
      "cell_type": "code",
      "source": [
        "print(df_vectorized_instruction.head())"
      ],
      "metadata": {
        "id": "xO2J5p5JBS3a",
        "outputId": "f0db5d45-28fc-480c-b167-33d83ed54338",
        "colab": {
          "base_uri": "https://localhost:8080/"
        }
      },
      "execution_count": 66,
      "outputs": [
        {
          "output_type": "stream",
          "name": "stdout",
          "text": [
            "0    [-1.2650165557861328, -0.7954631447792053, 0.7...\n",
            "1    [0.4372621178627014, -1.2084189653396606, 0.24...\n",
            "2    [1.9844954013824463, -0.32872480154037476, 0.2...\n",
            "3    [-0.9388578534126282, -0.7667456269264221, 0.5...\n",
            "4    [-0.3280416429042816, 1.4778294563293457, -0.5...\n",
            "Name: vectorized_instruction, dtype: object\n"
          ]
        }
      ]
    }
  ]
}