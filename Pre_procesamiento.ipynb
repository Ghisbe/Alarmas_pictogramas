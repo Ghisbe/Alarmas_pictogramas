{
  "nbformat": 4,
  "nbformat_minor": 0,
  "metadata": {
    "colab": {
      "provenance": [],
      "include_colab_link": true
    },
    "kernelspec": {
      "name": "python3",
      "display_name": "Python 3"
    },
    "language_info": {
      "name": "python"
    }
  },
  "cells": [
    {
      "cell_type": "markdown",
      "metadata": {
        "id": "view-in-github",
        "colab_type": "text"
      },
      "source": [
        "<a href=\"https://colab.research.google.com/github/Ghisbe/Alarmas_pictogramas/blob/main/Pre_procesamiento.ipynb\" target=\"_parent\"><img src=\"https://colab.research.google.com/assets/colab-badge.svg\" alt=\"Open In Colab\"/></a>"
      ]
    },
    {
      "cell_type": "markdown",
      "source": [
        "#Pre procesamiento columna 'instruction'."
      ],
      "metadata": {
        "id": "yFxI19ZnK_aK"
      }
    },
    {
      "cell_type": "code",
      "execution_count": 1,
      "metadata": {
        "colab": {
          "base_uri": "https://localhost:8080/"
        },
        "id": "lsM3_lEM5KQX",
        "outputId": "0b975ecc-2134-4dc8-ae47-e0c8f0b43ff7"
      },
      "outputs": [
        {
          "output_type": "stream",
          "name": "stdout",
          "text": [
            "Mounted at /content/drive\n"
          ]
        }
      ],
      "source": [
        "from google.colab import drive\n",
        "drive.mount('/content/drive')\n",
        "import pandas as pd\n",
        "import gdown"
      ]
    },
    {
      "cell_type": "code",
      "source": [
        "url = \"https://drive.google.com/uc?id=16poQbHBP284_SqLjI694NaH8K7sr5cA1\""
      ],
      "metadata": {
        "id": "mCA0Odfv5W_k"
      },
      "execution_count": 2,
      "outputs": []
    },
    {
      "cell_type": "code",
      "source": [
        "output = 'alertas.csv'\n",
        "gdown.download(url, output, quiet=False)\n",
        "\n",
        "# Leemos el archivo CSV en un DataFrame de pandas\n",
        "df_alertas = pd.read_csv(output)"
      ],
      "metadata": {
        "colab": {
          "base_uri": "https://localhost:8080/"
        },
        "id": "_FbsbqX15lL1",
        "outputId": "e04f97d9-35fe-4f74-fc4f-2d21e590d647"
      },
      "execution_count": 3,
      "outputs": [
        {
          "output_type": "stream",
          "name": "stderr",
          "text": [
            "Downloading...\n",
            "From (original): https://drive.google.com/uc?id=16poQbHBP284_SqLjI694NaH8K7sr5cA1\n",
            "From (redirected): https://drive.google.com/uc?id=16poQbHBP284_SqLjI694NaH8K7sr5cA1&confirm=t&uuid=6b6d47cf-34cc-4a98-b056-d859ad26bafe\n",
            "To: /content/alertas.csv\n",
            "100%|██████████| 754M/754M [00:06<00:00, 108MB/s] \n"
          ]
        }
      ]
    },
    {
      "cell_type": "code",
      "source": [
        "df_alertas"
      ],
      "metadata": {
        "colab": {
          "base_uri": "https://localhost:8080/",
          "height": 615
        },
        "id": "_GqoSpDv5sw_",
        "outputId": "e61669a7-e0c2-4c82-b5cc-c15f145108d2"
      },
      "execution_count": 4,
      "outputs": [
        {
          "output_type": "execute_result",
          "data": {
            "text/plain": [
              "                              id                        event  \\\n",
              "0       5ed3a4b2283336e2e7db3a1c    Special Weather Statement   \n",
              "1       5ed3a07c283336e2e7d2bfa4                Flood Warning   \n",
              "2       5ed39e54283336e2e7d22306               Flood Advisory   \n",
              "3       5ed39e11283336e2e7d15e23                  Flood Watch   \n",
              "4       5ed3962c283336e2e7c1d935                Flood Warning   \n",
              "...                          ...                          ...   \n",
              "748625  5e6dc0ad023f1930effa5093      Winter Weather Advisory   \n",
              "748626  5e6dc0ad023f1930effa509d      Winter Weather Advisory   \n",
              "748627  5e6dd185023f1930ef44b316                Flood Warning   \n",
              "748628  5e6dc0ad023f1930effa50aa      Winter Weather Advisory   \n",
              "748629  5e6dc0cd023f1930effae612  Severe Thunderstorm Warning   \n",
              "\n",
              "                                              description  \\\n",
              "0       At 630 AM MDT/530 AM PDT/, Doppler radar was t...   \n",
              "1        The National Weather Service in Billings MT h...   \n",
              "2       At 502 AM PDT, Gauge reports continue to indic...   \n",
              "3       The National Weather Service in Spokane has is...   \n",
              "4       The Flood Warning has been cancelled and is no...   \n",
              "...                                                   ...   \n",
              "748625  A powerful winter storm will continue to impac...   \n",
              "748626  A powerful winter storm will continue to impac...   \n",
              "748627  Black River near Annapolis\\n\\n.This Flood Warn...   \n",
              "748628  * WHAT A period of freezing rain expected. Tot...   \n",
              "748629  The National Weather Service in Mobile has iss...   \n",
              "\n",
              "                                              instruction    urgency  severity  \n",
              "0       Frequent cloud to ground lightning is occurrin...   Expected  Moderate  \n",
              "1       Safety message...A river Flood Warning means r...   Expected    Severe  \n",
              "2       A Flood Advisory means river or stream flows a...   Expected     Minor  \n",
              "3       A Flood Watch means there is a potential for f...     Future    Severe  \n",
              "4       Safety message...Motorists should not attempt ...       Past     Minor  \n",
              "...                                                   ...        ...       ...  \n",
              "748625  A Winter Weather Advisory means that periods o...   Expected  Moderate  \n",
              "748626  A Blizzard Warning means severe winter weather...   Expected  Moderate  \n",
              "748627  PRECAUTIONARY/PREPAREDNESS ACTIONS...\\n\\nSafet...  Immediate    Severe  \n",
              "748628  A Winter Weather Advisory means that periods o...   Expected  Moderate  \n",
              "748629  For your protection move to an interior room o...  Immediate    Severe  \n",
              "\n",
              "[748630 rows x 6 columns]"
            ],
            "text/html": [
              "\n",
              "  <div id=\"df-c5bb0fe0-be6a-4523-8416-05969e7692bc\" class=\"colab-df-container\">\n",
              "    <div>\n",
              "<style scoped>\n",
              "    .dataframe tbody tr th:only-of-type {\n",
              "        vertical-align: middle;\n",
              "    }\n",
              "\n",
              "    .dataframe tbody tr th {\n",
              "        vertical-align: top;\n",
              "    }\n",
              "\n",
              "    .dataframe thead th {\n",
              "        text-align: right;\n",
              "    }\n",
              "</style>\n",
              "<table border=\"1\" class=\"dataframe\">\n",
              "  <thead>\n",
              "    <tr style=\"text-align: right;\">\n",
              "      <th></th>\n",
              "      <th>id</th>\n",
              "      <th>event</th>\n",
              "      <th>description</th>\n",
              "      <th>instruction</th>\n",
              "      <th>urgency</th>\n",
              "      <th>severity</th>\n",
              "    </tr>\n",
              "  </thead>\n",
              "  <tbody>\n",
              "    <tr>\n",
              "      <th>0</th>\n",
              "      <td>5ed3a4b2283336e2e7db3a1c</td>\n",
              "      <td>Special Weather Statement</td>\n",
              "      <td>At 630 AM MDT/530 AM PDT/, Doppler radar was t...</td>\n",
              "      <td>Frequent cloud to ground lightning is occurrin...</td>\n",
              "      <td>Expected</td>\n",
              "      <td>Moderate</td>\n",
              "    </tr>\n",
              "    <tr>\n",
              "      <th>1</th>\n",
              "      <td>5ed3a07c283336e2e7d2bfa4</td>\n",
              "      <td>Flood Warning</td>\n",
              "      <td>The National Weather Service in Billings MT h...</td>\n",
              "      <td>Safety message...A river Flood Warning means r...</td>\n",
              "      <td>Expected</td>\n",
              "      <td>Severe</td>\n",
              "    </tr>\n",
              "    <tr>\n",
              "      <th>2</th>\n",
              "      <td>5ed39e54283336e2e7d22306</td>\n",
              "      <td>Flood Advisory</td>\n",
              "      <td>At 502 AM PDT, Gauge reports continue to indic...</td>\n",
              "      <td>A Flood Advisory means river or stream flows a...</td>\n",
              "      <td>Expected</td>\n",
              "      <td>Minor</td>\n",
              "    </tr>\n",
              "    <tr>\n",
              "      <th>3</th>\n",
              "      <td>5ed39e11283336e2e7d15e23</td>\n",
              "      <td>Flood Watch</td>\n",
              "      <td>The National Weather Service in Spokane has is...</td>\n",
              "      <td>A Flood Watch means there is a potential for f...</td>\n",
              "      <td>Future</td>\n",
              "      <td>Severe</td>\n",
              "    </tr>\n",
              "    <tr>\n",
              "      <th>4</th>\n",
              "      <td>5ed3962c283336e2e7c1d935</td>\n",
              "      <td>Flood Warning</td>\n",
              "      <td>The Flood Warning has been cancelled and is no...</td>\n",
              "      <td>Safety message...Motorists should not attempt ...</td>\n",
              "      <td>Past</td>\n",
              "      <td>Minor</td>\n",
              "    </tr>\n",
              "    <tr>\n",
              "      <th>...</th>\n",
              "      <td>...</td>\n",
              "      <td>...</td>\n",
              "      <td>...</td>\n",
              "      <td>...</td>\n",
              "      <td>...</td>\n",
              "      <td>...</td>\n",
              "    </tr>\n",
              "    <tr>\n",
              "      <th>748625</th>\n",
              "      <td>5e6dc0ad023f1930effa5093</td>\n",
              "      <td>Winter Weather Advisory</td>\n",
              "      <td>A powerful winter storm will continue to impac...</td>\n",
              "      <td>A Winter Weather Advisory means that periods o...</td>\n",
              "      <td>Expected</td>\n",
              "      <td>Moderate</td>\n",
              "    </tr>\n",
              "    <tr>\n",
              "      <th>748626</th>\n",
              "      <td>5e6dc0ad023f1930effa509d</td>\n",
              "      <td>Winter Weather Advisory</td>\n",
              "      <td>A powerful winter storm will continue to impac...</td>\n",
              "      <td>A Blizzard Warning means severe winter weather...</td>\n",
              "      <td>Expected</td>\n",
              "      <td>Moderate</td>\n",
              "    </tr>\n",
              "    <tr>\n",
              "      <th>748627</th>\n",
              "      <td>5e6dd185023f1930ef44b316</td>\n",
              "      <td>Flood Warning</td>\n",
              "      <td>Black River near Annapolis\\n\\n.This Flood Warn...</td>\n",
              "      <td>PRECAUTIONARY/PREPAREDNESS ACTIONS...\\n\\nSafet...</td>\n",
              "      <td>Immediate</td>\n",
              "      <td>Severe</td>\n",
              "    </tr>\n",
              "    <tr>\n",
              "      <th>748628</th>\n",
              "      <td>5e6dc0ad023f1930effa50aa</td>\n",
              "      <td>Winter Weather Advisory</td>\n",
              "      <td>* WHAT A period of freezing rain expected. Tot...</td>\n",
              "      <td>A Winter Weather Advisory means that periods o...</td>\n",
              "      <td>Expected</td>\n",
              "      <td>Moderate</td>\n",
              "    </tr>\n",
              "    <tr>\n",
              "      <th>748629</th>\n",
              "      <td>5e6dc0cd023f1930effae612</td>\n",
              "      <td>Severe Thunderstorm Warning</td>\n",
              "      <td>The National Weather Service in Mobile has iss...</td>\n",
              "      <td>For your protection move to an interior room o...</td>\n",
              "      <td>Immediate</td>\n",
              "      <td>Severe</td>\n",
              "    </tr>\n",
              "  </tbody>\n",
              "</table>\n",
              "<p>748630 rows × 6 columns</p>\n",
              "</div>\n",
              "    <div class=\"colab-df-buttons\">\n",
              "\n",
              "  <div class=\"colab-df-container\">\n",
              "    <button class=\"colab-df-convert\" onclick=\"convertToInteractive('df-c5bb0fe0-be6a-4523-8416-05969e7692bc')\"\n",
              "            title=\"Convert this dataframe to an interactive table.\"\n",
              "            style=\"display:none;\">\n",
              "\n",
              "  <svg xmlns=\"http://www.w3.org/2000/svg\" height=\"24px\" viewBox=\"0 -960 960 960\">\n",
              "    <path d=\"M120-120v-720h720v720H120Zm60-500h600v-160H180v160Zm220 220h160v-160H400v160Zm0 220h160v-160H400v160ZM180-400h160v-160H180v160Zm440 0h160v-160H620v160ZM180-180h160v-160H180v160Zm440 0h160v-160H620v160Z\"/>\n",
              "  </svg>\n",
              "    </button>\n",
              "\n",
              "  <style>\n",
              "    .colab-df-container {\n",
              "      display:flex;\n",
              "      gap: 12px;\n",
              "    }\n",
              "\n",
              "    .colab-df-convert {\n",
              "      background-color: #E8F0FE;\n",
              "      border: none;\n",
              "      border-radius: 50%;\n",
              "      cursor: pointer;\n",
              "      display: none;\n",
              "      fill: #1967D2;\n",
              "      height: 32px;\n",
              "      padding: 0 0 0 0;\n",
              "      width: 32px;\n",
              "    }\n",
              "\n",
              "    .colab-df-convert:hover {\n",
              "      background-color: #E2EBFA;\n",
              "      box-shadow: 0px 1px 2px rgba(60, 64, 67, 0.3), 0px 1px 3px 1px rgba(60, 64, 67, 0.15);\n",
              "      fill: #174EA6;\n",
              "    }\n",
              "\n",
              "    .colab-df-buttons div {\n",
              "      margin-bottom: 4px;\n",
              "    }\n",
              "\n",
              "    [theme=dark] .colab-df-convert {\n",
              "      background-color: #3B4455;\n",
              "      fill: #D2E3FC;\n",
              "    }\n",
              "\n",
              "    [theme=dark] .colab-df-convert:hover {\n",
              "      background-color: #434B5C;\n",
              "      box-shadow: 0px 1px 3px 1px rgba(0, 0, 0, 0.15);\n",
              "      filter: drop-shadow(0px 1px 2px rgba(0, 0, 0, 0.3));\n",
              "      fill: #FFFFFF;\n",
              "    }\n",
              "  </style>\n",
              "\n",
              "    <script>\n",
              "      const buttonEl =\n",
              "        document.querySelector('#df-c5bb0fe0-be6a-4523-8416-05969e7692bc button.colab-df-convert');\n",
              "      buttonEl.style.display =\n",
              "        google.colab.kernel.accessAllowed ? 'block' : 'none';\n",
              "\n",
              "      async function convertToInteractive(key) {\n",
              "        const element = document.querySelector('#df-c5bb0fe0-be6a-4523-8416-05969e7692bc');\n",
              "        const dataTable =\n",
              "          await google.colab.kernel.invokeFunction('convertToInteractive',\n",
              "                                                    [key], {});\n",
              "        if (!dataTable) return;\n",
              "\n",
              "        const docLinkHtml = 'Like what you see? Visit the ' +\n",
              "          '<a target=\"_blank\" href=https://colab.research.google.com/notebooks/data_table.ipynb>data table notebook</a>'\n",
              "          + ' to learn more about interactive tables.';\n",
              "        element.innerHTML = '';\n",
              "        dataTable['output_type'] = 'display_data';\n",
              "        await google.colab.output.renderOutput(dataTable, element);\n",
              "        const docLink = document.createElement('div');\n",
              "        docLink.innerHTML = docLinkHtml;\n",
              "        element.appendChild(docLink);\n",
              "      }\n",
              "    </script>\n",
              "  </div>\n",
              "\n",
              "\n",
              "<div id=\"df-19c0f26d-cb2a-4d63-8956-dce522a7c281\">\n",
              "  <button class=\"colab-df-quickchart\" onclick=\"quickchart('df-19c0f26d-cb2a-4d63-8956-dce522a7c281')\"\n",
              "            title=\"Suggest charts\"\n",
              "            style=\"display:none;\">\n",
              "\n",
              "<svg xmlns=\"http://www.w3.org/2000/svg\" height=\"24px\"viewBox=\"0 0 24 24\"\n",
              "     width=\"24px\">\n",
              "    <g>\n",
              "        <path d=\"M19 3H5c-1.1 0-2 .9-2 2v14c0 1.1.9 2 2 2h14c1.1 0 2-.9 2-2V5c0-1.1-.9-2-2-2zM9 17H7v-7h2v7zm4 0h-2V7h2v10zm4 0h-2v-4h2v4z\"/>\n",
              "    </g>\n",
              "</svg>\n",
              "  </button>\n",
              "\n",
              "<style>\n",
              "  .colab-df-quickchart {\n",
              "      --bg-color: #E8F0FE;\n",
              "      --fill-color: #1967D2;\n",
              "      --hover-bg-color: #E2EBFA;\n",
              "      --hover-fill-color: #174EA6;\n",
              "      --disabled-fill-color: #AAA;\n",
              "      --disabled-bg-color: #DDD;\n",
              "  }\n",
              "\n",
              "  [theme=dark] .colab-df-quickchart {\n",
              "      --bg-color: #3B4455;\n",
              "      --fill-color: #D2E3FC;\n",
              "      --hover-bg-color: #434B5C;\n",
              "      --hover-fill-color: #FFFFFF;\n",
              "      --disabled-bg-color: #3B4455;\n",
              "      --disabled-fill-color: #666;\n",
              "  }\n",
              "\n",
              "  .colab-df-quickchart {\n",
              "    background-color: var(--bg-color);\n",
              "    border: none;\n",
              "    border-radius: 50%;\n",
              "    cursor: pointer;\n",
              "    display: none;\n",
              "    fill: var(--fill-color);\n",
              "    height: 32px;\n",
              "    padding: 0;\n",
              "    width: 32px;\n",
              "  }\n",
              "\n",
              "  .colab-df-quickchart:hover {\n",
              "    background-color: var(--hover-bg-color);\n",
              "    box-shadow: 0 1px 2px rgba(60, 64, 67, 0.3), 0 1px 3px 1px rgba(60, 64, 67, 0.15);\n",
              "    fill: var(--button-hover-fill-color);\n",
              "  }\n",
              "\n",
              "  .colab-df-quickchart-complete:disabled,\n",
              "  .colab-df-quickchart-complete:disabled:hover {\n",
              "    background-color: var(--disabled-bg-color);\n",
              "    fill: var(--disabled-fill-color);\n",
              "    box-shadow: none;\n",
              "  }\n",
              "\n",
              "  .colab-df-spinner {\n",
              "    border: 2px solid var(--fill-color);\n",
              "    border-color: transparent;\n",
              "    border-bottom-color: var(--fill-color);\n",
              "    animation:\n",
              "      spin 1s steps(1) infinite;\n",
              "  }\n",
              "\n",
              "  @keyframes spin {\n",
              "    0% {\n",
              "      border-color: transparent;\n",
              "      border-bottom-color: var(--fill-color);\n",
              "      border-left-color: var(--fill-color);\n",
              "    }\n",
              "    20% {\n",
              "      border-color: transparent;\n",
              "      border-left-color: var(--fill-color);\n",
              "      border-top-color: var(--fill-color);\n",
              "    }\n",
              "    30% {\n",
              "      border-color: transparent;\n",
              "      border-left-color: var(--fill-color);\n",
              "      border-top-color: var(--fill-color);\n",
              "      border-right-color: var(--fill-color);\n",
              "    }\n",
              "    40% {\n",
              "      border-color: transparent;\n",
              "      border-right-color: var(--fill-color);\n",
              "      border-top-color: var(--fill-color);\n",
              "    }\n",
              "    60% {\n",
              "      border-color: transparent;\n",
              "      border-right-color: var(--fill-color);\n",
              "    }\n",
              "    80% {\n",
              "      border-color: transparent;\n",
              "      border-right-color: var(--fill-color);\n",
              "      border-bottom-color: var(--fill-color);\n",
              "    }\n",
              "    90% {\n",
              "      border-color: transparent;\n",
              "      border-bottom-color: var(--fill-color);\n",
              "    }\n",
              "  }\n",
              "</style>\n",
              "\n",
              "  <script>\n",
              "    async function quickchart(key) {\n",
              "      const quickchartButtonEl =\n",
              "        document.querySelector('#' + key + ' button');\n",
              "      quickchartButtonEl.disabled = true;  // To prevent multiple clicks.\n",
              "      quickchartButtonEl.classList.add('colab-df-spinner');\n",
              "      try {\n",
              "        const charts = await google.colab.kernel.invokeFunction(\n",
              "            'suggestCharts', [key], {});\n",
              "      } catch (error) {\n",
              "        console.error('Error during call to suggestCharts:', error);\n",
              "      }\n",
              "      quickchartButtonEl.classList.remove('colab-df-spinner');\n",
              "      quickchartButtonEl.classList.add('colab-df-quickchart-complete');\n",
              "    }\n",
              "    (() => {\n",
              "      let quickchartButtonEl =\n",
              "        document.querySelector('#df-19c0f26d-cb2a-4d63-8956-dce522a7c281 button');\n",
              "      quickchartButtonEl.style.display =\n",
              "        google.colab.kernel.accessAllowed ? 'block' : 'none';\n",
              "    })();\n",
              "  </script>\n",
              "</div>\n",
              "\n",
              "  <div id=\"id_0f4087a2-9f96-41ad-b346-a8f893de3923\">\n",
              "    <style>\n",
              "      .colab-df-generate {\n",
              "        background-color: #E8F0FE;\n",
              "        border: none;\n",
              "        border-radius: 50%;\n",
              "        cursor: pointer;\n",
              "        display: none;\n",
              "        fill: #1967D2;\n",
              "        height: 32px;\n",
              "        padding: 0 0 0 0;\n",
              "        width: 32px;\n",
              "      }\n",
              "\n",
              "      .colab-df-generate:hover {\n",
              "        background-color: #E2EBFA;\n",
              "        box-shadow: 0px 1px 2px rgba(60, 64, 67, 0.3), 0px 1px 3px 1px rgba(60, 64, 67, 0.15);\n",
              "        fill: #174EA6;\n",
              "      }\n",
              "\n",
              "      [theme=dark] .colab-df-generate {\n",
              "        background-color: #3B4455;\n",
              "        fill: #D2E3FC;\n",
              "      }\n",
              "\n",
              "      [theme=dark] .colab-df-generate:hover {\n",
              "        background-color: #434B5C;\n",
              "        box-shadow: 0px 1px 3px 1px rgba(0, 0, 0, 0.15);\n",
              "        filter: drop-shadow(0px 1px 2px rgba(0, 0, 0, 0.3));\n",
              "        fill: #FFFFFF;\n",
              "      }\n",
              "    </style>\n",
              "    <button class=\"colab-df-generate\" onclick=\"generateWithVariable('df_alertas')\"\n",
              "            title=\"Generate code using this dataframe.\"\n",
              "            style=\"display:none;\">\n",
              "\n",
              "  <svg xmlns=\"http://www.w3.org/2000/svg\" height=\"24px\"viewBox=\"0 0 24 24\"\n",
              "       width=\"24px\">\n",
              "    <path d=\"M7,19H8.4L18.45,9,17,7.55,7,17.6ZM5,21V16.75L18.45,3.32a2,2,0,0,1,2.83,0l1.4,1.43a1.91,1.91,0,0,1,.58,1.4,1.91,1.91,0,0,1-.58,1.4L9.25,21ZM18.45,9,17,7.55Zm-12,3A5.31,5.31,0,0,0,4.9,8.1,5.31,5.31,0,0,0,1,6.5,5.31,5.31,0,0,0,4.9,4.9,5.31,5.31,0,0,0,6.5,1,5.31,5.31,0,0,0,8.1,4.9,5.31,5.31,0,0,0,12,6.5,5.46,5.46,0,0,0,6.5,12Z\"/>\n",
              "  </svg>\n",
              "    </button>\n",
              "    <script>\n",
              "      (() => {\n",
              "      const buttonEl =\n",
              "        document.querySelector('#id_0f4087a2-9f96-41ad-b346-a8f893de3923 button.colab-df-generate');\n",
              "      buttonEl.style.display =\n",
              "        google.colab.kernel.accessAllowed ? 'block' : 'none';\n",
              "\n",
              "      buttonEl.onclick = () => {\n",
              "        google.colab.notebook.generateWithVariable('df_alertas');\n",
              "      }\n",
              "      })();\n",
              "    </script>\n",
              "  </div>\n",
              "\n",
              "    </div>\n",
              "  </div>\n"
            ],
            "application/vnd.google.colaboratory.intrinsic+json": {
              "type": "dataframe",
              "variable_name": "df_alertas"
            }
          },
          "metadata": {},
          "execution_count": 4
        }
      ]
    },
    {
      "cell_type": "markdown",
      "source": [
        "Observamos que en campo \"instruction\" no tenemos nulos"
      ],
      "metadata": {
        "id": "sRciP2F1xULF"
      }
    },
    {
      "cell_type": "code",
      "source": [
        "df_alertas.info()"
      ],
      "metadata": {
        "id": "t65dZLVWxRxV",
        "outputId": "17210d5c-9bef-48d0-9104-ff5115cd54aa",
        "colab": {
          "base_uri": "https://localhost:8080/"
        }
      },
      "execution_count": 5,
      "outputs": [
        {
          "output_type": "stream",
          "name": "stdout",
          "text": [
            "<class 'pandas.core.frame.DataFrame'>\n",
            "RangeIndex: 748630 entries, 0 to 748629\n",
            "Data columns (total 6 columns):\n",
            " #   Column       Non-Null Count   Dtype \n",
            "---  ------       --------------   ----- \n",
            " 0   id           748630 non-null  object\n",
            " 1   event        748630 non-null  object\n",
            " 2   description  748630 non-null  object\n",
            " 3   instruction  748630 non-null  object\n",
            " 4   urgency      748630 non-null  object\n",
            " 5   severity     748630 non-null  object\n",
            "dtypes: object(6)\n",
            "memory usage: 34.3+ MB\n"
          ]
        }
      ]
    },
    {
      "cell_type": "markdown",
      "source": [
        "Filtramos los registros donde la columna 'instruction' contiene '...'"
      ],
      "metadata": {
        "id": "R9CG3YZRRR_3"
      }
    },
    {
      "cell_type": "code",
      "source": [
        "filtered_instructions = df_alertas[df_alertas['instruction'].str.contains('...', na=False)]"
      ],
      "metadata": {
        "id": "NPuh7QFKAtQj"
      },
      "execution_count": 6,
      "outputs": []
    },
    {
      "cell_type": "markdown",
      "source": [
        "Contamos la cantidad de registros filtrados."
      ],
      "metadata": {
        "id": "sUuVfGd8Rafr"
      }
    },
    {
      "cell_type": "code",
      "source": [
        "count_filtered = filtered_instructions.shape[0]\n",
        "print(f'Cantidad de registros con ...: {count_filtered}')"
      ],
      "metadata": {
        "id": "4C7hbQWpRirG",
        "outputId": "f68b8513-f662-48d2-9ef2-27ba71f71010",
        "colab": {
          "base_uri": "https://localhost:8080/"
        }
      },
      "execution_count": 7,
      "outputs": [
        {
          "output_type": "stream",
          "name": "stdout",
          "text": [
            "Cantidad de registros con ...: 748630\n"
          ]
        }
      ]
    },
    {
      "cell_type": "markdown",
      "source": [
        "Filtramos los registros donde la columna 'instruction' contiene '\\n'."
      ],
      "metadata": {
        "id": "cZmZMzZwRquN"
      }
    },
    {
      "cell_type": "code",
      "source": [
        "filtered_instructions = df_alertas[df_alertas['instruction'].str.contains('\\n', na=False)]"
      ],
      "metadata": {
        "id": "ACFCANqEIvwp"
      },
      "execution_count": 8,
      "outputs": []
    },
    {
      "cell_type": "markdown",
      "source": [
        "Contamos la cantidad de registros filtrados."
      ],
      "metadata": {
        "id": "AB8n1vS7R3l6"
      }
    },
    {
      "cell_type": "code",
      "source": [
        "count_filtered = filtered_instructions.shape[0]\n",
        "print(f'Cantidad de registros con \\n: {count_filtered}')"
      ],
      "metadata": {
        "id": "t7wpfwUKRzxE",
        "outputId": "1985a990-2a66-4a89-df8c-f3d39f5bf284",
        "colab": {
          "base_uri": "https://localhost:8080/"
        }
      },
      "execution_count": 9,
      "outputs": [
        {
          "output_type": "stream",
          "name": "stdout",
          "text": [
            "Cantidad de registros con \n",
            ": 743741\n"
          ]
        }
      ]
    },
    {
      "cell_type": "markdown",
      "source": [
        "Reemplazamos valores atipicos con espacio."
      ],
      "metadata": {
        "id": "xiiiJpiER_fU"
      }
    },
    {
      "cell_type": "code",
      "source": [
        "df_alertas['instruction'] = df_alertas['instruction'].str.replace('...', ' ', regex=False)"
      ],
      "metadata": {
        "id": "L9y9tvKGBlbn"
      },
      "execution_count": 10,
      "outputs": []
    },
    {
      "cell_type": "code",
      "source": [
        "df_alertas['instruction'] = df_alertas['instruction'].str.replace('\\n', ' ', regex=False)"
      ],
      "metadata": {
        "id": "CIy0Ksh5u9HV"
      },
      "execution_count": 11,
      "outputs": []
    },
    {
      "cell_type": "markdown",
      "source": [
        "Observamos una muestra de 30 filas para comprobar estos cambios:"
      ],
      "metadata": {
        "id": "T_KVmYhYvm-f"
      }
    },
    {
      "cell_type": "code",
      "source": [
        "df_alertas.sample(30)"
      ],
      "metadata": {
        "id": "SEWiRof2vwE4",
        "outputId": "b3bb5237-3a8d-40a7-af07-0dc0af0600d6",
        "colab": {
          "base_uri": "https://localhost:8080/",
          "height": 1000
        }
      },
      "execution_count": 12,
      "outputs": [
        {
          "output_type": "execute_result",
          "data": {
            "text/plain": [
              "                              id                        event  \\\n",
              "40692   5e6db07f023f1930efaba47e  Severe Thunderstorm Warning   \n",
              "122881  5e7e0fc3023f1930efcf3525           Dense Fog Advisory   \n",
              "724687  5e6dc06d023f1930eff927f6                Flood Warning   \n",
              "655769  5e6dd3e4023f1930ef4e1b93  Severe Thunderstorm Warning   \n",
              "605914  5e6dbee9023f1930eff26978     Severe Weather Statement   \n",
              "321484  5e6dd9b2023f1930ef64a5d5                Flood Warning   \n",
              "500633  5e6dd677023f1930ef585ba6                Flood Warning   \n",
              "518412  5e6dd548023f1930ef53a59b    Special Weather Statement   \n",
              "629325  5e6dbf33023f1930eff3b63e              Tornado Warning   \n",
              "316015  5e6db92e023f1930efd74f31                Flood Warning   \n",
              "634706  5e6dd369023f1930ef4c38d0                Heat Advisory   \n",
              "485632  5e6dd579023f1930ef546b2e         Winter Storm Warning   \n",
              "178584  5e6ddf36023f1930ef78dcce               Flood Advisory   \n",
              "167937  5e6ddf98023f1930ef7a3713        Coastal Flood Warning   \n",
              "102812  5e7e11e1023f1930efd717e6           Dense Fog Advisory   \n",
              "684965  5e6dd35a023f1930ef4bfd4f              Tornado Warning   \n",
              "509938  5e6dbd51023f1930efeafa2c      Winter Weather Advisory   \n",
              "152037  5e6ddfc1023f1930ef7acbdb                Flood Warning   \n",
              "342077  5e6dd9c5023f1930ef64e712                Flood Warning   \n",
              "162798  5e6ddf15023f1930ef785f86    Special Weather Statement   \n",
              "745496  5e6dc0a8023f1930effa38f9              Flood Statement   \n",
              "81264   5e6db1b0023f1930efb18b2a                Wind Advisory   \n",
              "697284  5e6dd317023f1930ef4afd2a               Flood Advisory   \n",
              "96880   5e7e11f8023f1930efd76a56     Lakeshore Flood Advisory   \n",
              "80844   5e7e109f023f1930efd28026      Winter Weather Advisory   \n",
              "586660  5e6dd4bc023f1930ef517d0d    Special Weather Statement   \n",
              "699125  5e6dd2ed023f1930ef4a59d1    Special Weather Statement   \n",
              "587579  5e6dd43e023f1930ef4f7f54    Special Weather Statement   \n",
              "314713  5e6dd9ae023f1930ef64979d  Severe Thunderstorm Warning   \n",
              "654521  5e6dd3e6023f1930ef4e229b                Flood Warning   \n",
              "\n",
              "                                              description  \\\n",
              "40692   At 1138 PM EDT, severe thunderstorms were loca...   \n",
              "122881  * WHAT Visibility one quarter mile or less in ...   \n",
              "724687  The following includes updated observed and fo...   \n",
              "655769  The National Weather Service in Huntsville Ala...   \n",
              "605914  AT 821 PM CDT THE LEADING EDGE OF A LINE OF SE...   \n",
              "321484  Claiborne Jefferson and Warren Counties/Parish...   \n",
              "500633  The Flood Warning continues for\\nthe Meramec R...   \n",
              "518412  At 550 PM PDT, Doppler radar was tracking a st...   \n",
              "629325  THE NATIONAL WEATHER SERVICE IN CHICAGO  HAS I...   \n",
              "316015  * Enderlin on the Maple River in Cass and Rans...   \n",
              "634706  Southerly flow will bring in a warm-moist airm...   \n",
              "485632  * WHAT Heavy snow expected. Total snow accumul...   \n",
              "178584  The National Weather Service in Memphis has is...   \n",
              "167937  The National Weather Service in Baltimore MD/W...   \n",
              "102812  * WHAT Visibilities down to one quarter of a m...   \n",
              "684965  THE NATIONAL WEATHER SERVICE IN PADUCAH HAS IS...   \n",
              "509938  .LOW PRESSURE WILL APPROACH FROM THE WEST TODA...   \n",
              "152037   The Flood Warning continues for the following...   \n",
              "342077  Minnesota River at Mankato affecting Blue Eart...   \n",
              "162798  At 914 AM CDT, Doppler radar was tracking a th...   \n",
              "745496  AT 904 AM EDT EMERGENCY MANAGEMENT REPORTED FL...   \n",
              "81264   * WHAT North winds 20 to 35 mph with gusts up ...   \n",
              "697284  THE NATIONAL WEATHER SERVICE IN EL PASO  HAS I...   \n",
              "96880   * WHAT Minor lakeshore flooding expected.\\n\\n*...   \n",
              "80844   * WHAT For the first Winter Weather Advisory, ...   \n",
              "586660  At 402 PM MDT, Doppler radar was tracking a st...   \n",
              "699125  AREAS OF FOG HAD DEVELOPED TO THE WEST OF INTE...   \n",
              "587579  At 529 PM MDT, Doppler radar was tracking a st...   \n",
              "314713  The National Weather Service in Birmingham has...   \n",
              "654521  Affecting the following counties in Iowa Black...   \n",
              "\n",
              "                                              instruction    urgency  severity  \n",
              "40692   A Tornado Watch remains in effect until 400 AM...  Immediate    Severe  \n",
              "122881  If driving, slow down, use your headlights, an...   Expected  Moderate  \n",
              "724687  PRECAUTIONARY/PREPAREDNESS ACTIONS   If you en...  Immediate    Severe  \n",
              "655769  For your protection move to an interior room o...  Immediate    Severe  \n",
              "605914  FOR YOUR PROTECTION MOVE TO AN INTERIOR ROOM O...  Immediate    Severe  \n",
              "321484  PRECAUTIONARY/PREPAREDNESS ACTIONS   Do not dr...  Immediate    Severe  \n",
              "500633  PRECAUTIONARY/PREPAREDNESS ACTIONS   The Natio...  Immediate    Severe  \n",
              "518412  Torrential rainfall is also occurring with thi...   Expected  Moderate  \n",
              "629325  TORNADOES ARE EXTREMELY DIFFICULT TO SEE AND C...  Immediate   Extreme  \n",
              "316015  PRECAUTIONARY/PREPAREDNESS ACTIONS   Safety me...  Immediate    Severe  \n",
              "634706  A Heat Advisory means that a period of hot tem...   Expected  Moderate  \n",
              "485632  A Winter Storm Warning for snow means severe w...   Expected    Severe  \n",
              "178584  Turn around, don't drown when encountering flo...   Expected     Minor  \n",
              "167937  A Coastal Flood Advisory indicates that onshor...   Expected    Severe  \n",
              "102812  If driving, slow down, use your headlights, an...   Expected  Moderate  \n",
              "684965  TAKE COVER NOW! MOVE TO A BASEMENT OR AN INTER...  Immediate   Extreme  \n",
              "509938  A WINTER STORM WARNING MEANS SIGNIFICANT AMOUN...   Expected  Moderate  \n",
              "152037  Safety message If you encounter a flooded road...  Immediate    Severe  \n",
              "342077  PRECAUTIONARY/PREPAREDNESS ACTIONS   Do not dr...  Immediate    Severe  \n",
              "162798  If outdoors, consider seeking shelter inside a...   Expected  Moderate  \n",
              "745496  PLEASE REPORT FLOOD WATER FLOWING OVER ROADS O...  Immediate    Severe  \n",
              "81264   Use extra caution when driving, especially if ...   Expected  Moderate  \n",
              "697284  EXCESSIVE RUNOFF FROM HEAVY RAINFALL WILL CAUS...   Expected     Minor  \n",
              "96880   Residents on or near the shore should take app...   Expected     Minor  \n",
              "80844   Slow down and use caution while traveling.  Th...   Expected  Moderate  \n",
              "586660  Persons in campgrounds should consider seeking...   Expected  Moderate  \n",
              "699125  IF DRIVING SLOW DOWN AND LEAVE EXTRA DISTANCE ...   Expected  Moderate  \n",
              "587579  Torrential rainfall is also occurring with thi...   Expected  Moderate  \n",
              "314713  For your protection move to an interior room o...  Immediate    Severe  \n",
              "654521  PRECAUTIONARY/PREPAREDNESS ACTIONS   If you en...  Immediate    Severe  "
            ],
            "text/html": [
              "\n",
              "  <div id=\"df-59f9e0ff-4658-46d1-a173-03178469e697\" class=\"colab-df-container\">\n",
              "    <div>\n",
              "<style scoped>\n",
              "    .dataframe tbody tr th:only-of-type {\n",
              "        vertical-align: middle;\n",
              "    }\n",
              "\n",
              "    .dataframe tbody tr th {\n",
              "        vertical-align: top;\n",
              "    }\n",
              "\n",
              "    .dataframe thead th {\n",
              "        text-align: right;\n",
              "    }\n",
              "</style>\n",
              "<table border=\"1\" class=\"dataframe\">\n",
              "  <thead>\n",
              "    <tr style=\"text-align: right;\">\n",
              "      <th></th>\n",
              "      <th>id</th>\n",
              "      <th>event</th>\n",
              "      <th>description</th>\n",
              "      <th>instruction</th>\n",
              "      <th>urgency</th>\n",
              "      <th>severity</th>\n",
              "    </tr>\n",
              "  </thead>\n",
              "  <tbody>\n",
              "    <tr>\n",
              "      <th>40692</th>\n",
              "      <td>5e6db07f023f1930efaba47e</td>\n",
              "      <td>Severe Thunderstorm Warning</td>\n",
              "      <td>At 1138 PM EDT, severe thunderstorms were loca...</td>\n",
              "      <td>A Tornado Watch remains in effect until 400 AM...</td>\n",
              "      <td>Immediate</td>\n",
              "      <td>Severe</td>\n",
              "    </tr>\n",
              "    <tr>\n",
              "      <th>122881</th>\n",
              "      <td>5e7e0fc3023f1930efcf3525</td>\n",
              "      <td>Dense Fog Advisory</td>\n",
              "      <td>* WHAT Visibility one quarter mile or less in ...</td>\n",
              "      <td>If driving, slow down, use your headlights, an...</td>\n",
              "      <td>Expected</td>\n",
              "      <td>Moderate</td>\n",
              "    </tr>\n",
              "    <tr>\n",
              "      <th>724687</th>\n",
              "      <td>5e6dc06d023f1930eff927f6</td>\n",
              "      <td>Flood Warning</td>\n",
              "      <td>The following includes updated observed and fo...</td>\n",
              "      <td>PRECAUTIONARY/PREPAREDNESS ACTIONS   If you en...</td>\n",
              "      <td>Immediate</td>\n",
              "      <td>Severe</td>\n",
              "    </tr>\n",
              "    <tr>\n",
              "      <th>655769</th>\n",
              "      <td>5e6dd3e4023f1930ef4e1b93</td>\n",
              "      <td>Severe Thunderstorm Warning</td>\n",
              "      <td>The National Weather Service in Huntsville Ala...</td>\n",
              "      <td>For your protection move to an interior room o...</td>\n",
              "      <td>Immediate</td>\n",
              "      <td>Severe</td>\n",
              "    </tr>\n",
              "    <tr>\n",
              "      <th>605914</th>\n",
              "      <td>5e6dbee9023f1930eff26978</td>\n",
              "      <td>Severe Weather Statement</td>\n",
              "      <td>AT 821 PM CDT THE LEADING EDGE OF A LINE OF SE...</td>\n",
              "      <td>FOR YOUR PROTECTION MOVE TO AN INTERIOR ROOM O...</td>\n",
              "      <td>Immediate</td>\n",
              "      <td>Severe</td>\n",
              "    </tr>\n",
              "    <tr>\n",
              "      <th>321484</th>\n",
              "      <td>5e6dd9b2023f1930ef64a5d5</td>\n",
              "      <td>Flood Warning</td>\n",
              "      <td>Claiborne Jefferson and Warren Counties/Parish...</td>\n",
              "      <td>PRECAUTIONARY/PREPAREDNESS ACTIONS   Do not dr...</td>\n",
              "      <td>Immediate</td>\n",
              "      <td>Severe</td>\n",
              "    </tr>\n",
              "    <tr>\n",
              "      <th>500633</th>\n",
              "      <td>5e6dd677023f1930ef585ba6</td>\n",
              "      <td>Flood Warning</td>\n",
              "      <td>The Flood Warning continues for\\nthe Meramec R...</td>\n",
              "      <td>PRECAUTIONARY/PREPAREDNESS ACTIONS   The Natio...</td>\n",
              "      <td>Immediate</td>\n",
              "      <td>Severe</td>\n",
              "    </tr>\n",
              "    <tr>\n",
              "      <th>518412</th>\n",
              "      <td>5e6dd548023f1930ef53a59b</td>\n",
              "      <td>Special Weather Statement</td>\n",
              "      <td>At 550 PM PDT, Doppler radar was tracking a st...</td>\n",
              "      <td>Torrential rainfall is also occurring with thi...</td>\n",
              "      <td>Expected</td>\n",
              "      <td>Moderate</td>\n",
              "    </tr>\n",
              "    <tr>\n",
              "      <th>629325</th>\n",
              "      <td>5e6dbf33023f1930eff3b63e</td>\n",
              "      <td>Tornado Warning</td>\n",
              "      <td>THE NATIONAL WEATHER SERVICE IN CHICAGO  HAS I...</td>\n",
              "      <td>TORNADOES ARE EXTREMELY DIFFICULT TO SEE AND C...</td>\n",
              "      <td>Immediate</td>\n",
              "      <td>Extreme</td>\n",
              "    </tr>\n",
              "    <tr>\n",
              "      <th>316015</th>\n",
              "      <td>5e6db92e023f1930efd74f31</td>\n",
              "      <td>Flood Warning</td>\n",
              "      <td>* Enderlin on the Maple River in Cass and Rans...</td>\n",
              "      <td>PRECAUTIONARY/PREPAREDNESS ACTIONS   Safety me...</td>\n",
              "      <td>Immediate</td>\n",
              "      <td>Severe</td>\n",
              "    </tr>\n",
              "    <tr>\n",
              "      <th>634706</th>\n",
              "      <td>5e6dd369023f1930ef4c38d0</td>\n",
              "      <td>Heat Advisory</td>\n",
              "      <td>Southerly flow will bring in a warm-moist airm...</td>\n",
              "      <td>A Heat Advisory means that a period of hot tem...</td>\n",
              "      <td>Expected</td>\n",
              "      <td>Moderate</td>\n",
              "    </tr>\n",
              "    <tr>\n",
              "      <th>485632</th>\n",
              "      <td>5e6dd579023f1930ef546b2e</td>\n",
              "      <td>Winter Storm Warning</td>\n",
              "      <td>* WHAT Heavy snow expected. Total snow accumul...</td>\n",
              "      <td>A Winter Storm Warning for snow means severe w...</td>\n",
              "      <td>Expected</td>\n",
              "      <td>Severe</td>\n",
              "    </tr>\n",
              "    <tr>\n",
              "      <th>178584</th>\n",
              "      <td>5e6ddf36023f1930ef78dcce</td>\n",
              "      <td>Flood Advisory</td>\n",
              "      <td>The National Weather Service in Memphis has is...</td>\n",
              "      <td>Turn around, don't drown when encountering flo...</td>\n",
              "      <td>Expected</td>\n",
              "      <td>Minor</td>\n",
              "    </tr>\n",
              "    <tr>\n",
              "      <th>167937</th>\n",
              "      <td>5e6ddf98023f1930ef7a3713</td>\n",
              "      <td>Coastal Flood Warning</td>\n",
              "      <td>The National Weather Service in Baltimore MD/W...</td>\n",
              "      <td>A Coastal Flood Advisory indicates that onshor...</td>\n",
              "      <td>Expected</td>\n",
              "      <td>Severe</td>\n",
              "    </tr>\n",
              "    <tr>\n",
              "      <th>102812</th>\n",
              "      <td>5e7e11e1023f1930efd717e6</td>\n",
              "      <td>Dense Fog Advisory</td>\n",
              "      <td>* WHAT Visibilities down to one quarter of a m...</td>\n",
              "      <td>If driving, slow down, use your headlights, an...</td>\n",
              "      <td>Expected</td>\n",
              "      <td>Moderate</td>\n",
              "    </tr>\n",
              "    <tr>\n",
              "      <th>684965</th>\n",
              "      <td>5e6dd35a023f1930ef4bfd4f</td>\n",
              "      <td>Tornado Warning</td>\n",
              "      <td>THE NATIONAL WEATHER SERVICE IN PADUCAH HAS IS...</td>\n",
              "      <td>TAKE COVER NOW! MOVE TO A BASEMENT OR AN INTER...</td>\n",
              "      <td>Immediate</td>\n",
              "      <td>Extreme</td>\n",
              "    </tr>\n",
              "    <tr>\n",
              "      <th>509938</th>\n",
              "      <td>5e6dbd51023f1930efeafa2c</td>\n",
              "      <td>Winter Weather Advisory</td>\n",
              "      <td>.LOW PRESSURE WILL APPROACH FROM THE WEST TODA...</td>\n",
              "      <td>A WINTER STORM WARNING MEANS SIGNIFICANT AMOUN...</td>\n",
              "      <td>Expected</td>\n",
              "      <td>Moderate</td>\n",
              "    </tr>\n",
              "    <tr>\n",
              "      <th>152037</th>\n",
              "      <td>5e6ddfc1023f1930ef7acbdb</td>\n",
              "      <td>Flood Warning</td>\n",
              "      <td>The Flood Warning continues for the following...</td>\n",
              "      <td>Safety message If you encounter a flooded road...</td>\n",
              "      <td>Immediate</td>\n",
              "      <td>Severe</td>\n",
              "    </tr>\n",
              "    <tr>\n",
              "      <th>342077</th>\n",
              "      <td>5e6dd9c5023f1930ef64e712</td>\n",
              "      <td>Flood Warning</td>\n",
              "      <td>Minnesota River at Mankato affecting Blue Eart...</td>\n",
              "      <td>PRECAUTIONARY/PREPAREDNESS ACTIONS   Do not dr...</td>\n",
              "      <td>Immediate</td>\n",
              "      <td>Severe</td>\n",
              "    </tr>\n",
              "    <tr>\n",
              "      <th>162798</th>\n",
              "      <td>5e6ddf15023f1930ef785f86</td>\n",
              "      <td>Special Weather Statement</td>\n",
              "      <td>At 914 AM CDT, Doppler radar was tracking a th...</td>\n",
              "      <td>If outdoors, consider seeking shelter inside a...</td>\n",
              "      <td>Expected</td>\n",
              "      <td>Moderate</td>\n",
              "    </tr>\n",
              "    <tr>\n",
              "      <th>745496</th>\n",
              "      <td>5e6dc0a8023f1930effa38f9</td>\n",
              "      <td>Flood Statement</td>\n",
              "      <td>AT 904 AM EDT EMERGENCY MANAGEMENT REPORTED FL...</td>\n",
              "      <td>PLEASE REPORT FLOOD WATER FLOWING OVER ROADS O...</td>\n",
              "      <td>Immediate</td>\n",
              "      <td>Severe</td>\n",
              "    </tr>\n",
              "    <tr>\n",
              "      <th>81264</th>\n",
              "      <td>5e6db1b0023f1930efb18b2a</td>\n",
              "      <td>Wind Advisory</td>\n",
              "      <td>* WHAT North winds 20 to 35 mph with gusts up ...</td>\n",
              "      <td>Use extra caution when driving, especially if ...</td>\n",
              "      <td>Expected</td>\n",
              "      <td>Moderate</td>\n",
              "    </tr>\n",
              "    <tr>\n",
              "      <th>697284</th>\n",
              "      <td>5e6dd317023f1930ef4afd2a</td>\n",
              "      <td>Flood Advisory</td>\n",
              "      <td>THE NATIONAL WEATHER SERVICE IN EL PASO  HAS I...</td>\n",
              "      <td>EXCESSIVE RUNOFF FROM HEAVY RAINFALL WILL CAUS...</td>\n",
              "      <td>Expected</td>\n",
              "      <td>Minor</td>\n",
              "    </tr>\n",
              "    <tr>\n",
              "      <th>96880</th>\n",
              "      <td>5e7e11f8023f1930efd76a56</td>\n",
              "      <td>Lakeshore Flood Advisory</td>\n",
              "      <td>* WHAT Minor lakeshore flooding expected.\\n\\n*...</td>\n",
              "      <td>Residents on or near the shore should take app...</td>\n",
              "      <td>Expected</td>\n",
              "      <td>Minor</td>\n",
              "    </tr>\n",
              "    <tr>\n",
              "      <th>80844</th>\n",
              "      <td>5e7e109f023f1930efd28026</td>\n",
              "      <td>Winter Weather Advisory</td>\n",
              "      <td>* WHAT For the first Winter Weather Advisory, ...</td>\n",
              "      <td>Slow down and use caution while traveling.  Th...</td>\n",
              "      <td>Expected</td>\n",
              "      <td>Moderate</td>\n",
              "    </tr>\n",
              "    <tr>\n",
              "      <th>586660</th>\n",
              "      <td>5e6dd4bc023f1930ef517d0d</td>\n",
              "      <td>Special Weather Statement</td>\n",
              "      <td>At 402 PM MDT, Doppler radar was tracking a st...</td>\n",
              "      <td>Persons in campgrounds should consider seeking...</td>\n",
              "      <td>Expected</td>\n",
              "      <td>Moderate</td>\n",
              "    </tr>\n",
              "    <tr>\n",
              "      <th>699125</th>\n",
              "      <td>5e6dd2ed023f1930ef4a59d1</td>\n",
              "      <td>Special Weather Statement</td>\n",
              "      <td>AREAS OF FOG HAD DEVELOPED TO THE WEST OF INTE...</td>\n",
              "      <td>IF DRIVING SLOW DOWN AND LEAVE EXTRA DISTANCE ...</td>\n",
              "      <td>Expected</td>\n",
              "      <td>Moderate</td>\n",
              "    </tr>\n",
              "    <tr>\n",
              "      <th>587579</th>\n",
              "      <td>5e6dd43e023f1930ef4f7f54</td>\n",
              "      <td>Special Weather Statement</td>\n",
              "      <td>At 529 PM MDT, Doppler radar was tracking a st...</td>\n",
              "      <td>Torrential rainfall is also occurring with thi...</td>\n",
              "      <td>Expected</td>\n",
              "      <td>Moderate</td>\n",
              "    </tr>\n",
              "    <tr>\n",
              "      <th>314713</th>\n",
              "      <td>5e6dd9ae023f1930ef64979d</td>\n",
              "      <td>Severe Thunderstorm Warning</td>\n",
              "      <td>The National Weather Service in Birmingham has...</td>\n",
              "      <td>For your protection move to an interior room o...</td>\n",
              "      <td>Immediate</td>\n",
              "      <td>Severe</td>\n",
              "    </tr>\n",
              "    <tr>\n",
              "      <th>654521</th>\n",
              "      <td>5e6dd3e6023f1930ef4e229b</td>\n",
              "      <td>Flood Warning</td>\n",
              "      <td>Affecting the following counties in Iowa Black...</td>\n",
              "      <td>PRECAUTIONARY/PREPAREDNESS ACTIONS   If you en...</td>\n",
              "      <td>Immediate</td>\n",
              "      <td>Severe</td>\n",
              "    </tr>\n",
              "  </tbody>\n",
              "</table>\n",
              "</div>\n",
              "    <div class=\"colab-df-buttons\">\n",
              "\n",
              "  <div class=\"colab-df-container\">\n",
              "    <button class=\"colab-df-convert\" onclick=\"convertToInteractive('df-59f9e0ff-4658-46d1-a173-03178469e697')\"\n",
              "            title=\"Convert this dataframe to an interactive table.\"\n",
              "            style=\"display:none;\">\n",
              "\n",
              "  <svg xmlns=\"http://www.w3.org/2000/svg\" height=\"24px\" viewBox=\"0 -960 960 960\">\n",
              "    <path d=\"M120-120v-720h720v720H120Zm60-500h600v-160H180v160Zm220 220h160v-160H400v160Zm0 220h160v-160H400v160ZM180-400h160v-160H180v160Zm440 0h160v-160H620v160ZM180-180h160v-160H180v160Zm440 0h160v-160H620v160Z\"/>\n",
              "  </svg>\n",
              "    </button>\n",
              "\n",
              "  <style>\n",
              "    .colab-df-container {\n",
              "      display:flex;\n",
              "      gap: 12px;\n",
              "    }\n",
              "\n",
              "    .colab-df-convert {\n",
              "      background-color: #E8F0FE;\n",
              "      border: none;\n",
              "      border-radius: 50%;\n",
              "      cursor: pointer;\n",
              "      display: none;\n",
              "      fill: #1967D2;\n",
              "      height: 32px;\n",
              "      padding: 0 0 0 0;\n",
              "      width: 32px;\n",
              "    }\n",
              "\n",
              "    .colab-df-convert:hover {\n",
              "      background-color: #E2EBFA;\n",
              "      box-shadow: 0px 1px 2px rgba(60, 64, 67, 0.3), 0px 1px 3px 1px rgba(60, 64, 67, 0.15);\n",
              "      fill: #174EA6;\n",
              "    }\n",
              "\n",
              "    .colab-df-buttons div {\n",
              "      margin-bottom: 4px;\n",
              "    }\n",
              "\n",
              "    [theme=dark] .colab-df-convert {\n",
              "      background-color: #3B4455;\n",
              "      fill: #D2E3FC;\n",
              "    }\n",
              "\n",
              "    [theme=dark] .colab-df-convert:hover {\n",
              "      background-color: #434B5C;\n",
              "      box-shadow: 0px 1px 3px 1px rgba(0, 0, 0, 0.15);\n",
              "      filter: drop-shadow(0px 1px 2px rgba(0, 0, 0, 0.3));\n",
              "      fill: #FFFFFF;\n",
              "    }\n",
              "  </style>\n",
              "\n",
              "    <script>\n",
              "      const buttonEl =\n",
              "        document.querySelector('#df-59f9e0ff-4658-46d1-a173-03178469e697 button.colab-df-convert');\n",
              "      buttonEl.style.display =\n",
              "        google.colab.kernel.accessAllowed ? 'block' : 'none';\n",
              "\n",
              "      async function convertToInteractive(key) {\n",
              "        const element = document.querySelector('#df-59f9e0ff-4658-46d1-a173-03178469e697');\n",
              "        const dataTable =\n",
              "          await google.colab.kernel.invokeFunction('convertToInteractive',\n",
              "                                                    [key], {});\n",
              "        if (!dataTable) return;\n",
              "\n",
              "        const docLinkHtml = 'Like what you see? Visit the ' +\n",
              "          '<a target=\"_blank\" href=https://colab.research.google.com/notebooks/data_table.ipynb>data table notebook</a>'\n",
              "          + ' to learn more about interactive tables.';\n",
              "        element.innerHTML = '';\n",
              "        dataTable['output_type'] = 'display_data';\n",
              "        await google.colab.output.renderOutput(dataTable, element);\n",
              "        const docLink = document.createElement('div');\n",
              "        docLink.innerHTML = docLinkHtml;\n",
              "        element.appendChild(docLink);\n",
              "      }\n",
              "    </script>\n",
              "  </div>\n",
              "\n",
              "\n",
              "<div id=\"df-a45cc1ec-fe69-4f0d-9a2b-d1105069674f\">\n",
              "  <button class=\"colab-df-quickchart\" onclick=\"quickchart('df-a45cc1ec-fe69-4f0d-9a2b-d1105069674f')\"\n",
              "            title=\"Suggest charts\"\n",
              "            style=\"display:none;\">\n",
              "\n",
              "<svg xmlns=\"http://www.w3.org/2000/svg\" height=\"24px\"viewBox=\"0 0 24 24\"\n",
              "     width=\"24px\">\n",
              "    <g>\n",
              "        <path d=\"M19 3H5c-1.1 0-2 .9-2 2v14c0 1.1.9 2 2 2h14c1.1 0 2-.9 2-2V5c0-1.1-.9-2-2-2zM9 17H7v-7h2v7zm4 0h-2V7h2v10zm4 0h-2v-4h2v4z\"/>\n",
              "    </g>\n",
              "</svg>\n",
              "  </button>\n",
              "\n",
              "<style>\n",
              "  .colab-df-quickchart {\n",
              "      --bg-color: #E8F0FE;\n",
              "      --fill-color: #1967D2;\n",
              "      --hover-bg-color: #E2EBFA;\n",
              "      --hover-fill-color: #174EA6;\n",
              "      --disabled-fill-color: #AAA;\n",
              "      --disabled-bg-color: #DDD;\n",
              "  }\n",
              "\n",
              "  [theme=dark] .colab-df-quickchart {\n",
              "      --bg-color: #3B4455;\n",
              "      --fill-color: #D2E3FC;\n",
              "      --hover-bg-color: #434B5C;\n",
              "      --hover-fill-color: #FFFFFF;\n",
              "      --disabled-bg-color: #3B4455;\n",
              "      --disabled-fill-color: #666;\n",
              "  }\n",
              "\n",
              "  .colab-df-quickchart {\n",
              "    background-color: var(--bg-color);\n",
              "    border: none;\n",
              "    border-radius: 50%;\n",
              "    cursor: pointer;\n",
              "    display: none;\n",
              "    fill: var(--fill-color);\n",
              "    height: 32px;\n",
              "    padding: 0;\n",
              "    width: 32px;\n",
              "  }\n",
              "\n",
              "  .colab-df-quickchart:hover {\n",
              "    background-color: var(--hover-bg-color);\n",
              "    box-shadow: 0 1px 2px rgba(60, 64, 67, 0.3), 0 1px 3px 1px rgba(60, 64, 67, 0.15);\n",
              "    fill: var(--button-hover-fill-color);\n",
              "  }\n",
              "\n",
              "  .colab-df-quickchart-complete:disabled,\n",
              "  .colab-df-quickchart-complete:disabled:hover {\n",
              "    background-color: var(--disabled-bg-color);\n",
              "    fill: var(--disabled-fill-color);\n",
              "    box-shadow: none;\n",
              "  }\n",
              "\n",
              "  .colab-df-spinner {\n",
              "    border: 2px solid var(--fill-color);\n",
              "    border-color: transparent;\n",
              "    border-bottom-color: var(--fill-color);\n",
              "    animation:\n",
              "      spin 1s steps(1) infinite;\n",
              "  }\n",
              "\n",
              "  @keyframes spin {\n",
              "    0% {\n",
              "      border-color: transparent;\n",
              "      border-bottom-color: var(--fill-color);\n",
              "      border-left-color: var(--fill-color);\n",
              "    }\n",
              "    20% {\n",
              "      border-color: transparent;\n",
              "      border-left-color: var(--fill-color);\n",
              "      border-top-color: var(--fill-color);\n",
              "    }\n",
              "    30% {\n",
              "      border-color: transparent;\n",
              "      border-left-color: var(--fill-color);\n",
              "      border-top-color: var(--fill-color);\n",
              "      border-right-color: var(--fill-color);\n",
              "    }\n",
              "    40% {\n",
              "      border-color: transparent;\n",
              "      border-right-color: var(--fill-color);\n",
              "      border-top-color: var(--fill-color);\n",
              "    }\n",
              "    60% {\n",
              "      border-color: transparent;\n",
              "      border-right-color: var(--fill-color);\n",
              "    }\n",
              "    80% {\n",
              "      border-color: transparent;\n",
              "      border-right-color: var(--fill-color);\n",
              "      border-bottom-color: var(--fill-color);\n",
              "    }\n",
              "    90% {\n",
              "      border-color: transparent;\n",
              "      border-bottom-color: var(--fill-color);\n",
              "    }\n",
              "  }\n",
              "</style>\n",
              "\n",
              "  <script>\n",
              "    async function quickchart(key) {\n",
              "      const quickchartButtonEl =\n",
              "        document.querySelector('#' + key + ' button');\n",
              "      quickchartButtonEl.disabled = true;  // To prevent multiple clicks.\n",
              "      quickchartButtonEl.classList.add('colab-df-spinner');\n",
              "      try {\n",
              "        const charts = await google.colab.kernel.invokeFunction(\n",
              "            'suggestCharts', [key], {});\n",
              "      } catch (error) {\n",
              "        console.error('Error during call to suggestCharts:', error);\n",
              "      }\n",
              "      quickchartButtonEl.classList.remove('colab-df-spinner');\n",
              "      quickchartButtonEl.classList.add('colab-df-quickchart-complete');\n",
              "    }\n",
              "    (() => {\n",
              "      let quickchartButtonEl =\n",
              "        document.querySelector('#df-a45cc1ec-fe69-4f0d-9a2b-d1105069674f button');\n",
              "      quickchartButtonEl.style.display =\n",
              "        google.colab.kernel.accessAllowed ? 'block' : 'none';\n",
              "    })();\n",
              "  </script>\n",
              "</div>\n",
              "\n",
              "    </div>\n",
              "  </div>\n"
            ],
            "application/vnd.google.colaboratory.intrinsic+json": {
              "type": "dataframe",
              "summary": "{\n  \"name\": \"df_alertas\",\n  \"rows\": 30,\n  \"fields\": [\n    {\n      \"column\": \"id\",\n      \"properties\": {\n        \"dtype\": \"string\",\n        \"num_unique_values\": 30,\n        \"samples\": [\n          \"5e6dd43e023f1930ef4f7f54\",\n          \"5e6dd35a023f1930ef4bfd4f\",\n          \"5e7e11f8023f1930efd76a56\"\n        ],\n        \"semantic_type\": \"\",\n        \"description\": \"\"\n      }\n    },\n    {\n      \"column\": \"event\",\n      \"properties\": {\n        \"dtype\": \"category\",\n        \"num_unique_values\": 14,\n        \"samples\": [\n          \"Coastal Flood Warning\",\n          \"Flood Statement\",\n          \"Severe Thunderstorm Warning\"\n        ],\n        \"semantic_type\": \"\",\n        \"description\": \"\"\n      }\n    },\n    {\n      \"column\": \"description\",\n      \"properties\": {\n        \"dtype\": \"string\",\n        \"num_unique_values\": 30,\n        \"samples\": [\n          \"At 529 PM MDT, Doppler radar was tracking a strong thunderstorm near\\nCreston Junction, or 17 miles east of Wamsutter, moving east at 30\\nmph.\\n\\nNickel size hail will be possible with this storm.\\n\\nThis storm will remain over mainly rural areas of eastern Sweetwater\\nCounty.\\n\\nThis includes Interstate 80 between mile markers 187 and 198.\\n\",\n          \"THE NATIONAL WEATHER SERVICE IN PADUCAH HAS ISSUED A\\n\\n* TORNADO WARNING FOR \\n  SOUTH CENTRAL UNION COUNTY IN SOUTHERN ILLINOIS \\n  NORTHWESTERN ALEXANDER COUNTY IN SOUTHERN ILLINOIS \\n\\n* UNTIL 815 PM CDT\\n\\n* AT 742 PM CDT A SEVERE THUNDERSTORM CAPABLE OF PRODUCING A\\n  TORNADO WAS LOCATED OVER EAST CAPE GIRARDEAU OR NEAR CAPE\\n  GIRARDEAU MOVING EAST AT 45 MPH.\\n\\n  HAZARD TORNADO. \\n\\n  SOURCE WEATHER SPOTTERS REPORTED FUNNEL CLOUD. \\n\\n  IMPACT FLYING DEBRIS WILL BE DANGEROUS TO THOSE CAUGHT WITHOUT \\n           SHELTER. MOBILE HOMES WILL BE DAMAGED OR DESTROYED. \\n           DAMAGE TO ROOFS WINDOWS AND VEHICLES WILL OCCUR.  TREE \\n           DAMAGE IS LIKELY. \\n\\n* THIS DANGEROUS STORM WILL BE NEAR \\n  TAMMS AROUND 755 PM CDT.\\n\\nOTHER LOCATIONS IMPACTED BY THIS TORNADIC THUNDERSTORM INCLUDE EAST\\nCAPE GIRARDEA MILL CREEK AND THEBES.\",\n          \"* WHAT Minor lakeshore flooding expected.\\n\\n* WHERE Presque Isle, Alpena, Alcona, Ogemaw, Iosco, Arenac,\\nSoutheast Chippewa, Eastern Mackinac and Mackinac Island/Bois\\nBlanc Island Counties.\\n\\n* WHEN From 5 AM to 1 PM EST Saturday.\\n\\n* IMPACTS Some water on low lying roads and property along the\\nlakeshore.\"\n        ],\n        \"semantic_type\": \"\",\n        \"description\": \"\"\n      }\n    },\n    {\n      \"column\": \"instruction\",\n      \"properties\": {\n        \"dtype\": \"string\",\n        \"num_unique_values\": 28,\n        \"samples\": [\n          \"PRECAUTIONARY/PREPAREDNESS ACTIONS   Safety message turn around, don't drown   - Don't travel through flooded areas!  - Persons in the warned area need to take steps to protect life and property. If necessary, move to a higher and safer location.  - Persons living in the Red River Basin should monitor river levels while the river is in, or near, flood.  For more information go to the AHPS/River section on our web page at:      www.weather.gov/grandforks  \",\n          \"Persons in campgrounds should consider seeking sturdy shelter until this storm passes.  \",\n          \"TORNADOES ARE EXTREMELY DIFFICULT TO SEE AND CONFIRM AT NIGHT. DO NOT WAIT TO SEE OR HEAR THE TORNADO. TAKE COVER NOW.  HEAVY RAINFALL MAY HIDE THIS TORNADO. DO NOT WAIT TO SEE OR HEAR THE TORNADO. TAKE COVER NOW.  TO REPEAT A TORNADO IS ON THE GROUND. TAKE COVER NOW! MOVE TO A BASEMENT OR AN INTERIOR ROOM ON THE LOWEST FLOOR OF A STURDY BUILDING. AVOID WINDOWS. IF YOU ARE OUTDOORS IN A MOBILE HOME OR IN A VEHICLE MOVE TO THE CLOSEST SUBSTANTIAL SHELTER AND PROTECT YOURSELF FROM FLYING DEBRIS.  \"\n        ],\n        \"semantic_type\": \"\",\n        \"description\": \"\"\n      }\n    },\n    {\n      \"column\": \"urgency\",\n      \"properties\": {\n        \"dtype\": \"category\",\n        \"num_unique_values\": 2,\n        \"samples\": [\n          \"Expected\",\n          \"Immediate\"\n        ],\n        \"semantic_type\": \"\",\n        \"description\": \"\"\n      }\n    },\n    {\n      \"column\": \"severity\",\n      \"properties\": {\n        \"dtype\": \"category\",\n        \"num_unique_values\": 4,\n        \"samples\": [\n          \"Moderate\",\n          \"Minor\"\n        ],\n        \"semantic_type\": \"\",\n        \"description\": \"\"\n      }\n    }\n  ]\n}"
            }
          },
          "metadata": {},
          "execution_count": 12
        }
      ]
    },
    {
      "cell_type": "markdown",
      "source": [
        "Formateamos la columna Instruction a Minúsculas."
      ],
      "metadata": {
        "id": "-4kK4jgSSJKk"
      }
    },
    {
      "cell_type": "code",
      "source": [
        "df_alertas['instruction'] = df_alertas['instruction'].str.lower()"
      ],
      "metadata": {
        "id": "ezR7n_KfySqg"
      },
      "execution_count": 13,
      "outputs": []
    },
    {
      "cell_type": "markdown",
      "source": [
        "Eliminamos puntos, comas, comillas, etc. Importamos módulo para trabajar con expresiones regulares y eliminamos puntuación usando expresiones regulares"
      ],
      "metadata": {
        "id": "ECBOWHPI_CLu"
      }
    },
    {
      "cell_type": "code",
      "source": [
        "import re\n",
        "\n",
        "df_alertas['instruction'] = df_alertas['instruction'].str.replace(r'[^\\w\\s]', '', regex=True)"
      ],
      "metadata": {
        "id": "rhIESzhm-mfD"
      },
      "execution_count": 14,
      "outputs": []
    },
    {
      "cell_type": "markdown",
      "source": [
        "Pasando numeros a letras. Usamos la libreria num2words"
      ],
      "metadata": {
        "id": "CK7KzPLz_nwh"
      }
    },
    {
      "cell_type": "code",
      "source": [
        "!pip install num2words"
      ],
      "metadata": {
        "id": "KrLCs5HZ_F-3",
        "outputId": "30a1ce42-a496-4d03-92aa-e789284f4237",
        "colab": {
          "base_uri": "https://localhost:8080/"
        }
      },
      "execution_count": 15,
      "outputs": [
        {
          "output_type": "stream",
          "name": "stdout",
          "text": [
            "Collecting num2words\n",
            "  Downloading num2words-0.5.13-py3-none-any.whl (143 kB)\n",
            "\u001b[?25l     \u001b[90m━━━━━━━━━━━━━━━━━━━━━━━━━━━━━━━━━━━━━━━━\u001b[0m \u001b[32m0.0/143.3 kB\u001b[0m \u001b[31m?\u001b[0m eta \u001b[36m-:--:--\u001b[0m\r\u001b[2K     \u001b[90m━━━━━━━━━━━━━━━━━━━━━━━━━━━━━━━━━━━━━━━━\u001b[0m \u001b[32m143.3/143.3 kB\u001b[0m \u001b[31m4.0 MB/s\u001b[0m eta \u001b[36m0:00:00\u001b[0m\n",
            "\u001b[?25hCollecting docopt>=0.6.2 (from num2words)\n",
            "  Downloading docopt-0.6.2.tar.gz (25 kB)\n",
            "  Preparing metadata (setup.py) ... \u001b[?25l\u001b[?25hdone\n",
            "Building wheels for collected packages: docopt\n",
            "  Building wheel for docopt (setup.py) ... \u001b[?25l\u001b[?25hdone\n",
            "  Created wheel for docopt: filename=docopt-0.6.2-py2.py3-none-any.whl size=13706 sha256=743f91aa5a9e8f14f63d07c410c3c0a762565b71ffaf8e786900f61573b86d09\n",
            "  Stored in directory: /root/.cache/pip/wheels/fc/ab/d4/5da2067ac95b36618c629a5f93f809425700506f72c9732fac\n",
            "Successfully built docopt\n",
            "Installing collected packages: docopt, num2words\n",
            "Successfully installed docopt-0.6.2 num2words-0.5.13\n"
          ]
        }
      ]
    },
    {
      "cell_type": "code",
      "source": [
        "from num2words import num2words\n",
        "\n",
        "# Función para extraer números de una cadena de texto y convertirlos en palabras\n",
        "def convert_numbers_to_words(text):\n",
        "    numbers = re.findall(r'\\d+', text) #Busca numeros\n",
        "    for number in numbers:\n",
        "        text = text.replace(number, num2words(int(number)))\n",
        "    return text\n",
        "\n",
        "df_alertas['instruction'] = df_alertas['instruction'].apply(convert_numbers_to_words)"
      ],
      "metadata": {
        "id": "a8ftK2P8_acF"
      },
      "execution_count": 16,
      "outputs": []
    },
    {
      "cell_type": "code",
      "source": [
        "df_alertas.sample(30)"
      ],
      "metadata": {
        "id": "ECFu9Oh-__RK",
        "outputId": "341d0751-a9a9-4327-a1e2-31d8fc96a956",
        "colab": {
          "base_uri": "https://localhost:8080/",
          "height": 1000
        }
      },
      "execution_count": 17,
      "outputs": [
        {
          "output_type": "execute_result",
          "data": {
            "text/plain": [
              "                              id                        event  \\\n",
              "515372  5e6dd53a023f1930ef536bf8       Coastal Flood Advisory   \n",
              "69594   5e7e125a023f1930efd8e11e           Winter Storm Watch   \n",
              "616664  5e6dd491023f1930ef50cece    Special Weather Statement   \n",
              "305819  5e6db902023f1930efd67e58               Freeze Warning   \n",
              "734988  5e6dd268023f1930ef485451                Wind Advisory   \n",
              "63196   5e6db127023f1930efaeec83              High Wind Watch   \n",
              "343418  5e6dda7c023f1930ef67a749                Flood Warning   \n",
              "140166  5e6db306023f1930efb86469                Flood Warning   \n",
              "680045  5e6dbfeb023f1930eff6ef3d  Severe Thunderstorm Warning   \n",
              "435202  5e6dd6c2023f1930ef597cd3           Dense Fog Advisory   \n",
              "730537  5e6dd1c6023f1930ef45bc25  Severe Thunderstorm Warning   \n",
              "13697   5ec2f57e283336e2e7fa0d34     Lakeshore Flood Advisory   \n",
              "426551  5e6dd746023f1930ef5b98b0              High Wind Watch   \n",
              "259449  5e6db7bf023f1930efd0898f  Severe Thunderstorm Warning   \n",
              "427691  5e6dbbb6023f1930efe339d4      Winter Weather Advisory   \n",
              "303207  5e6dda98023f1930ef680ce0              Tornado Warning   \n",
              "339017  5e6dda6b023f1930ef676418                  Flood Watch   \n",
              "15965   5e6daf89023f1930efa75827  Severe Thunderstorm Warning   \n",
              "589444  5e6dbeac023f1930eff14f59  Severe Thunderstorm Warning   \n",
              "625341  5e6dbf1d023f1930eff355f3     Severe Weather Statement   \n",
              "504167  5e6dd569023f1930ef542837          Flash Flood Warning   \n",
              "294525  5e6db8aa023f1930efd4df6d                Flood Warning   \n",
              "664082  5e6dbfbb023f1930eff61c98  Severe Thunderstorm Warning   \n",
              "30805   5e6dafc4023f1930efa86ca4              Tornado Warning   \n",
              "239872  5e6db6ef023f1930efcc8995          Flash Flood Warning   \n",
              "744046  5e6dd1ae023f1930ef455c86       Coastal Flood Advisory   \n",
              "203928  5e6dde6b023f1930ef75fe44                Flood Warning   \n",
              "205678  5e6ddea6023f1930ef76cce6                Heat Advisory   \n",
              "334255  5e6ddb2f023f1930ef6a3a27                Flood Warning   \n",
              "65361   5e6db14d023f1930efafa2f3                Flood Warning   \n",
              "\n",
              "                                              description  \\\n",
              "515372  * LOCATIONS Shoreline in Arlington County and ...   \n",
              "69594   * WHAT Periods of moderate to briefly heavy sn...   \n",
              "616664  AT 512 PM EDT NATIONAL WEATHER SERVICE DOPPLER...   \n",
              "305819  The National Weather Service in Medford has is...   \n",
              "734988  The National Weather Service in Las Vegas has ...   \n",
              "63196   * WHAT West winds 30 to 45 mph with gusts most...   \n",
              "343418  Elkhorn River At West Point affecting Cuming C...   \n",
              "140166   The Flood Warning continues for the following...   \n",
              "680045  The National Weather Service in Dodge City has...   \n",
              "435202  The National Weather Service in Chicago has is...   \n",
              "730537  At 459 PM CDT, a severe thunderstorm was locat...   \n",
              "13697   * WHAT Minor lakeshore flooding.\\n\\n* WHERE Ch...   \n",
              "426551  The High Wind Watch has been replaced. Please ...   \n",
              "259449  At 532 PM CDT, a severe thunderstorm was locat...   \n",
              "427691  * WHAT Snow and blowing snow expected. Additio...   \n",
              "303207  The National Weather Service in Tulsa has issu...   \n",
              "339017  The Flood Watch continues for\\n\\n* The souther...   \n",
              "15965   The National Weather Service in Norman has iss...   \n",
              "589444  THE NATIONAL WEATHER SERVICE IN MOUNT HOLLY NJ...   \n",
              "625341  AT 1155 PM CDT 1255 AM EDT SEVERE THUNDERSTORM...   \n",
              "504167  The National Weather Service in Wakefield has ...   \n",
              "294525  The National Weather Service in Dodge City has...   \n",
              "664082  THE NATIONAL WEATHER SERVICE IN ALBUQUERQUE HA...   \n",
              "30805   The National Weather Service in Charleston has...   \n",
              "239872  The National Weather Service in Raleigh has is...   \n",
              "744046  * LOCATIONS Eastern shore of the Maryland Ches...   \n",
              "203928   The Flood Warning continues for the following...   \n",
              "205678   Excessive Heat and Humidity Continues through...   \n",
              "334255  The Mississippi River At Red River Landing aff...   \n",
              "65361    The Flood Warning continues for the following...   \n",
              "\n",
              "                                              instruction    urgency  severity  \n",
              "515372  a coastal flood advisory indicates that onshor...   Expected     Minor  \n",
              "69594   monitor the latest forecasts for updates on th...     Future    Severe  \n",
              "616664  be aware that a gust front preceding this stor...   Expected  Moderate  \n",
              "305819  a frost advisory means that widespread frost i...   Expected  Moderate  \n",
              "734988  a wind advisory means strong winds gusting ove...   Expected  Moderate  \n",
              "63196   monitor the latest forecasts and warnings for ...     Future    Severe  \n",
              "343418  precautionarypreparedness actions   do not dri...  Immediate    Severe  \n",
              "140166  do not drive or walk through areas where water...  Immediate    Severe  \n",
              "680045  for your protection move to an interior room o...  Immediate    Severe  \n",
              "435202  a small craft advisory means that wind speeds ...   Expected     Minor  \n",
              "730537  for your protection move to an interior room o...  Immediate    Severe  \n",
              "13697   residents on or near the shore should take app...   Expected     Minor  \n",
              "426551  a wind advisory means that winds of thirty-fiv...       Past    Severe  \n",
              "259449  this is a dangerous storm prepare immediately ...  Immediate    Severe  \n",
              "427691  a winter weather advisory for snow means perio...   Expected  Moderate  \n",
              "303207  take cover now move to a basement or an interi...  Immediate   Extreme  \n",
              "339017  a flood watch means there is the potential for...     Future    Severe  \n",
              "15965   for your protection move to an interior room o...  Immediate    Severe  \n",
              "589444  in addition to large hail and damaging winds f...  Immediate    Severe  \n",
              "625341  torrential rainfall is occurring with these st...  Immediate    Severe  \n",
              "504167  turn around dont drown when encountering flood...  Immediate    Severe  \n",
              "294525  be especially cautious at night when it is har...   Expected    Severe  \n",
              "664082  torrential rainfall is occurring with this sto...  Immediate    Severe  \n",
              "30805   take cover now move to an interior room on the...  Immediate   Extreme  \n",
              "239872  turn around dont drown when encountering flood...  Immediate    Severe  \n",
              "744046  a coastal flood advisory means that minor tida...   Expected     Minor  \n",
              "203928  do not drive through flowing water nearly half...  Immediate    Severe  \n",
              "205678  a heat advisory means high humidities are expe...   Expected  Moderate  \n",
              "334255  precautionarypreparedness actions   forecast c...  Immediate    Severe  \n",
              "65361   do not drive or walk through areas where water...  Immediate    Severe  "
            ],
            "text/html": [
              "\n",
              "  <div id=\"df-0d0bb776-1733-4f06-a7c2-2d399cf4d2f6\" class=\"colab-df-container\">\n",
              "    <div>\n",
              "<style scoped>\n",
              "    .dataframe tbody tr th:only-of-type {\n",
              "        vertical-align: middle;\n",
              "    }\n",
              "\n",
              "    .dataframe tbody tr th {\n",
              "        vertical-align: top;\n",
              "    }\n",
              "\n",
              "    .dataframe thead th {\n",
              "        text-align: right;\n",
              "    }\n",
              "</style>\n",
              "<table border=\"1\" class=\"dataframe\">\n",
              "  <thead>\n",
              "    <tr style=\"text-align: right;\">\n",
              "      <th></th>\n",
              "      <th>id</th>\n",
              "      <th>event</th>\n",
              "      <th>description</th>\n",
              "      <th>instruction</th>\n",
              "      <th>urgency</th>\n",
              "      <th>severity</th>\n",
              "    </tr>\n",
              "  </thead>\n",
              "  <tbody>\n",
              "    <tr>\n",
              "      <th>515372</th>\n",
              "      <td>5e6dd53a023f1930ef536bf8</td>\n",
              "      <td>Coastal Flood Advisory</td>\n",
              "      <td>* LOCATIONS Shoreline in Arlington County and ...</td>\n",
              "      <td>a coastal flood advisory indicates that onshor...</td>\n",
              "      <td>Expected</td>\n",
              "      <td>Minor</td>\n",
              "    </tr>\n",
              "    <tr>\n",
              "      <th>69594</th>\n",
              "      <td>5e7e125a023f1930efd8e11e</td>\n",
              "      <td>Winter Storm Watch</td>\n",
              "      <td>* WHAT Periods of moderate to briefly heavy sn...</td>\n",
              "      <td>monitor the latest forecasts for updates on th...</td>\n",
              "      <td>Future</td>\n",
              "      <td>Severe</td>\n",
              "    </tr>\n",
              "    <tr>\n",
              "      <th>616664</th>\n",
              "      <td>5e6dd491023f1930ef50cece</td>\n",
              "      <td>Special Weather Statement</td>\n",
              "      <td>AT 512 PM EDT NATIONAL WEATHER SERVICE DOPPLER...</td>\n",
              "      <td>be aware that a gust front preceding this stor...</td>\n",
              "      <td>Expected</td>\n",
              "      <td>Moderate</td>\n",
              "    </tr>\n",
              "    <tr>\n",
              "      <th>305819</th>\n",
              "      <td>5e6db902023f1930efd67e58</td>\n",
              "      <td>Freeze Warning</td>\n",
              "      <td>The National Weather Service in Medford has is...</td>\n",
              "      <td>a frost advisory means that widespread frost i...</td>\n",
              "      <td>Expected</td>\n",
              "      <td>Moderate</td>\n",
              "    </tr>\n",
              "    <tr>\n",
              "      <th>734988</th>\n",
              "      <td>5e6dd268023f1930ef485451</td>\n",
              "      <td>Wind Advisory</td>\n",
              "      <td>The National Weather Service in Las Vegas has ...</td>\n",
              "      <td>a wind advisory means strong winds gusting ove...</td>\n",
              "      <td>Expected</td>\n",
              "      <td>Moderate</td>\n",
              "    </tr>\n",
              "    <tr>\n",
              "      <th>63196</th>\n",
              "      <td>5e6db127023f1930efaeec83</td>\n",
              "      <td>High Wind Watch</td>\n",
              "      <td>* WHAT West winds 30 to 45 mph with gusts most...</td>\n",
              "      <td>monitor the latest forecasts and warnings for ...</td>\n",
              "      <td>Future</td>\n",
              "      <td>Severe</td>\n",
              "    </tr>\n",
              "    <tr>\n",
              "      <th>343418</th>\n",
              "      <td>5e6dda7c023f1930ef67a749</td>\n",
              "      <td>Flood Warning</td>\n",
              "      <td>Elkhorn River At West Point affecting Cuming C...</td>\n",
              "      <td>precautionarypreparedness actions   do not dri...</td>\n",
              "      <td>Immediate</td>\n",
              "      <td>Severe</td>\n",
              "    </tr>\n",
              "    <tr>\n",
              "      <th>140166</th>\n",
              "      <td>5e6db306023f1930efb86469</td>\n",
              "      <td>Flood Warning</td>\n",
              "      <td>The Flood Warning continues for the following...</td>\n",
              "      <td>do not drive or walk through areas where water...</td>\n",
              "      <td>Immediate</td>\n",
              "      <td>Severe</td>\n",
              "    </tr>\n",
              "    <tr>\n",
              "      <th>680045</th>\n",
              "      <td>5e6dbfeb023f1930eff6ef3d</td>\n",
              "      <td>Severe Thunderstorm Warning</td>\n",
              "      <td>The National Weather Service in Dodge City has...</td>\n",
              "      <td>for your protection move to an interior room o...</td>\n",
              "      <td>Immediate</td>\n",
              "      <td>Severe</td>\n",
              "    </tr>\n",
              "    <tr>\n",
              "      <th>435202</th>\n",
              "      <td>5e6dd6c2023f1930ef597cd3</td>\n",
              "      <td>Dense Fog Advisory</td>\n",
              "      <td>The National Weather Service in Chicago has is...</td>\n",
              "      <td>a small craft advisory means that wind speeds ...</td>\n",
              "      <td>Expected</td>\n",
              "      <td>Minor</td>\n",
              "    </tr>\n",
              "    <tr>\n",
              "      <th>730537</th>\n",
              "      <td>5e6dd1c6023f1930ef45bc25</td>\n",
              "      <td>Severe Thunderstorm Warning</td>\n",
              "      <td>At 459 PM CDT, a severe thunderstorm was locat...</td>\n",
              "      <td>for your protection move to an interior room o...</td>\n",
              "      <td>Immediate</td>\n",
              "      <td>Severe</td>\n",
              "    </tr>\n",
              "    <tr>\n",
              "      <th>13697</th>\n",
              "      <td>5ec2f57e283336e2e7fa0d34</td>\n",
              "      <td>Lakeshore Flood Advisory</td>\n",
              "      <td>* WHAT Minor lakeshore flooding.\\n\\n* WHERE Ch...</td>\n",
              "      <td>residents on or near the shore should take app...</td>\n",
              "      <td>Expected</td>\n",
              "      <td>Minor</td>\n",
              "    </tr>\n",
              "    <tr>\n",
              "      <th>426551</th>\n",
              "      <td>5e6dd746023f1930ef5b98b0</td>\n",
              "      <td>High Wind Watch</td>\n",
              "      <td>The High Wind Watch has been replaced. Please ...</td>\n",
              "      <td>a wind advisory means that winds of thirty-fiv...</td>\n",
              "      <td>Past</td>\n",
              "      <td>Severe</td>\n",
              "    </tr>\n",
              "    <tr>\n",
              "      <th>259449</th>\n",
              "      <td>5e6db7bf023f1930efd0898f</td>\n",
              "      <td>Severe Thunderstorm Warning</td>\n",
              "      <td>At 532 PM CDT, a severe thunderstorm was locat...</td>\n",
              "      <td>this is a dangerous storm prepare immediately ...</td>\n",
              "      <td>Immediate</td>\n",
              "      <td>Severe</td>\n",
              "    </tr>\n",
              "    <tr>\n",
              "      <th>427691</th>\n",
              "      <td>5e6dbbb6023f1930efe339d4</td>\n",
              "      <td>Winter Weather Advisory</td>\n",
              "      <td>* WHAT Snow and blowing snow expected. Additio...</td>\n",
              "      <td>a winter weather advisory for snow means perio...</td>\n",
              "      <td>Expected</td>\n",
              "      <td>Moderate</td>\n",
              "    </tr>\n",
              "    <tr>\n",
              "      <th>303207</th>\n",
              "      <td>5e6dda98023f1930ef680ce0</td>\n",
              "      <td>Tornado Warning</td>\n",
              "      <td>The National Weather Service in Tulsa has issu...</td>\n",
              "      <td>take cover now move to a basement or an interi...</td>\n",
              "      <td>Immediate</td>\n",
              "      <td>Extreme</td>\n",
              "    </tr>\n",
              "    <tr>\n",
              "      <th>339017</th>\n",
              "      <td>5e6dda6b023f1930ef676418</td>\n",
              "      <td>Flood Watch</td>\n",
              "      <td>The Flood Watch continues for\\n\\n* The souther...</td>\n",
              "      <td>a flood watch means there is the potential for...</td>\n",
              "      <td>Future</td>\n",
              "      <td>Severe</td>\n",
              "    </tr>\n",
              "    <tr>\n",
              "      <th>15965</th>\n",
              "      <td>5e6daf89023f1930efa75827</td>\n",
              "      <td>Severe Thunderstorm Warning</td>\n",
              "      <td>The National Weather Service in Norman has iss...</td>\n",
              "      <td>for your protection move to an interior room o...</td>\n",
              "      <td>Immediate</td>\n",
              "      <td>Severe</td>\n",
              "    </tr>\n",
              "    <tr>\n",
              "      <th>589444</th>\n",
              "      <td>5e6dbeac023f1930eff14f59</td>\n",
              "      <td>Severe Thunderstorm Warning</td>\n",
              "      <td>THE NATIONAL WEATHER SERVICE IN MOUNT HOLLY NJ...</td>\n",
              "      <td>in addition to large hail and damaging winds f...</td>\n",
              "      <td>Immediate</td>\n",
              "      <td>Severe</td>\n",
              "    </tr>\n",
              "    <tr>\n",
              "      <th>625341</th>\n",
              "      <td>5e6dbf1d023f1930eff355f3</td>\n",
              "      <td>Severe Weather Statement</td>\n",
              "      <td>AT 1155 PM CDT 1255 AM EDT SEVERE THUNDERSTORM...</td>\n",
              "      <td>torrential rainfall is occurring with these st...</td>\n",
              "      <td>Immediate</td>\n",
              "      <td>Severe</td>\n",
              "    </tr>\n",
              "    <tr>\n",
              "      <th>504167</th>\n",
              "      <td>5e6dd569023f1930ef542837</td>\n",
              "      <td>Flash Flood Warning</td>\n",
              "      <td>The National Weather Service in Wakefield has ...</td>\n",
              "      <td>turn around dont drown when encountering flood...</td>\n",
              "      <td>Immediate</td>\n",
              "      <td>Severe</td>\n",
              "    </tr>\n",
              "    <tr>\n",
              "      <th>294525</th>\n",
              "      <td>5e6db8aa023f1930efd4df6d</td>\n",
              "      <td>Flood Warning</td>\n",
              "      <td>The National Weather Service in Dodge City has...</td>\n",
              "      <td>be especially cautious at night when it is har...</td>\n",
              "      <td>Expected</td>\n",
              "      <td>Severe</td>\n",
              "    </tr>\n",
              "    <tr>\n",
              "      <th>664082</th>\n",
              "      <td>5e6dbfbb023f1930eff61c98</td>\n",
              "      <td>Severe Thunderstorm Warning</td>\n",
              "      <td>THE NATIONAL WEATHER SERVICE IN ALBUQUERQUE HA...</td>\n",
              "      <td>torrential rainfall is occurring with this sto...</td>\n",
              "      <td>Immediate</td>\n",
              "      <td>Severe</td>\n",
              "    </tr>\n",
              "    <tr>\n",
              "      <th>30805</th>\n",
              "      <td>5e6dafc4023f1930efa86ca4</td>\n",
              "      <td>Tornado Warning</td>\n",
              "      <td>The National Weather Service in Charleston has...</td>\n",
              "      <td>take cover now move to an interior room on the...</td>\n",
              "      <td>Immediate</td>\n",
              "      <td>Extreme</td>\n",
              "    </tr>\n",
              "    <tr>\n",
              "      <th>239872</th>\n",
              "      <td>5e6db6ef023f1930efcc8995</td>\n",
              "      <td>Flash Flood Warning</td>\n",
              "      <td>The National Weather Service in Raleigh has is...</td>\n",
              "      <td>turn around dont drown when encountering flood...</td>\n",
              "      <td>Immediate</td>\n",
              "      <td>Severe</td>\n",
              "    </tr>\n",
              "    <tr>\n",
              "      <th>744046</th>\n",
              "      <td>5e6dd1ae023f1930ef455c86</td>\n",
              "      <td>Coastal Flood Advisory</td>\n",
              "      <td>* LOCATIONS Eastern shore of the Maryland Ches...</td>\n",
              "      <td>a coastal flood advisory means that minor tida...</td>\n",
              "      <td>Expected</td>\n",
              "      <td>Minor</td>\n",
              "    </tr>\n",
              "    <tr>\n",
              "      <th>203928</th>\n",
              "      <td>5e6dde6b023f1930ef75fe44</td>\n",
              "      <td>Flood Warning</td>\n",
              "      <td>The Flood Warning continues for the following...</td>\n",
              "      <td>do not drive through flowing water nearly half...</td>\n",
              "      <td>Immediate</td>\n",
              "      <td>Severe</td>\n",
              "    </tr>\n",
              "    <tr>\n",
              "      <th>205678</th>\n",
              "      <td>5e6ddea6023f1930ef76cce6</td>\n",
              "      <td>Heat Advisory</td>\n",
              "      <td>Excessive Heat and Humidity Continues through...</td>\n",
              "      <td>a heat advisory means high humidities are expe...</td>\n",
              "      <td>Expected</td>\n",
              "      <td>Moderate</td>\n",
              "    </tr>\n",
              "    <tr>\n",
              "      <th>334255</th>\n",
              "      <td>5e6ddb2f023f1930ef6a3a27</td>\n",
              "      <td>Flood Warning</td>\n",
              "      <td>The Mississippi River At Red River Landing aff...</td>\n",
              "      <td>precautionarypreparedness actions   forecast c...</td>\n",
              "      <td>Immediate</td>\n",
              "      <td>Severe</td>\n",
              "    </tr>\n",
              "    <tr>\n",
              "      <th>65361</th>\n",
              "      <td>5e6db14d023f1930efafa2f3</td>\n",
              "      <td>Flood Warning</td>\n",
              "      <td>The Flood Warning continues for the following...</td>\n",
              "      <td>do not drive or walk through areas where water...</td>\n",
              "      <td>Immediate</td>\n",
              "      <td>Severe</td>\n",
              "    </tr>\n",
              "  </tbody>\n",
              "</table>\n",
              "</div>\n",
              "    <div class=\"colab-df-buttons\">\n",
              "\n",
              "  <div class=\"colab-df-container\">\n",
              "    <button class=\"colab-df-convert\" onclick=\"convertToInteractive('df-0d0bb776-1733-4f06-a7c2-2d399cf4d2f6')\"\n",
              "            title=\"Convert this dataframe to an interactive table.\"\n",
              "            style=\"display:none;\">\n",
              "\n",
              "  <svg xmlns=\"http://www.w3.org/2000/svg\" height=\"24px\" viewBox=\"0 -960 960 960\">\n",
              "    <path d=\"M120-120v-720h720v720H120Zm60-500h600v-160H180v160Zm220 220h160v-160H400v160Zm0 220h160v-160H400v160ZM180-400h160v-160H180v160Zm440 0h160v-160H620v160ZM180-180h160v-160H180v160Zm440 0h160v-160H620v160Z\"/>\n",
              "  </svg>\n",
              "    </button>\n",
              "\n",
              "  <style>\n",
              "    .colab-df-container {\n",
              "      display:flex;\n",
              "      gap: 12px;\n",
              "    }\n",
              "\n",
              "    .colab-df-convert {\n",
              "      background-color: #E8F0FE;\n",
              "      border: none;\n",
              "      border-radius: 50%;\n",
              "      cursor: pointer;\n",
              "      display: none;\n",
              "      fill: #1967D2;\n",
              "      height: 32px;\n",
              "      padding: 0 0 0 0;\n",
              "      width: 32px;\n",
              "    }\n",
              "\n",
              "    .colab-df-convert:hover {\n",
              "      background-color: #E2EBFA;\n",
              "      box-shadow: 0px 1px 2px rgba(60, 64, 67, 0.3), 0px 1px 3px 1px rgba(60, 64, 67, 0.15);\n",
              "      fill: #174EA6;\n",
              "    }\n",
              "\n",
              "    .colab-df-buttons div {\n",
              "      margin-bottom: 4px;\n",
              "    }\n",
              "\n",
              "    [theme=dark] .colab-df-convert {\n",
              "      background-color: #3B4455;\n",
              "      fill: #D2E3FC;\n",
              "    }\n",
              "\n",
              "    [theme=dark] .colab-df-convert:hover {\n",
              "      background-color: #434B5C;\n",
              "      box-shadow: 0px 1px 3px 1px rgba(0, 0, 0, 0.15);\n",
              "      filter: drop-shadow(0px 1px 2px rgba(0, 0, 0, 0.3));\n",
              "      fill: #FFFFFF;\n",
              "    }\n",
              "  </style>\n",
              "\n",
              "    <script>\n",
              "      const buttonEl =\n",
              "        document.querySelector('#df-0d0bb776-1733-4f06-a7c2-2d399cf4d2f6 button.colab-df-convert');\n",
              "      buttonEl.style.display =\n",
              "        google.colab.kernel.accessAllowed ? 'block' : 'none';\n",
              "\n",
              "      async function convertToInteractive(key) {\n",
              "        const element = document.querySelector('#df-0d0bb776-1733-4f06-a7c2-2d399cf4d2f6');\n",
              "        const dataTable =\n",
              "          await google.colab.kernel.invokeFunction('convertToInteractive',\n",
              "                                                    [key], {});\n",
              "        if (!dataTable) return;\n",
              "\n",
              "        const docLinkHtml = 'Like what you see? Visit the ' +\n",
              "          '<a target=\"_blank\" href=https://colab.research.google.com/notebooks/data_table.ipynb>data table notebook</a>'\n",
              "          + ' to learn more about interactive tables.';\n",
              "        element.innerHTML = '';\n",
              "        dataTable['output_type'] = 'display_data';\n",
              "        await google.colab.output.renderOutput(dataTable, element);\n",
              "        const docLink = document.createElement('div');\n",
              "        docLink.innerHTML = docLinkHtml;\n",
              "        element.appendChild(docLink);\n",
              "      }\n",
              "    </script>\n",
              "  </div>\n",
              "\n",
              "\n",
              "<div id=\"df-36377bc0-0bff-4fc8-a8cb-e4238790891e\">\n",
              "  <button class=\"colab-df-quickchart\" onclick=\"quickchart('df-36377bc0-0bff-4fc8-a8cb-e4238790891e')\"\n",
              "            title=\"Suggest charts\"\n",
              "            style=\"display:none;\">\n",
              "\n",
              "<svg xmlns=\"http://www.w3.org/2000/svg\" height=\"24px\"viewBox=\"0 0 24 24\"\n",
              "     width=\"24px\">\n",
              "    <g>\n",
              "        <path d=\"M19 3H5c-1.1 0-2 .9-2 2v14c0 1.1.9 2 2 2h14c1.1 0 2-.9 2-2V5c0-1.1-.9-2-2-2zM9 17H7v-7h2v7zm4 0h-2V7h2v10zm4 0h-2v-4h2v4z\"/>\n",
              "    </g>\n",
              "</svg>\n",
              "  </button>\n",
              "\n",
              "<style>\n",
              "  .colab-df-quickchart {\n",
              "      --bg-color: #E8F0FE;\n",
              "      --fill-color: #1967D2;\n",
              "      --hover-bg-color: #E2EBFA;\n",
              "      --hover-fill-color: #174EA6;\n",
              "      --disabled-fill-color: #AAA;\n",
              "      --disabled-bg-color: #DDD;\n",
              "  }\n",
              "\n",
              "  [theme=dark] .colab-df-quickchart {\n",
              "      --bg-color: #3B4455;\n",
              "      --fill-color: #D2E3FC;\n",
              "      --hover-bg-color: #434B5C;\n",
              "      --hover-fill-color: #FFFFFF;\n",
              "      --disabled-bg-color: #3B4455;\n",
              "      --disabled-fill-color: #666;\n",
              "  }\n",
              "\n",
              "  .colab-df-quickchart {\n",
              "    background-color: var(--bg-color);\n",
              "    border: none;\n",
              "    border-radius: 50%;\n",
              "    cursor: pointer;\n",
              "    display: none;\n",
              "    fill: var(--fill-color);\n",
              "    height: 32px;\n",
              "    padding: 0;\n",
              "    width: 32px;\n",
              "  }\n",
              "\n",
              "  .colab-df-quickchart:hover {\n",
              "    background-color: var(--hover-bg-color);\n",
              "    box-shadow: 0 1px 2px rgba(60, 64, 67, 0.3), 0 1px 3px 1px rgba(60, 64, 67, 0.15);\n",
              "    fill: var(--button-hover-fill-color);\n",
              "  }\n",
              "\n",
              "  .colab-df-quickchart-complete:disabled,\n",
              "  .colab-df-quickchart-complete:disabled:hover {\n",
              "    background-color: var(--disabled-bg-color);\n",
              "    fill: var(--disabled-fill-color);\n",
              "    box-shadow: none;\n",
              "  }\n",
              "\n",
              "  .colab-df-spinner {\n",
              "    border: 2px solid var(--fill-color);\n",
              "    border-color: transparent;\n",
              "    border-bottom-color: var(--fill-color);\n",
              "    animation:\n",
              "      spin 1s steps(1) infinite;\n",
              "  }\n",
              "\n",
              "  @keyframes spin {\n",
              "    0% {\n",
              "      border-color: transparent;\n",
              "      border-bottom-color: var(--fill-color);\n",
              "      border-left-color: var(--fill-color);\n",
              "    }\n",
              "    20% {\n",
              "      border-color: transparent;\n",
              "      border-left-color: var(--fill-color);\n",
              "      border-top-color: var(--fill-color);\n",
              "    }\n",
              "    30% {\n",
              "      border-color: transparent;\n",
              "      border-left-color: var(--fill-color);\n",
              "      border-top-color: var(--fill-color);\n",
              "      border-right-color: var(--fill-color);\n",
              "    }\n",
              "    40% {\n",
              "      border-color: transparent;\n",
              "      border-right-color: var(--fill-color);\n",
              "      border-top-color: var(--fill-color);\n",
              "    }\n",
              "    60% {\n",
              "      border-color: transparent;\n",
              "      border-right-color: var(--fill-color);\n",
              "    }\n",
              "    80% {\n",
              "      border-color: transparent;\n",
              "      border-right-color: var(--fill-color);\n",
              "      border-bottom-color: var(--fill-color);\n",
              "    }\n",
              "    90% {\n",
              "      border-color: transparent;\n",
              "      border-bottom-color: var(--fill-color);\n",
              "    }\n",
              "  }\n",
              "</style>\n",
              "\n",
              "  <script>\n",
              "    async function quickchart(key) {\n",
              "      const quickchartButtonEl =\n",
              "        document.querySelector('#' + key + ' button');\n",
              "      quickchartButtonEl.disabled = true;  // To prevent multiple clicks.\n",
              "      quickchartButtonEl.classList.add('colab-df-spinner');\n",
              "      try {\n",
              "        const charts = await google.colab.kernel.invokeFunction(\n",
              "            'suggestCharts', [key], {});\n",
              "      } catch (error) {\n",
              "        console.error('Error during call to suggestCharts:', error);\n",
              "      }\n",
              "      quickchartButtonEl.classList.remove('colab-df-spinner');\n",
              "      quickchartButtonEl.classList.add('colab-df-quickchart-complete');\n",
              "    }\n",
              "    (() => {\n",
              "      let quickchartButtonEl =\n",
              "        document.querySelector('#df-36377bc0-0bff-4fc8-a8cb-e4238790891e button');\n",
              "      quickchartButtonEl.style.display =\n",
              "        google.colab.kernel.accessAllowed ? 'block' : 'none';\n",
              "    })();\n",
              "  </script>\n",
              "</div>\n",
              "\n",
              "    </div>\n",
              "  </div>\n"
            ],
            "application/vnd.google.colaboratory.intrinsic+json": {
              "type": "dataframe",
              "summary": "{\n  \"name\": \"df_alertas\",\n  \"rows\": 30,\n  \"fields\": [\n    {\n      \"column\": \"id\",\n      \"properties\": {\n        \"dtype\": \"string\",\n        \"num_unique_values\": 30,\n        \"samples\": [\n          \"5e6ddea6023f1930ef76cce6\",\n          \"5e6dda98023f1930ef680ce0\",\n          \"5e6dafc4023f1930efa86ca4\"\n        ],\n        \"semantic_type\": \"\",\n        \"description\": \"\"\n      }\n    },\n    {\n      \"column\": \"event\",\n      \"properties\": {\n        \"dtype\": \"string\",\n        \"num_unique_values\": 16,\n        \"samples\": [\n          \"Coastal Flood Advisory\",\n          \"Winter Storm Watch\",\n          \"High Wind Watch\"\n        ],\n        \"semantic_type\": \"\",\n        \"description\": \"\"\n      }\n    },\n    {\n      \"column\": \"description\",\n      \"properties\": {\n        \"dtype\": \"string\",\n        \"num_unique_values\": 30,\n        \"samples\": [\n          \" Excessive Heat and Humidity Continues through the Weekend \\n\\n.Strong high pressure aloft will spread across the region this\\nweekend bringing some of the hottest air of the season. High\\ntemperatures in the mid to upper 90s will combine with high\\nhumidity to result in heat index values from 105 degrees to around\\n110 degrees during the afternoon hours.\\n\\n* Heat Index Values Up to 109 due to temperatures in the upper\\n90s, and dewpoints in the lower 70s.\\n\\n* Timing Saturday afternoon through Saturday evening and then\\nagain Sunday afternoon through early Sunday evening.\\n\\n* Impacts Prolonged exposure or any strenuous activity may\\nlead to heat related illnesses that require immediate medical\\nattention.\\n\\n* Locations Parts of the Virginia and North Carolina Piedmont\\nand foothills.\\n\\n* Hazards High heat indices.\",\n          \"The National Weather Service in Tulsa has issued a\\n\\n* Tornado Warning for \\nNorthwestern Craig County in northeastern Oklahoma \\nNortheastern Nowata County in northeastern Oklahoma \\n\\n* Until 330 PM CDT.\\n\\n* At 304 PM CDT, a severe thunderstorm with strong low level rotation\\nthat could produce a tornado at any time was located 5 miles\\nnortheast of Lenapah, moving northeast at 30 mph.\\n\\nHAZARD Tornado and quarter size hail.\\n\\nSOURCE Radar indicated rotation.\\n\\nIMPACT Flying debris will be dangerous to those caught without\\nshelter. Mobile homes will be damaged or destroyed.\\nDamage to roofs, windows, and vehicles will occur.  Tree\\ndamage is likely.\\n\\n* Locations in or near the path include \\nSouth Coffeyville               Lenapah \\n\",\n          \"The National Weather Service in Charleston has issued a\\n\\n* Tornado Warning for portions of \\nBryan County in southeastern Georgia \\nEvans County in southeastern Georgia \\nBulloch County in southeastern Georgia \\n\\n* Until 200 PM EDT.\\n\\n* At 123 PM EDT, a severe thunderstorm capable of producing a tornado\\nwas located near Nevils, moving east at 50 mph.\\n\\nHAZARD Tornado.\\n\\nSOURCE Radar indicated rotation.\\n\\nIMPACT Flying debris will be dangerous to those caught without\\nshelter. Mobile homes will be damaged or destroyed.\\nDamage to roofs, windows, and vehicles will occur.  Tree\\ndamage is likely.\\n\\n* Locations impacted include \\nPembroke, Daisy, Denmark, Nevils, Bay and Stilson.\\n\\nThis warning includes I-16 between mile markers 123 and 142.\"\n        ],\n        \"semantic_type\": \"\",\n        \"description\": \"\"\n      }\n    },\n    {\n      \"column\": \"instruction\",\n      \"properties\": {\n        \"dtype\": \"string\",\n        \"num_unique_values\": 29,\n        \"samples\": [\n          \"precautionarypreparedness actions   forecast crests are based upon rainfall that has occurred along with anticipated rain for the next twenty-four hours adjustments to the forecasts will be made if additional heavy rainfall occurs  do not drive cars through flooded areas remember two feet of rushing water can carry away most vehicles including pickups  turn around and dont drown  a followup product will be issued later stay tuned to noaa weather radio local tv and radio stations or your cable provider for the latest information the latest graphical hydrologic information can also be found at weathergov  \",\n          \"for your protection move to an interior room on the lowest floor of a building\",\n          \"this is a dangerous storm prepare immediately for large destructive hail capable of producing significant damage people outside should move to a shelter inside a strong building and away from windows  torrential rainfall is occurring with this storm and may lead to flash flooding do not drive your vehicle through flooded roadways  \"\n        ],\n        \"semantic_type\": \"\",\n        \"description\": \"\"\n      }\n    },\n    {\n      \"column\": \"urgency\",\n      \"properties\": {\n        \"dtype\": \"category\",\n        \"num_unique_values\": 4,\n        \"samples\": [\n          \"Future\",\n          \"Past\",\n          \"Expected\"\n        ],\n        \"semantic_type\": \"\",\n        \"description\": \"\"\n      }\n    },\n    {\n      \"column\": \"severity\",\n      \"properties\": {\n        \"dtype\": \"category\",\n        \"num_unique_values\": 4,\n        \"samples\": [\n          \"Severe\",\n          \"Extreme\",\n          \"Minor\"\n        ],\n        \"semantic_type\": \"\",\n        \"description\": \"\"\n      }\n    }\n  ]\n}"
            }
          },
          "metadata": {},
          "execution_count": 17
        }
      ]
    },
    {
      "cell_type": "markdown",
      "source": [
        "Instalamos paquete para tareas de tokenización."
      ],
      "metadata": {
        "id": "uRCMy5Q7S2oM"
      }
    },
    {
      "cell_type": "code",
      "source": [
        "!pip install nltk"
      ],
      "metadata": {
        "id": "v39yBTxiHvF8",
        "outputId": "7b7ed57d-6d4e-4ede-b55e-11575d9230ab",
        "colab": {
          "base_uri": "https://localhost:8080/"
        }
      },
      "execution_count": 18,
      "outputs": [
        {
          "output_type": "stream",
          "name": "stdout",
          "text": [
            "Requirement already satisfied: nltk in /usr/local/lib/python3.10/dist-packages (3.8.1)\n",
            "Requirement already satisfied: click in /usr/local/lib/python3.10/dist-packages (from nltk) (8.1.7)\n",
            "Requirement already satisfied: joblib in /usr/local/lib/python3.10/dist-packages (from nltk) (1.4.2)\n",
            "Requirement already satisfied: regex>=2021.8.3 in /usr/local/lib/python3.10/dist-packages (from nltk) (2023.12.25)\n",
            "Requirement already satisfied: tqdm in /usr/local/lib/python3.10/dist-packages (from nltk) (4.66.4)\n"
          ]
        }
      ]
    },
    {
      "cell_type": "code",
      "source": [
        "import nltk"
      ],
      "metadata": {
        "id": "HilMBEhcH8tJ"
      },
      "execution_count": 19,
      "outputs": []
    },
    {
      "cell_type": "code",
      "source": [
        "nltk.download('punkt')"
      ],
      "metadata": {
        "id": "QEZBuNiYIEaN",
        "outputId": "4d6588dc-e3a3-4dd2-c261-1b507ae52f3b",
        "colab": {
          "base_uri": "https://localhost:8080/"
        }
      },
      "execution_count": 20,
      "outputs": [
        {
          "output_type": "stream",
          "name": "stderr",
          "text": [
            "[nltk_data] Downloading package punkt to /root/nltk_data...\n",
            "[nltk_data]   Unzipping tokenizers/punkt.zip.\n"
          ]
        },
        {
          "output_type": "execute_result",
          "data": {
            "text/plain": [
              "True"
            ]
          },
          "metadata": {},
          "execution_count": 20
        }
      ]
    },
    {
      "cell_type": "markdown",
      "source": [
        "Se hace este proceso en lotes ya que es un extenso el dataset\n"
      ],
      "metadata": {
        "id": "10l_Yj59IIcF"
      }
    },
    {
      "cell_type": "code",
      "source": [
        "def tokenizador(texts, batch_size=100):\n",
        "    tokenized_texts = []\n",
        "    for i in range(0, len(texts), batch_size):\n",
        "        batch = texts[i:i+batch_size]\n",
        "        tokenized_batch = [nltk.word_tokenize(str(text)) for text in batch]\n",
        "        tokenized_texts.extend(tokenized_batch)\n",
        "    return tokenized_texts"
      ],
      "metadata": {
        "id": "LLH-crOvILFB"
      },
      "execution_count": 21,
      "outputs": []
    },
    {
      "cell_type": "markdown",
      "source": [
        "Tomamos una lista de texto de la columna \"instruction\" y los dividimos en lotes para procesarlos mediante tokenización (división en palabras).\n"
      ],
      "metadata": {
        "id": "pKoL5248IhZ2"
      }
    },
    {
      "cell_type": "code",
      "source": [
        "batch_size = 1000\n",
        "df_alertas['instruction_token'] = tokenizador(df_alertas['instruction'], batch_size)"
      ],
      "metadata": {
        "id": "f6He6bDxIkqH"
      },
      "execution_count": 22,
      "outputs": []
    },
    {
      "cell_type": "markdown",
      "source": [
        "Tomamos un texto ejemplo sin tokenizar."
      ],
      "metadata": {
        "id": "KgWLAbAkaz_M"
      }
    },
    {
      "cell_type": "code",
      "source": [
        "df_alertas['instruction'].iloc[142406] # Probamos esa fila"
      ],
      "metadata": {
        "id": "cWUSEdjXZ-Wg",
        "outputId": "3f70eb4f-024d-41f7-b26d-0ab97ab89c55",
        "colab": {
          "base_uri": "https://localhost:8080/",
          "height": 35
        }
      },
      "execution_count": 23,
      "outputs": [
        {
          "output_type": "execute_result",
          "data": {
            "text/plain": [
              "'use extra caution when driving especially if operating a high profile vehicle secure outdoor objects'"
            ],
            "application/vnd.google.colaboratory.intrinsic+json": {
              "type": "string"
            }
          },
          "metadata": {},
          "execution_count": 23
        }
      ]
    },
    {
      "cell_type": "markdown",
      "source": [
        "Tomamos el mismo texto tokenizado."
      ],
      "metadata": {
        "id": "bQqh3NJRbAjX"
      }
    },
    {
      "cell_type": "code",
      "source": [
        "df_alertas['instruction_token'].iloc[142406]"
      ],
      "metadata": {
        "id": "iiNkSbINaMmW",
        "outputId": "084c400f-ae20-44a7-f689-bfd9312616a3",
        "colab": {
          "base_uri": "https://localhost:8080/"
        }
      },
      "execution_count": 24,
      "outputs": [
        {
          "output_type": "execute_result",
          "data": {
            "text/plain": [
              "['use',\n",
              " 'extra',\n",
              " 'caution',\n",
              " 'when',\n",
              " 'driving',\n",
              " 'especially',\n",
              " 'if',\n",
              " 'operating',\n",
              " 'a',\n",
              " 'high',\n",
              " 'profile',\n",
              " 'vehicle',\n",
              " 'secure',\n",
              " 'outdoor',\n",
              " 'objects']"
            ]
          },
          "metadata": {},
          "execution_count": 24
        }
      ]
    },
    {
      "cell_type": "markdown",
      "source": [
        "Ahora las se elimina las stop words (palabras que no aportan mucho significado semántico."
      ],
      "metadata": {
        "id": "lMK9ifOPA3hR"
      }
    },
    {
      "cell_type": "code",
      "source": [
        "# Instalamos modelo para el procesamiento de texto en inglés.\n",
        "!pip install spacy\n",
        "!python -m spacy download en_core_web_sm"
      ],
      "metadata": {
        "id": "1fTRDhpgA5SU",
        "outputId": "213dd2b2-f4c9-4e73-dd5d-8f22c02668a7",
        "colab": {
          "base_uri": "https://localhost:8080/"
        }
      },
      "execution_count": 25,
      "outputs": [
        {
          "output_type": "stream",
          "name": "stdout",
          "text": [
            "Requirement already satisfied: spacy in /usr/local/lib/python3.10/dist-packages (3.7.4)\n",
            "Requirement already satisfied: spacy-legacy<3.1.0,>=3.0.11 in /usr/local/lib/python3.10/dist-packages (from spacy) (3.0.12)\n",
            "Requirement already satisfied: spacy-loggers<2.0.0,>=1.0.0 in /usr/local/lib/python3.10/dist-packages (from spacy) (1.0.5)\n",
            "Requirement already satisfied: murmurhash<1.1.0,>=0.28.0 in /usr/local/lib/python3.10/dist-packages (from spacy) (1.0.10)\n",
            "Requirement already satisfied: cymem<2.1.0,>=2.0.2 in /usr/local/lib/python3.10/dist-packages (from spacy) (2.0.8)\n",
            "Requirement already satisfied: preshed<3.1.0,>=3.0.2 in /usr/local/lib/python3.10/dist-packages (from spacy) (3.0.9)\n",
            "Requirement already satisfied: thinc<8.3.0,>=8.2.2 in /usr/local/lib/python3.10/dist-packages (from spacy) (8.2.3)\n",
            "Requirement already satisfied: wasabi<1.2.0,>=0.9.1 in /usr/local/lib/python3.10/dist-packages (from spacy) (1.1.2)\n",
            "Requirement already satisfied: srsly<3.0.0,>=2.4.3 in /usr/local/lib/python3.10/dist-packages (from spacy) (2.4.8)\n",
            "Requirement already satisfied: catalogue<2.1.0,>=2.0.6 in /usr/local/lib/python3.10/dist-packages (from spacy) (2.0.10)\n",
            "Requirement already satisfied: weasel<0.4.0,>=0.1.0 in /usr/local/lib/python3.10/dist-packages (from spacy) (0.3.4)\n",
            "Requirement already satisfied: typer<0.10.0,>=0.3.0 in /usr/local/lib/python3.10/dist-packages (from spacy) (0.9.4)\n",
            "Requirement already satisfied: smart-open<7.0.0,>=5.2.1 in /usr/local/lib/python3.10/dist-packages (from spacy) (6.4.0)\n",
            "Requirement already satisfied: tqdm<5.0.0,>=4.38.0 in /usr/local/lib/python3.10/dist-packages (from spacy) (4.66.4)\n",
            "Requirement already satisfied: requests<3.0.0,>=2.13.0 in /usr/local/lib/python3.10/dist-packages (from spacy) (2.31.0)\n",
            "Requirement already satisfied: pydantic!=1.8,!=1.8.1,<3.0.0,>=1.7.4 in /usr/local/lib/python3.10/dist-packages (from spacy) (2.7.1)\n",
            "Requirement already satisfied: jinja2 in /usr/local/lib/python3.10/dist-packages (from spacy) (3.1.4)\n",
            "Requirement already satisfied: setuptools in /usr/local/lib/python3.10/dist-packages (from spacy) (67.7.2)\n",
            "Requirement already satisfied: packaging>=20.0 in /usr/local/lib/python3.10/dist-packages (from spacy) (24.0)\n",
            "Requirement already satisfied: langcodes<4.0.0,>=3.2.0 in /usr/local/lib/python3.10/dist-packages (from spacy) (3.4.0)\n",
            "Requirement already satisfied: numpy>=1.19.0 in /usr/local/lib/python3.10/dist-packages (from spacy) (1.25.2)\n",
            "Requirement already satisfied: language-data>=1.2 in /usr/local/lib/python3.10/dist-packages (from langcodes<4.0.0,>=3.2.0->spacy) (1.2.0)\n",
            "Requirement already satisfied: annotated-types>=0.4.0 in /usr/local/lib/python3.10/dist-packages (from pydantic!=1.8,!=1.8.1,<3.0.0,>=1.7.4->spacy) (0.7.0)\n",
            "Requirement already satisfied: pydantic-core==2.18.2 in /usr/local/lib/python3.10/dist-packages (from pydantic!=1.8,!=1.8.1,<3.0.0,>=1.7.4->spacy) (2.18.2)\n",
            "Requirement already satisfied: typing-extensions>=4.6.1 in /usr/local/lib/python3.10/dist-packages (from pydantic!=1.8,!=1.8.1,<3.0.0,>=1.7.4->spacy) (4.11.0)\n",
            "Requirement already satisfied: charset-normalizer<4,>=2 in /usr/local/lib/python3.10/dist-packages (from requests<3.0.0,>=2.13.0->spacy) (3.3.2)\n",
            "Requirement already satisfied: idna<4,>=2.5 in /usr/local/lib/python3.10/dist-packages (from requests<3.0.0,>=2.13.0->spacy) (3.7)\n",
            "Requirement already satisfied: urllib3<3,>=1.21.1 in /usr/local/lib/python3.10/dist-packages (from requests<3.0.0,>=2.13.0->spacy) (2.0.7)\n",
            "Requirement already satisfied: certifi>=2017.4.17 in /usr/local/lib/python3.10/dist-packages (from requests<3.0.0,>=2.13.0->spacy) (2024.2.2)\n",
            "Requirement already satisfied: blis<0.8.0,>=0.7.8 in /usr/local/lib/python3.10/dist-packages (from thinc<8.3.0,>=8.2.2->spacy) (0.7.11)\n",
            "Requirement already satisfied: confection<1.0.0,>=0.0.1 in /usr/local/lib/python3.10/dist-packages (from thinc<8.3.0,>=8.2.2->spacy) (0.1.4)\n",
            "Requirement already satisfied: click<9.0.0,>=7.1.1 in /usr/local/lib/python3.10/dist-packages (from typer<0.10.0,>=0.3.0->spacy) (8.1.7)\n",
            "Requirement already satisfied: cloudpathlib<0.17.0,>=0.7.0 in /usr/local/lib/python3.10/dist-packages (from weasel<0.4.0,>=0.1.0->spacy) (0.16.0)\n",
            "Requirement already satisfied: MarkupSafe>=2.0 in /usr/local/lib/python3.10/dist-packages (from jinja2->spacy) (2.1.5)\n",
            "Requirement already satisfied: marisa-trie>=0.7.7 in /usr/local/lib/python3.10/dist-packages (from language-data>=1.2->langcodes<4.0.0,>=3.2.0->spacy) (1.1.1)\n",
            "Collecting en-core-web-sm==3.7.1\n",
            "  Downloading https://github.com/explosion/spacy-models/releases/download/en_core_web_sm-3.7.1/en_core_web_sm-3.7.1-py3-none-any.whl (12.8 MB)\n",
            "\u001b[2K     \u001b[90m━━━━━━━━━━━━━━━━━━━━━━━━━━━━━━━━━━━━━━━━\u001b[0m \u001b[32m12.8/12.8 MB\u001b[0m \u001b[31m63.6 MB/s\u001b[0m eta \u001b[36m0:00:00\u001b[0m\n",
            "\u001b[?25hRequirement already satisfied: spacy<3.8.0,>=3.7.2 in /usr/local/lib/python3.10/dist-packages (from en-core-web-sm==3.7.1) (3.7.4)\n",
            "Requirement already satisfied: spacy-legacy<3.1.0,>=3.0.11 in /usr/local/lib/python3.10/dist-packages (from spacy<3.8.0,>=3.7.2->en-core-web-sm==3.7.1) (3.0.12)\n",
            "Requirement already satisfied: spacy-loggers<2.0.0,>=1.0.0 in /usr/local/lib/python3.10/dist-packages (from spacy<3.8.0,>=3.7.2->en-core-web-sm==3.7.1) (1.0.5)\n",
            "Requirement already satisfied: murmurhash<1.1.0,>=0.28.0 in /usr/local/lib/python3.10/dist-packages (from spacy<3.8.0,>=3.7.2->en-core-web-sm==3.7.1) (1.0.10)\n",
            "Requirement already satisfied: cymem<2.1.0,>=2.0.2 in /usr/local/lib/python3.10/dist-packages (from spacy<3.8.0,>=3.7.2->en-core-web-sm==3.7.1) (2.0.8)\n",
            "Requirement already satisfied: preshed<3.1.0,>=3.0.2 in /usr/local/lib/python3.10/dist-packages (from spacy<3.8.0,>=3.7.2->en-core-web-sm==3.7.1) (3.0.9)\n",
            "Requirement already satisfied: thinc<8.3.0,>=8.2.2 in /usr/local/lib/python3.10/dist-packages (from spacy<3.8.0,>=3.7.2->en-core-web-sm==3.7.1) (8.2.3)\n",
            "Requirement already satisfied: wasabi<1.2.0,>=0.9.1 in /usr/local/lib/python3.10/dist-packages (from spacy<3.8.0,>=3.7.2->en-core-web-sm==3.7.1) (1.1.2)\n",
            "Requirement already satisfied: srsly<3.0.0,>=2.4.3 in /usr/local/lib/python3.10/dist-packages (from spacy<3.8.0,>=3.7.2->en-core-web-sm==3.7.1) (2.4.8)\n",
            "Requirement already satisfied: catalogue<2.1.0,>=2.0.6 in /usr/local/lib/python3.10/dist-packages (from spacy<3.8.0,>=3.7.2->en-core-web-sm==3.7.1) (2.0.10)\n",
            "Requirement already satisfied: weasel<0.4.0,>=0.1.0 in /usr/local/lib/python3.10/dist-packages (from spacy<3.8.0,>=3.7.2->en-core-web-sm==3.7.1) (0.3.4)\n",
            "Requirement already satisfied: typer<0.10.0,>=0.3.0 in /usr/local/lib/python3.10/dist-packages (from spacy<3.8.0,>=3.7.2->en-core-web-sm==3.7.1) (0.9.4)\n",
            "Requirement already satisfied: smart-open<7.0.0,>=5.2.1 in /usr/local/lib/python3.10/dist-packages (from spacy<3.8.0,>=3.7.2->en-core-web-sm==3.7.1) (6.4.0)\n",
            "Requirement already satisfied: tqdm<5.0.0,>=4.38.0 in /usr/local/lib/python3.10/dist-packages (from spacy<3.8.0,>=3.7.2->en-core-web-sm==3.7.1) (4.66.4)\n",
            "Requirement already satisfied: requests<3.0.0,>=2.13.0 in /usr/local/lib/python3.10/dist-packages (from spacy<3.8.0,>=3.7.2->en-core-web-sm==3.7.1) (2.31.0)\n",
            "Requirement already satisfied: pydantic!=1.8,!=1.8.1,<3.0.0,>=1.7.4 in /usr/local/lib/python3.10/dist-packages (from spacy<3.8.0,>=3.7.2->en-core-web-sm==3.7.1) (2.7.1)\n",
            "Requirement already satisfied: jinja2 in /usr/local/lib/python3.10/dist-packages (from spacy<3.8.0,>=3.7.2->en-core-web-sm==3.7.1) (3.1.4)\n",
            "Requirement already satisfied: setuptools in /usr/local/lib/python3.10/dist-packages (from spacy<3.8.0,>=3.7.2->en-core-web-sm==3.7.1) (67.7.2)\n",
            "Requirement already satisfied: packaging>=20.0 in /usr/local/lib/python3.10/dist-packages (from spacy<3.8.0,>=3.7.2->en-core-web-sm==3.7.1) (24.0)\n",
            "Requirement already satisfied: langcodes<4.0.0,>=3.2.0 in /usr/local/lib/python3.10/dist-packages (from spacy<3.8.0,>=3.7.2->en-core-web-sm==3.7.1) (3.4.0)\n",
            "Requirement already satisfied: numpy>=1.19.0 in /usr/local/lib/python3.10/dist-packages (from spacy<3.8.0,>=3.7.2->en-core-web-sm==3.7.1) (1.25.2)\n",
            "Requirement already satisfied: language-data>=1.2 in /usr/local/lib/python3.10/dist-packages (from langcodes<4.0.0,>=3.2.0->spacy<3.8.0,>=3.7.2->en-core-web-sm==3.7.1) (1.2.0)\n",
            "Requirement already satisfied: annotated-types>=0.4.0 in /usr/local/lib/python3.10/dist-packages (from pydantic!=1.8,!=1.8.1,<3.0.0,>=1.7.4->spacy<3.8.0,>=3.7.2->en-core-web-sm==3.7.1) (0.7.0)\n",
            "Requirement already satisfied: pydantic-core==2.18.2 in /usr/local/lib/python3.10/dist-packages (from pydantic!=1.8,!=1.8.1,<3.0.0,>=1.7.4->spacy<3.8.0,>=3.7.2->en-core-web-sm==3.7.1) (2.18.2)\n",
            "Requirement already satisfied: typing-extensions>=4.6.1 in /usr/local/lib/python3.10/dist-packages (from pydantic!=1.8,!=1.8.1,<3.0.0,>=1.7.4->spacy<3.8.0,>=3.7.2->en-core-web-sm==3.7.1) (4.11.0)\n",
            "Requirement already satisfied: charset-normalizer<4,>=2 in /usr/local/lib/python3.10/dist-packages (from requests<3.0.0,>=2.13.0->spacy<3.8.0,>=3.7.2->en-core-web-sm==3.7.1) (3.3.2)\n",
            "Requirement already satisfied: idna<4,>=2.5 in /usr/local/lib/python3.10/dist-packages (from requests<3.0.0,>=2.13.0->spacy<3.8.0,>=3.7.2->en-core-web-sm==3.7.1) (3.7)\n",
            "Requirement already satisfied: urllib3<3,>=1.21.1 in /usr/local/lib/python3.10/dist-packages (from requests<3.0.0,>=2.13.0->spacy<3.8.0,>=3.7.2->en-core-web-sm==3.7.1) (2.0.7)\n",
            "Requirement already satisfied: certifi>=2017.4.17 in /usr/local/lib/python3.10/dist-packages (from requests<3.0.0,>=2.13.0->spacy<3.8.0,>=3.7.2->en-core-web-sm==3.7.1) (2024.2.2)\n",
            "Requirement already satisfied: blis<0.8.0,>=0.7.8 in /usr/local/lib/python3.10/dist-packages (from thinc<8.3.0,>=8.2.2->spacy<3.8.0,>=3.7.2->en-core-web-sm==3.7.1) (0.7.11)\n",
            "Requirement already satisfied: confection<1.0.0,>=0.0.1 in /usr/local/lib/python3.10/dist-packages (from thinc<8.3.0,>=8.2.2->spacy<3.8.0,>=3.7.2->en-core-web-sm==3.7.1) (0.1.4)\n",
            "Requirement already satisfied: click<9.0.0,>=7.1.1 in /usr/local/lib/python3.10/dist-packages (from typer<0.10.0,>=0.3.0->spacy<3.8.0,>=3.7.2->en-core-web-sm==3.7.1) (8.1.7)\n",
            "Requirement already satisfied: cloudpathlib<0.17.0,>=0.7.0 in /usr/local/lib/python3.10/dist-packages (from weasel<0.4.0,>=0.1.0->spacy<3.8.0,>=3.7.2->en-core-web-sm==3.7.1) (0.16.0)\n",
            "Requirement already satisfied: MarkupSafe>=2.0 in /usr/local/lib/python3.10/dist-packages (from jinja2->spacy<3.8.0,>=3.7.2->en-core-web-sm==3.7.1) (2.1.5)\n",
            "Requirement already satisfied: marisa-trie>=0.7.7 in /usr/local/lib/python3.10/dist-packages (from language-data>=1.2->langcodes<4.0.0,>=3.2.0->spacy<3.8.0,>=3.7.2->en-core-web-sm==3.7.1) (1.1.1)\n",
            "\u001b[38;5;2m✔ Download and installation successful\u001b[0m\n",
            "You can now load the package via spacy.load('en_core_web_sm')\n",
            "\u001b[38;5;3m⚠ Restart to reload dependencies\u001b[0m\n",
            "If you are in a Jupyter or Colab notebook, you may need to restart Python in\n",
            "order to load all the package's dependencies. You can do this by selecting the\n",
            "'Restart kernel' or 'Restart runtime' option.\n"
          ]
        }
      ]
    },
    {
      "cell_type": "code",
      "source": [
        "from nltk.corpus import stopwords\n",
        "import spacy"
      ],
      "metadata": {
        "id": "6FSQVRUxebHr"
      },
      "execution_count": 26,
      "outputs": []
    },
    {
      "cell_type": "code",
      "source": [
        "nltk.download('stopwords')"
      ],
      "metadata": {
        "id": "ucs4iD2gelBJ",
        "outputId": "292057c4-d6cb-48e3-fa6c-8984fe14f03c",
        "colab": {
          "base_uri": "https://localhost:8080/"
        }
      },
      "execution_count": 27,
      "outputs": [
        {
          "output_type": "stream",
          "name": "stderr",
          "text": [
            "[nltk_data] Downloading package stopwords to /root/nltk_data...\n",
            "[nltk_data]   Unzipping corpora/stopwords.zip.\n"
          ]
        },
        {
          "output_type": "execute_result",
          "data": {
            "text/plain": [
              "True"
            ]
          },
          "metadata": {},
          "execution_count": 27
        }
      ]
    },
    {
      "cell_type": "code",
      "source": [
        "nlp = spacy.load('en_core_web_sm')\n",
        "# Configura stop words en inglés\n",
        "stop_words = set(stopwords.words('english'))\n",
        "# Función para eliminar stop words de una lista de tokens\n",
        "def remove_stop_words(tokens):\n",
        "    return [word for word in tokens if word.lower() not in stop_words]"
      ],
      "metadata": {
        "id": "Oi8E0MjveuwR"
      },
      "execution_count": 28,
      "outputs": []
    },
    {
      "cell_type": "code",
      "source": [
        "df_alertas['instruction_no_stopwords'] = df_alertas['instruction_token'].apply(lambda x: remove_stop_words(x))"
      ],
      "metadata": {
        "id": "Mex_5uc7fHRj"
      },
      "execution_count": 29,
      "outputs": []
    },
    {
      "cell_type": "markdown",
      "source": [
        "Verificamos la eliminación de las stopword de una línea ejemplo."
      ],
      "metadata": {
        "id": "lKZVnLBchzXz"
      }
    },
    {
      "cell_type": "code",
      "source": [
        "df_alertas['instruction_token'].iloc[142406]"
      ],
      "metadata": {
        "id": "ya3BfsVIhQ-4",
        "outputId": "1a36db85-17f9-4348-bb43-4efaac47de71",
        "colab": {
          "base_uri": "https://localhost:8080/"
        }
      },
      "execution_count": 30,
      "outputs": [
        {
          "output_type": "execute_result",
          "data": {
            "text/plain": [
              "['use',\n",
              " 'extra',\n",
              " 'caution',\n",
              " 'when',\n",
              " 'driving',\n",
              " 'especially',\n",
              " 'if',\n",
              " 'operating',\n",
              " 'a',\n",
              " 'high',\n",
              " 'profile',\n",
              " 'vehicle',\n",
              " 'secure',\n",
              " 'outdoor',\n",
              " 'objects']"
            ]
          },
          "metadata": {},
          "execution_count": 30
        }
      ]
    },
    {
      "cell_type": "markdown",
      "source": [
        "Linea con la eliminación de las stopwords en la linea ejemplo."
      ],
      "metadata": {
        "id": "rOVufZmdiJFe"
      }
    },
    {
      "cell_type": "code",
      "source": [
        "df_alertas['instruction_no_stopwords'].iloc[142406]"
      ],
      "metadata": {
        "id": "U5tMcOXmhbMT",
        "outputId": "ac2fbe8d-b98a-42aa-d6e4-9b3c9fd718fa",
        "colab": {
          "base_uri": "https://localhost:8080/"
        }
      },
      "execution_count": 31,
      "outputs": [
        {
          "output_type": "execute_result",
          "data": {
            "text/plain": [
              "['use',\n",
              " 'extra',\n",
              " 'caution',\n",
              " 'driving',\n",
              " 'especially',\n",
              " 'operating',\n",
              " 'high',\n",
              " 'profile',\n",
              " 'vehicle',\n",
              " 'secure',\n",
              " 'outdoor',\n",
              " 'objects']"
            ]
          },
          "metadata": {},
          "execution_count": 31
        }
      ]
    },
    {
      "cell_type": "markdown",
      "source": [
        "Aplicamos la Lemantizacion que permite transformar palabras a su forma base, por volumen de datos lo hacemos por lotes."
      ],
      "metadata": {
        "id": "17aZTvcrjPeM"
      }
    },
    {
      "cell_type": "code",
      "source": [
        "# Definir función para lematizar una lista de listas de tokens\n",
        "def lemmatize_batch(tokens_list, batch_size=1000):\n",
        "    # Procesar los textos en lotes utilizando SpaCy\n",
        "    for i in range(0, len(tokens_list), batch_size):\n",
        "        batch_tokens = tokens_list[i:i+batch_size]\n",
        "        processed_texts = nlp.pipe([' '.join(tokens) for tokens in batch_tokens], disable=[\"parser\", \"ner\"])\n",
        "        # Extraer lemas de cada documento procesado\n",
        "        lemmatized_texts = [[' '.join(token.lemma_ for token in doc)] for doc in processed_texts]\n",
        "        yield from lemmatized_texts"
      ],
      "metadata": {
        "id": "hHejO9WsCUMb"
      },
      "execution_count": 32,
      "outputs": []
    },
    {
      "cell_type": "markdown",
      "source": [
        "Obtenemos la columna 'instruction_no_stopwords' como una lista de listas de tokens."
      ],
      "metadata": {
        "id": "soS5CKN6TY-m"
      }
    },
    {
      "cell_type": "code",
      "source": [
        "tokens_list = df_alertas['instruction_no_stopwords'].tolist()"
      ],
      "metadata": {
        "id": "VtwAYBFRCfpo"
      },
      "execution_count": 33,
      "outputs": []
    },
    {
      "cell_type": "markdown",
      "source": [
        "Obtenemos todos los resultados de lematización en una lista."
      ],
      "metadata": {
        "id": "72VmU4FETjzd"
      }
    },
    {
      "cell_type": "code",
      "source": [
        "all_lemmatized_texts = [text for sublist in lemmatize_batch(tokens_list) for text in sublist]"
      ],
      "metadata": {
        "id": "X5XkADkJCk0D"
      },
      "execution_count": 34,
      "outputs": []
    },
    {
      "cell_type": "markdown",
      "source": [
        "Imprimimos algunos resultados lematizados para verificar."
      ],
      "metadata": {
        "id": "mDIQt9wjTr4V"
      }
    },
    {
      "cell_type": "code",
      "source": [
        "print(all_lemmatized_texts[:10])  # Mostrar los primeros 10 elementos para verificar"
      ],
      "metadata": {
        "id": "gGayOrz9Cnql",
        "outputId": "59592cb4-85d2-4171-8ebd-a9312faf7edc",
        "colab": {
          "base_uri": "https://localhost:8080/"
        }
      },
      "execution_count": 35,
      "outputs": [
        {
          "output_type": "stream",
          "name": "stdout",
          "text": [
            "['frequent cloud ground lightning occur storm lightning strike ten mile away thunderstorm seek safe shelter inside building vehicle', 'safety message river flood warning mean river flooding expect impact people property warn area prepare flooding impact associate forecast river level location caution urge walk near riverbank late stage forecast river stream find web page httpswaterweathergov', 'flood advisory mean river stream flow elevated ponde water urban area occur imminent please report flood local law enforcement agency safely', 'flood watch mean potential flooding base current forecast monitor later forecast alert possible flood warning living area prone flooding prepared take action flooding develop', 'safety message motorist attempt drive around barricade drive car flood area stay tune development listen local radio television noaa weather radio station information additional weather river information find homepage wwwweathergovgrr', 'torrential rainfall also occur storm may lead localize flooding drive vehicle flood roadway', 'safety message never drive vehicle flood area water may deep allow safe passage never allow child play near flood water stay tune noaa weather radio local medium internet statement update forecast', 'safety message never drive vehicle flood area water may deep allow safe passage never allow child play near flood water stay tune noaa weather radio local medium internet statement update forecast', 'safety message never drive vehicle flood area water may deep allow safe passage never allow child play near flood water stay tune noaa weather radio local medium internet statement update forecast', 'safety message never drive vehicle flood area water may deep allow safe passage never allow child play near flood water stay tune noaa weather radio local medium internet statement update forecast']\n"
          ]
        }
      ]
    },
    {
      "cell_type": "markdown",
      "source": [
        "Guardamos en dataframe."
      ],
      "metadata": {
        "id": "DvoV3bCWT3Tl"
      }
    },
    {
      "cell_type": "code",
      "source": [
        "df_alertas['instruction_lemmatized'] = all_lemmatized_texts"
      ],
      "metadata": {
        "id": "JYOXkh-xNVfI"
      },
      "execution_count": 36,
      "outputs": []
    },
    {
      "cell_type": "markdown",
      "source": [
        "Mostramos algunas filas del DataFrame procesado."
      ],
      "metadata": {
        "id": "7sUbzUHaT-p6"
      }
    },
    {
      "cell_type": "code",
      "source": [
        "print(df_alertas[['instruction', 'instruction_no_stopwords', 'instruction_lemmatized']].head())\n"
      ],
      "metadata": {
        "id": "uZpgh-WqM3M9",
        "outputId": "62ff0d5b-4e71-44db-8198-e0c9a6edcf46",
        "colab": {
          "base_uri": "https://localhost:8080/"
        }
      },
      "execution_count": 37,
      "outputs": [
        {
          "output_type": "stream",
          "name": "stdout",
          "text": [
            "                                         instruction  \\\n",
            "0  frequent cloud to ground lightning is occurrin...   \n",
            "1  safety message a river flood warning means riv...   \n",
            "2  a flood advisory means river or stream flows a...   \n",
            "3  a flood watch means there is a potential for f...   \n",
            "4  safety message motorists should not attempt to...   \n",
            "\n",
            "                            instruction_no_stopwords  \\\n",
            "0  [frequent, cloud, ground, lightning, occurring...   \n",
            "1  [safety, message, river, flood, warning, means...   \n",
            "2  [flood, advisory, means, river, stream, flows,...   \n",
            "3  [flood, watch, means, potential, flooding, bas...   \n",
            "4  [safety, message, motorists, attempt, drive, a...   \n",
            "\n",
            "                              instruction_lemmatized  \n",
            "0  frequent cloud ground lightning occur storm li...  \n",
            "1  safety message river flood warning mean river ...  \n",
            "2  flood advisory mean river stream flow elevated...  \n",
            "3  flood watch mean potential flooding base curre...  \n",
            "4  safety message motorist attempt drive around b...  \n"
          ]
        }
      ]
    },
    {
      "cell_type": "markdown",
      "source": [
        "Volvemos a tokenizar para poder vectorizar."
      ],
      "metadata": {
        "id": "g8puKiVzgm_P"
      }
    },
    {
      "cell_type": "code",
      "source": [
        "batch_size = 1000\n",
        "df_alertas['instruction_token2'] = tokenizador(df_alertas['instruction_lemmatized'], batch_size)"
      ],
      "metadata": {
        "id": "iQWfv5spdeEs"
      },
      "execution_count": 46,
      "outputs": []
    },
    {
      "cell_type": "code",
      "source": [
        "df_alertas['instruction_token2']"
      ],
      "metadata": {
        "id": "k1tjhQKeeyyA",
        "outputId": "050d5ea2-442d-4d9e-8e17-c77c15112f86",
        "colab": {
          "base_uri": "https://localhost:8080/"
        }
      },
      "execution_count": 47,
      "outputs": [
        {
          "output_type": "execute_result",
          "data": {
            "text/plain": [
              "0         [frequent, cloud, ground, lightning, occur, st...\n",
              "1         [safety, message, river, flood, warning, mean,...\n",
              "2         [flood, advisory, mean, river, stream, flow, e...\n",
              "3         [flood, watch, mean, potential, flooding, base...\n",
              "4         [safety, message, motorist, attempt, drive, ar...\n",
              "                                ...                        \n",
              "748625    [winter, weather, advisory, mean, period, snow...\n",
              "748626    [blizzard, warning, mean, severe, winter, weat...\n",
              "748627    [precautionarypreparedness, action, safety, me...\n",
              "748628    [winter, weather, advisory, mean, period, free...\n",
              "748629    [protection, move, interior, room, low, floor,...\n",
              "Name: instruction_token2, Length: 748630, dtype: object"
            ]
          },
          "metadata": {},
          "execution_count": 47
        }
      ]
    },
    {
      "cell_type": "markdown",
      "source": [
        "Importamos librería para aplicar el modelo Word2Vec de Gensim."
      ],
      "metadata": {
        "id": "LXvBwPW4g2E4"
      }
    },
    {
      "cell_type": "code",
      "source": [
        "import string\n",
        "from gensim.models import Word2Vec"
      ],
      "metadata": {
        "id": "NgGqjYGLXQJ0"
      },
      "execution_count": 38,
      "outputs": []
    },
    {
      "cell_type": "markdown",
      "source": [
        "Entrenamiento del modelo Word2Vec"
      ],
      "metadata": {
        "id": "FmuFWe7pXdwi"
      }
    },
    {
      "cell_type": "code",
      "source": [
        "model = Word2Vec(sentences=df_alertas['instruction_token2'], vector_size=500, window=5, min_count=1, workers=2)"
      ],
      "metadata": {
        "id": "J7q5kW_SXao9"
      },
      "execution_count": 48,
      "outputs": []
    },
    {
      "cell_type": "markdown",
      "source": [
        "Tomamos el vector de una palabra al azar."
      ],
      "metadata": {
        "id": "j0x13WrzhOsU"
      }
    },
    {
      "cell_type": "code",
      "source": [
        "vector = model.wv['cloud']"
      ],
      "metadata": {
        "id": "B0aWuZO_bnke"
      },
      "execution_count": 49,
      "outputs": []
    },
    {
      "cell_type": "markdown",
      "source": [
        "Visualizamos vector."
      ],
      "metadata": {
        "id": "1RS6csfChfDz"
      }
    },
    {
      "cell_type": "code",
      "source": [
        "vector"
      ],
      "metadata": {
        "id": "xtgNIMDagapS",
        "outputId": "7fd7439d-c14d-4826-c646-ad03ab439df4",
        "colab": {
          "base_uri": "https://localhost:8080/"
        }
      },
      "execution_count": 50,
      "outputs": [
        {
          "output_type": "execute_result",
          "data": {
            "text/plain": [
              "array([-4.81045008e-01, -8.82386029e-01, -4.06100899e-02, -7.13362277e-01,\n",
              "        2.59004641e+00,  1.99802756e+00,  7.50228345e-01,  3.11337733e+00,\n",
              "       -2.27480245e+00,  4.87688184e-01,  2.07965422e+00,  1.28676999e+00,\n",
              "        2.10941195e+00,  1.44546020e+00, -1.25119314e-01, -6.23277426e-02,\n",
              "        1.28679168e+00,  7.41337016e-02,  1.05517519e+00, -2.22543764e+00,\n",
              "       -8.87795031e-01, -7.58976698e-01, -1.62772346e+00,  6.90389797e-02,\n",
              "        2.07137108e+00,  1.84914038e-01, -1.35676593e-01,  3.03596354e+00,\n",
              "        6.74310505e-01,  1.32690477e+00, -2.26546621e+00, -8.17017078e-01,\n",
              "       -1.51363564e+00,  1.36656773e+00,  2.15997410e+00,  7.48433918e-02,\n",
              "        4.35479172e-02,  1.78297430e-01,  2.89193320e+00,  1.24391484e+00,\n",
              "        1.48161054e+00, -1.03292741e-01,  1.38125098e+00,  1.00557998e-01,\n",
              "        6.31799519e-01, -4.07120180e+00, -1.02210534e+00,  8.02010357e-01,\n",
              "       -2.60281706e+00, -7.60342777e-01, -3.08393455e+00, -1.07765150e+00,\n",
              "       -1.96365044e-01,  7.88063467e-01,  5.37289977e-01,  4.07524824e+00,\n",
              "        3.23023248e+00, -6.77265525e-01, -1.24445331e+00, -2.29566026e+00,\n",
              "        9.22227740e-01,  2.78730839e-01, -1.93995476e-01, -2.90319562e+00,\n",
              "        5.34436285e-01, -4.81155127e-01, -8.52682829e-01, -9.53308582e-01,\n",
              "        1.41324341e+00, -5.90164602e-01, -9.28514421e-01, -2.79466462e+00,\n",
              "       -4.19631392e-01, -7.46191442e-01, -2.53871202e+00, -3.72923374e-01,\n",
              "       -3.88687563e+00,  2.69894385e+00,  1.27308786e-01,  7.43530393e-01,\n",
              "        1.12069106e+00,  7.14550972e-01,  1.91361165e+00,  8.35521102e-01,\n",
              "        3.32023025e+00,  1.45608795e+00,  3.11081839e+00,  2.44160700e+00,\n",
              "        2.80750442e+00, -9.41785038e-01,  2.60516196e-01, -4.27144527e+00,\n",
              "        4.95672047e-01,  7.94900954e-01, -1.57120144e+00,  5.02511859e-02,\n",
              "       -2.36153379e-01, -2.31081080e+00,  9.30809677e-02, -4.47305769e-01,\n",
              "        4.19983387e+00,  1.00283049e-01, -1.33617803e-01,  1.13341667e-01,\n",
              "        1.70064762e-01,  2.94771123e+00,  9.69633684e-02,  7.58427024e-01,\n",
              "       -8.02699924e-01,  3.27716675e-03,  1.41609800e+00, -4.42291051e-01,\n",
              "       -2.41268381e-01, -3.06196779e-01,  4.82261986e-01, -1.01191378e+00,\n",
              "       -2.16770506e+00,  1.24820554e+00, -1.49602699e+00,  1.66979194e+00,\n",
              "        2.87516856e+00,  2.42203847e-01, -1.21992135e+00,  3.43632668e-01,\n",
              "        2.42974567e+00, -8.17732573e-01,  1.24586701e-01, -1.35664892e+00,\n",
              "       -1.13129425e+00, -1.81201291e+00, -2.71742368e+00, -2.17644191e+00,\n",
              "        3.16528487e+00,  2.23876938e-01, -1.04690385e+00, -1.21619201e+00,\n",
              "       -1.42259705e+00,  1.34283507e+00,  1.33333755e+00,  2.23489261e+00,\n",
              "       -2.84476727e-01,  3.01680303e+00, -3.57147217e-01, -3.85037303e+00,\n",
              "        2.70996118e+00, -1.57679939e+00, -2.39836127e-01,  9.42598522e-01,\n",
              "        2.71824539e-01, -1.51521230e+00,  1.09929848e+00,  1.21207690e+00,\n",
              "        7.51799524e-01, -3.52353463e-03,  1.95133674e+00, -2.01135349e+00,\n",
              "        1.09175515e+00,  4.98819262e-01,  2.85333729e+00,  1.82619572e-01,\n",
              "        5.03679574e-01, -1.26546130e-01, -6.19538486e-01, -1.87106633e+00,\n",
              "       -6.27841115e-01, -1.40552020e+00,  9.24455941e-01, -1.07546890e+00,\n",
              "       -6.61359370e-01, -1.55673444e+00, -1.25166762e+00,  4.15505856e-01,\n",
              "        5.44006646e-01, -1.54835296e+00,  1.24537182e+00,  4.94329840e-01,\n",
              "       -2.30440068e+00, -1.31574464e+00, -2.93061882e-01, -1.33577168e-01,\n",
              "        3.30626011e+00, -6.44604638e-02, -1.71805358e+00,  2.59498096e+00,\n",
              "       -9.64946866e-01, -4.96575296e-01,  5.49564898e-01, -2.47458100e+00,\n",
              "        2.14420676e+00, -1.35281956e+00,  2.97108245e+00, -3.32633913e-01,\n",
              "       -2.22560868e-01, -7.64289916e-01,  2.42357507e-01, -4.32398617e-01,\n",
              "       -6.87300324e-01,  4.05380726e-01, -1.41680956e+00,  1.21505320e+00,\n",
              "        7.39613056e-01, -6.26497209e-01, -2.85020685e+00,  3.67020750e+00,\n",
              "       -1.15882611e+00, -3.64708376e+00,  3.03396024e-02,  7.11685836e-01,\n",
              "        2.96573848e-01, -2.86964864e-01, -7.89043665e-01, -1.14845681e+00,\n",
              "        2.20055199e+00,  6.36666954e-01,  1.46714425e+00,  8.56887221e-01,\n",
              "       -1.16922235e+00, -3.50872010e-01,  2.32349920e+00,  1.55509579e+00,\n",
              "       -7.46010959e-01,  4.20793533e-01, -2.62966847e+00,  1.85178682e-01,\n",
              "        1.41856384e+00,  1.06864643e+00,  2.33816981e+00,  1.67943180e+00,\n",
              "        3.49447942e+00,  1.34909034e+00,  9.84296441e-01, -3.40012103e-01,\n",
              "        4.05920124e+00, -1.85687816e+00,  3.64917278e+00, -1.91368377e+00,\n",
              "       -8.22998762e-01,  1.42483070e-01, -1.40086901e+00, -2.10843968e+00,\n",
              "        2.02128458e+00,  4.93527412e+00, -1.50252843e+00,  4.54744875e-01,\n",
              "       -1.01458037e+00,  9.84165013e-01,  1.08757941e-02, -1.64748371e+00,\n",
              "        1.21891785e+00, -1.19380546e+00, -2.10083938e+00,  2.06808543e+00,\n",
              "        1.78857970e+00,  3.51408362e+00,  8.00321460e-01,  2.15329621e-02,\n",
              "        5.35164893e-01,  3.74477416e-01,  7.30036199e-01,  1.21003163e+00,\n",
              "       -9.18163061e-01,  8.76670897e-01,  1.71815813e+00, -1.55370522e+00,\n",
              "        3.01975101e-01, -8.33717406e-01, -3.14529800e+00, -1.94775569e+00,\n",
              "        5.28903544e-01,  3.69589269e-01, -2.93383956e+00,  3.64230275e-01,\n",
              "        8.28014433e-01, -2.96857715e+00, -1.12239492e+00, -1.06770468e+00,\n",
              "       -1.86722517e+00, -2.62686706e+00, -1.34546661e+00, -9.17699754e-01,\n",
              "        3.11540294e+00, -1.95069641e-01,  3.72672796e+00,  1.31481469e+00,\n",
              "        2.63757348e+00,  1.69958186e+00, -2.22596073e+00,  3.78316951e+00,\n",
              "       -2.46603131e+00, -2.64834166e+00,  5.24982095e-01, -1.47900462e+00,\n",
              "       -1.39616966e+00,  2.38708258e-02, -3.99515212e-01, -1.36811495e+00,\n",
              "        1.32460105e+00,  2.24345541e+00, -9.20797467e-01,  1.98363602e+00,\n",
              "       -2.19609380e+00, -8.25119853e-01, -1.41320813e+00, -1.83003396e-01,\n",
              "        7.86804438e-01,  1.21613681e+00, -2.67202592e+00, -1.36285317e+00,\n",
              "       -8.94022942e-01, -1.27127564e+00,  1.32857156e+00,  3.32713652e+00,\n",
              "        2.63537288e+00, -1.11344397e+00, -7.17323124e-01,  3.06783468e-02,\n",
              "       -3.60799837e+00, -6.74176097e-01,  4.83832598e+00,  2.13978663e-01,\n",
              "        1.73114085e+00,  2.68221736e+00, -3.85186732e-01,  1.27684021e+00,\n",
              "        1.53263664e+00, -1.58384490e+00,  1.22028577e+00, -1.75900936e+00,\n",
              "       -2.82666159e+00, -6.89229250e-01, -3.11710566e-01, -3.07859683e+00,\n",
              "       -4.07325774e-01, -2.32527423e+00, -2.95307428e-01,  4.17879009e+00,\n",
              "        2.62550712e-01,  2.59090114e+00, -6.08537972e-01,  3.65443617e-01,\n",
              "        3.18360519e+00,  1.52590013e+00, -1.49680090e+00,  1.62443012e-01,\n",
              "       -5.17449439e-01, -4.50822920e-01,  2.13873363e+00, -1.44697559e+00,\n",
              "       -7.53673792e-01,  7.12861717e-01,  1.19674039e+00, -2.64888191e+00,\n",
              "        2.50354916e-01,  2.28133607e+00,  1.67785311e+00, -4.55573618e-01,\n",
              "        3.74756360e+00, -1.46448207e+00, -2.37288475e+00,  3.84452641e-01,\n",
              "       -2.64898729e+00,  6.41708910e-01,  3.34593773e-01,  5.66384733e-01,\n",
              "        4.77867365e-01, -1.12850571e+00, -2.34665465e+00, -2.84021497e-01,\n",
              "       -1.35276997e+00, -7.54604876e-01,  1.07573259e+00,  1.43468893e+00,\n",
              "       -1.68645751e+00,  4.03439105e-01, -2.16560102e+00, -1.08118725e+00,\n",
              "        1.01765621e+00,  1.40090570e-01, -8.09205413e-01, -2.05371499e+00,\n",
              "        3.32559609e+00,  1.12442350e+00, -4.68260050e-01,  2.43203592e+00,\n",
              "       -1.62157789e-01, -6.53785646e-01, -1.35628104e+00,  1.48336101e+00,\n",
              "        6.11596286e-01,  1.64709818e+00, -2.85666490e+00, -3.35999399e-01,\n",
              "        2.04873633e+00, -2.34166794e-02,  1.01664329e+00, -8.39955509e-01,\n",
              "       -9.25324857e-01,  2.52138066e+00,  4.41673219e-01, -5.41354835e-01,\n",
              "        2.01924109e+00,  1.58642268e+00, -2.56815720e+00, -7.80333221e-01,\n",
              "        1.48884392e+00,  3.04508877e+00, -4.25480515e-01,  1.85071802e+00,\n",
              "        2.35260606e+00,  1.47986007e+00,  2.31030822e+00, -1.28285313e+00,\n",
              "        2.77133584e-01, -3.35186183e-01,  1.86045158e+00,  5.27856767e-01,\n",
              "       -3.20225596e+00,  1.45251918e+00, -4.13709521e-01, -7.33351171e-01,\n",
              "       -1.79247737e+00, -1.97217715e+00, -5.40465546e+00, -1.29048848e+00,\n",
              "        1.52634001e+00,  1.12564778e+00, -2.24796310e-02, -2.05541205e+00,\n",
              "        1.00544667e+00,  1.54947388e+00, -2.35669899e+00, -2.03520274e+00,\n",
              "       -1.27906418e+00,  2.13471130e-02, -1.31257963e+00,  1.80204332e+00,\n",
              "       -4.23936933e-01, -7.09414065e-01,  1.60508335e+00,  2.85457683e+00,\n",
              "        2.23265243e+00, -1.05271384e-01,  3.72311234e-01, -3.39363146e+00,\n",
              "        1.71768737e+00, -6.91088617e-01,  2.59140992e+00,  4.01156473e+00,\n",
              "        1.86641470e-01, -4.89694953e-01,  8.12519073e-01, -7.33417213e-01,\n",
              "        3.30372244e-01, -3.91071081e+00,  1.70264339e+00, -2.96241999e-01,\n",
              "       -2.23519540e+00,  2.90569693e-01,  7.99206138e-01, -8.90385330e-01,\n",
              "        1.10529983e+00,  3.02566218e+00, -1.63852572e+00,  3.15240717e+00,\n",
              "        6.93022788e-01, -2.84298778e+00,  1.01809716e+00, -2.91029167e+00,\n",
              "        5.41492738e-02, -7.10296631e-02,  3.24880290e+00,  2.83998251e+00,\n",
              "       -3.10374165e+00,  2.50751638e+00,  2.23976254e+00,  1.50239766e-01,\n",
              "       -2.10149431e+00,  3.23622286e-01,  3.64814782e+00,  1.68417120e+00,\n",
              "        2.83801818e+00, -2.22761989e+00, -6.79976642e-01,  2.00406098e+00,\n",
              "       -2.46486616e+00,  3.11443233e+00,  1.97302806e+00,  2.00219655e+00,\n",
              "        3.19802785e+00, -1.77641645e-01, -3.17147088e+00,  1.32661295e+00,\n",
              "        6.11362942e-02, -7.56665051e-01,  2.02168846e+00, -2.98945284e+00,\n",
              "        1.78738892e+00, -6.15713787e+00,  6.41469359e-01,  2.48687935e+00],\n",
              "      dtype=float32)"
            ]
          },
          "metadata": {},
          "execution_count": 50
        }
      ]
    }
  ]
}