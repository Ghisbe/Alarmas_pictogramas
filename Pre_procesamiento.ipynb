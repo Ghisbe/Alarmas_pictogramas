{
  "nbformat": 4,
  "nbformat_minor": 0,
  "metadata": {
    "colab": {
      "provenance": [],
      "include_colab_link": true
    },
    "kernelspec": {
      "name": "python3",
      "display_name": "Python 3"
    },
    "language_info": {
      "name": "python"
    }
  },
  "cells": [
    {
      "cell_type": "markdown",
      "metadata": {
        "id": "view-in-github",
        "colab_type": "text"
      },
      "source": [
        "<a href=\"https://colab.research.google.com/github/Ghisbe/Alarmas_pictogramas/blob/main/Pre_procesamiento.ipynb\" target=\"_parent\"><img src=\"https://colab.research.google.com/assets/colab-badge.svg\" alt=\"Open In Colab\"/></a>"
      ]
    },
    {
      "cell_type": "markdown",
      "source": [
        "#Pre procesamiento columna 'instruction'."
      ],
      "metadata": {
        "id": "yFxI19ZnK_aK"
      }
    },
    {
      "cell_type": "code",
      "execution_count": 63,
      "metadata": {
        "colab": {
          "base_uri": "https://localhost:8080/"
        },
        "id": "lsM3_lEM5KQX",
        "outputId": "a805da33-a6aa-4982-f768-da5de707d06b"
      },
      "outputs": [
        {
          "output_type": "stream",
          "name": "stdout",
          "text": [
            "Drive already mounted at /content/drive; to attempt to forcibly remount, call drive.mount(\"/content/drive\", force_remount=True).\n"
          ]
        }
      ],
      "source": [
        "from google.colab import drive\n",
        "drive.mount('/content/drive')\n",
        "import pandas as pd\n",
        "import gdown"
      ]
    },
    {
      "cell_type": "code",
      "source": [
        "url = \"https://drive.google.com/uc?id=16poQbHBP284_SqLjI694NaH8K7sr5cA1\""
      ],
      "metadata": {
        "id": "mCA0Odfv5W_k"
      },
      "execution_count": 64,
      "outputs": []
    },
    {
      "cell_type": "code",
      "source": [
        "output = 'alertas.csv'\n",
        "gdown.download(url, output, quiet=False)\n",
        "\n",
        "# Leemos el archivo CSV en un DataFrame de pandas\n",
        "df_alertas = pd.read_csv(output)"
      ],
      "metadata": {
        "colab": {
          "base_uri": "https://localhost:8080/"
        },
        "id": "_FbsbqX15lL1",
        "outputId": "717ecd1e-92b6-41fc-8950-70a38ac23fb8"
      },
      "execution_count": 65,
      "outputs": [
        {
          "output_type": "stream",
          "name": "stderr",
          "text": [
            "Downloading...\n",
            "From (original): https://drive.google.com/uc?id=16poQbHBP284_SqLjI694NaH8K7sr5cA1\n",
            "From (redirected): https://drive.google.com/uc?id=16poQbHBP284_SqLjI694NaH8K7sr5cA1&confirm=t&uuid=95daf6e6-c7da-4a64-8029-8ea40b329212\n",
            "To: /content/alertas.csv\n",
            "100%|██████████| 754M/754M [00:12<00:00, 61.6MB/s]\n"
          ]
        }
      ]
    },
    {
      "cell_type": "code",
      "source": [
        "df_alertas"
      ],
      "metadata": {
        "colab": {
          "base_uri": "https://localhost:8080/",
          "height": 615
        },
        "id": "_GqoSpDv5sw_",
        "outputId": "f0e5db6e-9d5e-422d-9dba-22bc22d08b24"
      },
      "execution_count": 66,
      "outputs": [
        {
          "output_type": "execute_result",
          "data": {
            "text/plain": [
              "                              id                        event  \\\n",
              "0       5ed3a4b2283336e2e7db3a1c    Special Weather Statement   \n",
              "1       5ed3a07c283336e2e7d2bfa4                Flood Warning   \n",
              "2       5ed39e54283336e2e7d22306               Flood Advisory   \n",
              "3       5ed39e11283336e2e7d15e23                  Flood Watch   \n",
              "4       5ed3962c283336e2e7c1d935                Flood Warning   \n",
              "...                          ...                          ...   \n",
              "748625  5e6dc0ad023f1930effa5093      Winter Weather Advisory   \n",
              "748626  5e6dc0ad023f1930effa509d      Winter Weather Advisory   \n",
              "748627  5e6dd185023f1930ef44b316                Flood Warning   \n",
              "748628  5e6dc0ad023f1930effa50aa      Winter Weather Advisory   \n",
              "748629  5e6dc0cd023f1930effae612  Severe Thunderstorm Warning   \n",
              "\n",
              "                                              description  \\\n",
              "0       At 630 AM MDT/530 AM PDT/, Doppler radar was t...   \n",
              "1        The National Weather Service in Billings MT h...   \n",
              "2       At 502 AM PDT, Gauge reports continue to indic...   \n",
              "3       The National Weather Service in Spokane has is...   \n",
              "4       The Flood Warning has been cancelled and is no...   \n",
              "...                                                   ...   \n",
              "748625  A powerful winter storm will continue to impac...   \n",
              "748626  A powerful winter storm will continue to impac...   \n",
              "748627  Black River near Annapolis\\n\\n.This Flood Warn...   \n",
              "748628  * WHAT A period of freezing rain expected. Tot...   \n",
              "748629  The National Weather Service in Mobile has iss...   \n",
              "\n",
              "                                              instruction    urgency  severity  \n",
              "0       Frequent cloud to ground lightning is occurrin...   Expected  Moderate  \n",
              "1       Safety message...A river Flood Warning means r...   Expected    Severe  \n",
              "2       A Flood Advisory means river or stream flows a...   Expected     Minor  \n",
              "3       A Flood Watch means there is a potential for f...     Future    Severe  \n",
              "4       Safety message...Motorists should not attempt ...       Past     Minor  \n",
              "...                                                   ...        ...       ...  \n",
              "748625  A Winter Weather Advisory means that periods o...   Expected  Moderate  \n",
              "748626  A Blizzard Warning means severe winter weather...   Expected  Moderate  \n",
              "748627  PRECAUTIONARY/PREPAREDNESS ACTIONS...\\n\\nSafet...  Immediate    Severe  \n",
              "748628  A Winter Weather Advisory means that periods o...   Expected  Moderate  \n",
              "748629  For your protection move to an interior room o...  Immediate    Severe  \n",
              "\n",
              "[748630 rows x 6 columns]"
            ],
            "text/html": [
              "\n",
              "  <div id=\"df-42c62e35-7e0c-4b18-9449-7c6fae2ea233\" class=\"colab-df-container\">\n",
              "    <div>\n",
              "<style scoped>\n",
              "    .dataframe tbody tr th:only-of-type {\n",
              "        vertical-align: middle;\n",
              "    }\n",
              "\n",
              "    .dataframe tbody tr th {\n",
              "        vertical-align: top;\n",
              "    }\n",
              "\n",
              "    .dataframe thead th {\n",
              "        text-align: right;\n",
              "    }\n",
              "</style>\n",
              "<table border=\"1\" class=\"dataframe\">\n",
              "  <thead>\n",
              "    <tr style=\"text-align: right;\">\n",
              "      <th></th>\n",
              "      <th>id</th>\n",
              "      <th>event</th>\n",
              "      <th>description</th>\n",
              "      <th>instruction</th>\n",
              "      <th>urgency</th>\n",
              "      <th>severity</th>\n",
              "    </tr>\n",
              "  </thead>\n",
              "  <tbody>\n",
              "    <tr>\n",
              "      <th>0</th>\n",
              "      <td>5ed3a4b2283336e2e7db3a1c</td>\n",
              "      <td>Special Weather Statement</td>\n",
              "      <td>At 630 AM MDT/530 AM PDT/, Doppler radar was t...</td>\n",
              "      <td>Frequent cloud to ground lightning is occurrin...</td>\n",
              "      <td>Expected</td>\n",
              "      <td>Moderate</td>\n",
              "    </tr>\n",
              "    <tr>\n",
              "      <th>1</th>\n",
              "      <td>5ed3a07c283336e2e7d2bfa4</td>\n",
              "      <td>Flood Warning</td>\n",
              "      <td>The National Weather Service in Billings MT h...</td>\n",
              "      <td>Safety message...A river Flood Warning means r...</td>\n",
              "      <td>Expected</td>\n",
              "      <td>Severe</td>\n",
              "    </tr>\n",
              "    <tr>\n",
              "      <th>2</th>\n",
              "      <td>5ed39e54283336e2e7d22306</td>\n",
              "      <td>Flood Advisory</td>\n",
              "      <td>At 502 AM PDT, Gauge reports continue to indic...</td>\n",
              "      <td>A Flood Advisory means river or stream flows a...</td>\n",
              "      <td>Expected</td>\n",
              "      <td>Minor</td>\n",
              "    </tr>\n",
              "    <tr>\n",
              "      <th>3</th>\n",
              "      <td>5ed39e11283336e2e7d15e23</td>\n",
              "      <td>Flood Watch</td>\n",
              "      <td>The National Weather Service in Spokane has is...</td>\n",
              "      <td>A Flood Watch means there is a potential for f...</td>\n",
              "      <td>Future</td>\n",
              "      <td>Severe</td>\n",
              "    </tr>\n",
              "    <tr>\n",
              "      <th>4</th>\n",
              "      <td>5ed3962c283336e2e7c1d935</td>\n",
              "      <td>Flood Warning</td>\n",
              "      <td>The Flood Warning has been cancelled and is no...</td>\n",
              "      <td>Safety message...Motorists should not attempt ...</td>\n",
              "      <td>Past</td>\n",
              "      <td>Minor</td>\n",
              "    </tr>\n",
              "    <tr>\n",
              "      <th>...</th>\n",
              "      <td>...</td>\n",
              "      <td>...</td>\n",
              "      <td>...</td>\n",
              "      <td>...</td>\n",
              "      <td>...</td>\n",
              "      <td>...</td>\n",
              "    </tr>\n",
              "    <tr>\n",
              "      <th>748625</th>\n",
              "      <td>5e6dc0ad023f1930effa5093</td>\n",
              "      <td>Winter Weather Advisory</td>\n",
              "      <td>A powerful winter storm will continue to impac...</td>\n",
              "      <td>A Winter Weather Advisory means that periods o...</td>\n",
              "      <td>Expected</td>\n",
              "      <td>Moderate</td>\n",
              "    </tr>\n",
              "    <tr>\n",
              "      <th>748626</th>\n",
              "      <td>5e6dc0ad023f1930effa509d</td>\n",
              "      <td>Winter Weather Advisory</td>\n",
              "      <td>A powerful winter storm will continue to impac...</td>\n",
              "      <td>A Blizzard Warning means severe winter weather...</td>\n",
              "      <td>Expected</td>\n",
              "      <td>Moderate</td>\n",
              "    </tr>\n",
              "    <tr>\n",
              "      <th>748627</th>\n",
              "      <td>5e6dd185023f1930ef44b316</td>\n",
              "      <td>Flood Warning</td>\n",
              "      <td>Black River near Annapolis\\n\\n.This Flood Warn...</td>\n",
              "      <td>PRECAUTIONARY/PREPAREDNESS ACTIONS...\\n\\nSafet...</td>\n",
              "      <td>Immediate</td>\n",
              "      <td>Severe</td>\n",
              "    </tr>\n",
              "    <tr>\n",
              "      <th>748628</th>\n",
              "      <td>5e6dc0ad023f1930effa50aa</td>\n",
              "      <td>Winter Weather Advisory</td>\n",
              "      <td>* WHAT A period of freezing rain expected. Tot...</td>\n",
              "      <td>A Winter Weather Advisory means that periods o...</td>\n",
              "      <td>Expected</td>\n",
              "      <td>Moderate</td>\n",
              "    </tr>\n",
              "    <tr>\n",
              "      <th>748629</th>\n",
              "      <td>5e6dc0cd023f1930effae612</td>\n",
              "      <td>Severe Thunderstorm Warning</td>\n",
              "      <td>The National Weather Service in Mobile has iss...</td>\n",
              "      <td>For your protection move to an interior room o...</td>\n",
              "      <td>Immediate</td>\n",
              "      <td>Severe</td>\n",
              "    </tr>\n",
              "  </tbody>\n",
              "</table>\n",
              "<p>748630 rows × 6 columns</p>\n",
              "</div>\n",
              "    <div class=\"colab-df-buttons\">\n",
              "\n",
              "  <div class=\"colab-df-container\">\n",
              "    <button class=\"colab-df-convert\" onclick=\"convertToInteractive('df-42c62e35-7e0c-4b18-9449-7c6fae2ea233')\"\n",
              "            title=\"Convert this dataframe to an interactive table.\"\n",
              "            style=\"display:none;\">\n",
              "\n",
              "  <svg xmlns=\"http://www.w3.org/2000/svg\" height=\"24px\" viewBox=\"0 -960 960 960\">\n",
              "    <path d=\"M120-120v-720h720v720H120Zm60-500h600v-160H180v160Zm220 220h160v-160H400v160Zm0 220h160v-160H400v160ZM180-400h160v-160H180v160Zm440 0h160v-160H620v160ZM180-180h160v-160H180v160Zm440 0h160v-160H620v160Z\"/>\n",
              "  </svg>\n",
              "    </button>\n",
              "\n",
              "  <style>\n",
              "    .colab-df-container {\n",
              "      display:flex;\n",
              "      gap: 12px;\n",
              "    }\n",
              "\n",
              "    .colab-df-convert {\n",
              "      background-color: #E8F0FE;\n",
              "      border: none;\n",
              "      border-radius: 50%;\n",
              "      cursor: pointer;\n",
              "      display: none;\n",
              "      fill: #1967D2;\n",
              "      height: 32px;\n",
              "      padding: 0 0 0 0;\n",
              "      width: 32px;\n",
              "    }\n",
              "\n",
              "    .colab-df-convert:hover {\n",
              "      background-color: #E2EBFA;\n",
              "      box-shadow: 0px 1px 2px rgba(60, 64, 67, 0.3), 0px 1px 3px 1px rgba(60, 64, 67, 0.15);\n",
              "      fill: #174EA6;\n",
              "    }\n",
              "\n",
              "    .colab-df-buttons div {\n",
              "      margin-bottom: 4px;\n",
              "    }\n",
              "\n",
              "    [theme=dark] .colab-df-convert {\n",
              "      background-color: #3B4455;\n",
              "      fill: #D2E3FC;\n",
              "    }\n",
              "\n",
              "    [theme=dark] .colab-df-convert:hover {\n",
              "      background-color: #434B5C;\n",
              "      box-shadow: 0px 1px 3px 1px rgba(0, 0, 0, 0.15);\n",
              "      filter: drop-shadow(0px 1px 2px rgba(0, 0, 0, 0.3));\n",
              "      fill: #FFFFFF;\n",
              "    }\n",
              "  </style>\n",
              "\n",
              "    <script>\n",
              "      const buttonEl =\n",
              "        document.querySelector('#df-42c62e35-7e0c-4b18-9449-7c6fae2ea233 button.colab-df-convert');\n",
              "      buttonEl.style.display =\n",
              "        google.colab.kernel.accessAllowed ? 'block' : 'none';\n",
              "\n",
              "      async function convertToInteractive(key) {\n",
              "        const element = document.querySelector('#df-42c62e35-7e0c-4b18-9449-7c6fae2ea233');\n",
              "        const dataTable =\n",
              "          await google.colab.kernel.invokeFunction('convertToInteractive',\n",
              "                                                    [key], {});\n",
              "        if (!dataTable) return;\n",
              "\n",
              "        const docLinkHtml = 'Like what you see? Visit the ' +\n",
              "          '<a target=\"_blank\" href=https://colab.research.google.com/notebooks/data_table.ipynb>data table notebook</a>'\n",
              "          + ' to learn more about interactive tables.';\n",
              "        element.innerHTML = '';\n",
              "        dataTable['output_type'] = 'display_data';\n",
              "        await google.colab.output.renderOutput(dataTable, element);\n",
              "        const docLink = document.createElement('div');\n",
              "        docLink.innerHTML = docLinkHtml;\n",
              "        element.appendChild(docLink);\n",
              "      }\n",
              "    </script>\n",
              "  </div>\n",
              "\n",
              "\n",
              "<div id=\"df-019246d5-a012-49ab-9048-0c34907ee5ca\">\n",
              "  <button class=\"colab-df-quickchart\" onclick=\"quickchart('df-019246d5-a012-49ab-9048-0c34907ee5ca')\"\n",
              "            title=\"Suggest charts\"\n",
              "            style=\"display:none;\">\n",
              "\n",
              "<svg xmlns=\"http://www.w3.org/2000/svg\" height=\"24px\"viewBox=\"0 0 24 24\"\n",
              "     width=\"24px\">\n",
              "    <g>\n",
              "        <path d=\"M19 3H5c-1.1 0-2 .9-2 2v14c0 1.1.9 2 2 2h14c1.1 0 2-.9 2-2V5c0-1.1-.9-2-2-2zM9 17H7v-7h2v7zm4 0h-2V7h2v10zm4 0h-2v-4h2v4z\"/>\n",
              "    </g>\n",
              "</svg>\n",
              "  </button>\n",
              "\n",
              "<style>\n",
              "  .colab-df-quickchart {\n",
              "      --bg-color: #E8F0FE;\n",
              "      --fill-color: #1967D2;\n",
              "      --hover-bg-color: #E2EBFA;\n",
              "      --hover-fill-color: #174EA6;\n",
              "      --disabled-fill-color: #AAA;\n",
              "      --disabled-bg-color: #DDD;\n",
              "  }\n",
              "\n",
              "  [theme=dark] .colab-df-quickchart {\n",
              "      --bg-color: #3B4455;\n",
              "      --fill-color: #D2E3FC;\n",
              "      --hover-bg-color: #434B5C;\n",
              "      --hover-fill-color: #FFFFFF;\n",
              "      --disabled-bg-color: #3B4455;\n",
              "      --disabled-fill-color: #666;\n",
              "  }\n",
              "\n",
              "  .colab-df-quickchart {\n",
              "    background-color: var(--bg-color);\n",
              "    border: none;\n",
              "    border-radius: 50%;\n",
              "    cursor: pointer;\n",
              "    display: none;\n",
              "    fill: var(--fill-color);\n",
              "    height: 32px;\n",
              "    padding: 0;\n",
              "    width: 32px;\n",
              "  }\n",
              "\n",
              "  .colab-df-quickchart:hover {\n",
              "    background-color: var(--hover-bg-color);\n",
              "    box-shadow: 0 1px 2px rgba(60, 64, 67, 0.3), 0 1px 3px 1px rgba(60, 64, 67, 0.15);\n",
              "    fill: var(--button-hover-fill-color);\n",
              "  }\n",
              "\n",
              "  .colab-df-quickchart-complete:disabled,\n",
              "  .colab-df-quickchart-complete:disabled:hover {\n",
              "    background-color: var(--disabled-bg-color);\n",
              "    fill: var(--disabled-fill-color);\n",
              "    box-shadow: none;\n",
              "  }\n",
              "\n",
              "  .colab-df-spinner {\n",
              "    border: 2px solid var(--fill-color);\n",
              "    border-color: transparent;\n",
              "    border-bottom-color: var(--fill-color);\n",
              "    animation:\n",
              "      spin 1s steps(1) infinite;\n",
              "  }\n",
              "\n",
              "  @keyframes spin {\n",
              "    0% {\n",
              "      border-color: transparent;\n",
              "      border-bottom-color: var(--fill-color);\n",
              "      border-left-color: var(--fill-color);\n",
              "    }\n",
              "    20% {\n",
              "      border-color: transparent;\n",
              "      border-left-color: var(--fill-color);\n",
              "      border-top-color: var(--fill-color);\n",
              "    }\n",
              "    30% {\n",
              "      border-color: transparent;\n",
              "      border-left-color: var(--fill-color);\n",
              "      border-top-color: var(--fill-color);\n",
              "      border-right-color: var(--fill-color);\n",
              "    }\n",
              "    40% {\n",
              "      border-color: transparent;\n",
              "      border-right-color: var(--fill-color);\n",
              "      border-top-color: var(--fill-color);\n",
              "    }\n",
              "    60% {\n",
              "      border-color: transparent;\n",
              "      border-right-color: var(--fill-color);\n",
              "    }\n",
              "    80% {\n",
              "      border-color: transparent;\n",
              "      border-right-color: var(--fill-color);\n",
              "      border-bottom-color: var(--fill-color);\n",
              "    }\n",
              "    90% {\n",
              "      border-color: transparent;\n",
              "      border-bottom-color: var(--fill-color);\n",
              "    }\n",
              "  }\n",
              "</style>\n",
              "\n",
              "  <script>\n",
              "    async function quickchart(key) {\n",
              "      const quickchartButtonEl =\n",
              "        document.querySelector('#' + key + ' button');\n",
              "      quickchartButtonEl.disabled = true;  // To prevent multiple clicks.\n",
              "      quickchartButtonEl.classList.add('colab-df-spinner');\n",
              "      try {\n",
              "        const charts = await google.colab.kernel.invokeFunction(\n",
              "            'suggestCharts', [key], {});\n",
              "      } catch (error) {\n",
              "        console.error('Error during call to suggestCharts:', error);\n",
              "      }\n",
              "      quickchartButtonEl.classList.remove('colab-df-spinner');\n",
              "      quickchartButtonEl.classList.add('colab-df-quickchart-complete');\n",
              "    }\n",
              "    (() => {\n",
              "      let quickchartButtonEl =\n",
              "        document.querySelector('#df-019246d5-a012-49ab-9048-0c34907ee5ca button');\n",
              "      quickchartButtonEl.style.display =\n",
              "        google.colab.kernel.accessAllowed ? 'block' : 'none';\n",
              "    })();\n",
              "  </script>\n",
              "</div>\n",
              "\n",
              "  <div id=\"id_cf18fde3-3863-47d6-a472-919d74fc6351\">\n",
              "    <style>\n",
              "      .colab-df-generate {\n",
              "        background-color: #E8F0FE;\n",
              "        border: none;\n",
              "        border-radius: 50%;\n",
              "        cursor: pointer;\n",
              "        display: none;\n",
              "        fill: #1967D2;\n",
              "        height: 32px;\n",
              "        padding: 0 0 0 0;\n",
              "        width: 32px;\n",
              "      }\n",
              "\n",
              "      .colab-df-generate:hover {\n",
              "        background-color: #E2EBFA;\n",
              "        box-shadow: 0px 1px 2px rgba(60, 64, 67, 0.3), 0px 1px 3px 1px rgba(60, 64, 67, 0.15);\n",
              "        fill: #174EA6;\n",
              "      }\n",
              "\n",
              "      [theme=dark] .colab-df-generate {\n",
              "        background-color: #3B4455;\n",
              "        fill: #D2E3FC;\n",
              "      }\n",
              "\n",
              "      [theme=dark] .colab-df-generate:hover {\n",
              "        background-color: #434B5C;\n",
              "        box-shadow: 0px 1px 3px 1px rgba(0, 0, 0, 0.15);\n",
              "        filter: drop-shadow(0px 1px 2px rgba(0, 0, 0, 0.3));\n",
              "        fill: #FFFFFF;\n",
              "      }\n",
              "    </style>\n",
              "    <button class=\"colab-df-generate\" onclick=\"generateWithVariable('df_alertas')\"\n",
              "            title=\"Generate code using this dataframe.\"\n",
              "            style=\"display:none;\">\n",
              "\n",
              "  <svg xmlns=\"http://www.w3.org/2000/svg\" height=\"24px\"viewBox=\"0 0 24 24\"\n",
              "       width=\"24px\">\n",
              "    <path d=\"M7,19H8.4L18.45,9,17,7.55,7,17.6ZM5,21V16.75L18.45,3.32a2,2,0,0,1,2.83,0l1.4,1.43a1.91,1.91,0,0,1,.58,1.4,1.91,1.91,0,0,1-.58,1.4L9.25,21ZM18.45,9,17,7.55Zm-12,3A5.31,5.31,0,0,0,4.9,8.1,5.31,5.31,0,0,0,1,6.5,5.31,5.31,0,0,0,4.9,4.9,5.31,5.31,0,0,0,6.5,1,5.31,5.31,0,0,0,8.1,4.9,5.31,5.31,0,0,0,12,6.5,5.46,5.46,0,0,0,6.5,12Z\"/>\n",
              "  </svg>\n",
              "    </button>\n",
              "    <script>\n",
              "      (() => {\n",
              "      const buttonEl =\n",
              "        document.querySelector('#id_cf18fde3-3863-47d6-a472-919d74fc6351 button.colab-df-generate');\n",
              "      buttonEl.style.display =\n",
              "        google.colab.kernel.accessAllowed ? 'block' : 'none';\n",
              "\n",
              "      buttonEl.onclick = () => {\n",
              "        google.colab.notebook.generateWithVariable('df_alertas');\n",
              "      }\n",
              "      })();\n",
              "    </script>\n",
              "  </div>\n",
              "\n",
              "    </div>\n",
              "  </div>\n"
            ],
            "application/vnd.google.colaboratory.intrinsic+json": {
              "type": "dataframe",
              "variable_name": "df_alertas"
            }
          },
          "metadata": {},
          "execution_count": 66
        }
      ]
    },
    {
      "cell_type": "markdown",
      "source": [
        "Observamos que en campo \"instruction\" no tenemos nulos"
      ],
      "metadata": {
        "id": "sRciP2F1xULF"
      }
    },
    {
      "cell_type": "code",
      "source": [
        "df_alertas.info()"
      ],
      "metadata": {
        "id": "t65dZLVWxRxV",
        "outputId": "6098e2b0-eb82-4d6f-bebd-4b79e87a0873",
        "colab": {
          "base_uri": "https://localhost:8080/"
        }
      },
      "execution_count": 67,
      "outputs": [
        {
          "output_type": "stream",
          "name": "stdout",
          "text": [
            "<class 'pandas.core.frame.DataFrame'>\n",
            "RangeIndex: 748630 entries, 0 to 748629\n",
            "Data columns (total 6 columns):\n",
            " #   Column       Non-Null Count   Dtype \n",
            "---  ------       --------------   ----- \n",
            " 0   id           748630 non-null  object\n",
            " 1   event        748630 non-null  object\n",
            " 2   description  748630 non-null  object\n",
            " 3   instruction  748630 non-null  object\n",
            " 4   urgency      748630 non-null  object\n",
            " 5   severity     748630 non-null  object\n",
            "dtypes: object(6)\n",
            "memory usage: 34.3+ MB\n"
          ]
        }
      ]
    },
    {
      "cell_type": "markdown",
      "source": [
        "Filtramos los registros donde la columna 'instruction' contiene '...'"
      ],
      "metadata": {
        "id": "R9CG3YZRRR_3"
      }
    },
    {
      "cell_type": "code",
      "source": [
        "filtered_instructions = df_alertas[df_alertas['instruction'].str.contains('...', na=False)]"
      ],
      "metadata": {
        "id": "NPuh7QFKAtQj"
      },
      "execution_count": 68,
      "outputs": []
    },
    {
      "cell_type": "markdown",
      "source": [
        "Contamos la cantidad de registros filtrados."
      ],
      "metadata": {
        "id": "sUuVfGd8Rafr"
      }
    },
    {
      "cell_type": "code",
      "source": [
        "count_filtered = filtered_instructions.shape[0]\n",
        "print(f'Cantidad de registros con ...: {count_filtered}')"
      ],
      "metadata": {
        "id": "4C7hbQWpRirG",
        "outputId": "9a768711-7230-4bb0-a461-d3fd1dd8b84c",
        "colab": {
          "base_uri": "https://localhost:8080/"
        }
      },
      "execution_count": 69,
      "outputs": [
        {
          "output_type": "stream",
          "name": "stdout",
          "text": [
            "Cantidad de registros con ...: 748630\n"
          ]
        }
      ]
    },
    {
      "cell_type": "markdown",
      "source": [
        "Filtramos los registros donde la columna 'instruction' contiene '\\n'."
      ],
      "metadata": {
        "id": "cZmZMzZwRquN"
      }
    },
    {
      "cell_type": "code",
      "source": [
        "filtered_instructions = df_alertas[df_alertas['instruction'].str.contains('\\n', na=False)]"
      ],
      "metadata": {
        "id": "ACFCANqEIvwp"
      },
      "execution_count": 70,
      "outputs": []
    },
    {
      "cell_type": "markdown",
      "source": [
        "Contamos la cantidad de registros filtrados."
      ],
      "metadata": {
        "id": "AB8n1vS7R3l6"
      }
    },
    {
      "cell_type": "code",
      "source": [
        "count_filtered = filtered_instructions.shape[0]\n",
        "print(f'Cantidad de registros con \\n: {count_filtered}')"
      ],
      "metadata": {
        "id": "t7wpfwUKRzxE",
        "outputId": "1988afac-4f40-4922-9593-0a1a90301343",
        "colab": {
          "base_uri": "https://localhost:8080/"
        }
      },
      "execution_count": 71,
      "outputs": [
        {
          "output_type": "stream",
          "name": "stdout",
          "text": [
            "Cantidad de registros con \n",
            ": 743741\n"
          ]
        }
      ]
    },
    {
      "cell_type": "markdown",
      "source": [
        "Reemplazamos valores atipicos con espacio."
      ],
      "metadata": {
        "id": "xiiiJpiER_fU"
      }
    },
    {
      "cell_type": "code",
      "source": [
        "df_alertas['instruction'] = df_alertas['instruction'].str.replace('...', ' ', regex=False)"
      ],
      "metadata": {
        "id": "L9y9tvKGBlbn"
      },
      "execution_count": 72,
      "outputs": []
    },
    {
      "cell_type": "code",
      "source": [
        "df_alertas['instruction'] = df_alertas['instruction'].str.replace('\\n', ' ', regex=False)"
      ],
      "metadata": {
        "id": "CIy0Ksh5u9HV"
      },
      "execution_count": 73,
      "outputs": []
    },
    {
      "cell_type": "markdown",
      "source": [
        "Observamos una muestra de 30 filas para comprobar estos cambios:"
      ],
      "metadata": {
        "id": "T_KVmYhYvm-f"
      }
    },
    {
      "cell_type": "code",
      "source": [
        "df_alertas.sample(30)"
      ],
      "metadata": {
        "id": "SEWiRof2vwE4",
        "outputId": "ea71dd9e-177a-4d93-9e70-6b35584b5379",
        "colab": {
          "base_uri": "https://localhost:8080/",
          "height": 1000
        }
      },
      "execution_count": 74,
      "outputs": [
        {
          "output_type": "execute_result",
          "data": {
            "text/plain": [
              "                              id                        event  \\\n",
              "93159   5e7e1066023f1930efd1a121      Winter Weather Advisory   \n",
              "43419   5e6db09e023f1930efac3f66        Coastal Flood Warning   \n",
              "4558    5ecc60b0283336e2e748f4eb  Severe Thunderstorm Warning   \n",
              "397013  5e6dd905023f1930ef622cf0      Winter Weather Advisory   \n",
              "310897  5e6db90a023f1930efd6a3e7  Severe Thunderstorm Warning   \n",
              "319001  5e6db92b023f1930efd7411b    Special Weather Statement   \n",
              "381195  5e6dd87b023f1930ef603470                Flood Warning   \n",
              "202160  5e6ddd87023f1930ef72da0a          Flash Flood Warning   \n",
              "277589  5e6ddce3023f1930ef708b50            High Wind Warning   \n",
              "25724   5e6dafee023f1930efa92c92                Flood Warning   \n",
              "450407  5e6dbc4b023f1930efe613e2            Flash Flood Watch   \n",
              "108956  5e6db22e023f1930efb4078d      Winter Weather Advisory   \n",
              "369797  5e6dd8c1023f1930ef613869    Special Weather Statement   \n",
              "663342  5e6dd3d5023f1930ef4de271            Flash Flood Watch   \n",
              "148209  5e6de02a023f1930ef7c48f5         Winter Storm Warning   \n",
              "340690  5e6ddadc023f1930ef691009                Flood Warning   \n",
              "286805  5e6ddc64023f1930ef6eb10e                Flood Warning   \n",
              "265035  5e6ddba2023f1930ef6bf0a5  Severe Thunderstorm Warning   \n",
              "492924  5e6dd601023f1930ef568bbe                Flood Warning   \n",
              "107353  5e7e11d1023f1930efd6d9b6       Coastal Flood Advisory   \n",
              "573982  5e6dd42b023f1930ef4f3325  Severe Thunderstorm Warning   \n",
              "519988  5e6dd52a023f1930ef532c2d               Flood Advisory   \n",
              "632781  5e6dbf6a023f1930eff4b02b           Fire Weather Watch   \n",
              "148922  5e6de016023f1930ef7bfeda       Coastal Flood Advisory   \n",
              "624069  5e6dbf18023f1930eff33e82  Severe Thunderstorm Warning   \n",
              "19215   5eb54289283336e2e7f91af9  Severe Thunderstorm Warning   \n",
              "712035  5e6dd3b2023f1930ef4d5760          Flash Flood Warning   \n",
              "252499  5e6ddc45023f1930ef6e40c6                Flood Warning   \n",
              "511085  5e6dd66d023f1930ef583234                Flood Warning   \n",
              "263066  5e6db7d0023f1930efd0dd5e                Flood Warning   \n",
              "\n",
              "                                              description  \\\n",
              "93159    Difficult Travel Expected Today as Snow Conti...   \n",
              "43419   The Coastal Flood Warning has been cancelled a...   \n",
              "4558    The National Weather Service in Green Bay has ...   \n",
              "397013  * WHAT Snow and blowing snow expected. Total s...   \n",
              "310897  The National Weather Service in Dodge City has...   \n",
              "319001  At 614 PM EDT a strong thunderstorm was over H...   \n",
              "381195  Scioto River Near Prospect\\nKillbuck Creek Nea...   \n",
              "202160  The National Weather Service in Flagstaff has ...   \n",
              "277589  ..WIND ADVISORY REMAINS IN EFFECT UNTIL 7 PM C...   \n",
              "25724   Updated afternoon flood information for the Mi...   \n",
              "450407  The Flash Flood Watch continues for\\n\\n* Porti...   \n",
              "108956   Snow to Continue across western Wyoming throu...   \n",
              "369797  Widespread dense sea fog developing off the co...   \n",
              "663342  THE NATIONAL WEATHER SERVICE IN DETROIT/PONTIA...   \n",
              "148209   HEAVY SNOW FOR THE HIGHER ELEVATIONS OF THE N...   \n",
              "340690  Updated river flood information for the Cedar ...   \n",
              "286805  Tibbee Creek Near Tibbee affecting Clay County...   \n",
              "265035  At 148 PM CDT, a severe thunderstorm was locat...   \n",
              "492924  The Flood Warning has been cancelled and is no...   \n",
              "107353  * WHAT Minor coastal flooding expected.\\n\\n* W...   \n",
              "573982  The National Weather Service in Albany has iss...   \n",
              "519988  The National Weather Service in Albany has iss...   \n",
              "632781  A significant heat wave is expected to affect ...   \n",
              "148922   DANGEROUS RIP CURRENTS AND COASTAL FLOODING \\...   \n",
              "624069  THE NATIONAL WEATHER SERVICE IN PITTSBURGH HAS...   \n",
              "19215   At 708 AM CDT, severe thunderstorms were locat...   \n",
              "712035  At 818 PM EDT, Doppler radar indicated thunder...   \n",
              "252499  Updated flood information for the Cedar River ...   \n",
              "511085  Affecting the following counties in Iowa Story...   \n",
              "263066  Rock River At Rock Rapids\\nRock River At Rock ...   \n",
              "\n",
              "                                              instruction    urgency  severity  \n",
              "93159          Slow down and use caution while traveling.   Expected  Moderate  \n",
              "43419   If travel is required, allow extra time as som...       Past     Minor  \n",
              "4558    Prepare immediately for large hail and damagin...  Immediate    Severe  \n",
              "397013  A Winter Weather Advisory for snow means snow ...   Expected  Moderate  \n",
              "310897  For your protection move to an interior room o...  Immediate    Severe  \n",
              "319001  People outdoors should seek shelter immediatel...   Expected  Moderate  \n",
              "381195  PRECAUTIONARY/PREPAREDNESS ACTIONS   Never dri...  Immediate    Severe  \n",
              "202160  Move to higher ground now. Act quickly to prot...  Immediate    Severe  \n",
              "277589  A High Wind Warning means a hazardous high win...   Expected    Severe  \n",
              "25724   If you encounter a flooded roadway, turn aroun...  Immediate    Severe  \n",
              "450407  A Flash Flood Watch means that conditions may ...     Future    Severe  \n",
              "108956  Slow down and use caution while traveling.  Th...   Expected  Moderate  \n",
              "369797  If driving, slow down and leave extra distance...   Expected  Moderate  \n",
              "663342  YOU SHOULD MONITOR LATER FORECASTS AND BE PREP...     Future    Severe  \n",
              "148209  A Winter Storm Warning for snow means severe w...   Expected    Severe  \n",
              "340690  PRECAUTIONARY/PREPAREDNESS ACTIONS   If you en...  Immediate    Severe  \n",
              "286805  PRECAUTIONARY/PREPAREDNESS ACTIONS   Do not dr...  Immediate    Severe  \n",
              "265035  For your protection move to an interior room o...  Immediate    Severe  \n",
              "492924  PRECAUTIONARY/PREPAREDNESS ACTIONS   Stay tune...       Past     Minor  \n",
              "107353  If travel is required, allow extra time as som...   Expected     Minor  \n",
              "573982  For your protection move to an interior room o...  Immediate    Severe  \n",
              "519988  Turn around, don't drown when encountering flo...   Expected     Minor  \n",
              "632781  A Fire Weather Watch means that there is the p...     Future    Severe  \n",
              "148922  Swim near a lifeguard. If caught in a rip curr...   Expected     Minor  \n",
              "624069  FOR YOUR PROTECTION MOVE TO AN INTERIOR ROOM O...  Immediate    Severe  \n",
              "19215   For your protection move to an interior room o...  Immediate    Severe  \n",
              "712035  Turn around, don't drown when encountering flo...  Immediate    Severe  \n",
              "252499  PRECAUTIONARY/PREPAREDNESS ACTIONS   If you en...  Immediate    Severe  \n",
              "511085  PRECAUTIONARY/PREPAREDNESS ACTIONS   If you en...   Expected    Severe  \n",
              "263066  PRECAUTIONARY/PREPAREDNESS ACTIONS   Safety me...  Immediate    Severe  "
            ],
            "text/html": [
              "\n",
              "  <div id=\"df-392b567f-89e8-4793-b818-60d382dcf0b9\" class=\"colab-df-container\">\n",
              "    <div>\n",
              "<style scoped>\n",
              "    .dataframe tbody tr th:only-of-type {\n",
              "        vertical-align: middle;\n",
              "    }\n",
              "\n",
              "    .dataframe tbody tr th {\n",
              "        vertical-align: top;\n",
              "    }\n",
              "\n",
              "    .dataframe thead th {\n",
              "        text-align: right;\n",
              "    }\n",
              "</style>\n",
              "<table border=\"1\" class=\"dataframe\">\n",
              "  <thead>\n",
              "    <tr style=\"text-align: right;\">\n",
              "      <th></th>\n",
              "      <th>id</th>\n",
              "      <th>event</th>\n",
              "      <th>description</th>\n",
              "      <th>instruction</th>\n",
              "      <th>urgency</th>\n",
              "      <th>severity</th>\n",
              "    </tr>\n",
              "  </thead>\n",
              "  <tbody>\n",
              "    <tr>\n",
              "      <th>93159</th>\n",
              "      <td>5e7e1066023f1930efd1a121</td>\n",
              "      <td>Winter Weather Advisory</td>\n",
              "      <td>Difficult Travel Expected Today as Snow Conti...</td>\n",
              "      <td>Slow down and use caution while traveling.</td>\n",
              "      <td>Expected</td>\n",
              "      <td>Moderate</td>\n",
              "    </tr>\n",
              "    <tr>\n",
              "      <th>43419</th>\n",
              "      <td>5e6db09e023f1930efac3f66</td>\n",
              "      <td>Coastal Flood Warning</td>\n",
              "      <td>The Coastal Flood Warning has been cancelled a...</td>\n",
              "      <td>If travel is required, allow extra time as som...</td>\n",
              "      <td>Past</td>\n",
              "      <td>Minor</td>\n",
              "    </tr>\n",
              "    <tr>\n",
              "      <th>4558</th>\n",
              "      <td>5ecc60b0283336e2e748f4eb</td>\n",
              "      <td>Severe Thunderstorm Warning</td>\n",
              "      <td>The National Weather Service in Green Bay has ...</td>\n",
              "      <td>Prepare immediately for large hail and damagin...</td>\n",
              "      <td>Immediate</td>\n",
              "      <td>Severe</td>\n",
              "    </tr>\n",
              "    <tr>\n",
              "      <th>397013</th>\n",
              "      <td>5e6dd905023f1930ef622cf0</td>\n",
              "      <td>Winter Weather Advisory</td>\n",
              "      <td>* WHAT Snow and blowing snow expected. Total s...</td>\n",
              "      <td>A Winter Weather Advisory for snow means snow ...</td>\n",
              "      <td>Expected</td>\n",
              "      <td>Moderate</td>\n",
              "    </tr>\n",
              "    <tr>\n",
              "      <th>310897</th>\n",
              "      <td>5e6db90a023f1930efd6a3e7</td>\n",
              "      <td>Severe Thunderstorm Warning</td>\n",
              "      <td>The National Weather Service in Dodge City has...</td>\n",
              "      <td>For your protection move to an interior room o...</td>\n",
              "      <td>Immediate</td>\n",
              "      <td>Severe</td>\n",
              "    </tr>\n",
              "    <tr>\n",
              "      <th>319001</th>\n",
              "      <td>5e6db92b023f1930efd7411b</td>\n",
              "      <td>Special Weather Statement</td>\n",
              "      <td>At 614 PM EDT a strong thunderstorm was over H...</td>\n",
              "      <td>People outdoors should seek shelter immediatel...</td>\n",
              "      <td>Expected</td>\n",
              "      <td>Moderate</td>\n",
              "    </tr>\n",
              "    <tr>\n",
              "      <th>381195</th>\n",
              "      <td>5e6dd87b023f1930ef603470</td>\n",
              "      <td>Flood Warning</td>\n",
              "      <td>Scioto River Near Prospect\\nKillbuck Creek Nea...</td>\n",
              "      <td>PRECAUTIONARY/PREPAREDNESS ACTIONS   Never dri...</td>\n",
              "      <td>Immediate</td>\n",
              "      <td>Severe</td>\n",
              "    </tr>\n",
              "    <tr>\n",
              "      <th>202160</th>\n",
              "      <td>5e6ddd87023f1930ef72da0a</td>\n",
              "      <td>Flash Flood Warning</td>\n",
              "      <td>The National Weather Service in Flagstaff has ...</td>\n",
              "      <td>Move to higher ground now. Act quickly to prot...</td>\n",
              "      <td>Immediate</td>\n",
              "      <td>Severe</td>\n",
              "    </tr>\n",
              "    <tr>\n",
              "      <th>277589</th>\n",
              "      <td>5e6ddce3023f1930ef708b50</td>\n",
              "      <td>High Wind Warning</td>\n",
              "      <td>..WIND ADVISORY REMAINS IN EFFECT UNTIL 7 PM C...</td>\n",
              "      <td>A High Wind Warning means a hazardous high win...</td>\n",
              "      <td>Expected</td>\n",
              "      <td>Severe</td>\n",
              "    </tr>\n",
              "    <tr>\n",
              "      <th>25724</th>\n",
              "      <td>5e6dafee023f1930efa92c92</td>\n",
              "      <td>Flood Warning</td>\n",
              "      <td>Updated afternoon flood information for the Mi...</td>\n",
              "      <td>If you encounter a flooded roadway, turn aroun...</td>\n",
              "      <td>Immediate</td>\n",
              "      <td>Severe</td>\n",
              "    </tr>\n",
              "    <tr>\n",
              "      <th>450407</th>\n",
              "      <td>5e6dbc4b023f1930efe613e2</td>\n",
              "      <td>Flash Flood Watch</td>\n",
              "      <td>The Flash Flood Watch continues for\\n\\n* Porti...</td>\n",
              "      <td>A Flash Flood Watch means that conditions may ...</td>\n",
              "      <td>Future</td>\n",
              "      <td>Severe</td>\n",
              "    </tr>\n",
              "    <tr>\n",
              "      <th>108956</th>\n",
              "      <td>5e6db22e023f1930efb4078d</td>\n",
              "      <td>Winter Weather Advisory</td>\n",
              "      <td>Snow to Continue across western Wyoming throu...</td>\n",
              "      <td>Slow down and use caution while traveling.  Th...</td>\n",
              "      <td>Expected</td>\n",
              "      <td>Moderate</td>\n",
              "    </tr>\n",
              "    <tr>\n",
              "      <th>369797</th>\n",
              "      <td>5e6dd8c1023f1930ef613869</td>\n",
              "      <td>Special Weather Statement</td>\n",
              "      <td>Widespread dense sea fog developing off the co...</td>\n",
              "      <td>If driving, slow down and leave extra distance...</td>\n",
              "      <td>Expected</td>\n",
              "      <td>Moderate</td>\n",
              "    </tr>\n",
              "    <tr>\n",
              "      <th>663342</th>\n",
              "      <td>5e6dd3d5023f1930ef4de271</td>\n",
              "      <td>Flash Flood Watch</td>\n",
              "      <td>THE NATIONAL WEATHER SERVICE IN DETROIT/PONTIA...</td>\n",
              "      <td>YOU SHOULD MONITOR LATER FORECASTS AND BE PREP...</td>\n",
              "      <td>Future</td>\n",
              "      <td>Severe</td>\n",
              "    </tr>\n",
              "    <tr>\n",
              "      <th>148209</th>\n",
              "      <td>5e6de02a023f1930ef7c48f5</td>\n",
              "      <td>Winter Storm Warning</td>\n",
              "      <td>HEAVY SNOW FOR THE HIGHER ELEVATIONS OF THE N...</td>\n",
              "      <td>A Winter Storm Warning for snow means severe w...</td>\n",
              "      <td>Expected</td>\n",
              "      <td>Severe</td>\n",
              "    </tr>\n",
              "    <tr>\n",
              "      <th>340690</th>\n",
              "      <td>5e6ddadc023f1930ef691009</td>\n",
              "      <td>Flood Warning</td>\n",
              "      <td>Updated river flood information for the Cedar ...</td>\n",
              "      <td>PRECAUTIONARY/PREPAREDNESS ACTIONS   If you en...</td>\n",
              "      <td>Immediate</td>\n",
              "      <td>Severe</td>\n",
              "    </tr>\n",
              "    <tr>\n",
              "      <th>286805</th>\n",
              "      <td>5e6ddc64023f1930ef6eb10e</td>\n",
              "      <td>Flood Warning</td>\n",
              "      <td>Tibbee Creek Near Tibbee affecting Clay County...</td>\n",
              "      <td>PRECAUTIONARY/PREPAREDNESS ACTIONS   Do not dr...</td>\n",
              "      <td>Immediate</td>\n",
              "      <td>Severe</td>\n",
              "    </tr>\n",
              "    <tr>\n",
              "      <th>265035</th>\n",
              "      <td>5e6ddba2023f1930ef6bf0a5</td>\n",
              "      <td>Severe Thunderstorm Warning</td>\n",
              "      <td>At 148 PM CDT, a severe thunderstorm was locat...</td>\n",
              "      <td>For your protection move to an interior room o...</td>\n",
              "      <td>Immediate</td>\n",
              "      <td>Severe</td>\n",
              "    </tr>\n",
              "    <tr>\n",
              "      <th>492924</th>\n",
              "      <td>5e6dd601023f1930ef568bbe</td>\n",
              "      <td>Flood Warning</td>\n",
              "      <td>The Flood Warning has been cancelled and is no...</td>\n",
              "      <td>PRECAUTIONARY/PREPAREDNESS ACTIONS   Stay tune...</td>\n",
              "      <td>Past</td>\n",
              "      <td>Minor</td>\n",
              "    </tr>\n",
              "    <tr>\n",
              "      <th>107353</th>\n",
              "      <td>5e7e11d1023f1930efd6d9b6</td>\n",
              "      <td>Coastal Flood Advisory</td>\n",
              "      <td>* WHAT Minor coastal flooding expected.\\n\\n* W...</td>\n",
              "      <td>If travel is required, allow extra time as som...</td>\n",
              "      <td>Expected</td>\n",
              "      <td>Minor</td>\n",
              "    </tr>\n",
              "    <tr>\n",
              "      <th>573982</th>\n",
              "      <td>5e6dd42b023f1930ef4f3325</td>\n",
              "      <td>Severe Thunderstorm Warning</td>\n",
              "      <td>The National Weather Service in Albany has iss...</td>\n",
              "      <td>For your protection move to an interior room o...</td>\n",
              "      <td>Immediate</td>\n",
              "      <td>Severe</td>\n",
              "    </tr>\n",
              "    <tr>\n",
              "      <th>519988</th>\n",
              "      <td>5e6dd52a023f1930ef532c2d</td>\n",
              "      <td>Flood Advisory</td>\n",
              "      <td>The National Weather Service in Albany has iss...</td>\n",
              "      <td>Turn around, don't drown when encountering flo...</td>\n",
              "      <td>Expected</td>\n",
              "      <td>Minor</td>\n",
              "    </tr>\n",
              "    <tr>\n",
              "      <th>632781</th>\n",
              "      <td>5e6dbf6a023f1930eff4b02b</td>\n",
              "      <td>Fire Weather Watch</td>\n",
              "      <td>A significant heat wave is expected to affect ...</td>\n",
              "      <td>A Fire Weather Watch means that there is the p...</td>\n",
              "      <td>Future</td>\n",
              "      <td>Severe</td>\n",
              "    </tr>\n",
              "    <tr>\n",
              "      <th>148922</th>\n",
              "      <td>5e6de016023f1930ef7bfeda</td>\n",
              "      <td>Coastal Flood Advisory</td>\n",
              "      <td>DANGEROUS RIP CURRENTS AND COASTAL FLOODING \\...</td>\n",
              "      <td>Swim near a lifeguard. If caught in a rip curr...</td>\n",
              "      <td>Expected</td>\n",
              "      <td>Minor</td>\n",
              "    </tr>\n",
              "    <tr>\n",
              "      <th>624069</th>\n",
              "      <td>5e6dbf18023f1930eff33e82</td>\n",
              "      <td>Severe Thunderstorm Warning</td>\n",
              "      <td>THE NATIONAL WEATHER SERVICE IN PITTSBURGH HAS...</td>\n",
              "      <td>FOR YOUR PROTECTION MOVE TO AN INTERIOR ROOM O...</td>\n",
              "      <td>Immediate</td>\n",
              "      <td>Severe</td>\n",
              "    </tr>\n",
              "    <tr>\n",
              "      <th>19215</th>\n",
              "      <td>5eb54289283336e2e7f91af9</td>\n",
              "      <td>Severe Thunderstorm Warning</td>\n",
              "      <td>At 708 AM CDT, severe thunderstorms were locat...</td>\n",
              "      <td>For your protection move to an interior room o...</td>\n",
              "      <td>Immediate</td>\n",
              "      <td>Severe</td>\n",
              "    </tr>\n",
              "    <tr>\n",
              "      <th>712035</th>\n",
              "      <td>5e6dd3b2023f1930ef4d5760</td>\n",
              "      <td>Flash Flood Warning</td>\n",
              "      <td>At 818 PM EDT, Doppler radar indicated thunder...</td>\n",
              "      <td>Turn around, don't drown when encountering flo...</td>\n",
              "      <td>Immediate</td>\n",
              "      <td>Severe</td>\n",
              "    </tr>\n",
              "    <tr>\n",
              "      <th>252499</th>\n",
              "      <td>5e6ddc45023f1930ef6e40c6</td>\n",
              "      <td>Flood Warning</td>\n",
              "      <td>Updated flood information for the Cedar River ...</td>\n",
              "      <td>PRECAUTIONARY/PREPAREDNESS ACTIONS   If you en...</td>\n",
              "      <td>Immediate</td>\n",
              "      <td>Severe</td>\n",
              "    </tr>\n",
              "    <tr>\n",
              "      <th>511085</th>\n",
              "      <td>5e6dd66d023f1930ef583234</td>\n",
              "      <td>Flood Warning</td>\n",
              "      <td>Affecting the following counties in Iowa Story...</td>\n",
              "      <td>PRECAUTIONARY/PREPAREDNESS ACTIONS   If you en...</td>\n",
              "      <td>Expected</td>\n",
              "      <td>Severe</td>\n",
              "    </tr>\n",
              "    <tr>\n",
              "      <th>263066</th>\n",
              "      <td>5e6db7d0023f1930efd0dd5e</td>\n",
              "      <td>Flood Warning</td>\n",
              "      <td>Rock River At Rock Rapids\\nRock River At Rock ...</td>\n",
              "      <td>PRECAUTIONARY/PREPAREDNESS ACTIONS   Safety me...</td>\n",
              "      <td>Immediate</td>\n",
              "      <td>Severe</td>\n",
              "    </tr>\n",
              "  </tbody>\n",
              "</table>\n",
              "</div>\n",
              "    <div class=\"colab-df-buttons\">\n",
              "\n",
              "  <div class=\"colab-df-container\">\n",
              "    <button class=\"colab-df-convert\" onclick=\"convertToInteractive('df-392b567f-89e8-4793-b818-60d382dcf0b9')\"\n",
              "            title=\"Convert this dataframe to an interactive table.\"\n",
              "            style=\"display:none;\">\n",
              "\n",
              "  <svg xmlns=\"http://www.w3.org/2000/svg\" height=\"24px\" viewBox=\"0 -960 960 960\">\n",
              "    <path d=\"M120-120v-720h720v720H120Zm60-500h600v-160H180v160Zm220 220h160v-160H400v160Zm0 220h160v-160H400v160ZM180-400h160v-160H180v160Zm440 0h160v-160H620v160ZM180-180h160v-160H180v160Zm440 0h160v-160H620v160Z\"/>\n",
              "  </svg>\n",
              "    </button>\n",
              "\n",
              "  <style>\n",
              "    .colab-df-container {\n",
              "      display:flex;\n",
              "      gap: 12px;\n",
              "    }\n",
              "\n",
              "    .colab-df-convert {\n",
              "      background-color: #E8F0FE;\n",
              "      border: none;\n",
              "      border-radius: 50%;\n",
              "      cursor: pointer;\n",
              "      display: none;\n",
              "      fill: #1967D2;\n",
              "      height: 32px;\n",
              "      padding: 0 0 0 0;\n",
              "      width: 32px;\n",
              "    }\n",
              "\n",
              "    .colab-df-convert:hover {\n",
              "      background-color: #E2EBFA;\n",
              "      box-shadow: 0px 1px 2px rgba(60, 64, 67, 0.3), 0px 1px 3px 1px rgba(60, 64, 67, 0.15);\n",
              "      fill: #174EA6;\n",
              "    }\n",
              "\n",
              "    .colab-df-buttons div {\n",
              "      margin-bottom: 4px;\n",
              "    }\n",
              "\n",
              "    [theme=dark] .colab-df-convert {\n",
              "      background-color: #3B4455;\n",
              "      fill: #D2E3FC;\n",
              "    }\n",
              "\n",
              "    [theme=dark] .colab-df-convert:hover {\n",
              "      background-color: #434B5C;\n",
              "      box-shadow: 0px 1px 3px 1px rgba(0, 0, 0, 0.15);\n",
              "      filter: drop-shadow(0px 1px 2px rgba(0, 0, 0, 0.3));\n",
              "      fill: #FFFFFF;\n",
              "    }\n",
              "  </style>\n",
              "\n",
              "    <script>\n",
              "      const buttonEl =\n",
              "        document.querySelector('#df-392b567f-89e8-4793-b818-60d382dcf0b9 button.colab-df-convert');\n",
              "      buttonEl.style.display =\n",
              "        google.colab.kernel.accessAllowed ? 'block' : 'none';\n",
              "\n",
              "      async function convertToInteractive(key) {\n",
              "        const element = document.querySelector('#df-392b567f-89e8-4793-b818-60d382dcf0b9');\n",
              "        const dataTable =\n",
              "          await google.colab.kernel.invokeFunction('convertToInteractive',\n",
              "                                                    [key], {});\n",
              "        if (!dataTable) return;\n",
              "\n",
              "        const docLinkHtml = 'Like what you see? Visit the ' +\n",
              "          '<a target=\"_blank\" href=https://colab.research.google.com/notebooks/data_table.ipynb>data table notebook</a>'\n",
              "          + ' to learn more about interactive tables.';\n",
              "        element.innerHTML = '';\n",
              "        dataTable['output_type'] = 'display_data';\n",
              "        await google.colab.output.renderOutput(dataTable, element);\n",
              "        const docLink = document.createElement('div');\n",
              "        docLink.innerHTML = docLinkHtml;\n",
              "        element.appendChild(docLink);\n",
              "      }\n",
              "    </script>\n",
              "  </div>\n",
              "\n",
              "\n",
              "<div id=\"df-c4917175-53b9-4a33-a5ac-32f8f9611b6a\">\n",
              "  <button class=\"colab-df-quickchart\" onclick=\"quickchart('df-c4917175-53b9-4a33-a5ac-32f8f9611b6a')\"\n",
              "            title=\"Suggest charts\"\n",
              "            style=\"display:none;\">\n",
              "\n",
              "<svg xmlns=\"http://www.w3.org/2000/svg\" height=\"24px\"viewBox=\"0 0 24 24\"\n",
              "     width=\"24px\">\n",
              "    <g>\n",
              "        <path d=\"M19 3H5c-1.1 0-2 .9-2 2v14c0 1.1.9 2 2 2h14c1.1 0 2-.9 2-2V5c0-1.1-.9-2-2-2zM9 17H7v-7h2v7zm4 0h-2V7h2v10zm4 0h-2v-4h2v4z\"/>\n",
              "    </g>\n",
              "</svg>\n",
              "  </button>\n",
              "\n",
              "<style>\n",
              "  .colab-df-quickchart {\n",
              "      --bg-color: #E8F0FE;\n",
              "      --fill-color: #1967D2;\n",
              "      --hover-bg-color: #E2EBFA;\n",
              "      --hover-fill-color: #174EA6;\n",
              "      --disabled-fill-color: #AAA;\n",
              "      --disabled-bg-color: #DDD;\n",
              "  }\n",
              "\n",
              "  [theme=dark] .colab-df-quickchart {\n",
              "      --bg-color: #3B4455;\n",
              "      --fill-color: #D2E3FC;\n",
              "      --hover-bg-color: #434B5C;\n",
              "      --hover-fill-color: #FFFFFF;\n",
              "      --disabled-bg-color: #3B4455;\n",
              "      --disabled-fill-color: #666;\n",
              "  }\n",
              "\n",
              "  .colab-df-quickchart {\n",
              "    background-color: var(--bg-color);\n",
              "    border: none;\n",
              "    border-radius: 50%;\n",
              "    cursor: pointer;\n",
              "    display: none;\n",
              "    fill: var(--fill-color);\n",
              "    height: 32px;\n",
              "    padding: 0;\n",
              "    width: 32px;\n",
              "  }\n",
              "\n",
              "  .colab-df-quickchart:hover {\n",
              "    background-color: var(--hover-bg-color);\n",
              "    box-shadow: 0 1px 2px rgba(60, 64, 67, 0.3), 0 1px 3px 1px rgba(60, 64, 67, 0.15);\n",
              "    fill: var(--button-hover-fill-color);\n",
              "  }\n",
              "\n",
              "  .colab-df-quickchart-complete:disabled,\n",
              "  .colab-df-quickchart-complete:disabled:hover {\n",
              "    background-color: var(--disabled-bg-color);\n",
              "    fill: var(--disabled-fill-color);\n",
              "    box-shadow: none;\n",
              "  }\n",
              "\n",
              "  .colab-df-spinner {\n",
              "    border: 2px solid var(--fill-color);\n",
              "    border-color: transparent;\n",
              "    border-bottom-color: var(--fill-color);\n",
              "    animation:\n",
              "      spin 1s steps(1) infinite;\n",
              "  }\n",
              "\n",
              "  @keyframes spin {\n",
              "    0% {\n",
              "      border-color: transparent;\n",
              "      border-bottom-color: var(--fill-color);\n",
              "      border-left-color: var(--fill-color);\n",
              "    }\n",
              "    20% {\n",
              "      border-color: transparent;\n",
              "      border-left-color: var(--fill-color);\n",
              "      border-top-color: var(--fill-color);\n",
              "    }\n",
              "    30% {\n",
              "      border-color: transparent;\n",
              "      border-left-color: var(--fill-color);\n",
              "      border-top-color: var(--fill-color);\n",
              "      border-right-color: var(--fill-color);\n",
              "    }\n",
              "    40% {\n",
              "      border-color: transparent;\n",
              "      border-right-color: var(--fill-color);\n",
              "      border-top-color: var(--fill-color);\n",
              "    }\n",
              "    60% {\n",
              "      border-color: transparent;\n",
              "      border-right-color: var(--fill-color);\n",
              "    }\n",
              "    80% {\n",
              "      border-color: transparent;\n",
              "      border-right-color: var(--fill-color);\n",
              "      border-bottom-color: var(--fill-color);\n",
              "    }\n",
              "    90% {\n",
              "      border-color: transparent;\n",
              "      border-bottom-color: var(--fill-color);\n",
              "    }\n",
              "  }\n",
              "</style>\n",
              "\n",
              "  <script>\n",
              "    async function quickchart(key) {\n",
              "      const quickchartButtonEl =\n",
              "        document.querySelector('#' + key + ' button');\n",
              "      quickchartButtonEl.disabled = true;  // To prevent multiple clicks.\n",
              "      quickchartButtonEl.classList.add('colab-df-spinner');\n",
              "      try {\n",
              "        const charts = await google.colab.kernel.invokeFunction(\n",
              "            'suggestCharts', [key], {});\n",
              "      } catch (error) {\n",
              "        console.error('Error during call to suggestCharts:', error);\n",
              "      }\n",
              "      quickchartButtonEl.classList.remove('colab-df-spinner');\n",
              "      quickchartButtonEl.classList.add('colab-df-quickchart-complete');\n",
              "    }\n",
              "    (() => {\n",
              "      let quickchartButtonEl =\n",
              "        document.querySelector('#df-c4917175-53b9-4a33-a5ac-32f8f9611b6a button');\n",
              "      quickchartButtonEl.style.display =\n",
              "        google.colab.kernel.accessAllowed ? 'block' : 'none';\n",
              "    })();\n",
              "  </script>\n",
              "</div>\n",
              "\n",
              "    </div>\n",
              "  </div>\n"
            ],
            "application/vnd.google.colaboratory.intrinsic+json": {
              "type": "dataframe",
              "summary": "{\n  \"name\": \"df_alertas\",\n  \"rows\": 30,\n  \"fields\": [\n    {\n      \"column\": \"id\",\n      \"properties\": {\n        \"dtype\": \"string\",\n        \"num_unique_values\": 30,\n        \"samples\": [\n          \"5e6ddc45023f1930ef6e40c6\",\n          \"5e6ddadc023f1930ef691009\",\n          \"5e6de016023f1930ef7bfeda\"\n        ],\n        \"semantic_type\": \"\",\n        \"description\": \"\"\n      }\n    },\n    {\n      \"column\": \"event\",\n      \"properties\": {\n        \"dtype\": \"category\",\n        \"num_unique_values\": 12,\n        \"samples\": [\n          \"Flood Advisory\",\n          \"Coastal Flood Advisory\",\n          \"Winter Weather Advisory\"\n        ],\n        \"semantic_type\": \"\",\n        \"description\": \"\"\n      }\n    },\n    {\n      \"column\": \"description\",\n      \"properties\": {\n        \"dtype\": \"string\",\n        \"num_unique_values\": 30,\n        \"samples\": [\n          \"Updated flood information for the Cedar River and Iowa River.\\n\\nRiver forecasts include past precipitation and forecast rainfall for\\nthe next 24 hours.\\nThe Flood Warning continues for\\nThe Iowa River at Oakville.\\n* Until further notice.\\n* At 7:00 PM Wednesday the stage was 14.3 feet and steady.\\n* Flood stage is 11.0 feet.\\n* Minor flooding is occurring and is forecast to continue.\\n* Forecast: Fall to 14.0 feet Friday, then continue falling.\\n* Impact: At 12.0 feet, flooding of agricultural land is ongoing.\\nSeveral county roads are under water and closed.\\n\",\n          \"Updated river flood information for the Cedar and Iowa Rivers.\\n\\nRiver forecasts include past precipitation and forecast rainfall\\nfor the next 48 hours.\\nThe Flood Warning continues for\\nThe Iowa River at Oakville.\\n* Until further notice.\\n* At  4:00 PM Thursday the stage was 15.7 feet and steady.\\n* Flood stage is 11.0 feet.\\n* Moderate flooding is occurring and is forecast to continue.\\n* Forecast, Near crest now, then begin falling Friday afternoon.\\n* Impact, At  15.0 feet, Moderate Flood Stage. Water affects the\\nsouth approach to the Iowa Highway 99 bridge near Oakville.\\n\",\n          \" DANGEROUS RIP CURRENTS AND COASTAL FLOODING \\n\\n.The combination of expected swell periods and swell heights will\\ncontribute to a high risk for dangerous rip currents through\\nearly Sunday morning along Gulf-facing beaches of the Middle Texas\\nCoast. Higher than normal astronomical tides will result in\\ncoastal flooding today along Middle Texas Coast, including along\\nthe adjacent bays and intracoastal waterways, around the times of\\nhigh tide. Tide levels are expected to exceed 2 to 3 feet Mean\\nSea Level, or at least 1 foot of inundation, near the times of\\nhigh tide. Water is expected to reach well into the dunes and\\nbeach access roads.\\n\\n* COASTAL FLOODING Minor coastal flooding during time of high\\ntide.\\n\\n* TIMING Dangerous Rip Currents from Saturday morning through\\nSunday morning. Coastal flooding during times of high tide. The\\nnext high tide at Port O'Connor will occur at 444 AM Sunday.\\n\\n* IMPACTS Rip Currents can sweep away even the best swimmers\\naway from shore into deeper water. These rip currents can\\nbecome life-threatening to anyone entering the surf. Poor\\ndriving conditions are expected as water reaches the dunes.\\nSome beach access roads may become impassable.\"\n        ],\n        \"semantic_type\": \"\",\n        \"description\": \"\"\n      }\n    },\n    {\n      \"column\": \"instruction\",\n      \"properties\": {\n        \"dtype\": \"string\",\n        \"num_unique_values\": 27,\n        \"samples\": [\n          \"A High Wind Warning means a hazardous high wind event is expected or occurring. Sustained wind speeds of at least 40 mph or gusts of 58 mph or more can lead to property damage.  \",\n          \"YOU SHOULD MONITOR LATER FORECASTS AND BE PREPARED TO TAKE ACTION SHOULD FLASH FLOOD WARNINGS BE ISSUED.    * PREPARE PLAN AND STAY INFORMED.    VISIT HTTP://GO.USA.GOV/RR8  A FLASH FLOOD WATCH MEANS THAT CONDITIONS MAY DEVELOP THAT LEAD TO FLASH FLOODING. FLASH FLOODING IS A VERY DANGEROUS SITUATION.  \",\n          \"If you encounter a flooded roadway, turn around and find an alternate route. Turn around, don't drown.\"\n        ],\n        \"semantic_type\": \"\",\n        \"description\": \"\"\n      }\n    },\n    {\n      \"column\": \"urgency\",\n      \"properties\": {\n        \"dtype\": \"category\",\n        \"num_unique_values\": 4,\n        \"samples\": [\n          \"Past\",\n          \"Future\",\n          \"Expected\"\n        ],\n        \"semantic_type\": \"\",\n        \"description\": \"\"\n      }\n    },\n    {\n      \"column\": \"severity\",\n      \"properties\": {\n        \"dtype\": \"category\",\n        \"num_unique_values\": 3,\n        \"samples\": [\n          \"Moderate\",\n          \"Minor\",\n          \"Severe\"\n        ],\n        \"semantic_type\": \"\",\n        \"description\": \"\"\n      }\n    }\n  ]\n}"
            }
          },
          "metadata": {},
          "execution_count": 74
        }
      ]
    },
    {
      "cell_type": "markdown",
      "source": [
        "Formateamos la columna Instruction a Minúsculas."
      ],
      "metadata": {
        "id": "-4kK4jgSSJKk"
      }
    },
    {
      "cell_type": "code",
      "source": [
        "df_alertas['instruction'] = df_alertas['instruction'].str.lower()"
      ],
      "metadata": {
        "id": "ezR7n_KfySqg"
      },
      "execution_count": 75,
      "outputs": []
    },
    {
      "cell_type": "markdown",
      "source": [
        "Eliminamos puntos, comas, comillas, etc. Importamos módulo para trabajar con expresiones regulares y eliminamos puntuación usando expresiones regulares"
      ],
      "metadata": {
        "id": "ECBOWHPI_CLu"
      }
    },
    {
      "cell_type": "code",
      "source": [
        "import re\n",
        "\n",
        "df_alertas['instruction'] = df_alertas['instruction'].str.replace(r'[^\\w\\s]', '', regex=True)"
      ],
      "metadata": {
        "id": "rhIESzhm-mfD"
      },
      "execution_count": 76,
      "outputs": []
    },
    {
      "cell_type": "markdown",
      "source": [
        "Pasando numeros a letras. Usamos la libreria num2words"
      ],
      "metadata": {
        "id": "CK7KzPLz_nwh"
      }
    },
    {
      "cell_type": "code",
      "source": [
        "!pip install num2words"
      ],
      "metadata": {
        "id": "KrLCs5HZ_F-3",
        "outputId": "f99d262c-1b13-434d-fc3b-9a40387b700f",
        "colab": {
          "base_uri": "https://localhost:8080/"
        }
      },
      "execution_count": 77,
      "outputs": [
        {
          "output_type": "stream",
          "name": "stdout",
          "text": [
            "Requirement already satisfied: num2words in /usr/local/lib/python3.10/dist-packages (0.5.13)\n",
            "Requirement already satisfied: docopt>=0.6.2 in /usr/local/lib/python3.10/dist-packages (from num2words) (0.6.2)\n"
          ]
        }
      ]
    },
    {
      "cell_type": "code",
      "source": [
        "from num2words import num2words\n",
        "\n",
        "# Función para extraer números de una cadena de texto y convertirlos en palabras\n",
        "def convert_numbers_to_words(text):\n",
        "    numbers = re.findall(r'\\d+', text) #Busca numeros\n",
        "    for number in numbers:\n",
        "        text = text.replace(number, num2words(int(number)))\n",
        "    return text\n",
        "\n",
        "df_alertas['instruction'] = df_alertas['instruction'].apply(convert_numbers_to_words)"
      ],
      "metadata": {
        "id": "a8ftK2P8_acF"
      },
      "execution_count": 78,
      "outputs": []
    },
    {
      "cell_type": "code",
      "source": [
        "df_alertas.sample(30)"
      ],
      "metadata": {
        "id": "ECFu9Oh-__RK",
        "outputId": "da417ffd-a1ba-4746-f328-70003d0221a4",
        "colab": {
          "base_uri": "https://localhost:8080/",
          "height": 1000
        }
      },
      "execution_count": 79,
      "outputs": [
        {
          "output_type": "execute_result",
          "data": {
            "text/plain": [
              "                              id                        event  \\\n",
              "243306  5e6ddbf7023f1930ef6d28bc                Flood Warning   \n",
              "12236   5ec40202283336e2e7e09179                Flood Warning   \n",
              "250410  5e6db764023f1930efcec695    Special Weather Statement   \n",
              "324843  5e6ddaa7023f1930ef6842d8         Winter Storm Warning   \n",
              "558481  5e6dbe1b023f1930efeea436            Flash Flood Watch   \n",
              "741221  5e6dc100023f1930effbcce8      Winter Weather Advisory   \n",
              "148192  5e6de025023f1930ef7c36a9                Flood Warning   \n",
              "573835  5e6dd4b1023f1930ef51538f          Flash Flood Warning   \n",
              "425891  5e6dbba5023f1930efe2e8e3  Severe Thunderstorm Warning   \n",
              "9117    5ec7a003283336e2e779d7d0           Dense Fog Advisory   \n",
              "181271  5e6dde31023f1930ef753014                Heat Advisory   \n",
              "96284   5e6db20b023f1930efb34cfb            High Wind Warning   \n",
              "185328  5e6dded3023f1930ef77679c            Flash Flood Watch   \n",
              "628236  5e6dbf65023f1930eff49992                Flood Warning   \n",
              "150060  5e6db32a023f1930efb91f41                Storm Warning   \n",
              "480595  5e6dbd00023f1930efe97dfa      Winter Weather Advisory   \n",
              "289436  5e6db883023f1930efd42a53            Flash Flood Watch   \n",
              "209848  5e6dde4a023f1930ef758b7e    Special Weather Statement   \n",
              "325721  5e6dd9e4023f1930ef655e90                Flood Warning   \n",
              "123029  5e6db2c3023f1930efb708f9      Winter Weather Advisory   \n",
              "144347  5e6ddf33023f1930ef78d3f0                 Freeze Watch   \n",
              "159976  5e6ddee0023f1930ef779411  Severe Thunderstorm Warning   \n",
              "631701  5e6dbf6a023f1930eff4adfc              Flood Statement   \n",
              "152769  5e6ddfd0023f1930ef7b0124          Coastal Flood Watch   \n",
              "55727   5e7eae50023f1930ef0a4b73  Severe Thunderstorm Warning   \n",
              "603494  5e6dd47e023f1930ef507cf8    Special Weather Statement   \n",
              "621914  5e6dd4b7023f1930ef5168cc               Flood Advisory   \n",
              "30127   5e6daff3023f1930efa948cc           Fire Weather Watch   \n",
              "566062  5e6dd51f023f1930ef530243              Flood Statement   \n",
              "284698  5e6ddc68023f1930ef6ebd82                Flood Warning   \n",
              "\n",
              "                                              description  \\\n",
              "243306  The National Weather Service in Wilmington has...   \n",
              "12236    The flood warning continues for the following...   \n",
              "250410   Boaters on Lake Strom Thurmond Should Seek Sa...   \n",
              "324843  A strong spring storm will continue to impact ...   \n",
              "558481  THE FLASH FLOOD WATCH CONTINUES FOR\\n\\n* PORTI...   \n",
              "741221  The heaviest snow today will occur over far so...   \n",
              "148192   The flood warning continues for the following...   \n",
              "573835  At 331 PM PDT, Doppler radar indicated thunder...   \n",
              "425891  At 122 PM CST, a severe thunderstorm was locat...   \n",
              "9117    * WHAT Visibility one quarter mile or less in ...   \n",
              "181271  The National Weather Service in Little Rock ha...   \n",
              "96284   * WHAT Northeast Taku winds 25 to 40 mph with ...   \n",
              "185328  The National Weather Service in Omaha/Valley h...   \n",
              "628236  Affecting the following counties in Iowa Polk ...   \n",
              "150060  * WINDS AND SEAS West winds 30 to 35 kt with g...   \n",
              "480595  A WINTER WEATHER ADVISORY REMAINS IN EFFECT UN...   \n",
              "289436  The Flash Flood Watch continues for\\n\\n* Porti...   \n",
              "209848  At 221 PM EDT, Doppler radar was tracking a st...   \n",
              "325721  Elk Creek near Drain affecting Douglas County ...   \n",
              "123029  * WHAT Freezing rain expected. Total ice accum...   \n",
              "144347  The Freeze Watch has been replaced. Please see...   \n",
              "159976  At 1031 PM MDT, a severe thunderstorm was loca...   \n",
              "631701   The flood warning has been extended for the f...   \n",
              "152769  * LOCATIONS Shoreline in Calvert County.\\n\\n* ...   \n",
              "55727   At 1251 PM EDT, severe thunderstorms were loca...   \n",
              "603494  AT 635 PM CDT DOPPLER RADAR WAS TRACKING A LIN...   \n",
              "621914  The National Weather Service in Tucson has iss...   \n",
              "30127   The Fire Weather Watch has been replaced. Plea...   \n",
              "566062   From the National Weather Service in Little R...   \n",
              "284698  Tombigbee River Near Coffeeville Dam affecting...   \n",
              "\n",
              "                                              instruction    urgency  severity  \n",
              "243306  turn around dont drown when encountering flood...   Expected    Severe  \n",
              "12236   safety message   never drive cars trucks or sp...  Immediate    Severe  \n",
              "250410  boaters on lake strom thurmond should move to ...   Expected  Moderate  \n",
              "324843  a winter storm warning for snow means severe w...   Expected    Severe  \n",
              "558481  a flash flood watch means that conditions may ...     Future    Severe  \n",
              "741221  a winter weather advisory means that periods o...   Expected  Moderate  \n",
              "148192  rainfall heavier than forecast could cause riv...  Immediate    Severe  \n",
              "573835  turn around dont drown when encountering flood...  Immediate    Severe  \n",
              "425891  a tornado watch remains in effect until seven ...  Immediate    Severe  \n",
              "9117    if driving slow down use your low beam headlig...   Expected  Moderate  \n",
              "181271  if you must be outdoors the occupational safet...   Expected  Moderate  \n",
              "96284   people should avoid being outside in forested ...   Expected    Severe  \n",
              "185328  a flash flood watch means that conditions may ...     Future    Severe  \n",
              "628236  precautionarypreparedness actions   if you enc...  Immediate    Severe  \n",
              "150060  a storm warning means winds of forty-eight to ...  Immediate    Severe  \n",
              "480595  a winter weather advisory means that periods o...   Expected  Moderate  \n",
              "289436  a flash flood watch means that conditions may ...     Future    Severe  \n",
              "209848  frequent cloud to ground lightning is occurrin...   Expected  Moderate  \n",
              "325721  precautionarypreparedness actions   do not dri...  Immediate    Severe  \n",
              "123029  slow down and use caution while traveling  add...   Expected  Moderate  \n",
              "144347  take steps now to protect tender plants from t...       Past    Severe  \n",
              "159976  prepare immediately for large hail and deadly ...  Immediate    Severe  \n",
              "631701   all times are in eastern time this statement ...  Immediate    Severe  \n",
              "152769  a coastal flood advisory indicates that onshor...     Future  Moderate  \n",
              "55727   for your protection move to an interior room o...  Immediate    Severe  \n",
              "603494  these storms may intensify so be certain to mo...   Expected  Moderate  \n",
              "621914  be especially cautious at night when it is har...   Expected     Minor  \n",
              "30127   a red flag warning means that critical fire we...       Past    Severe  \n",
              "566062  safety message remember to turn around dont dr...  Immediate    Severe  \n",
              "284698  precautionarypreparedness actions   safety mes...  Immediate    Severe  "
            ],
            "text/html": [
              "\n",
              "  <div id=\"df-495f76ae-b5ae-4f25-83b5-2df0985fd096\" class=\"colab-df-container\">\n",
              "    <div>\n",
              "<style scoped>\n",
              "    .dataframe tbody tr th:only-of-type {\n",
              "        vertical-align: middle;\n",
              "    }\n",
              "\n",
              "    .dataframe tbody tr th {\n",
              "        vertical-align: top;\n",
              "    }\n",
              "\n",
              "    .dataframe thead th {\n",
              "        text-align: right;\n",
              "    }\n",
              "</style>\n",
              "<table border=\"1\" class=\"dataframe\">\n",
              "  <thead>\n",
              "    <tr style=\"text-align: right;\">\n",
              "      <th></th>\n",
              "      <th>id</th>\n",
              "      <th>event</th>\n",
              "      <th>description</th>\n",
              "      <th>instruction</th>\n",
              "      <th>urgency</th>\n",
              "      <th>severity</th>\n",
              "    </tr>\n",
              "  </thead>\n",
              "  <tbody>\n",
              "    <tr>\n",
              "      <th>243306</th>\n",
              "      <td>5e6ddbf7023f1930ef6d28bc</td>\n",
              "      <td>Flood Warning</td>\n",
              "      <td>The National Weather Service in Wilmington has...</td>\n",
              "      <td>turn around dont drown when encountering flood...</td>\n",
              "      <td>Expected</td>\n",
              "      <td>Severe</td>\n",
              "    </tr>\n",
              "    <tr>\n",
              "      <th>12236</th>\n",
              "      <td>5ec40202283336e2e7e09179</td>\n",
              "      <td>Flood Warning</td>\n",
              "      <td>The flood warning continues for the following...</td>\n",
              "      <td>safety message   never drive cars trucks or sp...</td>\n",
              "      <td>Immediate</td>\n",
              "      <td>Severe</td>\n",
              "    </tr>\n",
              "    <tr>\n",
              "      <th>250410</th>\n",
              "      <td>5e6db764023f1930efcec695</td>\n",
              "      <td>Special Weather Statement</td>\n",
              "      <td>Boaters on Lake Strom Thurmond Should Seek Sa...</td>\n",
              "      <td>boaters on lake strom thurmond should move to ...</td>\n",
              "      <td>Expected</td>\n",
              "      <td>Moderate</td>\n",
              "    </tr>\n",
              "    <tr>\n",
              "      <th>324843</th>\n",
              "      <td>5e6ddaa7023f1930ef6842d8</td>\n",
              "      <td>Winter Storm Warning</td>\n",
              "      <td>A strong spring storm will continue to impact ...</td>\n",
              "      <td>a winter storm warning for snow means severe w...</td>\n",
              "      <td>Expected</td>\n",
              "      <td>Severe</td>\n",
              "    </tr>\n",
              "    <tr>\n",
              "      <th>558481</th>\n",
              "      <td>5e6dbe1b023f1930efeea436</td>\n",
              "      <td>Flash Flood Watch</td>\n",
              "      <td>THE FLASH FLOOD WATCH CONTINUES FOR\\n\\n* PORTI...</td>\n",
              "      <td>a flash flood watch means that conditions may ...</td>\n",
              "      <td>Future</td>\n",
              "      <td>Severe</td>\n",
              "    </tr>\n",
              "    <tr>\n",
              "      <th>741221</th>\n",
              "      <td>5e6dc100023f1930effbcce8</td>\n",
              "      <td>Winter Weather Advisory</td>\n",
              "      <td>The heaviest snow today will occur over far so...</td>\n",
              "      <td>a winter weather advisory means that periods o...</td>\n",
              "      <td>Expected</td>\n",
              "      <td>Moderate</td>\n",
              "    </tr>\n",
              "    <tr>\n",
              "      <th>148192</th>\n",
              "      <td>5e6de025023f1930ef7c36a9</td>\n",
              "      <td>Flood Warning</td>\n",
              "      <td>The flood warning continues for the following...</td>\n",
              "      <td>rainfall heavier than forecast could cause riv...</td>\n",
              "      <td>Immediate</td>\n",
              "      <td>Severe</td>\n",
              "    </tr>\n",
              "    <tr>\n",
              "      <th>573835</th>\n",
              "      <td>5e6dd4b1023f1930ef51538f</td>\n",
              "      <td>Flash Flood Warning</td>\n",
              "      <td>At 331 PM PDT, Doppler radar indicated thunder...</td>\n",
              "      <td>turn around dont drown when encountering flood...</td>\n",
              "      <td>Immediate</td>\n",
              "      <td>Severe</td>\n",
              "    </tr>\n",
              "    <tr>\n",
              "      <th>425891</th>\n",
              "      <td>5e6dbba5023f1930efe2e8e3</td>\n",
              "      <td>Severe Thunderstorm Warning</td>\n",
              "      <td>At 122 PM CST, a severe thunderstorm was locat...</td>\n",
              "      <td>a tornado watch remains in effect until seven ...</td>\n",
              "      <td>Immediate</td>\n",
              "      <td>Severe</td>\n",
              "    </tr>\n",
              "    <tr>\n",
              "      <th>9117</th>\n",
              "      <td>5ec7a003283336e2e779d7d0</td>\n",
              "      <td>Dense Fog Advisory</td>\n",
              "      <td>* WHAT Visibility one quarter mile or less in ...</td>\n",
              "      <td>if driving slow down use your low beam headlig...</td>\n",
              "      <td>Expected</td>\n",
              "      <td>Moderate</td>\n",
              "    </tr>\n",
              "    <tr>\n",
              "      <th>181271</th>\n",
              "      <td>5e6dde31023f1930ef753014</td>\n",
              "      <td>Heat Advisory</td>\n",
              "      <td>The National Weather Service in Little Rock ha...</td>\n",
              "      <td>if you must be outdoors the occupational safet...</td>\n",
              "      <td>Expected</td>\n",
              "      <td>Moderate</td>\n",
              "    </tr>\n",
              "    <tr>\n",
              "      <th>96284</th>\n",
              "      <td>5e6db20b023f1930efb34cfb</td>\n",
              "      <td>High Wind Warning</td>\n",
              "      <td>* WHAT Northeast Taku winds 25 to 40 mph with ...</td>\n",
              "      <td>people should avoid being outside in forested ...</td>\n",
              "      <td>Expected</td>\n",
              "      <td>Severe</td>\n",
              "    </tr>\n",
              "    <tr>\n",
              "      <th>185328</th>\n",
              "      <td>5e6dded3023f1930ef77679c</td>\n",
              "      <td>Flash Flood Watch</td>\n",
              "      <td>The National Weather Service in Omaha/Valley h...</td>\n",
              "      <td>a flash flood watch means that conditions may ...</td>\n",
              "      <td>Future</td>\n",
              "      <td>Severe</td>\n",
              "    </tr>\n",
              "    <tr>\n",
              "      <th>628236</th>\n",
              "      <td>5e6dbf65023f1930eff49992</td>\n",
              "      <td>Flood Warning</td>\n",
              "      <td>Affecting the following counties in Iowa Polk ...</td>\n",
              "      <td>precautionarypreparedness actions   if you enc...</td>\n",
              "      <td>Immediate</td>\n",
              "      <td>Severe</td>\n",
              "    </tr>\n",
              "    <tr>\n",
              "      <th>150060</th>\n",
              "      <td>5e6db32a023f1930efb91f41</td>\n",
              "      <td>Storm Warning</td>\n",
              "      <td>* WINDS AND SEAS West winds 30 to 35 kt with g...</td>\n",
              "      <td>a storm warning means winds of forty-eight to ...</td>\n",
              "      <td>Immediate</td>\n",
              "      <td>Severe</td>\n",
              "    </tr>\n",
              "    <tr>\n",
              "      <th>480595</th>\n",
              "      <td>5e6dbd00023f1930efe97dfa</td>\n",
              "      <td>Winter Weather Advisory</td>\n",
              "      <td>A WINTER WEATHER ADVISORY REMAINS IN EFFECT UN...</td>\n",
              "      <td>a winter weather advisory means that periods o...</td>\n",
              "      <td>Expected</td>\n",
              "      <td>Moderate</td>\n",
              "    </tr>\n",
              "    <tr>\n",
              "      <th>289436</th>\n",
              "      <td>5e6db883023f1930efd42a53</td>\n",
              "      <td>Flash Flood Watch</td>\n",
              "      <td>The Flash Flood Watch continues for\\n\\n* Porti...</td>\n",
              "      <td>a flash flood watch means that conditions may ...</td>\n",
              "      <td>Future</td>\n",
              "      <td>Severe</td>\n",
              "    </tr>\n",
              "    <tr>\n",
              "      <th>209848</th>\n",
              "      <td>5e6dde4a023f1930ef758b7e</td>\n",
              "      <td>Special Weather Statement</td>\n",
              "      <td>At 221 PM EDT, Doppler radar was tracking a st...</td>\n",
              "      <td>frequent cloud to ground lightning is occurrin...</td>\n",
              "      <td>Expected</td>\n",
              "      <td>Moderate</td>\n",
              "    </tr>\n",
              "    <tr>\n",
              "      <th>325721</th>\n",
              "      <td>5e6dd9e4023f1930ef655e90</td>\n",
              "      <td>Flood Warning</td>\n",
              "      <td>Elk Creek near Drain affecting Douglas County ...</td>\n",
              "      <td>precautionarypreparedness actions   do not dri...</td>\n",
              "      <td>Immediate</td>\n",
              "      <td>Severe</td>\n",
              "    </tr>\n",
              "    <tr>\n",
              "      <th>123029</th>\n",
              "      <td>5e6db2c3023f1930efb708f9</td>\n",
              "      <td>Winter Weather Advisory</td>\n",
              "      <td>* WHAT Freezing rain expected. Total ice accum...</td>\n",
              "      <td>slow down and use caution while traveling  add...</td>\n",
              "      <td>Expected</td>\n",
              "      <td>Moderate</td>\n",
              "    </tr>\n",
              "    <tr>\n",
              "      <th>144347</th>\n",
              "      <td>5e6ddf33023f1930ef78d3f0</td>\n",
              "      <td>Freeze Watch</td>\n",
              "      <td>The Freeze Watch has been replaced. Please see...</td>\n",
              "      <td>take steps now to protect tender plants from t...</td>\n",
              "      <td>Past</td>\n",
              "      <td>Severe</td>\n",
              "    </tr>\n",
              "    <tr>\n",
              "      <th>159976</th>\n",
              "      <td>5e6ddee0023f1930ef779411</td>\n",
              "      <td>Severe Thunderstorm Warning</td>\n",
              "      <td>At 1031 PM MDT, a severe thunderstorm was loca...</td>\n",
              "      <td>prepare immediately for large hail and deadly ...</td>\n",
              "      <td>Immediate</td>\n",
              "      <td>Severe</td>\n",
              "    </tr>\n",
              "    <tr>\n",
              "      <th>631701</th>\n",
              "      <td>5e6dbf6a023f1930eff4adfc</td>\n",
              "      <td>Flood Statement</td>\n",
              "      <td>The flood warning has been extended for the f...</td>\n",
              "      <td>all times are in eastern time this statement ...</td>\n",
              "      <td>Immediate</td>\n",
              "      <td>Severe</td>\n",
              "    </tr>\n",
              "    <tr>\n",
              "      <th>152769</th>\n",
              "      <td>5e6ddfd0023f1930ef7b0124</td>\n",
              "      <td>Coastal Flood Watch</td>\n",
              "      <td>* LOCATIONS Shoreline in Calvert County.\\n\\n* ...</td>\n",
              "      <td>a coastal flood advisory indicates that onshor...</td>\n",
              "      <td>Future</td>\n",
              "      <td>Moderate</td>\n",
              "    </tr>\n",
              "    <tr>\n",
              "      <th>55727</th>\n",
              "      <td>5e7eae50023f1930ef0a4b73</td>\n",
              "      <td>Severe Thunderstorm Warning</td>\n",
              "      <td>At 1251 PM EDT, severe thunderstorms were loca...</td>\n",
              "      <td>for your protection move to an interior room o...</td>\n",
              "      <td>Immediate</td>\n",
              "      <td>Severe</td>\n",
              "    </tr>\n",
              "    <tr>\n",
              "      <th>603494</th>\n",
              "      <td>5e6dd47e023f1930ef507cf8</td>\n",
              "      <td>Special Weather Statement</td>\n",
              "      <td>AT 635 PM CDT DOPPLER RADAR WAS TRACKING A LIN...</td>\n",
              "      <td>these storms may intensify so be certain to mo...</td>\n",
              "      <td>Expected</td>\n",
              "      <td>Moderate</td>\n",
              "    </tr>\n",
              "    <tr>\n",
              "      <th>621914</th>\n",
              "      <td>5e6dd4b7023f1930ef5168cc</td>\n",
              "      <td>Flood Advisory</td>\n",
              "      <td>The National Weather Service in Tucson has iss...</td>\n",
              "      <td>be especially cautious at night when it is har...</td>\n",
              "      <td>Expected</td>\n",
              "      <td>Minor</td>\n",
              "    </tr>\n",
              "    <tr>\n",
              "      <th>30127</th>\n",
              "      <td>5e6daff3023f1930efa948cc</td>\n",
              "      <td>Fire Weather Watch</td>\n",
              "      <td>The Fire Weather Watch has been replaced. Plea...</td>\n",
              "      <td>a red flag warning means that critical fire we...</td>\n",
              "      <td>Past</td>\n",
              "      <td>Severe</td>\n",
              "    </tr>\n",
              "    <tr>\n",
              "      <th>566062</th>\n",
              "      <td>5e6dd51f023f1930ef530243</td>\n",
              "      <td>Flood Statement</td>\n",
              "      <td>From the National Weather Service in Little R...</td>\n",
              "      <td>safety message remember to turn around dont dr...</td>\n",
              "      <td>Immediate</td>\n",
              "      <td>Severe</td>\n",
              "    </tr>\n",
              "    <tr>\n",
              "      <th>284698</th>\n",
              "      <td>5e6ddc68023f1930ef6ebd82</td>\n",
              "      <td>Flood Warning</td>\n",
              "      <td>Tombigbee River Near Coffeeville Dam affecting...</td>\n",
              "      <td>precautionarypreparedness actions   safety mes...</td>\n",
              "      <td>Immediate</td>\n",
              "      <td>Severe</td>\n",
              "    </tr>\n",
              "  </tbody>\n",
              "</table>\n",
              "</div>\n",
              "    <div class=\"colab-df-buttons\">\n",
              "\n",
              "  <div class=\"colab-df-container\">\n",
              "    <button class=\"colab-df-convert\" onclick=\"convertToInteractive('df-495f76ae-b5ae-4f25-83b5-2df0985fd096')\"\n",
              "            title=\"Convert this dataframe to an interactive table.\"\n",
              "            style=\"display:none;\">\n",
              "\n",
              "  <svg xmlns=\"http://www.w3.org/2000/svg\" height=\"24px\" viewBox=\"0 -960 960 960\">\n",
              "    <path d=\"M120-120v-720h720v720H120Zm60-500h600v-160H180v160Zm220 220h160v-160H400v160Zm0 220h160v-160H400v160ZM180-400h160v-160H180v160Zm440 0h160v-160H620v160ZM180-180h160v-160H180v160Zm440 0h160v-160H620v160Z\"/>\n",
              "  </svg>\n",
              "    </button>\n",
              "\n",
              "  <style>\n",
              "    .colab-df-container {\n",
              "      display:flex;\n",
              "      gap: 12px;\n",
              "    }\n",
              "\n",
              "    .colab-df-convert {\n",
              "      background-color: #E8F0FE;\n",
              "      border: none;\n",
              "      border-radius: 50%;\n",
              "      cursor: pointer;\n",
              "      display: none;\n",
              "      fill: #1967D2;\n",
              "      height: 32px;\n",
              "      padding: 0 0 0 0;\n",
              "      width: 32px;\n",
              "    }\n",
              "\n",
              "    .colab-df-convert:hover {\n",
              "      background-color: #E2EBFA;\n",
              "      box-shadow: 0px 1px 2px rgba(60, 64, 67, 0.3), 0px 1px 3px 1px rgba(60, 64, 67, 0.15);\n",
              "      fill: #174EA6;\n",
              "    }\n",
              "\n",
              "    .colab-df-buttons div {\n",
              "      margin-bottom: 4px;\n",
              "    }\n",
              "\n",
              "    [theme=dark] .colab-df-convert {\n",
              "      background-color: #3B4455;\n",
              "      fill: #D2E3FC;\n",
              "    }\n",
              "\n",
              "    [theme=dark] .colab-df-convert:hover {\n",
              "      background-color: #434B5C;\n",
              "      box-shadow: 0px 1px 3px 1px rgba(0, 0, 0, 0.15);\n",
              "      filter: drop-shadow(0px 1px 2px rgba(0, 0, 0, 0.3));\n",
              "      fill: #FFFFFF;\n",
              "    }\n",
              "  </style>\n",
              "\n",
              "    <script>\n",
              "      const buttonEl =\n",
              "        document.querySelector('#df-495f76ae-b5ae-4f25-83b5-2df0985fd096 button.colab-df-convert');\n",
              "      buttonEl.style.display =\n",
              "        google.colab.kernel.accessAllowed ? 'block' : 'none';\n",
              "\n",
              "      async function convertToInteractive(key) {\n",
              "        const element = document.querySelector('#df-495f76ae-b5ae-4f25-83b5-2df0985fd096');\n",
              "        const dataTable =\n",
              "          await google.colab.kernel.invokeFunction('convertToInteractive',\n",
              "                                                    [key], {});\n",
              "        if (!dataTable) return;\n",
              "\n",
              "        const docLinkHtml = 'Like what you see? Visit the ' +\n",
              "          '<a target=\"_blank\" href=https://colab.research.google.com/notebooks/data_table.ipynb>data table notebook</a>'\n",
              "          + ' to learn more about interactive tables.';\n",
              "        element.innerHTML = '';\n",
              "        dataTable['output_type'] = 'display_data';\n",
              "        await google.colab.output.renderOutput(dataTable, element);\n",
              "        const docLink = document.createElement('div');\n",
              "        docLink.innerHTML = docLinkHtml;\n",
              "        element.appendChild(docLink);\n",
              "      }\n",
              "    </script>\n",
              "  </div>\n",
              "\n",
              "\n",
              "<div id=\"df-b633acd4-977e-4be5-9f4b-a45b79c27eff\">\n",
              "  <button class=\"colab-df-quickchart\" onclick=\"quickchart('df-b633acd4-977e-4be5-9f4b-a45b79c27eff')\"\n",
              "            title=\"Suggest charts\"\n",
              "            style=\"display:none;\">\n",
              "\n",
              "<svg xmlns=\"http://www.w3.org/2000/svg\" height=\"24px\"viewBox=\"0 0 24 24\"\n",
              "     width=\"24px\">\n",
              "    <g>\n",
              "        <path d=\"M19 3H5c-1.1 0-2 .9-2 2v14c0 1.1.9 2 2 2h14c1.1 0 2-.9 2-2V5c0-1.1-.9-2-2-2zM9 17H7v-7h2v7zm4 0h-2V7h2v10zm4 0h-2v-4h2v4z\"/>\n",
              "    </g>\n",
              "</svg>\n",
              "  </button>\n",
              "\n",
              "<style>\n",
              "  .colab-df-quickchart {\n",
              "      --bg-color: #E8F0FE;\n",
              "      --fill-color: #1967D2;\n",
              "      --hover-bg-color: #E2EBFA;\n",
              "      --hover-fill-color: #174EA6;\n",
              "      --disabled-fill-color: #AAA;\n",
              "      --disabled-bg-color: #DDD;\n",
              "  }\n",
              "\n",
              "  [theme=dark] .colab-df-quickchart {\n",
              "      --bg-color: #3B4455;\n",
              "      --fill-color: #D2E3FC;\n",
              "      --hover-bg-color: #434B5C;\n",
              "      --hover-fill-color: #FFFFFF;\n",
              "      --disabled-bg-color: #3B4455;\n",
              "      --disabled-fill-color: #666;\n",
              "  }\n",
              "\n",
              "  .colab-df-quickchart {\n",
              "    background-color: var(--bg-color);\n",
              "    border: none;\n",
              "    border-radius: 50%;\n",
              "    cursor: pointer;\n",
              "    display: none;\n",
              "    fill: var(--fill-color);\n",
              "    height: 32px;\n",
              "    padding: 0;\n",
              "    width: 32px;\n",
              "  }\n",
              "\n",
              "  .colab-df-quickchart:hover {\n",
              "    background-color: var(--hover-bg-color);\n",
              "    box-shadow: 0 1px 2px rgba(60, 64, 67, 0.3), 0 1px 3px 1px rgba(60, 64, 67, 0.15);\n",
              "    fill: var(--button-hover-fill-color);\n",
              "  }\n",
              "\n",
              "  .colab-df-quickchart-complete:disabled,\n",
              "  .colab-df-quickchart-complete:disabled:hover {\n",
              "    background-color: var(--disabled-bg-color);\n",
              "    fill: var(--disabled-fill-color);\n",
              "    box-shadow: none;\n",
              "  }\n",
              "\n",
              "  .colab-df-spinner {\n",
              "    border: 2px solid var(--fill-color);\n",
              "    border-color: transparent;\n",
              "    border-bottom-color: var(--fill-color);\n",
              "    animation:\n",
              "      spin 1s steps(1) infinite;\n",
              "  }\n",
              "\n",
              "  @keyframes spin {\n",
              "    0% {\n",
              "      border-color: transparent;\n",
              "      border-bottom-color: var(--fill-color);\n",
              "      border-left-color: var(--fill-color);\n",
              "    }\n",
              "    20% {\n",
              "      border-color: transparent;\n",
              "      border-left-color: var(--fill-color);\n",
              "      border-top-color: var(--fill-color);\n",
              "    }\n",
              "    30% {\n",
              "      border-color: transparent;\n",
              "      border-left-color: var(--fill-color);\n",
              "      border-top-color: var(--fill-color);\n",
              "      border-right-color: var(--fill-color);\n",
              "    }\n",
              "    40% {\n",
              "      border-color: transparent;\n",
              "      border-right-color: var(--fill-color);\n",
              "      border-top-color: var(--fill-color);\n",
              "    }\n",
              "    60% {\n",
              "      border-color: transparent;\n",
              "      border-right-color: var(--fill-color);\n",
              "    }\n",
              "    80% {\n",
              "      border-color: transparent;\n",
              "      border-right-color: var(--fill-color);\n",
              "      border-bottom-color: var(--fill-color);\n",
              "    }\n",
              "    90% {\n",
              "      border-color: transparent;\n",
              "      border-bottom-color: var(--fill-color);\n",
              "    }\n",
              "  }\n",
              "</style>\n",
              "\n",
              "  <script>\n",
              "    async function quickchart(key) {\n",
              "      const quickchartButtonEl =\n",
              "        document.querySelector('#' + key + ' button');\n",
              "      quickchartButtonEl.disabled = true;  // To prevent multiple clicks.\n",
              "      quickchartButtonEl.classList.add('colab-df-spinner');\n",
              "      try {\n",
              "        const charts = await google.colab.kernel.invokeFunction(\n",
              "            'suggestCharts', [key], {});\n",
              "      } catch (error) {\n",
              "        console.error('Error during call to suggestCharts:', error);\n",
              "      }\n",
              "      quickchartButtonEl.classList.remove('colab-df-spinner');\n",
              "      quickchartButtonEl.classList.add('colab-df-quickchart-complete');\n",
              "    }\n",
              "    (() => {\n",
              "      let quickchartButtonEl =\n",
              "        document.querySelector('#df-b633acd4-977e-4be5-9f4b-a45b79c27eff button');\n",
              "      quickchartButtonEl.style.display =\n",
              "        google.colab.kernel.accessAllowed ? 'block' : 'none';\n",
              "    })();\n",
              "  </script>\n",
              "</div>\n",
              "\n",
              "    </div>\n",
              "  </div>\n"
            ],
            "application/vnd.google.colaboratory.intrinsic+json": {
              "type": "dataframe",
              "summary": "{\n  \"name\": \"df_alertas\",\n  \"rows\": 30,\n  \"fields\": [\n    {\n      \"column\": \"id\",\n      \"properties\": {\n        \"dtype\": \"string\",\n        \"num_unique_values\": 30,\n        \"samples\": [\n          \"5e6daff3023f1930efa948cc\",\n          \"5e6dbd00023f1930efe97dfa\",\n          \"5e6ddfd0023f1930ef7b0124\"\n        ],\n        \"semantic_type\": \"\",\n        \"description\": \"\"\n      }\n    },\n    {\n      \"column\": \"event\",\n      \"properties\": {\n        \"dtype\": \"string\",\n        \"num_unique_values\": 16,\n        \"samples\": [\n          \"Flood Warning\",\n          \"Special Weather Statement\",\n          \"Flash Flood Warning\"\n        ],\n        \"semantic_type\": \"\",\n        \"description\": \"\"\n      }\n    },\n    {\n      \"column\": \"description\",\n      \"properties\": {\n        \"dtype\": \"string\",\n        \"num_unique_values\": 30,\n        \"samples\": [\n          \"The Fire Weather Watch has been replaced. Please see the latest information from NWS Sioux Falls SD on this developing situation.\",\n          \"A WINTER WEATHER ADVISORY REMAINS IN EFFECT UNTIL 6 PM CST THIS\\nEVENING. \\n\\n* EVENT: TEMPERATURES WILL CONTINUE TO FALL THROUGH THE MORNING\\n  HOURS WITH PRECIPITATION CHANGING OVER TO A MIX OF SLEET AND\\n  FREEZING RAIN AND WILL CONTINUE THROUGH THE AFTERNOON HOURS.\\n\\n* AREAS AFFECTED: SOUTHERN ARKANSAS INCLUDING THE CITIES OF \\n  CAMDEN MONTICELLO AND DUMAS. \\n\\n* TIMING: TODAY THROUGH MONDAY AFTERNOON.\\n\\n* SLEET ACCUMULATIONS: LESS THAN AN INCH.\\n\\n* ICE ACCUMULATIONS: BETWEEN ONE AND TWO TENTHS OF AN INCH.\\n\\n* IMPACTS: WHILE WIDESPREAD POWER OUTAGES ARE NOT EXPECTED ANY \\n  ACCUMULATION ON AREA ROADWAYS COULD BRING TRAVEL CONCERNS.\",\n          \"* LOCATIONS Shoreline in Calvert County.\\n\\n* TIDAL DEPARTURE Two to two and a half feet above normal.\\n\\n* TIMING Around the times of high tide. The next few high\\ntides at Solomons Island are at 1:34 PM this afternoon, 1:56\\nAM early Saturday morning, and 2:13 PM Saturday afternoon. The\\nnext few high tides at Chesapeake Beach are at 3:28 PM this\\nafternoon, 3:38 AM early Saturday morning, and 4:09 PM\\nSaturday afternoon.\\n\\n* IMPACTS One to two feet of inundation above ground level is\\npossible. At 3.0 feet, water is expected to reach backyards\\nnear 9th Street in North Beach, and could approach 9th Street.\\nAt 4.0 feet, flooding of structures near Charles Street in\\nSolomons is possible. Yards, parking lots, and portions of\\nboth Charles and Williams Street are covered by more than a\\nfoot of water.\"\n        ],\n        \"semantic_type\": \"\",\n        \"description\": \"\"\n      }\n    },\n    {\n      \"column\": \"instruction\",\n      \"properties\": {\n        \"dtype\": \"string\",\n        \"num_unique_values\": 30,\n        \"samples\": [\n          \"a red flag warning means that critical fire weather conditions are either occurring now or will shortly a combination of strong winds low relative humidity and warm temperatures can contribute to extreme fire behavior\",\n          \"a winter weather advisory means that periods of snow sleet or freezing rain will cause travel difficulties be prepared for slippery roads and limited visibility and use caution while driving  \",\n          \"a coastal flood advisory indicates that onshore winds and tides will combine to generate flooding of low areas along the shore  a coastal flood watch means that conditions favorable for flooding are expected to develop coastal residents should be alert for later statements or warnings and take action to protect property\"\n        ],\n        \"semantic_type\": \"\",\n        \"description\": \"\"\n      }\n    },\n    {\n      \"column\": \"urgency\",\n      \"properties\": {\n        \"dtype\": \"category\",\n        \"num_unique_values\": 4,\n        \"samples\": [\n          \"Immediate\",\n          \"Past\",\n          \"Expected\"\n        ],\n        \"semantic_type\": \"\",\n        \"description\": \"\"\n      }\n    },\n    {\n      \"column\": \"severity\",\n      \"properties\": {\n        \"dtype\": \"category\",\n        \"num_unique_values\": 3,\n        \"samples\": [\n          \"Severe\",\n          \"Moderate\",\n          \"Minor\"\n        ],\n        \"semantic_type\": \"\",\n        \"description\": \"\"\n      }\n    }\n  ]\n}"
            }
          },
          "metadata": {},
          "execution_count": 79
        }
      ]
    },
    {
      "cell_type": "markdown",
      "source": [
        "Instalamos paquete para tareas de tokenización."
      ],
      "metadata": {
        "id": "uRCMy5Q7S2oM"
      }
    },
    {
      "cell_type": "code",
      "source": [
        "!pip install nltk"
      ],
      "metadata": {
        "id": "v39yBTxiHvF8",
        "outputId": "24cf81cd-33dc-4007-fe0a-76870a8391b3",
        "colab": {
          "base_uri": "https://localhost:8080/"
        }
      },
      "execution_count": 80,
      "outputs": [
        {
          "output_type": "stream",
          "name": "stdout",
          "text": [
            "Requirement already satisfied: nltk in /usr/local/lib/python3.10/dist-packages (3.8.1)\n",
            "Requirement already satisfied: click in /usr/local/lib/python3.10/dist-packages (from nltk) (8.1.7)\n",
            "Requirement already satisfied: joblib in /usr/local/lib/python3.10/dist-packages (from nltk) (1.4.2)\n",
            "Requirement already satisfied: regex>=2021.8.3 in /usr/local/lib/python3.10/dist-packages (from nltk) (2023.12.25)\n",
            "Requirement already satisfied: tqdm in /usr/local/lib/python3.10/dist-packages (from nltk) (4.66.4)\n"
          ]
        }
      ]
    },
    {
      "cell_type": "code",
      "source": [
        "import nltk"
      ],
      "metadata": {
        "id": "HilMBEhcH8tJ"
      },
      "execution_count": 81,
      "outputs": []
    },
    {
      "cell_type": "code",
      "source": [
        "nltk.download('punkt')"
      ],
      "metadata": {
        "id": "QEZBuNiYIEaN",
        "outputId": "9040b04a-8ea8-4f52-d0a3-c30ab9e6c203",
        "colab": {
          "base_uri": "https://localhost:8080/"
        }
      },
      "execution_count": 82,
      "outputs": [
        {
          "output_type": "stream",
          "name": "stderr",
          "text": [
            "[nltk_data] Downloading package punkt to /root/nltk_data...\n",
            "[nltk_data]   Package punkt is already up-to-date!\n"
          ]
        },
        {
          "output_type": "execute_result",
          "data": {
            "text/plain": [
              "True"
            ]
          },
          "metadata": {},
          "execution_count": 82
        }
      ]
    },
    {
      "cell_type": "markdown",
      "source": [
        "Se hace este proceso en lotes ya que es un extenso el dataset\n"
      ],
      "metadata": {
        "id": "10l_Yj59IIcF"
      }
    },
    {
      "cell_type": "code",
      "source": [
        "def tokenizador(texts, batch_size=100):\n",
        "    tokenized_texts = []\n",
        "    for i in range(0, len(texts), batch_size):\n",
        "        batch = texts[i:i+batch_size]\n",
        "        tokenized_batch = [nltk.word_tokenize(str(text)) for text in batch]\n",
        "        tokenized_texts.extend(tokenized_batch)\n",
        "    return tokenized_texts"
      ],
      "metadata": {
        "id": "LLH-crOvILFB"
      },
      "execution_count": 83,
      "outputs": []
    },
    {
      "cell_type": "markdown",
      "source": [
        "Tomamos una lista de texto de la columna \"instruction\" y los dividimos en lotes para procesarlos mediante tokenización (división en palabras).\n"
      ],
      "metadata": {
        "id": "pKoL5248IhZ2"
      }
    },
    {
      "cell_type": "code",
      "source": [
        "batch_size = 1000\n",
        "df_alertas['instruction_token'] = tokenizador(df_alertas['instruction'], batch_size)"
      ],
      "metadata": {
        "id": "f6He6bDxIkqH"
      },
      "execution_count": 84,
      "outputs": []
    },
    {
      "cell_type": "markdown",
      "source": [
        "Tomamos un texto ejemplo sin tokenizar."
      ],
      "metadata": {
        "id": "KgWLAbAkaz_M"
      }
    },
    {
      "cell_type": "code",
      "source": [
        "df_alertas['instruction'].iloc[142406] # Probamos esa fila"
      ],
      "metadata": {
        "id": "cWUSEdjXZ-Wg",
        "outputId": "97375d4f-5bda-48f9-c6b3-b170774f8c86",
        "colab": {
          "base_uri": "https://localhost:8080/",
          "height": 35
        }
      },
      "execution_count": 85,
      "outputs": [
        {
          "output_type": "execute_result",
          "data": {
            "text/plain": [
              "'use extra caution when driving especially if operating a high profile vehicle secure outdoor objects'"
            ],
            "application/vnd.google.colaboratory.intrinsic+json": {
              "type": "string"
            }
          },
          "metadata": {},
          "execution_count": 85
        }
      ]
    },
    {
      "cell_type": "markdown",
      "source": [
        "Tomamos el mismo texto tokenizado."
      ],
      "metadata": {
        "id": "bQqh3NJRbAjX"
      }
    },
    {
      "cell_type": "code",
      "source": [
        "df_alertas['instruction_token'].iloc[142406]"
      ],
      "metadata": {
        "id": "iiNkSbINaMmW",
        "outputId": "6d47b801-4ba1-4265-b797-0b8b2e21ea54",
        "colab": {
          "base_uri": "https://localhost:8080/"
        }
      },
      "execution_count": 86,
      "outputs": [
        {
          "output_type": "execute_result",
          "data": {
            "text/plain": [
              "['use',\n",
              " 'extra',\n",
              " 'caution',\n",
              " 'when',\n",
              " 'driving',\n",
              " 'especially',\n",
              " 'if',\n",
              " 'operating',\n",
              " 'a',\n",
              " 'high',\n",
              " 'profile',\n",
              " 'vehicle',\n",
              " 'secure',\n",
              " 'outdoor',\n",
              " 'objects']"
            ]
          },
          "metadata": {},
          "execution_count": 86
        }
      ]
    },
    {
      "cell_type": "markdown",
      "source": [
        "Ahora las se elimina las stop words (palabras que no aportan mucho significado semántico."
      ],
      "metadata": {
        "id": "lMK9ifOPA3hR"
      }
    },
    {
      "cell_type": "code",
      "source": [
        "# Instalamos modelo para el procesamiento de texto en inglés.\n",
        "!pip install spacy\n",
        "!python -m spacy download en_core_web_sm"
      ],
      "metadata": {
        "id": "1fTRDhpgA5SU",
        "outputId": "1ee17660-0c51-402b-b7d6-4ecfdace36c4",
        "colab": {
          "base_uri": "https://localhost:8080/"
        }
      },
      "execution_count": 87,
      "outputs": [
        {
          "output_type": "stream",
          "name": "stdout",
          "text": [
            "Requirement already satisfied: spacy in /usr/local/lib/python3.10/dist-packages (3.7.4)\n",
            "Requirement already satisfied: spacy-legacy<3.1.0,>=3.0.11 in /usr/local/lib/python3.10/dist-packages (from spacy) (3.0.12)\n",
            "Requirement already satisfied: spacy-loggers<2.0.0,>=1.0.0 in /usr/local/lib/python3.10/dist-packages (from spacy) (1.0.5)\n",
            "Requirement already satisfied: murmurhash<1.1.0,>=0.28.0 in /usr/local/lib/python3.10/dist-packages (from spacy) (1.0.10)\n",
            "Requirement already satisfied: cymem<2.1.0,>=2.0.2 in /usr/local/lib/python3.10/dist-packages (from spacy) (2.0.8)\n",
            "Requirement already satisfied: preshed<3.1.0,>=3.0.2 in /usr/local/lib/python3.10/dist-packages (from spacy) (3.0.9)\n",
            "Requirement already satisfied: thinc<8.3.0,>=8.2.2 in /usr/local/lib/python3.10/dist-packages (from spacy) (8.2.3)\n",
            "Requirement already satisfied: wasabi<1.2.0,>=0.9.1 in /usr/local/lib/python3.10/dist-packages (from spacy) (1.1.2)\n",
            "Requirement already satisfied: srsly<3.0.0,>=2.4.3 in /usr/local/lib/python3.10/dist-packages (from spacy) (2.4.8)\n",
            "Requirement already satisfied: catalogue<2.1.0,>=2.0.6 in /usr/local/lib/python3.10/dist-packages (from spacy) (2.0.10)\n",
            "Requirement already satisfied: weasel<0.4.0,>=0.1.0 in /usr/local/lib/python3.10/dist-packages (from spacy) (0.3.4)\n",
            "Requirement already satisfied: typer<0.10.0,>=0.3.0 in /usr/local/lib/python3.10/dist-packages (from spacy) (0.9.4)\n",
            "Requirement already satisfied: smart-open<7.0.0,>=5.2.1 in /usr/local/lib/python3.10/dist-packages (from spacy) (6.4.0)\n",
            "Requirement already satisfied: tqdm<5.0.0,>=4.38.0 in /usr/local/lib/python3.10/dist-packages (from spacy) (4.66.4)\n",
            "Requirement already satisfied: requests<3.0.0,>=2.13.0 in /usr/local/lib/python3.10/dist-packages (from spacy) (2.31.0)\n",
            "Requirement already satisfied: pydantic!=1.8,!=1.8.1,<3.0.0,>=1.7.4 in /usr/local/lib/python3.10/dist-packages (from spacy) (2.7.1)\n",
            "Requirement already satisfied: jinja2 in /usr/local/lib/python3.10/dist-packages (from spacy) (3.1.4)\n",
            "Requirement already satisfied: setuptools in /usr/local/lib/python3.10/dist-packages (from spacy) (67.7.2)\n",
            "Requirement already satisfied: packaging>=20.0 in /usr/local/lib/python3.10/dist-packages (from spacy) (24.0)\n",
            "Requirement already satisfied: langcodes<4.0.0,>=3.2.0 in /usr/local/lib/python3.10/dist-packages (from spacy) (3.4.0)\n",
            "Requirement already satisfied: numpy>=1.19.0 in /usr/local/lib/python3.10/dist-packages (from spacy) (1.25.2)\n",
            "Requirement already satisfied: language-data>=1.2 in /usr/local/lib/python3.10/dist-packages (from langcodes<4.0.0,>=3.2.0->spacy) (1.2.0)\n",
            "Requirement already satisfied: annotated-types>=0.4.0 in /usr/local/lib/python3.10/dist-packages (from pydantic!=1.8,!=1.8.1,<3.0.0,>=1.7.4->spacy) (0.7.0)\n",
            "Requirement already satisfied: pydantic-core==2.18.2 in /usr/local/lib/python3.10/dist-packages (from pydantic!=1.8,!=1.8.1,<3.0.0,>=1.7.4->spacy) (2.18.2)\n",
            "Requirement already satisfied: typing-extensions>=4.6.1 in /usr/local/lib/python3.10/dist-packages (from pydantic!=1.8,!=1.8.1,<3.0.0,>=1.7.4->spacy) (4.11.0)\n",
            "Requirement already satisfied: charset-normalizer<4,>=2 in /usr/local/lib/python3.10/dist-packages (from requests<3.0.0,>=2.13.0->spacy) (3.3.2)\n",
            "Requirement already satisfied: idna<4,>=2.5 in /usr/local/lib/python3.10/dist-packages (from requests<3.0.0,>=2.13.0->spacy) (3.7)\n",
            "Requirement already satisfied: urllib3<3,>=1.21.1 in /usr/local/lib/python3.10/dist-packages (from requests<3.0.0,>=2.13.0->spacy) (2.0.7)\n",
            "Requirement already satisfied: certifi>=2017.4.17 in /usr/local/lib/python3.10/dist-packages (from requests<3.0.0,>=2.13.0->spacy) (2024.2.2)\n",
            "Requirement already satisfied: blis<0.8.0,>=0.7.8 in /usr/local/lib/python3.10/dist-packages (from thinc<8.3.0,>=8.2.2->spacy) (0.7.11)\n",
            "Requirement already satisfied: confection<1.0.0,>=0.0.1 in /usr/local/lib/python3.10/dist-packages (from thinc<8.3.0,>=8.2.2->spacy) (0.1.4)\n",
            "Requirement already satisfied: click<9.0.0,>=7.1.1 in /usr/local/lib/python3.10/dist-packages (from typer<0.10.0,>=0.3.0->spacy) (8.1.7)\n",
            "Requirement already satisfied: cloudpathlib<0.17.0,>=0.7.0 in /usr/local/lib/python3.10/dist-packages (from weasel<0.4.0,>=0.1.0->spacy) (0.16.0)\n",
            "Requirement already satisfied: MarkupSafe>=2.0 in /usr/local/lib/python3.10/dist-packages (from jinja2->spacy) (2.1.5)\n",
            "Requirement already satisfied: marisa-trie>=0.7.7 in /usr/local/lib/python3.10/dist-packages (from language-data>=1.2->langcodes<4.0.0,>=3.2.0->spacy) (1.1.1)\n",
            "Collecting en-core-web-sm==3.7.1\n",
            "  Downloading https://github.com/explosion/spacy-models/releases/download/en_core_web_sm-3.7.1/en_core_web_sm-3.7.1-py3-none-any.whl (12.8 MB)\n",
            "\u001b[2K     \u001b[90m━━━━━━━━━━━━━━━━━━━━━━━━━━━━━━━━━━━━━━━━\u001b[0m \u001b[32m12.8/12.8 MB\u001b[0m \u001b[31m18.8 MB/s\u001b[0m eta \u001b[36m0:00:00\u001b[0m\n",
            "\u001b[?25hRequirement already satisfied: spacy<3.8.0,>=3.7.2 in /usr/local/lib/python3.10/dist-packages (from en-core-web-sm==3.7.1) (3.7.4)\n",
            "Requirement already satisfied: spacy-legacy<3.1.0,>=3.0.11 in /usr/local/lib/python3.10/dist-packages (from spacy<3.8.0,>=3.7.2->en-core-web-sm==3.7.1) (3.0.12)\n",
            "Requirement already satisfied: spacy-loggers<2.0.0,>=1.0.0 in /usr/local/lib/python3.10/dist-packages (from spacy<3.8.0,>=3.7.2->en-core-web-sm==3.7.1) (1.0.5)\n",
            "Requirement already satisfied: murmurhash<1.1.0,>=0.28.0 in /usr/local/lib/python3.10/dist-packages (from spacy<3.8.0,>=3.7.2->en-core-web-sm==3.7.1) (1.0.10)\n",
            "Requirement already satisfied: cymem<2.1.0,>=2.0.2 in /usr/local/lib/python3.10/dist-packages (from spacy<3.8.0,>=3.7.2->en-core-web-sm==3.7.1) (2.0.8)\n",
            "Requirement already satisfied: preshed<3.1.0,>=3.0.2 in /usr/local/lib/python3.10/dist-packages (from spacy<3.8.0,>=3.7.2->en-core-web-sm==3.7.1) (3.0.9)\n",
            "Requirement already satisfied: thinc<8.3.0,>=8.2.2 in /usr/local/lib/python3.10/dist-packages (from spacy<3.8.0,>=3.7.2->en-core-web-sm==3.7.1) (8.2.3)\n",
            "Requirement already satisfied: wasabi<1.2.0,>=0.9.1 in /usr/local/lib/python3.10/dist-packages (from spacy<3.8.0,>=3.7.2->en-core-web-sm==3.7.1) (1.1.2)\n",
            "Requirement already satisfied: srsly<3.0.0,>=2.4.3 in /usr/local/lib/python3.10/dist-packages (from spacy<3.8.0,>=3.7.2->en-core-web-sm==3.7.1) (2.4.8)\n",
            "Requirement already satisfied: catalogue<2.1.0,>=2.0.6 in /usr/local/lib/python3.10/dist-packages (from spacy<3.8.0,>=3.7.2->en-core-web-sm==3.7.1) (2.0.10)\n",
            "Requirement already satisfied: weasel<0.4.0,>=0.1.0 in /usr/local/lib/python3.10/dist-packages (from spacy<3.8.0,>=3.7.2->en-core-web-sm==3.7.1) (0.3.4)\n",
            "Requirement already satisfied: typer<0.10.0,>=0.3.0 in /usr/local/lib/python3.10/dist-packages (from spacy<3.8.0,>=3.7.2->en-core-web-sm==3.7.1) (0.9.4)\n",
            "Requirement already satisfied: smart-open<7.0.0,>=5.2.1 in /usr/local/lib/python3.10/dist-packages (from spacy<3.8.0,>=3.7.2->en-core-web-sm==3.7.1) (6.4.0)\n",
            "Requirement already satisfied: tqdm<5.0.0,>=4.38.0 in /usr/local/lib/python3.10/dist-packages (from spacy<3.8.0,>=3.7.2->en-core-web-sm==3.7.1) (4.66.4)\n",
            "Requirement already satisfied: requests<3.0.0,>=2.13.0 in /usr/local/lib/python3.10/dist-packages (from spacy<3.8.0,>=3.7.2->en-core-web-sm==3.7.1) (2.31.0)\n",
            "Requirement already satisfied: pydantic!=1.8,!=1.8.1,<3.0.0,>=1.7.4 in /usr/local/lib/python3.10/dist-packages (from spacy<3.8.0,>=3.7.2->en-core-web-sm==3.7.1) (2.7.1)\n",
            "Requirement already satisfied: jinja2 in /usr/local/lib/python3.10/dist-packages (from spacy<3.8.0,>=3.7.2->en-core-web-sm==3.7.1) (3.1.4)\n",
            "Requirement already satisfied: setuptools in /usr/local/lib/python3.10/dist-packages (from spacy<3.8.0,>=3.7.2->en-core-web-sm==3.7.1) (67.7.2)\n",
            "Requirement already satisfied: packaging>=20.0 in /usr/local/lib/python3.10/dist-packages (from spacy<3.8.0,>=3.7.2->en-core-web-sm==3.7.1) (24.0)\n",
            "Requirement already satisfied: langcodes<4.0.0,>=3.2.0 in /usr/local/lib/python3.10/dist-packages (from spacy<3.8.0,>=3.7.2->en-core-web-sm==3.7.1) (3.4.0)\n",
            "Requirement already satisfied: numpy>=1.19.0 in /usr/local/lib/python3.10/dist-packages (from spacy<3.8.0,>=3.7.2->en-core-web-sm==3.7.1) (1.25.2)\n",
            "Requirement already satisfied: language-data>=1.2 in /usr/local/lib/python3.10/dist-packages (from langcodes<4.0.0,>=3.2.0->spacy<3.8.0,>=3.7.2->en-core-web-sm==3.7.1) (1.2.0)\n",
            "Requirement already satisfied: annotated-types>=0.4.0 in /usr/local/lib/python3.10/dist-packages (from pydantic!=1.8,!=1.8.1,<3.0.0,>=1.7.4->spacy<3.8.0,>=3.7.2->en-core-web-sm==3.7.1) (0.7.0)\n",
            "Requirement already satisfied: pydantic-core==2.18.2 in /usr/local/lib/python3.10/dist-packages (from pydantic!=1.8,!=1.8.1,<3.0.0,>=1.7.4->spacy<3.8.0,>=3.7.2->en-core-web-sm==3.7.1) (2.18.2)\n",
            "Requirement already satisfied: typing-extensions>=4.6.1 in /usr/local/lib/python3.10/dist-packages (from pydantic!=1.8,!=1.8.1,<3.0.0,>=1.7.4->spacy<3.8.0,>=3.7.2->en-core-web-sm==3.7.1) (4.11.0)\n",
            "Requirement already satisfied: charset-normalizer<4,>=2 in /usr/local/lib/python3.10/dist-packages (from requests<3.0.0,>=2.13.0->spacy<3.8.0,>=3.7.2->en-core-web-sm==3.7.1) (3.3.2)\n",
            "Requirement already satisfied: idna<4,>=2.5 in /usr/local/lib/python3.10/dist-packages (from requests<3.0.0,>=2.13.0->spacy<3.8.0,>=3.7.2->en-core-web-sm==3.7.1) (3.7)\n",
            "Requirement already satisfied: urllib3<3,>=1.21.1 in /usr/local/lib/python3.10/dist-packages (from requests<3.0.0,>=2.13.0->spacy<3.8.0,>=3.7.2->en-core-web-sm==3.7.1) (2.0.7)\n",
            "Requirement already satisfied: certifi>=2017.4.17 in /usr/local/lib/python3.10/dist-packages (from requests<3.0.0,>=2.13.0->spacy<3.8.0,>=3.7.2->en-core-web-sm==3.7.1) (2024.2.2)\n",
            "Requirement already satisfied: blis<0.8.0,>=0.7.8 in /usr/local/lib/python3.10/dist-packages (from thinc<8.3.0,>=8.2.2->spacy<3.8.0,>=3.7.2->en-core-web-sm==3.7.1) (0.7.11)\n",
            "Requirement already satisfied: confection<1.0.0,>=0.0.1 in /usr/local/lib/python3.10/dist-packages (from thinc<8.3.0,>=8.2.2->spacy<3.8.0,>=3.7.2->en-core-web-sm==3.7.1) (0.1.4)\n",
            "Requirement already satisfied: click<9.0.0,>=7.1.1 in /usr/local/lib/python3.10/dist-packages (from typer<0.10.0,>=0.3.0->spacy<3.8.0,>=3.7.2->en-core-web-sm==3.7.1) (8.1.7)\n",
            "Requirement already satisfied: cloudpathlib<0.17.0,>=0.7.0 in /usr/local/lib/python3.10/dist-packages (from weasel<0.4.0,>=0.1.0->spacy<3.8.0,>=3.7.2->en-core-web-sm==3.7.1) (0.16.0)\n",
            "Requirement already satisfied: MarkupSafe>=2.0 in /usr/local/lib/python3.10/dist-packages (from jinja2->spacy<3.8.0,>=3.7.2->en-core-web-sm==3.7.1) (2.1.5)\n",
            "Requirement already satisfied: marisa-trie>=0.7.7 in /usr/local/lib/python3.10/dist-packages (from language-data>=1.2->langcodes<4.0.0,>=3.2.0->spacy<3.8.0,>=3.7.2->en-core-web-sm==3.7.1) (1.1.1)\n",
            "\u001b[38;5;2m✔ Download and installation successful\u001b[0m\n",
            "You can now load the package via spacy.load('en_core_web_sm')\n",
            "\u001b[38;5;3m⚠ Restart to reload dependencies\u001b[0m\n",
            "If you are in a Jupyter or Colab notebook, you may need to restart Python in\n",
            "order to load all the package's dependencies. You can do this by selecting the\n",
            "'Restart kernel' or 'Restart runtime' option.\n"
          ]
        }
      ]
    },
    {
      "cell_type": "code",
      "source": [
        "from nltk.corpus import stopwords\n",
        "import spacy"
      ],
      "metadata": {
        "id": "6FSQVRUxebHr"
      },
      "execution_count": 88,
      "outputs": []
    },
    {
      "cell_type": "code",
      "source": [
        "nltk.download('stopwords')"
      ],
      "metadata": {
        "id": "ucs4iD2gelBJ",
        "outputId": "dd67ad33-526b-4593-ec9d-c0993b94e83e",
        "colab": {
          "base_uri": "https://localhost:8080/"
        }
      },
      "execution_count": 89,
      "outputs": [
        {
          "output_type": "stream",
          "name": "stderr",
          "text": [
            "[nltk_data] Downloading package stopwords to /root/nltk_data...\n",
            "[nltk_data]   Package stopwords is already up-to-date!\n"
          ]
        },
        {
          "output_type": "execute_result",
          "data": {
            "text/plain": [
              "True"
            ]
          },
          "metadata": {},
          "execution_count": 89
        }
      ]
    },
    {
      "cell_type": "code",
      "source": [
        "nlp = spacy.load('en_core_web_sm')\n",
        "# Configura stop words en inglés\n",
        "stop_words = set(stopwords.words('english'))\n",
        "# Función para eliminar stop words de una lista de tokens\n",
        "def remove_stop_words(tokens):\n",
        "    return [word for word in tokens if word.lower() not in stop_words]"
      ],
      "metadata": {
        "id": "Oi8E0MjveuwR"
      },
      "execution_count": 90,
      "outputs": []
    },
    {
      "cell_type": "code",
      "source": [
        "df_alertas['instruction_no_stopwords'] = df_alertas['instruction_token'].apply(lambda x: remove_stop_words(x))"
      ],
      "metadata": {
        "id": "Mex_5uc7fHRj"
      },
      "execution_count": 91,
      "outputs": []
    },
    {
      "cell_type": "markdown",
      "source": [
        "Verificamos la eliminación de las stopword de una línea ejemplo."
      ],
      "metadata": {
        "id": "lKZVnLBchzXz"
      }
    },
    {
      "cell_type": "code",
      "source": [
        "df_alertas['instruction_token'].iloc[142406]"
      ],
      "metadata": {
        "id": "ya3BfsVIhQ-4",
        "outputId": "29a69a39-7123-40de-b6f0-31aecee49fcd",
        "colab": {
          "base_uri": "https://localhost:8080/"
        }
      },
      "execution_count": 92,
      "outputs": [
        {
          "output_type": "execute_result",
          "data": {
            "text/plain": [
              "['use',\n",
              " 'extra',\n",
              " 'caution',\n",
              " 'when',\n",
              " 'driving',\n",
              " 'especially',\n",
              " 'if',\n",
              " 'operating',\n",
              " 'a',\n",
              " 'high',\n",
              " 'profile',\n",
              " 'vehicle',\n",
              " 'secure',\n",
              " 'outdoor',\n",
              " 'objects']"
            ]
          },
          "metadata": {},
          "execution_count": 92
        }
      ]
    },
    {
      "cell_type": "markdown",
      "source": [
        "Linea con la eliminación de las stopwords en la linea ejemplo."
      ],
      "metadata": {
        "id": "rOVufZmdiJFe"
      }
    },
    {
      "cell_type": "code",
      "source": [
        "df_alertas['instruction_no_stopwords'].iloc[142406]"
      ],
      "metadata": {
        "id": "U5tMcOXmhbMT",
        "outputId": "70e05cfa-1b70-44a9-d999-b0a3b2c1b415",
        "colab": {
          "base_uri": "https://localhost:8080/"
        }
      },
      "execution_count": 93,
      "outputs": [
        {
          "output_type": "execute_result",
          "data": {
            "text/plain": [
              "['use',\n",
              " 'extra',\n",
              " 'caution',\n",
              " 'driving',\n",
              " 'especially',\n",
              " 'operating',\n",
              " 'high',\n",
              " 'profile',\n",
              " 'vehicle',\n",
              " 'secure',\n",
              " 'outdoor',\n",
              " 'objects']"
            ]
          },
          "metadata": {},
          "execution_count": 93
        }
      ]
    },
    {
      "cell_type": "markdown",
      "source": [
        "Aplicamos la Lemantizacion que permite transformar palabras a su forma base, por volumen de datos lo hacemos por lotes."
      ],
      "metadata": {
        "id": "17aZTvcrjPeM"
      }
    },
    {
      "cell_type": "code",
      "source": [
        "# Definir función para lematizar una lista de listas de tokens\n",
        "def lemmatize_batch(tokens_list, batch_size=1000):\n",
        "    # Procesar los textos en lotes utilizando SpaCy\n",
        "    for i in range(0, len(tokens_list), batch_size):\n",
        "        batch_tokens = tokens_list[i:i+batch_size]\n",
        "        processed_texts = nlp.pipe([' '.join(tokens) for tokens in batch_tokens], disable=[\"parser\", \"ner\"])\n",
        "        # Extraer lemas de cada documento procesado\n",
        "        lemmatized_texts = [[' '.join(token.lemma_ for token in doc)] for doc in processed_texts]\n",
        "        yield from lemmatized_texts"
      ],
      "metadata": {
        "id": "hHejO9WsCUMb"
      },
      "execution_count": 94,
      "outputs": []
    },
    {
      "cell_type": "markdown",
      "source": [
        "Obtenemos la columna 'instruction_no_stopwords' como una lista de listas de tokens."
      ],
      "metadata": {
        "id": "soS5CKN6TY-m"
      }
    },
    {
      "cell_type": "code",
      "source": [
        "tokens_list = df_alertas['instruction_no_stopwords'].tolist()"
      ],
      "metadata": {
        "id": "VtwAYBFRCfpo"
      },
      "execution_count": 95,
      "outputs": []
    },
    {
      "cell_type": "markdown",
      "source": [
        "Obtenemos todos los resultados de lematización en una lista."
      ],
      "metadata": {
        "id": "72VmU4FETjzd"
      }
    },
    {
      "cell_type": "code",
      "source": [
        "all_lemmatized_texts = [text for sublist in lemmatize_batch(tokens_list) for text in sublist]"
      ],
      "metadata": {
        "id": "X5XkADkJCk0D"
      },
      "execution_count": 96,
      "outputs": []
    },
    {
      "cell_type": "markdown",
      "source": [
        "Imprimimos algunos resultados lematizados para verificar."
      ],
      "metadata": {
        "id": "mDIQt9wjTr4V"
      }
    },
    {
      "cell_type": "code",
      "source": [
        "print(all_lemmatized_texts[:10])  # Mostrar los primeros 10 elementos para verificar"
      ],
      "metadata": {
        "id": "gGayOrz9Cnql",
        "outputId": "924de442-6bcd-479a-a19b-c14e069fee1c",
        "colab": {
          "base_uri": "https://localhost:8080/"
        }
      },
      "execution_count": 97,
      "outputs": [
        {
          "output_type": "stream",
          "name": "stdout",
          "text": [
            "['frequent cloud ground lightning occur storm lightning strike ten mile away thunderstorm seek safe shelter inside building vehicle', 'safety message river flood warning mean river flooding expect impact people property warn area prepare flooding impact associate forecast river level location caution urge walk near riverbank late stage forecast river stream find web page httpswaterweathergov', 'flood advisory mean river stream flow elevated ponde water urban area occur imminent please report flood local law enforcement agency safely', 'flood watch mean potential flooding base current forecast monitor later forecast alert possible flood warning living area prone flooding prepared take action flooding develop', 'safety message motorist attempt drive around barricade drive car flood area stay tune development listen local radio television noaa weather radio station information additional weather river information find homepage wwwweathergovgrr', 'torrential rainfall also occur storm may lead localize flooding drive vehicle flood roadway', 'safety message never drive vehicle flood area water may deep allow safe passage never allow child play near flood water stay tune noaa weather radio local medium internet statement update forecast', 'safety message never drive vehicle flood area water may deep allow safe passage never allow child play near flood water stay tune noaa weather radio local medium internet statement update forecast', 'safety message never drive vehicle flood area water may deep allow safe passage never allow child play near flood water stay tune noaa weather radio local medium internet statement update forecast', 'safety message never drive vehicle flood area water may deep allow safe passage never allow child play near flood water stay tune noaa weather radio local medium internet statement update forecast']\n"
          ]
        }
      ]
    },
    {
      "cell_type": "markdown",
      "source": [
        "Guardamos en dataframe."
      ],
      "metadata": {
        "id": "DvoV3bCWT3Tl"
      }
    },
    {
      "cell_type": "code",
      "source": [
        "df_alertas['instruction_lemmatized'] = all_lemmatized_texts"
      ],
      "metadata": {
        "id": "JYOXkh-xNVfI"
      },
      "execution_count": 98,
      "outputs": []
    },
    {
      "cell_type": "markdown",
      "source": [
        "Mostramos algunas filas del DataFrame procesado."
      ],
      "metadata": {
        "id": "7sUbzUHaT-p6"
      }
    },
    {
      "cell_type": "code",
      "source": [
        "print(df_alertas[['instruction', 'instruction_no_stopwords', 'instruction_lemmatized']].head())\n",
        ""
      ],
      "metadata": {
        "id": "uZpgh-WqM3M9",
        "outputId": "3f998ec3-ef5d-4a77-86cb-da65f8627344",
        "colab": {
          "base_uri": "https://localhost:8080/"
        }
      },
      "execution_count": 99,
      "outputs": [
        {
          "output_type": "stream",
          "name": "stdout",
          "text": [
            "                                         instruction  \\\n",
            "0  frequent cloud to ground lightning is occurrin...   \n",
            "1  safety message a river flood warning means riv...   \n",
            "2  a flood advisory means river or stream flows a...   \n",
            "3  a flood watch means there is a potential for f...   \n",
            "4  safety message motorists should not attempt to...   \n",
            "\n",
            "                            instruction_no_stopwords  \\\n",
            "0  [frequent, cloud, ground, lightning, occurring...   \n",
            "1  [safety, message, river, flood, warning, means...   \n",
            "2  [flood, advisory, means, river, stream, flows,...   \n",
            "3  [flood, watch, means, potential, flooding, bas...   \n",
            "4  [safety, message, motorists, attempt, drive, a...   \n",
            "\n",
            "                              instruction_lemmatized  \n",
            "0  frequent cloud ground lightning occur storm li...  \n",
            "1  safety message river flood warning mean river ...  \n",
            "2  flood advisory mean river stream flow elevated...  \n",
            "3  flood watch mean potential flooding base curre...  \n",
            "4  safety message motorist attempt drive around b...  \n"
          ]
        }
      ]
    }
  ]
}