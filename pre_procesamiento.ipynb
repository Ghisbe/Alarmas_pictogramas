{
  "nbformat": 4,
  "nbformat_minor": 0,
  "metadata": {
    "colab": {
      "provenance": [],
      "include_colab_link": true
    },
    "kernelspec": {
      "name": "python3",
      "display_name": "Python 3"
    },
    "language_info": {
      "name": "python"
    }
  },
  "cells": [
    {
      "cell_type": "markdown",
      "metadata": {
        "id": "view-in-github",
        "colab_type": "text"
      },
      "source": [
        "<a href=\"https://colab.research.google.com/github/Ghisbe/Alarmas_pictogramas/blob/main/pre_procesamiento.ipynb\" target=\"_parent\"><img src=\"https://colab.research.google.com/assets/colab-badge.svg\" alt=\"Open In Colab\"/></a>"
      ]
    },
    {
      "cell_type": "markdown",
      "source": [
        "#Preprocesamiento columna 'description'.:"
      ],
      "metadata": {
        "id": "qHAWGBBW8VpN"
      }
    },
    {
      "cell_type": "code",
      "execution_count": null,
      "metadata": {
        "colab": {
          "base_uri": "https://localhost:8080/"
        },
        "id": "lsM3_lEM5KQX",
        "outputId": "6fe2f9ad-e9a3-424e-bde5-f20467603749"
      },
      "outputs": [
        {
          "output_type": "stream",
          "name": "stdout",
          "text": [
            "Drive already mounted at /content/drive; to attempt to forcibly remount, call drive.mount(\"/content/drive\", force_remount=True).\n"
          ]
        }
      ],
      "source": [
        "from google.colab import drive\n",
        "drive.mount('/content/drive')\n",
        "import pandas as pd\n",
        "import gdown"
      ]
    },
    {
      "cell_type": "code",
      "source": [
        "url = \"https://drive.google.com/uc?id=1MdxRAfh0ojpqayiSGiieg_S9Zo0vdjGt\"\n"
      ],
      "metadata": {
        "id": "mCA0Odfv5W_k"
      },
      "execution_count": null,
      "outputs": []
    },
    {
      "cell_type": "code",
      "source": [
        "output = 'df_definitivo.csv'\n",
        "gdown.download(url, output, quiet=False)\n",
        "\n",
        "# Leer el archivo CSV en un DataFrame de pandas\n",
        "df_alertas = pd.read_csv(output)"
      ],
      "metadata": {
        "colab": {
          "base_uri": "https://localhost:8080/"
        },
        "id": "_FbsbqX15lL1",
        "outputId": "1c888258-abfd-4bdd-9b0e-d009f0d85b9d"
      },
      "execution_count": null,
      "outputs": [
        {
          "output_type": "stream",
          "name": "stderr",
          "text": [
            "Downloading...\n",
            "From (original): https://drive.google.com/uc?id=1MdxRAfh0ojpqayiSGiieg_S9Zo0vdjGt\n",
            "From (redirected): https://drive.google.com/uc?id=1MdxRAfh0ojpqayiSGiieg_S9Zo0vdjGt&confirm=t&uuid=dd787ed4-0cd0-4373-aeb8-c1f1b042c773\n",
            "To: /content/df_definitivo.csv\n",
            "100%|██████████| 1.51G/1.51G [00:15<00:00, 94.3MB/s]\n"
          ]
        }
      ]
    },
    {
      "cell_type": "code",
      "source": [
        "df_alertas"
      ],
      "metadata": {
        "colab": {
          "base_uri": "https://localhost:8080/",
          "height": 597
        },
        "id": "_GqoSpDv5sw_",
        "outputId": "b41b23e3-ec42-4e91-b25e-e9dbba198850"
      },
      "execution_count": null,
      "outputs": [
        {
          "output_type": "execute_result",
          "data": {
            "text/plain": [
              "                               id                      event  \\\n",
              "0        5ed3a4b2283336e2e7db3a1c  Special Weather Statement   \n",
              "1        5ed3a07c283336e2e7d2bfa4              Flood Warning   \n",
              "2        5ed39e54283336e2e7d22306             Flood Advisory   \n",
              "3        5ed39e11283336e2e7d15e23                Flood Watch   \n",
              "4        5ed3962c283336e2e7c1d935              Flood Warning   \n",
              "...                           ...                        ...   \n",
              "1497255  613a5aee434e34d5ee03f0e1  Special Weather Statement   \n",
              "1497256  613a5c5b434e34d5ee06813a  Special Weather Statement   \n",
              "1497257  613a5c5b434e34d5ee06813f          Flash Flood Watch   \n",
              "1497258  613a5d4d434e34d5ee06a9a9         Dense Fog Advisory   \n",
              "1497259  613a5dc6434e34d5ee06bd10  Special Weather Statement   \n",
              "\n",
              "                                               description  \\\n",
              "0        At 630 AM MDT/530 AM PDT/, Doppler radar was t...   \n",
              "1        ...The National Weather Service in Billings MT...   \n",
              "2        At 502 AM PDT, Gauge reports continue to indic...   \n",
              "3        The National Weather Service in Spokane has is...   \n",
              "4        The Flood Warning has been cancelled and is no...   \n",
              "...                                                    ...   \n",
              "1497255  At 814 AM CDT, Doppler radar was tracking a st...   \n",
              "1497256  At 816 AM CDT, Doppler radar was tracking a st...   \n",
              "1497257  The National Weather Service in El Paso Tx/San...   \n",
              "1497258  * WHAT...Visibility around 1/4 mile or less in...   \n",
              "1497259  At 745 AM MDT/845 AM CDT/, Doppler radar was t...   \n",
              "\n",
              "                                               instruction   urgency  severity  \n",
              "0        Frequent cloud to ground lightning is occurrin...  Expected  Moderate  \n",
              "1        Safety message...A river Flood Warning means r...  Expected    Severe  \n",
              "2        A Flood Advisory means river or stream flows a...  Expected     Minor  \n",
              "3        A Flood Watch means there is a potential for f...    Future    Severe  \n",
              "4        Safety message...Motorists should not attempt ...      Past     Minor  \n",
              "...                                                    ...       ...       ...  \n",
              "1497255  If outdoors, consider seeking shelter inside a...  Expected  Moderate  \n",
              "1497256  If outdoors, consider seeking shelter inside a...  Expected  Moderate  \n",
              "1497257  You should monitor later forecasts and be prep...    Future    Severe  \n",
              "1497258  If driving, slow down, use your headlights, an...  Expected  Moderate  \n",
              "1497259  If outdoors, consider seeking shelter inside a...  Expected  Moderate  \n",
              "\n",
              "[1497260 rows x 6 columns]"
            ],
            "text/html": [
              "\n",
              "  <div id=\"df-5121bdea-6d93-4b39-994f-3f8624acae81\" class=\"colab-df-container\">\n",
              "    <div>\n",
              "<style scoped>\n",
              "    .dataframe tbody tr th:only-of-type {\n",
              "        vertical-align: middle;\n",
              "    }\n",
              "\n",
              "    .dataframe tbody tr th {\n",
              "        vertical-align: top;\n",
              "    }\n",
              "\n",
              "    .dataframe thead th {\n",
              "        text-align: right;\n",
              "    }\n",
              "</style>\n",
              "<table border=\"1\" class=\"dataframe\">\n",
              "  <thead>\n",
              "    <tr style=\"text-align: right;\">\n",
              "      <th></th>\n",
              "      <th>id</th>\n",
              "      <th>event</th>\n",
              "      <th>description</th>\n",
              "      <th>instruction</th>\n",
              "      <th>urgency</th>\n",
              "      <th>severity</th>\n",
              "    </tr>\n",
              "  </thead>\n",
              "  <tbody>\n",
              "    <tr>\n",
              "      <th>0</th>\n",
              "      <td>5ed3a4b2283336e2e7db3a1c</td>\n",
              "      <td>Special Weather Statement</td>\n",
              "      <td>At 630 AM MDT/530 AM PDT/, Doppler radar was t...</td>\n",
              "      <td>Frequent cloud to ground lightning is occurrin...</td>\n",
              "      <td>Expected</td>\n",
              "      <td>Moderate</td>\n",
              "    </tr>\n",
              "    <tr>\n",
              "      <th>1</th>\n",
              "      <td>5ed3a07c283336e2e7d2bfa4</td>\n",
              "      <td>Flood Warning</td>\n",
              "      <td>...The National Weather Service in Billings MT...</td>\n",
              "      <td>Safety message...A river Flood Warning means r...</td>\n",
              "      <td>Expected</td>\n",
              "      <td>Severe</td>\n",
              "    </tr>\n",
              "    <tr>\n",
              "      <th>2</th>\n",
              "      <td>5ed39e54283336e2e7d22306</td>\n",
              "      <td>Flood Advisory</td>\n",
              "      <td>At 502 AM PDT, Gauge reports continue to indic...</td>\n",
              "      <td>A Flood Advisory means river or stream flows a...</td>\n",
              "      <td>Expected</td>\n",
              "      <td>Minor</td>\n",
              "    </tr>\n",
              "    <tr>\n",
              "      <th>3</th>\n",
              "      <td>5ed39e11283336e2e7d15e23</td>\n",
              "      <td>Flood Watch</td>\n",
              "      <td>The National Weather Service in Spokane has is...</td>\n",
              "      <td>A Flood Watch means there is a potential for f...</td>\n",
              "      <td>Future</td>\n",
              "      <td>Severe</td>\n",
              "    </tr>\n",
              "    <tr>\n",
              "      <th>4</th>\n",
              "      <td>5ed3962c283336e2e7c1d935</td>\n",
              "      <td>Flood Warning</td>\n",
              "      <td>The Flood Warning has been cancelled and is no...</td>\n",
              "      <td>Safety message...Motorists should not attempt ...</td>\n",
              "      <td>Past</td>\n",
              "      <td>Minor</td>\n",
              "    </tr>\n",
              "    <tr>\n",
              "      <th>...</th>\n",
              "      <td>...</td>\n",
              "      <td>...</td>\n",
              "      <td>...</td>\n",
              "      <td>...</td>\n",
              "      <td>...</td>\n",
              "      <td>...</td>\n",
              "    </tr>\n",
              "    <tr>\n",
              "      <th>1497255</th>\n",
              "      <td>613a5aee434e34d5ee03f0e1</td>\n",
              "      <td>Special Weather Statement</td>\n",
              "      <td>At 814 AM CDT, Doppler radar was tracking a st...</td>\n",
              "      <td>If outdoors, consider seeking shelter inside a...</td>\n",
              "      <td>Expected</td>\n",
              "      <td>Moderate</td>\n",
              "    </tr>\n",
              "    <tr>\n",
              "      <th>1497256</th>\n",
              "      <td>613a5c5b434e34d5ee06813a</td>\n",
              "      <td>Special Weather Statement</td>\n",
              "      <td>At 816 AM CDT, Doppler radar was tracking a st...</td>\n",
              "      <td>If outdoors, consider seeking shelter inside a...</td>\n",
              "      <td>Expected</td>\n",
              "      <td>Moderate</td>\n",
              "    </tr>\n",
              "    <tr>\n",
              "      <th>1497257</th>\n",
              "      <td>613a5c5b434e34d5ee06813f</td>\n",
              "      <td>Flash Flood Watch</td>\n",
              "      <td>The National Weather Service in El Paso Tx/San...</td>\n",
              "      <td>You should monitor later forecasts and be prep...</td>\n",
              "      <td>Future</td>\n",
              "      <td>Severe</td>\n",
              "    </tr>\n",
              "    <tr>\n",
              "      <th>1497258</th>\n",
              "      <td>613a5d4d434e34d5ee06a9a9</td>\n",
              "      <td>Dense Fog Advisory</td>\n",
              "      <td>* WHAT...Visibility around 1/4 mile or less in...</td>\n",
              "      <td>If driving, slow down, use your headlights, an...</td>\n",
              "      <td>Expected</td>\n",
              "      <td>Moderate</td>\n",
              "    </tr>\n",
              "    <tr>\n",
              "      <th>1497259</th>\n",
              "      <td>613a5dc6434e34d5ee06bd10</td>\n",
              "      <td>Special Weather Statement</td>\n",
              "      <td>At 745 AM MDT/845 AM CDT/, Doppler radar was t...</td>\n",
              "      <td>If outdoors, consider seeking shelter inside a...</td>\n",
              "      <td>Expected</td>\n",
              "      <td>Moderate</td>\n",
              "    </tr>\n",
              "  </tbody>\n",
              "</table>\n",
              "<p>1497260 rows × 6 columns</p>\n",
              "</div>\n",
              "    <div class=\"colab-df-buttons\">\n",
              "\n",
              "  <div class=\"colab-df-container\">\n",
              "    <button class=\"colab-df-convert\" onclick=\"convertToInteractive('df-5121bdea-6d93-4b39-994f-3f8624acae81')\"\n",
              "            title=\"Convert this dataframe to an interactive table.\"\n",
              "            style=\"display:none;\">\n",
              "\n",
              "  <svg xmlns=\"http://www.w3.org/2000/svg\" height=\"24px\" viewBox=\"0 -960 960 960\">\n",
              "    <path d=\"M120-120v-720h720v720H120Zm60-500h600v-160H180v160Zm220 220h160v-160H400v160Zm0 220h160v-160H400v160ZM180-400h160v-160H180v160Zm440 0h160v-160H620v160ZM180-180h160v-160H180v160Zm440 0h160v-160H620v160Z\"/>\n",
              "  </svg>\n",
              "    </button>\n",
              "\n",
              "  <style>\n",
              "    .colab-df-container {\n",
              "      display:flex;\n",
              "      gap: 12px;\n",
              "    }\n",
              "\n",
              "    .colab-df-convert {\n",
              "      background-color: #E8F0FE;\n",
              "      border: none;\n",
              "      border-radius: 50%;\n",
              "      cursor: pointer;\n",
              "      display: none;\n",
              "      fill: #1967D2;\n",
              "      height: 32px;\n",
              "      padding: 0 0 0 0;\n",
              "      width: 32px;\n",
              "    }\n",
              "\n",
              "    .colab-df-convert:hover {\n",
              "      background-color: #E2EBFA;\n",
              "      box-shadow: 0px 1px 2px rgba(60, 64, 67, 0.3), 0px 1px 3px 1px rgba(60, 64, 67, 0.15);\n",
              "      fill: #174EA6;\n",
              "    }\n",
              "\n",
              "    .colab-df-buttons div {\n",
              "      margin-bottom: 4px;\n",
              "    }\n",
              "\n",
              "    [theme=dark] .colab-df-convert {\n",
              "      background-color: #3B4455;\n",
              "      fill: #D2E3FC;\n",
              "    }\n",
              "\n",
              "    [theme=dark] .colab-df-convert:hover {\n",
              "      background-color: #434B5C;\n",
              "      box-shadow: 0px 1px 3px 1px rgba(0, 0, 0, 0.15);\n",
              "      filter: drop-shadow(0px 1px 2px rgba(0, 0, 0, 0.3));\n",
              "      fill: #FFFFFF;\n",
              "    }\n",
              "  </style>\n",
              "\n",
              "    <script>\n",
              "      const buttonEl =\n",
              "        document.querySelector('#df-5121bdea-6d93-4b39-994f-3f8624acae81 button.colab-df-convert');\n",
              "      buttonEl.style.display =\n",
              "        google.colab.kernel.accessAllowed ? 'block' : 'none';\n",
              "\n",
              "      async function convertToInteractive(key) {\n",
              "        const element = document.querySelector('#df-5121bdea-6d93-4b39-994f-3f8624acae81');\n",
              "        const dataTable =\n",
              "          await google.colab.kernel.invokeFunction('convertToInteractive',\n",
              "                                                    [key], {});\n",
              "        if (!dataTable) return;\n",
              "\n",
              "        const docLinkHtml = 'Like what you see? Visit the ' +\n",
              "          '<a target=\"_blank\" href=https://colab.research.google.com/notebooks/data_table.ipynb>data table notebook</a>'\n",
              "          + ' to learn more about interactive tables.';\n",
              "        element.innerHTML = '';\n",
              "        dataTable['output_type'] = 'display_data';\n",
              "        await google.colab.output.renderOutput(dataTable, element);\n",
              "        const docLink = document.createElement('div');\n",
              "        docLink.innerHTML = docLinkHtml;\n",
              "        element.appendChild(docLink);\n",
              "      }\n",
              "    </script>\n",
              "  </div>\n",
              "\n",
              "\n",
              "<div id=\"df-148298c3-8ece-458b-9bc2-c665ef023f1a\">\n",
              "  <button class=\"colab-df-quickchart\" onclick=\"quickchart('df-148298c3-8ece-458b-9bc2-c665ef023f1a')\"\n",
              "            title=\"Suggest charts\"\n",
              "            style=\"display:none;\">\n",
              "\n",
              "<svg xmlns=\"http://www.w3.org/2000/svg\" height=\"24px\"viewBox=\"0 0 24 24\"\n",
              "     width=\"24px\">\n",
              "    <g>\n",
              "        <path d=\"M19 3H5c-1.1 0-2 .9-2 2v14c0 1.1.9 2 2 2h14c1.1 0 2-.9 2-2V5c0-1.1-.9-2-2-2zM9 17H7v-7h2v7zm4 0h-2V7h2v10zm4 0h-2v-4h2v4z\"/>\n",
              "    </g>\n",
              "</svg>\n",
              "  </button>\n",
              "\n",
              "<style>\n",
              "  .colab-df-quickchart {\n",
              "      --bg-color: #E8F0FE;\n",
              "      --fill-color: #1967D2;\n",
              "      --hover-bg-color: #E2EBFA;\n",
              "      --hover-fill-color: #174EA6;\n",
              "      --disabled-fill-color: #AAA;\n",
              "      --disabled-bg-color: #DDD;\n",
              "  }\n",
              "\n",
              "  [theme=dark] .colab-df-quickchart {\n",
              "      --bg-color: #3B4455;\n",
              "      --fill-color: #D2E3FC;\n",
              "      --hover-bg-color: #434B5C;\n",
              "      --hover-fill-color: #FFFFFF;\n",
              "      --disabled-bg-color: #3B4455;\n",
              "      --disabled-fill-color: #666;\n",
              "  }\n",
              "\n",
              "  .colab-df-quickchart {\n",
              "    background-color: var(--bg-color);\n",
              "    border: none;\n",
              "    border-radius: 50%;\n",
              "    cursor: pointer;\n",
              "    display: none;\n",
              "    fill: var(--fill-color);\n",
              "    height: 32px;\n",
              "    padding: 0;\n",
              "    width: 32px;\n",
              "  }\n",
              "\n",
              "  .colab-df-quickchart:hover {\n",
              "    background-color: var(--hover-bg-color);\n",
              "    box-shadow: 0 1px 2px rgba(60, 64, 67, 0.3), 0 1px 3px 1px rgba(60, 64, 67, 0.15);\n",
              "    fill: var(--button-hover-fill-color);\n",
              "  }\n",
              "\n",
              "  .colab-df-quickchart-complete:disabled,\n",
              "  .colab-df-quickchart-complete:disabled:hover {\n",
              "    background-color: var(--disabled-bg-color);\n",
              "    fill: var(--disabled-fill-color);\n",
              "    box-shadow: none;\n",
              "  }\n",
              "\n",
              "  .colab-df-spinner {\n",
              "    border: 2px solid var(--fill-color);\n",
              "    border-color: transparent;\n",
              "    border-bottom-color: var(--fill-color);\n",
              "    animation:\n",
              "      spin 1s steps(1) infinite;\n",
              "  }\n",
              "\n",
              "  @keyframes spin {\n",
              "    0% {\n",
              "      border-color: transparent;\n",
              "      border-bottom-color: var(--fill-color);\n",
              "      border-left-color: var(--fill-color);\n",
              "    }\n",
              "    20% {\n",
              "      border-color: transparent;\n",
              "      border-left-color: var(--fill-color);\n",
              "      border-top-color: var(--fill-color);\n",
              "    }\n",
              "    30% {\n",
              "      border-color: transparent;\n",
              "      border-left-color: var(--fill-color);\n",
              "      border-top-color: var(--fill-color);\n",
              "      border-right-color: var(--fill-color);\n",
              "    }\n",
              "    40% {\n",
              "      border-color: transparent;\n",
              "      border-right-color: var(--fill-color);\n",
              "      border-top-color: var(--fill-color);\n",
              "    }\n",
              "    60% {\n",
              "      border-color: transparent;\n",
              "      border-right-color: var(--fill-color);\n",
              "    }\n",
              "    80% {\n",
              "      border-color: transparent;\n",
              "      border-right-color: var(--fill-color);\n",
              "      border-bottom-color: var(--fill-color);\n",
              "    }\n",
              "    90% {\n",
              "      border-color: transparent;\n",
              "      border-bottom-color: var(--fill-color);\n",
              "    }\n",
              "  }\n",
              "</style>\n",
              "\n",
              "  <script>\n",
              "    async function quickchart(key) {\n",
              "      const quickchartButtonEl =\n",
              "        document.querySelector('#' + key + ' button');\n",
              "      quickchartButtonEl.disabled = true;  // To prevent multiple clicks.\n",
              "      quickchartButtonEl.classList.add('colab-df-spinner');\n",
              "      try {\n",
              "        const charts = await google.colab.kernel.invokeFunction(\n",
              "            'suggestCharts', [key], {});\n",
              "      } catch (error) {\n",
              "        console.error('Error during call to suggestCharts:', error);\n",
              "      }\n",
              "      quickchartButtonEl.classList.remove('colab-df-spinner');\n",
              "      quickchartButtonEl.classList.add('colab-df-quickchart-complete');\n",
              "    }\n",
              "    (() => {\n",
              "      let quickchartButtonEl =\n",
              "        document.querySelector('#df-148298c3-8ece-458b-9bc2-c665ef023f1a button');\n",
              "      quickchartButtonEl.style.display =\n",
              "        google.colab.kernel.accessAllowed ? 'block' : 'none';\n",
              "    })();\n",
              "  </script>\n",
              "</div>\n",
              "\n",
              "  <div id=\"id_7c9ead95-132f-4f52-89d7-37b3dd6a65a8\">\n",
              "    <style>\n",
              "      .colab-df-generate {\n",
              "        background-color: #E8F0FE;\n",
              "        border: none;\n",
              "        border-radius: 50%;\n",
              "        cursor: pointer;\n",
              "        display: none;\n",
              "        fill: #1967D2;\n",
              "        height: 32px;\n",
              "        padding: 0 0 0 0;\n",
              "        width: 32px;\n",
              "      }\n",
              "\n",
              "      .colab-df-generate:hover {\n",
              "        background-color: #E2EBFA;\n",
              "        box-shadow: 0px 1px 2px rgba(60, 64, 67, 0.3), 0px 1px 3px 1px rgba(60, 64, 67, 0.15);\n",
              "        fill: #174EA6;\n",
              "      }\n",
              "\n",
              "      [theme=dark] .colab-df-generate {\n",
              "        background-color: #3B4455;\n",
              "        fill: #D2E3FC;\n",
              "      }\n",
              "\n",
              "      [theme=dark] .colab-df-generate:hover {\n",
              "        background-color: #434B5C;\n",
              "        box-shadow: 0px 1px 3px 1px rgba(0, 0, 0, 0.15);\n",
              "        filter: drop-shadow(0px 1px 2px rgba(0, 0, 0, 0.3));\n",
              "        fill: #FFFFFF;\n",
              "      }\n",
              "    </style>\n",
              "    <button class=\"colab-df-generate\" onclick=\"generateWithVariable('df_alertas')\"\n",
              "            title=\"Generate code using this dataframe.\"\n",
              "            style=\"display:none;\">\n",
              "\n",
              "  <svg xmlns=\"http://www.w3.org/2000/svg\" height=\"24px\"viewBox=\"0 0 24 24\"\n",
              "       width=\"24px\">\n",
              "    <path d=\"M7,19H8.4L18.45,9,17,7.55,7,17.6ZM5,21V16.75L18.45,3.32a2,2,0,0,1,2.83,0l1.4,1.43a1.91,1.91,0,0,1,.58,1.4,1.91,1.91,0,0,1-.58,1.4L9.25,21ZM18.45,9,17,7.55Zm-12,3A5.31,5.31,0,0,0,4.9,8.1,5.31,5.31,0,0,0,1,6.5,5.31,5.31,0,0,0,4.9,4.9,5.31,5.31,0,0,0,6.5,1,5.31,5.31,0,0,0,8.1,4.9,5.31,5.31,0,0,0,12,6.5,5.46,5.46,0,0,0,6.5,12Z\"/>\n",
              "  </svg>\n",
              "    </button>\n",
              "    <script>\n",
              "      (() => {\n",
              "      const buttonEl =\n",
              "        document.querySelector('#id_7c9ead95-132f-4f52-89d7-37b3dd6a65a8 button.colab-df-generate');\n",
              "      buttonEl.style.display =\n",
              "        google.colab.kernel.accessAllowed ? 'block' : 'none';\n",
              "\n",
              "      buttonEl.onclick = () => {\n",
              "        google.colab.notebook.generateWithVariable('df_alertas');\n",
              "      }\n",
              "      })();\n",
              "    </script>\n",
              "  </div>\n",
              "\n",
              "    </div>\n",
              "  </div>\n"
            ],
            "application/vnd.google.colaboratory.intrinsic+json": {
              "type": "dataframe",
              "variable_name": "df_alertas"
            }
          },
          "metadata": {},
          "execution_count": 4
        }
      ]
    },
    {
      "cell_type": "markdown",
      "source": [
        "Se toma la decision de usar el 50% del dataset"
      ],
      "metadata": {
        "id": "wnoivfdh2qdg"
      }
    },
    {
      "cell_type": "code",
      "source": [
        "# Seleccionar la primera mitad del dataset\n",
        "alertas_nuevo = df_alertas.iloc[:len(df_alertas)//2]"
      ],
      "metadata": {
        "id": "KcrifBWe2paX"
      },
      "execution_count": null,
      "outputs": []
    },
    {
      "cell_type": "code",
      "source": [
        "#alertas_nuevo.to_csv('alertas.csv', index=False)"
      ],
      "metadata": {
        "id": "Oa-t2TK04Fl2"
      },
      "execution_count": null,
      "outputs": []
    },
    {
      "cell_type": "markdown",
      "source": [
        "# Informacion General"
      ],
      "metadata": {
        "id": "ZQROR-JFVp9U"
      }
    },
    {
      "cell_type": "code",
      "source": [
        "alertas_nuevo.info()"
      ],
      "metadata": {
        "id": "L9y9tvKGBlbn",
        "colab": {
          "base_uri": "https://localhost:8080/"
        },
        "outputId": "a88bfaf5-7972-4481-9665-aa56ffcba121"
      },
      "execution_count": null,
      "outputs": [
        {
          "output_type": "stream",
          "name": "stdout",
          "text": [
            "<class 'pandas.core.frame.DataFrame'>\n",
            "RangeIndex: 748630 entries, 0 to 748629\n",
            "Data columns (total 6 columns):\n",
            " #   Column       Non-Null Count   Dtype \n",
            "---  ------       --------------   ----- \n",
            " 0   id           748630 non-null  object\n",
            " 1   event        748630 non-null  object\n",
            " 2   description  748630 non-null  object\n",
            " 3   instruction  748630 non-null  object\n",
            " 4   urgency      748630 non-null  object\n",
            " 5   severity     748630 non-null  object\n",
            "dtypes: object(6)\n",
            "memory usage: 34.3+ MB\n"
          ]
        }
      ]
    },
    {
      "cell_type": "markdown",
      "source": [
        "###Pre procesamiento de columna 'description\".\n",
        "\n",
        "1. Eliminación de ruido:\n",
        "Este paso tiene como objetivo eliminar todos aquellos símbolos o caracteres que no aportan nada en el significado de las frases."
      ],
      "metadata": {
        "id": "0wZy0GdjV4p0"
      }
    },
    {
      "cell_type": "markdown",
      "source": [
        "Pre procesamiento de columna 'description\"."
      ],
      "metadata": {
        "id": "3LFI3RBHBgoR"
      }
    },
    {
      "cell_type": "code",
      "source": [
        "#Observamos una muestra al azar de 15 ejemplos para visualizar la columna a analizar.\n",
        "(alertas_nuevo['description']).sample(15)"
      ],
      "metadata": {
        "colab": {
          "base_uri": "https://localhost:8080/"
        },
        "id": "f9q5hMXqV4MN",
        "outputId": "5331fb1d-b534-465b-ea45-9165f35bf60b"
      },
      "execution_count": null,
      "outputs": [
        {
          "output_type": "execute_result",
          "data": {
            "text/plain": [
              "389984    * LOCATIONS...Livingston, Ontario, Cattaraugus...\n",
              "369155    A prolonged snow event is expected to impact t...\n",
              "142467    The National Weather Service in Chicago has is...\n",
              "630542    The National Weather Service in Nashville has ...\n",
              "459660    The Flood Warning continues for\\nThe Christina...\n",
              "540502    At 451 PM CDT, Doppler radar was tracking a st...\n",
              "125558    The National Weather Service in Flagstaff has ...\n",
              "738788    At 1257 AM CDT, Doppler radar was tracking str...\n",
              "123668    ...AREAS OF MARINE DENSE FOG CONTINUE ACROSS C...\n",
              "208086    At 755 PM CDT, a severe thunderstorm was locat...\n",
              "588680    At 316 PM MDT, National Weather Service Dopple...\n",
              "491400    .VERY COLD TEMPERATURES COMBINED WITH GUSTY WI...\n",
              "82118     ...SNOW ON SUNDAY...\\n\\n.Light to moderate sno...\n",
              "269511    An approaching upper level storm system will i...\n",
              "195747    At 425 PM EDT, a severe thunderstorm was locat...\n",
              "Name: description, dtype: object"
            ]
          },
          "metadata": {},
          "execution_count": 7
        }
      ]
    },
    {
      "cell_type": "markdown",
      "source": [
        "Vamos a utilizar la fila 142406\n",
        " ya que ahi observamos la presencia de las palabras \\n\\n y WHAT\\WHERE asi que analizamos todo el texto de esa fila, haciendo un split de todas las palabras separadas por espacio."
      ],
      "metadata": {
        "id": "aONl-hSZWAO8"
      }
    },
    {
      "cell_type": "code",
      "source": [
        "fila = (alertas_nuevo['description'].iloc[142406]).split()\n",
        "print(fila)"
      ],
      "metadata": {
        "colab": {
          "base_uri": "https://localhost:8080/"
        },
        "id": "-kaor6_EWCnd",
        "outputId": "240e0c43-29dd-4f42-d588-92350f3ef2d5"
      },
      "execution_count": null,
      "outputs": [
        {
          "output_type": "stream",
          "name": "stdout",
          "text": [
            "['*', 'WHAT...North', 'to', 'northeast', 'winds', '15', 'to', '25', 'mph', 'with', 'gusts', 'to', '40', 'mph.', '*', 'WHERE...Western', 'San', 'Fernando', 'Valley.', '*', 'WHEN...Until', '3', 'PM', 'PDT', 'Thursday.', '*', 'IMPACTS...Gusty', 'winds', 'will', 'make', 'driving', 'difficult', 'and', 'could', 'blow', 'around', 'unsecured', 'objects.', 'Tree', 'limbs', 'could', 'be', 'blown', 'down.', '*', 'ADDITIONAL', 'DETAILS...']\n"
          ]
        }
      ]
    },
    {
      "cell_type": "markdown",
      "source": [
        "Observamos que las palabras 'WHAT', 'WHERE', 'WHEN' e 'IMPACTS' estan unidas a la segunda palabra por tres puntos '...', por ello vamos a reemplazar por un espacio para separar las palabras. Despues se trabajara con puntos, asteriscos y demas signos que no sean relevantes al modelo (Normalizacion)."
      ],
      "metadata": {
        "id": "6CDwNgaaWE9u"
      }
    },
    {
      "cell_type": "code",
      "source": [
        "alertas_nuevo['description'] = alertas_nuevo['description'].str.replace('...', ' ', regex=False)\n",
        "alertas_nuevo['description'].iloc[142406] #Probamos esa fila"
      ],
      "metadata": {
        "colab": {
          "base_uri": "https://localhost:8080/",
          "height": 181
        },
        "id": "yb0Jb6b4Wzku",
        "outputId": "09ddf773-39a0-48de-81ce-f5fdaf8cddea"
      },
      "execution_count": null,
      "outputs": [
        {
          "output_type": "stream",
          "name": "stderr",
          "text": [
            "<ipython-input-9-c85d9a838523>:1: SettingWithCopyWarning: \n",
            "A value is trying to be set on a copy of a slice from a DataFrame.\n",
            "Try using .loc[row_indexer,col_indexer] = value instead\n",
            "\n",
            "See the caveats in the documentation: https://pandas.pydata.org/pandas-docs/stable/user_guide/indexing.html#returning-a-view-versus-a-copy\n",
            "  alertas_nuevo['description'] = alertas_nuevo['description'].str.replace('...', ' ', regex=False)\n"
          ]
        },
        {
          "output_type": "execute_result",
          "data": {
            "text/plain": [
              "'* WHAT North to northeast winds 15 to 25 mph with gusts to 40\\nmph.\\n\\n* WHERE Western San Fernando Valley.\\n\\n* WHEN Until 3 PM PDT Thursday.\\n\\n* IMPACTS Gusty winds will make driving difficult and could\\nblow around unsecured objects. Tree limbs could be blown down.\\n\\n* ADDITIONAL DETAILS '"
            ],
            "application/vnd.google.colaboratory.intrinsic+json": {
              "type": "string"
            }
          },
          "metadata": {},
          "execution_count": 9
        }
      ]
    },
    {
      "cell_type": "markdown",
      "source": [
        "Ahora tambien observamos que figura como textos codigos de salto de linea \"\\n\\n\" y \"\\n\"."
      ],
      "metadata": {
        "id": "rFFdJ_Hbjv7A"
      }
    },
    {
      "cell_type": "code",
      "source": [
        "#Se observan palabras con \"\\n\"\n",
        "palabra_a_contar1 = '\\n'\n",
        "palabras_1 = alertas_nuevo['description'].str.count(palabra_a_contar1).sum()\n",
        "print(palabras_1)"
      ],
      "metadata": {
        "colab": {
          "base_uri": "https://localhost:8080/"
        },
        "id": "8QPh3cGBWHg3",
        "outputId": "c16b4edf-f00d-4059-e5d0-1212e7f53133"
      },
      "execution_count": null,
      "outputs": [
        {
          "output_type": "stream",
          "name": "stdout",
          "text": [
            "12277036\n"
          ]
        }
      ]
    },
    {
      "cell_type": "markdown",
      "source": [
        "Es una cantidad importe de esas palabras. En este caso reemplazamos como el caso anterior por un espacio."
      ],
      "metadata": {
        "id": "5Vd_zm5AWLVW"
      }
    },
    {
      "cell_type": "code",
      "source": [
        "df_alertas['description'] = df_alertas['description'].str.replace('\\n', ' ', regex=False)\n",
        "df_alertas['description'].iloc[142406] #Probamos esa fila"
      ],
      "metadata": {
        "colab": {
          "base_uri": "https://localhost:8080/",
          "height": 72
        },
        "id": "vWwjB0zLlGvi",
        "outputId": "79956315-9bd1-4af8-feb3-b415bacd6fcf"
      },
      "execution_count": null,
      "outputs": [
        {
          "output_type": "execute_result",
          "data": {
            "text/plain": [
              "'* WHAT...North to northeast winds 15 to 25 mph with gusts to 40 mph.  * WHERE...Western San Fernando Valley.  * WHEN...Until 3 PM PDT Thursday.  * IMPACTS...Gusty winds will make driving difficult and could blow around unsecured objects. Tree limbs could be blown down.  * ADDITIONAL DETAILS...'"
            ],
            "application/vnd.google.colaboratory.intrinsic+json": {
              "type": "string"
            }
          },
          "metadata": {},
          "execution_count": 11
        }
      ]
    },
    {
      "cell_type": "markdown",
      "source": [
        "Observamos una muestra de 10 filas para observar estos cambios:"
      ],
      "metadata": {
        "id": "vYLRfViRhJ13"
      }
    },
    {
      "cell_type": "code",
      "source": [
        "df_alertas.sample(10)"
      ],
      "metadata": {
        "colab": {
          "base_uri": "https://localhost:8080/",
          "height": 623
        },
        "id": "t1d2BfTTlRNz",
        "outputId": "c277a1c9-f040-45dc-ea1b-92721b49163e"
      },
      "execution_count": null,
      "outputs": [
        {
          "output_type": "execute_result",
          "data": {
            "text/plain": [
              "                               id                      event  \\\n",
              "126259   5e6db2a9023f1930efb684af   Marine Weather Statement   \n",
              "13535    5ec2fab0283336e2e702e758              Flood Warning   \n",
              "1309469  5f6fb86131a8c6681ca35f59              Wind Advisory   \n",
              "414915   5e6dbb5c023f1930efe181a0              Flood Warning   \n",
              "552665   5e6dbe33023f1930efef178b   Severe Weather Statement   \n",
              "1116289  5e6dcb66023f1930ef2a73e6              Flood Warning   \n",
              "88796    5e6db1f8023f1930efb2ed6f    Winter Weather Advisory   \n",
              "1096670  5e6dcad7023f1930ef2808b6  Special Weather Statement   \n",
              "411519   5e6dd97b023f1930ef63dc8a              Flood Warning   \n",
              "333227   5e6ddb34023f1930ef6a4a8a  Special Weather Statement   \n",
              "\n",
              "                                               description  \\\n",
              "126259   The areas affected include...  Biscayne Bay......   \n",
              "13535    ...The National Weather Service in Northern In...   \n",
              "1309469  The Wind Advisory has been cancelled and is no...   \n",
              "414915   Lower Roanoke River At Roanoke Rapids affectin...   \n",
              "552665   AT 828 PM CDT...A SEVERE THUNDERSTORM CAPABLE ...   \n",
              "1116289  * At 555 AM EDT, Doppler radar and automated r...   \n",
              "88796    * WHAT...Snow...moderate to heavy at times tod...   \n",
              "1096670  At 754 PM PDT, Doppler radar was tracking a st...   \n",
              "411519   Altamaha River At Baxley affecting Appling...T...   \n",
              "333227   At 907 PM CDT, Meteorologists were tracking a ...   \n",
              "\n",
              "                                               instruction    urgency  \\\n",
              "126259   Mariners can expect gusty winds to around 30 k...   Expected   \n",
              "13535    Never drive vehicles through flooded areas. Th...   Expected   \n",
              "1309469  Use extra caution when driving, especially if ...       Past   \n",
              "414915   PRECAUTIONARY/PREPAREDNESS ACTIONS...\\n\\nSafet...  Immediate   \n",
              "552665   HEAVY RAINFALL MAY HIDE THIS TORNADO. DO NOT W...  Immediate   \n",
              "1116289  Most flood deaths occur in vehicles. Do not at...  Immediate   \n",
              "88796    Slow down and use caution while traveling.\\n\\n...   Expected   \n",
              "1096670  Brief torrential rainfall is also occurring wi...   Expected   \n",
              "411519   PRECAUTIONARY/PREPAREDNESS ACTIONS...\\n\\nAll p...  Immediate   \n",
              "333227   High winds can bring down trees and large limb...   Expected   \n",
              "\n",
              "         severity  \n",
              "126259      Minor  \n",
              "13535      Severe  \n",
              "1309469     Minor  \n",
              "414915     Severe  \n",
              "552665    Extreme  \n",
              "1116289    Severe  \n",
              "88796    Moderate  \n",
              "1096670  Moderate  \n",
              "411519     Severe  \n",
              "333227   Moderate  "
            ],
            "text/html": [
              "\n",
              "  <div id=\"df-5bed6b57-f271-42e8-88f1-06e5ca80b651\" class=\"colab-df-container\">\n",
              "    <div>\n",
              "<style scoped>\n",
              "    .dataframe tbody tr th:only-of-type {\n",
              "        vertical-align: middle;\n",
              "    }\n",
              "\n",
              "    .dataframe tbody tr th {\n",
              "        vertical-align: top;\n",
              "    }\n",
              "\n",
              "    .dataframe thead th {\n",
              "        text-align: right;\n",
              "    }\n",
              "</style>\n",
              "<table border=\"1\" class=\"dataframe\">\n",
              "  <thead>\n",
              "    <tr style=\"text-align: right;\">\n",
              "      <th></th>\n",
              "      <th>id</th>\n",
              "      <th>event</th>\n",
              "      <th>description</th>\n",
              "      <th>instruction</th>\n",
              "      <th>urgency</th>\n",
              "      <th>severity</th>\n",
              "    </tr>\n",
              "  </thead>\n",
              "  <tbody>\n",
              "    <tr>\n",
              "      <th>126259</th>\n",
              "      <td>5e6db2a9023f1930efb684af</td>\n",
              "      <td>Marine Weather Statement</td>\n",
              "      <td>The areas affected include...  Biscayne Bay......</td>\n",
              "      <td>Mariners can expect gusty winds to around 30 k...</td>\n",
              "      <td>Expected</td>\n",
              "      <td>Minor</td>\n",
              "    </tr>\n",
              "    <tr>\n",
              "      <th>13535</th>\n",
              "      <td>5ec2fab0283336e2e702e758</td>\n",
              "      <td>Flood Warning</td>\n",
              "      <td>...The National Weather Service in Northern In...</td>\n",
              "      <td>Never drive vehicles through flooded areas. Th...</td>\n",
              "      <td>Expected</td>\n",
              "      <td>Severe</td>\n",
              "    </tr>\n",
              "    <tr>\n",
              "      <th>1309469</th>\n",
              "      <td>5f6fb86131a8c6681ca35f59</td>\n",
              "      <td>Wind Advisory</td>\n",
              "      <td>The Wind Advisory has been cancelled and is no...</td>\n",
              "      <td>Use extra caution when driving, especially if ...</td>\n",
              "      <td>Past</td>\n",
              "      <td>Minor</td>\n",
              "    </tr>\n",
              "    <tr>\n",
              "      <th>414915</th>\n",
              "      <td>5e6dbb5c023f1930efe181a0</td>\n",
              "      <td>Flood Warning</td>\n",
              "      <td>Lower Roanoke River At Roanoke Rapids affectin...</td>\n",
              "      <td>PRECAUTIONARY/PREPAREDNESS ACTIONS...\\n\\nSafet...</td>\n",
              "      <td>Immediate</td>\n",
              "      <td>Severe</td>\n",
              "    </tr>\n",
              "    <tr>\n",
              "      <th>552665</th>\n",
              "      <td>5e6dbe33023f1930efef178b</td>\n",
              "      <td>Severe Weather Statement</td>\n",
              "      <td>AT 828 PM CDT...A SEVERE THUNDERSTORM CAPABLE ...</td>\n",
              "      <td>HEAVY RAINFALL MAY HIDE THIS TORNADO. DO NOT W...</td>\n",
              "      <td>Immediate</td>\n",
              "      <td>Extreme</td>\n",
              "    </tr>\n",
              "    <tr>\n",
              "      <th>1116289</th>\n",
              "      <td>5e6dcb66023f1930ef2a73e6</td>\n",
              "      <td>Flood Warning</td>\n",
              "      <td>* At 555 AM EDT, Doppler radar and automated r...</td>\n",
              "      <td>Most flood deaths occur in vehicles. Do not at...</td>\n",
              "      <td>Immediate</td>\n",
              "      <td>Severe</td>\n",
              "    </tr>\n",
              "    <tr>\n",
              "      <th>88796</th>\n",
              "      <td>5e6db1f8023f1930efb2ed6f</td>\n",
              "      <td>Winter Weather Advisory</td>\n",
              "      <td>* WHAT...Snow...moderate to heavy at times tod...</td>\n",
              "      <td>Slow down and use caution while traveling.\\n\\n...</td>\n",
              "      <td>Expected</td>\n",
              "      <td>Moderate</td>\n",
              "    </tr>\n",
              "    <tr>\n",
              "      <th>1096670</th>\n",
              "      <td>5e6dcad7023f1930ef2808b6</td>\n",
              "      <td>Special Weather Statement</td>\n",
              "      <td>At 754 PM PDT, Doppler radar was tracking a st...</td>\n",
              "      <td>Brief torrential rainfall is also occurring wi...</td>\n",
              "      <td>Expected</td>\n",
              "      <td>Moderate</td>\n",
              "    </tr>\n",
              "    <tr>\n",
              "      <th>411519</th>\n",
              "      <td>5e6dd97b023f1930ef63dc8a</td>\n",
              "      <td>Flood Warning</td>\n",
              "      <td>Altamaha River At Baxley affecting Appling...T...</td>\n",
              "      <td>PRECAUTIONARY/PREPAREDNESS ACTIONS...\\n\\nAll p...</td>\n",
              "      <td>Immediate</td>\n",
              "      <td>Severe</td>\n",
              "    </tr>\n",
              "    <tr>\n",
              "      <th>333227</th>\n",
              "      <td>5e6ddb34023f1930ef6a4a8a</td>\n",
              "      <td>Special Weather Statement</td>\n",
              "      <td>At 907 PM CDT, Meteorologists were tracking a ...</td>\n",
              "      <td>High winds can bring down trees and large limb...</td>\n",
              "      <td>Expected</td>\n",
              "      <td>Moderate</td>\n",
              "    </tr>\n",
              "  </tbody>\n",
              "</table>\n",
              "</div>\n",
              "    <div class=\"colab-df-buttons\">\n",
              "\n",
              "  <div class=\"colab-df-container\">\n",
              "    <button class=\"colab-df-convert\" onclick=\"convertToInteractive('df-5bed6b57-f271-42e8-88f1-06e5ca80b651')\"\n",
              "            title=\"Convert this dataframe to an interactive table.\"\n",
              "            style=\"display:none;\">\n",
              "\n",
              "  <svg xmlns=\"http://www.w3.org/2000/svg\" height=\"24px\" viewBox=\"0 -960 960 960\">\n",
              "    <path d=\"M120-120v-720h720v720H120Zm60-500h600v-160H180v160Zm220 220h160v-160H400v160Zm0 220h160v-160H400v160ZM180-400h160v-160H180v160Zm440 0h160v-160H620v160ZM180-180h160v-160H180v160Zm440 0h160v-160H620v160Z\"/>\n",
              "  </svg>\n",
              "    </button>\n",
              "\n",
              "  <style>\n",
              "    .colab-df-container {\n",
              "      display:flex;\n",
              "      gap: 12px;\n",
              "    }\n",
              "\n",
              "    .colab-df-convert {\n",
              "      background-color: #E8F0FE;\n",
              "      border: none;\n",
              "      border-radius: 50%;\n",
              "      cursor: pointer;\n",
              "      display: none;\n",
              "      fill: #1967D2;\n",
              "      height: 32px;\n",
              "      padding: 0 0 0 0;\n",
              "      width: 32px;\n",
              "    }\n",
              "\n",
              "    .colab-df-convert:hover {\n",
              "      background-color: #E2EBFA;\n",
              "      box-shadow: 0px 1px 2px rgba(60, 64, 67, 0.3), 0px 1px 3px 1px rgba(60, 64, 67, 0.15);\n",
              "      fill: #174EA6;\n",
              "    }\n",
              "\n",
              "    .colab-df-buttons div {\n",
              "      margin-bottom: 4px;\n",
              "    }\n",
              "\n",
              "    [theme=dark] .colab-df-convert {\n",
              "      background-color: #3B4455;\n",
              "      fill: #D2E3FC;\n",
              "    }\n",
              "\n",
              "    [theme=dark] .colab-df-convert:hover {\n",
              "      background-color: #434B5C;\n",
              "      box-shadow: 0px 1px 3px 1px rgba(0, 0, 0, 0.15);\n",
              "      filter: drop-shadow(0px 1px 2px rgba(0, 0, 0, 0.3));\n",
              "      fill: #FFFFFF;\n",
              "    }\n",
              "  </style>\n",
              "\n",
              "    <script>\n",
              "      const buttonEl =\n",
              "        document.querySelector('#df-5bed6b57-f271-42e8-88f1-06e5ca80b651 button.colab-df-convert');\n",
              "      buttonEl.style.display =\n",
              "        google.colab.kernel.accessAllowed ? 'block' : 'none';\n",
              "\n",
              "      async function convertToInteractive(key) {\n",
              "        const element = document.querySelector('#df-5bed6b57-f271-42e8-88f1-06e5ca80b651');\n",
              "        const dataTable =\n",
              "          await google.colab.kernel.invokeFunction('convertToInteractive',\n",
              "                                                    [key], {});\n",
              "        if (!dataTable) return;\n",
              "\n",
              "        const docLinkHtml = 'Like what you see? Visit the ' +\n",
              "          '<a target=\"_blank\" href=https://colab.research.google.com/notebooks/data_table.ipynb>data table notebook</a>'\n",
              "          + ' to learn more about interactive tables.';\n",
              "        element.innerHTML = '';\n",
              "        dataTable['output_type'] = 'display_data';\n",
              "        await google.colab.output.renderOutput(dataTable, element);\n",
              "        const docLink = document.createElement('div');\n",
              "        docLink.innerHTML = docLinkHtml;\n",
              "        element.appendChild(docLink);\n",
              "      }\n",
              "    </script>\n",
              "  </div>\n",
              "\n",
              "\n",
              "<div id=\"df-745d4cef-7afa-48d5-96ff-830c7aae689b\">\n",
              "  <button class=\"colab-df-quickchart\" onclick=\"quickchart('df-745d4cef-7afa-48d5-96ff-830c7aae689b')\"\n",
              "            title=\"Suggest charts\"\n",
              "            style=\"display:none;\">\n",
              "\n",
              "<svg xmlns=\"http://www.w3.org/2000/svg\" height=\"24px\"viewBox=\"0 0 24 24\"\n",
              "     width=\"24px\">\n",
              "    <g>\n",
              "        <path d=\"M19 3H5c-1.1 0-2 .9-2 2v14c0 1.1.9 2 2 2h14c1.1 0 2-.9 2-2V5c0-1.1-.9-2-2-2zM9 17H7v-7h2v7zm4 0h-2V7h2v10zm4 0h-2v-4h2v4z\"/>\n",
              "    </g>\n",
              "</svg>\n",
              "  </button>\n",
              "\n",
              "<style>\n",
              "  .colab-df-quickchart {\n",
              "      --bg-color: #E8F0FE;\n",
              "      --fill-color: #1967D2;\n",
              "      --hover-bg-color: #E2EBFA;\n",
              "      --hover-fill-color: #174EA6;\n",
              "      --disabled-fill-color: #AAA;\n",
              "      --disabled-bg-color: #DDD;\n",
              "  }\n",
              "\n",
              "  [theme=dark] .colab-df-quickchart {\n",
              "      --bg-color: #3B4455;\n",
              "      --fill-color: #D2E3FC;\n",
              "      --hover-bg-color: #434B5C;\n",
              "      --hover-fill-color: #FFFFFF;\n",
              "      --disabled-bg-color: #3B4455;\n",
              "      --disabled-fill-color: #666;\n",
              "  }\n",
              "\n",
              "  .colab-df-quickchart {\n",
              "    background-color: var(--bg-color);\n",
              "    border: none;\n",
              "    border-radius: 50%;\n",
              "    cursor: pointer;\n",
              "    display: none;\n",
              "    fill: var(--fill-color);\n",
              "    height: 32px;\n",
              "    padding: 0;\n",
              "    width: 32px;\n",
              "  }\n",
              "\n",
              "  .colab-df-quickchart:hover {\n",
              "    background-color: var(--hover-bg-color);\n",
              "    box-shadow: 0 1px 2px rgba(60, 64, 67, 0.3), 0 1px 3px 1px rgba(60, 64, 67, 0.15);\n",
              "    fill: var(--button-hover-fill-color);\n",
              "  }\n",
              "\n",
              "  .colab-df-quickchart-complete:disabled,\n",
              "  .colab-df-quickchart-complete:disabled:hover {\n",
              "    background-color: var(--disabled-bg-color);\n",
              "    fill: var(--disabled-fill-color);\n",
              "    box-shadow: none;\n",
              "  }\n",
              "\n",
              "  .colab-df-spinner {\n",
              "    border: 2px solid var(--fill-color);\n",
              "    border-color: transparent;\n",
              "    border-bottom-color: var(--fill-color);\n",
              "    animation:\n",
              "      spin 1s steps(1) infinite;\n",
              "  }\n",
              "\n",
              "  @keyframes spin {\n",
              "    0% {\n",
              "      border-color: transparent;\n",
              "      border-bottom-color: var(--fill-color);\n",
              "      border-left-color: var(--fill-color);\n",
              "    }\n",
              "    20% {\n",
              "      border-color: transparent;\n",
              "      border-left-color: var(--fill-color);\n",
              "      border-top-color: var(--fill-color);\n",
              "    }\n",
              "    30% {\n",
              "      border-color: transparent;\n",
              "      border-left-color: var(--fill-color);\n",
              "      border-top-color: var(--fill-color);\n",
              "      border-right-color: var(--fill-color);\n",
              "    }\n",
              "    40% {\n",
              "      border-color: transparent;\n",
              "      border-right-color: var(--fill-color);\n",
              "      border-top-color: var(--fill-color);\n",
              "    }\n",
              "    60% {\n",
              "      border-color: transparent;\n",
              "      border-right-color: var(--fill-color);\n",
              "    }\n",
              "    80% {\n",
              "      border-color: transparent;\n",
              "      border-right-color: var(--fill-color);\n",
              "      border-bottom-color: var(--fill-color);\n",
              "    }\n",
              "    90% {\n",
              "      border-color: transparent;\n",
              "      border-bottom-color: var(--fill-color);\n",
              "    }\n",
              "  }\n",
              "</style>\n",
              "\n",
              "  <script>\n",
              "    async function quickchart(key) {\n",
              "      const quickchartButtonEl =\n",
              "        document.querySelector('#' + key + ' button');\n",
              "      quickchartButtonEl.disabled = true;  // To prevent multiple clicks.\n",
              "      quickchartButtonEl.classList.add('colab-df-spinner');\n",
              "      try {\n",
              "        const charts = await google.colab.kernel.invokeFunction(\n",
              "            'suggestCharts', [key], {});\n",
              "      } catch (error) {\n",
              "        console.error('Error during call to suggestCharts:', error);\n",
              "      }\n",
              "      quickchartButtonEl.classList.remove('colab-df-spinner');\n",
              "      quickchartButtonEl.classList.add('colab-df-quickchart-complete');\n",
              "    }\n",
              "    (() => {\n",
              "      let quickchartButtonEl =\n",
              "        document.querySelector('#df-745d4cef-7afa-48d5-96ff-830c7aae689b button');\n",
              "      quickchartButtonEl.style.display =\n",
              "        google.colab.kernel.accessAllowed ? 'block' : 'none';\n",
              "    })();\n",
              "  </script>\n",
              "</div>\n",
              "\n",
              "    </div>\n",
              "  </div>\n"
            ],
            "application/vnd.google.colaboratory.intrinsic+json": {
              "type": "dataframe",
              "summary": "{\n  \"name\": \"df_alertas\",\n  \"rows\": 10,\n  \"fields\": [\n    {\n      \"column\": \"id\",\n      \"properties\": {\n        \"dtype\": \"string\",\n        \"num_unique_values\": 10,\n        \"samples\": [\n          \"5e6dd97b023f1930ef63dc8a\",\n          \"5ec2fab0283336e2e702e758\",\n          \"5e6dcb66023f1930ef2a73e6\"\n        ],\n        \"semantic_type\": \"\",\n        \"description\": \"\"\n      }\n    },\n    {\n      \"column\": \"event\",\n      \"properties\": {\n        \"dtype\": \"string\",\n        \"num_unique_values\": 6,\n        \"samples\": [\n          \"Marine Weather Statement\",\n          \"Flood Warning\",\n          \"Special Weather Statement\"\n        ],\n        \"semantic_type\": \"\",\n        \"description\": \"\"\n      }\n    },\n    {\n      \"column\": \"description\",\n      \"properties\": {\n        \"dtype\": \"string\",\n        \"num_unique_values\": 10,\n        \"samples\": [\n          \"Altamaha River At Baxley affecting Appling...Tattnall...Toombs and Wayne Counties  Altamaha River At Charlotteville affecting Jeff Davis...Montgomery and Toombs Counties  Altamaha River At Doctortown affecting Long and Wayne Counties  Altamaha River At Everett City affecting Glynn...McIntosh and Wayne Counties \",\n          \"...The National Weather Service in Northern Indiana has issued a Flood Warning for the following rivers...  Salamonie River below Warren affecting Blackford...Huntington... Jay...Wabash and Wells Counties Wabash River at Wabash affecting Cass...Miami and Wabash Counties  .Recent heavy rain, and additional rain expected through Tuesday, will likely result in minor river flooding.  The National Weather Service in Northern Indiana has issued a  * Flood Warning for The Wabash River at Wabash * from Tuesday morning to Wednesday morning. * At 10 AM Monday the stage was 9.2 feet and rising. * Minor flooding is forecast. * Flood stage is 14.0 feet. * Forecast...The river is expected to rise to near flood stage around 8 AM Tuesday May 19. * At 14.0 feet...Lowland flooding begins in rural Wabash County. * This crest compares to a previous crest of 14.4 feet which occurred on Apr 6 2009.\",\n          \"* At 555 AM EDT, Doppler radar and automated rain gauges indicated that heavy rain was falling over the area. The heavy rain will cause flooding.  2-3 inches of rain have fallen over the past 24 hours.  An additional 2-3 inches of rain is likely over the next 12-24 hours.  * Some locations that will experience flooding include... Downtown Concord, Northeast Charlotte, West Concord, Mint Hill, Indian Trail, Unionville, Harrisburg, Lake Park, and Hemby Bridge.  * The following streamgauge has exceeded Minor Flood Stage: Mallard Creek at Pavilion Blvd. 4 WNW Harrisburg Current Stage: 13.06 ft / Minor Flood Stage: 13.0 ft Impacts: At 13.0 ft, Low-lying areas and the Mallard Creek Greenway near North Tryon Street (U.S. Route 29) and East Mallard Creek Church Road, upstream of the streamgauge, may flood.  * The following streamgauges are above Action Stage and may exceed Minor Flood Stage: Back Creek at Caldwell Rd. near Harrisburg Rocky River above Irish Buffalo Creek 5 W Georgeville Goose Creek at Mill Grove Rd. 4 NE Indian Trail  * Flooding of numerous small and large streams is likely, including: Rocky River, Goose Creek, Back Creek, Mallard Creek, Mill Creek, Cold Water Creek, Reedy Creek, Clarke Creek, Crooked Creek. \"\n        ],\n        \"semantic_type\": \"\",\n        \"description\": \"\"\n      }\n    },\n    {\n      \"column\": \"instruction\",\n      \"properties\": {\n        \"dtype\": \"string\",\n        \"num_unique_values\": 10,\n        \"samples\": [\n          \"PRECAUTIONARY/PREPAREDNESS ACTIONS...\\n\\nAll persons with interest along the river should monitor the latest\\nforecasts...And be prepared to take necessary precautions to protect\\nlife and property. Do not drive cars through flooded areas. If you\\nsee flood waters...Remember to turn around and do not drown.\\n\\nFor graphical hydrologic information...Please go to weather.gov and\\nclick on your state. Select Rivers and Lakes under current weather.\\nThe Advanced Hydrologic Prediction Service page provides current and\\nforecast river information...Gage locations...Impacts... and\\nhistorical crest information for all forecast points by clicking on\\neach point.\\n\\n\",\n          \"Never drive vehicles through flooded areas. The water may be too deep\\nto allow safe passage. Never allow children to play in or near flood\\nwaters. Stay tuned to NOAA Weather Radio or local media for further\\nstatements and updated forecasts.\\n\\nDetailed river forecasts and more information can be found on the\\ninternet at www.weather.gov/iwx under Rivers and Lakes.\\n\\nAll times are in Eastern Time. This statement will be updated in\\nabout 24 hours or sooner if necessary.\",\n          \"Most flood deaths occur in vehicles. Do not attempt to cross\\nwater-covered roadways, bridges, or low-level crossings. Only a few\\ninches of rapidly flowing water can carry away your vehicle. It is\\nnot worth the risk. Please TURN AROUND, DON'T DROWN.\\n\\nExcessive runoff from heavy rainfall will cause flooding of small\\ncreeks and streams, highways, and underpasses. Addditionally, country\\nroads and farmlands along the banks of creeks, streams, and other\\nlow-lying areas are subject to flooding.\\n\\nWhen it is safe to do so, please report flood waters or landslides\\nflowing over roads or threatening property to the National Weather\\nService by calling toll free, 1, 800, 2 6 7, 8 1 0 1, by posting on\\nour Facebook page, or via Twitter using hashtag NWSGSP.\\n\\n\"\n        ],\n        \"semantic_type\": \"\",\n        \"description\": \"\"\n      }\n    },\n    {\n      \"column\": \"urgency\",\n      \"properties\": {\n        \"dtype\": \"category\",\n        \"num_unique_values\": 3,\n        \"samples\": [\n          \"Expected\",\n          \"Past\",\n          \"Immediate\"\n        ],\n        \"semantic_type\": \"\",\n        \"description\": \"\"\n      }\n    },\n    {\n      \"column\": \"severity\",\n      \"properties\": {\n        \"dtype\": \"category\",\n        \"num_unique_values\": 4,\n        \"samples\": [\n          \"Severe\",\n          \"Moderate\",\n          \"Minor\"\n        ],\n        \"semantic_type\": \"\",\n        \"description\": \"\"\n      }\n    }\n  ]\n}"
            }
          },
          "metadata": {},
          "execution_count": 12
        }
      ]
    },
    {
      "cell_type": "markdown",
      "source": [
        "###Normalización:\n",
        "La normalización es una tarea que tiene como objetivo poner todo el texto en igualdad de condiciones:\n",
        "- Convertir todo el texto en mayúscula o minúsculas\n",
        "- Eliminar, puntos, comas, comillas, etc.\n",
        "- Convertir los números a su equivalente a palabras\n",
        "- Quitar las Stop-words\n",
        "Empezamos con pasar todo el texto a minuscula:\n",
        "\n",
        "\n"
      ],
      "metadata": {
        "id": "oBF5eHWAlntG"
      }
    },
    {
      "cell_type": "code",
      "source": [
        "df_alertas['description'] = df_alertas['description'].str.lower()\n",
        "df_alertas['description'].iloc[142406] #Probamos esa fila"
      ],
      "metadata": {
        "colab": {
          "base_uri": "https://localhost:8080/",
          "height": 72
        },
        "id": "xYQaMCa1m6Ki",
        "outputId": "219b8a3d-1f08-4000-9f80-91dd9aeded91"
      },
      "execution_count": null,
      "outputs": [
        {
          "output_type": "execute_result",
          "data": {
            "text/plain": [
              "'* what...north to northeast winds 15 to 25 mph with gusts to 40 mph.  * where...western san fernando valley.  * when...until 3 pm pdt thursday.  * impacts...gusty winds will make driving difficult and could blow around unsecured objects. tree limbs could be blown down.  * additional details...'"
            ],
            "application/vnd.google.colaboratory.intrinsic+json": {
              "type": "string"
            }
          },
          "metadata": {},
          "execution_count": 13
        }
      ]
    },
    {
      "cell_type": "markdown",
      "source": [
        "Eliminar, puntos, comas, comillas, etc. Para ello utilizamos expresiones regulares."
      ],
      "metadata": {
        "id": "bPMdmSEwn0K6"
      }
    },
    {
      "cell_type": "code",
      "source": [
        "import re\n",
        "\n",
        "# Eliminar puntuación usando expresiones regulares\n",
        "df_alertas['description'] = df_alertas['description'].str.replace(r'[^\\w\\s]', '', regex=True)\n",
        "\n",
        "df_alertas['description'].iloc[142406] #Probamos esa fila"
      ],
      "metadata": {
        "colab": {
          "base_uri": "https://localhost:8080/",
          "height": 54
        },
        "id": "5MJEYlPBn1lw",
        "outputId": "34380d0c-6497-4bd6-e3aa-54763e606e72"
      },
      "execution_count": null,
      "outputs": [
        {
          "output_type": "execute_result",
          "data": {
            "text/plain": [
              "' whatnorth to northeast winds 15 to 25 mph with gusts to 40 mph   wherewestern san fernando valley   whenuntil 3 pm pdt thursday   impactsgusty winds will make driving difficult and could blow around unsecured objects tree limbs could be blown down   additional details'"
            ],
            "application/vnd.google.colaboratory.intrinsic+json": {
              "type": "string"
            }
          },
          "metadata": {},
          "execution_count": 14
        }
      ]
    },
    {
      "cell_type": "markdown",
      "source": [
        "Pasando numeros a letras. Usamos la libreria num2words"
      ],
      "metadata": {
        "id": "f1AZ3JzupiWZ"
      }
    },
    {
      "cell_type": "code",
      "source": [
        "!pip install num2words\n"
      ],
      "metadata": {
        "colab": {
          "base_uri": "https://localhost:8080/"
        },
        "id": "WZb6ZAP4pdSH",
        "outputId": "f10d8de1-e2a3-492b-da7b-9eecc4834aaf"
      },
      "execution_count": null,
      "outputs": [
        {
          "output_type": "stream",
          "name": "stdout",
          "text": [
            "Requirement already satisfied: num2words in /usr/local/lib/python3.10/dist-packages (0.5.13)\n",
            "Requirement already satisfied: docopt>=0.6.2 in /usr/local/lib/python3.10/dist-packages (from num2words) (0.6.2)\n"
          ]
        }
      ]
    },
    {
      "cell_type": "code",
      "source": [
        "from num2words import num2words\n",
        "\n",
        "# Función para extraer números de una cadena de texto y convertirlos en palabras\n",
        "def convert_numbers_to_words(text):\n",
        "    numbers = re.findall(r'\\d+', text) #Busca numeros\n",
        "    for number in numbers:\n",
        "        text = text.replace(number, num2words(int(number)))\n",
        "    return text\n",
        "\n",
        "df_alertas['description'] = df_alertas['description'].apply(convert_numbers_to_words)\n",
        "\n",
        "df_alertas['description'].iloc[142406] #Probamos esa fila"
      ],
      "metadata": {
        "colab": {
          "base_uri": "https://localhost:8080/",
          "height": 72
        },
        "id": "0FbODkEarlRT",
        "outputId": "376561f3-9084-44eb-ef4e-2d52ff4ad2bb"
      },
      "execution_count": null,
      "outputs": [
        {
          "output_type": "execute_result",
          "data": {
            "text/plain": [
              "' whatnorth to northeast winds fifteen to twenty-five mph with gusts to forty mph   wherewestern san fernando valley   whenuntil three pm pdt thursday   impactsgusty winds will make driving difficult and could blow around unsecured objects tree limbs could be blown down   additional details'"
            ],
            "application/vnd.google.colaboratory.intrinsic+json": {
              "type": "string"
            }
          },
          "metadata": {},
          "execution_count": 16
        }
      ]
    },
    {
      "cell_type": "markdown",
      "source": [
        "###Tokenización:\n",
        "\n",
        "Este paso tiene como objetivo dividir las cadenas de texto del documento en piezas más pequeñas o tokens.\n",
        "Aunque la tokenización es el proceso de dividir grandes cadenas de texto en cadenas más pequeñas, se suele diferenciar la:\n",
        "- Segmentation: Tarea de dividir grandes cadenas de texto en piezas más pequeñas como oraciones o párrafos.\n",
        "- Tokenization: Tarea de dividir grandes cadenas de texto solo y exclusivamente en palabras.\n",
        "\n",
        "Se va a usar la biblioteca NLTK."
      ],
      "metadata": {
        "id": "djMAeko76-s0"
      }
    },
    {
      "cell_type": "code",
      "source": [
        "!pip install nltk"
      ],
      "metadata": {
        "id": "hy_eyWtg7AUV",
        "outputId": "f68713c1-358b-4791-8007-e631d4a23fa7",
        "colab": {
          "base_uri": "https://localhost:8080/"
        }
      },
      "execution_count": null,
      "outputs": [
        {
          "output_type": "stream",
          "name": "stdout",
          "text": [
            "Requirement already satisfied: nltk in /usr/local/lib/python3.10/dist-packages (3.8.1)\n",
            "Requirement already satisfied: click in /usr/local/lib/python3.10/dist-packages (from nltk) (8.1.7)\n",
            "Requirement already satisfied: joblib in /usr/local/lib/python3.10/dist-packages (from nltk) (1.4.2)\n",
            "Requirement already satisfied: regex>=2021.8.3 in /usr/local/lib/python3.10/dist-packages (from nltk) (2023.12.25)\n",
            "Requirement already satisfied: tqdm in /usr/local/lib/python3.10/dist-packages (from nltk) (4.66.4)\n"
          ]
        }
      ]
    },
    {
      "cell_type": "code",
      "source": [
        "import nltk"
      ],
      "metadata": {
        "id": "5-DZF2M79UW4"
      },
      "execution_count": null,
      "outputs": []
    },
    {
      "cell_type": "markdown",
      "source": [
        "Se descarga el modelo pre entrenado 'punkt' para realizar la tokenizacion de manera efectiva."
      ],
      "metadata": {
        "id": "CgBDSEcC9XoD"
      }
    },
    {
      "cell_type": "code",
      "source": [
        "nltk.download('punkt')"
      ],
      "metadata": {
        "id": "7S8_h7MX9LzA",
        "outputId": "6db56774-c32f-422b-a7b6-720c2663fdc9",
        "colab": {
          "base_uri": "https://localhost:8080/"
        }
      },
      "execution_count": null,
      "outputs": [
        {
          "output_type": "stream",
          "name": "stderr",
          "text": [
            "[nltk_data] Downloading package punkt to /root/nltk_data...\n",
            "[nltk_data]   Package punkt is already up-to-date!\n"
          ]
        },
        {
          "output_type": "execute_result",
          "data": {
            "text/plain": [
              "True"
            ]
          },
          "metadata": {},
          "execution_count": 23
        }
      ]
    },
    {
      "cell_type": "markdown",
      "source": [
        "Se hace este proceso en lotes ya que es un extenso el dataset"
      ],
      "metadata": {
        "id": "lmfUdmX_oUcw"
      }
    },
    {
      "cell_type": "code",
      "source": [
        "#tokenizar texto en lotes\n",
        "def tokenizador(texts, batch_size=100):\n",
        "    tokenized_texts = []\n",
        "    for i in range(0, len(texts), batch_size):\n",
        "        batch = texts[i:i+batch_size]\n",
        "        tokenized_batch = [nltk.word_tokenize(str(text)) for text in batch]\n",
        "        tokenized_texts.extend(tokenized_batch)\n",
        "    return tokenized_texts\n",
        "\n",
        "# Tokenizar en lotes y aplicar a la columna \"description\"\n",
        "batch_size = 100\n",
        "df_alertas['description_token'] = tokenizador(df_alertas['description'], batch_size)"
      ],
      "metadata": {
        "id": "pL1dn509wRBL"
      },
      "execution_count": null,
      "outputs": []
    },
    {
      "cell_type": "code",
      "source": [
        "df_alertas['description'].iloc[142406] #Probamos esa fila"
      ],
      "metadata": {
        "id": "0G6iM49s-kBP"
      },
      "execution_count": null,
      "outputs": []
    },
    {
      "cell_type": "code",
      "source": [
        "df_alertas['description_token']"
      ],
      "metadata": {
        "id": "N_ctDca9wXVE"
      },
      "execution_count": null,
      "outputs": []
    },
    {
      "cell_type": "markdown",
      "source": [
        "Ahora las se elimina las stop words que son palabras que se filtran o eliminan del texto durante el procesamiento del lenguaje natural (NLP) porque se consideran comunes y no aportan un significado informativo específico para el análisis. Usamos la libreria spacy"
      ],
      "metadata": {
        "id": "OiGY8PPzrknC"
      }
    },
    {
      "cell_type": "code",
      "source": [
        "!pip install spacy\n",
        "!python -m spacy download en_core_web_sm"
      ],
      "metadata": {
        "colab": {
          "base_uri": "https://localhost:8080/"
        },
        "id": "T_AM-pbivKeB",
        "outputId": "9f633fa4-3f6e-4759-c0b6-361071a3077e"
      },
      "execution_count": null,
      "outputs": [
        {
          "output_type": "stream",
          "name": "stdout",
          "text": [
            "Requirement already satisfied: spacy in /usr/local/lib/python3.10/dist-packages (3.7.4)\n",
            "Requirement already satisfied: spacy-legacy<3.1.0,>=3.0.11 in /usr/local/lib/python3.10/dist-packages (from spacy) (3.0.12)\n",
            "Requirement already satisfied: spacy-loggers<2.0.0,>=1.0.0 in /usr/local/lib/python3.10/dist-packages (from spacy) (1.0.5)\n",
            "Requirement already satisfied: murmurhash<1.1.0,>=0.28.0 in /usr/local/lib/python3.10/dist-packages (from spacy) (1.0.10)\n",
            "Requirement already satisfied: cymem<2.1.0,>=2.0.2 in /usr/local/lib/python3.10/dist-packages (from spacy) (2.0.8)\n",
            "Requirement already satisfied: preshed<3.1.0,>=3.0.2 in /usr/local/lib/python3.10/dist-packages (from spacy) (3.0.9)\n",
            "Requirement already satisfied: thinc<8.3.0,>=8.2.2 in /usr/local/lib/python3.10/dist-packages (from spacy) (8.2.3)\n",
            "Requirement already satisfied: wasabi<1.2.0,>=0.9.1 in /usr/local/lib/python3.10/dist-packages (from spacy) (1.1.2)\n",
            "Requirement already satisfied: srsly<3.0.0,>=2.4.3 in /usr/local/lib/python3.10/dist-packages (from spacy) (2.4.8)\n",
            "Requirement already satisfied: catalogue<2.1.0,>=2.0.6 in /usr/local/lib/python3.10/dist-packages (from spacy) (2.0.10)\n",
            "Requirement already satisfied: weasel<0.4.0,>=0.1.0 in /usr/local/lib/python3.10/dist-packages (from spacy) (0.3.4)\n",
            "Requirement already satisfied: typer<0.10.0,>=0.3.0 in /usr/local/lib/python3.10/dist-packages (from spacy) (0.9.4)\n",
            "Requirement already satisfied: smart-open<7.0.0,>=5.2.1 in /usr/local/lib/python3.10/dist-packages (from spacy) (6.4.0)\n",
            "Requirement already satisfied: tqdm<5.0.0,>=4.38.0 in /usr/local/lib/python3.10/dist-packages (from spacy) (4.66.4)\n",
            "Requirement already satisfied: requests<3.0.0,>=2.13.0 in /usr/local/lib/python3.10/dist-packages (from spacy) (2.31.0)\n",
            "Requirement already satisfied: pydantic!=1.8,!=1.8.1,<3.0.0,>=1.7.4 in /usr/local/lib/python3.10/dist-packages (from spacy) (2.7.1)\n",
            "Requirement already satisfied: jinja2 in /usr/local/lib/python3.10/dist-packages (from spacy) (3.1.4)\n",
            "Requirement already satisfied: setuptools in /usr/local/lib/python3.10/dist-packages (from spacy) (67.7.2)\n",
            "Requirement already satisfied: packaging>=20.0 in /usr/local/lib/python3.10/dist-packages (from spacy) (24.0)\n",
            "Requirement already satisfied: langcodes<4.0.0,>=3.2.0 in /usr/local/lib/python3.10/dist-packages (from spacy) (3.4.0)\n",
            "Requirement already satisfied: numpy>=1.19.0 in /usr/local/lib/python3.10/dist-packages (from spacy) (1.25.2)\n",
            "Requirement already satisfied: language-data>=1.2 in /usr/local/lib/python3.10/dist-packages (from langcodes<4.0.0,>=3.2.0->spacy) (1.2.0)\n",
            "Requirement already satisfied: annotated-types>=0.4.0 in /usr/local/lib/python3.10/dist-packages (from pydantic!=1.8,!=1.8.1,<3.0.0,>=1.7.4->spacy) (0.7.0)\n",
            "Requirement already satisfied: pydantic-core==2.18.2 in /usr/local/lib/python3.10/dist-packages (from pydantic!=1.8,!=1.8.1,<3.0.0,>=1.7.4->spacy) (2.18.2)\n",
            "Requirement already satisfied: typing-extensions>=4.6.1 in /usr/local/lib/python3.10/dist-packages (from pydantic!=1.8,!=1.8.1,<3.0.0,>=1.7.4->spacy) (4.11.0)\n",
            "Requirement already satisfied: charset-normalizer<4,>=2 in /usr/local/lib/python3.10/dist-packages (from requests<3.0.0,>=2.13.0->spacy) (3.3.2)\n",
            "Requirement already satisfied: idna<4,>=2.5 in /usr/local/lib/python3.10/dist-packages (from requests<3.0.0,>=2.13.0->spacy) (3.7)\n",
            "Requirement already satisfied: urllib3<3,>=1.21.1 in /usr/local/lib/python3.10/dist-packages (from requests<3.0.0,>=2.13.0->spacy) (2.0.7)\n",
            "Requirement already satisfied: certifi>=2017.4.17 in /usr/local/lib/python3.10/dist-packages (from requests<3.0.0,>=2.13.0->spacy) (2024.2.2)\n",
            "Requirement already satisfied: blis<0.8.0,>=0.7.8 in /usr/local/lib/python3.10/dist-packages (from thinc<8.3.0,>=8.2.2->spacy) (0.7.11)\n",
            "Requirement already satisfied: confection<1.0.0,>=0.0.1 in /usr/local/lib/python3.10/dist-packages (from thinc<8.3.0,>=8.2.2->spacy) (0.1.4)\n",
            "Requirement already satisfied: click<9.0.0,>=7.1.1 in /usr/local/lib/python3.10/dist-packages (from typer<0.10.0,>=0.3.0->spacy) (8.1.7)\n",
            "Requirement already satisfied: cloudpathlib<0.17.0,>=0.7.0 in /usr/local/lib/python3.10/dist-packages (from weasel<0.4.0,>=0.1.0->spacy) (0.16.0)\n",
            "Requirement already satisfied: MarkupSafe>=2.0 in /usr/local/lib/python3.10/dist-packages (from jinja2->spacy) (2.1.5)\n",
            "Requirement already satisfied: marisa-trie>=0.7.7 in /usr/local/lib/python3.10/dist-packages (from language-data>=1.2->langcodes<4.0.0,>=3.2.0->spacy) (1.1.1)\n",
            "Collecting en-core-web-sm==3.7.1\n",
            "  Downloading https://github.com/explosion/spacy-models/releases/download/en_core_web_sm-3.7.1/en_core_web_sm-3.7.1-py3-none-any.whl (12.8 MB)\n",
            "\u001b[2K     \u001b[90m━━━━━━━━━━━━━━━━━━━━━━━━━━━━━━━━━━━━━━━━\u001b[0m \u001b[32m12.8/12.8 MB\u001b[0m \u001b[31m69.5 MB/s\u001b[0m eta \u001b[36m0:00:00\u001b[0m\n",
            "\u001b[?25hRequirement already satisfied: spacy<3.8.0,>=3.7.2 in /usr/local/lib/python3.10/dist-packages (from en-core-web-sm==3.7.1) (3.7.4)\n",
            "Requirement already satisfied: spacy-legacy<3.1.0,>=3.0.11 in /usr/local/lib/python3.10/dist-packages (from spacy<3.8.0,>=3.7.2->en-core-web-sm==3.7.1) (3.0.12)\n",
            "Requirement already satisfied: spacy-loggers<2.0.0,>=1.0.0 in /usr/local/lib/python3.10/dist-packages (from spacy<3.8.0,>=3.7.2->en-core-web-sm==3.7.1) (1.0.5)\n",
            "Requirement already satisfied: murmurhash<1.1.0,>=0.28.0 in /usr/local/lib/python3.10/dist-packages (from spacy<3.8.0,>=3.7.2->en-core-web-sm==3.7.1) (1.0.10)\n",
            "Requirement already satisfied: cymem<2.1.0,>=2.0.2 in /usr/local/lib/python3.10/dist-packages (from spacy<3.8.0,>=3.7.2->en-core-web-sm==3.7.1) (2.0.8)\n",
            "Requirement already satisfied: preshed<3.1.0,>=3.0.2 in /usr/local/lib/python3.10/dist-packages (from spacy<3.8.0,>=3.7.2->en-core-web-sm==3.7.1) (3.0.9)\n",
            "Requirement already satisfied: thinc<8.3.0,>=8.2.2 in /usr/local/lib/python3.10/dist-packages (from spacy<3.8.0,>=3.7.2->en-core-web-sm==3.7.1) (8.2.3)\n",
            "Requirement already satisfied: wasabi<1.2.0,>=0.9.1 in /usr/local/lib/python3.10/dist-packages (from spacy<3.8.0,>=3.7.2->en-core-web-sm==3.7.1) (1.1.2)\n",
            "Requirement already satisfied: srsly<3.0.0,>=2.4.3 in /usr/local/lib/python3.10/dist-packages (from spacy<3.8.0,>=3.7.2->en-core-web-sm==3.7.1) (2.4.8)\n",
            "Requirement already satisfied: catalogue<2.1.0,>=2.0.6 in /usr/local/lib/python3.10/dist-packages (from spacy<3.8.0,>=3.7.2->en-core-web-sm==3.7.1) (2.0.10)\n",
            "Requirement already satisfied: weasel<0.4.0,>=0.1.0 in /usr/local/lib/python3.10/dist-packages (from spacy<3.8.0,>=3.7.2->en-core-web-sm==3.7.1) (0.3.4)\n",
            "Requirement already satisfied: typer<0.10.0,>=0.3.0 in /usr/local/lib/python3.10/dist-packages (from spacy<3.8.0,>=3.7.2->en-core-web-sm==3.7.1) (0.9.4)\n",
            "Requirement already satisfied: smart-open<7.0.0,>=5.2.1 in /usr/local/lib/python3.10/dist-packages (from spacy<3.8.0,>=3.7.2->en-core-web-sm==3.7.1) (6.4.0)\n",
            "Requirement already satisfied: tqdm<5.0.0,>=4.38.0 in /usr/local/lib/python3.10/dist-packages (from spacy<3.8.0,>=3.7.2->en-core-web-sm==3.7.1) (4.66.4)\n",
            "Requirement already satisfied: requests<3.0.0,>=2.13.0 in /usr/local/lib/python3.10/dist-packages (from spacy<3.8.0,>=3.7.2->en-core-web-sm==3.7.1) (2.31.0)\n",
            "Requirement already satisfied: pydantic!=1.8,!=1.8.1,<3.0.0,>=1.7.4 in /usr/local/lib/python3.10/dist-packages (from spacy<3.8.0,>=3.7.2->en-core-web-sm==3.7.1) (2.7.1)\n",
            "Requirement already satisfied: jinja2 in /usr/local/lib/python3.10/dist-packages (from spacy<3.8.0,>=3.7.2->en-core-web-sm==3.7.1) (3.1.4)\n",
            "Requirement already satisfied: setuptools in /usr/local/lib/python3.10/dist-packages (from spacy<3.8.0,>=3.7.2->en-core-web-sm==3.7.1) (67.7.2)\n",
            "Requirement already satisfied: packaging>=20.0 in /usr/local/lib/python3.10/dist-packages (from spacy<3.8.0,>=3.7.2->en-core-web-sm==3.7.1) (24.0)\n",
            "Requirement already satisfied: langcodes<4.0.0,>=3.2.0 in /usr/local/lib/python3.10/dist-packages (from spacy<3.8.0,>=3.7.2->en-core-web-sm==3.7.1) (3.4.0)\n",
            "Requirement already satisfied: numpy>=1.19.0 in /usr/local/lib/python3.10/dist-packages (from spacy<3.8.0,>=3.7.2->en-core-web-sm==3.7.1) (1.25.2)\n",
            "Requirement already satisfied: language-data>=1.2 in /usr/local/lib/python3.10/dist-packages (from langcodes<4.0.0,>=3.2.0->spacy<3.8.0,>=3.7.2->en-core-web-sm==3.7.1) (1.2.0)\n",
            "Requirement already satisfied: annotated-types>=0.4.0 in /usr/local/lib/python3.10/dist-packages (from pydantic!=1.8,!=1.8.1,<3.0.0,>=1.7.4->spacy<3.8.0,>=3.7.2->en-core-web-sm==3.7.1) (0.7.0)\n",
            "Requirement already satisfied: pydantic-core==2.18.2 in /usr/local/lib/python3.10/dist-packages (from pydantic!=1.8,!=1.8.1,<3.0.0,>=1.7.4->spacy<3.8.0,>=3.7.2->en-core-web-sm==3.7.1) (2.18.2)\n",
            "Requirement already satisfied: typing-extensions>=4.6.1 in /usr/local/lib/python3.10/dist-packages (from pydantic!=1.8,!=1.8.1,<3.0.0,>=1.7.4->spacy<3.8.0,>=3.7.2->en-core-web-sm==3.7.1) (4.11.0)\n",
            "Requirement already satisfied: charset-normalizer<4,>=2 in /usr/local/lib/python3.10/dist-packages (from requests<3.0.0,>=2.13.0->spacy<3.8.0,>=3.7.2->en-core-web-sm==3.7.1) (3.3.2)\n",
            "Requirement already satisfied: idna<4,>=2.5 in /usr/local/lib/python3.10/dist-packages (from requests<3.0.0,>=2.13.0->spacy<3.8.0,>=3.7.2->en-core-web-sm==3.7.1) (3.7)\n",
            "Requirement already satisfied: urllib3<3,>=1.21.1 in /usr/local/lib/python3.10/dist-packages (from requests<3.0.0,>=2.13.0->spacy<3.8.0,>=3.7.2->en-core-web-sm==3.7.1) (2.0.7)\n",
            "Requirement already satisfied: certifi>=2017.4.17 in /usr/local/lib/python3.10/dist-packages (from requests<3.0.0,>=2.13.0->spacy<3.8.0,>=3.7.2->en-core-web-sm==3.7.1) (2024.2.2)\n",
            "Requirement already satisfied: blis<0.8.0,>=0.7.8 in /usr/local/lib/python3.10/dist-packages (from thinc<8.3.0,>=8.2.2->spacy<3.8.0,>=3.7.2->en-core-web-sm==3.7.1) (0.7.11)\n",
            "Requirement already satisfied: confection<1.0.0,>=0.0.1 in /usr/local/lib/python3.10/dist-packages (from thinc<8.3.0,>=8.2.2->spacy<3.8.0,>=3.7.2->en-core-web-sm==3.7.1) (0.1.4)\n",
            "Requirement already satisfied: click<9.0.0,>=7.1.1 in /usr/local/lib/python3.10/dist-packages (from typer<0.10.0,>=0.3.0->spacy<3.8.0,>=3.7.2->en-core-web-sm==3.7.1) (8.1.7)\n",
            "Requirement already satisfied: cloudpathlib<0.17.0,>=0.7.0 in /usr/local/lib/python3.10/dist-packages (from weasel<0.4.0,>=0.1.0->spacy<3.8.0,>=3.7.2->en-core-web-sm==3.7.1) (0.16.0)\n",
            "Requirement already satisfied: MarkupSafe>=2.0 in /usr/local/lib/python3.10/dist-packages (from jinja2->spacy<3.8.0,>=3.7.2->en-core-web-sm==3.7.1) (2.1.5)\n",
            "Requirement already satisfied: marisa-trie>=0.7.7 in /usr/local/lib/python3.10/dist-packages (from language-data>=1.2->langcodes<4.0.0,>=3.2.0->spacy<3.8.0,>=3.7.2->en-core-web-sm==3.7.1) (1.1.1)\n",
            "\u001b[38;5;2m✔ Download and installation successful\u001b[0m\n",
            "You can now load the package via spacy.load('en_core_web_sm')\n",
            "\u001b[38;5;3m⚠ Restart to reload dependencies\u001b[0m\n",
            "If you are in a Jupyter or Colab notebook, you may need to restart Python in\n",
            "order to load all the package's dependencies. You can do this by selecting the\n",
            "'Restart kernel' or 'Restart runtime' option.\n"
          ]
        }
      ]
    },
    {
      "cell_type": "code",
      "source": [
        "from nltk.corpus import stopwords\n",
        "import spacy"
      ],
      "metadata": {
        "id": "4_8Q_JAMwisN"
      },
      "execution_count": null,
      "outputs": []
    },
    {
      "cell_type": "code",
      "source": [
        "nltk.download('stopwords')"
      ],
      "metadata": {
        "id": "wq0ofmIrwl-d"
      },
      "execution_count": null,
      "outputs": []
    },
    {
      "cell_type": "code",
      "source": [
        "nlp = spacy.load('en_core_web_sm')\n",
        "# Configurar stop words en inglés\n",
        "stop_words = set(stopwords.words('english'))\n",
        "# Función para eliminar stop words de una lista de tokens\n",
        "def remove_stop_words(tokens):\n",
        "    return [word for word in tokens if word.lower() not in stop_words]"
      ],
      "metadata": {
        "colab": {
          "base_uri": "https://localhost:8080/"
        },
        "id": "-RH4JeFs_DJE",
        "outputId": "65a40885-dfce-4361-e42a-3e11944cf995"
      },
      "execution_count": null,
      "outputs": [
        {
          "output_type": "stream",
          "name": "stderr",
          "text": [
            "/usr/local/lib/python3.10/dist-packages/spacy/util.py:1740: UserWarning: [W111] Jupyter notebook detected: if using `prefer_gpu()` or `require_gpu()`, include it in the same cell right before `spacy.load()` to ensure that the model is loaded on the correct device. More information: http://spacy.io/usage/v3#jupyter-notebook-gpu\n",
            "  warnings.warn(Warnings.W111)\n"
          ]
        }
      ]
    },
    {
      "cell_type": "code",
      "source": [
        "df_alertas['description_no_stopwords'] = df_alertas['description_token'].apply(lambda x: remove_stop_words(x))"
      ],
      "metadata": {
        "id": "PNTuGuJUw0lC"
      },
      "execution_count": null,
      "outputs": []
    },
    {
      "cell_type": "markdown",
      "source": [
        "Lemantizacion"
      ],
      "metadata": {
        "id": "9j5VeGnOw60b"
      }
    },
    {
      "cell_type": "code",
      "source": [
        "def apply_lemmatization(tokens):\n",
        "    doc = nlp(' '.join(tokens))\n",
        "    lemmas = [token.lemma_ for token in doc]\n",
        "    return ' '.join(lemmas)\n",
        "\n",
        "# Aplicar la lematización a la columna 'description_no_stopwords'\n",
        "df_alertas['description_lemmatized'] = df_alertas['description_no_stopwords'].apply(lambda x: apply_lemmatization(x))\n",
        "\n",
        "# Mostrar algunas filas del DataFrame procesado\n",
        "print(df_alertas[['description', 'description_no_stopwords', 'description_lemmatized']].head())"
      ],
      "metadata": {
        "id": "24gTwus3w_Kd"
      },
      "execution_count": null,
      "outputs": []
    }
  ]
}