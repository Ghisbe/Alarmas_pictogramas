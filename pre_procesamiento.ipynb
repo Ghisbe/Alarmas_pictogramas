{
  "nbformat": 4,
  "nbformat_minor": 0,
  "metadata": {
    "colab": {
      "provenance": [],
      "gpuType": "T4",
      "include_colab_link": true
    },
    "kernelspec": {
      "name": "python3",
      "display_name": "Python 3"
    },
    "language_info": {
      "name": "python"
    },
    "accelerator": "GPU"
  },
  "cells": [
    {
      "cell_type": "markdown",
      "metadata": {
        "id": "view-in-github",
        "colab_type": "text"
      },
      "source": [
        "<a href=\"https://colab.research.google.com/github/Ghisbe/Alarmas_pictogramas/blob/main/pre_procesamiento.ipynb\" target=\"_parent\"><img src=\"https://colab.research.google.com/assets/colab-badge.svg\" alt=\"Open In Colab\"/></a>"
      ]
    },
    {
      "cell_type": "markdown",
      "source": [
        "#Preprocesamiento columna 'description':"
      ],
      "metadata": {
        "id": "qHAWGBBW8VpN"
      }
    },
    {
      "cell_type": "code",
      "execution_count": 1,
      "metadata": {
        "colab": {
          "base_uri": "https://localhost:8080/"
        },
        "id": "lsM3_lEM5KQX",
        "outputId": "1ed64ecb-5c50-4821-e04b-8392d5ebf080"
      },
      "outputs": [
        {
          "output_type": "stream",
          "name": "stdout",
          "text": [
            "Mounted at /content/drive\n"
          ]
        }
      ],
      "source": [
        "from google.colab import drive\n",
        "drive.mount('/content/drive')\n",
        "import pandas as pd\n",
        "import gdown"
      ]
    },
    {
      "cell_type": "code",
      "source": [
        "url = \"https://drive.google.com/uc?id=1MdxRAfh0ojpqayiSGiieg_S9Zo0vdjGt\"\n"
      ],
      "metadata": {
        "id": "mCA0Odfv5W_k"
      },
      "execution_count": 2,
      "outputs": []
    },
    {
      "cell_type": "code",
      "source": [
        "output = 'df_definitivo.csv'\n",
        "gdown.download(url, output, quiet=False)\n",
        "\n",
        "# Leer el archivo CSV en un DataFrame de pandas\n",
        "df_alertas = pd.read_csv(output)"
      ],
      "metadata": {
        "colab": {
          "base_uri": "https://localhost:8080/"
        },
        "id": "_FbsbqX15lL1",
        "outputId": "d30e473b-af3a-4331-a7bc-29b0cff15938"
      },
      "execution_count": 3,
      "outputs": [
        {
          "output_type": "stream",
          "name": "stderr",
          "text": [
            "Downloading...\n",
            "From (original): https://drive.google.com/uc?id=1MdxRAfh0ojpqayiSGiieg_S9Zo0vdjGt\n",
            "From (redirected): https://drive.google.com/uc?id=1MdxRAfh0ojpqayiSGiieg_S9Zo0vdjGt&confirm=t&uuid=a449023f-9750-45bb-bef7-0369271b2e28\n",
            "To: /content/df_definitivo.csv\n",
            "100%|██████████| 1.51G/1.51G [00:15<00:00, 95.3MB/s]\n"
          ]
        }
      ]
    },
    {
      "cell_type": "code",
      "source": [
        "df_alertas"
      ],
      "metadata": {
        "colab": {
          "base_uri": "https://localhost:8080/",
          "height": 597
        },
        "id": "_GqoSpDv5sw_",
        "outputId": "6f75be0f-bd30-4a7f-cffc-141de7371acf"
      },
      "execution_count": 4,
      "outputs": [
        {
          "output_type": "execute_result",
          "data": {
            "text/plain": [
              "                               id                      event  \\\n",
              "0        5ed3a4b2283336e2e7db3a1c  Special Weather Statement   \n",
              "1        5ed3a07c283336e2e7d2bfa4              Flood Warning   \n",
              "2        5ed39e54283336e2e7d22306             Flood Advisory   \n",
              "3        5ed39e11283336e2e7d15e23                Flood Watch   \n",
              "4        5ed3962c283336e2e7c1d935              Flood Warning   \n",
              "...                           ...                        ...   \n",
              "1497255  613a5aee434e34d5ee03f0e1  Special Weather Statement   \n",
              "1497256  613a5c5b434e34d5ee06813a  Special Weather Statement   \n",
              "1497257  613a5c5b434e34d5ee06813f          Flash Flood Watch   \n",
              "1497258  613a5d4d434e34d5ee06a9a9         Dense Fog Advisory   \n",
              "1497259  613a5dc6434e34d5ee06bd10  Special Weather Statement   \n",
              "\n",
              "                                               description  \\\n",
              "0        At 630 AM MDT/530 AM PDT/, Doppler radar was t...   \n",
              "1        ...The National Weather Service in Billings MT...   \n",
              "2        At 502 AM PDT, Gauge reports continue to indic...   \n",
              "3        The National Weather Service in Spokane has is...   \n",
              "4        The Flood Warning has been cancelled and is no...   \n",
              "...                                                    ...   \n",
              "1497255  At 814 AM CDT, Doppler radar was tracking a st...   \n",
              "1497256  At 816 AM CDT, Doppler radar was tracking a st...   \n",
              "1497257  The National Weather Service in El Paso Tx/San...   \n",
              "1497258  * WHAT...Visibility around 1/4 mile or less in...   \n",
              "1497259  At 745 AM MDT/845 AM CDT/, Doppler radar was t...   \n",
              "\n",
              "                                               instruction   urgency  severity  \n",
              "0        Frequent cloud to ground lightning is occurrin...  Expected  Moderate  \n",
              "1        Safety message...A river Flood Warning means r...  Expected    Severe  \n",
              "2        A Flood Advisory means river or stream flows a...  Expected     Minor  \n",
              "3        A Flood Watch means there is a potential for f...    Future    Severe  \n",
              "4        Safety message...Motorists should not attempt ...      Past     Minor  \n",
              "...                                                    ...       ...       ...  \n",
              "1497255  If outdoors, consider seeking shelter inside a...  Expected  Moderate  \n",
              "1497256  If outdoors, consider seeking shelter inside a...  Expected  Moderate  \n",
              "1497257  You should monitor later forecasts and be prep...    Future    Severe  \n",
              "1497258  If driving, slow down, use your headlights, an...  Expected  Moderate  \n",
              "1497259  If outdoors, consider seeking shelter inside a...  Expected  Moderate  \n",
              "\n",
              "[1497260 rows x 6 columns]"
            ],
            "text/html": [
              "\n",
              "  <div id=\"df-519812c4-7aef-4827-9750-932e1ea5d996\" class=\"colab-df-container\">\n",
              "    <div>\n",
              "<style scoped>\n",
              "    .dataframe tbody tr th:only-of-type {\n",
              "        vertical-align: middle;\n",
              "    }\n",
              "\n",
              "    .dataframe tbody tr th {\n",
              "        vertical-align: top;\n",
              "    }\n",
              "\n",
              "    .dataframe thead th {\n",
              "        text-align: right;\n",
              "    }\n",
              "</style>\n",
              "<table border=\"1\" class=\"dataframe\">\n",
              "  <thead>\n",
              "    <tr style=\"text-align: right;\">\n",
              "      <th></th>\n",
              "      <th>id</th>\n",
              "      <th>event</th>\n",
              "      <th>description</th>\n",
              "      <th>instruction</th>\n",
              "      <th>urgency</th>\n",
              "      <th>severity</th>\n",
              "    </tr>\n",
              "  </thead>\n",
              "  <tbody>\n",
              "    <tr>\n",
              "      <th>0</th>\n",
              "      <td>5ed3a4b2283336e2e7db3a1c</td>\n",
              "      <td>Special Weather Statement</td>\n",
              "      <td>At 630 AM MDT/530 AM PDT/, Doppler radar was t...</td>\n",
              "      <td>Frequent cloud to ground lightning is occurrin...</td>\n",
              "      <td>Expected</td>\n",
              "      <td>Moderate</td>\n",
              "    </tr>\n",
              "    <tr>\n",
              "      <th>1</th>\n",
              "      <td>5ed3a07c283336e2e7d2bfa4</td>\n",
              "      <td>Flood Warning</td>\n",
              "      <td>...The National Weather Service in Billings MT...</td>\n",
              "      <td>Safety message...A river Flood Warning means r...</td>\n",
              "      <td>Expected</td>\n",
              "      <td>Severe</td>\n",
              "    </tr>\n",
              "    <tr>\n",
              "      <th>2</th>\n",
              "      <td>5ed39e54283336e2e7d22306</td>\n",
              "      <td>Flood Advisory</td>\n",
              "      <td>At 502 AM PDT, Gauge reports continue to indic...</td>\n",
              "      <td>A Flood Advisory means river or stream flows a...</td>\n",
              "      <td>Expected</td>\n",
              "      <td>Minor</td>\n",
              "    </tr>\n",
              "    <tr>\n",
              "      <th>3</th>\n",
              "      <td>5ed39e11283336e2e7d15e23</td>\n",
              "      <td>Flood Watch</td>\n",
              "      <td>The National Weather Service in Spokane has is...</td>\n",
              "      <td>A Flood Watch means there is a potential for f...</td>\n",
              "      <td>Future</td>\n",
              "      <td>Severe</td>\n",
              "    </tr>\n",
              "    <tr>\n",
              "      <th>4</th>\n",
              "      <td>5ed3962c283336e2e7c1d935</td>\n",
              "      <td>Flood Warning</td>\n",
              "      <td>The Flood Warning has been cancelled and is no...</td>\n",
              "      <td>Safety message...Motorists should not attempt ...</td>\n",
              "      <td>Past</td>\n",
              "      <td>Minor</td>\n",
              "    </tr>\n",
              "    <tr>\n",
              "      <th>...</th>\n",
              "      <td>...</td>\n",
              "      <td>...</td>\n",
              "      <td>...</td>\n",
              "      <td>...</td>\n",
              "      <td>...</td>\n",
              "      <td>...</td>\n",
              "    </tr>\n",
              "    <tr>\n",
              "      <th>1497255</th>\n",
              "      <td>613a5aee434e34d5ee03f0e1</td>\n",
              "      <td>Special Weather Statement</td>\n",
              "      <td>At 814 AM CDT, Doppler radar was tracking a st...</td>\n",
              "      <td>If outdoors, consider seeking shelter inside a...</td>\n",
              "      <td>Expected</td>\n",
              "      <td>Moderate</td>\n",
              "    </tr>\n",
              "    <tr>\n",
              "      <th>1497256</th>\n",
              "      <td>613a5c5b434e34d5ee06813a</td>\n",
              "      <td>Special Weather Statement</td>\n",
              "      <td>At 816 AM CDT, Doppler radar was tracking a st...</td>\n",
              "      <td>If outdoors, consider seeking shelter inside a...</td>\n",
              "      <td>Expected</td>\n",
              "      <td>Moderate</td>\n",
              "    </tr>\n",
              "    <tr>\n",
              "      <th>1497257</th>\n",
              "      <td>613a5c5b434e34d5ee06813f</td>\n",
              "      <td>Flash Flood Watch</td>\n",
              "      <td>The National Weather Service in El Paso Tx/San...</td>\n",
              "      <td>You should monitor later forecasts and be prep...</td>\n",
              "      <td>Future</td>\n",
              "      <td>Severe</td>\n",
              "    </tr>\n",
              "    <tr>\n",
              "      <th>1497258</th>\n",
              "      <td>613a5d4d434e34d5ee06a9a9</td>\n",
              "      <td>Dense Fog Advisory</td>\n",
              "      <td>* WHAT...Visibility around 1/4 mile or less in...</td>\n",
              "      <td>If driving, slow down, use your headlights, an...</td>\n",
              "      <td>Expected</td>\n",
              "      <td>Moderate</td>\n",
              "    </tr>\n",
              "    <tr>\n",
              "      <th>1497259</th>\n",
              "      <td>613a5dc6434e34d5ee06bd10</td>\n",
              "      <td>Special Weather Statement</td>\n",
              "      <td>At 745 AM MDT/845 AM CDT/, Doppler radar was t...</td>\n",
              "      <td>If outdoors, consider seeking shelter inside a...</td>\n",
              "      <td>Expected</td>\n",
              "      <td>Moderate</td>\n",
              "    </tr>\n",
              "  </tbody>\n",
              "</table>\n",
              "<p>1497260 rows × 6 columns</p>\n",
              "</div>\n",
              "    <div class=\"colab-df-buttons\">\n",
              "\n",
              "  <div class=\"colab-df-container\">\n",
              "    <button class=\"colab-df-convert\" onclick=\"convertToInteractive('df-519812c4-7aef-4827-9750-932e1ea5d996')\"\n",
              "            title=\"Convert this dataframe to an interactive table.\"\n",
              "            style=\"display:none;\">\n",
              "\n",
              "  <svg xmlns=\"http://www.w3.org/2000/svg\" height=\"24px\" viewBox=\"0 -960 960 960\">\n",
              "    <path d=\"M120-120v-720h720v720H120Zm60-500h600v-160H180v160Zm220 220h160v-160H400v160Zm0 220h160v-160H400v160ZM180-400h160v-160H180v160Zm440 0h160v-160H620v160ZM180-180h160v-160H180v160Zm440 0h160v-160H620v160Z\"/>\n",
              "  </svg>\n",
              "    </button>\n",
              "\n",
              "  <style>\n",
              "    .colab-df-container {\n",
              "      display:flex;\n",
              "      gap: 12px;\n",
              "    }\n",
              "\n",
              "    .colab-df-convert {\n",
              "      background-color: #E8F0FE;\n",
              "      border: none;\n",
              "      border-radius: 50%;\n",
              "      cursor: pointer;\n",
              "      display: none;\n",
              "      fill: #1967D2;\n",
              "      height: 32px;\n",
              "      padding: 0 0 0 0;\n",
              "      width: 32px;\n",
              "    }\n",
              "\n",
              "    .colab-df-convert:hover {\n",
              "      background-color: #E2EBFA;\n",
              "      box-shadow: 0px 1px 2px rgba(60, 64, 67, 0.3), 0px 1px 3px 1px rgba(60, 64, 67, 0.15);\n",
              "      fill: #174EA6;\n",
              "    }\n",
              "\n",
              "    .colab-df-buttons div {\n",
              "      margin-bottom: 4px;\n",
              "    }\n",
              "\n",
              "    [theme=dark] .colab-df-convert {\n",
              "      background-color: #3B4455;\n",
              "      fill: #D2E3FC;\n",
              "    }\n",
              "\n",
              "    [theme=dark] .colab-df-convert:hover {\n",
              "      background-color: #434B5C;\n",
              "      box-shadow: 0px 1px 3px 1px rgba(0, 0, 0, 0.15);\n",
              "      filter: drop-shadow(0px 1px 2px rgba(0, 0, 0, 0.3));\n",
              "      fill: #FFFFFF;\n",
              "    }\n",
              "  </style>\n",
              "\n",
              "    <script>\n",
              "      const buttonEl =\n",
              "        document.querySelector('#df-519812c4-7aef-4827-9750-932e1ea5d996 button.colab-df-convert');\n",
              "      buttonEl.style.display =\n",
              "        google.colab.kernel.accessAllowed ? 'block' : 'none';\n",
              "\n",
              "      async function convertToInteractive(key) {\n",
              "        const element = document.querySelector('#df-519812c4-7aef-4827-9750-932e1ea5d996');\n",
              "        const dataTable =\n",
              "          await google.colab.kernel.invokeFunction('convertToInteractive',\n",
              "                                                    [key], {});\n",
              "        if (!dataTable) return;\n",
              "\n",
              "        const docLinkHtml = 'Like what you see? Visit the ' +\n",
              "          '<a target=\"_blank\" href=https://colab.research.google.com/notebooks/data_table.ipynb>data table notebook</a>'\n",
              "          + ' to learn more about interactive tables.';\n",
              "        element.innerHTML = '';\n",
              "        dataTable['output_type'] = 'display_data';\n",
              "        await google.colab.output.renderOutput(dataTable, element);\n",
              "        const docLink = document.createElement('div');\n",
              "        docLink.innerHTML = docLinkHtml;\n",
              "        element.appendChild(docLink);\n",
              "      }\n",
              "    </script>\n",
              "  </div>\n",
              "\n",
              "\n",
              "<div id=\"df-b13f39a0-e25d-4401-816c-d356404ad178\">\n",
              "  <button class=\"colab-df-quickchart\" onclick=\"quickchart('df-b13f39a0-e25d-4401-816c-d356404ad178')\"\n",
              "            title=\"Suggest charts\"\n",
              "            style=\"display:none;\">\n",
              "\n",
              "<svg xmlns=\"http://www.w3.org/2000/svg\" height=\"24px\"viewBox=\"0 0 24 24\"\n",
              "     width=\"24px\">\n",
              "    <g>\n",
              "        <path d=\"M19 3H5c-1.1 0-2 .9-2 2v14c0 1.1.9 2 2 2h14c1.1 0 2-.9 2-2V5c0-1.1-.9-2-2-2zM9 17H7v-7h2v7zm4 0h-2V7h2v10zm4 0h-2v-4h2v4z\"/>\n",
              "    </g>\n",
              "</svg>\n",
              "  </button>\n",
              "\n",
              "<style>\n",
              "  .colab-df-quickchart {\n",
              "      --bg-color: #E8F0FE;\n",
              "      --fill-color: #1967D2;\n",
              "      --hover-bg-color: #E2EBFA;\n",
              "      --hover-fill-color: #174EA6;\n",
              "      --disabled-fill-color: #AAA;\n",
              "      --disabled-bg-color: #DDD;\n",
              "  }\n",
              "\n",
              "  [theme=dark] .colab-df-quickchart {\n",
              "      --bg-color: #3B4455;\n",
              "      --fill-color: #D2E3FC;\n",
              "      --hover-bg-color: #434B5C;\n",
              "      --hover-fill-color: #FFFFFF;\n",
              "      --disabled-bg-color: #3B4455;\n",
              "      --disabled-fill-color: #666;\n",
              "  }\n",
              "\n",
              "  .colab-df-quickchart {\n",
              "    background-color: var(--bg-color);\n",
              "    border: none;\n",
              "    border-radius: 50%;\n",
              "    cursor: pointer;\n",
              "    display: none;\n",
              "    fill: var(--fill-color);\n",
              "    height: 32px;\n",
              "    padding: 0;\n",
              "    width: 32px;\n",
              "  }\n",
              "\n",
              "  .colab-df-quickchart:hover {\n",
              "    background-color: var(--hover-bg-color);\n",
              "    box-shadow: 0 1px 2px rgba(60, 64, 67, 0.3), 0 1px 3px 1px rgba(60, 64, 67, 0.15);\n",
              "    fill: var(--button-hover-fill-color);\n",
              "  }\n",
              "\n",
              "  .colab-df-quickchart-complete:disabled,\n",
              "  .colab-df-quickchart-complete:disabled:hover {\n",
              "    background-color: var(--disabled-bg-color);\n",
              "    fill: var(--disabled-fill-color);\n",
              "    box-shadow: none;\n",
              "  }\n",
              "\n",
              "  .colab-df-spinner {\n",
              "    border: 2px solid var(--fill-color);\n",
              "    border-color: transparent;\n",
              "    border-bottom-color: var(--fill-color);\n",
              "    animation:\n",
              "      spin 1s steps(1) infinite;\n",
              "  }\n",
              "\n",
              "  @keyframes spin {\n",
              "    0% {\n",
              "      border-color: transparent;\n",
              "      border-bottom-color: var(--fill-color);\n",
              "      border-left-color: var(--fill-color);\n",
              "    }\n",
              "    20% {\n",
              "      border-color: transparent;\n",
              "      border-left-color: var(--fill-color);\n",
              "      border-top-color: var(--fill-color);\n",
              "    }\n",
              "    30% {\n",
              "      border-color: transparent;\n",
              "      border-left-color: var(--fill-color);\n",
              "      border-top-color: var(--fill-color);\n",
              "      border-right-color: var(--fill-color);\n",
              "    }\n",
              "    40% {\n",
              "      border-color: transparent;\n",
              "      border-right-color: var(--fill-color);\n",
              "      border-top-color: var(--fill-color);\n",
              "    }\n",
              "    60% {\n",
              "      border-color: transparent;\n",
              "      border-right-color: var(--fill-color);\n",
              "    }\n",
              "    80% {\n",
              "      border-color: transparent;\n",
              "      border-right-color: var(--fill-color);\n",
              "      border-bottom-color: var(--fill-color);\n",
              "    }\n",
              "    90% {\n",
              "      border-color: transparent;\n",
              "      border-bottom-color: var(--fill-color);\n",
              "    }\n",
              "  }\n",
              "</style>\n",
              "\n",
              "  <script>\n",
              "    async function quickchart(key) {\n",
              "      const quickchartButtonEl =\n",
              "        document.querySelector('#' + key + ' button');\n",
              "      quickchartButtonEl.disabled = true;  // To prevent multiple clicks.\n",
              "      quickchartButtonEl.classList.add('colab-df-spinner');\n",
              "      try {\n",
              "        const charts = await google.colab.kernel.invokeFunction(\n",
              "            'suggestCharts', [key], {});\n",
              "      } catch (error) {\n",
              "        console.error('Error during call to suggestCharts:', error);\n",
              "      }\n",
              "      quickchartButtonEl.classList.remove('colab-df-spinner');\n",
              "      quickchartButtonEl.classList.add('colab-df-quickchart-complete');\n",
              "    }\n",
              "    (() => {\n",
              "      let quickchartButtonEl =\n",
              "        document.querySelector('#df-b13f39a0-e25d-4401-816c-d356404ad178 button');\n",
              "      quickchartButtonEl.style.display =\n",
              "        google.colab.kernel.accessAllowed ? 'block' : 'none';\n",
              "    })();\n",
              "  </script>\n",
              "</div>\n",
              "\n",
              "  <div id=\"id_72b16a59-24f3-4945-b408-4b3a7d0262b5\">\n",
              "    <style>\n",
              "      .colab-df-generate {\n",
              "        background-color: #E8F0FE;\n",
              "        border: none;\n",
              "        border-radius: 50%;\n",
              "        cursor: pointer;\n",
              "        display: none;\n",
              "        fill: #1967D2;\n",
              "        height: 32px;\n",
              "        padding: 0 0 0 0;\n",
              "        width: 32px;\n",
              "      }\n",
              "\n",
              "      .colab-df-generate:hover {\n",
              "        background-color: #E2EBFA;\n",
              "        box-shadow: 0px 1px 2px rgba(60, 64, 67, 0.3), 0px 1px 3px 1px rgba(60, 64, 67, 0.15);\n",
              "        fill: #174EA6;\n",
              "      }\n",
              "\n",
              "      [theme=dark] .colab-df-generate {\n",
              "        background-color: #3B4455;\n",
              "        fill: #D2E3FC;\n",
              "      }\n",
              "\n",
              "      [theme=dark] .colab-df-generate:hover {\n",
              "        background-color: #434B5C;\n",
              "        box-shadow: 0px 1px 3px 1px rgba(0, 0, 0, 0.15);\n",
              "        filter: drop-shadow(0px 1px 2px rgba(0, 0, 0, 0.3));\n",
              "        fill: #FFFFFF;\n",
              "      }\n",
              "    </style>\n",
              "    <button class=\"colab-df-generate\" onclick=\"generateWithVariable('df_alertas')\"\n",
              "            title=\"Generate code using this dataframe.\"\n",
              "            style=\"display:none;\">\n",
              "\n",
              "  <svg xmlns=\"http://www.w3.org/2000/svg\" height=\"24px\"viewBox=\"0 0 24 24\"\n",
              "       width=\"24px\">\n",
              "    <path d=\"M7,19H8.4L18.45,9,17,7.55,7,17.6ZM5,21V16.75L18.45,3.32a2,2,0,0,1,2.83,0l1.4,1.43a1.91,1.91,0,0,1,.58,1.4,1.91,1.91,0,0,1-.58,1.4L9.25,21ZM18.45,9,17,7.55Zm-12,3A5.31,5.31,0,0,0,4.9,8.1,5.31,5.31,0,0,0,1,6.5,5.31,5.31,0,0,0,4.9,4.9,5.31,5.31,0,0,0,6.5,1,5.31,5.31,0,0,0,8.1,4.9,5.31,5.31,0,0,0,12,6.5,5.46,5.46,0,0,0,6.5,12Z\"/>\n",
              "  </svg>\n",
              "    </button>\n",
              "    <script>\n",
              "      (() => {\n",
              "      const buttonEl =\n",
              "        document.querySelector('#id_72b16a59-24f3-4945-b408-4b3a7d0262b5 button.colab-df-generate');\n",
              "      buttonEl.style.display =\n",
              "        google.colab.kernel.accessAllowed ? 'block' : 'none';\n",
              "\n",
              "      buttonEl.onclick = () => {\n",
              "        google.colab.notebook.generateWithVariable('df_alertas');\n",
              "      }\n",
              "      })();\n",
              "    </script>\n",
              "  </div>\n",
              "\n",
              "    </div>\n",
              "  </div>\n"
            ],
            "application/vnd.google.colaboratory.intrinsic+json": {
              "type": "dataframe",
              "variable_name": "df_alertas"
            }
          },
          "metadata": {},
          "execution_count": 4
        }
      ]
    },
    {
      "cell_type": "markdown",
      "source": [
        "Se toma la decision de usar el 50% del dataset"
      ],
      "metadata": {
        "id": "wnoivfdh2qdg"
      }
    },
    {
      "cell_type": "code",
      "source": [
        "# Seleccionar la primera mitad del dataset\n",
        "alertas_nuevo = df_alertas.iloc[:len(df_alertas)//2]"
      ],
      "metadata": {
        "id": "KcrifBWe2paX"
      },
      "execution_count": 5,
      "outputs": []
    },
    {
      "cell_type": "code",
      "source": [
        "#alertas_nuevo.to_csv('alertas.csv', index=False)"
      ],
      "metadata": {
        "id": "Oa-t2TK04Fl2"
      },
      "execution_count": 6,
      "outputs": []
    },
    {
      "cell_type": "markdown",
      "source": [
        "# Informacion General"
      ],
      "metadata": {
        "id": "ZQROR-JFVp9U"
      }
    },
    {
      "cell_type": "code",
      "source": [
        "alertas_nuevo.info()"
      ],
      "metadata": {
        "id": "L9y9tvKGBlbn",
        "colab": {
          "base_uri": "https://localhost:8080/"
        },
        "outputId": "4725004c-6652-4ea9-8640-89d4b7b3d6ee"
      },
      "execution_count": 7,
      "outputs": [
        {
          "output_type": "stream",
          "name": "stdout",
          "text": [
            "<class 'pandas.core.frame.DataFrame'>\n",
            "RangeIndex: 748630 entries, 0 to 748629\n",
            "Data columns (total 6 columns):\n",
            " #   Column       Non-Null Count   Dtype \n",
            "---  ------       --------------   ----- \n",
            " 0   id           748630 non-null  object\n",
            " 1   event        748630 non-null  object\n",
            " 2   description  748630 non-null  object\n",
            " 3   instruction  748630 non-null  object\n",
            " 4   urgency      748630 non-null  object\n",
            " 5   severity     748630 non-null  object\n",
            "dtypes: object(6)\n",
            "memory usage: 34.3+ MB\n"
          ]
        }
      ]
    },
    {
      "cell_type": "markdown",
      "source": [
        "###Pre procesamiento de columna 'description\".\n",
        "\n",
        "1. Eliminación de ruido:\n",
        "Este paso tiene como objetivo eliminar todos aquellos símbolos o caracteres que no aportan nada en el significado de las frases."
      ],
      "metadata": {
        "id": "0wZy0GdjV4p0"
      }
    },
    {
      "cell_type": "markdown",
      "source": [
        "Pre procesamiento de columna 'description\"."
      ],
      "metadata": {
        "id": "3LFI3RBHBgoR"
      }
    },
    {
      "cell_type": "code",
      "source": [
        "#Observamos una muestra al azar de 15 ejemplos para visualizar la columna a analizar.\n",
        "(alertas_nuevo['description']).sample(15)"
      ],
      "metadata": {
        "colab": {
          "base_uri": "https://localhost:8080/"
        },
        "id": "f9q5hMXqV4MN",
        "outputId": "c8a463a8-c1e6-45b7-ae6c-345a4a31a4f2"
      },
      "execution_count": 8,
      "outputs": [
        {
          "output_type": "execute_result",
          "data": {
            "text/plain": [
              "74824     ...The Flood Warning continues for the followi...\n",
              "425212    * WHAT...Very cold wind chills expected. Wind ...\n",
              "316236    The National Weather Service in Amarillo has i...\n",
              "365001    Kentucky River at Ford Lock\\nKentucky at Camp ...\n",
              "294726    The National Weather Service in Dodge City has...\n",
              "591220    At 953 PM EDT, Runoff from earlier heavy rainf...\n",
              "549551    At 1250 PM CDT, Doppler radar was tracking a s...\n",
              "155766    * WHAT...Heavy snow expected. Total snow accum...\n",
              "443107    .AN ARCTIC COLD FRONT THAT MOVED THROUGH THE R...\n",
              "34772     The National Weather Service in Jacksonville h...\n",
              "131719    * WHAT...West winds 20 to 30 mph with gusts up...\n",
              "603552    AT 653 PM CDT...A SEVERE THUNDERSTORM WAS LOCA...\n",
              "397562    Pemiscot...Dyer...Lake and Lauderdale Counties...\n",
              "604414    At 127 AM EDT, Doppler radar indicated heavy r...\n",
              "458191    * WHAT...Blizzard conditions. Additional snow ...\n",
              "Name: description, dtype: object"
            ]
          },
          "metadata": {},
          "execution_count": 8
        }
      ]
    },
    {
      "cell_type": "markdown",
      "source": [
        "Vamos a utilizar la fila 142406\n",
        " ya que ahi observamos la presencia de las palabras \\n\\n y WHAT\\WHERE asi que analizamos todo el texto de esa fila, haciendo un split de todas las palabras separadas por espacio."
      ],
      "metadata": {
        "id": "aONl-hSZWAO8"
      }
    },
    {
      "cell_type": "code",
      "source": [
        "fila = (alertas_nuevo['description'].iloc[142406]).split()\n",
        "print(fila)"
      ],
      "metadata": {
        "colab": {
          "base_uri": "https://localhost:8080/"
        },
        "id": "-kaor6_EWCnd",
        "outputId": "cceb712d-d1a1-495c-ffb0-1b89f886b461"
      },
      "execution_count": 9,
      "outputs": [
        {
          "output_type": "stream",
          "name": "stdout",
          "text": [
            "['*', 'WHAT...North', 'to', 'northeast', 'winds', '15', 'to', '25', 'mph', 'with', 'gusts', 'to', '40', 'mph.', '*', 'WHERE...Western', 'San', 'Fernando', 'Valley.', '*', 'WHEN...Until', '3', 'PM', 'PDT', 'Thursday.', '*', 'IMPACTS...Gusty', 'winds', 'will', 'make', 'driving', 'difficult', 'and', 'could', 'blow', 'around', 'unsecured', 'objects.', 'Tree', 'limbs', 'could', 'be', 'blown', 'down.', '*', 'ADDITIONAL', 'DETAILS...']\n"
          ]
        }
      ]
    },
    {
      "cell_type": "markdown",
      "source": [
        "Observamos que las palabras 'WHAT', 'WHERE', 'WHEN' e 'IMPACTS' estan unidas a la segunda palabra por tres puntos '...', por ello vamos a reemplazar por un espacio para separar las palabras. Despues se trabajara con puntos, asteriscos y demas signos que no sean relevantes al modelo (Normalizacion)."
      ],
      "metadata": {
        "id": "6CDwNgaaWE9u"
      }
    },
    {
      "cell_type": "code",
      "source": [
        "alertas_nuevo['description'] = alertas_nuevo['description'].str.replace('...', ' ', regex=False)\n"
      ],
      "metadata": {
        "colab": {
          "base_uri": "https://localhost:8080/"
        },
        "id": "yb0Jb6b4Wzku",
        "outputId": "1ebf9f26-db8d-4275-88fc-e3fe65baa059"
      },
      "execution_count": 11,
      "outputs": [
        {
          "output_type": "stream",
          "name": "stderr",
          "text": [
            "<ipython-input-11-c67a99e7ae22>:1: SettingWithCopyWarning: \n",
            "A value is trying to be set on a copy of a slice from a DataFrame.\n",
            "Try using .loc[row_indexer,col_indexer] = value instead\n",
            "\n",
            "See the caveats in the documentation: https://pandas.pydata.org/pandas-docs/stable/user_guide/indexing.html#returning-a-view-versus-a-copy\n",
            "  alertas_nuevo['description'] = alertas_nuevo['description'].str.replace('...', ' ', regex=False)\n"
          ]
        }
      ]
    },
    {
      "cell_type": "code",
      "source": [
        "alertas_nuevo['description'].iloc[142406] #Probamos esa fila"
      ],
      "metadata": {
        "id": "uyswlssLeIrj",
        "outputId": "5fd2c718-c26a-4ffc-d97c-d2c10c614705",
        "colab": {
          "base_uri": "https://localhost:8080/",
          "height": 72
        }
      },
      "execution_count": 12,
      "outputs": [
        {
          "output_type": "execute_result",
          "data": {
            "text/plain": [
              "'* WHAT North to northeast winds 15 to 25 mph with gusts to 40\\nmph.\\n\\n* WHERE Western San Fernando Valley.\\n\\n* WHEN Until 3 PM PDT Thursday.\\n\\n* IMPACTS Gusty winds will make driving difficult and could\\nblow around unsecured objects. Tree limbs could be blown down.\\n\\n* ADDITIONAL DETAILS '"
            ],
            "application/vnd.google.colaboratory.intrinsic+json": {
              "type": "string"
            }
          },
          "metadata": {},
          "execution_count": 12
        }
      ]
    },
    {
      "cell_type": "markdown",
      "source": [
        "Ahora tambien observamos que figura como textos codigos de salto de linea \"\\n\\n\" y \"\\n\"."
      ],
      "metadata": {
        "id": "rFFdJ_Hbjv7A"
      }
    },
    {
      "cell_type": "code",
      "source": [
        "#Se observan palabras con \"\\n\"\n",
        "palabra_a_contar1 = '\\n'\n",
        "palabras_1 = alertas_nuevo['description'].str.count(palabra_a_contar1).sum()\n",
        "print(palabras_1)"
      ],
      "metadata": {
        "colab": {
          "base_uri": "https://localhost:8080/"
        },
        "id": "8QPh3cGBWHg3",
        "outputId": "9fcc8cdf-dfe8-43dc-a248-6ae90168ff8f"
      },
      "execution_count": 13,
      "outputs": [
        {
          "output_type": "stream",
          "name": "stdout",
          "text": [
            "12277036\n"
          ]
        }
      ]
    },
    {
      "cell_type": "markdown",
      "source": [
        "Es una cantidad importe de esas palabras. En este caso reemplazamos como el caso anterior por un espacio."
      ],
      "metadata": {
        "id": "5Vd_zm5AWLVW"
      }
    },
    {
      "cell_type": "code",
      "source": [
        "alertas_nuevo['description'] = alertas_nuevo['description'].str.replace('\\n', ' ', regex=False)"
      ],
      "metadata": {
        "colab": {
          "base_uri": "https://localhost:8080/"
        },
        "id": "vWwjB0zLlGvi",
        "outputId": "e3f530a8-2e93-4e99-fd16-86879ddc6f62"
      },
      "execution_count": 14,
      "outputs": [
        {
          "output_type": "stream",
          "name": "stderr",
          "text": [
            "<ipython-input-14-cb9bb4a558f6>:1: SettingWithCopyWarning: \n",
            "A value is trying to be set on a copy of a slice from a DataFrame.\n",
            "Try using .loc[row_indexer,col_indexer] = value instead\n",
            "\n",
            "See the caveats in the documentation: https://pandas.pydata.org/pandas-docs/stable/user_guide/indexing.html#returning-a-view-versus-a-copy\n",
            "  alertas_nuevo['description'] = alertas_nuevo['description'].str.replace('\\n', ' ', regex=False)\n"
          ]
        }
      ]
    },
    {
      "cell_type": "code",
      "source": [
        "alertas_nuevo['description'].iloc[142406] #Probamos esa fila"
      ],
      "metadata": {
        "id": "t1LCwQjAeNtg",
        "outputId": "8a4f9dac-dd2e-49c6-824a-f9683df5c3ae",
        "colab": {
          "base_uri": "https://localhost:8080/",
          "height": 72
        }
      },
      "execution_count": 15,
      "outputs": [
        {
          "output_type": "execute_result",
          "data": {
            "text/plain": [
              "'* WHAT North to northeast winds 15 to 25 mph with gusts to 40 mph.  * WHERE Western San Fernando Valley.  * WHEN Until 3 PM PDT Thursday.  * IMPACTS Gusty winds will make driving difficult and could blow around unsecured objects. Tree limbs could be blown down.  * ADDITIONAL DETAILS '"
            ],
            "application/vnd.google.colaboratory.intrinsic+json": {
              "type": "string"
            }
          },
          "metadata": {},
          "execution_count": 15
        }
      ]
    },
    {
      "cell_type": "markdown",
      "source": [
        "Observamos una muestra de 10 filas para observar estos cambios:"
      ],
      "metadata": {
        "id": "vYLRfViRhJ13"
      }
    },
    {
      "cell_type": "code",
      "source": [
        "alertas_nuevo.sample(10)"
      ],
      "metadata": {
        "colab": {
          "base_uri": "https://localhost:8080/",
          "height": 623
        },
        "id": "t1d2BfTTlRNz",
        "outputId": "5e8a82ac-9e93-4794-95e7-1af38c4e018d"
      },
      "execution_count": 16,
      "outputs": [
        {
          "output_type": "execute_result",
          "data": {
            "text/plain": [
              "                              id                        event  \\\n",
              "7712    5ec93e2c283336e2e75237ac                Flood Warning   \n",
              "642042  5e6dd2fd023f1930ef4a96b8                Heat Advisory   \n",
              "721428  5e6dd1c4023f1930ef45b5a1                Flood Warning   \n",
              "528184  5e6dd5e6023f1930ef562168               Flood Advisory   \n",
              "661206  5e6dbfbe023f1930eff6280a               Flood Advisory   \n",
              "547008  5e6dd5ce023f1930ef55c727                Flood Warning   \n",
              "569776  5e6dd4db023f1930ef51f927                Flood Warning   \n",
              "715251  5e6dc0de023f1930effb3460                Flood Warning   \n",
              "244695  5e6ddc51023f1930ef6e6cc4                Flood Warning   \n",
              "230143  5e6ddc15023f1930ef6d952e  Severe Thunderstorm Warning   \n",
              "\n",
              "                                              description  \\\n",
              "7712     The Flood Warning has been extended for the f...   \n",
              "642042  The National Weather Service in Burlington has...   \n",
              "721428  Flood warnings continue for the lower ends of ...   \n",
              "528184  The National Weather Service in BLACKSBURG has...   \n",
              "661206  THE NATIONAL WEATHER SERVICE IN SAN ANGELO HAS...   \n",
              "547008  The Flood Warning has been cancelled and is no...   \n",
              "569776  THE NATIONAL WEATHER SERVICE IN DENVER HAS ISS...   \n",
              "715251  THE NATIONAL WEATHER SERVICE IN TAUNTON HAS IS...   \n",
              "244695  Yazoo River At Yazoo City affecting Yazoo Coun...   \n",
              "230143  At 911 PM CDT, a severe thunderstorm was locat...   \n",
              "\n",
              "                                              instruction    urgency  severity  \n",
              "7712    Never drive vehicles through flooded areas. Th...  Immediate    Severe  \n",
              "642042  A Heat Advisory means that a period of hot tem...   Expected  Moderate  \n",
              "721428  PRECAUTIONARY/PREPAREDNESS ACTIONS...\\n\\nIf yo...  Immediate    Severe  \n",
              "528184  Excessive runoff from heavy rainfall will caus...   Expected     Minor  \n",
              "661206  DO NOT DRIVE YOUR VEHICLE INTO AREAS WHERE THE...   Expected     Minor  \n",
              "547008  PRECAUTIONARY/PREPAREDNESS ACTIONS...\\n\\nDo no...       Past     Minor  \n",
              "569776  DO NOT DRIVE YOUR VEHICLE INTO AREAS WHERE THE...   Expected    Severe  \n",
              "715251  DO NOT DRIVE THROUGH FLOODED ROADS. FLOOD WATE...   Expected    Severe  \n",
              "244695  PRECAUTIONARY/PREPAREDNESS ACTIONS...\\n\\nDo no...  Immediate    Severe  \n",
              "230143  For your protection move to an interior room o...  Immediate    Severe  "
            ],
            "text/html": [
              "\n",
              "  <div id=\"df-17f5247a-a8ae-4109-a875-f3fab3a06c72\" class=\"colab-df-container\">\n",
              "    <div>\n",
              "<style scoped>\n",
              "    .dataframe tbody tr th:only-of-type {\n",
              "        vertical-align: middle;\n",
              "    }\n",
              "\n",
              "    .dataframe tbody tr th {\n",
              "        vertical-align: top;\n",
              "    }\n",
              "\n",
              "    .dataframe thead th {\n",
              "        text-align: right;\n",
              "    }\n",
              "</style>\n",
              "<table border=\"1\" class=\"dataframe\">\n",
              "  <thead>\n",
              "    <tr style=\"text-align: right;\">\n",
              "      <th></th>\n",
              "      <th>id</th>\n",
              "      <th>event</th>\n",
              "      <th>description</th>\n",
              "      <th>instruction</th>\n",
              "      <th>urgency</th>\n",
              "      <th>severity</th>\n",
              "    </tr>\n",
              "  </thead>\n",
              "  <tbody>\n",
              "    <tr>\n",
              "      <th>7712</th>\n",
              "      <td>5ec93e2c283336e2e75237ac</td>\n",
              "      <td>Flood Warning</td>\n",
              "      <td>The Flood Warning has been extended for the f...</td>\n",
              "      <td>Never drive vehicles through flooded areas. Th...</td>\n",
              "      <td>Immediate</td>\n",
              "      <td>Severe</td>\n",
              "    </tr>\n",
              "    <tr>\n",
              "      <th>642042</th>\n",
              "      <td>5e6dd2fd023f1930ef4a96b8</td>\n",
              "      <td>Heat Advisory</td>\n",
              "      <td>The National Weather Service in Burlington has...</td>\n",
              "      <td>A Heat Advisory means that a period of hot tem...</td>\n",
              "      <td>Expected</td>\n",
              "      <td>Moderate</td>\n",
              "    </tr>\n",
              "    <tr>\n",
              "      <th>721428</th>\n",
              "      <td>5e6dd1c4023f1930ef45b5a1</td>\n",
              "      <td>Flood Warning</td>\n",
              "      <td>Flood warnings continue for the lower ends of ...</td>\n",
              "      <td>PRECAUTIONARY/PREPAREDNESS ACTIONS...\\n\\nIf yo...</td>\n",
              "      <td>Immediate</td>\n",
              "      <td>Severe</td>\n",
              "    </tr>\n",
              "    <tr>\n",
              "      <th>528184</th>\n",
              "      <td>5e6dd5e6023f1930ef562168</td>\n",
              "      <td>Flood Advisory</td>\n",
              "      <td>The National Weather Service in BLACKSBURG has...</td>\n",
              "      <td>Excessive runoff from heavy rainfall will caus...</td>\n",
              "      <td>Expected</td>\n",
              "      <td>Minor</td>\n",
              "    </tr>\n",
              "    <tr>\n",
              "      <th>661206</th>\n",
              "      <td>5e6dbfbe023f1930eff6280a</td>\n",
              "      <td>Flood Advisory</td>\n",
              "      <td>THE NATIONAL WEATHER SERVICE IN SAN ANGELO HAS...</td>\n",
              "      <td>DO NOT DRIVE YOUR VEHICLE INTO AREAS WHERE THE...</td>\n",
              "      <td>Expected</td>\n",
              "      <td>Minor</td>\n",
              "    </tr>\n",
              "    <tr>\n",
              "      <th>547008</th>\n",
              "      <td>5e6dd5ce023f1930ef55c727</td>\n",
              "      <td>Flood Warning</td>\n",
              "      <td>The Flood Warning has been cancelled and is no...</td>\n",
              "      <td>PRECAUTIONARY/PREPAREDNESS ACTIONS...\\n\\nDo no...</td>\n",
              "      <td>Past</td>\n",
              "      <td>Minor</td>\n",
              "    </tr>\n",
              "    <tr>\n",
              "      <th>569776</th>\n",
              "      <td>5e6dd4db023f1930ef51f927</td>\n",
              "      <td>Flood Warning</td>\n",
              "      <td>THE NATIONAL WEATHER SERVICE IN DENVER HAS ISS...</td>\n",
              "      <td>DO NOT DRIVE YOUR VEHICLE INTO AREAS WHERE THE...</td>\n",
              "      <td>Expected</td>\n",
              "      <td>Severe</td>\n",
              "    </tr>\n",
              "    <tr>\n",
              "      <th>715251</th>\n",
              "      <td>5e6dc0de023f1930effb3460</td>\n",
              "      <td>Flood Warning</td>\n",
              "      <td>THE NATIONAL WEATHER SERVICE IN TAUNTON HAS IS...</td>\n",
              "      <td>DO NOT DRIVE THROUGH FLOODED ROADS. FLOOD WATE...</td>\n",
              "      <td>Expected</td>\n",
              "      <td>Severe</td>\n",
              "    </tr>\n",
              "    <tr>\n",
              "      <th>244695</th>\n",
              "      <td>5e6ddc51023f1930ef6e6cc4</td>\n",
              "      <td>Flood Warning</td>\n",
              "      <td>Yazoo River At Yazoo City affecting Yazoo Coun...</td>\n",
              "      <td>PRECAUTIONARY/PREPAREDNESS ACTIONS...\\n\\nDo no...</td>\n",
              "      <td>Immediate</td>\n",
              "      <td>Severe</td>\n",
              "    </tr>\n",
              "    <tr>\n",
              "      <th>230143</th>\n",
              "      <td>5e6ddc15023f1930ef6d952e</td>\n",
              "      <td>Severe Thunderstorm Warning</td>\n",
              "      <td>At 911 PM CDT, a severe thunderstorm was locat...</td>\n",
              "      <td>For your protection move to an interior room o...</td>\n",
              "      <td>Immediate</td>\n",
              "      <td>Severe</td>\n",
              "    </tr>\n",
              "  </tbody>\n",
              "</table>\n",
              "</div>\n",
              "    <div class=\"colab-df-buttons\">\n",
              "\n",
              "  <div class=\"colab-df-container\">\n",
              "    <button class=\"colab-df-convert\" onclick=\"convertToInteractive('df-17f5247a-a8ae-4109-a875-f3fab3a06c72')\"\n",
              "            title=\"Convert this dataframe to an interactive table.\"\n",
              "            style=\"display:none;\">\n",
              "\n",
              "  <svg xmlns=\"http://www.w3.org/2000/svg\" height=\"24px\" viewBox=\"0 -960 960 960\">\n",
              "    <path d=\"M120-120v-720h720v720H120Zm60-500h600v-160H180v160Zm220 220h160v-160H400v160Zm0 220h160v-160H400v160ZM180-400h160v-160H180v160Zm440 0h160v-160H620v160ZM180-180h160v-160H180v160Zm440 0h160v-160H620v160Z\"/>\n",
              "  </svg>\n",
              "    </button>\n",
              "\n",
              "  <style>\n",
              "    .colab-df-container {\n",
              "      display:flex;\n",
              "      gap: 12px;\n",
              "    }\n",
              "\n",
              "    .colab-df-convert {\n",
              "      background-color: #E8F0FE;\n",
              "      border: none;\n",
              "      border-radius: 50%;\n",
              "      cursor: pointer;\n",
              "      display: none;\n",
              "      fill: #1967D2;\n",
              "      height: 32px;\n",
              "      padding: 0 0 0 0;\n",
              "      width: 32px;\n",
              "    }\n",
              "\n",
              "    .colab-df-convert:hover {\n",
              "      background-color: #E2EBFA;\n",
              "      box-shadow: 0px 1px 2px rgba(60, 64, 67, 0.3), 0px 1px 3px 1px rgba(60, 64, 67, 0.15);\n",
              "      fill: #174EA6;\n",
              "    }\n",
              "\n",
              "    .colab-df-buttons div {\n",
              "      margin-bottom: 4px;\n",
              "    }\n",
              "\n",
              "    [theme=dark] .colab-df-convert {\n",
              "      background-color: #3B4455;\n",
              "      fill: #D2E3FC;\n",
              "    }\n",
              "\n",
              "    [theme=dark] .colab-df-convert:hover {\n",
              "      background-color: #434B5C;\n",
              "      box-shadow: 0px 1px 3px 1px rgba(0, 0, 0, 0.15);\n",
              "      filter: drop-shadow(0px 1px 2px rgba(0, 0, 0, 0.3));\n",
              "      fill: #FFFFFF;\n",
              "    }\n",
              "  </style>\n",
              "\n",
              "    <script>\n",
              "      const buttonEl =\n",
              "        document.querySelector('#df-17f5247a-a8ae-4109-a875-f3fab3a06c72 button.colab-df-convert');\n",
              "      buttonEl.style.display =\n",
              "        google.colab.kernel.accessAllowed ? 'block' : 'none';\n",
              "\n",
              "      async function convertToInteractive(key) {\n",
              "        const element = document.querySelector('#df-17f5247a-a8ae-4109-a875-f3fab3a06c72');\n",
              "        const dataTable =\n",
              "          await google.colab.kernel.invokeFunction('convertToInteractive',\n",
              "                                                    [key], {});\n",
              "        if (!dataTable) return;\n",
              "\n",
              "        const docLinkHtml = 'Like what you see? Visit the ' +\n",
              "          '<a target=\"_blank\" href=https://colab.research.google.com/notebooks/data_table.ipynb>data table notebook</a>'\n",
              "          + ' to learn more about interactive tables.';\n",
              "        element.innerHTML = '';\n",
              "        dataTable['output_type'] = 'display_data';\n",
              "        await google.colab.output.renderOutput(dataTable, element);\n",
              "        const docLink = document.createElement('div');\n",
              "        docLink.innerHTML = docLinkHtml;\n",
              "        element.appendChild(docLink);\n",
              "      }\n",
              "    </script>\n",
              "  </div>\n",
              "\n",
              "\n",
              "<div id=\"df-eafe874d-a73c-4d5e-a78a-2d63ff9e7a51\">\n",
              "  <button class=\"colab-df-quickchart\" onclick=\"quickchart('df-eafe874d-a73c-4d5e-a78a-2d63ff9e7a51')\"\n",
              "            title=\"Suggest charts\"\n",
              "            style=\"display:none;\">\n",
              "\n",
              "<svg xmlns=\"http://www.w3.org/2000/svg\" height=\"24px\"viewBox=\"0 0 24 24\"\n",
              "     width=\"24px\">\n",
              "    <g>\n",
              "        <path d=\"M19 3H5c-1.1 0-2 .9-2 2v14c0 1.1.9 2 2 2h14c1.1 0 2-.9 2-2V5c0-1.1-.9-2-2-2zM9 17H7v-7h2v7zm4 0h-2V7h2v10zm4 0h-2v-4h2v4z\"/>\n",
              "    </g>\n",
              "</svg>\n",
              "  </button>\n",
              "\n",
              "<style>\n",
              "  .colab-df-quickchart {\n",
              "      --bg-color: #E8F0FE;\n",
              "      --fill-color: #1967D2;\n",
              "      --hover-bg-color: #E2EBFA;\n",
              "      --hover-fill-color: #174EA6;\n",
              "      --disabled-fill-color: #AAA;\n",
              "      --disabled-bg-color: #DDD;\n",
              "  }\n",
              "\n",
              "  [theme=dark] .colab-df-quickchart {\n",
              "      --bg-color: #3B4455;\n",
              "      --fill-color: #D2E3FC;\n",
              "      --hover-bg-color: #434B5C;\n",
              "      --hover-fill-color: #FFFFFF;\n",
              "      --disabled-bg-color: #3B4455;\n",
              "      --disabled-fill-color: #666;\n",
              "  }\n",
              "\n",
              "  .colab-df-quickchart {\n",
              "    background-color: var(--bg-color);\n",
              "    border: none;\n",
              "    border-radius: 50%;\n",
              "    cursor: pointer;\n",
              "    display: none;\n",
              "    fill: var(--fill-color);\n",
              "    height: 32px;\n",
              "    padding: 0;\n",
              "    width: 32px;\n",
              "  }\n",
              "\n",
              "  .colab-df-quickchart:hover {\n",
              "    background-color: var(--hover-bg-color);\n",
              "    box-shadow: 0 1px 2px rgba(60, 64, 67, 0.3), 0 1px 3px 1px rgba(60, 64, 67, 0.15);\n",
              "    fill: var(--button-hover-fill-color);\n",
              "  }\n",
              "\n",
              "  .colab-df-quickchart-complete:disabled,\n",
              "  .colab-df-quickchart-complete:disabled:hover {\n",
              "    background-color: var(--disabled-bg-color);\n",
              "    fill: var(--disabled-fill-color);\n",
              "    box-shadow: none;\n",
              "  }\n",
              "\n",
              "  .colab-df-spinner {\n",
              "    border: 2px solid var(--fill-color);\n",
              "    border-color: transparent;\n",
              "    border-bottom-color: var(--fill-color);\n",
              "    animation:\n",
              "      spin 1s steps(1) infinite;\n",
              "  }\n",
              "\n",
              "  @keyframes spin {\n",
              "    0% {\n",
              "      border-color: transparent;\n",
              "      border-bottom-color: var(--fill-color);\n",
              "      border-left-color: var(--fill-color);\n",
              "    }\n",
              "    20% {\n",
              "      border-color: transparent;\n",
              "      border-left-color: var(--fill-color);\n",
              "      border-top-color: var(--fill-color);\n",
              "    }\n",
              "    30% {\n",
              "      border-color: transparent;\n",
              "      border-left-color: var(--fill-color);\n",
              "      border-top-color: var(--fill-color);\n",
              "      border-right-color: var(--fill-color);\n",
              "    }\n",
              "    40% {\n",
              "      border-color: transparent;\n",
              "      border-right-color: var(--fill-color);\n",
              "      border-top-color: var(--fill-color);\n",
              "    }\n",
              "    60% {\n",
              "      border-color: transparent;\n",
              "      border-right-color: var(--fill-color);\n",
              "    }\n",
              "    80% {\n",
              "      border-color: transparent;\n",
              "      border-right-color: var(--fill-color);\n",
              "      border-bottom-color: var(--fill-color);\n",
              "    }\n",
              "    90% {\n",
              "      border-color: transparent;\n",
              "      border-bottom-color: var(--fill-color);\n",
              "    }\n",
              "  }\n",
              "</style>\n",
              "\n",
              "  <script>\n",
              "    async function quickchart(key) {\n",
              "      const quickchartButtonEl =\n",
              "        document.querySelector('#' + key + ' button');\n",
              "      quickchartButtonEl.disabled = true;  // To prevent multiple clicks.\n",
              "      quickchartButtonEl.classList.add('colab-df-spinner');\n",
              "      try {\n",
              "        const charts = await google.colab.kernel.invokeFunction(\n",
              "            'suggestCharts', [key], {});\n",
              "      } catch (error) {\n",
              "        console.error('Error during call to suggestCharts:', error);\n",
              "      }\n",
              "      quickchartButtonEl.classList.remove('colab-df-spinner');\n",
              "      quickchartButtonEl.classList.add('colab-df-quickchart-complete');\n",
              "    }\n",
              "    (() => {\n",
              "      let quickchartButtonEl =\n",
              "        document.querySelector('#df-eafe874d-a73c-4d5e-a78a-2d63ff9e7a51 button');\n",
              "      quickchartButtonEl.style.display =\n",
              "        google.colab.kernel.accessAllowed ? 'block' : 'none';\n",
              "    })();\n",
              "  </script>\n",
              "</div>\n",
              "\n",
              "    </div>\n",
              "  </div>\n"
            ],
            "application/vnd.google.colaboratory.intrinsic+json": {
              "type": "dataframe",
              "summary": "{\n  \"name\": \"alertas_nuevo\",\n  \"rows\": 10,\n  \"fields\": [\n    {\n      \"column\": \"id\",\n      \"properties\": {\n        \"dtype\": \"string\",\n        \"num_unique_values\": 10,\n        \"samples\": [\n          \"5e6ddc51023f1930ef6e6cc4\",\n          \"5e6dd2fd023f1930ef4a96b8\",\n          \"5e6dd5ce023f1930ef55c727\"\n        ],\n        \"semantic_type\": \"\",\n        \"description\": \"\"\n      }\n    },\n    {\n      \"column\": \"event\",\n      \"properties\": {\n        \"dtype\": \"category\",\n        \"num_unique_values\": 4,\n        \"samples\": [\n          \"Heat Advisory\",\n          \"Severe Thunderstorm Warning\",\n          \"Flood Warning\"\n        ],\n        \"semantic_type\": \"\",\n        \"description\": \"\"\n      }\n    },\n    {\n      \"column\": \"description\",\n      \"properties\": {\n        \"dtype\": \"string\",\n        \"num_unique_values\": 10,\n        \"samples\": [\n          \"Yazoo River At Yazoo City affecting Yazoo County Big Sunflower River Near Anguilla affecting Sharkey County The Flood Warning continues for The Yazoo River At Yazoo City * until further notice. * At 8:00 PM Friday the stage was 33.0 feet. * Minor flooding is occurring and Minor flooding is forecast. * Flood stage is 29.0 feet. * Forecast The river will remain near 32.9 feet. * Impact At 32.0 feet Minor flooding of mostly agricultural land is occurring outside the levee protection system. \",\n          \"The National Weather Service in Burlington has issued a Heat Advisory, which is in effect from noon Saturday to 10 PM EDT Monday.  * LOCATION The Champlain Valley in Vermont and New York and the Saint Lawrence Valley in northern New York.  * HEAT INDEX VALUES Peak heat index values on Saturday will be up to 98 due to temperatures in the low 90s. On Sunday and Monday heat index values will increase to between 101 to 107 with temperatures in the mid 90s.  * TIMING Heat index values above 95 are only expected to be met from around noon to 8pm each day from Saturday through Monday.  * IMPACTS There is a significant risk of heat stress and heat illness for everyone especially those vulnerable populations without air conditioning and those spending significant time outdoors. Heat related illnesses can occur very quickly. Pets are also susceptible to heat illness. Additionally, car interiors can reach lethal temperatures in a matter of minutes. \",\n          \"The Flood Warning has been cancelled and is no longer in effect.\"\n        ],\n        \"semantic_type\": \"\",\n        \"description\": \"\"\n      }\n    },\n    {\n      \"column\": \"instruction\",\n      \"properties\": {\n        \"dtype\": \"string\",\n        \"num_unique_values\": 10,\n        \"samples\": [\n          \"PRECAUTIONARY/PREPAREDNESS ACTIONS...\\n\\nDo not drive or walk through areas where water covers roadway! The\\nwater may be deeper than it appears. Remember...Turn around, don't\\ndrown!\\n\\nPlease note that forecast crests are based upon rainfall that has\\noccurred along with forecast rainfall for the next 24 hours. River\\nforecasts in the Tombigbee River Basin have an additional 48 hours of\\nrainfall added. Rainfall amounts greater than forecast may take the\\nrivers higher.\\n\\n\\nAdditional information is available at:\\nhttps://water.weather.gov/ahps2/index.php?wfo=JAN\\n\\nThe next regularly scheduled update is expected between 8 and 10 AM.\\n\\n\",\n          \"A Heat Advisory means that a period of hot temperatures is\\nexpected. The combination of hot temperatures and high humidity\\nwill combine to create a dangerous situation in which heat\\nillnesses are possible.\\n\\nPlease stay tuned to NOAA Weather Radio, your local media, or go\\nto www.weather.gov/Burlington for further updates on this weather\\nsituation.\\n\\n\",\n          \"PRECAUTIONARY/PREPAREDNESS ACTIONS...\\n\\nDo not drive or walk through areas where water covers roadway! The\\nwater may be deeper than it appears. Remember...Turn around, don't\\ndrown!\\n\\nForecasts are based on rainfall that has occurred and that which is\\nforecast to occur. Routine 24 hours of forecast rainfall is used for\\nall rivers  except for those in the Tombigbee River System which\\nincludes Tibbee Creek,  Luxapallila Creek, Noxubee River,and the\\nTombigbee River mainstem where a routine of 48 hours of additional\\nrainfall is used.\\n\\nThe next regularly scheduled update is expected tonight between 8 and\\n10 PM.\\n\\n\"\n        ],\n        \"semantic_type\": \"\",\n        \"description\": \"\"\n      }\n    },\n    {\n      \"column\": \"urgency\",\n      \"properties\": {\n        \"dtype\": \"category\",\n        \"num_unique_values\": 3,\n        \"samples\": [\n          \"Immediate\",\n          \"Expected\",\n          \"Past\"\n        ],\n        \"semantic_type\": \"\",\n        \"description\": \"\"\n      }\n    },\n    {\n      \"column\": \"severity\",\n      \"properties\": {\n        \"dtype\": \"category\",\n        \"num_unique_values\": 3,\n        \"samples\": [\n          \"Severe\",\n          \"Moderate\",\n          \"Minor\"\n        ],\n        \"semantic_type\": \"\",\n        \"description\": \"\"\n      }\n    }\n  ]\n}"
            }
          },
          "metadata": {},
          "execution_count": 16
        }
      ]
    },
    {
      "cell_type": "markdown",
      "source": [
        "###Normalización:\n",
        "La normalización es una tarea que tiene como objetivo poner todo el texto en igualdad de condiciones:\n",
        "- Convertir todo el texto en mayúscula o minúsculas\n",
        "- Eliminar, puntos, comas, comillas, etc.\n",
        "- Convertir los números a su equivalente a palabras\n",
        "- Quitar las Stop-words\n",
        "Empezamos con pasar todo el texto a minuscula:\n",
        "\n",
        "\n"
      ],
      "metadata": {
        "id": "oBF5eHWAlntG"
      }
    },
    {
      "cell_type": "code",
      "source": [
        "alertas_nuevo['description'] = alertas_nuevo['description'].str.lower()\n",
        "alertas_nuevo['description'].iloc[142406] #Probamos esa fila"
      ],
      "metadata": {
        "colab": {
          "base_uri": "https://localhost:8080/",
          "height": 181
        },
        "id": "xYQaMCa1m6Ki",
        "outputId": "6b408050-6bcb-4efa-d09d-51172351c571"
      },
      "execution_count": 17,
      "outputs": [
        {
          "output_type": "stream",
          "name": "stderr",
          "text": [
            "<ipython-input-17-aff8c87ab38e>:1: SettingWithCopyWarning: \n",
            "A value is trying to be set on a copy of a slice from a DataFrame.\n",
            "Try using .loc[row_indexer,col_indexer] = value instead\n",
            "\n",
            "See the caveats in the documentation: https://pandas.pydata.org/pandas-docs/stable/user_guide/indexing.html#returning-a-view-versus-a-copy\n",
            "  alertas_nuevo['description'] = alertas_nuevo['description'].str.lower()\n"
          ]
        },
        {
          "output_type": "execute_result",
          "data": {
            "text/plain": [
              "'* what north to northeast winds 15 to 25 mph with gusts to 40 mph.  * where western san fernando valley.  * when until 3 pm pdt thursday.  * impacts gusty winds will make driving difficult and could blow around unsecured objects. tree limbs could be blown down.  * additional details '"
            ],
            "application/vnd.google.colaboratory.intrinsic+json": {
              "type": "string"
            }
          },
          "metadata": {},
          "execution_count": 17
        }
      ]
    },
    {
      "cell_type": "markdown",
      "source": [
        "Eliminar, puntos, comas, comillas, etc. Para ello utilizamos expresiones regulares."
      ],
      "metadata": {
        "id": "bPMdmSEwn0K6"
      }
    },
    {
      "cell_type": "code",
      "source": [
        "import re\n",
        "\n",
        "# Eliminar puntuación usando expresiones regulares\n",
        "alertas_nuevo['description'] = alertas_nuevo['description'].str.replace(r'[^\\w\\s]', '', regex=True)\n",
        "\n",
        "alertas_nuevo['description'].iloc[142406] #Probamos esa fila"
      ],
      "metadata": {
        "colab": {
          "base_uri": "https://localhost:8080/",
          "height": 181
        },
        "id": "5MJEYlPBn1lw",
        "outputId": "0e021d63-fbec-4d6b-e732-c172d55df2fa"
      },
      "execution_count": 18,
      "outputs": [
        {
          "output_type": "stream",
          "name": "stderr",
          "text": [
            "<ipython-input-18-5f2ff69604eb>:4: SettingWithCopyWarning: \n",
            "A value is trying to be set on a copy of a slice from a DataFrame.\n",
            "Try using .loc[row_indexer,col_indexer] = value instead\n",
            "\n",
            "See the caveats in the documentation: https://pandas.pydata.org/pandas-docs/stable/user_guide/indexing.html#returning-a-view-versus-a-copy\n",
            "  alertas_nuevo['description'] = alertas_nuevo['description'].str.replace(r'[^\\w\\s]', '', regex=True)\n"
          ]
        },
        {
          "output_type": "execute_result",
          "data": {
            "text/plain": [
              "' what north to northeast winds 15 to 25 mph with gusts to 40 mph   where western san fernando valley   when until 3 pm pdt thursday   impacts gusty winds will make driving difficult and could blow around unsecured objects tree limbs could be blown down   additional details '"
            ],
            "application/vnd.google.colaboratory.intrinsic+json": {
              "type": "string"
            }
          },
          "metadata": {},
          "execution_count": 18
        }
      ]
    },
    {
      "cell_type": "markdown",
      "source": [
        "Pasando numeros a letras. Usamos la libreria num2words"
      ],
      "metadata": {
        "id": "f1AZ3JzupiWZ"
      }
    },
    {
      "cell_type": "code",
      "source": [
        "!pip install num2words\n"
      ],
      "metadata": {
        "colab": {
          "base_uri": "https://localhost:8080/"
        },
        "id": "WZb6ZAP4pdSH",
        "outputId": "73678a23-ce23-499f-e264-80bff87b7b0f"
      },
      "execution_count": 19,
      "outputs": [
        {
          "output_type": "stream",
          "name": "stdout",
          "text": [
            "Collecting num2words\n",
            "  Downloading num2words-0.5.13-py3-none-any.whl (143 kB)\n",
            "\u001b[?25l     \u001b[90m━━━━━━━━━━━━━━━━━━━━━━━━━━━━━━━━━━━━━━━━\u001b[0m \u001b[32m0.0/143.3 kB\u001b[0m \u001b[31m?\u001b[0m eta \u001b[36m-:--:--\u001b[0m\r\u001b[2K     \u001b[91m━━━━━━━━━━━━━━━━━━━━━━━━━━━━━━━━━━━━━\u001b[0m\u001b[90m╺\u001b[0m\u001b[90m━━\u001b[0m \u001b[32m133.1/143.3 kB\u001b[0m \u001b[31m4.1 MB/s\u001b[0m eta \u001b[36m0:00:01\u001b[0m\r\u001b[2K     \u001b[90m━━━━━━━━━━━━━━━━━━━━━━━━━━━━━━━━━━━━━━━━\u001b[0m \u001b[32m143.3/143.3 kB\u001b[0m \u001b[31m3.6 MB/s\u001b[0m eta \u001b[36m0:00:00\u001b[0m\n",
            "\u001b[?25hCollecting docopt>=0.6.2 (from num2words)\n",
            "  Downloading docopt-0.6.2.tar.gz (25 kB)\n",
            "  Preparing metadata (setup.py) ... \u001b[?25l\u001b[?25hdone\n",
            "Building wheels for collected packages: docopt\n",
            "  Building wheel for docopt (setup.py) ... \u001b[?25l\u001b[?25hdone\n",
            "  Created wheel for docopt: filename=docopt-0.6.2-py2.py3-none-any.whl size=13706 sha256=af9e17c6fc52d5736f68b8a260502245ec7cedb239b44df5b2058391b9894236\n",
            "  Stored in directory: /root/.cache/pip/wheels/fc/ab/d4/5da2067ac95b36618c629a5f93f809425700506f72c9732fac\n",
            "Successfully built docopt\n",
            "Installing collected packages: docopt, num2words\n",
            "Successfully installed docopt-0.6.2 num2words-0.5.13\n"
          ]
        }
      ]
    },
    {
      "cell_type": "code",
      "source": [
        "from num2words import num2words\n",
        "\n",
        "# Función para extraer números de una cadena de texto y convertirlos en palabras\n",
        "def convert_numbers_to_words(text):\n",
        "    numbers = re.findall(r'\\d+', text) #Busca numeros\n",
        "    for number in numbers:\n",
        "        text = text.replace(number, num2words(int(number)))\n",
        "    return text\n",
        "\n",
        "alertas_nuevo['description'] = alertas_nuevo['description'].apply(convert_numbers_to_words)\n",
        "\n",
        "alertas_nuevo['description'].iloc[142406] #Probamos esa fila"
      ],
      "metadata": {
        "colab": {
          "base_uri": "https://localhost:8080/",
          "height": 181
        },
        "id": "0FbODkEarlRT",
        "outputId": "4fd22ff2-c363-4f20-db16-0b2767f4d081"
      },
      "execution_count": 20,
      "outputs": [
        {
          "output_type": "stream",
          "name": "stderr",
          "text": [
            "<ipython-input-20-7eeb42292367>:10: SettingWithCopyWarning: \n",
            "A value is trying to be set on a copy of a slice from a DataFrame.\n",
            "Try using .loc[row_indexer,col_indexer] = value instead\n",
            "\n",
            "See the caveats in the documentation: https://pandas.pydata.org/pandas-docs/stable/user_guide/indexing.html#returning-a-view-versus-a-copy\n",
            "  alertas_nuevo['description'] = alertas_nuevo['description'].apply(convert_numbers_to_words)\n"
          ]
        },
        {
          "output_type": "execute_result",
          "data": {
            "text/plain": [
              "' what north to northeast winds fifteen to twenty-five mph with gusts to forty mph   where western san fernando valley   when until three pm pdt thursday   impacts gusty winds will make driving difficult and could blow around unsecured objects tree limbs could be blown down   additional details '"
            ],
            "application/vnd.google.colaboratory.intrinsic+json": {
              "type": "string"
            }
          },
          "metadata": {},
          "execution_count": 20
        }
      ]
    },
    {
      "cell_type": "markdown",
      "source": [
        "###Tokenización:\n",
        "\n",
        "Este paso tiene como objetivo dividir las cadenas de texto del documento en piezas más pequeñas o tokens.\n",
        "Aunque la tokenización es el proceso de dividir grandes cadenas de texto en cadenas más pequeñas, se suele diferenciar la:\n",
        "- Segmentation: Tarea de dividir grandes cadenas de texto en piezas más pequeñas como oraciones o párrafos.\n",
        "- Tokenization: Tarea de dividir grandes cadenas de texto solo y exclusivamente en palabras.\n",
        "\n",
        "Se va a usar la biblioteca NLTK."
      ],
      "metadata": {
        "id": "djMAeko76-s0"
      }
    },
    {
      "cell_type": "code",
      "source": [
        "!pip install nltk"
      ],
      "metadata": {
        "id": "hy_eyWtg7AUV",
        "outputId": "496156b9-beb0-4928-ec5b-9ecf31d672c6",
        "colab": {
          "base_uri": "https://localhost:8080/"
        }
      },
      "execution_count": 21,
      "outputs": [
        {
          "output_type": "stream",
          "name": "stdout",
          "text": [
            "Requirement already satisfied: nltk in /usr/local/lib/python3.10/dist-packages (3.8.1)\n",
            "Requirement already satisfied: click in /usr/local/lib/python3.10/dist-packages (from nltk) (8.1.7)\n",
            "Requirement already satisfied: joblib in /usr/local/lib/python3.10/dist-packages (from nltk) (1.4.2)\n",
            "Requirement already satisfied: regex>=2021.8.3 in /usr/local/lib/python3.10/dist-packages (from nltk) (2024.5.15)\n",
            "Requirement already satisfied: tqdm in /usr/local/lib/python3.10/dist-packages (from nltk) (4.66.4)\n"
          ]
        }
      ]
    },
    {
      "cell_type": "code",
      "source": [
        "import nltk"
      ],
      "metadata": {
        "id": "5-DZF2M79UW4"
      },
      "execution_count": 22,
      "outputs": []
    },
    {
      "cell_type": "markdown",
      "source": [
        "Se descarga el modelo pre entrenado 'punkt' para realizar la tokenizacion de manera efectiva."
      ],
      "metadata": {
        "id": "CgBDSEcC9XoD"
      }
    },
    {
      "cell_type": "code",
      "source": [
        "nltk.download('punkt')"
      ],
      "metadata": {
        "id": "7S8_h7MX9LzA",
        "outputId": "c5121434-75a6-4d0a-b284-46625c7e196d",
        "colab": {
          "base_uri": "https://localhost:8080/"
        }
      },
      "execution_count": 23,
      "outputs": [
        {
          "output_type": "stream",
          "name": "stderr",
          "text": [
            "[nltk_data] Downloading package punkt to /root/nltk_data...\n",
            "[nltk_data]   Unzipping tokenizers/punkt.zip.\n"
          ]
        },
        {
          "output_type": "execute_result",
          "data": {
            "text/plain": [
              "True"
            ]
          },
          "metadata": {},
          "execution_count": 23
        }
      ]
    },
    {
      "cell_type": "markdown",
      "source": [
        "Se hace este proceso en lotes ya que es un extenso el dataset"
      ],
      "metadata": {
        "id": "lmfUdmX_oUcw"
      }
    },
    {
      "cell_type": "code",
      "source": [
        "#tokenizar texto en lotes\n",
        "def tokenizador(texts, batch_size=100):\n",
        "    tokenized_texts = []\n",
        "    for i in range(0, len(texts), batch_size):\n",
        "        batch = texts[i:i+batch_size]\n",
        "        tokenized_batch = [nltk.word_tokenize(str(text)) for text in batch]\n",
        "        tokenized_texts.extend(tokenized_batch)\n",
        "    return tokenized_texts\n"
      ],
      "metadata": {
        "id": "pL1dn509wRBL"
      },
      "execution_count": 24,
      "outputs": []
    },
    {
      "cell_type": "code",
      "source": [
        "# Tokenizar en lotes y aplicar a la columna \"description\"\n",
        "batch_size = 100\n",
        "alertas_nuevo['description_token'] = tokenizador(alertas_nuevo['description'], batch_size)"
      ],
      "metadata": {
        "id": "fmL5ybDrOQmW",
        "outputId": "81d9e700-9b26-4f28-cec6-ff5119a6199d",
        "colab": {
          "base_uri": "https://localhost:8080/"
        }
      },
      "execution_count": 25,
      "outputs": [
        {
          "output_type": "stream",
          "name": "stderr",
          "text": [
            "<ipython-input-25-74ae6ecba1cc>:3: SettingWithCopyWarning: \n",
            "A value is trying to be set on a copy of a slice from a DataFrame.\n",
            "Try using .loc[row_indexer,col_indexer] = value instead\n",
            "\n",
            "See the caveats in the documentation: https://pandas.pydata.org/pandas-docs/stable/user_guide/indexing.html#returning-a-view-versus-a-copy\n",
            "  alertas_nuevo['description_token'] = tokenizador(alertas_nuevo['description'], batch_size)\n"
          ]
        }
      ]
    },
    {
      "cell_type": "code",
      "source": [
        "alertas_nuevo['description_token'].iloc[142406] #Probamos esa fila"
      ],
      "metadata": {
        "id": "0G6iM49s-kBP",
        "outputId": "5c03355a-7e6c-4d81-ce57-37256eb99ff9",
        "colab": {
          "base_uri": "https://localhost:8080/"
        }
      },
      "execution_count": 28,
      "outputs": [
        {
          "output_type": "execute_result",
          "data": {
            "text/plain": [
              "['what',\n",
              " 'north',\n",
              " 'to',\n",
              " 'northeast',\n",
              " 'winds',\n",
              " 'fifteen',\n",
              " 'to',\n",
              " 'twenty-five',\n",
              " 'mph',\n",
              " 'with',\n",
              " 'gusts',\n",
              " 'to',\n",
              " 'forty',\n",
              " 'mph',\n",
              " 'where',\n",
              " 'western',\n",
              " 'san',\n",
              " 'fernando',\n",
              " 'valley',\n",
              " 'when',\n",
              " 'until',\n",
              " 'three',\n",
              " 'pm',\n",
              " 'pdt',\n",
              " 'thursday',\n",
              " 'impacts',\n",
              " 'gusty',\n",
              " 'winds',\n",
              " 'will',\n",
              " 'make',\n",
              " 'driving',\n",
              " 'difficult',\n",
              " 'and',\n",
              " 'could',\n",
              " 'blow',\n",
              " 'around',\n",
              " 'unsecured',\n",
              " 'objects',\n",
              " 'tree',\n",
              " 'limbs',\n",
              " 'could',\n",
              " 'be',\n",
              " 'blown',\n",
              " 'down',\n",
              " 'additional',\n",
              " 'details']"
            ]
          },
          "metadata": {},
          "execution_count": 28
        }
      ]
    },
    {
      "cell_type": "markdown",
      "source": [
        "Ahora las se elimina las stop words que son palabras que se filtran o eliminan del texto durante el procesamiento del lenguaje natural (NLP) porque se consideran comunes y no aportan un significado informativo específico para el análisis. Usamos la libreria spacy"
      ],
      "metadata": {
        "id": "OiGY8PPzrknC"
      }
    },
    {
      "cell_type": "code",
      "source": [
        "!pip install spacy\n",
        "!python -m spacy download en_core_web_sm"
      ],
      "metadata": {
        "colab": {
          "base_uri": "https://localhost:8080/"
        },
        "id": "T_AM-pbivKeB",
        "outputId": "e7b31251-2b8e-49cf-89ef-eeb762edcee5"
      },
      "execution_count": 29,
      "outputs": [
        {
          "output_type": "stream",
          "name": "stdout",
          "text": [
            "Requirement already satisfied: spacy in /usr/local/lib/python3.10/dist-packages (3.7.4)\n",
            "Requirement already satisfied: spacy-legacy<3.1.0,>=3.0.11 in /usr/local/lib/python3.10/dist-packages (from spacy) (3.0.12)\n",
            "Requirement already satisfied: spacy-loggers<2.0.0,>=1.0.0 in /usr/local/lib/python3.10/dist-packages (from spacy) (1.0.5)\n",
            "Requirement already satisfied: murmurhash<1.1.0,>=0.28.0 in /usr/local/lib/python3.10/dist-packages (from spacy) (1.0.10)\n",
            "Requirement already satisfied: cymem<2.1.0,>=2.0.2 in /usr/local/lib/python3.10/dist-packages (from spacy) (2.0.8)\n",
            "Requirement already satisfied: preshed<3.1.0,>=3.0.2 in /usr/local/lib/python3.10/dist-packages (from spacy) (3.0.9)\n",
            "Requirement already satisfied: thinc<8.3.0,>=8.2.2 in /usr/local/lib/python3.10/dist-packages (from spacy) (8.2.3)\n",
            "Requirement already satisfied: wasabi<1.2.0,>=0.9.1 in /usr/local/lib/python3.10/dist-packages (from spacy) (1.1.2)\n",
            "Requirement already satisfied: srsly<3.0.0,>=2.4.3 in /usr/local/lib/python3.10/dist-packages (from spacy) (2.4.8)\n",
            "Requirement already satisfied: catalogue<2.1.0,>=2.0.6 in /usr/local/lib/python3.10/dist-packages (from spacy) (2.0.10)\n",
            "Requirement already satisfied: weasel<0.4.0,>=0.1.0 in /usr/local/lib/python3.10/dist-packages (from spacy) (0.3.4)\n",
            "Requirement already satisfied: typer<0.10.0,>=0.3.0 in /usr/local/lib/python3.10/dist-packages (from spacy) (0.9.4)\n",
            "Requirement already satisfied: smart-open<7.0.0,>=5.2.1 in /usr/local/lib/python3.10/dist-packages (from spacy) (6.4.0)\n",
            "Requirement already satisfied: tqdm<5.0.0,>=4.38.0 in /usr/local/lib/python3.10/dist-packages (from spacy) (4.66.4)\n",
            "Requirement already satisfied: requests<3.0.0,>=2.13.0 in /usr/local/lib/python3.10/dist-packages (from spacy) (2.31.0)\n",
            "Requirement already satisfied: pydantic!=1.8,!=1.8.1,<3.0.0,>=1.7.4 in /usr/local/lib/python3.10/dist-packages (from spacy) (2.7.1)\n",
            "Requirement already satisfied: jinja2 in /usr/local/lib/python3.10/dist-packages (from spacy) (3.1.4)\n",
            "Requirement already satisfied: setuptools in /usr/local/lib/python3.10/dist-packages (from spacy) (67.7.2)\n",
            "Requirement already satisfied: packaging>=20.0 in /usr/local/lib/python3.10/dist-packages (from spacy) (24.0)\n",
            "Requirement already satisfied: langcodes<4.0.0,>=3.2.0 in /usr/local/lib/python3.10/dist-packages (from spacy) (3.4.0)\n",
            "Requirement already satisfied: numpy>=1.19.0 in /usr/local/lib/python3.10/dist-packages (from spacy) (1.25.2)\n",
            "Requirement already satisfied: language-data>=1.2 in /usr/local/lib/python3.10/dist-packages (from langcodes<4.0.0,>=3.2.0->spacy) (1.2.0)\n",
            "Requirement already satisfied: annotated-types>=0.4.0 in /usr/local/lib/python3.10/dist-packages (from pydantic!=1.8,!=1.8.1,<3.0.0,>=1.7.4->spacy) (0.7.0)\n",
            "Requirement already satisfied: pydantic-core==2.18.2 in /usr/local/lib/python3.10/dist-packages (from pydantic!=1.8,!=1.8.1,<3.0.0,>=1.7.4->spacy) (2.18.2)\n",
            "Requirement already satisfied: typing-extensions>=4.6.1 in /usr/local/lib/python3.10/dist-packages (from pydantic!=1.8,!=1.8.1,<3.0.0,>=1.7.4->spacy) (4.11.0)\n",
            "Requirement already satisfied: charset-normalizer<4,>=2 in /usr/local/lib/python3.10/dist-packages (from requests<3.0.0,>=2.13.0->spacy) (3.3.2)\n",
            "Requirement already satisfied: idna<4,>=2.5 in /usr/local/lib/python3.10/dist-packages (from requests<3.0.0,>=2.13.0->spacy) (3.7)\n",
            "Requirement already satisfied: urllib3<3,>=1.21.1 in /usr/local/lib/python3.10/dist-packages (from requests<3.0.0,>=2.13.0->spacy) (2.0.7)\n",
            "Requirement already satisfied: certifi>=2017.4.17 in /usr/local/lib/python3.10/dist-packages (from requests<3.0.0,>=2.13.0->spacy) (2024.2.2)\n",
            "Requirement already satisfied: blis<0.8.0,>=0.7.8 in /usr/local/lib/python3.10/dist-packages (from thinc<8.3.0,>=8.2.2->spacy) (0.7.11)\n",
            "Requirement already satisfied: confection<1.0.0,>=0.0.1 in /usr/local/lib/python3.10/dist-packages (from thinc<8.3.0,>=8.2.2->spacy) (0.1.4)\n",
            "Requirement already satisfied: click<9.0.0,>=7.1.1 in /usr/local/lib/python3.10/dist-packages (from typer<0.10.0,>=0.3.0->spacy) (8.1.7)\n",
            "Requirement already satisfied: cloudpathlib<0.17.0,>=0.7.0 in /usr/local/lib/python3.10/dist-packages (from weasel<0.4.0,>=0.1.0->spacy) (0.16.0)\n",
            "Requirement already satisfied: MarkupSafe>=2.0 in /usr/local/lib/python3.10/dist-packages (from jinja2->spacy) (2.1.5)\n",
            "Requirement already satisfied: marisa-trie>=0.7.7 in /usr/local/lib/python3.10/dist-packages (from language-data>=1.2->langcodes<4.0.0,>=3.2.0->spacy) (1.1.1)\n",
            "Collecting en-core-web-sm==3.7.1\n",
            "  Downloading https://github.com/explosion/spacy-models/releases/download/en_core_web_sm-3.7.1/en_core_web_sm-3.7.1-py3-none-any.whl (12.8 MB)\n",
            "\u001b[2K     \u001b[90m━━━━━━━━━━━━━━━━━━━━━━━━━━━━━━━━━━━━━━━━\u001b[0m \u001b[32m12.8/12.8 MB\u001b[0m \u001b[31m41.0 MB/s\u001b[0m eta \u001b[36m0:00:00\u001b[0m\n",
            "\u001b[?25hRequirement already satisfied: spacy<3.8.0,>=3.7.2 in /usr/local/lib/python3.10/dist-packages (from en-core-web-sm==3.7.1) (3.7.4)\n",
            "Requirement already satisfied: spacy-legacy<3.1.0,>=3.0.11 in /usr/local/lib/python3.10/dist-packages (from spacy<3.8.0,>=3.7.2->en-core-web-sm==3.7.1) (3.0.12)\n",
            "Requirement already satisfied: spacy-loggers<2.0.0,>=1.0.0 in /usr/local/lib/python3.10/dist-packages (from spacy<3.8.0,>=3.7.2->en-core-web-sm==3.7.1) (1.0.5)\n",
            "Requirement already satisfied: murmurhash<1.1.0,>=0.28.0 in /usr/local/lib/python3.10/dist-packages (from spacy<3.8.0,>=3.7.2->en-core-web-sm==3.7.1) (1.0.10)\n",
            "Requirement already satisfied: cymem<2.1.0,>=2.0.2 in /usr/local/lib/python3.10/dist-packages (from spacy<3.8.0,>=3.7.2->en-core-web-sm==3.7.1) (2.0.8)\n",
            "Requirement already satisfied: preshed<3.1.0,>=3.0.2 in /usr/local/lib/python3.10/dist-packages (from spacy<3.8.0,>=3.7.2->en-core-web-sm==3.7.1) (3.0.9)\n",
            "Requirement already satisfied: thinc<8.3.0,>=8.2.2 in /usr/local/lib/python3.10/dist-packages (from spacy<3.8.0,>=3.7.2->en-core-web-sm==3.7.1) (8.2.3)\n",
            "Requirement already satisfied: wasabi<1.2.0,>=0.9.1 in /usr/local/lib/python3.10/dist-packages (from spacy<3.8.0,>=3.7.2->en-core-web-sm==3.7.1) (1.1.2)\n",
            "Requirement already satisfied: srsly<3.0.0,>=2.4.3 in /usr/local/lib/python3.10/dist-packages (from spacy<3.8.0,>=3.7.2->en-core-web-sm==3.7.1) (2.4.8)\n",
            "Requirement already satisfied: catalogue<2.1.0,>=2.0.6 in /usr/local/lib/python3.10/dist-packages (from spacy<3.8.0,>=3.7.2->en-core-web-sm==3.7.1) (2.0.10)\n",
            "Requirement already satisfied: weasel<0.4.0,>=0.1.0 in /usr/local/lib/python3.10/dist-packages (from spacy<3.8.0,>=3.7.2->en-core-web-sm==3.7.1) (0.3.4)\n",
            "Requirement already satisfied: typer<0.10.0,>=0.3.0 in /usr/local/lib/python3.10/dist-packages (from spacy<3.8.0,>=3.7.2->en-core-web-sm==3.7.1) (0.9.4)\n",
            "Requirement already satisfied: smart-open<7.0.0,>=5.2.1 in /usr/local/lib/python3.10/dist-packages (from spacy<3.8.0,>=3.7.2->en-core-web-sm==3.7.1) (6.4.0)\n",
            "Requirement already satisfied: tqdm<5.0.0,>=4.38.0 in /usr/local/lib/python3.10/dist-packages (from spacy<3.8.0,>=3.7.2->en-core-web-sm==3.7.1) (4.66.4)\n",
            "Requirement already satisfied: requests<3.0.0,>=2.13.0 in /usr/local/lib/python3.10/dist-packages (from spacy<3.8.0,>=3.7.2->en-core-web-sm==3.7.1) (2.31.0)\n",
            "Requirement already satisfied: pydantic!=1.8,!=1.8.1,<3.0.0,>=1.7.4 in /usr/local/lib/python3.10/dist-packages (from spacy<3.8.0,>=3.7.2->en-core-web-sm==3.7.1) (2.7.1)\n",
            "Requirement already satisfied: jinja2 in /usr/local/lib/python3.10/dist-packages (from spacy<3.8.0,>=3.7.2->en-core-web-sm==3.7.1) (3.1.4)\n",
            "Requirement already satisfied: setuptools in /usr/local/lib/python3.10/dist-packages (from spacy<3.8.0,>=3.7.2->en-core-web-sm==3.7.1) (67.7.2)\n",
            "Requirement already satisfied: packaging>=20.0 in /usr/local/lib/python3.10/dist-packages (from spacy<3.8.0,>=3.7.2->en-core-web-sm==3.7.1) (24.0)\n",
            "Requirement already satisfied: langcodes<4.0.0,>=3.2.0 in /usr/local/lib/python3.10/dist-packages (from spacy<3.8.0,>=3.7.2->en-core-web-sm==3.7.1) (3.4.0)\n",
            "Requirement already satisfied: numpy>=1.19.0 in /usr/local/lib/python3.10/dist-packages (from spacy<3.8.0,>=3.7.2->en-core-web-sm==3.7.1) (1.25.2)\n",
            "Requirement already satisfied: language-data>=1.2 in /usr/local/lib/python3.10/dist-packages (from langcodes<4.0.0,>=3.2.0->spacy<3.8.0,>=3.7.2->en-core-web-sm==3.7.1) (1.2.0)\n",
            "Requirement already satisfied: annotated-types>=0.4.0 in /usr/local/lib/python3.10/dist-packages (from pydantic!=1.8,!=1.8.1,<3.0.0,>=1.7.4->spacy<3.8.0,>=3.7.2->en-core-web-sm==3.7.1) (0.7.0)\n",
            "Requirement already satisfied: pydantic-core==2.18.2 in /usr/local/lib/python3.10/dist-packages (from pydantic!=1.8,!=1.8.1,<3.0.0,>=1.7.4->spacy<3.8.0,>=3.7.2->en-core-web-sm==3.7.1) (2.18.2)\n",
            "Requirement already satisfied: typing-extensions>=4.6.1 in /usr/local/lib/python3.10/dist-packages (from pydantic!=1.8,!=1.8.1,<3.0.0,>=1.7.4->spacy<3.8.0,>=3.7.2->en-core-web-sm==3.7.1) (4.11.0)\n",
            "Requirement already satisfied: charset-normalizer<4,>=2 in /usr/local/lib/python3.10/dist-packages (from requests<3.0.0,>=2.13.0->spacy<3.8.0,>=3.7.2->en-core-web-sm==3.7.1) (3.3.2)\n",
            "Requirement already satisfied: idna<4,>=2.5 in /usr/local/lib/python3.10/dist-packages (from requests<3.0.0,>=2.13.0->spacy<3.8.0,>=3.7.2->en-core-web-sm==3.7.1) (3.7)\n",
            "Requirement already satisfied: urllib3<3,>=1.21.1 in /usr/local/lib/python3.10/dist-packages (from requests<3.0.0,>=2.13.0->spacy<3.8.0,>=3.7.2->en-core-web-sm==3.7.1) (2.0.7)\n",
            "Requirement already satisfied: certifi>=2017.4.17 in /usr/local/lib/python3.10/dist-packages (from requests<3.0.0,>=2.13.0->spacy<3.8.0,>=3.7.2->en-core-web-sm==3.7.1) (2024.2.2)\n",
            "Requirement already satisfied: blis<0.8.0,>=0.7.8 in /usr/local/lib/python3.10/dist-packages (from thinc<8.3.0,>=8.2.2->spacy<3.8.0,>=3.7.2->en-core-web-sm==3.7.1) (0.7.11)\n",
            "Requirement already satisfied: confection<1.0.0,>=0.0.1 in /usr/local/lib/python3.10/dist-packages (from thinc<8.3.0,>=8.2.2->spacy<3.8.0,>=3.7.2->en-core-web-sm==3.7.1) (0.1.4)\n",
            "Requirement already satisfied: click<9.0.0,>=7.1.1 in /usr/local/lib/python3.10/dist-packages (from typer<0.10.0,>=0.3.0->spacy<3.8.0,>=3.7.2->en-core-web-sm==3.7.1) (8.1.7)\n",
            "Requirement already satisfied: cloudpathlib<0.17.0,>=0.7.0 in /usr/local/lib/python3.10/dist-packages (from weasel<0.4.0,>=0.1.0->spacy<3.8.0,>=3.7.2->en-core-web-sm==3.7.1) (0.16.0)\n",
            "Requirement already satisfied: MarkupSafe>=2.0 in /usr/local/lib/python3.10/dist-packages (from jinja2->spacy<3.8.0,>=3.7.2->en-core-web-sm==3.7.1) (2.1.5)\n",
            "Requirement already satisfied: marisa-trie>=0.7.7 in /usr/local/lib/python3.10/dist-packages (from language-data>=1.2->langcodes<4.0.0,>=3.2.0->spacy<3.8.0,>=3.7.2->en-core-web-sm==3.7.1) (1.1.1)\n",
            "\u001b[38;5;2m✔ Download and installation successful\u001b[0m\n",
            "You can now load the package via spacy.load('en_core_web_sm')\n",
            "\u001b[38;5;3m⚠ Restart to reload dependencies\u001b[0m\n",
            "If you are in a Jupyter or Colab notebook, you may need to restart Python in\n",
            "order to load all the package's dependencies. You can do this by selecting the\n",
            "'Restart kernel' or 'Restart runtime' option.\n"
          ]
        }
      ]
    },
    {
      "cell_type": "code",
      "source": [
        "from nltk.corpus import stopwords\n",
        "import spacy"
      ],
      "metadata": {
        "id": "4_8Q_JAMwisN"
      },
      "execution_count": 30,
      "outputs": []
    },
    {
      "cell_type": "code",
      "source": [
        "nltk.download('stopwords')"
      ],
      "metadata": {
        "id": "wq0ofmIrwl-d",
        "outputId": "4e6fa99a-236b-4769-c1b4-fde38a10247c",
        "colab": {
          "base_uri": "https://localhost:8080/"
        }
      },
      "execution_count": 31,
      "outputs": [
        {
          "output_type": "stream",
          "name": "stderr",
          "text": [
            "[nltk_data] Downloading package stopwords to /root/nltk_data...\n",
            "[nltk_data]   Unzipping corpora/stopwords.zip.\n"
          ]
        },
        {
          "output_type": "execute_result",
          "data": {
            "text/plain": [
              "True"
            ]
          },
          "metadata": {},
          "execution_count": 31
        }
      ]
    },
    {
      "cell_type": "code",
      "source": [
        "nlp = spacy.load('en_core_web_sm')\n",
        "# Configurar stop words en inglés\n",
        "stop_words = set(stopwords.words('english'))\n",
        "# Función para eliminar stop words de una lista de tokens\n",
        "def remove_stop_words(tokens):\n",
        "    return [word for word in tokens if word.lower() not in stop_words]"
      ],
      "metadata": {
        "id": "-RH4JeFs_DJE"
      },
      "execution_count": 32,
      "outputs": []
    },
    {
      "cell_type": "code",
      "source": [
        "alertas_nuevo['description_no_stopwords'] = alertas_nuevo['description_token'].apply(lambda x: remove_stop_words(x))"
      ],
      "metadata": {
        "id": "PNTuGuJUw0lC",
        "outputId": "1ecbd17e-6d83-4508-f99b-ce341fa06138",
        "colab": {
          "base_uri": "https://localhost:8080/"
        }
      },
      "execution_count": 33,
      "outputs": [
        {
          "output_type": "stream",
          "name": "stderr",
          "text": [
            "<ipython-input-33-16cd20f02efc>:1: SettingWithCopyWarning: \n",
            "A value is trying to be set on a copy of a slice from a DataFrame.\n",
            "Try using .loc[row_indexer,col_indexer] = value instead\n",
            "\n",
            "See the caveats in the documentation: https://pandas.pydata.org/pandas-docs/stable/user_guide/indexing.html#returning-a-view-versus-a-copy\n",
            "  alertas_nuevo['description_no_stopwords'] = alertas_nuevo['description_token'].apply(lambda x: remove_stop_words(x))\n"
          ]
        }
      ]
    },
    {
      "cell_type": "code",
      "source": [
        "alertas_nuevo['description_no_stopwords'].iloc[142406]"
      ],
      "metadata": {
        "id": "oUrDsF5NRkHv",
        "outputId": "618a8041-6c90-4797-843e-70f107e0d8f8",
        "colab": {
          "base_uri": "https://localhost:8080/"
        }
      },
      "execution_count": 34,
      "outputs": [
        {
          "output_type": "execute_result",
          "data": {
            "text/plain": [
              "['north',\n",
              " 'northeast',\n",
              " 'winds',\n",
              " 'fifteen',\n",
              " 'twenty-five',\n",
              " 'mph',\n",
              " 'gusts',\n",
              " 'forty',\n",
              " 'mph',\n",
              " 'western',\n",
              " 'san',\n",
              " 'fernando',\n",
              " 'valley',\n",
              " 'three',\n",
              " 'pm',\n",
              " 'pdt',\n",
              " 'thursday',\n",
              " 'impacts',\n",
              " 'gusty',\n",
              " 'winds',\n",
              " 'make',\n",
              " 'driving',\n",
              " 'difficult',\n",
              " 'could',\n",
              " 'blow',\n",
              " 'around',\n",
              " 'unsecured',\n",
              " 'objects',\n",
              " 'tree',\n",
              " 'limbs',\n",
              " 'could',\n",
              " 'blown',\n",
              " 'additional',\n",
              " 'details']"
            ]
          },
          "metadata": {},
          "execution_count": 34
        }
      ]
    },
    {
      "cell_type": "code",
      "source": [
        "# Mostrar algunas filas del DataFrame procesado\n",
        "print(alertas_nuevo[['event','description', 'description_no_stopwords', 'urgency','severity']].head())"
      ],
      "metadata": {
        "id": "dHVsisPCeWeX"
      },
      "execution_count": null,
      "outputs": []
    },
    {
      "cell_type": "code",
      "source": [
        "#alertas_nuevo.to_csv('alertas_procesado.csv', index=False)"
      ],
      "metadata": {
        "id": "G9OgU5jFVZon"
      },
      "execution_count": null,
      "outputs": []
    }
  ]
}