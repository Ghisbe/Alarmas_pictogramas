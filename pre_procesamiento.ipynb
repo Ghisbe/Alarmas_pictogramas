{
  "nbformat": 4,
  "nbformat_minor": 0,
  "metadata": {
    "colab": {
      "provenance": [],
      "gpuType": "T4",
      "include_colab_link": true
    },
    "kernelspec": {
      "name": "python3",
      "display_name": "Python 3"
    },
    "language_info": {
      "name": "python"
    },
    "accelerator": "GPU"
  },
  "cells": [
    {
      "cell_type": "markdown",
      "metadata": {
        "id": "view-in-github",
        "colab_type": "text"
      },
      "source": [
        "<a href=\"https://colab.research.google.com/github/Ghisbe/Alarmas_pictogramas/blob/main/pre_procesamiento.ipynb\" target=\"_parent\"><img src=\"https://colab.research.google.com/assets/colab-badge.svg\" alt=\"Open In Colab\"/></a>"
      ]
    },
    {
      "cell_type": "code",
      "execution_count": 24,
      "metadata": {
        "colab": {
          "base_uri": "https://localhost:8080/"
        },
        "id": "lsM3_lEM5KQX",
        "outputId": "69f411b6-541f-4603-cc74-bd3598c7fd6f"
      },
      "outputs": [
        {
          "output_type": "stream",
          "name": "stdout",
          "text": [
            "Drive already mounted at /content/drive; to attempt to forcibly remount, call drive.mount(\"/content/drive\", force_remount=True).\n"
          ]
        }
      ],
      "source": [
        "from google.colab import drive\n",
        "drive.mount('/content/drive')\n",
        "import pandas as pd\n",
        "import gdown"
      ]
    },
    {
      "cell_type": "code",
      "source": [
        "url = \"https://drive.google.com/uc?id=1MdxRAfh0ojpqayiSGiieg_S9Zo0vdjGt\"\n"
      ],
      "metadata": {
        "id": "mCA0Odfv5W_k"
      },
      "execution_count": 25,
      "outputs": []
    },
    {
      "cell_type": "code",
      "source": [
        "output = 'df_definitivo.csv'\n",
        "gdown.download(url, output, quiet=False)\n",
        "\n",
        "# Leer el archivo CSV en un DataFrame de pandas\n",
        "df_alertas = pd.read_csv(output)"
      ],
      "metadata": {
        "colab": {
          "base_uri": "https://localhost:8080/"
        },
        "id": "_FbsbqX15lL1",
        "outputId": "b8e91093-a37c-4993-8bf9-fd06b6e7ad80"
      },
      "execution_count": 26,
      "outputs": [
        {
          "output_type": "stream",
          "name": "stderr",
          "text": [
            "Downloading...\n",
            "From (original): https://drive.google.com/uc?id=1MdxRAfh0ojpqayiSGiieg_S9Zo0vdjGt\n",
            "From (redirected): https://drive.google.com/uc?id=1MdxRAfh0ojpqayiSGiieg_S9Zo0vdjGt&confirm=t&uuid=fa0dd0d0-227c-4128-b610-49a486edd4a5\n",
            "To: /content/df_definitivo.csv\n",
            "100%|██████████| 1.51G/1.51G [00:11<00:00, 132MB/s] \n"
          ]
        }
      ]
    },
    {
      "cell_type": "code",
      "source": [
        "df_alertas"
      ],
      "metadata": {
        "colab": {
          "base_uri": "https://localhost:8080/",
          "height": 981
        },
        "id": "_GqoSpDv5sw_",
        "outputId": "e36a3ad4-d52e-44d5-bd9b-23e5d16000bc"
      },
      "execution_count": 27,
      "outputs": [
        {
          "output_type": "execute_result",
          "data": {
            "text/plain": [
              "                               id                      event  \\\n",
              "0        5ed3a4b2283336e2e7db3a1c  Special Weather Statement   \n",
              "1        5ed3a07c283336e2e7d2bfa4              Flood Warning   \n",
              "2        5ed39e54283336e2e7d22306             Flood Advisory   \n",
              "3        5ed39e11283336e2e7d15e23                Flood Watch   \n",
              "4        5ed3962c283336e2e7c1d935              Flood Warning   \n",
              "...                           ...                        ...   \n",
              "1497255  613a5aee434e34d5ee03f0e1  Special Weather Statement   \n",
              "1497256  613a5c5b434e34d5ee06813a  Special Weather Statement   \n",
              "1497257  613a5c5b434e34d5ee06813f          Flash Flood Watch   \n",
              "1497258  613a5d4d434e34d5ee06a9a9         Dense Fog Advisory   \n",
              "1497259  613a5dc6434e34d5ee06bd10  Special Weather Statement   \n",
              "\n",
              "                                               description  \\\n",
              "0        At 630 AM MDT/530 AM PDT/, Doppler radar was t...   \n",
              "1        ...The National Weather Service in Billings MT...   \n",
              "2        At 502 AM PDT, Gauge reports continue to indic...   \n",
              "3        The National Weather Service in Spokane has is...   \n",
              "4        The Flood Warning has been cancelled and is no...   \n",
              "...                                                    ...   \n",
              "1497255  At 814 AM CDT, Doppler radar was tracking a st...   \n",
              "1497256  At 816 AM CDT, Doppler radar was tracking a st...   \n",
              "1497257  The National Weather Service in El Paso Tx/San...   \n",
              "1497258  * WHAT...Visibility around 1/4 mile or less in...   \n",
              "1497259  At 745 AM MDT/845 AM CDT/, Doppler radar was t...   \n",
              "\n",
              "                                               instruction   urgency  severity  \n",
              "0        Frequent cloud to ground lightning is occurrin...  Expected  Moderate  \n",
              "1        Safety message...A river Flood Warning means r...  Expected    Severe  \n",
              "2        A Flood Advisory means river or stream flows a...  Expected     Minor  \n",
              "3        A Flood Watch means there is a potential for f...    Future    Severe  \n",
              "4        Safety message...Motorists should not attempt ...      Past     Minor  \n",
              "...                                                    ...       ...       ...  \n",
              "1497255  If outdoors, consider seeking shelter inside a...  Expected  Moderate  \n",
              "1497256  If outdoors, consider seeking shelter inside a...  Expected  Moderate  \n",
              "1497257  You should monitor later forecasts and be prep...    Future    Severe  \n",
              "1497258  If driving, slow down, use your headlights, an...  Expected  Moderate  \n",
              "1497259  If outdoors, consider seeking shelter inside a...  Expected  Moderate  \n",
              "\n",
              "[1497260 rows x 6 columns]"
            ],
            "text/html": [
              "\n",
              "  <div id=\"df-d67c4914-cb26-4e06-8674-82a97509359e\" class=\"colab-df-container\">\n",
              "    <div>\n",
              "<style scoped>\n",
              "    .dataframe tbody tr th:only-of-type {\n",
              "        vertical-align: middle;\n",
              "    }\n",
              "\n",
              "    .dataframe tbody tr th {\n",
              "        vertical-align: top;\n",
              "    }\n",
              "\n",
              "    .dataframe thead th {\n",
              "        text-align: right;\n",
              "    }\n",
              "</style>\n",
              "<table border=\"1\" class=\"dataframe\">\n",
              "  <thead>\n",
              "    <tr style=\"text-align: right;\">\n",
              "      <th></th>\n",
              "      <th>id</th>\n",
              "      <th>event</th>\n",
              "      <th>description</th>\n",
              "      <th>instruction</th>\n",
              "      <th>urgency</th>\n",
              "      <th>severity</th>\n",
              "    </tr>\n",
              "  </thead>\n",
              "  <tbody>\n",
              "    <tr>\n",
              "      <th>0</th>\n",
              "      <td>5ed3a4b2283336e2e7db3a1c</td>\n",
              "      <td>Special Weather Statement</td>\n",
              "      <td>At 630 AM MDT/530 AM PDT/, Doppler radar was t...</td>\n",
              "      <td>Frequent cloud to ground lightning is occurrin...</td>\n",
              "      <td>Expected</td>\n",
              "      <td>Moderate</td>\n",
              "    </tr>\n",
              "    <tr>\n",
              "      <th>1</th>\n",
              "      <td>5ed3a07c283336e2e7d2bfa4</td>\n",
              "      <td>Flood Warning</td>\n",
              "      <td>...The National Weather Service in Billings MT...</td>\n",
              "      <td>Safety message...A river Flood Warning means r...</td>\n",
              "      <td>Expected</td>\n",
              "      <td>Severe</td>\n",
              "    </tr>\n",
              "    <tr>\n",
              "      <th>2</th>\n",
              "      <td>5ed39e54283336e2e7d22306</td>\n",
              "      <td>Flood Advisory</td>\n",
              "      <td>At 502 AM PDT, Gauge reports continue to indic...</td>\n",
              "      <td>A Flood Advisory means river or stream flows a...</td>\n",
              "      <td>Expected</td>\n",
              "      <td>Minor</td>\n",
              "    </tr>\n",
              "    <tr>\n",
              "      <th>3</th>\n",
              "      <td>5ed39e11283336e2e7d15e23</td>\n",
              "      <td>Flood Watch</td>\n",
              "      <td>The National Weather Service in Spokane has is...</td>\n",
              "      <td>A Flood Watch means there is a potential for f...</td>\n",
              "      <td>Future</td>\n",
              "      <td>Severe</td>\n",
              "    </tr>\n",
              "    <tr>\n",
              "      <th>4</th>\n",
              "      <td>5ed3962c283336e2e7c1d935</td>\n",
              "      <td>Flood Warning</td>\n",
              "      <td>The Flood Warning has been cancelled and is no...</td>\n",
              "      <td>Safety message...Motorists should not attempt ...</td>\n",
              "      <td>Past</td>\n",
              "      <td>Minor</td>\n",
              "    </tr>\n",
              "    <tr>\n",
              "      <th>...</th>\n",
              "      <td>...</td>\n",
              "      <td>...</td>\n",
              "      <td>...</td>\n",
              "      <td>...</td>\n",
              "      <td>...</td>\n",
              "      <td>...</td>\n",
              "    </tr>\n",
              "    <tr>\n",
              "      <th>1497255</th>\n",
              "      <td>613a5aee434e34d5ee03f0e1</td>\n",
              "      <td>Special Weather Statement</td>\n",
              "      <td>At 814 AM CDT, Doppler radar was tracking a st...</td>\n",
              "      <td>If outdoors, consider seeking shelter inside a...</td>\n",
              "      <td>Expected</td>\n",
              "      <td>Moderate</td>\n",
              "    </tr>\n",
              "    <tr>\n",
              "      <th>1497256</th>\n",
              "      <td>613a5c5b434e34d5ee06813a</td>\n",
              "      <td>Special Weather Statement</td>\n",
              "      <td>At 816 AM CDT, Doppler radar was tracking a st...</td>\n",
              "      <td>If outdoors, consider seeking shelter inside a...</td>\n",
              "      <td>Expected</td>\n",
              "      <td>Moderate</td>\n",
              "    </tr>\n",
              "    <tr>\n",
              "      <th>1497257</th>\n",
              "      <td>613a5c5b434e34d5ee06813f</td>\n",
              "      <td>Flash Flood Watch</td>\n",
              "      <td>The National Weather Service in El Paso Tx/San...</td>\n",
              "      <td>You should monitor later forecasts and be prep...</td>\n",
              "      <td>Future</td>\n",
              "      <td>Severe</td>\n",
              "    </tr>\n",
              "    <tr>\n",
              "      <th>1497258</th>\n",
              "      <td>613a5d4d434e34d5ee06a9a9</td>\n",
              "      <td>Dense Fog Advisory</td>\n",
              "      <td>* WHAT...Visibility around 1/4 mile or less in...</td>\n",
              "      <td>If driving, slow down, use your headlights, an...</td>\n",
              "      <td>Expected</td>\n",
              "      <td>Moderate</td>\n",
              "    </tr>\n",
              "    <tr>\n",
              "      <th>1497259</th>\n",
              "      <td>613a5dc6434e34d5ee06bd10</td>\n",
              "      <td>Special Weather Statement</td>\n",
              "      <td>At 745 AM MDT/845 AM CDT/, Doppler radar was t...</td>\n",
              "      <td>If outdoors, consider seeking shelter inside a...</td>\n",
              "      <td>Expected</td>\n",
              "      <td>Moderate</td>\n",
              "    </tr>\n",
              "  </tbody>\n",
              "</table>\n",
              "<p>1497260 rows × 6 columns</p>\n",
              "</div>\n",
              "    <div class=\"colab-df-buttons\">\n",
              "\n",
              "  <div class=\"colab-df-container\">\n",
              "    <button class=\"colab-df-convert\" onclick=\"convertToInteractive('df-d67c4914-cb26-4e06-8674-82a97509359e')\"\n",
              "            title=\"Convert this dataframe to an interactive table.\"\n",
              "            style=\"display:none;\">\n",
              "\n",
              "  <svg xmlns=\"http://www.w3.org/2000/svg\" height=\"24px\" viewBox=\"0 -960 960 960\">\n",
              "    <path d=\"M120-120v-720h720v720H120Zm60-500h600v-160H180v160Zm220 220h160v-160H400v160Zm0 220h160v-160H400v160ZM180-400h160v-160H180v160Zm440 0h160v-160H620v160ZM180-180h160v-160H180v160Zm440 0h160v-160H620v160Z\"/>\n",
              "  </svg>\n",
              "    </button>\n",
              "\n",
              "  <style>\n",
              "    .colab-df-container {\n",
              "      display:flex;\n",
              "      gap: 12px;\n",
              "    }\n",
              "\n",
              "    .colab-df-convert {\n",
              "      background-color: #E8F0FE;\n",
              "      border: none;\n",
              "      border-radius: 50%;\n",
              "      cursor: pointer;\n",
              "      display: none;\n",
              "      fill: #1967D2;\n",
              "      height: 32px;\n",
              "      padding: 0 0 0 0;\n",
              "      width: 32px;\n",
              "    }\n",
              "\n",
              "    .colab-df-convert:hover {\n",
              "      background-color: #E2EBFA;\n",
              "      box-shadow: 0px 1px 2px rgba(60, 64, 67, 0.3), 0px 1px 3px 1px rgba(60, 64, 67, 0.15);\n",
              "      fill: #174EA6;\n",
              "    }\n",
              "\n",
              "    .colab-df-buttons div {\n",
              "      margin-bottom: 4px;\n",
              "    }\n",
              "\n",
              "    [theme=dark] .colab-df-convert {\n",
              "      background-color: #3B4455;\n",
              "      fill: #D2E3FC;\n",
              "    }\n",
              "\n",
              "    [theme=dark] .colab-df-convert:hover {\n",
              "      background-color: #434B5C;\n",
              "      box-shadow: 0px 1px 3px 1px rgba(0, 0, 0, 0.15);\n",
              "      filter: drop-shadow(0px 1px 2px rgba(0, 0, 0, 0.3));\n",
              "      fill: #FFFFFF;\n",
              "    }\n",
              "  </style>\n",
              "\n",
              "    <script>\n",
              "      const buttonEl =\n",
              "        document.querySelector('#df-d67c4914-cb26-4e06-8674-82a97509359e button.colab-df-convert');\n",
              "      buttonEl.style.display =\n",
              "        google.colab.kernel.accessAllowed ? 'block' : 'none';\n",
              "\n",
              "      async function convertToInteractive(key) {\n",
              "        const element = document.querySelector('#df-d67c4914-cb26-4e06-8674-82a97509359e');\n",
              "        const dataTable =\n",
              "          await google.colab.kernel.invokeFunction('convertToInteractive',\n",
              "                                                    [key], {});\n",
              "        if (!dataTable) return;\n",
              "\n",
              "        const docLinkHtml = 'Like what you see? Visit the ' +\n",
              "          '<a target=\"_blank\" href=https://colab.research.google.com/notebooks/data_table.ipynb>data table notebook</a>'\n",
              "          + ' to learn more about interactive tables.';\n",
              "        element.innerHTML = '';\n",
              "        dataTable['output_type'] = 'display_data';\n",
              "        await google.colab.output.renderOutput(dataTable, element);\n",
              "        const docLink = document.createElement('div');\n",
              "        docLink.innerHTML = docLinkHtml;\n",
              "        element.appendChild(docLink);\n",
              "      }\n",
              "    </script>\n",
              "  </div>\n",
              "\n",
              "\n",
              "<div id=\"df-caa40f7d-ae46-43ce-93c2-5c7daa3bff3d\">\n",
              "  <button class=\"colab-df-quickchart\" onclick=\"quickchart('df-caa40f7d-ae46-43ce-93c2-5c7daa3bff3d')\"\n",
              "            title=\"Suggest charts\"\n",
              "            style=\"display:none;\">\n",
              "\n",
              "<svg xmlns=\"http://www.w3.org/2000/svg\" height=\"24px\"viewBox=\"0 0 24 24\"\n",
              "     width=\"24px\">\n",
              "    <g>\n",
              "        <path d=\"M19 3H5c-1.1 0-2 .9-2 2v14c0 1.1.9 2 2 2h14c1.1 0 2-.9 2-2V5c0-1.1-.9-2-2-2zM9 17H7v-7h2v7zm4 0h-2V7h2v10zm4 0h-2v-4h2v4z\"/>\n",
              "    </g>\n",
              "</svg>\n",
              "  </button>\n",
              "\n",
              "<style>\n",
              "  .colab-df-quickchart {\n",
              "      --bg-color: #E8F0FE;\n",
              "      --fill-color: #1967D2;\n",
              "      --hover-bg-color: #E2EBFA;\n",
              "      --hover-fill-color: #174EA6;\n",
              "      --disabled-fill-color: #AAA;\n",
              "      --disabled-bg-color: #DDD;\n",
              "  }\n",
              "\n",
              "  [theme=dark] .colab-df-quickchart {\n",
              "      --bg-color: #3B4455;\n",
              "      --fill-color: #D2E3FC;\n",
              "      --hover-bg-color: #434B5C;\n",
              "      --hover-fill-color: #FFFFFF;\n",
              "      --disabled-bg-color: #3B4455;\n",
              "      --disabled-fill-color: #666;\n",
              "  }\n",
              "\n",
              "  .colab-df-quickchart {\n",
              "    background-color: var(--bg-color);\n",
              "    border: none;\n",
              "    border-radius: 50%;\n",
              "    cursor: pointer;\n",
              "    display: none;\n",
              "    fill: var(--fill-color);\n",
              "    height: 32px;\n",
              "    padding: 0;\n",
              "    width: 32px;\n",
              "  }\n",
              "\n",
              "  .colab-df-quickchart:hover {\n",
              "    background-color: var(--hover-bg-color);\n",
              "    box-shadow: 0 1px 2px rgba(60, 64, 67, 0.3), 0 1px 3px 1px rgba(60, 64, 67, 0.15);\n",
              "    fill: var(--button-hover-fill-color);\n",
              "  }\n",
              "\n",
              "  .colab-df-quickchart-complete:disabled,\n",
              "  .colab-df-quickchart-complete:disabled:hover {\n",
              "    background-color: var(--disabled-bg-color);\n",
              "    fill: var(--disabled-fill-color);\n",
              "    box-shadow: none;\n",
              "  }\n",
              "\n",
              "  .colab-df-spinner {\n",
              "    border: 2px solid var(--fill-color);\n",
              "    border-color: transparent;\n",
              "    border-bottom-color: var(--fill-color);\n",
              "    animation:\n",
              "      spin 1s steps(1) infinite;\n",
              "  }\n",
              "\n",
              "  @keyframes spin {\n",
              "    0% {\n",
              "      border-color: transparent;\n",
              "      border-bottom-color: var(--fill-color);\n",
              "      border-left-color: var(--fill-color);\n",
              "    }\n",
              "    20% {\n",
              "      border-color: transparent;\n",
              "      border-left-color: var(--fill-color);\n",
              "      border-top-color: var(--fill-color);\n",
              "    }\n",
              "    30% {\n",
              "      border-color: transparent;\n",
              "      border-left-color: var(--fill-color);\n",
              "      border-top-color: var(--fill-color);\n",
              "      border-right-color: var(--fill-color);\n",
              "    }\n",
              "    40% {\n",
              "      border-color: transparent;\n",
              "      border-right-color: var(--fill-color);\n",
              "      border-top-color: var(--fill-color);\n",
              "    }\n",
              "    60% {\n",
              "      border-color: transparent;\n",
              "      border-right-color: var(--fill-color);\n",
              "    }\n",
              "    80% {\n",
              "      border-color: transparent;\n",
              "      border-right-color: var(--fill-color);\n",
              "      border-bottom-color: var(--fill-color);\n",
              "    }\n",
              "    90% {\n",
              "      border-color: transparent;\n",
              "      border-bottom-color: var(--fill-color);\n",
              "    }\n",
              "  }\n",
              "</style>\n",
              "\n",
              "  <script>\n",
              "    async function quickchart(key) {\n",
              "      const quickchartButtonEl =\n",
              "        document.querySelector('#' + key + ' button');\n",
              "      quickchartButtonEl.disabled = true;  // To prevent multiple clicks.\n",
              "      quickchartButtonEl.classList.add('colab-df-spinner');\n",
              "      try {\n",
              "        const charts = await google.colab.kernel.invokeFunction(\n",
              "            'suggestCharts', [key], {});\n",
              "      } catch (error) {\n",
              "        console.error('Error during call to suggestCharts:', error);\n",
              "      }\n",
              "      quickchartButtonEl.classList.remove('colab-df-spinner');\n",
              "      quickchartButtonEl.classList.add('colab-df-quickchart-complete');\n",
              "    }\n",
              "    (() => {\n",
              "      let quickchartButtonEl =\n",
              "        document.querySelector('#df-caa40f7d-ae46-43ce-93c2-5c7daa3bff3d button');\n",
              "      quickchartButtonEl.style.display =\n",
              "        google.colab.kernel.accessAllowed ? 'block' : 'none';\n",
              "    })();\n",
              "  </script>\n",
              "</div>\n",
              "\n",
              "  <div id=\"id_dae2fa5b-a0e0-48f8-b84b-7a75d102fa11\">\n",
              "    <style>\n",
              "      .colab-df-generate {\n",
              "        background-color: #E8F0FE;\n",
              "        border: none;\n",
              "        border-radius: 50%;\n",
              "        cursor: pointer;\n",
              "        display: none;\n",
              "        fill: #1967D2;\n",
              "        height: 32px;\n",
              "        padding: 0 0 0 0;\n",
              "        width: 32px;\n",
              "      }\n",
              "\n",
              "      .colab-df-generate:hover {\n",
              "        background-color: #E2EBFA;\n",
              "        box-shadow: 0px 1px 2px rgba(60, 64, 67, 0.3), 0px 1px 3px 1px rgba(60, 64, 67, 0.15);\n",
              "        fill: #174EA6;\n",
              "      }\n",
              "\n",
              "      [theme=dark] .colab-df-generate {\n",
              "        background-color: #3B4455;\n",
              "        fill: #D2E3FC;\n",
              "      }\n",
              "\n",
              "      [theme=dark] .colab-df-generate:hover {\n",
              "        background-color: #434B5C;\n",
              "        box-shadow: 0px 1px 3px 1px rgba(0, 0, 0, 0.15);\n",
              "        filter: drop-shadow(0px 1px 2px rgba(0, 0, 0, 0.3));\n",
              "        fill: #FFFFFF;\n",
              "      }\n",
              "    </style>\n",
              "    <button class=\"colab-df-generate\" onclick=\"generateWithVariable('df_alertas')\"\n",
              "            title=\"Generate code using this dataframe.\"\n",
              "            style=\"display:none;\">\n",
              "\n",
              "  <svg xmlns=\"http://www.w3.org/2000/svg\" height=\"24px\"viewBox=\"0 0 24 24\"\n",
              "       width=\"24px\">\n",
              "    <path d=\"M7,19H8.4L18.45,9,17,7.55,7,17.6ZM5,21V16.75L18.45,3.32a2,2,0,0,1,2.83,0l1.4,1.43a1.91,1.91,0,0,1,.58,1.4,1.91,1.91,0,0,1-.58,1.4L9.25,21ZM18.45,9,17,7.55Zm-12,3A5.31,5.31,0,0,0,4.9,8.1,5.31,5.31,0,0,0,1,6.5,5.31,5.31,0,0,0,4.9,4.9,5.31,5.31,0,0,0,6.5,1,5.31,5.31,0,0,0,8.1,4.9,5.31,5.31,0,0,0,12,6.5,5.46,5.46,0,0,0,6.5,12Z\"/>\n",
              "  </svg>\n",
              "    </button>\n",
              "    <script>\n",
              "      (() => {\n",
              "      const buttonEl =\n",
              "        document.querySelector('#id_dae2fa5b-a0e0-48f8-b84b-7a75d102fa11 button.colab-df-generate');\n",
              "      buttonEl.style.display =\n",
              "        google.colab.kernel.accessAllowed ? 'block' : 'none';\n",
              "\n",
              "      buttonEl.onclick = () => {\n",
              "        google.colab.notebook.generateWithVariable('df_alertas');\n",
              "      }\n",
              "      })();\n",
              "    </script>\n",
              "  </div>\n",
              "\n",
              "    </div>\n",
              "  </div>\n"
            ],
            "application/vnd.google.colaboratory.intrinsic+json": {
              "type": "dataframe",
              "variable_name": "df_alertas"
            }
          },
          "metadata": {},
          "execution_count": 27
        }
      ]
    },
    {
      "cell_type": "markdown",
      "source": [
        "# Informacion General"
      ],
      "metadata": {
        "id": "ZQROR-JFVp9U"
      }
    },
    {
      "cell_type": "code",
      "source": [
        "df_alertas.info()"
      ],
      "metadata": {
        "id": "L9y9tvKGBlbn",
        "colab": {
          "base_uri": "https://localhost:8080/"
        },
        "outputId": "8ed8d14e-0541-424d-9335-091889a0cea0"
      },
      "execution_count": 28,
      "outputs": [
        {
          "output_type": "stream",
          "name": "stdout",
          "text": [
            "<class 'pandas.core.frame.DataFrame'>\n",
            "RangeIndex: 1497260 entries, 0 to 1497259\n",
            "Data columns (total 6 columns):\n",
            " #   Column       Non-Null Count    Dtype \n",
            "---  ------       --------------    ----- \n",
            " 0   id           1497260 non-null  object\n",
            " 1   event        1497260 non-null  object\n",
            " 2   description  1497260 non-null  object\n",
            " 3   instruction  1497260 non-null  object\n",
            " 4   urgency      1497260 non-null  object\n",
            " 5   severity     1497260 non-null  object\n",
            "dtypes: object(6)\n",
            "memory usage: 68.5+ MB\n"
          ]
        }
      ]
    },
    {
      "cell_type": "markdown",
      "source": [
        "###Pre procesamiento de columna 'description\".\n",
        "\n",
        "1. Eliminación de ruido:\n",
        "Este paso tiene como objetivo eliminar todos aquellos símbolos o caracteres que no aportan nada en el significado de las frases."
      ],
      "metadata": {
        "id": "0wZy0GdjV4p0"
      }
    },
    {
      "cell_type": "markdown",
      "source": [
        "Pre procesamiento de columna 'description\"."
      ],
      "metadata": {
        "id": "3LFI3RBHBgoR"
      }
    },
    {
      "cell_type": "code",
      "source": [
        "#Observamos una muestra al azar de 15 ejemplos para visualizar la columna a analizar.\n",
        "(df_alertas['description']).sample(15)"
      ],
      "metadata": {
        "colab": {
          "base_uri": "https://localhost:8080/"
        },
        "id": "f9q5hMXqV4MN",
        "outputId": "22a1cd44-e962-4673-a0ea-f22da2d45bec"
      },
      "execution_count": 29,
      "outputs": [
        {
          "output_type": "execute_result",
          "data": {
            "text/plain": [
              "761742     AT 159 PM MST...DOPPLER RADAR INDICATED A SEVE...\n",
              "355064     A wintry mix of rain, freezing rain, and sleet...\n",
              "445699     The flood warning continues for\\nthe Bayou Dor...\n",
              "1367352    * WHAT...For the Winter Weather Advisory, area...\n",
              "473361     * Winds...North winds of 30 to 40 mph with gus...\n",
              "358925     Arctic air will remain over northeast Colorado...\n",
              "541961     Affecting the following counties in Ohio...Mei...\n",
              "1012566    AT 1224 AM CDT...A SEVERE THUNDERSTORM WAS LOC...\n",
              "1207725    THE NATIONAL WEATHER SERVICE IN CHICAGO HAS IS...\n",
              "829771     At Owensboro affecting Spencer and Daviess Cou...\n",
              "202283     At 914 PM EDT, a severe thunderstorm was locat...\n",
              "925930     AT 809 PM CST...A SEVERE THUNDERSTORM WAS LOCA...\n",
              "1396681    * WHAT...Blowing snow expected. Plan on areas ...\n",
              "1430637    At 415 PM EDT, Doppler radar was tracking a st...\n",
              "515482     A WIND ADVISORY REMAINS IN EFFECT FROM 8 AM TO...\n",
              "Name: description, dtype: object"
            ]
          },
          "metadata": {},
          "execution_count": 29
        }
      ]
    },
    {
      "cell_type": "markdown",
      "source": [
        "Vamos a utilizar la fila 1431674 ya que ahi observamos la presencia de las palabras \\n\\n y WHAT\\WHERE asi que analizamos todo el texto de esa fila, haciendo un split de todas las palabras separadas por espacio."
      ],
      "metadata": {
        "id": "aONl-hSZWAO8"
      }
    },
    {
      "cell_type": "code",
      "source": [
        "fila = (df_alertas['description'].iloc[1431674]).split()\n",
        "print(fila)"
      ],
      "metadata": {
        "colab": {
          "base_uri": "https://localhost:8080/"
        },
        "id": "-kaor6_EWCnd",
        "outputId": "7d83710f-32d2-49dd-aba3-00afe68faeb1"
      },
      "execution_count": 30,
      "outputs": [
        {
          "output_type": "stream",
          "name": "stdout",
          "text": [
            "['*', 'WHAT...Temperatures', 'up', 'to', '103', 'expected.', '*', 'WHERE...Middle', 'Rio', 'Grande', 'Valley', 'including', 'the', 'Albuquerque', 'Metro', 'Area,', 'Northwest', 'Plateau,', 'and', 'West', 'Central', 'Plateau.', '*', 'WHEN...From', 'Noon', 'to', '8', 'PM', 'MDT', 'Wednesday.', '*', 'IMPACTS...Hot', 'temperatures', 'may', 'cause', 'heat', 'illnesses.']\n"
          ]
        }
      ]
    },
    {
      "cell_type": "markdown",
      "source": [
        "Observamos que las palabras 'WHAT', 'WHERE', 'WHEN' e 'IMPACTS' estan unidas a la segunda palabra por tres puntos '...', por ello vamos a reemplazar por un espacio para separar las palabras. Despues se trabajara con puntos, asteriscos y demas signos que no sean relevantes al modelo (Normalizacion)."
      ],
      "metadata": {
        "id": "6CDwNgaaWE9u"
      }
    },
    {
      "cell_type": "code",
      "source": [
        "df_alertas['description'] = df_alertas['description'].str.replace('...', ' ', regex=False)\n",
        "df_alertas['description'].iloc[1431674] #Probamos esa fila"
      ],
      "metadata": {
        "colab": {
          "base_uri": "https://localhost:8080/",
          "height": 70
        },
        "id": "yb0Jb6b4Wzku",
        "outputId": "0189b8d1-1130-4bb8-85ed-32a93d100eb3"
      },
      "execution_count": 31,
      "outputs": [
        {
          "output_type": "execute_result",
          "data": {
            "text/plain": [
              "'* WHAT Temperatures up to 103 expected.\\n\\n* WHERE Middle Rio Grande Valley including the Albuquerque Metro\\nArea, Northwest Plateau, and West Central Plateau.\\n\\n* WHEN From Noon to 8 PM MDT Wednesday.\\n\\n* IMPACTS Hot temperatures may cause heat illnesses.\\n'"
            ],
            "application/vnd.google.colaboratory.intrinsic+json": {
              "type": "string"
            }
          },
          "metadata": {},
          "execution_count": 31
        }
      ]
    },
    {
      "cell_type": "markdown",
      "source": [
        "Ahora tambien observamos que figura como textos codigos de salto de linea \"\\n\\n\" y \"\\n\"."
      ],
      "metadata": {
        "id": "rFFdJ_Hbjv7A"
      }
    },
    {
      "cell_type": "code",
      "source": [
        "#Se observan palabras con \"\\n\"\n",
        "palabra_a_contar1 = '\\n'\n",
        "palabras_1 = df_alertas['description'].str.count(palabra_a_contar1).sum()\n",
        "print(palabras_1)"
      ],
      "metadata": {
        "colab": {
          "base_uri": "https://localhost:8080/"
        },
        "id": "8QPh3cGBWHg3",
        "outputId": "c173a016-7ae5-4960-bccb-48f97002ce2a"
      },
      "execution_count": 32,
      "outputs": [
        {
          "output_type": "stream",
          "name": "stdout",
          "text": [
            "24137660\n"
          ]
        }
      ]
    },
    {
      "cell_type": "markdown",
      "source": [
        "Es una cantidad importe de esas palabras. En este caso reemplazamos como el caso anterior por un espacio."
      ],
      "metadata": {
        "id": "5Vd_zm5AWLVW"
      }
    },
    {
      "cell_type": "code",
      "source": [
        "df_alertas['description'] = df_alertas['description'].str.replace('\\n', ' ', regex=False)\n",
        "df_alertas['description'].iloc[1431674] #Probamos esa fila"
      ],
      "metadata": {
        "colab": {
          "base_uri": "https://localhost:8080/",
          "height": 70
        },
        "id": "vWwjB0zLlGvi",
        "outputId": "79c58f54-4e76-43c0-d4f7-2456dbe5a818"
      },
      "execution_count": 33,
      "outputs": [
        {
          "output_type": "execute_result",
          "data": {
            "text/plain": [
              "'* WHAT Temperatures up to 103 expected.  * WHERE Middle Rio Grande Valley including the Albuquerque Metro Area, Northwest Plateau, and West Central Plateau.  * WHEN From Noon to 8 PM MDT Wednesday.  * IMPACTS Hot temperatures may cause heat illnesses. '"
            ],
            "application/vnd.google.colaboratory.intrinsic+json": {
              "type": "string"
            }
          },
          "metadata": {},
          "execution_count": 33
        }
      ]
    },
    {
      "cell_type": "markdown",
      "source": [
        "Observamos una muestra de 10 filas para observar estos cambios:"
      ],
      "metadata": {
        "id": "vYLRfViRhJ13"
      }
    },
    {
      "cell_type": "code",
      "source": [
        "df_alertas.sample(10)"
      ],
      "metadata": {
        "colab": {
          "base_uri": "https://localhost:8080/",
          "height": 921
        },
        "id": "t1d2BfTTlRNz",
        "outputId": "f547fa16-4baf-4bb8-8f4e-4e9f6bd32b15"
      },
      "execution_count": 34,
      "outputs": [
        {
          "output_type": "execute_result",
          "data": {
            "text/plain": [
              "                               id                        event  \\\n",
              "344418   5e6dda7b023f1930ef67a496                Flood Warning   \n",
              "530646   5e6dd5f8023f1930ef566997                Flood Warning   \n",
              "619193   5e6dd4e5023f1930ef522181  Severe Thunderstorm Warning   \n",
              "496424   5e6dbd1a023f1930efe9faed           Winter Storm Watch   \n",
              "41745    5e8dea7d9fc226a7b41a6747                Flood Warning   \n",
              "1135787  5e6dc75d023f1930ef18376f               Flood Advisory   \n",
              "1284065  5f31252c0e3803b6e63fb817    Special Weather Statement   \n",
              "952922   5e6dcdf0023f1930ef34f3dc   Tropical Cyclone Statement   \n",
              "989492   5e6dc4f7023f1930ef0dfd64               Flood Advisory   \n",
              "1066298  5e6dc603023f1930ef127612                Heat Advisory   \n",
              "\n",
              "                                               description  \\\n",
              "344418   Floyd River At Merrill West Fork Ditch Near Ho...   \n",
              "530646   Affecting the following counties in Iowa Black...   \n",
              "619193   The National Weather Service in Wichita has is...   \n",
              "496424   THE NATIONAL WEATHER SERVICE IN TAUNTON HAS IS...   \n",
              "41745    New Wednesday morning Mississippi River foreca...   \n",
              "1135787  THE NATIONAL WEATHER SERVICE IN TAUNTON HAS IS...   \n",
              "1284065  At 410 PM EDT, Doppler radar was tracking a st...   \n",
              "952922   This product covers SOUTHWEST LOUISIANA AND SO...   \n",
              "989492   The National Weather Service in Tucson has iss...   \n",
              "1066298  * TEMPERATURES AFTERNOON TEMPERATURES WILL RAN...   \n",
              "\n",
              "                                               instruction    urgency  \\\n",
              "344418   PRECAUTIONARY/PREPAREDNESS ACTIONS...\\n\\nSafet...  Immediate   \n",
              "530646   PRECAUTIONARY/PREPAREDNESS ACTIONS...\\n\\nIf yo...  Immediate   \n",
              "619193   For your protection move to an interior room o...  Immediate   \n",
              "496424   A WINTER STORM WARNING IS ISSUED WHEN AN AVERA...     Future   \n",
              "41745    If you encounter a flooded roadway, turn aroun...  Immediate   \n",
              "1135787  A FLOOD ADVISORY IS ISSUED FOR MINOR URBAN AND...   Expected   \n",
              "1284065  Gusty winds can blow down trees that are dead,...   Expected   \n",
              "952922   * EVACUATIONS:\\n\\nDo not return to evacuated a...   Expected   \n",
              "989492   Turn around, don't drown when encountering flo...   Expected   \n",
              "1066298  TAKE EXTRA PRECAUTIONS IF YOU WORK OR SPEND TI...   Expected   \n",
              "\n",
              "         severity  \n",
              "344418     Severe  \n",
              "530646     Severe  \n",
              "619193     Severe  \n",
              "496424     Severe  \n",
              "41745      Severe  \n",
              "1135787     Minor  \n",
              "1284065  Moderate  \n",
              "952922   Moderate  \n",
              "989492      Minor  \n",
              "1066298  Moderate  "
            ],
            "text/html": [
              "\n",
              "  <div id=\"df-523a95d1-0ba8-438a-82d6-85bb0066c317\" class=\"colab-df-container\">\n",
              "    <div>\n",
              "<style scoped>\n",
              "    .dataframe tbody tr th:only-of-type {\n",
              "        vertical-align: middle;\n",
              "    }\n",
              "\n",
              "    .dataframe tbody tr th {\n",
              "        vertical-align: top;\n",
              "    }\n",
              "\n",
              "    .dataframe thead th {\n",
              "        text-align: right;\n",
              "    }\n",
              "</style>\n",
              "<table border=\"1\" class=\"dataframe\">\n",
              "  <thead>\n",
              "    <tr style=\"text-align: right;\">\n",
              "      <th></th>\n",
              "      <th>id</th>\n",
              "      <th>event</th>\n",
              "      <th>description</th>\n",
              "      <th>instruction</th>\n",
              "      <th>urgency</th>\n",
              "      <th>severity</th>\n",
              "    </tr>\n",
              "  </thead>\n",
              "  <tbody>\n",
              "    <tr>\n",
              "      <th>344418</th>\n",
              "      <td>5e6dda7b023f1930ef67a496</td>\n",
              "      <td>Flood Warning</td>\n",
              "      <td>Floyd River At Merrill West Fork Ditch Near Ho...</td>\n",
              "      <td>PRECAUTIONARY/PREPAREDNESS ACTIONS...\\n\\nSafet...</td>\n",
              "      <td>Immediate</td>\n",
              "      <td>Severe</td>\n",
              "    </tr>\n",
              "    <tr>\n",
              "      <th>530646</th>\n",
              "      <td>5e6dd5f8023f1930ef566997</td>\n",
              "      <td>Flood Warning</td>\n",
              "      <td>Affecting the following counties in Iowa Black...</td>\n",
              "      <td>PRECAUTIONARY/PREPAREDNESS ACTIONS...\\n\\nIf yo...</td>\n",
              "      <td>Immediate</td>\n",
              "      <td>Severe</td>\n",
              "    </tr>\n",
              "    <tr>\n",
              "      <th>619193</th>\n",
              "      <td>5e6dd4e5023f1930ef522181</td>\n",
              "      <td>Severe Thunderstorm Warning</td>\n",
              "      <td>The National Weather Service in Wichita has is...</td>\n",
              "      <td>For your protection move to an interior room o...</td>\n",
              "      <td>Immediate</td>\n",
              "      <td>Severe</td>\n",
              "    </tr>\n",
              "    <tr>\n",
              "      <th>496424</th>\n",
              "      <td>5e6dbd1a023f1930efe9faed</td>\n",
              "      <td>Winter Storm Watch</td>\n",
              "      <td>THE NATIONAL WEATHER SERVICE IN TAUNTON HAS IS...</td>\n",
              "      <td>A WINTER STORM WARNING IS ISSUED WHEN AN AVERA...</td>\n",
              "      <td>Future</td>\n",
              "      <td>Severe</td>\n",
              "    </tr>\n",
              "    <tr>\n",
              "      <th>41745</th>\n",
              "      <td>5e8dea7d9fc226a7b41a6747</td>\n",
              "      <td>Flood Warning</td>\n",
              "      <td>New Wednesday morning Mississippi River foreca...</td>\n",
              "      <td>If you encounter a flooded roadway, turn aroun...</td>\n",
              "      <td>Immediate</td>\n",
              "      <td>Severe</td>\n",
              "    </tr>\n",
              "    <tr>\n",
              "      <th>1135787</th>\n",
              "      <td>5e6dc75d023f1930ef18376f</td>\n",
              "      <td>Flood Advisory</td>\n",
              "      <td>THE NATIONAL WEATHER SERVICE IN TAUNTON HAS IS...</td>\n",
              "      <td>A FLOOD ADVISORY IS ISSUED FOR MINOR URBAN AND...</td>\n",
              "      <td>Expected</td>\n",
              "      <td>Minor</td>\n",
              "    </tr>\n",
              "    <tr>\n",
              "      <th>1284065</th>\n",
              "      <td>5f31252c0e3803b6e63fb817</td>\n",
              "      <td>Special Weather Statement</td>\n",
              "      <td>At 410 PM EDT, Doppler radar was tracking a st...</td>\n",
              "      <td>Gusty winds can blow down trees that are dead,...</td>\n",
              "      <td>Expected</td>\n",
              "      <td>Moderate</td>\n",
              "    </tr>\n",
              "    <tr>\n",
              "      <th>952922</th>\n",
              "      <td>5e6dcdf0023f1930ef34f3dc</td>\n",
              "      <td>Tropical Cyclone Statement</td>\n",
              "      <td>This product covers SOUTHWEST LOUISIANA AND SO...</td>\n",
              "      <td>* EVACUATIONS:\\n\\nDo not return to evacuated a...</td>\n",
              "      <td>Expected</td>\n",
              "      <td>Moderate</td>\n",
              "    </tr>\n",
              "    <tr>\n",
              "      <th>989492</th>\n",
              "      <td>5e6dc4f7023f1930ef0dfd64</td>\n",
              "      <td>Flood Advisory</td>\n",
              "      <td>The National Weather Service in Tucson has iss...</td>\n",
              "      <td>Turn around, don't drown when encountering flo...</td>\n",
              "      <td>Expected</td>\n",
              "      <td>Minor</td>\n",
              "    </tr>\n",
              "    <tr>\n",
              "      <th>1066298</th>\n",
              "      <td>5e6dc603023f1930ef127612</td>\n",
              "      <td>Heat Advisory</td>\n",
              "      <td>* TEMPERATURES AFTERNOON TEMPERATURES WILL RAN...</td>\n",
              "      <td>TAKE EXTRA PRECAUTIONS IF YOU WORK OR SPEND TI...</td>\n",
              "      <td>Expected</td>\n",
              "      <td>Moderate</td>\n",
              "    </tr>\n",
              "  </tbody>\n",
              "</table>\n",
              "</div>\n",
              "    <div class=\"colab-df-buttons\">\n",
              "\n",
              "  <div class=\"colab-df-container\">\n",
              "    <button class=\"colab-df-convert\" onclick=\"convertToInteractive('df-523a95d1-0ba8-438a-82d6-85bb0066c317')\"\n",
              "            title=\"Convert this dataframe to an interactive table.\"\n",
              "            style=\"display:none;\">\n",
              "\n",
              "  <svg xmlns=\"http://www.w3.org/2000/svg\" height=\"24px\" viewBox=\"0 -960 960 960\">\n",
              "    <path d=\"M120-120v-720h720v720H120Zm60-500h600v-160H180v160Zm220 220h160v-160H400v160Zm0 220h160v-160H400v160ZM180-400h160v-160H180v160Zm440 0h160v-160H620v160ZM180-180h160v-160H180v160Zm440 0h160v-160H620v160Z\"/>\n",
              "  </svg>\n",
              "    </button>\n",
              "\n",
              "  <style>\n",
              "    .colab-df-container {\n",
              "      display:flex;\n",
              "      gap: 12px;\n",
              "    }\n",
              "\n",
              "    .colab-df-convert {\n",
              "      background-color: #E8F0FE;\n",
              "      border: none;\n",
              "      border-radius: 50%;\n",
              "      cursor: pointer;\n",
              "      display: none;\n",
              "      fill: #1967D2;\n",
              "      height: 32px;\n",
              "      padding: 0 0 0 0;\n",
              "      width: 32px;\n",
              "    }\n",
              "\n",
              "    .colab-df-convert:hover {\n",
              "      background-color: #E2EBFA;\n",
              "      box-shadow: 0px 1px 2px rgba(60, 64, 67, 0.3), 0px 1px 3px 1px rgba(60, 64, 67, 0.15);\n",
              "      fill: #174EA6;\n",
              "    }\n",
              "\n",
              "    .colab-df-buttons div {\n",
              "      margin-bottom: 4px;\n",
              "    }\n",
              "\n",
              "    [theme=dark] .colab-df-convert {\n",
              "      background-color: #3B4455;\n",
              "      fill: #D2E3FC;\n",
              "    }\n",
              "\n",
              "    [theme=dark] .colab-df-convert:hover {\n",
              "      background-color: #434B5C;\n",
              "      box-shadow: 0px 1px 3px 1px rgba(0, 0, 0, 0.15);\n",
              "      filter: drop-shadow(0px 1px 2px rgba(0, 0, 0, 0.3));\n",
              "      fill: #FFFFFF;\n",
              "    }\n",
              "  </style>\n",
              "\n",
              "    <script>\n",
              "      const buttonEl =\n",
              "        document.querySelector('#df-523a95d1-0ba8-438a-82d6-85bb0066c317 button.colab-df-convert');\n",
              "      buttonEl.style.display =\n",
              "        google.colab.kernel.accessAllowed ? 'block' : 'none';\n",
              "\n",
              "      async function convertToInteractive(key) {\n",
              "        const element = document.querySelector('#df-523a95d1-0ba8-438a-82d6-85bb0066c317');\n",
              "        const dataTable =\n",
              "          await google.colab.kernel.invokeFunction('convertToInteractive',\n",
              "                                                    [key], {});\n",
              "        if (!dataTable) return;\n",
              "\n",
              "        const docLinkHtml = 'Like what you see? Visit the ' +\n",
              "          '<a target=\"_blank\" href=https://colab.research.google.com/notebooks/data_table.ipynb>data table notebook</a>'\n",
              "          + ' to learn more about interactive tables.';\n",
              "        element.innerHTML = '';\n",
              "        dataTable['output_type'] = 'display_data';\n",
              "        await google.colab.output.renderOutput(dataTable, element);\n",
              "        const docLink = document.createElement('div');\n",
              "        docLink.innerHTML = docLinkHtml;\n",
              "        element.appendChild(docLink);\n",
              "      }\n",
              "    </script>\n",
              "  </div>\n",
              "\n",
              "\n",
              "<div id=\"df-ed83beeb-1b6d-4ea2-b106-fb7fbb748d73\">\n",
              "  <button class=\"colab-df-quickchart\" onclick=\"quickchart('df-ed83beeb-1b6d-4ea2-b106-fb7fbb748d73')\"\n",
              "            title=\"Suggest charts\"\n",
              "            style=\"display:none;\">\n",
              "\n",
              "<svg xmlns=\"http://www.w3.org/2000/svg\" height=\"24px\"viewBox=\"0 0 24 24\"\n",
              "     width=\"24px\">\n",
              "    <g>\n",
              "        <path d=\"M19 3H5c-1.1 0-2 .9-2 2v14c0 1.1.9 2 2 2h14c1.1 0 2-.9 2-2V5c0-1.1-.9-2-2-2zM9 17H7v-7h2v7zm4 0h-2V7h2v10zm4 0h-2v-4h2v4z\"/>\n",
              "    </g>\n",
              "</svg>\n",
              "  </button>\n",
              "\n",
              "<style>\n",
              "  .colab-df-quickchart {\n",
              "      --bg-color: #E8F0FE;\n",
              "      --fill-color: #1967D2;\n",
              "      --hover-bg-color: #E2EBFA;\n",
              "      --hover-fill-color: #174EA6;\n",
              "      --disabled-fill-color: #AAA;\n",
              "      --disabled-bg-color: #DDD;\n",
              "  }\n",
              "\n",
              "  [theme=dark] .colab-df-quickchart {\n",
              "      --bg-color: #3B4455;\n",
              "      --fill-color: #D2E3FC;\n",
              "      --hover-bg-color: #434B5C;\n",
              "      --hover-fill-color: #FFFFFF;\n",
              "      --disabled-bg-color: #3B4455;\n",
              "      --disabled-fill-color: #666;\n",
              "  }\n",
              "\n",
              "  .colab-df-quickchart {\n",
              "    background-color: var(--bg-color);\n",
              "    border: none;\n",
              "    border-radius: 50%;\n",
              "    cursor: pointer;\n",
              "    display: none;\n",
              "    fill: var(--fill-color);\n",
              "    height: 32px;\n",
              "    padding: 0;\n",
              "    width: 32px;\n",
              "  }\n",
              "\n",
              "  .colab-df-quickchart:hover {\n",
              "    background-color: var(--hover-bg-color);\n",
              "    box-shadow: 0 1px 2px rgba(60, 64, 67, 0.3), 0 1px 3px 1px rgba(60, 64, 67, 0.15);\n",
              "    fill: var(--button-hover-fill-color);\n",
              "  }\n",
              "\n",
              "  .colab-df-quickchart-complete:disabled,\n",
              "  .colab-df-quickchart-complete:disabled:hover {\n",
              "    background-color: var(--disabled-bg-color);\n",
              "    fill: var(--disabled-fill-color);\n",
              "    box-shadow: none;\n",
              "  }\n",
              "\n",
              "  .colab-df-spinner {\n",
              "    border: 2px solid var(--fill-color);\n",
              "    border-color: transparent;\n",
              "    border-bottom-color: var(--fill-color);\n",
              "    animation:\n",
              "      spin 1s steps(1) infinite;\n",
              "  }\n",
              "\n",
              "  @keyframes spin {\n",
              "    0% {\n",
              "      border-color: transparent;\n",
              "      border-bottom-color: var(--fill-color);\n",
              "      border-left-color: var(--fill-color);\n",
              "    }\n",
              "    20% {\n",
              "      border-color: transparent;\n",
              "      border-left-color: var(--fill-color);\n",
              "      border-top-color: var(--fill-color);\n",
              "    }\n",
              "    30% {\n",
              "      border-color: transparent;\n",
              "      border-left-color: var(--fill-color);\n",
              "      border-top-color: var(--fill-color);\n",
              "      border-right-color: var(--fill-color);\n",
              "    }\n",
              "    40% {\n",
              "      border-color: transparent;\n",
              "      border-right-color: var(--fill-color);\n",
              "      border-top-color: var(--fill-color);\n",
              "    }\n",
              "    60% {\n",
              "      border-color: transparent;\n",
              "      border-right-color: var(--fill-color);\n",
              "    }\n",
              "    80% {\n",
              "      border-color: transparent;\n",
              "      border-right-color: var(--fill-color);\n",
              "      border-bottom-color: var(--fill-color);\n",
              "    }\n",
              "    90% {\n",
              "      border-color: transparent;\n",
              "      border-bottom-color: var(--fill-color);\n",
              "    }\n",
              "  }\n",
              "</style>\n",
              "\n",
              "  <script>\n",
              "    async function quickchart(key) {\n",
              "      const quickchartButtonEl =\n",
              "        document.querySelector('#' + key + ' button');\n",
              "      quickchartButtonEl.disabled = true;  // To prevent multiple clicks.\n",
              "      quickchartButtonEl.classList.add('colab-df-spinner');\n",
              "      try {\n",
              "        const charts = await google.colab.kernel.invokeFunction(\n",
              "            'suggestCharts', [key], {});\n",
              "      } catch (error) {\n",
              "        console.error('Error during call to suggestCharts:', error);\n",
              "      }\n",
              "      quickchartButtonEl.classList.remove('colab-df-spinner');\n",
              "      quickchartButtonEl.classList.add('colab-df-quickchart-complete');\n",
              "    }\n",
              "    (() => {\n",
              "      let quickchartButtonEl =\n",
              "        document.querySelector('#df-ed83beeb-1b6d-4ea2-b106-fb7fbb748d73 button');\n",
              "      quickchartButtonEl.style.display =\n",
              "        google.colab.kernel.accessAllowed ? 'block' : 'none';\n",
              "    })();\n",
              "  </script>\n",
              "</div>\n",
              "\n",
              "    </div>\n",
              "  </div>\n"
            ],
            "application/vnd.google.colaboratory.intrinsic+json": {
              "type": "dataframe",
              "summary": "{\n  \"name\": \"df_alertas\",\n  \"rows\": 10,\n  \"fields\": [\n    {\n      \"column\": \"id\",\n      \"properties\": {\n        \"dtype\": \"string\",\n        \"num_unique_values\": 10,\n        \"samples\": [\n          \"5e6dc4f7023f1930ef0dfd64\",\n          \"5e6dd5f8023f1930ef566997\",\n          \"5e6dc75d023f1930ef18376f\"\n        ],\n        \"semantic_type\": \"\",\n        \"description\": \"\"\n      }\n    },\n    {\n      \"column\": \"event\",\n      \"properties\": {\n        \"dtype\": \"string\",\n        \"num_unique_values\": 7,\n        \"samples\": [\n          \"Flood Warning\",\n          \"Severe Thunderstorm Warning\",\n          \"Tropical Cyclone Statement\"\n        ],\n        \"semantic_type\": \"\",\n        \"description\": \"\"\n      }\n    },\n    {\n      \"column\": \"description\",\n      \"properties\": {\n        \"dtype\": \"string\",\n        \"num_unique_values\": 10,\n        \"samples\": [\n          \"The National Weather Service in Tucson has issued a  * Flood Advisory for  Northwestern Pima County in southeastern Arizona   * Until 930 PM MST  * At 625 PM MST, Doppler radar indicated heavy rain due to thunderstorms. This will cause minor flooding in the advisory area.  * Some locations that will experience flooding include  Organ Pipe National Monument, Santa Cruz, Kuakatch, Kupk, Pisinimo, Why, Pisinemo, Charco 27, Mountain Village, Covered Wells, Big Fields, Gu Vo, Gunsight, San Simon Village and Pia Oik. \",\n          \"Affecting the following counties in Iowa Black Hawk Cerro Gordo Floyd Humboldt Kossuth Palo Alto Pocahontas  Webster Worth Wright   The Flood Warning continues for all or portions of the following rivers in Iowa Shell Rock River West Fork Des Moines River   Affecting the following counties in Iowa Black Hawk Bremer  Butler Emmet  River forecasts include observed precipitation, as well as expected precipitation over the next 24 hours. The Flood Warning continues for The Winnebago River at Mason City, or From Beaver Creek near Fertile to the Shell Rock River near Rockford. * Until late Saturday evening. * At  8:30 PM Thursday the stage was 12.0 feet, or 2.0 feet above Flood Stage. * Flood Stage is 10.0 feet. * Minor flooding is occurring and is forecast to continue. * Forecast rise to 12.5 feet, or 2.5 feet above Flood Stage, Friday morning. Then begin falling and go below Flood Stage late Saturday evening. * Impact At 11.0 feet, Sandbagging occurs on the dike from 12th Street Northeast to Carolina Street. \",\n          \"THE NATIONAL WEATHER SERVICE IN TAUNTON HAS ISSUED A  * URBAN AND SMALL STREAM FLOOD ADVISORY FOR    SOUTHWESTERN TOLLAND COUNTY IN NORTHERN CONNECTICUT    SOUTHEASTERN HARTFORD COUNTY IN NORTHERN CONNECTICUT   * UNTIL 945 PM EDT  * AT 839 PM EDT DOPPLER RADAR INDICATED HEAVY RAIN MOVING BACK   INTO THE AREA THAT WILL LIKELY CAUSE RENEWED MINOR URBAN AND SMALL   STREAM FLOODING.   * OVERFLOWING POOR DRAINAGE AREAS WILL RESULT IN MINOR FLOODING IN   THE ADVISORY AREA. ALREADY THE AREA HAS BEEN SATURATED WITH   ROUGHLY 3 INCHES OF RAINFALL.   * IT IS POSSIBLE THIS ADVISORY WILL BE UPGRADED TO A WARNING.   * SOME LOCATIONS THAT WILL EXPERIENCE MINOR FLOODING INCLUDE   HARTFORD NEW BRITAIN WEST HARTFORD MANCHESTER    EAST HARTFORD GLASTONBURY NEWINGTON WETHERSFIELD    FARMINGTON BERLIN AND ROCKY HILL.\"\n        ],\n        \"semantic_type\": \"\",\n        \"description\": \"\"\n      }\n    },\n    {\n      \"column\": \"instruction\",\n      \"properties\": {\n        \"dtype\": \"string\",\n        \"num_unique_values\": 10,\n        \"samples\": [\n          \"Turn around, don't drown when encountering flooded roads. Most flood\\ndeaths occur in vehicles.\\n\\nBe especially cautious at night when it is harder to recognize the\\ndangers of flooding.\\n\\n\",\n          \"PRECAUTIONARY/PREPAREDNESS ACTIONS...\\n\\nIf you encounter a flooded area, turn around and find an alternate\\nroute. Turn around, do not drown.\\n\\nMore information--including impact statements and crest\\nhistories--is available on the Web at...  www.weather.gov/desmoines.\\nClick on the Rivers and Lakes link.\\n\\n\",\n          \"A FLOOD ADVISORY IS ISSUED FOR MINOR URBAN AND SMALL STREAM FLOODING.\\nDO NOT DRIVE THROUGH FLOODED ROADS.\\n\\nHEAVY RAINFALL WILL CAUSE PONDING OF WATER ON HIGHWAYS...STREETS AND\\nUNDERPASSES. DO NOT DRIVE THROUGH FLOODED ROADS.\\n\\n\"\n        ],\n        \"semantic_type\": \"\",\n        \"description\": \"\"\n      }\n    },\n    {\n      \"column\": \"urgency\",\n      \"properties\": {\n        \"dtype\": \"category\",\n        \"num_unique_values\": 3,\n        \"samples\": [\n          \"Immediate\",\n          \"Future\",\n          \"Expected\"\n        ],\n        \"semantic_type\": \"\",\n        \"description\": \"\"\n      }\n    },\n    {\n      \"column\": \"severity\",\n      \"properties\": {\n        \"dtype\": \"category\",\n        \"num_unique_values\": 3,\n        \"samples\": [\n          \"Severe\",\n          \"Minor\",\n          \"Moderate\"\n        ],\n        \"semantic_type\": \"\",\n        \"description\": \"\"\n      }\n    }\n  ]\n}"
            }
          },
          "metadata": {},
          "execution_count": 34
        }
      ]
    },
    {
      "cell_type": "markdown",
      "source": [
        "###Tokenización (Gi):\n",
        "\n",
        "Este paso tiene como objetivo dividir las cadenas de texto del documento en piezas más pequeñas o tokens.\n",
        "Aunque la tokenización es el proceso de dividir grandes cadenas de texto en cadenas más pequeñas, se suele diferenciar la:\n",
        "- Segmentation: Tarea de dividir grandes cadenas de texto en piezas más pequeñas como oraciones o párrafos.\n",
        "- Tokenization: Tarea de dividir grandes cadenas de texto solo y exclusivamente en palabras.\n",
        "\n",
        "###Normalización:\n",
        "La normalización es una tarea que tiene como objetivo poner todo el texto en igualdad de condiciones:\n",
        "- Convertir todo el texto en mayúscula o minúsculas\n",
        "- Eliminar, puntos, comas, comillas, etc.\n",
        "- Convertir los números a su equivalente a palabras\n",
        "- Quitar las Stop-words\n",
        "Empezamos con pasar todo el texto a minuscula:\n",
        "\n",
        "\n"
      ],
      "metadata": {
        "id": "oBF5eHWAlntG"
      }
    },
    {
      "cell_type": "code",
      "source": [
        "df_alertas['description'] = df_alertas['description'].str.lower()\n",
        "df_alertas['description'].iloc[1431674] #Probamos esa fila"
      ],
      "metadata": {
        "colab": {
          "base_uri": "https://localhost:8080/",
          "height": 70
        },
        "id": "xYQaMCa1m6Ki",
        "outputId": "5e4daf93-5467-4857-877a-1ed2dae6efb2"
      },
      "execution_count": 35,
      "outputs": [
        {
          "output_type": "execute_result",
          "data": {
            "text/plain": [
              "'* what temperatures up to 103 expected.  * where middle rio grande valley including the albuquerque metro area, northwest plateau, and west central plateau.  * when from noon to 8 pm mdt wednesday.  * impacts hot temperatures may cause heat illnesses. '"
            ],
            "application/vnd.google.colaboratory.intrinsic+json": {
              "type": "string"
            }
          },
          "metadata": {},
          "execution_count": 35
        }
      ]
    },
    {
      "cell_type": "markdown",
      "source": [
        "Eliminar, puntos, comas, comillas, etc. Para ello utilizamos expresiones regulares."
      ],
      "metadata": {
        "id": "bPMdmSEwn0K6"
      }
    },
    {
      "cell_type": "code",
      "source": [
        "import re\n",
        "\n",
        "# Eliminar puntuación usando expresiones regulares\n",
        "df_alertas['description'] = df_alertas['description'].str.replace(r'[^\\w\\s]', '', regex=True)\n",
        "\n",
        "df_alertas['description'].iloc[1431674] #Probamos esa fila"
      ],
      "metadata": {
        "colab": {
          "base_uri": "https://localhost:8080/",
          "height": 70
        },
        "id": "5MJEYlPBn1lw",
        "outputId": "e09e4508-5c1c-42f7-944a-0774c7ff02b6"
      },
      "execution_count": 36,
      "outputs": [
        {
          "output_type": "execute_result",
          "data": {
            "text/plain": [
              "' what temperatures up to 103 expected   where middle rio grande valley including the albuquerque metro area northwest plateau and west central plateau   when from noon to 8 pm mdt wednesday   impacts hot temperatures may cause heat illnesses '"
            ],
            "application/vnd.google.colaboratory.intrinsic+json": {
              "type": "string"
            }
          },
          "metadata": {},
          "execution_count": 36
        }
      ]
    },
    {
      "cell_type": "markdown",
      "source": [
        "Pasando numeros a letras. Usamos la libreria num2words"
      ],
      "metadata": {
        "id": "f1AZ3JzupiWZ"
      }
    },
    {
      "cell_type": "code",
      "source": [
        "!pip install num2words\n"
      ],
      "metadata": {
        "colab": {
          "base_uri": "https://localhost:8080/"
        },
        "id": "WZb6ZAP4pdSH",
        "outputId": "2939d85c-dac3-4b0a-a0c9-ba5cd545dbf6"
      },
      "execution_count": 37,
      "outputs": [
        {
          "output_type": "stream",
          "name": "stdout",
          "text": [
            "Requirement already satisfied: num2words in /usr/local/lib/python3.10/dist-packages (0.5.13)\n",
            "Requirement already satisfied: docopt>=0.6.2 in /usr/local/lib/python3.10/dist-packages (from num2words) (0.6.2)\n"
          ]
        }
      ]
    },
    {
      "cell_type": "code",
      "source": [
        "from num2words import num2words\n",
        "\n",
        "# Función para extraer números de una cadena de texto y convertirlos en palabras\n",
        "def convert_numbers_to_words(text):\n",
        "    numbers = re.findall(r'\\d+', text) #Busca numeros\n",
        "    for number in numbers:\n",
        "        text = text.replace(number, num2words(int(number)))\n",
        "    return text\n",
        "\n",
        "df_alertas['description'] = df_alertas['description'].apply(convert_numbers_to_words)\n",
        "\n",
        "df_alertas['description'].iloc[1431674] #Probamos esa fila"
      ],
      "metadata": {
        "colab": {
          "base_uri": "https://localhost:8080/",
          "height": 70
        },
        "id": "0FbODkEarlRT",
        "outputId": "50335999-af08-4f15-b21c-ce1dfbf9d41c"
      },
      "execution_count": 38,
      "outputs": [
        {
          "output_type": "execute_result",
          "data": {
            "text/plain": [
              "' what temperatures up to one hundred and three expected   where middle rio grande valley including the albuquerque metro area northwest plateau and west central plateau   when from noon to eight pm mdt wednesday   impacts hot temperatures may cause heat illnesses '"
            ],
            "application/vnd.google.colaboratory.intrinsic+json": {
              "type": "string"
            }
          },
          "metadata": {},
          "execution_count": 38
        }
      ]
    },
    {
      "cell_type": "markdown",
      "source": [
        "Ahora las se elimina las stop words que son palabras que se filtran o eliminan del texto durante el procesamiento del lenguaje natural (NLP) porque se consideran comunes y no aportan un significado informativo específico para el análisis. Usamos la libreria spacy"
      ],
      "metadata": {
        "id": "OiGY8PPzrknC"
      }
    },
    {
      "cell_type": "code",
      "source": [
        "!pip install spacy\n",
        "!python -m spacy download en_core_web_sm"
      ],
      "metadata": {
        "colab": {
          "base_uri": "https://localhost:8080/"
        },
        "id": "T_AM-pbivKeB",
        "outputId": "9f633fa4-3f6e-4759-c0b6-361071a3077e"
      },
      "execution_count": 19,
      "outputs": [
        {
          "output_type": "stream",
          "name": "stdout",
          "text": [
            "Requirement already satisfied: spacy in /usr/local/lib/python3.10/dist-packages (3.7.4)\n",
            "Requirement already satisfied: spacy-legacy<3.1.0,>=3.0.11 in /usr/local/lib/python3.10/dist-packages (from spacy) (3.0.12)\n",
            "Requirement already satisfied: spacy-loggers<2.0.0,>=1.0.0 in /usr/local/lib/python3.10/dist-packages (from spacy) (1.0.5)\n",
            "Requirement already satisfied: murmurhash<1.1.0,>=0.28.0 in /usr/local/lib/python3.10/dist-packages (from spacy) (1.0.10)\n",
            "Requirement already satisfied: cymem<2.1.0,>=2.0.2 in /usr/local/lib/python3.10/dist-packages (from spacy) (2.0.8)\n",
            "Requirement already satisfied: preshed<3.1.0,>=3.0.2 in /usr/local/lib/python3.10/dist-packages (from spacy) (3.0.9)\n",
            "Requirement already satisfied: thinc<8.3.0,>=8.2.2 in /usr/local/lib/python3.10/dist-packages (from spacy) (8.2.3)\n",
            "Requirement already satisfied: wasabi<1.2.0,>=0.9.1 in /usr/local/lib/python3.10/dist-packages (from spacy) (1.1.2)\n",
            "Requirement already satisfied: srsly<3.0.0,>=2.4.3 in /usr/local/lib/python3.10/dist-packages (from spacy) (2.4.8)\n",
            "Requirement already satisfied: catalogue<2.1.0,>=2.0.6 in /usr/local/lib/python3.10/dist-packages (from spacy) (2.0.10)\n",
            "Requirement already satisfied: weasel<0.4.0,>=0.1.0 in /usr/local/lib/python3.10/dist-packages (from spacy) (0.3.4)\n",
            "Requirement already satisfied: typer<0.10.0,>=0.3.0 in /usr/local/lib/python3.10/dist-packages (from spacy) (0.9.4)\n",
            "Requirement already satisfied: smart-open<7.0.0,>=5.2.1 in /usr/local/lib/python3.10/dist-packages (from spacy) (6.4.0)\n",
            "Requirement already satisfied: tqdm<5.0.0,>=4.38.0 in /usr/local/lib/python3.10/dist-packages (from spacy) (4.66.4)\n",
            "Requirement already satisfied: requests<3.0.0,>=2.13.0 in /usr/local/lib/python3.10/dist-packages (from spacy) (2.31.0)\n",
            "Requirement already satisfied: pydantic!=1.8,!=1.8.1,<3.0.0,>=1.7.4 in /usr/local/lib/python3.10/dist-packages (from spacy) (2.7.1)\n",
            "Requirement already satisfied: jinja2 in /usr/local/lib/python3.10/dist-packages (from spacy) (3.1.4)\n",
            "Requirement already satisfied: setuptools in /usr/local/lib/python3.10/dist-packages (from spacy) (67.7.2)\n",
            "Requirement already satisfied: packaging>=20.0 in /usr/local/lib/python3.10/dist-packages (from spacy) (24.0)\n",
            "Requirement already satisfied: langcodes<4.0.0,>=3.2.0 in /usr/local/lib/python3.10/dist-packages (from spacy) (3.4.0)\n",
            "Requirement already satisfied: numpy>=1.19.0 in /usr/local/lib/python3.10/dist-packages (from spacy) (1.25.2)\n",
            "Requirement already satisfied: language-data>=1.2 in /usr/local/lib/python3.10/dist-packages (from langcodes<4.0.0,>=3.2.0->spacy) (1.2.0)\n",
            "Requirement already satisfied: annotated-types>=0.4.0 in /usr/local/lib/python3.10/dist-packages (from pydantic!=1.8,!=1.8.1,<3.0.0,>=1.7.4->spacy) (0.7.0)\n",
            "Requirement already satisfied: pydantic-core==2.18.2 in /usr/local/lib/python3.10/dist-packages (from pydantic!=1.8,!=1.8.1,<3.0.0,>=1.7.4->spacy) (2.18.2)\n",
            "Requirement already satisfied: typing-extensions>=4.6.1 in /usr/local/lib/python3.10/dist-packages (from pydantic!=1.8,!=1.8.1,<3.0.0,>=1.7.4->spacy) (4.11.0)\n",
            "Requirement already satisfied: charset-normalizer<4,>=2 in /usr/local/lib/python3.10/dist-packages (from requests<3.0.0,>=2.13.0->spacy) (3.3.2)\n",
            "Requirement already satisfied: idna<4,>=2.5 in /usr/local/lib/python3.10/dist-packages (from requests<3.0.0,>=2.13.0->spacy) (3.7)\n",
            "Requirement already satisfied: urllib3<3,>=1.21.1 in /usr/local/lib/python3.10/dist-packages (from requests<3.0.0,>=2.13.0->spacy) (2.0.7)\n",
            "Requirement already satisfied: certifi>=2017.4.17 in /usr/local/lib/python3.10/dist-packages (from requests<3.0.0,>=2.13.0->spacy) (2024.2.2)\n",
            "Requirement already satisfied: blis<0.8.0,>=0.7.8 in /usr/local/lib/python3.10/dist-packages (from thinc<8.3.0,>=8.2.2->spacy) (0.7.11)\n",
            "Requirement already satisfied: confection<1.0.0,>=0.0.1 in /usr/local/lib/python3.10/dist-packages (from thinc<8.3.0,>=8.2.2->spacy) (0.1.4)\n",
            "Requirement already satisfied: click<9.0.0,>=7.1.1 in /usr/local/lib/python3.10/dist-packages (from typer<0.10.0,>=0.3.0->spacy) (8.1.7)\n",
            "Requirement already satisfied: cloudpathlib<0.17.0,>=0.7.0 in /usr/local/lib/python3.10/dist-packages (from weasel<0.4.0,>=0.1.0->spacy) (0.16.0)\n",
            "Requirement already satisfied: MarkupSafe>=2.0 in /usr/local/lib/python3.10/dist-packages (from jinja2->spacy) (2.1.5)\n",
            "Requirement already satisfied: marisa-trie>=0.7.7 in /usr/local/lib/python3.10/dist-packages (from language-data>=1.2->langcodes<4.0.0,>=3.2.0->spacy) (1.1.1)\n",
            "Collecting en-core-web-sm==3.7.1\n",
            "  Downloading https://github.com/explosion/spacy-models/releases/download/en_core_web_sm-3.7.1/en_core_web_sm-3.7.1-py3-none-any.whl (12.8 MB)\n",
            "\u001b[2K     \u001b[90m━━━━━━━━━━━━━━━━━━━━━━━━━━━━━━━━━━━━━━━━\u001b[0m \u001b[32m12.8/12.8 MB\u001b[0m \u001b[31m69.5 MB/s\u001b[0m eta \u001b[36m0:00:00\u001b[0m\n",
            "\u001b[?25hRequirement already satisfied: spacy<3.8.0,>=3.7.2 in /usr/local/lib/python3.10/dist-packages (from en-core-web-sm==3.7.1) (3.7.4)\n",
            "Requirement already satisfied: spacy-legacy<3.1.0,>=3.0.11 in /usr/local/lib/python3.10/dist-packages (from spacy<3.8.0,>=3.7.2->en-core-web-sm==3.7.1) (3.0.12)\n",
            "Requirement already satisfied: spacy-loggers<2.0.0,>=1.0.0 in /usr/local/lib/python3.10/dist-packages (from spacy<3.8.0,>=3.7.2->en-core-web-sm==3.7.1) (1.0.5)\n",
            "Requirement already satisfied: murmurhash<1.1.0,>=0.28.0 in /usr/local/lib/python3.10/dist-packages (from spacy<3.8.0,>=3.7.2->en-core-web-sm==3.7.1) (1.0.10)\n",
            "Requirement already satisfied: cymem<2.1.0,>=2.0.2 in /usr/local/lib/python3.10/dist-packages (from spacy<3.8.0,>=3.7.2->en-core-web-sm==3.7.1) (2.0.8)\n",
            "Requirement already satisfied: preshed<3.1.0,>=3.0.2 in /usr/local/lib/python3.10/dist-packages (from spacy<3.8.0,>=3.7.2->en-core-web-sm==3.7.1) (3.0.9)\n",
            "Requirement already satisfied: thinc<8.3.0,>=8.2.2 in /usr/local/lib/python3.10/dist-packages (from spacy<3.8.0,>=3.7.2->en-core-web-sm==3.7.1) (8.2.3)\n",
            "Requirement already satisfied: wasabi<1.2.0,>=0.9.1 in /usr/local/lib/python3.10/dist-packages (from spacy<3.8.0,>=3.7.2->en-core-web-sm==3.7.1) (1.1.2)\n",
            "Requirement already satisfied: srsly<3.0.0,>=2.4.3 in /usr/local/lib/python3.10/dist-packages (from spacy<3.8.0,>=3.7.2->en-core-web-sm==3.7.1) (2.4.8)\n",
            "Requirement already satisfied: catalogue<2.1.0,>=2.0.6 in /usr/local/lib/python3.10/dist-packages (from spacy<3.8.0,>=3.7.2->en-core-web-sm==3.7.1) (2.0.10)\n",
            "Requirement already satisfied: weasel<0.4.0,>=0.1.0 in /usr/local/lib/python3.10/dist-packages (from spacy<3.8.0,>=3.7.2->en-core-web-sm==3.7.1) (0.3.4)\n",
            "Requirement already satisfied: typer<0.10.0,>=0.3.0 in /usr/local/lib/python3.10/dist-packages (from spacy<3.8.0,>=3.7.2->en-core-web-sm==3.7.1) (0.9.4)\n",
            "Requirement already satisfied: smart-open<7.0.0,>=5.2.1 in /usr/local/lib/python3.10/dist-packages (from spacy<3.8.0,>=3.7.2->en-core-web-sm==3.7.1) (6.4.0)\n",
            "Requirement already satisfied: tqdm<5.0.0,>=4.38.0 in /usr/local/lib/python3.10/dist-packages (from spacy<3.8.0,>=3.7.2->en-core-web-sm==3.7.1) (4.66.4)\n",
            "Requirement already satisfied: requests<3.0.0,>=2.13.0 in /usr/local/lib/python3.10/dist-packages (from spacy<3.8.0,>=3.7.2->en-core-web-sm==3.7.1) (2.31.0)\n",
            "Requirement already satisfied: pydantic!=1.8,!=1.8.1,<3.0.0,>=1.7.4 in /usr/local/lib/python3.10/dist-packages (from spacy<3.8.0,>=3.7.2->en-core-web-sm==3.7.1) (2.7.1)\n",
            "Requirement already satisfied: jinja2 in /usr/local/lib/python3.10/dist-packages (from spacy<3.8.0,>=3.7.2->en-core-web-sm==3.7.1) (3.1.4)\n",
            "Requirement already satisfied: setuptools in /usr/local/lib/python3.10/dist-packages (from spacy<3.8.0,>=3.7.2->en-core-web-sm==3.7.1) (67.7.2)\n",
            "Requirement already satisfied: packaging>=20.0 in /usr/local/lib/python3.10/dist-packages (from spacy<3.8.0,>=3.7.2->en-core-web-sm==3.7.1) (24.0)\n",
            "Requirement already satisfied: langcodes<4.0.0,>=3.2.0 in /usr/local/lib/python3.10/dist-packages (from spacy<3.8.0,>=3.7.2->en-core-web-sm==3.7.1) (3.4.0)\n",
            "Requirement already satisfied: numpy>=1.19.0 in /usr/local/lib/python3.10/dist-packages (from spacy<3.8.0,>=3.7.2->en-core-web-sm==3.7.1) (1.25.2)\n",
            "Requirement already satisfied: language-data>=1.2 in /usr/local/lib/python3.10/dist-packages (from langcodes<4.0.0,>=3.2.0->spacy<3.8.0,>=3.7.2->en-core-web-sm==3.7.1) (1.2.0)\n",
            "Requirement already satisfied: annotated-types>=0.4.0 in /usr/local/lib/python3.10/dist-packages (from pydantic!=1.8,!=1.8.1,<3.0.0,>=1.7.4->spacy<3.8.0,>=3.7.2->en-core-web-sm==3.7.1) (0.7.0)\n",
            "Requirement already satisfied: pydantic-core==2.18.2 in /usr/local/lib/python3.10/dist-packages (from pydantic!=1.8,!=1.8.1,<3.0.0,>=1.7.4->spacy<3.8.0,>=3.7.2->en-core-web-sm==3.7.1) (2.18.2)\n",
            "Requirement already satisfied: typing-extensions>=4.6.1 in /usr/local/lib/python3.10/dist-packages (from pydantic!=1.8,!=1.8.1,<3.0.0,>=1.7.4->spacy<3.8.0,>=3.7.2->en-core-web-sm==3.7.1) (4.11.0)\n",
            "Requirement already satisfied: charset-normalizer<4,>=2 in /usr/local/lib/python3.10/dist-packages (from requests<3.0.0,>=2.13.0->spacy<3.8.0,>=3.7.2->en-core-web-sm==3.7.1) (3.3.2)\n",
            "Requirement already satisfied: idna<4,>=2.5 in /usr/local/lib/python3.10/dist-packages (from requests<3.0.0,>=2.13.0->spacy<3.8.0,>=3.7.2->en-core-web-sm==3.7.1) (3.7)\n",
            "Requirement already satisfied: urllib3<3,>=1.21.1 in /usr/local/lib/python3.10/dist-packages (from requests<3.0.0,>=2.13.0->spacy<3.8.0,>=3.7.2->en-core-web-sm==3.7.1) (2.0.7)\n",
            "Requirement already satisfied: certifi>=2017.4.17 in /usr/local/lib/python3.10/dist-packages (from requests<3.0.0,>=2.13.0->spacy<3.8.0,>=3.7.2->en-core-web-sm==3.7.1) (2024.2.2)\n",
            "Requirement already satisfied: blis<0.8.0,>=0.7.8 in /usr/local/lib/python3.10/dist-packages (from thinc<8.3.0,>=8.2.2->spacy<3.8.0,>=3.7.2->en-core-web-sm==3.7.1) (0.7.11)\n",
            "Requirement already satisfied: confection<1.0.0,>=0.0.1 in /usr/local/lib/python3.10/dist-packages (from thinc<8.3.0,>=8.2.2->spacy<3.8.0,>=3.7.2->en-core-web-sm==3.7.1) (0.1.4)\n",
            "Requirement already satisfied: click<9.0.0,>=7.1.1 in /usr/local/lib/python3.10/dist-packages (from typer<0.10.0,>=0.3.0->spacy<3.8.0,>=3.7.2->en-core-web-sm==3.7.1) (8.1.7)\n",
            "Requirement already satisfied: cloudpathlib<0.17.0,>=0.7.0 in /usr/local/lib/python3.10/dist-packages (from weasel<0.4.0,>=0.1.0->spacy<3.8.0,>=3.7.2->en-core-web-sm==3.7.1) (0.16.0)\n",
            "Requirement already satisfied: MarkupSafe>=2.0 in /usr/local/lib/python3.10/dist-packages (from jinja2->spacy<3.8.0,>=3.7.2->en-core-web-sm==3.7.1) (2.1.5)\n",
            "Requirement already satisfied: marisa-trie>=0.7.7 in /usr/local/lib/python3.10/dist-packages (from language-data>=1.2->langcodes<4.0.0,>=3.2.0->spacy<3.8.0,>=3.7.2->en-core-web-sm==3.7.1) (1.1.1)\n",
            "\u001b[38;5;2m✔ Download and installation successful\u001b[0m\n",
            "You can now load the package via spacy.load('en_core_web_sm')\n",
            "\u001b[38;5;3m⚠ Restart to reload dependencies\u001b[0m\n",
            "If you are in a Jupyter or Colab notebook, you may need to restart Python in\n",
            "order to load all the package's dependencies. You can do this by selecting the\n",
            "'Restart kernel' or 'Restart runtime' option.\n"
          ]
        }
      ]
    },
    {
      "cell_type": "code",
      "source": [
        "\n",
        "import spacy\n",
        "\n",
        "nlp = spacy.load(\"en_core_web_sm\")\n",
        "\n",
        "def quitar_stopwords(text):\n",
        "    doc = nlp(text)\n",
        "    filtered_text = ' '.join(token.text for token in doc if not token.is_stop)\n",
        "    return filtered_text\n",
        "\n",
        "df_alertas['description'] = df_alertas['description'].apply(quitar_stopwords)\n",
        "\n",
        "df_alertas['description'].iloc[1431674] #Probamos esa fila"
      ],
      "metadata": {
        "colab": {
          "base_uri": "https://localhost:8080/"
        },
        "id": "-RH4JeFs_DJE",
        "outputId": "65a40885-dfce-4361-e42a-3e11944cf995"
      },
      "execution_count": null,
      "outputs": [
        {
          "output_type": "stream",
          "name": "stderr",
          "text": [
            "/usr/local/lib/python3.10/dist-packages/spacy/util.py:1740: UserWarning: [W111] Jupyter notebook detected: if using `prefer_gpu()` or `require_gpu()`, include it in the same cell right before `spacy.load()` to ensure that the model is loaded on the correct device. More information: http://spacy.io/usage/v3#jupyter-notebook-gpu\n",
            "  warnings.warn(Warnings.W111)\n"
          ]
        }
      ]
    }
  ]
}